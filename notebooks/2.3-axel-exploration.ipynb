{
 "cells": [
  {
   "cell_type": "markdown",
   "source": "# Exploration: vaccines",
   "metadata": {
    "tags": [],
    "is_collapsed": false,
    "cell_id": "00000-148d057b-e9cb-49b1-8bb6-147cd5c21346",
    "deepnote_cell_type": "text-cell-h1"
   }
  },
  {
   "cell_type": "markdown",
   "source": "Here we explore everything related to vaccinations. This notebook includes the exploration of:\n\n* Vaccinations in general.\n* *Plan Vacunarse*, a program the Government implemented early in 2021.\n* Vaccines manufacturers.",
   "metadata": {
    "tags": [],
    "cell_id": "00001-423ce50b-b56d-4584-9dd5-aa8a55a03f85",
    "deepnote_cell_type": "markdown"
   }
  },
  {
   "cell_type": "code",
   "metadata": {
    "tags": [],
    "cell_id": "00000-48b82c6f-9495-40ae-a47c-7e64f698ccb3",
    "deepnote_to_be_reexecuted": false,
    "source_hash": "2f19d1f9",
    "execution_start": 1639416393096,
    "execution_millis": 764,
    "deepnote_cell_type": "code"
   },
   "source": "%load_ext autoreload\n%autoreload 2",
   "execution_count": null,
   "outputs": []
  },
  {
   "cell_type": "code",
   "metadata": {
    "tags": [],
    "cell_id": "00002-ba5c71dc-429d-4411-b7ba-24b59b000816",
    "deepnote_to_be_reexecuted": false,
    "source_hash": "c516df8c",
    "execution_start": 1639416397099,
    "execution_millis": 2769,
    "deepnote_cell_type": "code"
   },
   "source": "#libs\nimport pandas as pd\nimport numpy as np\nimport matplotlib.pyplot as plt\nimport seaborn as sns",
   "execution_count": null,
   "outputs": []
  },
  {
   "cell_type": "markdown",
   "source": "## Plan vacunarse",
   "metadata": {
    "tags": [],
    "is_collapsed": false,
    "cell_id": "00003-dbb9a1c2-fff3-4bf3-849d-6d8a4a679012",
    "deepnote_cell_type": "text-cell-h2"
   }
  },
  {
   "cell_type": "code",
   "metadata": {
    "tags": [],
    "cell_id": "00003-0fd14a1b-5bad-4edd-8f9f-66973da18a14",
    "deepnote_to_be_reexecuted": false,
    "source_hash": "4ec4dc66",
    "execution_start": 1639416402595,
    "execution_millis": 100,
    "deepnote_cell_type": "code"
   },
   "source": "df_plan_vacunarse = pd.read_csv('/work/covid-19_ecuador/data/processed/vacc_plan_vacunarse.csv')",
   "execution_count": null,
   "outputs": []
  },
  {
   "cell_type": "code",
   "metadata": {
    "tags": [],
    "cell_id": "00004-1025e20f-9e4e-484c-bb1a-131c249490a6",
    "deepnote_to_be_reexecuted": false,
    "source_hash": "ec2443b0",
    "execution_start": 1638992196342,
    "execution_millis": 58,
    "deepnote_cell_type": "code"
   },
   "source": "df_plan_vacunarse.head()",
   "execution_count": null,
   "outputs": [
    {
     "output_type": "execute_result",
     "execution_count": 4,
     "data": {
      "application/vnd.deepnote.dataframe.v2+json": {
       "row_count": 5,
       "column_count": 3,
       "columns": [
        {
         "name": "fecha",
         "dtype": "object",
         "stats": {
          "unique_count": 5,
          "nan_count": 0,
          "categories": [
           {
            "name": "2021-01-21",
            "count": 1
           },
           {
            "name": "2021-01-22",
            "count": 1
           },
           {
            "name": "3 others",
            "count": 3
           }
          ]
         }
        },
        {
         "name": "primera_dosis",
         "dtype": "int64",
         "stats": {
          "unique_count": 5,
          "nan_count": 0,
          "min": "0",
          "max": "1500",
          "histogram": [
           {
            "bin_start": 0,
            "bin_end": 150,
            "count": 2
           },
           {
            "bin_start": 150,
            "bin_end": 300,
            "count": 0
           },
           {
            "bin_start": 300,
            "bin_end": 450,
            "count": 0
           },
           {
            "bin_start": 450,
            "bin_end": 600,
            "count": 1
           },
           {
            "bin_start": 600,
            "bin_end": 750,
            "count": 1
           },
           {
            "bin_start": 750,
            "bin_end": 900,
            "count": 0
           },
           {
            "bin_start": 900,
            "bin_end": 1050,
            "count": 0
           },
           {
            "bin_start": 1050,
            "bin_end": 1200,
            "count": 0
           },
           {
            "bin_start": 1200,
            "bin_end": 1350,
            "count": 0
           },
           {
            "bin_start": 1350,
            "bin_end": 1500,
            "count": 1
           }
          ]
         }
        },
        {
         "name": "segunda_dosis",
         "dtype": "int64",
         "stats": {
          "unique_count": 2,
          "nan_count": 0,
          "min": "0",
          "max": "1",
          "histogram": [
           {
            "bin_start": 0,
            "bin_end": 0.1,
            "count": 4
           },
           {
            "bin_start": 0.1,
            "bin_end": 0.2,
            "count": 0
           },
           {
            "bin_start": 0.2,
            "bin_end": 0.30000000000000004,
            "count": 0
           },
           {
            "bin_start": 0.30000000000000004,
            "bin_end": 0.4,
            "count": 0
           },
           {
            "bin_start": 0.4,
            "bin_end": 0.5,
            "count": 0
           },
           {
            "bin_start": 0.5,
            "bin_end": 0.6000000000000001,
            "count": 0
           },
           {
            "bin_start": 0.6000000000000001,
            "bin_end": 0.7000000000000001,
            "count": 0
           },
           {
            "bin_start": 0.7000000000000001,
            "bin_end": 0.8,
            "count": 0
           },
           {
            "bin_start": 0.8,
            "bin_end": 0.9,
            "count": 0
           },
           {
            "bin_start": 0.9,
            "bin_end": 1,
            "count": 1
           }
          ]
         }
        },
        {
         "name": "_deepnote_index_column",
         "dtype": "int64"
        }
       ],
       "rows_top": [
        {
         "fecha": "2021-01-21",
         "primera_dosis": 1500,
         "segunda_dosis": 0,
         "_deepnote_index_column": 0
        },
        {
         "fecha": "2021-01-22",
         "primera_dosis": 539,
         "segunda_dosis": 1,
         "_deepnote_index_column": 1
        },
        {
         "fecha": "2021-01-23",
         "primera_dosis": 31,
         "segunda_dosis": 0,
         "_deepnote_index_column": 2
        },
        {
         "fecha": "2021-01-24",
         "primera_dosis": 0,
         "segunda_dosis": 0,
         "_deepnote_index_column": 3
        },
        {
         "fecha": "2021-01-25",
         "primera_dosis": 622,
         "segunda_dosis": 0,
         "_deepnote_index_column": 4
        }
       ],
       "rows_bottom": null
      },
      "text/plain": "        fecha  primera_dosis  segunda_dosis\n0  2021-01-21           1500              0\n1  2021-01-22            539              1\n2  2021-01-23             31              0\n3  2021-01-24              0              0\n4  2021-01-25            622              0",
      "text/html": "<div>\n<style scoped>\n    .dataframe tbody tr th:only-of-type {\n        vertical-align: middle;\n    }\n\n    .dataframe tbody tr th {\n        vertical-align: top;\n    }\n\n    .dataframe thead th {\n        text-align: right;\n    }\n</style>\n<table border=\"1\" class=\"dataframe\">\n  <thead>\n    <tr style=\"text-align: right;\">\n      <th></th>\n      <th>fecha</th>\n      <th>primera_dosis</th>\n      <th>segunda_dosis</th>\n    </tr>\n  </thead>\n  <tbody>\n    <tr>\n      <th>0</th>\n      <td>2021-01-21</td>\n      <td>1500</td>\n      <td>0</td>\n    </tr>\n    <tr>\n      <th>1</th>\n      <td>2021-01-22</td>\n      <td>539</td>\n      <td>1</td>\n    </tr>\n    <tr>\n      <th>2</th>\n      <td>2021-01-23</td>\n      <td>31</td>\n      <td>0</td>\n    </tr>\n    <tr>\n      <th>3</th>\n      <td>2021-01-24</td>\n      <td>0</td>\n      <td>0</td>\n    </tr>\n    <tr>\n      <th>4</th>\n      <td>2021-01-25</td>\n      <td>622</td>\n      <td>0</td>\n    </tr>\n  </tbody>\n</table>\n</div>"
     },
     "metadata": {}
    }
   ]
  },
  {
   "cell_type": "code",
   "metadata": {
    "tags": [],
    "cell_id": "00005-a995ab51-63b3-40be-b5d6-5ba853d0af58",
    "deepnote_to_be_reexecuted": false,
    "source_hash": "f0dc4f9",
    "execution_start": 1638992196402,
    "execution_millis": 25,
    "deepnote_output_heights": [
     232.3125
    ],
    "deepnote_cell_type": "code"
   },
   "source": "df_plan_vacunarse.fecha = pd.to_datetime(df_plan_vacunarse.fecha, format='%Y/%m/%d')",
   "execution_count": null,
   "outputs": []
  },
  {
   "cell_type": "code",
   "metadata": {
    "tags": [],
    "cell_id": "00005-c27eec30-0e0c-424d-b9df-36d86ce2ca38",
    "deepnote_to_be_reexecuted": false,
    "source_hash": "f9cd3742",
    "execution_start": 1638992196471,
    "execution_millis": 3,
    "deepnote_output_heights": [
     21.1875
    ],
    "deepnote_cell_type": "code"
   },
   "source": "df_plan_vacunarse.shape",
   "execution_count": null,
   "outputs": [
    {
     "output_type": "execute_result",
     "execution_count": 6,
     "data": {
      "text/plain": "(118, 3)"
     },
     "metadata": {}
    }
   ]
  },
  {
   "cell_type": "code",
   "metadata": {
    "tags": [],
    "cell_id": "00006-7906b1de-a284-43a3-89f6-c2014c756191",
    "deepnote_to_be_reexecuted": false,
    "source_hash": "4d162e0c",
    "execution_start": 1638992196472,
    "execution_millis": 87,
    "deepnote_output_heights": [
     264
    ],
    "deepnote_cell_type": "code"
   },
   "source": "df_plan_vacunarse.describe()",
   "execution_count": null,
   "outputs": [
    {
     "output_type": "execute_result",
     "execution_count": 7,
     "data": {
      "application/vnd.deepnote.dataframe.v2+json": {
       "row_count": 8,
       "column_count": 2,
       "columns": [
        {
         "name": "primera_dosis",
         "dtype": "float64",
         "stats": {
          "unique_count": 8,
          "nan_count": 0,
          "min": "0.0",
          "max": "62277.0",
          "histogram": [
           {
            "bin_start": 0,
            "bin_end": 6227.7,
            "count": 4
           },
           {
            "bin_start": 6227.7,
            "bin_end": 12455.4,
            "count": 1
           },
           {
            "bin_start": 12455.4,
            "bin_end": 18683.1,
            "count": 2
           },
           {
            "bin_start": 18683.1,
            "bin_end": 24910.8,
            "count": 0
           },
           {
            "bin_start": 24910.8,
            "bin_end": 31138.5,
            "count": 0
           },
           {
            "bin_start": 31138.5,
            "bin_end": 37366.2,
            "count": 0
           },
           {
            "bin_start": 37366.2,
            "bin_end": 43593.9,
            "count": 0
           },
           {
            "bin_start": 43593.9,
            "bin_end": 49821.6,
            "count": 0
           },
           {
            "bin_start": 49821.6,
            "bin_end": 56049.299999999996,
            "count": 0
           },
           {
            "bin_start": 56049.299999999996,
            "bin_end": 62277,
            "count": 1
           }
          ]
         }
        },
        {
         "name": "segunda_dosis",
         "dtype": "float64",
         "stats": {
          "unique_count": 8,
          "nan_count": 0,
          "min": "0.0",
          "max": "18956.0",
          "histogram": [
           {
            "bin_start": 0,
            "bin_end": 1895.6,
            "count": 4
           },
           {
            "bin_start": 1895.6,
            "bin_end": 3791.2,
            "count": 1
           },
           {
            "bin_start": 3791.2,
            "bin_end": 5686.799999999999,
            "count": 2
           },
           {
            "bin_start": 5686.799999999999,
            "bin_end": 7582.4,
            "count": 0
           },
           {
            "bin_start": 7582.4,
            "bin_end": 9478,
            "count": 0
           },
           {
            "bin_start": 9478,
            "bin_end": 11373.599999999999,
            "count": 0
           },
           {
            "bin_start": 11373.599999999999,
            "bin_end": 13269.199999999999,
            "count": 0
           },
           {
            "bin_start": 13269.199999999999,
            "bin_end": 15164.8,
            "count": 0
           },
           {
            "bin_start": 15164.8,
            "bin_end": 17060.399999999998,
            "count": 0
           },
           {
            "bin_start": 17060.399999999998,
            "bin_end": 18956,
            "count": 1
           }
          ]
         }
        },
        {
         "name": "_deepnote_index_column",
         "dtype": "object"
        }
       ],
       "rows_top": [
        {
         "primera_dosis": 118,
         "segunda_dosis": 118,
         "_deepnote_index_column": "count"
        },
        {
         "primera_dosis": 10196.745762711864,
         "segunda_dosis": 3216.093220338983,
         "_deepnote_index_column": "mean"
        },
        {
         "primera_dosis": 13168.290012998457,
         "segunda_dosis": 4681.185896916732,
         "_deepnote_index_column": "std"
        },
        {
         "primera_dosis": 0,
         "segunda_dosis": 0,
         "_deepnote_index_column": "min"
        },
        {
         "primera_dosis": 174.25,
         "segunda_dosis": 1,
         "_deepnote_index_column": "25%"
        },
        {
         "primera_dosis": 3216.5,
         "segunda_dosis": 553.5,
         "_deepnote_index_column": "50%"
        },
        {
         "primera_dosis": 16987.25,
         "segunda_dosis": 5020.75,
         "_deepnote_index_column": "75%"
        },
        {
         "primera_dosis": 62277,
         "segunda_dosis": 18956,
         "_deepnote_index_column": "max"
        }
       ],
       "rows_bottom": null
      },
      "text/plain": "       primera_dosis  segunda_dosis\ncount     118.000000     118.000000\nmean    10196.745763    3216.093220\nstd     13168.290013    4681.185897\nmin         0.000000       0.000000\n25%       174.250000       1.000000\n50%      3216.500000     553.500000\n75%     16987.250000    5020.750000\nmax     62277.000000   18956.000000",
      "text/html": "<div>\n<style scoped>\n    .dataframe tbody tr th:only-of-type {\n        vertical-align: middle;\n    }\n\n    .dataframe tbody tr th {\n        vertical-align: top;\n    }\n\n    .dataframe thead th {\n        text-align: right;\n    }\n</style>\n<table border=\"1\" class=\"dataframe\">\n  <thead>\n    <tr style=\"text-align: right;\">\n      <th></th>\n      <th>primera_dosis</th>\n      <th>segunda_dosis</th>\n    </tr>\n  </thead>\n  <tbody>\n    <tr>\n      <th>count</th>\n      <td>118.000000</td>\n      <td>118.000000</td>\n    </tr>\n    <tr>\n      <th>mean</th>\n      <td>10196.745763</td>\n      <td>3216.093220</td>\n    </tr>\n    <tr>\n      <th>std</th>\n      <td>13168.290013</td>\n      <td>4681.185897</td>\n    </tr>\n    <tr>\n      <th>min</th>\n      <td>0.000000</td>\n      <td>0.000000</td>\n    </tr>\n    <tr>\n      <th>25%</th>\n      <td>174.250000</td>\n      <td>1.000000</td>\n    </tr>\n    <tr>\n      <th>50%</th>\n      <td>3216.500000</td>\n      <td>553.500000</td>\n    </tr>\n    <tr>\n      <th>75%</th>\n      <td>16987.250000</td>\n      <td>5020.750000</td>\n    </tr>\n    <tr>\n      <th>max</th>\n      <td>62277.000000</td>\n      <td>18956.000000</td>\n    </tr>\n  </tbody>\n</table>\n</div>"
     },
     "metadata": {}
    }
   ]
  },
  {
   "cell_type": "code",
   "metadata": {
    "tags": [],
    "cell_id": "00008-52ff4031-c866-4606-ab33-6b1f289bd542",
    "deepnote_to_be_reexecuted": false,
    "source_hash": "2730d97a",
    "execution_start": 1638992196560,
    "execution_millis": 0,
    "deepnote_cell_type": "code"
   },
   "source": "df_plan_vacunarse['primera_dosis_acumulado'] = df_plan_vacunarse['primera_dosis'].cumsum()\ndf_plan_vacunarse['segunda_dosis_acumulado'] = df_plan_vacunarse['segunda_dosis'].cumsum()",
   "execution_count": null,
   "outputs": []
  },
  {
   "cell_type": "code",
   "metadata": {
    "tags": [],
    "cell_id": "00008-096e6bf0-6398-40d3-964d-cecfd4cd3b1f",
    "deepnote_to_be_reexecuted": false,
    "source_hash": "f2f79983",
    "execution_start": 1639416522893,
    "execution_millis": 379,
    "deepnote_cell_type": "code"
   },
   "source": "sns.set_theme()",
   "execution_count": null,
   "outputs": []
  },
  {
   "cell_type": "code",
   "metadata": {
    "tags": [],
    "cell_id": "00010-ea1b2053-ac72-42de-8879-0575aea391d0",
    "deepnote_to_be_reexecuted": false,
    "source_hash": "f2122cae",
    "execution_start": 1638992196647,
    "execution_millis": 1316,
    "deepnote_output_heights": [
     21.1875,
     357
    ],
    "deepnote_cell_type": "code"
   },
   "source": "sns.pairplot(df_plan_vacunarse[['primera_dosis', 'segunda_dosis']], diag_kind='kde')",
   "execution_count": null,
   "outputs": [
    {
     "output_type": "execute_result",
     "execution_count": 10,
     "data": {
      "text/plain": "<seaborn.axisgrid.PairGrid at 0x7fcee09e8c50>"
     },
     "metadata": {}
    },
    {
     "data": {
      "text/plain": "<Figure size 360x360 with 6 Axes>",
      "image/png": "[encoded data removed]"
     },
     "metadata": {
      "image/png": {
       "width": 355,
       "height": 355
      }
     },
     "output_type": "display_data"
    }
   ]
  },
  {
   "cell_type": "code",
   "metadata": {
    "tags": [],
    "cell_id": "00011-c7c03fbd-a235-4b34-8361-c676de4c1e75",
    "deepnote_to_be_reexecuted": false,
    "source_hash": "5f4d9425",
    "execution_start": 1638992197970,
    "execution_millis": 48,
    "deepnote_output_heights": [
     90
    ],
    "deepnote_cell_type": "code"
   },
   "source": "df_plan_vacunarse[['primera_dosis', 'segunda_dosis']].corr()",
   "execution_count": null,
   "outputs": [
    {
     "output_type": "execute_result",
     "execution_count": 11,
     "data": {
      "application/vnd.deepnote.dataframe.v2+json": {
       "row_count": 2,
       "column_count": 2,
       "columns": [
        {
         "name": "primera_dosis",
         "dtype": "float64",
         "stats": {
          "unique_count": 2,
          "nan_count": 0,
          "min": "0.4995283667562899",
          "max": "1.0",
          "histogram": [
           {
            "bin_start": 0.4995283667562899,
            "bin_end": 0.549575530080661,
            "count": 1
           },
           {
            "bin_start": 0.549575530080661,
            "bin_end": 0.5996226934050319,
            "count": 0
           },
           {
            "bin_start": 0.5996226934050319,
            "bin_end": 0.6496698567294029,
            "count": 0
           },
           {
            "bin_start": 0.6496698567294029,
            "bin_end": 0.6997170200537739,
            "count": 0
           },
           {
            "bin_start": 0.6997170200537739,
            "bin_end": 0.749764183378145,
            "count": 0
           },
           {
            "bin_start": 0.749764183378145,
            "bin_end": 0.7998113467025159,
            "count": 0
           },
           {
            "bin_start": 0.7998113467025159,
            "bin_end": 0.849858510026887,
            "count": 0
           },
           {
            "bin_start": 0.849858510026887,
            "bin_end": 0.8999056733512579,
            "count": 0
           },
           {
            "bin_start": 0.8999056733512579,
            "bin_end": 0.9499528366756289,
            "count": 0
           },
           {
            "bin_start": 0.9499528366756289,
            "bin_end": 1,
            "count": 1
           }
          ]
         }
        },
        {
         "name": "segunda_dosis",
         "dtype": "float64",
         "stats": {
          "unique_count": 2,
          "nan_count": 0,
          "min": "0.4995283667562899",
          "max": "1.0",
          "histogram": [
           {
            "bin_start": 0.4995283667562899,
            "bin_end": 0.549575530080661,
            "count": 1
           },
           {
            "bin_start": 0.549575530080661,
            "bin_end": 0.5996226934050319,
            "count": 0
           },
           {
            "bin_start": 0.5996226934050319,
            "bin_end": 0.6496698567294029,
            "count": 0
           },
           {
            "bin_start": 0.6496698567294029,
            "bin_end": 0.6997170200537739,
            "count": 0
           },
           {
            "bin_start": 0.6997170200537739,
            "bin_end": 0.749764183378145,
            "count": 0
           },
           {
            "bin_start": 0.749764183378145,
            "bin_end": 0.7998113467025159,
            "count": 0
           },
           {
            "bin_start": 0.7998113467025159,
            "bin_end": 0.849858510026887,
            "count": 0
           },
           {
            "bin_start": 0.849858510026887,
            "bin_end": 0.8999056733512579,
            "count": 0
           },
           {
            "bin_start": 0.8999056733512579,
            "bin_end": 0.9499528366756289,
            "count": 0
           },
           {
            "bin_start": 0.9499528366756289,
            "bin_end": 1,
            "count": 1
           }
          ]
         }
        },
        {
         "name": "_deepnote_index_column",
         "dtype": "object"
        }
       ],
       "rows_top": [
        {
         "primera_dosis": 1,
         "segunda_dosis": 0.4995283667562899,
         "_deepnote_index_column": "primera_dosis"
        },
        {
         "primera_dosis": 0.4995283667562899,
         "segunda_dosis": 1,
         "_deepnote_index_column": "segunda_dosis"
        }
       ],
       "rows_bottom": null
      },
      "text/plain": "               primera_dosis  segunda_dosis\nprimera_dosis       1.000000       0.499528\nsegunda_dosis       0.499528       1.000000",
      "text/html": "<div>\n<style scoped>\n    .dataframe tbody tr th:only-of-type {\n        vertical-align: middle;\n    }\n\n    .dataframe tbody tr th {\n        vertical-align: top;\n    }\n\n    .dataframe thead th {\n        text-align: right;\n    }\n</style>\n<table border=\"1\" class=\"dataframe\">\n  <thead>\n    <tr style=\"text-align: right;\">\n      <th></th>\n      <th>primera_dosis</th>\n      <th>segunda_dosis</th>\n    </tr>\n  </thead>\n  <tbody>\n    <tr>\n      <th>primera_dosis</th>\n      <td>1.000000</td>\n      <td>0.499528</td>\n    </tr>\n    <tr>\n      <th>segunda_dosis</th>\n      <td>0.499528</td>\n      <td>1.000000</td>\n    </tr>\n  </tbody>\n</table>\n</div>"
     },
     "metadata": {}
    }
   ]
  },
  {
   "cell_type": "code",
   "metadata": {
    "tags": [],
    "cell_id": "00012-c0345410-dbb3-4421-a7fd-ec847f81aaba",
    "deepnote_to_be_reexecuted": false,
    "source_hash": "da559460",
    "execution_start": 1638992198025,
    "execution_millis": 499,
    "deepnote_output_heights": [
     null,
     258
    ],
    "deepnote_cell_type": "code"
   },
   "source": "sns.heatmap(df_plan_vacunarse[['primera_dosis', 'segunda_dosis']].corr(), \nannot=True,\nsquare=True,\ncmap='summer')",
   "execution_count": null,
   "outputs": [
    {
     "output_type": "execute_result",
     "execution_count": 12,
     "data": {
      "text/plain": "<AxesSubplot:>"
     },
     "metadata": {}
    },
    {
     "data": {
      "text/plain": "<Figure size 432x288 with 2 Axes>",
      "image/png": "[encoded data removed]"
     },
     "metadata": {
      "image/png": {
       "width": 306,
       "height": 256
      }
     },
     "output_type": "display_data"
    }
   ]
  },
  {
   "cell_type": "code",
   "metadata": {
    "tags": [],
    "cell_id": "00009-9644168b-6623-47e1-9072-260a255630bc",
    "deepnote_to_be_reexecuted": false,
    "source_hash": "e509c205",
    "execution_start": 1638992198411,
    "execution_millis": 685,
    "deepnote_output_heights": [
     453
    ],
    "deepnote_cell_type": "code"
   },
   "source": "fig, ax = plt.subplots(figsize=(12, 7))\nplt.plot(df_plan_vacunarse.fecha, df_plan_vacunarse.primera_dosis)\nplt.plot(df_plan_vacunarse.fecha, df_plan_vacunarse.segunda_dosis)\nplt.title('First and second dose per day', size=18)\nplt.xlabel('Date')\nplt.ylabel('Doses')\nplt.legend(['First dose', 'Second dose'])\nplt.show()",
   "execution_count": null,
   "outputs": [
    {
     "data": {
      "text/plain": "<Figure size 864x504 with 1 Axes>",
      "image/png": "[encoded data removed]"
     },
     "metadata": {
      "image/png": {
       "width": 745,
       "height": 451
      }
     },
     "output_type": "display_data"
    }
   ]
  },
  {
   "cell_type": "code",
   "metadata": {
    "tags": [],
    "cell_id": "00011-2e5bcf6c-609b-4ef0-b89a-a31c0a5cedd3",
    "deepnote_to_be_reexecuted": false,
    "source_hash": "100a1f",
    "execution_start": 1638992199099,
    "execution_millis": 595,
    "deepnote_output_heights": [
     453
    ],
    "deepnote_cell_type": "code"
   },
   "source": "fig, ax = plt.subplots(figsize=(12, 7))\nplt.plot(df_plan_vacunarse.fecha, df_plan_vacunarse.primera_dosis_acumulado)\nplt.plot(df_plan_vacunarse.fecha, df_plan_vacunarse.segunda_dosis_acumulado)\nplt.title('First and second dose cumulative sum', size=18)\nplt.xlabel('Date')\nplt.ylabel('Doses')\nplt.legend(['First dose', 'Second dose'])\nplt.show()",
   "execution_count": null,
   "outputs": [
    {
     "data": {
      "text/plain": "<Figure size 864x504 with 1 Axes>",
      "image/png": "[encoded data removed]"
     },
     "metadata": {
      "image/png": {
       "width": 727,
       "height": 451
      }
     },
     "output_type": "display_data"
    }
   ]
  },
  {
   "cell_type": "markdown",
   "source": "## Vaccinations in general",
   "metadata": {
    "tags": [],
    "is_collapsed": false,
    "cell_id": "00016-c4f20966-0652-4176-b06b-2f28856ec09c",
    "deepnote_cell_type": "text-cell-h2"
   }
  },
  {
   "cell_type": "code",
   "metadata": {
    "tags": [],
    "cell_id": "00012-fe69b157-c1a3-40a6-aa12-4e707f0a7a03",
    "deepnote_to_be_reexecuted": false,
    "source_hash": "6e32942",
    "execution_start": 1639416427410,
    "execution_millis": 33,
    "deepnote_cell_type": "code"
   },
   "source": "df_vaccinated = pd.read_csv('/work/covid-19_ecuador/data/processed/vaccinated.csv')",
   "execution_count": null,
   "outputs": []
  },
  {
   "cell_type": "code",
   "metadata": {
    "tags": [],
    "cell_id": "00013-c15b58ae-3418-4b4a-a7e8-5e6bbabf58fd",
    "deepnote_to_be_reexecuted": false,
    "source_hash": "7e16a2ac",
    "execution_start": 1639416458955,
    "execution_millis": 418,
    "deepnote_cell_type": "code"
   },
   "source": "df_vaccinated.tail(5)",
   "execution_count": null,
   "outputs": [
    {
     "output_type": "execute_result",
     "execution_count": 5,
     "data": {
      "application/vnd.deepnote.dataframe.v2+json": {
       "row_count": 5,
       "column_count": 5,
       "columns": [
        {
         "name": "fecha",
         "dtype": "object",
         "stats": {
          "unique_count": 5,
          "nan_count": 0,
          "categories": [
           {
            "name": "2021-11-28",
            "count": 1
           },
           {
            "name": "2021-11-29",
            "count": 1
           },
           {
            "name": "3 others",
            "count": 3
           }
          ]
         }
        },
        {
         "name": "dosis_total",
         "dtype": "int64",
         "stats": {
          "unique_count": 5,
          "nan_count": 0,
          "min": "24871775",
          "max": "25423529",
          "histogram": [
           {
            "bin_start": 24871775,
            "bin_end": 24926950.4,
            "count": 1
           },
           {
            "bin_start": 24926950.4,
            "bin_end": 24982125.8,
            "count": 0
           },
           {
            "bin_start": 24982125.8,
            "bin_end": 25037301.2,
            "count": 1
           },
           {
            "bin_start": 25037301.2,
            "bin_end": 25092476.6,
            "count": 0
           },
           {
            "bin_start": 25092476.6,
            "bin_end": 25147652,
            "count": 1
           },
           {
            "bin_start": 25147652,
            "bin_end": 25202827.4,
            "count": 0
           },
           {
            "bin_start": 25202827.4,
            "bin_end": 25258002.8,
            "count": 0
           },
           {
            "bin_start": 25258002.8,
            "bin_end": 25313178.2,
            "count": 1
           },
           {
            "bin_start": 25313178.2,
            "bin_end": 25368353.6,
            "count": 0
           },
           {
            "bin_start": 25368353.6,
            "bin_end": 25423529,
            "count": 1
           }
          ]
         }
        },
        {
         "name": "primera_dosis",
         "dtype": "int64",
         "stats": {
          "unique_count": 5,
          "nan_count": 0,
          "min": "13220613",
          "max": "13384406",
          "histogram": [
           {
            "bin_start": 13220613,
            "bin_end": 13236992.3,
            "count": 1
           },
           {
            "bin_start": 13236992.3,
            "bin_end": 13253371.6,
            "count": 1
           },
           {
            "bin_start": 13253371.6,
            "bin_end": 13269750.9,
            "count": 0
           },
           {
            "bin_start": 13269750.9,
            "bin_end": 13286130.2,
            "count": 0
           },
           {
            "bin_start": 13286130.2,
            "bin_end": 13302509.5,
            "count": 1
           },
           {
            "bin_start": 13302509.5,
            "bin_end": 13318888.8,
            "count": 0
           },
           {
            "bin_start": 13318888.8,
            "bin_end": 13335268.1,
            "count": 0
           },
           {
            "bin_start": 13335268.1,
            "bin_end": 13351647.4,
            "count": 0
           },
           {
            "bin_start": 13351647.4,
            "bin_end": 13368026.7,
            "count": 1
           },
           {
            "bin_start": 13368026.7,
            "bin_end": 13384406,
            "count": 1
           }
          ]
         }
        },
        {
         "name": "segunda_dosis",
         "dtype": "int64",
         "stats": {
          "unique_count": 5,
          "nan_count": 0,
          "min": "11274665",
          "max": "11555330",
          "histogram": [
           {
            "bin_start": 11274665,
            "bin_end": 11302731.5,
            "count": 1
           },
           {
            "bin_start": 11302731.5,
            "bin_end": 11330798,
            "count": 0
           },
           {
            "bin_start": 11330798,
            "bin_end": 11358864.5,
            "count": 1
           },
           {
            "bin_start": 11358864.5,
            "bin_end": 11386931,
            "count": 0
           },
           {
            "bin_start": 11386931,
            "bin_end": 11414997.5,
            "count": 1
           },
           {
            "bin_start": 11414997.5,
            "bin_end": 11443064,
            "count": 0
           },
           {
            "bin_start": 11443064,
            "bin_end": 11471130.5,
            "count": 0
           },
           {
            "bin_start": 11471130.5,
            "bin_end": 11499197,
            "count": 0
           },
           {
            "bin_start": 11499197,
            "bin_end": 11527263.5,
            "count": 1
           },
           {
            "bin_start": 11527263.5,
            "bin_end": 11555330,
            "count": 1
           }
          ]
         }
        },
        {
         "name": "refuerzo",
         "dtype": "int64",
         "stats": {
          "unique_count": 5,
          "nan_count": 0,
          "min": "376497",
          "max": "483793",
          "histogram": [
           {
            "bin_start": 376497,
            "bin_end": 387226.6,
            "count": 1
           },
           {
            "bin_start": 387226.6,
            "bin_end": 397956.2,
            "count": 0
           },
           {
            "bin_start": 397956.2,
            "bin_end": 408685.8,
            "count": 1
           },
           {
            "bin_start": 408685.8,
            "bin_end": 419415.4,
            "count": 0
           },
           {
            "bin_start": 419415.4,
            "bin_end": 430145,
            "count": 1
           },
           {
            "bin_start": 430145,
            "bin_end": 440874.6,
            "count": 1
           },
           {
            "bin_start": 440874.6,
            "bin_end": 451604.2,
            "count": 0
           },
           {
            "bin_start": 451604.2,
            "bin_end": 462333.8,
            "count": 0
           },
           {
            "bin_start": 462333.8,
            "bin_end": 473063.4,
            "count": 0
           },
           {
            "bin_start": 473063.4,
            "bin_end": 483793,
            "count": 1
           }
          ]
         }
        },
        {
         "name": "_deepnote_index_column",
         "dtype": "int64"
        }
       ],
       "rows_top": [
        {
         "fecha": "2021-11-28",
         "dosis_total": 24871775,
         "primera_dosis": 13220613,
         "segunda_dosis": 11274665,
         "refuerzo": 376497,
         "_deepnote_index_column": 224
        },
        {
         "fecha": "2021-11-29",
         "dosis_total": 24984734,
         "primera_dosis": 13250694,
         "segunda_dosis": 11335166,
         "refuerzo": 398874,
         "_deepnote_index_column": 225
        },
        {
         "fecha": "2021-11-30",
         "dosis_total": 25098057,
         "primera_dosis": 13286700,
         "segunda_dosis": 11390325,
         "refuerzo": 421032,
         "_deepnote_index_column": 226
        },
        {
         "fecha": "2021-12-01",
         "dosis_total": 25309620,
         "primera_dosis": 13356588,
         "segunda_dosis": 11501793,
         "refuerzo": 439649,
         "_deepnote_index_column": 227
        },
        {
         "fecha": "2021-12-02",
         "dosis_total": 25423529,
         "primera_dosis": 13384406,
         "segunda_dosis": 11555330,
         "refuerzo": 483793,
         "_deepnote_index_column": 228
        }
       ],
       "rows_bottom": null
      },
      "text/plain": "          fecha  dosis_total  primera_dosis  segunda_dosis  refuerzo\n224  2021-11-28     24871775       13220613       11274665    376497\n225  2021-11-29     24984734       13250694       11335166    398874\n226  2021-11-30     25098057       13286700       11390325    421032\n227  2021-12-01     25309620       13356588       11501793    439649\n228  2021-12-02     25423529       13384406       11555330    483793",
      "text/html": "<div>\n<style scoped>\n    .dataframe tbody tr th:only-of-type {\n        vertical-align: middle;\n    }\n\n    .dataframe tbody tr th {\n        vertical-align: top;\n    }\n\n    .dataframe thead th {\n        text-align: right;\n    }\n</style>\n<table border=\"1\" class=\"dataframe\">\n  <thead>\n    <tr style=\"text-align: right;\">\n      <th></th>\n      <th>fecha</th>\n      <th>dosis_total</th>\n      <th>primera_dosis</th>\n      <th>segunda_dosis</th>\n      <th>refuerzo</th>\n    </tr>\n  </thead>\n  <tbody>\n    <tr>\n      <th>224</th>\n      <td>2021-11-28</td>\n      <td>24871775</td>\n      <td>13220613</td>\n      <td>11274665</td>\n      <td>376497</td>\n    </tr>\n    <tr>\n      <th>225</th>\n      <td>2021-11-29</td>\n      <td>24984734</td>\n      <td>13250694</td>\n      <td>11335166</td>\n      <td>398874</td>\n    </tr>\n    <tr>\n      <th>226</th>\n      <td>2021-11-30</td>\n      <td>25098057</td>\n      <td>13286700</td>\n      <td>11390325</td>\n      <td>421032</td>\n    </tr>\n    <tr>\n      <th>227</th>\n      <td>2021-12-01</td>\n      <td>25309620</td>\n      <td>13356588</td>\n      <td>11501793</td>\n      <td>439649</td>\n    </tr>\n    <tr>\n      <th>228</th>\n      <td>2021-12-02</td>\n      <td>25423529</td>\n      <td>13384406</td>\n      <td>11555330</td>\n      <td>483793</td>\n    </tr>\n  </tbody>\n</table>\n</div>"
     },
     "metadata": {}
    }
   ]
  },
  {
   "cell_type": "code",
   "metadata": {
    "tags": [],
    "cell_id": "00017-23e3876c-90aa-4936-acab-491a8827aefa",
    "deepnote_to_be_reexecuted": false,
    "source_hash": "1e91b05a",
    "execution_start": 1639416469635,
    "execution_millis": 48,
    "deepnote_cell_type": "code"
   },
   "source": "df_vaccinated.fecha = pd.to_datetime(df_vaccinated.fecha, format='%Y/%m/%d')",
   "execution_count": null,
   "outputs": []
  },
  {
   "cell_type": "code",
   "metadata": {
    "tags": [],
    "cell_id": "00018-17c40864-ab09-432f-ad96-f609fda34095",
    "deepnote_to_be_reexecuted": false,
    "source_hash": "12608988",
    "execution_start": 1639416473022,
    "execution_millis": 91,
    "deepnote_output_heights": [
     264
    ],
    "deepnote_cell_type": "code"
   },
   "source": "df_vaccinated.describe()",
   "execution_count": null,
   "outputs": [
    {
     "output_type": "execute_result",
     "execution_count": 7,
     "data": {
      "application/vnd.deepnote.dataframe.v2+json": {
       "row_count": 8,
       "column_count": 4,
       "columns": [
        {
         "name": "dosis_total",
         "dtype": "float64",
         "stats": {
          "unique_count": 8,
          "nan_count": 0,
          "min": "0.0",
          "max": "25423529.0",
          "histogram": [
           {
            "bin_start": 0,
            "bin_end": 2542352.9,
            "count": 3
           },
           {
            "bin_start": 2542352.9,
            "bin_end": 5084705.8,
            "count": 0
           },
           {
            "bin_start": 5084705.8,
            "bin_end": 7627058.699999999,
            "count": 0
           },
           {
            "bin_start": 7627058.699999999,
            "bin_end": 10169411.6,
            "count": 2
           },
           {
            "bin_start": 10169411.6,
            "bin_end": 12711764.5,
            "count": 1
           },
           {
            "bin_start": 12711764.5,
            "bin_end": 15254117.399999999,
            "count": 0
           },
           {
            "bin_start": 15254117.399999999,
            "bin_end": 17796470.3,
            "count": 0
           },
           {
            "bin_start": 17796470.3,
            "bin_end": 20338823.2,
            "count": 0
           },
           {
            "bin_start": 20338823.2,
            "bin_end": 22881176.099999998,
            "count": 1
           },
           {
            "bin_start": 22881176.099999998,
            "bin_end": 25423529,
            "count": 1
           }
          ]
         }
        },
        {
         "name": "primera_dosis",
         "dtype": "float64",
         "stats": {
          "unique_count": 8,
          "nan_count": 0,
          "min": "0.0",
          "max": "13384406.0",
          "histogram": [
           {
            "bin_start": 0,
            "bin_end": 1338440.6,
            "count": 3
           },
           {
            "bin_start": 1338440.6,
            "bin_end": 2676881.2,
            "count": 0
           },
           {
            "bin_start": 2676881.2,
            "bin_end": 4015321.8000000003,
            "count": 0
           },
           {
            "bin_start": 4015321.8000000003,
            "bin_end": 5353762.4,
            "count": 1
           },
           {
            "bin_start": 5353762.4,
            "bin_end": 6692203,
            "count": 1
           },
           {
            "bin_start": 6692203,
            "bin_end": 8030643.600000001,
            "count": 1
           },
           {
            "bin_start": 8030643.600000001,
            "bin_end": 9369084.200000001,
            "count": 0
           },
           {
            "bin_start": 9369084.200000001,
            "bin_end": 10707524.8,
            "count": 0
           },
           {
            "bin_start": 10707524.8,
            "bin_end": 12045965.4,
            "count": 1
           },
           {
            "bin_start": 12045965.4,
            "bin_end": 13384406,
            "count": 1
           }
          ]
         }
        },
        {
         "name": "segunda_dosis",
         "dtype": "float64",
         "stats": {
          "unique_count": 8,
          "nan_count": 0,
          "min": "0.0",
          "max": "11555330.0",
          "histogram": [
           {
            "bin_start": 0,
            "bin_end": 1155533,
            "count": 3
           },
           {
            "bin_start": 1155533,
            "bin_end": 2311066,
            "count": 1
           },
           {
            "bin_start": 2311066,
            "bin_end": 3466599,
            "count": 0
           },
           {
            "bin_start": 3466599,
            "bin_end": 4622132,
            "count": 1
           },
           {
            "bin_start": 4622132,
            "bin_end": 5777665,
            "count": 1
           },
           {
            "bin_start": 5777665,
            "bin_end": 6933198,
            "count": 0
           },
           {
            "bin_start": 6933198,
            "bin_end": 8088731,
            "count": 0
           },
           {
            "bin_start": 8088731,
            "bin_end": 9244264,
            "count": 0
           },
           {
            "bin_start": 9244264,
            "bin_end": 10399797,
            "count": 1
           },
           {
            "bin_start": 10399797,
            "bin_end": 11555330,
            "count": 1
           }
          ]
         }
        },
        {
         "name": "refuerzo",
         "dtype": "float64",
         "stats": {
          "unique_count": 5,
          "nan_count": 0,
          "min": "0.0",
          "max": "483793.0",
          "histogram": [
           {
            "bin_start": 0,
            "bin_end": 48379.3,
            "count": 6
           },
           {
            "bin_start": 48379.3,
            "bin_end": 96758.6,
            "count": 1
           },
           {
            "bin_start": 96758.6,
            "bin_end": 145137.90000000002,
            "count": 0
           },
           {
            "bin_start": 145137.90000000002,
            "bin_end": 193517.2,
            "count": 0
           },
           {
            "bin_start": 193517.2,
            "bin_end": 241896.5,
            "count": 0
           },
           {
            "bin_start": 241896.5,
            "bin_end": 290275.80000000005,
            "count": 0
           },
           {
            "bin_start": 290275.80000000005,
            "bin_end": 338655.10000000003,
            "count": 0
           },
           {
            "bin_start": 338655.10000000003,
            "bin_end": 387034.4,
            "count": 0
           },
           {
            "bin_start": 387034.4,
            "bin_end": 435413.7,
            "count": 0
           },
           {
            "bin_start": 435413.7,
            "bin_end": 483793,
            "count": 1
           }
          ]
         }
        },
        {
         "name": "_deepnote_index_column",
         "dtype": "object"
        }
       ],
       "rows_top": [
        {
         "dosis_total": 229,
         "primera_dosis": 229,
         "segunda_dosis": 229,
         "refuerzo": 229,
         "_deepnote_index_column": "count"
        },
        {
         "dosis_total": 11309807.615720524,
         "primera_dosis": 6529522.641921397,
         "segunda_dosis": 4747434.794759825,
         "refuerzo": 32799.56768558952,
         "_deepnote_index_column": "mean"
        },
        {
         "dosis_total": 9364061.738123871,
         "primera_dosis": 4966980.576731786,
         "segunda_dosis": 4493658.962079868,
         "refuerzo": 91903.34916444139,
         "_deepnote_index_column": "std"
        },
        {
         "dosis_total": 0,
         "primera_dosis": 0,
         "segunda_dosis": 0,
         "refuerzo": 0,
         "_deepnote_index_column": "min"
        },
        {
         "dosis_total": 1560453,
         "primera_dosis": 1203517,
         "segunda_dosis": 356936,
         "refuerzo": 0,
         "_deepnote_index_column": "25%"
        },
        {
         "dosis_total": 10051176,
         "primera_dosis": 7960999,
         "segunda_dosis": 2090177,
         "refuerzo": 0,
         "_deepnote_index_column": "50%"
        },
        {
         "dosis_total": 21028008,
         "primera_dosis": 11077412,
         "segunda_dosis": 9950596,
         "refuerzo": 0,
         "_deepnote_index_column": "75%"
        },
        {
         "dosis_total": 25423529,
         "primera_dosis": 13384406,
         "segunda_dosis": 11555330,
         "refuerzo": 483793,
         "_deepnote_index_column": "max"
        }
       ],
       "rows_bottom": null
      },
      "text/plain": "        dosis_total  primera_dosis  segunda_dosis       refuerzo\ncount  2.290000e+02   2.290000e+02   2.290000e+02     229.000000\nmean   1.130981e+07   6.529523e+06   4.747435e+06   32799.567686\nstd    9.364062e+06   4.966981e+06   4.493659e+06   91903.349164\nmin    0.000000e+00   0.000000e+00   0.000000e+00       0.000000\n25%    1.560453e+06   1.203517e+06   3.569360e+05       0.000000\n50%    1.005118e+07   7.960999e+06   2.090177e+06       0.000000\n75%    2.102801e+07   1.107741e+07   9.950596e+06       0.000000\nmax    2.542353e+07   1.338441e+07   1.155533e+07  483793.000000",
      "text/html": "<div>\n<style scoped>\n    .dataframe tbody tr th:only-of-type {\n        vertical-align: middle;\n    }\n\n    .dataframe tbody tr th {\n        vertical-align: top;\n    }\n\n    .dataframe thead th {\n        text-align: right;\n    }\n</style>\n<table border=\"1\" class=\"dataframe\">\n  <thead>\n    <tr style=\"text-align: right;\">\n      <th></th>\n      <th>dosis_total</th>\n      <th>primera_dosis</th>\n      <th>segunda_dosis</th>\n      <th>refuerzo</th>\n    </tr>\n  </thead>\n  <tbody>\n    <tr>\n      <th>count</th>\n      <td>2.290000e+02</td>\n      <td>2.290000e+02</td>\n      <td>2.290000e+02</td>\n      <td>229.000000</td>\n    </tr>\n    <tr>\n      <th>mean</th>\n      <td>1.130981e+07</td>\n      <td>6.529523e+06</td>\n      <td>4.747435e+06</td>\n      <td>32799.567686</td>\n    </tr>\n    <tr>\n      <th>std</th>\n      <td>9.364062e+06</td>\n      <td>4.966981e+06</td>\n      <td>4.493659e+06</td>\n      <td>91903.349164</td>\n    </tr>\n    <tr>\n      <th>min</th>\n      <td>0.000000e+00</td>\n      <td>0.000000e+00</td>\n      <td>0.000000e+00</td>\n      <td>0.000000</td>\n    </tr>\n    <tr>\n      <th>25%</th>\n      <td>1.560453e+06</td>\n      <td>1.203517e+06</td>\n      <td>3.569360e+05</td>\n      <td>0.000000</td>\n    </tr>\n    <tr>\n      <th>50%</th>\n      <td>1.005118e+07</td>\n      <td>7.960999e+06</td>\n      <td>2.090177e+06</td>\n      <td>0.000000</td>\n    </tr>\n    <tr>\n      <th>75%</th>\n      <td>2.102801e+07</td>\n      <td>1.107741e+07</td>\n      <td>9.950596e+06</td>\n      <td>0.000000</td>\n    </tr>\n    <tr>\n      <th>max</th>\n      <td>2.542353e+07</td>\n      <td>1.338441e+07</td>\n      <td>1.155533e+07</td>\n      <td>483793.000000</td>\n    </tr>\n  </tbody>\n</table>\n</div>"
     },
     "metadata": {}
    }
   ]
  },
  {
   "cell_type": "code",
   "metadata": {
    "tags": [],
    "cell_id": "00019-05026d04-5d8b-4890-b0fa-1ec630f958ea",
    "deepnote_to_be_reexecuted": false,
    "source_hash": "b5992731",
    "execution_start": 1639416494975,
    "execution_millis": 561,
    "deepnote_cell_type": "code"
   },
   "source": "df_vaccinated['primera_dosis_diff'] = df_vaccinated['primera_dosis'].diff()\ndf_vaccinated['segunda_dosis_diff'] = df_vaccinated['segunda_dosis'].diff()\ndf_vaccinated['refuerzo_diff'] = df_vaccinated['refuerzo'].diff()\ndf_vaccinated['dosis_total_diff'] = df_vaccinated['dosis_total'].diff()",
   "execution_count": null,
   "outputs": []
  },
  {
   "cell_type": "code",
   "metadata": {
    "tags": [],
    "cell_id": "00020-f98625d1-cb4e-4b65-bd70-6d6c0a4259dc",
    "deepnote_to_be_reexecuted": false,
    "source_hash": "4f70dd06",
    "execution_start": 1639416498650,
    "execution_millis": 38,
    "deepnote_cell_type": "code"
   },
   "source": "df_vaccinated.fillna(method='bfill', inplace=True)",
   "execution_count": null,
   "outputs": []
  },
  {
   "cell_type": "code",
   "metadata": {
    "tags": [],
    "cell_id": "00023-35a87180-ed32-464e-822f-62f817f0bf9a",
    "deepnote_to_be_reexecuted": false,
    "source_hash": "12608988",
    "execution_start": 1639416627734,
    "execution_millis": 185,
    "deepnote_output_heights": [
     264
    ],
    "deepnote_cell_type": "code"
   },
   "source": "df_vaccinated.describe()",
   "execution_count": null,
   "outputs": [
    {
     "output_type": "execute_result",
     "execution_count": 14,
     "data": {
      "application/vnd.deepnote.dataframe.v2+json": {
       "row_count": 8,
       "column_count": 8,
       "columns": [
        {
         "name": "dosis_total",
         "dtype": "float64",
         "stats": {
          "unique_count": 8,
          "nan_count": 0,
          "min": "0.0",
          "max": "25423529.0",
          "histogram": [
           {
            "bin_start": 0,
            "bin_end": 2542352.9,
            "count": 3
           },
           {
            "bin_start": 2542352.9,
            "bin_end": 5084705.8,
            "count": 0
           },
           {
            "bin_start": 5084705.8,
            "bin_end": 7627058.699999999,
            "count": 0
           },
           {
            "bin_start": 7627058.699999999,
            "bin_end": 10169411.6,
            "count": 2
           },
           {
            "bin_start": 10169411.6,
            "bin_end": 12711764.5,
            "count": 1
           },
           {
            "bin_start": 12711764.5,
            "bin_end": 15254117.399999999,
            "count": 0
           },
           {
            "bin_start": 15254117.399999999,
            "bin_end": 17796470.3,
            "count": 0
           },
           {
            "bin_start": 17796470.3,
            "bin_end": 20338823.2,
            "count": 0
           },
           {
            "bin_start": 20338823.2,
            "bin_end": 22881176.099999998,
            "count": 1
           },
           {
            "bin_start": 22881176.099999998,
            "bin_end": 25423529,
            "count": 1
           }
          ]
         }
        },
        {
         "name": "primera_dosis",
         "dtype": "float64",
         "stats": {
          "unique_count": 8,
          "nan_count": 0,
          "min": "0.0",
          "max": "13384406.0",
          "histogram": [
           {
            "bin_start": 0,
            "bin_end": 1338440.6,
            "count": 3
           },
           {
            "bin_start": 1338440.6,
            "bin_end": 2676881.2,
            "count": 0
           },
           {
            "bin_start": 2676881.2,
            "bin_end": 4015321.8000000003,
            "count": 0
           },
           {
            "bin_start": 4015321.8000000003,
            "bin_end": 5353762.4,
            "count": 1
           },
           {
            "bin_start": 5353762.4,
            "bin_end": 6692203,
            "count": 1
           },
           {
            "bin_start": 6692203,
            "bin_end": 8030643.600000001,
            "count": 1
           },
           {
            "bin_start": 8030643.600000001,
            "bin_end": 9369084.200000001,
            "count": 0
           },
           {
            "bin_start": 9369084.200000001,
            "bin_end": 10707524.8,
            "count": 0
           },
           {
            "bin_start": 10707524.8,
            "bin_end": 12045965.4,
            "count": 1
           },
           {
            "bin_start": 12045965.4,
            "bin_end": 13384406,
            "count": 1
           }
          ]
         }
        },
        {
         "name": "segunda_dosis",
         "dtype": "float64",
         "stats": {
          "unique_count": 8,
          "nan_count": 0,
          "min": "0.0",
          "max": "11555330.0",
          "histogram": [
           {
            "bin_start": 0,
            "bin_end": 1155533,
            "count": 3
           },
           {
            "bin_start": 1155533,
            "bin_end": 2311066,
            "count": 1
           },
           {
            "bin_start": 2311066,
            "bin_end": 3466599,
            "count": 0
           },
           {
            "bin_start": 3466599,
            "bin_end": 4622132,
            "count": 1
           },
           {
            "bin_start": 4622132,
            "bin_end": 5777665,
            "count": 1
           },
           {
            "bin_start": 5777665,
            "bin_end": 6933198,
            "count": 0
           },
           {
            "bin_start": 6933198,
            "bin_end": 8088731,
            "count": 0
           },
           {
            "bin_start": 8088731,
            "bin_end": 9244264,
            "count": 0
           },
           {
            "bin_start": 9244264,
            "bin_end": 10399797,
            "count": 1
           },
           {
            "bin_start": 10399797,
            "bin_end": 11555330,
            "count": 1
           }
          ]
         }
        },
        {
         "name": "refuerzo",
         "dtype": "float64",
         "stats": {
          "unique_count": 5,
          "nan_count": 0,
          "min": "0.0",
          "max": "483793.0",
          "histogram": [
           {
            "bin_start": 0,
            "bin_end": 48379.3,
            "count": 6
           },
           {
            "bin_start": 48379.3,
            "bin_end": 96758.6,
            "count": 1
           },
           {
            "bin_start": 96758.6,
            "bin_end": 145137.90000000002,
            "count": 0
           },
           {
            "bin_start": 145137.90000000002,
            "bin_end": 193517.2,
            "count": 0
           },
           {
            "bin_start": 193517.2,
            "bin_end": 241896.5,
            "count": 0
           },
           {
            "bin_start": 241896.5,
            "bin_end": 290275.80000000005,
            "count": 0
           },
           {
            "bin_start": 290275.80000000005,
            "bin_end": 338655.10000000003,
            "count": 0
           },
           {
            "bin_start": 338655.10000000003,
            "bin_end": 387034.4,
            "count": 0
           },
           {
            "bin_start": 387034.4,
            "bin_end": 435413.7,
            "count": 0
           },
           {
            "bin_start": 435413.7,
            "bin_end": 483793,
            "count": 1
           }
          ]
         }
        },
        {
         "name": "primera_dosis_diff",
         "dtype": "float64",
         "stats": {
          "unique_count": 8,
          "nan_count": 0,
          "min": "-44519.0",
          "max": "711855.0",
          "histogram": [
           {
            "bin_start": -44519,
            "bin_end": 31118.399999999994,
            "count": 4
           },
           {
            "bin_start": 31118.399999999994,
            "bin_end": 106755.79999999999,
            "count": 3
           },
           {
            "bin_start": 106755.79999999999,
            "bin_end": 182393.19999999998,
            "count": 0
           },
           {
            "bin_start": 182393.19999999998,
            "bin_end": 258030.59999999998,
            "count": 0
           },
           {
            "bin_start": 258030.59999999998,
            "bin_end": 333668,
            "count": 0
           },
           {
            "bin_start": 333668,
            "bin_end": 409305.39999999997,
            "count": 0
           },
           {
            "bin_start": 409305.39999999997,
            "bin_end": 484942.79999999993,
            "count": 0
           },
           {
            "bin_start": 484942.79999999993,
            "bin_end": 560580.2,
            "count": 0
           },
           {
            "bin_start": 560580.2,
            "bin_end": 636217.6,
            "count": 0
           },
           {
            "bin_start": 636217.6,
            "bin_end": 711855,
            "count": 1
           }
          ]
         }
        },
        {
         "name": "segunda_dosis_diff",
         "dtype": "float64",
         "stats": {
          "unique_count": 8,
          "nan_count": 0,
          "min": "0.0",
          "max": "771941.0",
          "histogram": [
           {
            "bin_start": 0,
            "bin_end": 77194.1,
            "count": 6
           },
           {
            "bin_start": 77194.1,
            "bin_end": 154388.2,
            "count": 1
           },
           {
            "bin_start": 154388.2,
            "bin_end": 231582.30000000002,
            "count": 0
           },
           {
            "bin_start": 231582.30000000002,
            "bin_end": 308776.4,
            "count": 0
           },
           {
            "bin_start": 308776.4,
            "bin_end": 385970.5,
            "count": 0
           },
           {
            "bin_start": 385970.5,
            "bin_end": 463164.60000000003,
            "count": 0
           },
           {
            "bin_start": 463164.60000000003,
            "bin_end": 540358.7000000001,
            "count": 0
           },
           {
            "bin_start": 540358.7000000001,
            "bin_end": 617552.8,
            "count": 0
           },
           {
            "bin_start": 617552.8,
            "bin_end": 694746.9,
            "count": 0
           },
           {
            "bin_start": 694746.9,
            "bin_end": 771941,
            "count": 1
           }
          ]
         }
        },
        {
         "name": "refuerzo_diff",
         "dtype": "float64",
         "stats": {
          "unique_count": 5,
          "nan_count": 0,
          "min": "0.0",
          "max": "44144.0",
          "histogram": [
           {
            "bin_start": 0,
            "bin_end": 4414.4,
            "count": 6
           },
           {
            "bin_start": 4414.4,
            "bin_end": 8828.8,
            "count": 1
           },
           {
            "bin_start": 8828.8,
            "bin_end": 13243.199999999999,
            "count": 0
           },
           {
            "bin_start": 13243.199999999999,
            "bin_end": 17657.6,
            "count": 0
           },
           {
            "bin_start": 17657.6,
            "bin_end": 22072,
            "count": 0
           },
           {
            "bin_start": 22072,
            "bin_end": 26486.399999999998,
            "count": 0
           },
           {
            "bin_start": 26486.399999999998,
            "bin_end": 30900.799999999996,
            "count": 0
           },
           {
            "bin_start": 30900.799999999996,
            "bin_end": 35315.2,
            "count": 0
           },
           {
            "bin_start": 35315.2,
            "bin_end": 39729.6,
            "count": 0
           },
           {
            "bin_start": 39729.6,
            "bin_end": 44144,
            "count": 1
           }
          ]
         }
        },
        {
         "name": "dosis_total_diff",
         "dtype": "float64",
         "stats": {
          "unique_count": 8,
          "nan_count": 0,
          "min": "-20338.0",
          "max": "1064932.0",
          "histogram": [
           {
            "bin_start": -20338,
            "bin_end": 88189,
            "count": 4
           },
           {
            "bin_start": 88189,
            "bin_end": 196716,
            "count": 3
           },
           {
            "bin_start": 196716,
            "bin_end": 305243,
            "count": 0
           },
           {
            "bin_start": 305243,
            "bin_end": 413770,
            "count": 0
           },
           {
            "bin_start": 413770,
            "bin_end": 522297,
            "count": 0
           },
           {
            "bin_start": 522297,
            "bin_end": 630824,
            "count": 0
           },
           {
            "bin_start": 630824,
            "bin_end": 739351,
            "count": 0
           },
           {
            "bin_start": 739351,
            "bin_end": 847878,
            "count": 0
           },
           {
            "bin_start": 847878,
            "bin_end": 956405,
            "count": 0
           },
           {
            "bin_start": 956405,
            "bin_end": 1064932,
            "count": 1
           }
          ]
         }
        },
        {
         "name": "_deepnote_index_column",
         "dtype": "object"
        }
       ],
       "rows_top": [
        {
         "dosis_total": 229,
         "primera_dosis": 229,
         "segunda_dosis": 229,
         "refuerzo": 229,
         "primera_dosis_diff": 229,
         "segunda_dosis_diff": 229,
         "refuerzo_diff": 229,
         "dosis_total_diff": 229,
         "_deepnote_index_column": "count"
        },
        {
         "dosis_total": 11309807.615720524,
         "primera_dosis": 6529522.641921397,
         "segunda_dosis": 4747434.794759825,
         "refuerzo": 32799.56768558952,
         "primera_dosis_diff": 58447.18777292576,
         "segunda_dosis_diff": 50459.95633187773,
         "refuerzo_diff": 2112.633187772926,
         "dosis_total_diff": 111019.77729257641,
         "_deepnote_index_column": "mean"
        },
        {
         "dosis_total": 9364061.738123871,
         "primera_dosis": 4966980.576731786,
         "segunda_dosis": 4493658.962079868,
         "refuerzo": 91903.34916444139,
         "primera_dosis_diff": 92041.9663236946,
         "segunda_dosis_diff": 94928.093722037,
         "refuerzo_diff": 5841.210037908578,
         "dosis_total_diff": 136802.1754361699,
         "_deepnote_index_column": "std"
        },
        {
         "dosis_total": 0,
         "primera_dosis": 0,
         "segunda_dosis": 0,
         "refuerzo": 0,
         "primera_dosis_diff": -44519,
         "segunda_dosis_diff": 0,
         "refuerzo_diff": 0,
         "dosis_total_diff": -20338,
         "_deepnote_index_column": "min"
        },
        {
         "dosis_total": 1560453,
         "primera_dosis": 1203517,
         "segunda_dosis": 356936,
         "refuerzo": 0,
         "primera_dosis_diff": 6472,
         "segunda_dosis_diff": 7007,
         "refuerzo_diff": 0,
         "dosis_total_diff": 29643,
         "_deepnote_index_column": "25%"
        },
        {
         "dosis_total": 10051176,
         "primera_dosis": 7960999,
         "segunda_dosis": 2090177,
         "refuerzo": 0,
         "primera_dosis_diff": 30081,
         "segunda_dosis_diff": 18640,
         "refuerzo_diff": 0,
         "dosis_total_diff": 62332,
         "_deepnote_index_column": "50%"
        },
        {
         "dosis_total": 21028008,
         "primera_dosis": 11077412,
         "segunda_dosis": 9950596,
         "refuerzo": 0,
         "primera_dosis_diff": 57579,
         "segunda_dosis_diff": 47669,
         "refuerzo_diff": 0,
         "dosis_total_diff": 147245,
         "_deepnote_index_column": "75%"
        },
        {
         "dosis_total": 25423529,
         "primera_dosis": 13384406,
         "segunda_dosis": 11555330,
         "refuerzo": 483793,
         "primera_dosis_diff": 711855,
         "segunda_dosis_diff": 771941,
         "refuerzo_diff": 44144,
         "dosis_total_diff": 1064932,
         "_deepnote_index_column": "max"
        }
       ],
       "rows_bottom": null
      },
      "text/plain": "        dosis_total  primera_dosis  segunda_dosis       refuerzo  \\\ncount  2.290000e+02   2.290000e+02   2.290000e+02     229.000000   \nmean   1.130981e+07   6.529523e+06   4.747435e+06   32799.567686   \nstd    9.364062e+06   4.966981e+06   4.493659e+06   91903.349164   \nmin    0.000000e+00   0.000000e+00   0.000000e+00       0.000000   \n25%    1.560453e+06   1.203517e+06   3.569360e+05       0.000000   \n50%    1.005118e+07   7.960999e+06   2.090177e+06       0.000000   \n75%    2.102801e+07   1.107741e+07   9.950596e+06       0.000000   \nmax    2.542353e+07   1.338441e+07   1.155533e+07  483793.000000   \n\n       primera_dosis_diff  segunda_dosis_diff  refuerzo_diff  dosis_total_diff  \ncount          229.000000          229.000000     229.000000      2.290000e+02  \nmean         58447.187773        50459.956332    2112.633188      1.110198e+05  \nstd          92041.966324        94928.093722    5841.210038      1.368022e+05  \nmin         -44519.000000            0.000000       0.000000     -2.033800e+04  \n25%           6472.000000         7007.000000       0.000000      2.964300e+04  \n50%          30081.000000        18640.000000       0.000000      6.233200e+04  \n75%          57579.000000        47669.000000       0.000000      1.472450e+05  \nmax         711855.000000       771941.000000   44144.000000      1.064932e+06  ",
      "text/html": "<div>\n<style scoped>\n    .dataframe tbody tr th:only-of-type {\n        vertical-align: middle;\n    }\n\n    .dataframe tbody tr th {\n        vertical-align: top;\n    }\n\n    .dataframe thead th {\n        text-align: right;\n    }\n</style>\n<table border=\"1\" class=\"dataframe\">\n  <thead>\n    <tr style=\"text-align: right;\">\n      <th></th>\n      <th>dosis_total</th>\n      <th>primera_dosis</th>\n      <th>segunda_dosis</th>\n      <th>refuerzo</th>\n      <th>primera_dosis_diff</th>\n      <th>segunda_dosis_diff</th>\n      <th>refuerzo_diff</th>\n      <th>dosis_total_diff</th>\n    </tr>\n  </thead>\n  <tbody>\n    <tr>\n      <th>count</th>\n      <td>2.290000e+02</td>\n      <td>2.290000e+02</td>\n      <td>2.290000e+02</td>\n      <td>229.000000</td>\n      <td>229.000000</td>\n      <td>229.000000</td>\n      <td>229.000000</td>\n      <td>2.290000e+02</td>\n    </tr>\n    <tr>\n      <th>mean</th>\n      <td>1.130981e+07</td>\n      <td>6.529523e+06</td>\n      <td>4.747435e+06</td>\n      <td>32799.567686</td>\n      <td>58447.187773</td>\n      <td>50459.956332</td>\n      <td>2112.633188</td>\n      <td>1.110198e+05</td>\n    </tr>\n    <tr>\n      <th>std</th>\n      <td>9.364062e+06</td>\n      <td>4.966981e+06</td>\n      <td>4.493659e+06</td>\n      <td>91903.349164</td>\n      <td>92041.966324</td>\n      <td>94928.093722</td>\n      <td>5841.210038</td>\n      <td>1.368022e+05</td>\n    </tr>\n    <tr>\n      <th>min</th>\n      <td>0.000000e+00</td>\n      <td>0.000000e+00</td>\n      <td>0.000000e+00</td>\n      <td>0.000000</td>\n      <td>-44519.000000</td>\n      <td>0.000000</td>\n      <td>0.000000</td>\n      <td>-2.033800e+04</td>\n    </tr>\n    <tr>\n      <th>25%</th>\n      <td>1.560453e+06</td>\n      <td>1.203517e+06</td>\n      <td>3.569360e+05</td>\n      <td>0.000000</td>\n      <td>6472.000000</td>\n      <td>7007.000000</td>\n      <td>0.000000</td>\n      <td>2.964300e+04</td>\n    </tr>\n    <tr>\n      <th>50%</th>\n      <td>1.005118e+07</td>\n      <td>7.960999e+06</td>\n      <td>2.090177e+06</td>\n      <td>0.000000</td>\n      <td>30081.000000</td>\n      <td>18640.000000</td>\n      <td>0.000000</td>\n      <td>6.233200e+04</td>\n    </tr>\n    <tr>\n      <th>75%</th>\n      <td>2.102801e+07</td>\n      <td>1.107741e+07</td>\n      <td>9.950596e+06</td>\n      <td>0.000000</td>\n      <td>57579.000000</td>\n      <td>47669.000000</td>\n      <td>0.000000</td>\n      <td>1.472450e+05</td>\n    </tr>\n    <tr>\n      <th>max</th>\n      <td>2.542353e+07</td>\n      <td>1.338441e+07</td>\n      <td>1.155533e+07</td>\n      <td>483793.000000</td>\n      <td>711855.000000</td>\n      <td>771941.000000</td>\n      <td>44144.000000</td>\n      <td>1.064932e+06</td>\n    </tr>\n  </tbody>\n</table>\n</div>"
     },
     "metadata": {}
    }
   ]
  },
  {
   "cell_type": "code",
   "metadata": {
    "tags": [],
    "cell_id": "00020-1721ce3e-edb0-4cd4-90ed-9a182fb26171",
    "deepnote_to_be_reexecuted": false,
    "source_hash": "69f6adb1",
    "execution_start": 1639418188026,
    "execution_millis": 3520,
    "deepnote_output_heights": [
     21.1875,
     533
    ],
    "deepnote_cell_type": "code"
   },
   "source": "sns.pairplot(df_vaccinated[['primera_dosis_diff', 'segunda_dosis_diff', 'refuerzo_diff']], diag_kind='kde')",
   "execution_count": null,
   "outputs": [
    {
     "output_type": "execute_result",
     "execution_count": 20,
     "data": {
      "text/plain": "<seaborn.axisgrid.PairGrid at 0x7f93ec687c50>"
     },
     "metadata": {}
    },
    {
     "data": {
      "text/plain": "<Figure size 540x540 with 12 Axes>",
      "image/png": "[encoded data removed]"
     },
     "metadata": {
      "image/png": {
       "width": 531,
       "height": 531
      }
     },
     "output_type": "display_data"
    }
   ]
  },
  {
   "cell_type": "code",
   "metadata": {
    "tags": [],
    "cell_id": "00025-06e9a208-3e71-4f29-9e98-159477ba5f4d",
    "deepnote_to_be_reexecuted": false,
    "source_hash": "be423af8",
    "execution_start": 1639418278606,
    "execution_millis": 461,
    "deepnote_output_heights": [
     21.1875,
     255
    ],
    "deepnote_cell_type": "code"
   },
   "source": "sns.boxplot(data=df_vaccinated[['primera_dosis_diff', 'segunda_dosis_diff', 'refuerzo_diff']])",
   "execution_count": null,
   "outputs": [
    {
     "output_type": "execute_result",
     "execution_count": 25,
     "data": {
      "text/plain": "<AxesSubplot:>"
     },
     "metadata": {}
    },
    {
     "data": {
      "text/plain": "<Figure size 432x288 with 1 Axes>",
      "image/png": "[encoded data removed]"
     },
     "metadata": {
      "image/png": {
       "width": 400,
       "height": 253
      }
     },
     "output_type": "display_data"
    }
   ]
  },
  {
   "cell_type": "code",
   "metadata": {
    "tags": [],
    "cell_id": "00021-e49c347f-ec4f-4312-933a-91e8a5aa8626",
    "deepnote_to_be_reexecuted": false,
    "source_hash": "5f3a442d",
    "execution_start": 1639418223453,
    "execution_millis": 212,
    "deepnote_output_heights": [
     119
    ],
    "deepnote_cell_type": "code"
   },
   "source": "df_vaccinated[['primera_dosis_diff', 'segunda_dosis_diff', 'refuerzo_diff']].corr()",
   "execution_count": null,
   "outputs": [
    {
     "output_type": "execute_result",
     "execution_count": 23,
     "data": {
      "application/vnd.deepnote.dataframe.v2+json": {
       "row_count": 3,
       "column_count": 3,
       "columns": [
        {
         "name": "primera_dosis_diff",
         "dtype": "float64",
         "stats": {
          "unique_count": 3,
          "nan_count": 0,
          "min": "-0.035715932488585504",
          "max": "1.0",
          "histogram": [
           {
            "bin_start": -0.035715932488585504,
            "bin_end": 0.06785566076027302,
            "count": 1
           },
           {
            "bin_start": 0.06785566076027302,
            "bin_end": 0.17142725400913156,
            "count": 1
           },
           {
            "bin_start": 0.17142725400913156,
            "bin_end": 0.27499884725799006,
            "count": 0
           },
           {
            "bin_start": 0.27499884725799006,
            "bin_end": 0.3785704405068486,
            "count": 0
           },
           {
            "bin_start": 0.3785704405068486,
            "bin_end": 0.4821420337557072,
            "count": 0
           },
           {
            "bin_start": 0.4821420337557072,
            "bin_end": 0.5857136270045656,
            "count": 0
           },
           {
            "bin_start": 0.5857136270045656,
            "bin_end": 0.6892852202534242,
            "count": 0
           },
           {
            "bin_start": 0.6892852202534242,
            "bin_end": 0.7928568135022828,
            "count": 0
           },
           {
            "bin_start": 0.7928568135022828,
            "bin_end": 0.8964284067511413,
            "count": 0
           },
           {
            "bin_start": 0.8964284067511413,
            "bin_end": 1,
            "count": 1
           }
          ]
         }
        },
        {
         "name": "segunda_dosis_diff",
         "dtype": "float64",
         "stats": {
          "unique_count": 3,
          "nan_count": 0,
          "min": "-0.0025300040417744",
          "max": "1.0",
          "histogram": [
           {
            "bin_start": -0.0025300040417744,
            "bin_end": 0.09772299636240303,
            "count": 2
           },
           {
            "bin_start": 0.09772299636240303,
            "bin_end": 0.19797599676658048,
            "count": 0
           },
           {
            "bin_start": 0.19797599676658048,
            "bin_end": 0.2982289971707579,
            "count": 0
           },
           {
            "bin_start": 0.2982289971707579,
            "bin_end": 0.39848199757493535,
            "count": 0
           },
           {
            "bin_start": 0.39848199757493535,
            "bin_end": 0.4987349979791128,
            "count": 0
           },
           {
            "bin_start": 0.4987349979791128,
            "bin_end": 0.5989879983832902,
            "count": 0
           },
           {
            "bin_start": 0.5989879983832902,
            "bin_end": 0.6992409987874677,
            "count": 0
           },
           {
            "bin_start": 0.6992409987874677,
            "bin_end": 0.7994939991916451,
            "count": 0
           },
           {
            "bin_start": 0.7994939991916451,
            "bin_end": 0.8997469995958225,
            "count": 0
           },
           {
            "bin_start": 0.8997469995958225,
            "bin_end": 1,
            "count": 1
           }
          ]
         }
        },
        {
         "name": "refuerzo_diff",
         "dtype": "float64",
         "stats": {
          "unique_count": 3,
          "nan_count": 0,
          "min": "-0.035715932488585504",
          "max": "1.0",
          "histogram": [
           {
            "bin_start": -0.035715932488585504,
            "bin_end": 0.06785566076027302,
            "count": 2
           },
           {
            "bin_start": 0.06785566076027302,
            "bin_end": 0.17142725400913156,
            "count": 0
           },
           {
            "bin_start": 0.17142725400913156,
            "bin_end": 0.27499884725799006,
            "count": 0
           },
           {
            "bin_start": 0.27499884725799006,
            "bin_end": 0.3785704405068486,
            "count": 0
           },
           {
            "bin_start": 0.3785704405068486,
            "bin_end": 0.4821420337557072,
            "count": 0
           },
           {
            "bin_start": 0.4821420337557072,
            "bin_end": 0.5857136270045656,
            "count": 0
           },
           {
            "bin_start": 0.5857136270045656,
            "bin_end": 0.6892852202534242,
            "count": 0
           },
           {
            "bin_start": 0.6892852202534242,
            "bin_end": 0.7928568135022828,
            "count": 0
           },
           {
            "bin_start": 0.7928568135022828,
            "bin_end": 0.8964284067511413,
            "count": 0
           },
           {
            "bin_start": 0.8964284067511413,
            "bin_end": 1,
            "count": 1
           }
          ]
         }
        },
        {
         "name": "_deepnote_index_column",
         "dtype": "object"
        }
       ],
       "rows_top": [
        {
         "primera_dosis_diff": 1,
         "segunda_dosis_diff": 0.06930626309765642,
         "refuerzo_diff": -0.035715932488585504,
         "_deepnote_index_column": "primera_dosis_diff"
        },
        {
         "primera_dosis_diff": 0.06930626309765642,
         "segunda_dosis_diff": 1,
         "refuerzo_diff": -0.0025300040417744,
         "_deepnote_index_column": "segunda_dosis_diff"
        },
        {
         "primera_dosis_diff": -0.035715932488585504,
         "segunda_dosis_diff": -0.0025300040417744,
         "refuerzo_diff": 1,
         "_deepnote_index_column": "refuerzo_diff"
        }
       ],
       "rows_bottom": null
      },
      "text/plain": "                    primera_dosis_diff  segunda_dosis_diff  refuerzo_diff\nprimera_dosis_diff            1.000000            0.069306      -0.035716\nsegunda_dosis_diff            0.069306            1.000000      -0.002530\nrefuerzo_diff                -0.035716           -0.002530       1.000000",
      "text/html": "<div>\n<style scoped>\n    .dataframe tbody tr th:only-of-type {\n        vertical-align: middle;\n    }\n\n    .dataframe tbody tr th {\n        vertical-align: top;\n    }\n\n    .dataframe thead th {\n        text-align: right;\n    }\n</style>\n<table border=\"1\" class=\"dataframe\">\n  <thead>\n    <tr style=\"text-align: right;\">\n      <th></th>\n      <th>primera_dosis_diff</th>\n      <th>segunda_dosis_diff</th>\n      <th>refuerzo_diff</th>\n    </tr>\n  </thead>\n  <tbody>\n    <tr>\n      <th>primera_dosis_diff</th>\n      <td>1.000000</td>\n      <td>0.069306</td>\n      <td>-0.035716</td>\n    </tr>\n    <tr>\n      <th>segunda_dosis_diff</th>\n      <td>0.069306</td>\n      <td>1.000000</td>\n      <td>-0.002530</td>\n    </tr>\n    <tr>\n      <th>refuerzo_diff</th>\n      <td>-0.035716</td>\n      <td>-0.002530</td>\n      <td>1.000000</td>\n    </tr>\n  </tbody>\n</table>\n</div>"
     },
     "metadata": {}
    }
   ]
  },
  {
   "cell_type": "code",
   "metadata": {
    "tags": [],
    "cell_id": "00022-0a44636d-5dd7-4e62-8d5f-1b53f9848fdc",
    "deepnote_to_be_reexecuted": false,
    "source_hash": "5538e8d1",
    "execution_start": 1639418215369,
    "execution_millis": 587,
    "deepnote_output_heights": [
     21.1875,
     352
    ],
    "deepnote_cell_type": "code"
   },
   "source": "sns.heatmap(df_vaccinated[['primera_dosis_diff', 'segunda_dosis_diff', 'refuerzo_diff']].corr(), \nannot=True,\nsquare=True,\ncmap='summer')",
   "execution_count": null,
   "outputs": [
    {
     "output_type": "execute_result",
     "execution_count": 22,
     "data": {
      "text/plain": "<AxesSubplot:>"
     },
     "metadata": {}
    },
    {
     "data": {
      "text/plain": "<Figure size 432x288 with 2 Axes>",
      "image/png": "[encoded data removed]"
     },
     "metadata": {
      "image/png": {
       "width": 400,
       "height": 350
      }
     },
     "output_type": "display_data"
    }
   ]
  },
  {
   "cell_type": "code",
   "metadata": {
    "tags": [],
    "cell_id": "00024-b4456216-858a-4adc-836f-a495b104fad6",
    "deepnote_to_be_reexecuted": false,
    "source_hash": "be7174ba",
    "execution_start": 1639418175111,
    "execution_millis": 14,
    "deepnote_output_heights": [
     32
    ],
    "deepnote_cell_type": "code"
   },
   "source": "df_vaccinated.query('primera_dosis_diff < 0')[['primera_dosis_diff']] ",
   "execution_count": null,
   "outputs": [
    {
     "output_type": "execute_result",
     "execution_count": 19,
     "data": {
      "application/vnd.deepnote.dataframe.v2+json": {
       "row_count": 0,
       "column_count": 1,
       "columns": [
        {
         "name": "primera_dosis_diff",
         "dtype": "float64",
         "stats": {
          "unique_count": 0,
          "nan_count": 0,
          "min": null,
          "max": null,
          "histogram": [
           {
            "bin_start": 0,
            "bin_end": 0.1,
            "count": 0
           },
           {
            "bin_start": 0.1,
            "bin_end": 0.2,
            "count": 0
           },
           {
            "bin_start": 0.2,
            "bin_end": 0.30000000000000004,
            "count": 0
           },
           {
            "bin_start": 0.30000000000000004,
            "bin_end": 0.4,
            "count": 0
           },
           {
            "bin_start": 0.4,
            "bin_end": 0.5,
            "count": 0
           },
           {
            "bin_start": 0.5,
            "bin_end": 0.6000000000000001,
            "count": 0
           },
           {
            "bin_start": 0.6000000000000001,
            "bin_end": 0.7000000000000001,
            "count": 0
           },
           {
            "bin_start": 0.7000000000000001,
            "bin_end": 0.8,
            "count": 0
           },
           {
            "bin_start": 0.8,
            "bin_end": 0.9,
            "count": 0
           },
           {
            "bin_start": 0.9,
            "bin_end": 1,
            "count": 0
           }
          ]
         }
        },
        {
         "name": "_deepnote_index_column",
         "dtype": "int64"
        }
       ],
       "rows_top": [],
       "rows_bottom": null
      },
      "text/plain": "Empty DataFrame\nColumns: [primera_dosis_diff]\nIndex: []",
      "text/html": "<div>\n<style scoped>\n    .dataframe tbody tr th:only-of-type {\n        vertical-align: middle;\n    }\n\n    .dataframe tbody tr th {\n        vertical-align: top;\n    }\n\n    .dataframe thead th {\n        text-align: right;\n    }\n</style>\n<table border=\"1\" class=\"dataframe\">\n  <thead>\n    <tr style=\"text-align: right;\">\n      <th></th>\n      <th>primera_dosis_diff</th>\n    </tr>\n  </thead>\n  <tbody>\n  </tbody>\n</table>\n</div>"
     },
     "metadata": {}
    }
   ]
  },
  {
   "cell_type": "code",
   "metadata": {
    "tags": [],
    "cell_id": "00025-92f19f6f-9dbf-475c-bae7-a460b77a8d8f",
    "deepnote_to_be_reexecuted": false,
    "source_hash": "4997ebbf",
    "execution_start": 1639418172525,
    "execution_millis": 42,
    "deepnote_output_heights": [
     21.1875
    ],
    "deepnote_cell_type": "code"
   },
   "source": "df_vaccinated.loc[157, 'primera_dosis_diff'] = df_vaccinated.loc[157, 'primera_dosis_diff'] * -1",
   "execution_count": null,
   "outputs": []
  },
  {
   "cell_type": "code",
   "metadata": {
    "tags": [],
    "cell_id": "00026-75b4c59c-beb9-42e0-b17f-8cf464515197",
    "deepnote_to_be_reexecuted": false,
    "source_hash": "ca117e24",
    "execution_start": 1639418270900,
    "execution_millis": 362,
    "deepnote_cell_type": "code"
   },
   "source": "df_vaccinated.loc[157, 'dosis_total_diff'] = df_vaccinated.loc[157, 'dosis_total_diff'] * -1",
   "execution_count": null,
   "outputs": []
  },
  {
   "cell_type": "code",
   "metadata": {
    "tags": [],
    "cell_id": "00024-870cc625-08e7-4255-92e7-eeafcc47c927",
    "deepnote_to_be_reexecuted": false,
    "source_hash": "b2169481",
    "execution_start": 1639418290422,
    "execution_millis": 111,
    "deepnote_output_heights": [
     193.921875
    ],
    "deepnote_cell_type": "code"
   },
   "source": "df_vaccinated.iloc[156:159]",
   "execution_count": null,
   "outputs": [
    {
     "output_type": "execute_result",
     "execution_count": 26,
     "data": {
      "application/vnd.deepnote.dataframe.v2+json": {
       "row_count": 3,
       "column_count": 9,
       "columns": [
        {
         "name": "fecha",
         "dtype": "datetime64[ns]",
         "stats": {
          "unique_count": 3,
          "nan_count": 0,
          "min": "2021-09-19 00:00:00",
          "max": "2021-09-21 00:00:00",
          "histogram": [
           {
            "bin_start": 1632009600000000000,
            "bin_end": 1632026880000000000,
            "count": 1
           },
           {
            "bin_start": 1632026880000000000,
            "bin_end": 1632044160000000000,
            "count": 0
           },
           {
            "bin_start": 1632044160000000000,
            "bin_end": 1632061440000000000,
            "count": 0
           },
           {
            "bin_start": 1632061440000000000,
            "bin_end": 1632078720000000000,
            "count": 0
           },
           {
            "bin_start": 1632078720000000000,
            "bin_end": 1632096000000000000,
            "count": 0
           },
           {
            "bin_start": 1632096000000000000,
            "bin_end": 1632113280000000000,
            "count": 1
           },
           {
            "bin_start": 1632113280000000000,
            "bin_end": 1632130560000000000,
            "count": 0
           },
           {
            "bin_start": 1632130560000000000,
            "bin_end": 1632147840000000000,
            "count": 0
           },
           {
            "bin_start": 1632147840000000000,
            "bin_end": 1632165120000000000,
            "count": 0
           },
           {
            "bin_start": 1632165120000000000,
            "bin_end": 1632182400000000000,
            "count": 1
           }
          ]
         }
        },
        {
         "name": "dosis_total",
         "dtype": "int64",
         "stats": {
          "unique_count": 3,
          "nan_count": 0,
          "min": "20452529",
          "max": "20515688",
          "histogram": [
           {
            "bin_start": 20452529,
            "bin_end": 20458844.9,
            "count": 1
           },
           {
            "bin_start": 20458844.9,
            "bin_end": 20465160.8,
            "count": 0
           },
           {
            "bin_start": 20465160.8,
            "bin_end": 20471476.7,
            "count": 0
           },
           {
            "bin_start": 20471476.7,
            "bin_end": 20477792.6,
            "count": 1
           },
           {
            "bin_start": 20477792.6,
            "bin_end": 20484108.5,
            "count": 0
           },
           {
            "bin_start": 20484108.5,
            "bin_end": 20490424.4,
            "count": 0
           },
           {
            "bin_start": 20490424.4,
            "bin_end": 20496740.3,
            "count": 0
           },
           {
            "bin_start": 20496740.3,
            "bin_end": 20503056.2,
            "count": 0
           },
           {
            "bin_start": 20503056.2,
            "bin_end": 20509372.1,
            "count": 0
           },
           {
            "bin_start": 20509372.1,
            "bin_end": 20515688,
            "count": 1
           }
          ]
         }
        },
        {
         "name": "primera_dosis",
         "dtype": "int64",
         "stats": {
          "unique_count": 2,
          "nan_count": 0,
          "min": "10654583",
          "max": "10699102",
          "histogram": [
           {
            "bin_start": 10654583,
            "bin_end": 10659034.9,
            "count": 1
           },
           {
            "bin_start": 10659034.9,
            "bin_end": 10663486.8,
            "count": 0
           },
           {
            "bin_start": 10663486.8,
            "bin_end": 10667938.7,
            "count": 0
           },
           {
            "bin_start": 10667938.7,
            "bin_end": 10672390.6,
            "count": 0
           },
           {
            "bin_start": 10672390.6,
            "bin_end": 10676842.5,
            "count": 0
           },
           {
            "bin_start": 10676842.5,
            "bin_end": 10681294.4,
            "count": 0
           },
           {
            "bin_start": 10681294.4,
            "bin_end": 10685746.3,
            "count": 0
           },
           {
            "bin_start": 10685746.3,
            "bin_end": 10690198.2,
            "count": 0
           },
           {
            "bin_start": 10690198.2,
            "bin_end": 10694650.1,
            "count": 0
           },
           {
            "bin_start": 10694650.1,
            "bin_end": 10699102,
            "count": 2
           }
          ]
         }
        },
        {
         "name": "segunda_dosis",
         "dtype": "int64",
         "stats": {
          "unique_count": 3,
          "nan_count": 0,
          "min": "9773765",
          "max": "9816586",
          "histogram": [
           {
            "bin_start": 9773765,
            "bin_end": 9778047.1,
            "count": 1
           },
           {
            "bin_start": 9778047.1,
            "bin_end": 9782329.2,
            "count": 0
           },
           {
            "bin_start": 9782329.2,
            "bin_end": 9786611.3,
            "count": 0
           },
           {
            "bin_start": 9786611.3,
            "bin_end": 9790893.4,
            "count": 0
           },
           {
            "bin_start": 9790893.4,
            "bin_end": 9795175.5,
            "count": 0
           },
           {
            "bin_start": 9795175.5,
            "bin_end": 9799457.6,
            "count": 1
           },
           {
            "bin_start": 9799457.6,
            "bin_end": 9803739.7,
            "count": 0
           },
           {
            "bin_start": 9803739.7,
            "bin_end": 9808021.8,
            "count": 0
           },
           {
            "bin_start": 9808021.8,
            "bin_end": 9812303.9,
            "count": 0
           },
           {
            "bin_start": 9812303.9,
            "bin_end": 9816586,
            "count": 1
           }
          ]
         }
        },
        {
         "name": "refuerzo",
         "dtype": "int64",
         "stats": {
          "unique_count": 1,
          "nan_count": 0,
          "min": "0",
          "max": "0",
          "histogram": [
           {
            "bin_start": -0.5,
            "bin_end": -0.4,
            "count": 0
           },
           {
            "bin_start": -0.4,
            "bin_end": -0.3,
            "count": 0
           },
           {
            "bin_start": -0.3,
            "bin_end": -0.19999999999999996,
            "count": 0
           },
           {
            "bin_start": -0.19999999999999996,
            "bin_end": -0.09999999999999998,
            "count": 0
           },
           {
            "bin_start": -0.09999999999999998,
            "bin_end": 0,
            "count": 0
           },
           {
            "bin_start": 0,
            "bin_end": 0.10000000000000009,
            "count": 3
           },
           {
            "bin_start": 0.10000000000000009,
            "bin_end": 0.20000000000000007,
            "count": 0
           },
           {
            "bin_start": 0.20000000000000007,
            "bin_end": 0.30000000000000004,
            "count": 0
           },
           {
            "bin_start": 0.30000000000000004,
            "bin_end": 0.4,
            "count": 0
           },
           {
            "bin_start": 0.4,
            "bin_end": 0.5,
            "count": 0
           }
          ]
         }
        },
        {
         "name": "primera_dosis_diff",
         "dtype": "float64",
         "stats": {
          "unique_count": 2,
          "nan_count": 0,
          "min": "0.0",
          "max": "44519.0",
          "histogram": [
           {
            "bin_start": 0,
            "bin_end": 4451.9,
            "count": 1
           },
           {
            "bin_start": 4451.9,
            "bin_end": 8903.8,
            "count": 0
           },
           {
            "bin_start": 8903.8,
            "bin_end": 13355.699999999999,
            "count": 0
           },
           {
            "bin_start": 13355.699999999999,
            "bin_end": 17807.6,
            "count": 0
           },
           {
            "bin_start": 17807.6,
            "bin_end": 22259.5,
            "count": 0
           },
           {
            "bin_start": 22259.5,
            "bin_end": 26711.399999999998,
            "count": 0
           },
           {
            "bin_start": 26711.399999999998,
            "bin_end": 31163.299999999996,
            "count": 0
           },
           {
            "bin_start": 31163.299999999996,
            "bin_end": 35615.2,
            "count": 0
           },
           {
            "bin_start": 35615.2,
            "bin_end": 40067.1,
            "count": 0
           },
           {
            "bin_start": 40067.1,
            "bin_end": 44519,
            "count": 2
           }
          ]
         }
        },
        {
         "name": "segunda_dosis_diff",
         "dtype": "float64",
         "stats": {
          "unique_count": 3,
          "nan_count": 0,
          "min": "16196.0",
          "max": "24181.0",
          "histogram": [
           {
            "bin_start": 16196,
            "bin_end": 16994.5,
            "count": 1
           },
           {
            "bin_start": 16994.5,
            "bin_end": 17793,
            "count": 0
           },
           {
            "bin_start": 17793,
            "bin_end": 18591.5,
            "count": 0
           },
           {
            "bin_start": 18591.5,
            "bin_end": 19390,
            "count": 1
           },
           {
            "bin_start": 19390,
            "bin_end": 20188.5,
            "count": 0
           },
           {
            "bin_start": 20188.5,
            "bin_end": 20987,
            "count": 0
           },
           {
            "bin_start": 20987,
            "bin_end": 21785.5,
            "count": 0
           },
           {
            "bin_start": 21785.5,
            "bin_end": 22584,
            "count": 0
           },
           {
            "bin_start": 22584,
            "bin_end": 23382.5,
            "count": 0
           },
           {
            "bin_start": 23382.5,
            "bin_end": 24181,
            "count": 1
           }
          ]
         }
        },
        {
         "name": "refuerzo_diff",
         "dtype": "float64",
         "stats": {
          "unique_count": 1,
          "nan_count": 0,
          "min": "0.0",
          "max": "0.0",
          "histogram": [
           {
            "bin_start": -0.5,
            "bin_end": -0.4,
            "count": 0
           },
           {
            "bin_start": -0.4,
            "bin_end": -0.3,
            "count": 0
           },
           {
            "bin_start": -0.3,
            "bin_end": -0.19999999999999996,
            "count": 0
           },
           {
            "bin_start": -0.19999999999999996,
            "bin_end": -0.09999999999999998,
            "count": 0
           },
           {
            "bin_start": -0.09999999999999998,
            "bin_end": 0,
            "count": 0
           },
           {
            "bin_start": 0,
            "bin_end": 0.10000000000000009,
            "count": 3
           },
           {
            "bin_start": 0.10000000000000009,
            "bin_end": 0.20000000000000007,
            "count": 0
           },
           {
            "bin_start": 0.20000000000000007,
            "bin_end": 0.30000000000000004,
            "count": 0
           },
           {
            "bin_start": 0.30000000000000004,
            "bin_end": 0.4,
            "count": 0
           },
           {
            "bin_start": 0.4,
            "bin_end": 0.5,
            "count": 0
           }
          ]
         }
        },
        {
         "name": "dosis_total_diff",
         "dtype": "float64",
         "stats": {
          "unique_count": 3,
          "nan_count": 0,
          "min": "16196.0",
          "max": "63159.0",
          "histogram": [
           {
            "bin_start": 16196,
            "bin_end": 20892.3,
            "count": 2
           },
           {
            "bin_start": 20892.3,
            "bin_end": 25588.6,
            "count": 0
           },
           {
            "bin_start": 25588.6,
            "bin_end": 30284.9,
            "count": 0
           },
           {
            "bin_start": 30284.9,
            "bin_end": 34981.2,
            "count": 0
           },
           {
            "bin_start": 34981.2,
            "bin_end": 39677.5,
            "count": 0
           },
           {
            "bin_start": 39677.5,
            "bin_end": 44373.8,
            "count": 0
           },
           {
            "bin_start": 44373.8,
            "bin_end": 49070.1,
            "count": 0
           },
           {
            "bin_start": 49070.1,
            "bin_end": 53766.4,
            "count": 0
           },
           {
            "bin_start": 53766.4,
            "bin_end": 58462.700000000004,
            "count": 0
           },
           {
            "bin_start": 58462.700000000004,
            "bin_end": 63159,
            "count": 1
           }
          ]
         }
        },
        {
         "name": "_deepnote_index_column",
         "dtype": "int64"
        }
       ],
       "rows_top": [
        {
         "fecha": "2021-09-19T00:00:00.000000",
         "dosis_total": 20472867,
         "primera_dosis": 10699102,
         "segunda_dosis": 9773765,
         "refuerzo": 0,
         "primera_dosis_diff": 0,
         "segunda_dosis_diff": 16196,
         "refuerzo_diff": 0,
         "dosis_total_diff": 16196,
         "_deepnote_index_column": 156
        },
        {
         "fecha": "2021-09-20T00:00:00.000000",
         "dosis_total": 20452529,
         "primera_dosis": 10654583,
         "segunda_dosis": 9797946,
         "refuerzo": 0,
         "primera_dosis_diff": 44519,
         "segunda_dosis_diff": 24181,
         "refuerzo_diff": 0,
         "dosis_total_diff": 20338,
         "_deepnote_index_column": 157
        },
        {
         "fecha": "2021-09-21T00:00:00.000000",
         "dosis_total": 20515688,
         "primera_dosis": 10699102,
         "segunda_dosis": 9816586,
         "refuerzo": 0,
         "primera_dosis_diff": 44519,
         "segunda_dosis_diff": 18640,
         "refuerzo_diff": 0,
         "dosis_total_diff": 63159,
         "_deepnote_index_column": 158
        }
       ],
       "rows_bottom": null
      },
      "text/plain": "         fecha  dosis_total  primera_dosis  segunda_dosis  refuerzo  \\\n156 2021-09-19     20472867       10699102        9773765         0   \n157 2021-09-20     20452529       10654583        9797946         0   \n158 2021-09-21     20515688       10699102        9816586         0   \n\n     primera_dosis_diff  segunda_dosis_diff  refuerzo_diff  dosis_total_diff  \n156                 0.0             16196.0            0.0           16196.0  \n157             44519.0             24181.0            0.0           20338.0  \n158             44519.0             18640.0            0.0           63159.0  ",
      "text/html": "<div>\n<style scoped>\n    .dataframe tbody tr th:only-of-type {\n        vertical-align: middle;\n    }\n\n    .dataframe tbody tr th {\n        vertical-align: top;\n    }\n\n    .dataframe thead th {\n        text-align: right;\n    }\n</style>\n<table border=\"1\" class=\"dataframe\">\n  <thead>\n    <tr style=\"text-align: right;\">\n      <th></th>\n      <th>fecha</th>\n      <th>dosis_total</th>\n      <th>primera_dosis</th>\n      <th>segunda_dosis</th>\n      <th>refuerzo</th>\n      <th>primera_dosis_diff</th>\n      <th>segunda_dosis_diff</th>\n      <th>refuerzo_diff</th>\n      <th>dosis_total_diff</th>\n    </tr>\n  </thead>\n  <tbody>\n    <tr>\n      <th>156</th>\n      <td>2021-09-19</td>\n      <td>20472867</td>\n      <td>10699102</td>\n      <td>9773765</td>\n      <td>0</td>\n      <td>0.0</td>\n      <td>16196.0</td>\n      <td>0.0</td>\n      <td>16196.0</td>\n    </tr>\n    <tr>\n      <th>157</th>\n      <td>2021-09-20</td>\n      <td>20452529</td>\n      <td>10654583</td>\n      <td>9797946</td>\n      <td>0</td>\n      <td>44519.0</td>\n      <td>24181.0</td>\n      <td>0.0</td>\n      <td>20338.0</td>\n    </tr>\n    <tr>\n      <th>158</th>\n      <td>2021-09-21</td>\n      <td>20515688</td>\n      <td>10699102</td>\n      <td>9816586</td>\n      <td>0</td>\n      <td>44519.0</td>\n      <td>18640.0</td>\n      <td>0.0</td>\n      <td>63159.0</td>\n    </tr>\n  </tbody>\n</table>\n</div>"
     },
     "metadata": {}
    }
   ]
  },
  {
   "cell_type": "code",
   "metadata": {
    "tags": [],
    "cell_id": "00023-9ee8aa32-de23-492a-8052-ba3c2a10c341",
    "deepnote_to_be_reexecuted": false,
    "source_hash": "104809a6",
    "execution_start": 1638992943567,
    "execution_millis": 679,
    "deepnote_output_heights": [
     453
    ],
    "deepnote_cell_type": "code"
   },
   "source": "fig, ax = plt.subplots(figsize=(12, 7))\nplt.plot(df_vaccinated.fecha, df_vaccinated.primera_dosis_diff)\nplt.plot(df_vaccinated.fecha, df_vaccinated.segunda_dosis_diff)\nplt.plot(df_vaccinated.fecha, df_vaccinated.refuerzo_diff)\nplt.plot(df_vaccinated.fecha, df_vaccinated.dosis_total_diff)\nplt.title('First, second and reinforcement dose per day', size=18)\nplt.xlabel('Date')\nplt.ylabel('Doses')\nplt.legend(['First dose', 'Second dose', 'Reinforcement dose', 'Total doses'])\nplt.show()",
   "execution_count": null,
   "outputs": [
    {
     "data": {
      "text/plain": "<Figure size 864x504 with 1 Axes>",
      "image/png": "[encoded data removed]"
     },
     "metadata": {
      "image/png": {
       "width": 727,
       "height": 451
      }
     },
     "output_type": "display_data"
    }
   ]
  },
  {
   "cell_type": "code",
   "metadata": {
    "tags": [],
    "cell_id": "00024-f3052262-cda0-4b68-ba95-4f91c298b7f0",
    "deepnote_to_be_reexecuted": false,
    "source_hash": "5d92da4e",
    "execution_start": 1638992204200,
    "execution_millis": 653,
    "deepnote_output_heights": [
     453
    ],
    "deepnote_cell_type": "code"
   },
   "source": "fig, ax = plt.subplots(figsize=(12, 7))\nplt.plot(df_vaccinated.fecha, df_vaccinated.primera_dosis)\nplt.plot(df_vaccinated.fecha, df_vaccinated.segunda_dosis)\nplt.plot(df_vaccinated.fecha, df_vaccinated.refuerzo)\nplt.plot(df_vaccinated.fecha, df_vaccinated.dosis_total)\nplt.title('First, second and reinforcement dose cumulative sum', size=18)\nplt.xlabel('Date')\nplt.ylabel('Doses')\nplt.legend(['First dose', 'Second dose', 'Reinforcement dose', 'Total doses'])\nplt.show()",
   "execution_count": null,
   "outputs": [
    {
     "data": {
      "text/plain": "<Figure size 864x504 with 1 Axes>",
      "image/png": "[encoded data removed]"
     },
     "metadata": {
      "image/png": {
       "width": 727,
       "height": 451
      }
     },
     "output_type": "display_data"
    }
   ]
  },
  {
   "cell_type": "code",
   "metadata": {
    "tags": [],
    "cell_id": "00034-f9e41614-a9b4-41fa-8b42-7f4252d0c32d",
    "deepnote_to_be_reexecuted": false,
    "source_hash": "748f2fbd",
    "execution_start": 1639418384355,
    "execution_millis": 48,
    "deepnote_cell_type": "code"
   },
   "source": "df_vaccinated.to_csv('/work/covid-19_ecuador/data/interim/vaccinated.csv', index=False)",
   "execution_count": null,
   "outputs": []
  },
  {
   "cell_type": "markdown",
   "source": "## Manufacturers",
   "metadata": {
    "tags": [],
    "is_collapsed": false,
    "cell_id": "00032-1f38d520-5cf7-4aaf-b38e-69a24f905246",
    "deepnote_cell_type": "text-cell-h2"
   }
  },
  {
   "cell_type": "code",
   "metadata": {
    "tags": [],
    "cell_id": "00033-15484ed4-be28-46fc-b835-15ae23022649",
    "deepnote_to_be_reexecuted": false,
    "source_hash": "c154ba67",
    "execution_start": 1638993142720,
    "execution_millis": 1262,
    "deepnote_cell_type": "code"
   },
   "source": "df_manufacturers = pd.read_csv('/work/covid-19_ecuador/data/processed/vacc_manufacturers.csv')",
   "execution_count": null,
   "outputs": []
  },
  {
   "cell_type": "code",
   "metadata": {
    "tags": [],
    "cell_id": "00034-f7a9695d-38e9-4ef2-8c58-fe6d08221897",
    "deepnote_to_be_reexecuted": false,
    "source_hash": "f845ed59",
    "execution_start": 1638993158448,
    "execution_millis": 55,
    "deepnote_output_heights": [
     177
    ],
    "deepnote_cell_type": "code"
   },
   "source": "df_manufacturers.head()",
   "execution_count": null,
   "outputs": [
    {
     "output_type": "execute_result",
     "execution_count": 54,
     "data": {
      "application/vnd.deepnote.dataframe.v2+json": {
       "row_count": 5,
       "column_count": 4,
       "columns": [
        {
         "name": "arrived_at",
         "dtype": "object",
         "stats": {
          "unique_count": 5,
          "nan_count": 0,
          "categories": [
           {
            "name": "2021-01-20",
            "count": 1
           },
           {
            "name": "2021-02-17",
            "count": 1
           },
           {
            "name": "3 others",
            "count": 3
           }
          ]
         }
        },
        {
         "name": "vaccine",
         "dtype": "object",
         "stats": {
          "unique_count": 2,
          "nan_count": 0,
          "categories": [
           {
            "name": "Pfizer/BioNTech",
            "count": 4
           },
           {
            "name": "Sinovac",
            "count": 1
           }
          ]
         }
        },
        {
         "name": "total",
         "dtype": "int64",
         "stats": {
          "unique_count": 5,
          "nan_count": 0,
          "min": "8190",
          "max": "31590",
          "histogram": [
           {
            "bin_start": 8190,
            "bin_end": 10530,
            "count": 1
           },
           {
            "bin_start": 10530,
            "bin_end": 12870,
            "count": 0
           },
           {
            "bin_start": 12870,
            "bin_end": 15210,
            "count": 0
           },
           {
            "bin_start": 15210,
            "bin_end": 17550,
            "count": 1
           },
           {
            "bin_start": 17550,
            "bin_end": 19890,
            "count": 1
           },
           {
            "bin_start": 19890,
            "bin_end": 22230,
            "count": 1
           },
           {
            "bin_start": 22230,
            "bin_end": 24570,
            "count": 0
           },
           {
            "bin_start": 24570,
            "bin_end": 26910,
            "count": 0
           },
           {
            "bin_start": 26910,
            "bin_end": 29250,
            "count": 0
           },
           {
            "bin_start": 29250,
            "bin_end": 31590,
            "count": 1
           }
          ]
         }
        },
        {
         "name": "contract",
         "dtype": "object",
         "stats": {
          "unique_count": 2,
          "nan_count": 0,
          "categories": [
           {
            "name": "Government of Ecuador with Pfizer",
            "count": 4
           },
           {
            "name": "Donation from the Government of Chile to the Government of Ecuador",
            "count": 1
           }
          ]
         }
        },
        {
         "name": "_deepnote_index_column",
         "dtype": "int64"
        }
       ],
       "rows_top": [
        {
         "arrived_at": "2021-01-20",
         "vaccine": "Pfizer/BioNTech",
         "total": 8190,
         "contract": "Government of Ecuador with Pfizer",
         "_deepnote_index_column": 0
        },
        {
         "arrived_at": "2021-02-17",
         "vaccine": "Pfizer/BioNTech",
         "total": 16380,
         "contract": "Government of Ecuador with Pfizer",
         "_deepnote_index_column": 1
        },
        {
         "arrived_at": "2021-02-24",
         "vaccine": "Pfizer/BioNTech",
         "total": 17550,
         "contract": "Government of Ecuador with Pfizer",
         "_deepnote_index_column": 2
        },
        {
         "arrived_at": "2021-03-03",
         "vaccine": "Pfizer/BioNTech",
         "total": 31590,
         "contract": "Government of Ecuador with Pfizer",
         "_deepnote_index_column": 3
        },
        {
         "arrived_at": "2021-03-06",
         "vaccine": "Sinovac",
         "total": 20000,
         "contract": "Donation from the Government of Chile to the Government of Ecuador",
         "_deepnote_index_column": 4
        }
       ],
       "rows_bottom": null
      },
      "text/plain": "   arrived_at          vaccine  total  \\\n0  2021-01-20  Pfizer/BioNTech   8190   \n1  2021-02-17  Pfizer/BioNTech  16380   \n2  2021-02-24  Pfizer/BioNTech  17550   \n3  2021-03-03  Pfizer/BioNTech  31590   \n4  2021-03-06          Sinovac  20000   \n\n                                            contract  \n0                  Government of Ecuador with Pfizer  \n1                  Government of Ecuador with Pfizer  \n2                  Government of Ecuador with Pfizer  \n3                  Government of Ecuador with Pfizer  \n4  Donation from the Government of Chile to the G...  ",
      "text/html": "<div>\n<style scoped>\n    .dataframe tbody tr th:only-of-type {\n        vertical-align: middle;\n    }\n\n    .dataframe tbody tr th {\n        vertical-align: top;\n    }\n\n    .dataframe thead th {\n        text-align: right;\n    }\n</style>\n<table border=\"1\" class=\"dataframe\">\n  <thead>\n    <tr style=\"text-align: right;\">\n      <th></th>\n      <th>arrived_at</th>\n      <th>vaccine</th>\n      <th>total</th>\n      <th>contract</th>\n    </tr>\n  </thead>\n  <tbody>\n    <tr>\n      <th>0</th>\n      <td>2021-01-20</td>\n      <td>Pfizer/BioNTech</td>\n      <td>8190</td>\n      <td>Government of Ecuador with Pfizer</td>\n    </tr>\n    <tr>\n      <th>1</th>\n      <td>2021-02-17</td>\n      <td>Pfizer/BioNTech</td>\n      <td>16380</td>\n      <td>Government of Ecuador with Pfizer</td>\n    </tr>\n    <tr>\n      <th>2</th>\n      <td>2021-02-24</td>\n      <td>Pfizer/BioNTech</td>\n      <td>17550</td>\n      <td>Government of Ecuador with Pfizer</td>\n    </tr>\n    <tr>\n      <th>3</th>\n      <td>2021-03-03</td>\n      <td>Pfizer/BioNTech</td>\n      <td>31590</td>\n      <td>Government of Ecuador with Pfizer</td>\n    </tr>\n    <tr>\n      <th>4</th>\n      <td>2021-03-06</td>\n      <td>Sinovac</td>\n      <td>20000</td>\n      <td>Donation from the Government of Chile to the G...</td>\n    </tr>\n  </tbody>\n</table>\n</div>"
     },
     "metadata": {}
    }
   ]
  },
  {
   "cell_type": "code",
   "metadata": {
    "tags": [],
    "cell_id": "00035-8e506258-3cfe-4750-b6b1-d86887318d28",
    "deepnote_to_be_reexecuted": false,
    "source_hash": "a45b504e",
    "execution_start": 1638994870085,
    "execution_millis": 358,
    "deepnote_cell_type": "code"
   },
   "source": "df_manufacturers['total_cumulative'] = df_manufacturers['total'].cumsum()",
   "execution_count": null,
   "outputs": []
  },
  {
   "cell_type": "code",
   "metadata": {
    "tags": [],
    "cell_id": "00035-60cd621d-9a93-4572-a6e1-4099dd35156a",
    "deepnote_to_be_reexecuted": false,
    "source_hash": "a885b4e5",
    "execution_start": 1638994873145,
    "execution_millis": 35,
    "deepnote_output_heights": [
     117.15625
    ],
    "deepnote_cell_type": "code"
   },
   "source": "df_manufacturers.dtypes",
   "execution_count": null,
   "outputs": [
    {
     "output_type": "execute_result",
     "execution_count": 78,
     "data": {
      "text/plain": "arrived_at          datetime64[ns]\nvaccine                   category\ntotal                        int64\ncontract                  category\ntotal_cumulative             int64\ndtype: object"
     },
     "metadata": {}
    }
   ]
  },
  {
   "cell_type": "code",
   "metadata": {
    "tags": [],
    "cell_id": "00036-54b424f9-a489-43a1-bd94-dcd77acc42cb",
    "deepnote_to_be_reexecuted": false,
    "source_hash": "b0f3ac00",
    "execution_start": 1638993408959,
    "execution_millis": 344,
    "deepnote_output_heights": [
     232.3125
    ],
    "deepnote_cell_type": "code"
   },
   "source": "df_manufacturers.arrived_at = pd.to_datetime(df_manufacturers.arrived_at, format='%Y/%m/%d')",
   "execution_count": null,
   "outputs": []
  },
  {
   "cell_type": "code",
   "metadata": {
    "tags": [],
    "cell_id": "00037-903568fd-fee8-4934-be80-3c9623f668d4",
    "deepnote_to_be_reexecuted": false,
    "source_hash": "1934072b",
    "execution_start": 1638994243163,
    "execution_millis": 387,
    "deepnote_output_heights": [
     251.5
    ],
    "deepnote_cell_type": "code"
   },
   "source": "df_manufacturers.vaccine = df_manufacturers.vaccine.astype('category')",
   "execution_count": null,
   "outputs": []
  },
  {
   "cell_type": "code",
   "metadata": {
    "tags": [],
    "cell_id": "00038-53acf1e4-8aa3-4fc9-8779-247e7a301f3b",
    "deepnote_to_be_reexecuted": false,
    "source_hash": "b4954779",
    "execution_start": 1638994334812,
    "execution_millis": 944,
    "deepnote_cell_type": "code"
   },
   "source": "df_manufacturers.contract = df_manufacturers.contract.astype('category')",
   "execution_count": null,
   "outputs": []
  },
  {
   "cell_type": "code",
   "metadata": {
    "tags": [],
    "cell_id": "00037-771a875f-9cb1-4cdb-9838-975101bdc954",
    "deepnote_to_be_reexecuted": false,
    "source_hash": "c0f96a2",
    "execution_start": 1638993441526,
    "execution_millis": 41,
    "deepnote_output_heights": [
     21.1875
    ],
    "deepnote_cell_type": "code"
   },
   "source": "df_manufacturers.shape",
   "execution_count": null,
   "outputs": [
    {
     "output_type": "execute_result",
     "execution_count": 60,
     "data": {
      "text/plain": "(75, 4)"
     },
     "metadata": {}
    }
   ]
  },
  {
   "cell_type": "code",
   "metadata": {
    "tags": [],
    "cell_id": "00038-32de83a5-2af4-4b88-9085-9aab23fcd3c0",
    "deepnote_to_be_reexecuted": false,
    "source_hash": "76ddba45",
    "execution_start": 1638994754233,
    "execution_millis": 933,
    "deepnote_output_heights": [
     453
    ],
    "deepnote_cell_type": "code"
   },
   "source": "fig, ax = plt.subplots(figsize=(12, 7))\nplt.plot(df_manufacturers.arrived_at, df_manufacturers.total)\nplt.title('Vaccines arrived', size=18)\nplt.xlabel('Date')\nplt.ylabel('Vaccines')\nplt.show()",
   "execution_count": null,
   "outputs": [
    {
     "data": {
      "text/plain": "<Figure size 864x504 with 1 Axes>",
      "image/png": "[encoded data removed]"
     },
     "metadata": {
      "image/png": {
       "width": 748,
       "height": 451
      }
     },
     "output_type": "display_data"
    }
   ]
  },
  {
   "cell_type": "code",
   "metadata": {
    "tags": [],
    "cell_id": "00042-6b5d845f-95ab-40c0-81eb-650f9c3d103e",
    "deepnote_to_be_reexecuted": false,
    "source_hash": "68756ffc",
    "execution_start": 1638994905272,
    "execution_millis": 1464,
    "deepnote_output_heights": [
     453
    ],
    "deepnote_cell_type": "code"
   },
   "source": "fig, ax = plt.subplots(figsize=(12, 7))\nplt.plot(df_manufacturers.arrived_at, df_manufacturers.total_cumulative)\nplt.title('Vaccines arrived cumulative', size=18)\nplt.xlabel('Date')\nplt.ylabel('Vaccines')\nplt.show()",
   "execution_count": null,
   "outputs": [
    {
     "data": {
      "text/plain": "<Figure size 864x504 with 1 Axes>",
      "image/png": "[encoded data removed]"
     },
     "metadata": {
      "image/png": {
       "width": 748,
       "height": 451
      }
     },
     "output_type": "display_data"
    }
   ]
  },
  {
   "cell_type": "code",
   "metadata": {
    "tags": [],
    "cell_id": "00043-14ed9c13-69c3-40ed-b6ab-164392d280eb",
    "deepnote_to_be_reexecuted": false,
    "source_hash": "ef1ecb51",
    "execution_start": 1638995519856,
    "execution_millis": 1060,
    "deepnote_output_heights": [
     554
    ],
    "deepnote_cell_type": "code"
   },
   "source": "fig, ax = plt.subplots(figsize=(12, 7))\ndf_manufacturers.groupby(['vaccine'])[['total']].sum().sort_values(by='total', \nascending=False).plot.bar(ax=ax)\n\nplt.title('Vaccines by manufacturer', size=18)\nplt.ylabel('Total')\nplt.legend('')\nplt.show()",
   "execution_count": null,
   "outputs": [
    {
     "data": {
      "text/plain": "<Figure size 864x504 with 1 Axes>",
      "image/png": "[encoded data removed]"
     },
     "metadata": {
      "image/png": {
       "width": 727,
       "height": 552
      }
     },
     "output_type": "display_data"
    }
   ]
  },
  {
   "cell_type": "code",
   "metadata": {
    "tags": [],
    "cell_id": "00044-bb778a72-74b4-4902-98f0-6fdf1c6482a8",
    "deepnote_to_be_reexecuted": false,
    "source_hash": "1bcfcafa",
    "execution_start": 1638996649743,
    "execution_millis": 947,
    "deepnote_output_heights": [
     611
    ],
    "deepnote_cell_type": "code"
   },
   "source": "fig, ax = plt.subplots(figsize=(12, 7))\ndf_manufacturers.groupby(['contract'])[['total']].sum().sort_values(by='total', \nascending=False).plot.bar(ax=ax)\n\nplt.title('Vaccines by contract', size=18)\nplt.ylabel('Total')\nplt.legend('')\nplt.show()",
   "execution_count": null,
   "outputs": [
    {
     "data": {
      "text/plain": "<Figure size 864x504 with 1 Axes>",
      "image/png": "[encoded data removed]"
     },
     "metadata": {
      "image/png": {
       "width": 727,
       "height": 836
      }
     },
     "output_type": "display_data"
    }
   ]
  },
  {
   "cell_type": "markdown",
   "source": "<a style='text-decoration:none;line-height:16px;display:flex;color:#5B5B62;padding:10px;justify-content:end;' href='https://deepnote.com?utm_source=created-in-deepnote-cell&projectId=298bb443-d8b3-4731-ae95-ca4418ea078f' target=\"_blank\">\n<img alt='Created in deepnote.com' style='display:inline;max-height:16px;margin:0px;margin-right:7.5px;' src='data:image/svg+xml;base64,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' > </img>\nCreated in <span style='font-weight:600;margin-left:4px;'>Deepnote</span></a>",
   "metadata": {
    "tags": [],
    "created_in_deepnote_cell": true,
    "deepnote_cell_type": "markdown"
   }
  }
 ],
 "nbformat": 4,
 "nbformat_minor": 2,
 "metadata": {
  "orig_nbformat": 2,
  "deepnote": {
   "is_reactive": false
  },
  "deepnote_notebook_id": "05fd9281-d119-47ba-8c24-bb33d790a33b",
  "deepnote_execution_queue": []
 }
}