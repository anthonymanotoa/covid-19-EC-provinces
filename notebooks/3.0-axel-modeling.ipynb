{
 "cells": [
  {
   "cell_type": "markdown",
   "source": "# Modeling: unifying DataFrames ",
   "metadata": {
    "tags": [],
    "is_collapsed": false,
    "cell_id": "00001-4aac4e95-bcd2-4139-b6f6-738bb671da0f",
    "deepnote_cell_type": "text-cell-h1"
   }
  },
  {
   "cell_type": "markdown",
   "source": "Here I'll unify dataframes that will be the input of the models. Data is not treated yet, I'll do that later, prior to creating the model.\n\nData unified is that about positives, vaccination and ICUs.",
   "metadata": {
    "tags": [],
    "cell_id": "00001-05a04acb-3a50-45ec-922a-38c8406573c4",
    "deepnote_cell_type": "markdown"
   }
  },
  {
   "cell_type": "code",
   "metadata": {
    "tags": [],
    "cell_id": "00000-810238b7-0bee-490b-838e-703958440989",
    "deepnote_to_be_reexecuted": false,
    "source_hash": "2f19d1f9",
    "execution_start": 1639503964268,
    "execution_millis": 118,
    "deepnote_cell_type": "code"
   },
   "source": "%load_ext autoreload\n%autoreload 2",
   "execution_count": null,
   "outputs": []
  },
  {
   "cell_type": "code",
   "metadata": {
    "tags": [],
    "cell_id": "00002-a41bda98-17e9-4933-a329-513d09968547",
    "deepnote_to_be_reexecuted": false,
    "source_hash": "c516df8c",
    "execution_start": 1639503966475,
    "execution_millis": 4309,
    "deepnote_cell_type": "code"
   },
   "source": "#libs\nimport pandas as pd\nimport numpy as np\nimport matplotlib.pyplot as plt\nimport seaborn as sns",
   "execution_count": null,
   "outputs": []
  },
  {
   "cell_type": "code",
   "metadata": {
    "tags": [],
    "cell_id": "00003-13fcce78-4664-4a4f-aefe-60aa36dfd134",
    "deepnote_to_be_reexecuted": false,
    "source_hash": "3a1ca139",
    "execution_start": 1639426567085,
    "execution_millis": 536,
    "deepnote_cell_type": "code"
   },
   "source": "pd.read_csv('/work/covid-19_ecuador/data/processed/deaths.csv')",
   "execution_count": null,
   "outputs": [
    {
     "output_type": "execute_result",
     "execution_count": 8,
     "data": {
      "application/vnd.deepnote.dataframe.v2+json": {
       "row_count": 2040,
       "column_count": 8,
       "columns": [
        {
         "name": "provincia",
         "dtype": "object",
         "stats": {
          "unique_count": 25,
          "nan_count": 0,
          "categories": [
           {
            "name": "Azuay",
            "count": 83
           },
           {
            "name": "Bolívar",
            "count": 83
           },
           {
            "name": "23 others",
            "count": 1874
           }
          ]
         }
        },
        {
         "name": "total",
         "dtype": "int64",
         "stats": {
          "unique_count": 622,
          "nan_count": 0,
          "min": "0",
          "max": "12644",
          "histogram": [
           {
            "bin_start": 0,
            "bin_end": 1264.4,
            "count": 1938
           },
           {
            "bin_start": 1264.4,
            "bin_end": 2528.8,
            "count": 94
           },
           {
            "bin_start": 2528.8,
            "bin_end": 3793.2000000000003,
            "count": 6
           },
           {
            "bin_start": 3793.2000000000003,
            "bin_end": 5057.6,
            "count": 0
           },
           {
            "bin_start": 5057.6,
            "bin_end": 6322,
            "count": 1
           },
           {
            "bin_start": 6322,
            "bin_end": 7586.400000000001,
            "count": 0
           },
           {
            "bin_start": 7586.400000000001,
            "bin_end": 8850.800000000001,
            "count": 0
           },
           {
            "bin_start": 8850.800000000001,
            "bin_end": 10115.2,
            "count": 0
           },
           {
            "bin_start": 10115.2,
            "bin_end": 11379.6,
            "count": 0
           },
           {
            "bin_start": 11379.6,
            "bin_end": 12644,
            "count": 1
           }
          ]
         }
        },
        {
         "name": "acumuladas",
         "dtype": "int64",
         "stats": {
          "unique_count": 1368,
          "nan_count": 0,
          "min": "0",
          "max": "38668",
          "histogram": [
           {
            "bin_start": 0,
            "bin_end": 3866.8,
            "count": 1842
           },
           {
            "bin_start": 3866.8,
            "bin_end": 7733.6,
            "count": 94
           },
           {
            "bin_start": 7733.6,
            "bin_end": 11600.400000000001,
            "count": 41
           },
           {
            "bin_start": 11600.400000000001,
            "bin_end": 15467.2,
            "count": 25
           },
           {
            "bin_start": 15467.2,
            "bin_end": 19334,
            "count": 19
           },
           {
            "bin_start": 19334,
            "bin_end": 23200.800000000003,
            "count": 9
           },
           {
            "bin_start": 23200.800000000003,
            "bin_end": 27067.600000000002,
            "count": 4
           },
           {
            "bin_start": 27067.600000000002,
            "bin_end": 30934.4,
            "count": 2
           },
           {
            "bin_start": 30934.4,
            "bin_end": 34801.200000000004,
            "count": 2
           },
           {
            "bin_start": 34801.200000000004,
            "bin_end": 38668,
            "count": 2
           }
          ]
         }
        },
        {
         "name": "lat",
         "dtype": "float64",
         "stats": {
          "unique_count": 25,
          "nan_count": 0,
          "min": "-4.12",
          "max": "1.05",
          "histogram": [
           {
            "bin_start": -4.12,
            "bin_end": -3.603,
            "count": 166
           },
           {
            "bin_start": -3.603,
            "bin_end": -3.0860000000000003,
            "count": 83
           },
           {
            "bin_start": -3.0860000000000003,
            "bin_end": -2.569,
            "count": 166
           },
           {
            "bin_start": -2.569,
            "bin_end": -2.052,
            "count": 249
           },
           {
            "bin_start": -2.052,
            "bin_end": -1.5350000000000001,
            "count": 249
           },
           {
            "bin_start": -1.5350000000000001,
            "bin_end": -1.0179999999999998,
            "count": 249
           },
           {
            "bin_start": -1.0179999999999998,
            "bin_end": -0.5009999999999999,
            "count": 249
           },
           {
            "bin_start": -0.5009999999999999,
            "bin_end": 0.016000000000000014,
            "count": 297
           },
           {
            "bin_start": 0.016000000000000014,
            "bin_end": 0.5330000000000004,
            "count": 166
           },
           {
            "bin_start": 0.5330000000000004,
            "bin_end": 1.05,
            "count": 166
           }
          ]
         }
        },
        {
         "name": "lng",
         "dtype": "float64",
         "stats": {
          "unique_count": 24,
          "nan_count": 0,
          "min": "-89.4",
          "max": "0.0",
          "histogram": [
           {
            "bin_start": -89.4,
            "bin_end": -80.46000000000001,
            "count": 166
           },
           {
            "bin_start": -80.46000000000001,
            "bin_end": -71.52000000000001,
            "count": 1826
           },
           {
            "bin_start": -71.52000000000001,
            "bin_end": -62.58,
            "count": 0
           },
           {
            "bin_start": -62.58,
            "bin_end": -53.64,
            "count": 0
           },
           {
            "bin_start": -53.64,
            "bin_end": -44.7,
            "count": 0
           },
           {
            "bin_start": -44.7,
            "bin_end": -35.76,
            "count": 0
           },
           {
            "bin_start": -35.76,
            "bin_end": -26.819999999999993,
            "count": 0
           },
           {
            "bin_start": -26.819999999999993,
            "bin_end": -17.879999999999995,
            "count": 0
           },
           {
            "bin_start": -17.879999999999995,
            "bin_end": -8.939999999999998,
            "count": 0
           },
           {
            "bin_start": -8.939999999999998,
            "bin_end": 0,
            "count": 48
           }
          ]
         }
        },
        {
         "name": "mes",
         "dtype": "int64",
         "stats": {
          "unique_count": 12,
          "nan_count": 0,
          "min": "1",
          "max": "12",
          "histogram": [
           {
            "bin_start": 1,
            "bin_end": 2.1,
            "count": 344
           },
           {
            "bin_start": 2.1,
            "bin_end": 3.2,
            "count": 172
           },
           {
            "bin_start": 3.2,
            "bin_end": 4.300000000000001,
            "count": 172
           },
           {
            "bin_start": 4.300000000000001,
            "bin_end": 5.4,
            "count": 172
           },
           {
            "bin_start": 5.4,
            "bin_end": 6.5,
            "count": 172
           },
           {
            "bin_start": 6.5,
            "bin_end": 7.6000000000000005,
            "count": 172
           },
           {
            "bin_start": 7.6000000000000005,
            "bin_end": 8.700000000000001,
            "count": 172
           },
           {
            "bin_start": 8.700000000000001,
            "bin_end": 9.8,
            "count": 172
           },
           {
            "bin_start": 9.8,
            "bin_end": 10.9,
            "count": 172
           },
           {
            "bin_start": 10.9,
            "bin_end": 12,
            "count": 320
           }
          ]
         }
        },
        {
         "name": "year",
         "dtype": "int64",
         "stats": {
          "unique_count": 7,
          "nan_count": 0,
          "min": "2015",
          "max": "2021",
          "histogram": [
           {
            "bin_start": 2015,
            "bin_end": 2015.6,
            "count": 300
           },
           {
            "bin_start": 2015.6,
            "bin_end": 2016.2,
            "count": 300
           },
           {
            "bin_start": 2016.2,
            "bin_end": 2016.8,
            "count": 0
           },
           {
            "bin_start": 2016.8,
            "bin_end": 2017.4,
            "count": 300
           },
           {
            "bin_start": 2017.4,
            "bin_end": 2018,
            "count": 0
           },
           {
            "bin_start": 2018,
            "bin_end": 2018.6,
            "count": 300
           },
           {
            "bin_start": 2018.6,
            "bin_end": 2019.2,
            "count": 288
           },
           {
            "bin_start": 2019.2,
            "bin_end": 2019.8,
            "count": 0
           },
           {
            "bin_start": 2019.8,
            "bin_end": 2020.4,
            "count": 288
           },
           {
            "bin_start": 2020.4,
            "bin_end": 2021,
            "count": 264
           }
          ]
         }
        },
        {
         "name": "poblacion",
         "dtype": "float64",
         "stats": {
          "unique_count": 24,
          "nan_count": 1488,
          "min": "33042.0",
          "max": "4387434.0",
          "histogram": [
           {
            "bin_start": 33042,
            "bin_end": 468481.2,
            "count": 253
           },
           {
            "bin_start": 468481.2,
            "bin_end": 903920.4,
            "count": 207
           },
           {
            "bin_start": 903920.4,
            "bin_end": 1339359.6,
            "count": 23
           },
           {
            "bin_start": 1339359.6,
            "bin_end": 1774798.8,
            "count": 23
           },
           {
            "bin_start": 1774798.8,
            "bin_end": 2210238,
            "count": 0
           },
           {
            "bin_start": 2210238,
            "bin_end": 2645677.2,
            "count": 0
           },
           {
            "bin_start": 2645677.2,
            "bin_end": 3081116.4,
            "count": 0
           },
           {
            "bin_start": 3081116.4,
            "bin_end": 3516555.6,
            "count": 23
           },
           {
            "bin_start": 3516555.6,
            "bin_end": 3951994.8000000003,
            "count": 0
           },
           {
            "bin_start": 3951994.8000000003,
            "bin_end": 4387434,
            "count": 23
           }
          ]
         }
        },
        {
         "name": "_deepnote_index_column",
         "dtype": "int64"
        }
       ],
       "rows_top": [
        {
         "provincia": "Azuay",
         "total": 327,
         "acumuladas": 327,
         "lat": -2.897414,
         "lng": -79.004481,
         "mes": 1,
         "year": 2015,
         "poblacion": "nan",
         "_deepnote_index_column": 0
        },
        {
         "provincia": "Bolívar",
         "total": 57,
         "acumuladas": 57,
         "lat": -1.605556,
         "lng": -79.003056,
         "mes": 1,
         "year": 2015,
         "poblacion": "nan",
         "_deepnote_index_column": 1
        },
        {
         "provincia": "Carchi",
         "total": 63,
         "acumuladas": 63,
         "lat": 0.81218,
         "lng": -77.71633,
         "mes": 1,
         "year": 2015,
         "poblacion": "nan",
         "_deepnote_index_column": 2
        },
        {
         "provincia": "Cañar",
         "total": 87,
         "acumuladas": 87,
         "lat": -2.733333,
         "lng": -78.833333,
         "mes": 1,
         "year": 2015,
         "poblacion": "nan",
         "_deepnote_index_column": 3
        },
        {
         "provincia": "Chimborazo",
         "total": 156,
         "acumuladas": 156,
         "lat": -1.674347,
         "lng": -78.64829399999999,
         "mes": 1,
         "year": 2015,
         "poblacion": "nan",
         "_deepnote_index_column": 4
        },
        {
         "provincia": "Cotopaxi",
         "total": 164,
         "acumuladas": 164,
         "lat": -0.933333,
         "lng": -78.616667,
         "mes": 1,
         "year": 2015,
         "poblacion": "nan",
         "_deepnote_index_column": 5
        },
        {
         "provincia": "El Oro",
         "total": 222,
         "acumuladas": 222,
         "lat": -3.266667,
         "lng": -79.966667,
         "mes": 1,
         "year": 2015,
         "poblacion": "nan",
         "_deepnote_index_column": 6
        },
        {
         "provincia": "Esmeraldas",
         "total": 132,
         "acumuladas": 132,
         "lat": 1.05,
         "lng": -79.2,
         "mes": 1,
         "year": 2015,
         "poblacion": "nan",
         "_deepnote_index_column": 7
        },
        {
         "provincia": "Galápagos",
         "total": 1,
         "acumuladas": 1,
         "lat": -0.799999999999999,
         "lng": -89.4,
         "mes": 1,
         "year": 2015,
         "poblacion": "nan",
         "_deepnote_index_column": 8
        },
        {
         "provincia": "Guayas",
         "total": 1555,
         "acumuladas": 1555,
         "lat": -2.183333,
         "lng": -79.883333,
         "mes": 1,
         "year": 2015,
         "poblacion": "nan",
         "_deepnote_index_column": 9
        },
        {
         "provincia": "Imbabura",
         "total": 163,
         "acumuladas": 163,
         "lat": 0.362678,
         "lng": -78.130667,
         "mes": 1,
         "year": 2015,
         "poblacion": "nan",
         "_deepnote_index_column": 10
        },
        {
         "provincia": "Loja",
         "total": 225,
         "acumuladas": 225,
         "lat": -3.983333,
         "lng": -79.2,
         "mes": 1,
         "year": 2015,
         "poblacion": "nan",
         "_deepnote_index_column": 11
        },
        {
         "provincia": "Los Ríos",
         "total": 280,
         "acumuladas": 280,
         "lat": -1.8,
         "lng": -79.533333,
         "mes": 1,
         "year": 2015,
         "poblacion": "nan",
         "_deepnote_index_column": 12
        },
        {
         "provincia": "Manabí",
         "total": 475,
         "acumuladas": 475,
         "lat": -1.056181,
         "lng": -80.455217,
         "mes": 1,
         "year": 2015,
         "poblacion": "nan",
         "_deepnote_index_column": 13
        },
        {
         "provincia": "Morona Santiago",
         "total": 33,
         "acumuladas": 33,
         "lat": -2.3,
         "lng": -78.116667,
         "mes": 1,
         "year": 2015,
         "poblacion": "nan",
         "_deepnote_index_column": 14
        },
        {
         "provincia": "Napo",
         "total": 27,
         "acumuladas": 27,
         "lat": -0.989,
         "lng": -77.8159,
         "mes": 1,
         "year": 2015,
         "poblacion": "nan",
         "_deepnote_index_column": 15
        },
        {
         "provincia": "Orellana",
         "total": 31,
         "acumuladas": 31,
         "lat": -0.466667,
         "lng": -76.966667,
         "mes": 1,
         "year": 2015,
         "poblacion": "nan",
         "_deepnote_index_column": 16
        },
        {
         "provincia": "Otro",
         "total": 1,
         "acumuladas": 1,
         "lat": 0,
         "lng": 0,
         "mes": 1,
         "year": 2015,
         "poblacion": "nan",
         "_deepnote_index_column": 17
        },
        {
         "provincia": "Pastaza",
         "total": 22,
         "acumuladas": 22,
         "lat": -1.066667,
         "lng": -78.001111,
         "mes": 1,
         "year": 2015,
         "poblacion": "nan",
         "_deepnote_index_column": 18
        },
        {
         "provincia": "Pichincha",
         "total": 963,
         "acumuladas": 963,
         "lat": -0.218611,
         "lng": -78.509722,
         "mes": 1,
         "year": 2015,
         "poblacion": "nan",
         "_deepnote_index_column": 19
        },
        {
         "provincia": "Santa Elena",
         "total": 108,
         "acumuladas": 108,
         "lat": -2.2267,
         "lng": -80.8583,
         "mes": 1,
         "year": 2015,
         "poblacion": "nan",
         "_deepnote_index_column": 20
        },
        {
         "provincia": "Sto. Domingo Tsáchilas",
         "total": 139,
         "acumuladas": 139,
         "lat": -0.254167,
         "lng": -79.171944,
         "mes": 1,
         "year": 2015,
         "poblacion": "nan",
         "_deepnote_index_column": 21
        },
        {
         "provincia": "Sucumbíos",
         "total": 42,
         "acumuladas": 42,
         "lat": 0.084722,
         "lng": -76.882778,
         "mes": 1,
         "year": 2015,
         "poblacion": "nan",
         "_deepnote_index_column": 22
        },
        {
         "provincia": "Tungurahua",
         "total": 212,
         "acumuladas": 212,
         "lat": -1.241667,
         "lng": -78.619722,
         "mes": 1,
         "year": 2015,
         "poblacion": "nan",
         "_deepnote_index_column": 23
        },
        {
         "provincia": "Zamora Chinchipe",
         "total": 22,
         "acumuladas": 22,
         "lat": -4.12,
         "lng": -78.8,
         "mes": 1,
         "year": 2015,
         "poblacion": "nan",
         "_deepnote_index_column": 24
        },
        {
         "provincia": "Azuay",
         "total": 292,
         "acumuladas": 619,
         "lat": -2.897414,
         "lng": -79.004481,
         "mes": 2,
         "year": 2015,
         "poblacion": "nan",
         "_deepnote_index_column": 25
        },
        {
         "provincia": "Bolívar",
         "total": 78,
         "acumuladas": 135,
         "lat": -1.605556,
         "lng": -79.003056,
         "mes": 2,
         "year": 2015,
         "poblacion": "nan",
         "_deepnote_index_column": 26
        },
        {
         "provincia": "Carchi",
         "total": 42,
         "acumuladas": 105,
         "lat": 0.81218,
         "lng": -77.71633,
         "mes": 2,
         "year": 2015,
         "poblacion": "nan",
         "_deepnote_index_column": 27
        },
        {
         "provincia": "Cañar",
         "total": 74,
         "acumuladas": 161,
         "lat": -2.733333,
         "lng": -78.833333,
         "mes": 2,
         "year": 2015,
         "poblacion": "nan",
         "_deepnote_index_column": 28
        },
        {
         "provincia": "Chimborazo",
         "total": 187,
         "acumuladas": 343,
         "lat": -1.674347,
         "lng": -78.64829399999999,
         "mes": 2,
         "year": 2015,
         "poblacion": "nan",
         "_deepnote_index_column": 29
        },
        {
         "provincia": "Cotopaxi",
         "total": 124,
         "acumuladas": 288,
         "lat": -0.933333,
         "lng": -78.616667,
         "mes": 2,
         "year": 2015,
         "poblacion": "nan",
         "_deepnote_index_column": 30
        },
        {
         "provincia": "El Oro",
         "total": 208,
         "acumuladas": 430,
         "lat": -3.266667,
         "lng": -79.966667,
         "mes": 2,
         "year": 2015,
         "poblacion": "nan",
         "_deepnote_index_column": 31
        },
        {
         "provincia": "Esmeraldas",
         "total": 112,
         "acumuladas": 244,
         "lat": 1.05,
         "lng": -79.2,
         "mes": 2,
         "year": 2015,
         "poblacion": "nan",
         "_deepnote_index_column": 32
        },
        {
         "provincia": "Galápagos",
         "total": 1,
         "acumuladas": 2,
         "lat": -0.799999999999999,
         "lng": -89.4,
         "mes": 2,
         "year": 2015,
         "poblacion": "nan",
         "_deepnote_index_column": 33
        },
        {
         "provincia": "Guayas",
         "total": 1443,
         "acumuladas": 2998,
         "lat": -2.183333,
         "lng": -79.883333,
         "mes": 2,
         "year": 2015,
         "poblacion": "nan",
         "_deepnote_index_column": 34
        },
        {
         "provincia": "Imbabura",
         "total": 134,
         "acumuladas": 297,
         "lat": 0.362678,
         "lng": -78.130667,
         "mes": 2,
         "year": 2015,
         "poblacion": "nan",
         "_deepnote_index_column": 35
        },
        {
         "provincia": "Loja",
         "total": 165,
         "acumuladas": 390,
         "lat": -3.983333,
         "lng": -79.2,
         "mes": 2,
         "year": 2015,
         "poblacion": "nan",
         "_deepnote_index_column": 36
        },
        {
         "provincia": "Los Ríos",
         "total": 227,
         "acumuladas": 507,
         "lat": -1.8,
         "lng": -79.533333,
         "mes": 2,
         "year": 2015,
         "poblacion": "nan",
         "_deepnote_index_column": 37
        },
        {
         "provincia": "Manabí",
         "total": 440,
         "acumuladas": 915,
         "lat": -1.056181,
         "lng": -80.455217,
         "mes": 2,
         "year": 2015,
         "poblacion": "nan",
         "_deepnote_index_column": 38
        },
        {
         "provincia": "Morona Santiago",
         "total": 25,
         "acumuladas": 58,
         "lat": -2.3,
         "lng": -78.116667,
         "mes": 2,
         "year": 2015,
         "poblacion": "nan",
         "_deepnote_index_column": 39
        },
        {
         "provincia": "Napo",
         "total": 18,
         "acumuladas": 45,
         "lat": -0.989,
         "lng": -77.8159,
         "mes": 2,
         "year": 2015,
         "poblacion": "nan",
         "_deepnote_index_column": 40
        },
        {
         "provincia": "Orellana",
         "total": 25,
         "acumuladas": 56,
         "lat": -0.466667,
         "lng": -76.966667,
         "mes": 2,
         "year": 2015,
         "poblacion": "nan",
         "_deepnote_index_column": 41
        },
        {
         "provincia": "Otro",
         "total": 1,
         "acumuladas": 2,
         "lat": 0,
         "lng": 0,
         "mes": 2,
         "year": 2015,
         "poblacion": "nan",
         "_deepnote_index_column": 42
        },
        {
         "provincia": "Pastaza",
         "total": 20,
         "acumuladas": 42,
         "lat": -1.066667,
         "lng": -78.001111,
         "mes": 2,
         "year": 2015,
         "poblacion": "nan",
         "_deepnote_index_column": 43
        },
        {
         "provincia": "Pichincha",
         "total": 872,
         "acumuladas": 1835,
         "lat": -0.218611,
         "lng": -78.509722,
         "mes": 2,
         "year": 2015,
         "poblacion": "nan",
         "_deepnote_index_column": 44
        },
        {
         "provincia": "Santa Elena",
         "total": 80,
         "acumuladas": 188,
         "lat": -2.2267,
         "lng": -80.8583,
         "mes": 2,
         "year": 2015,
         "poblacion": "nan",
         "_deepnote_index_column": 45
        },
        {
         "provincia": "Sto. Domingo Tsáchilas",
         "total": 139,
         "acumuladas": 278,
         "lat": -0.254167,
         "lng": -79.171944,
         "mes": 2,
         "year": 2015,
         "poblacion": "nan",
         "_deepnote_index_column": 46
        },
        {
         "provincia": "Sucumbíos",
         "total": 38,
         "acumuladas": 80,
         "lat": 0.084722,
         "lng": -76.882778,
         "mes": 2,
         "year": 2015,
         "poblacion": "nan",
         "_deepnote_index_column": 47
        },
        {
         "provincia": "Tungurahua",
         "total": 211,
         "acumuladas": 423,
         "lat": -1.241667,
         "lng": -78.619722,
         "mes": 2,
         "year": 2015,
         "poblacion": "nan",
         "_deepnote_index_column": 48
        },
        {
         "provincia": "Zamora Chinchipe",
         "total": 17,
         "acumuladas": 39,
         "lat": -4.12,
         "lng": -78.8,
         "mes": 2,
         "year": 2015,
         "poblacion": "nan",
         "_deepnote_index_column": 49
        },
        {
         "provincia": "Azuay",
         "total": 329,
         "acumuladas": 948,
         "lat": -2.897414,
         "lng": -79.004481,
         "mes": 3,
         "year": 2015,
         "poblacion": "nan",
         "_deepnote_index_column": 50
        },
        {
         "provincia": "Bolívar",
         "total": 71,
         "acumuladas": 206,
         "lat": -1.605556,
         "lng": -79.003056,
         "mes": 3,
         "year": 2015,
         "poblacion": "nan",
         "_deepnote_index_column": 51
        },
        {
         "provincia": "Carchi",
         "total": 60,
         "acumuladas": 165,
         "lat": 0.81218,
         "lng": -77.71633,
         "mes": 3,
         "year": 2015,
         "poblacion": "nan",
         "_deepnote_index_column": 52
        },
        {
         "provincia": "Cañar",
         "total": 85,
         "acumuladas": 246,
         "lat": -2.733333,
         "lng": -78.833333,
         "mes": 3,
         "year": 2015,
         "poblacion": "nan",
         "_deepnote_index_column": 53
        },
        {
         "provincia": "Chimborazo",
         "total": 206,
         "acumuladas": 549,
         "lat": -1.674347,
         "lng": -78.64829399999999,
         "mes": 3,
         "year": 2015,
         "poblacion": "nan",
         "_deepnote_index_column": 54
        },
        {
         "provincia": "Cotopaxi",
         "total": 131,
         "acumuladas": 419,
         "lat": -0.933333,
         "lng": -78.616667,
         "mes": 3,
         "year": 2015,
         "poblacion": "nan",
         "_deepnote_index_column": 55
        },
        {
         "provincia": "El Oro",
         "total": 245,
         "acumuladas": 675,
         "lat": -3.266667,
         "lng": -79.966667,
         "mes": 3,
         "year": 2015,
         "poblacion": "nan",
         "_deepnote_index_column": 56
        },
        {
         "provincia": "Esmeraldas",
         "total": 122,
         "acumuladas": 366,
         "lat": 1.05,
         "lng": -79.2,
         "mes": 3,
         "year": 2015,
         "poblacion": "nan",
         "_deepnote_index_column": 57
        },
        {
         "provincia": "Galápagos",
         "total": 2,
         "acumuladas": 4,
         "lat": -0.799999999999999,
         "lng": -89.4,
         "mes": 3,
         "year": 2015,
         "poblacion": "nan",
         "_deepnote_index_column": 58
        },
        {
         "provincia": "Guayas",
         "total": 1596,
         "acumuladas": 4594,
         "lat": -2.183333,
         "lng": -79.883333,
         "mes": 3,
         "year": 2015,
         "poblacion": "nan",
         "_deepnote_index_column": 59
        },
        {
         "provincia": "Imbabura",
         "total": 167,
         "acumuladas": 464,
         "lat": 0.362678,
         "lng": -78.130667,
         "mes": 3,
         "year": 2015,
         "poblacion": "nan",
         "_deepnote_index_column": 60
        },
        {
         "provincia": "Loja",
         "total": 178,
         "acumuladas": 568,
         "lat": -3.983333,
         "lng": -79.2,
         "mes": 3,
         "year": 2015,
         "poblacion": "nan",
         "_deepnote_index_column": 61
        }
       ],
       "rows_bottom": [
        {
         "provincia": "Guayas",
         "total": 1975,
         "acumuladas": 23176,
         "lat": -2.183333,
         "lng": -79.883333,
         "mes": 9,
         "year": 2021,
         "poblacion": 4387434,
         "_deepnote_index_column": 1977
        },
        {
         "provincia": "Imbabura",
         "total": 194,
         "acumuladas": 2300,
         "lat": 0.362678,
         "lng": -78.130667,
         "mes": 9,
         "year": 2021,
         "poblacion": 476257,
         "_deepnote_index_column": 1978
        },
        {
         "provincia": "Loja",
         "total": 221,
         "acumuladas": 2792,
         "lat": -3.983333,
         "lng": -79.2,
         "mes": 9,
         "year": 2021,
         "poblacion": 521154,
         "_deepnote_index_column": 1979
        },
        {
         "provincia": "Los Ríos",
         "total": 336,
         "acumuladas": 4180,
         "lat": -1.8,
         "lng": -79.533333,
         "mes": 9,
         "year": 2021,
         "poblacion": 921763,
         "_deepnote_index_column": 1980
        },
        {
         "provincia": "Manabí",
         "total": 540,
         "acumuladas": 7253,
         "lat": -1.056181,
         "lng": -80.455217,
         "mes": 9,
         "year": 2021,
         "poblacion": 1562079,
         "_deepnote_index_column": 1981
        },
        {
         "provincia": "Morona Santiago",
         "total": 34,
         "acumuladas": 479,
         "lat": -2.3,
         "lng": -78.116667,
         "mes": 9,
         "year": 2021,
         "poblacion": 196535,
         "_deepnote_index_column": 1982
        },
        {
         "provincia": "Napo",
         "total": 46,
         "acumuladas": 432,
         "lat": -0.989,
         "lng": -77.8159,
         "mes": 9,
         "year": 2021,
         "poblacion": 133705,
         "_deepnote_index_column": 1983
        },
        {
         "provincia": "Orellana",
         "total": 40,
         "acumuladas": 435,
         "lat": -0.466667,
         "lng": -76.966667,
         "mes": 9,
         "year": 2021,
         "poblacion": 161338,
         "_deepnote_index_column": 1984
        },
        {
         "provincia": "Pastaza",
         "total": 27,
         "acumuladas": 354,
         "lat": -1.066667,
         "lng": -78.001111,
         "mes": 9,
         "year": 2021,
         "poblacion": 114202,
         "_deepnote_index_column": 1985
        },
        {
         "provincia": "Pichincha",
         "total": 1172,
         "acumuladas": 15957,
         "lat": -0.218611,
         "lng": -78.509722,
         "mes": 9,
         "year": 2021,
         "poblacion": 3228233,
         "_deepnote_index_column": 1986
        },
        {
         "provincia": "Santa Elena",
         "total": 106,
         "acumuladas": 1455,
         "lat": -2.2267,
         "lng": -80.8583,
         "mes": 9,
         "year": 2021,
         "poblacion": 401178,
         "_deepnote_index_column": 1987
        },
        {
         "provincia": "Sto. Domingo Tsáchilas",
         "total": 192,
         "acumuladas": 2484,
         "lat": -0.254167,
         "lng": -79.171944,
         "mes": 9,
         "year": 2021,
         "poblacion": 511151,
         "_deepnote_index_column": 1988
        },
        {
         "provincia": "Sucumbíos",
         "total": 52,
         "acumuladas": 751,
         "lat": 0.084722,
         "lng": -76.882778,
         "mes": 9,
         "year": 2021,
         "poblacion": 230503,
         "_deepnote_index_column": 1989
        },
        {
         "provincia": "Tungurahua",
         "total": 270,
         "acumuladas": 3346,
         "lat": -1.241667,
         "lng": -78.619722,
         "mes": 9,
         "year": 2021,
         "poblacion": 590600,
         "_deepnote_index_column": 1990
        },
        {
         "provincia": "Zamora Chinchipe",
         "total": 16,
         "acumuladas": 337,
         "lat": -4.12,
         "lng": -78.8,
         "mes": 9,
         "year": 2021,
         "poblacion": 120416,
         "_deepnote_index_column": 1991
        },
        {
         "provincia": "Azuay",
         "total": 350,
         "acumuladas": 4738,
         "lat": -2.897414,
         "lng": -79.004481,
         "mes": 10,
         "year": 2021,
         "poblacion": 881394,
         "_deepnote_index_column": 1992
        },
        {
         "provincia": "Bolívar",
         "total": 72,
         "acumuladas": 1007,
         "lat": -1.605556,
         "lng": -79.003056,
         "mes": 10,
         "year": 2021,
         "poblacion": 209933,
         "_deepnote_index_column": 1993
        },
        {
         "provincia": "Carchi",
         "total": 68,
         "acumuladas": 951,
         "lat": 0.81218,
         "lng": -77.71633,
         "mes": 10,
         "year": 2021,
         "poblacion": 186869,
         "_deepnote_index_column": 1994
        },
        {
         "provincia": "Cañar",
         "total": 89,
         "acumuladas": 1293,
         "lat": -2.733333,
         "lng": -78.833333,
         "mes": 10,
         "year": 2021,
         "poblacion": 281396,
         "_deepnote_index_column": 1995
        },
        {
         "provincia": "Chimborazo",
         "total": 189,
         "acumuladas": 2819,
         "lat": -1.674347,
         "lng": -78.64829399999999,
         "mes": 10,
         "year": 2021,
         "poblacion": 524004,
         "_deepnote_index_column": 1996
        },
        {
         "provincia": "Cotopaxi",
         "total": 139,
         "acumuladas": 2362,
         "lat": -0.933333,
         "lng": -78.616667,
         "mes": 10,
         "year": 2021,
         "poblacion": 488716,
         "_deepnote_index_column": 1997
        },
        {
         "provincia": "El Oro",
         "total": 257,
         "acumuladas": 4267,
         "lat": -3.266667,
         "lng": -79.966667,
         "mes": 10,
         "year": 2021,
         "poblacion": 715751,
         "_deepnote_index_column": 1998
        },
        {
         "provincia": "Esmeraldas",
         "total": 144,
         "acumuladas": 2023,
         "lat": 1.05,
         "lng": -79.2,
         "mes": 10,
         "year": 2021,
         "poblacion": 591083,
         "_deepnote_index_column": 1999
        },
        {
         "provincia": "Galápagos",
         "total": 2,
         "acumuladas": 66,
         "lat": -0.799999999999999,
         "lng": -89.4,
         "mes": 10,
         "year": 2021,
         "poblacion": 33042,
         "_deepnote_index_column": 2000
        },
        {
         "provincia": "Guayas",
         "total": 1927,
         "acumuladas": 25103,
         "lat": -2.183333,
         "lng": -79.883333,
         "mes": 10,
         "year": 2021,
         "poblacion": 4387434,
         "_deepnote_index_column": 2001
        },
        {
         "provincia": "Imbabura",
         "total": 162,
         "acumuladas": 2462,
         "lat": 0.362678,
         "lng": -78.130667,
         "mes": 10,
         "year": 2021,
         "poblacion": 476257,
         "_deepnote_index_column": 2002
        },
        {
         "provincia": "Loja",
         "total": 211,
         "acumuladas": 3003,
         "lat": -3.983333,
         "lng": -79.2,
         "mes": 10,
         "year": 2021,
         "poblacion": 521154,
         "_deepnote_index_column": 2003
        },
        {
         "provincia": "Los Ríos",
         "total": 358,
         "acumuladas": 4538,
         "lat": -1.8,
         "lng": -79.533333,
         "mes": 10,
         "year": 2021,
         "poblacion": 921763,
         "_deepnote_index_column": 2004
        },
        {
         "provincia": "Manabí",
         "total": 577,
         "acumuladas": 7830,
         "lat": -1.056181,
         "lng": -80.455217,
         "mes": 10,
         "year": 2021,
         "poblacion": 1562079,
         "_deepnote_index_column": 2005
        },
        {
         "provincia": "Morona Santiago",
         "total": 29,
         "acumuladas": 508,
         "lat": -2.3,
         "lng": -78.116667,
         "mes": 10,
         "year": 2021,
         "poblacion": 196535,
         "_deepnote_index_column": 2006
        },
        {
         "provincia": "Napo",
         "total": 34,
         "acumuladas": 466,
         "lat": -0.989,
         "lng": -77.8159,
         "mes": 10,
         "year": 2021,
         "poblacion": 133705,
         "_deepnote_index_column": 2007
        },
        {
         "provincia": "Orellana",
         "total": 54,
         "acumuladas": 489,
         "lat": -0.466667,
         "lng": -76.966667,
         "mes": 10,
         "year": 2021,
         "poblacion": 161338,
         "_deepnote_index_column": 2008
        },
        {
         "provincia": "Pastaza",
         "total": 35,
         "acumuladas": 389,
         "lat": -1.066667,
         "lng": -78.001111,
         "mes": 10,
         "year": 2021,
         "poblacion": 114202,
         "_deepnote_index_column": 2009
        },
        {
         "provincia": "Pichincha",
         "total": 1118,
         "acumuladas": 17075,
         "lat": -0.218611,
         "lng": -78.509722,
         "mes": 10,
         "year": 2021,
         "poblacion": 3228233,
         "_deepnote_index_column": 2010
        },
        {
         "provincia": "Santa Elena",
         "total": 112,
         "acumuladas": 1567,
         "lat": -2.2267,
         "lng": -80.8583,
         "mes": 10,
         "year": 2021,
         "poblacion": 401178,
         "_deepnote_index_column": 2011
        },
        {
         "provincia": "Sto. Domingo Tsáchilas",
         "total": 188,
         "acumuladas": 2672,
         "lat": -0.254167,
         "lng": -79.171944,
         "mes": 10,
         "year": 2021,
         "poblacion": 511151,
         "_deepnote_index_column": 2012
        },
        {
         "provincia": "Sucumbíos",
         "total": 67,
         "acumuladas": 818,
         "lat": 0.084722,
         "lng": -76.882778,
         "mes": 10,
         "year": 2021,
         "poblacion": 230503,
         "_deepnote_index_column": 2013
        },
        {
         "provincia": "Tungurahua",
         "total": 239,
         "acumuladas": 3585,
         "lat": -1.241667,
         "lng": -78.619722,
         "mes": 10,
         "year": 2021,
         "poblacion": 590600,
         "_deepnote_index_column": 2014
        },
        {
         "provincia": "Zamora Chinchipe",
         "total": 29,
         "acumuladas": 366,
         "lat": -4.12,
         "lng": -78.8,
         "mes": 10,
         "year": 2021,
         "poblacion": 120416,
         "_deepnote_index_column": 2015
        },
        {
         "provincia": "Azuay",
         "total": 158,
         "acumuladas": 4896,
         "lat": -2.897414,
         "lng": -79.004481,
         "mes": 11,
         "year": 2021,
         "poblacion": 881394,
         "_deepnote_index_column": 2016
        },
        {
         "provincia": "Bolívar",
         "total": 39,
         "acumuladas": 1046,
         "lat": -1.605556,
         "lng": -79.003056,
         "mes": 11,
         "year": 2021,
         "poblacion": 209933,
         "_deepnote_index_column": 2017
        },
        {
         "provincia": "Carchi",
         "total": 29,
         "acumuladas": 980,
         "lat": 0.81218,
         "lng": -77.71633,
         "mes": 11,
         "year": 2021,
         "poblacion": 186869,
         "_deepnote_index_column": 2018
        },
        {
         "provincia": "Cañar",
         "total": 35,
         "acumuladas": 1328,
         "lat": -2.733333,
         "lng": -78.833333,
         "mes": 11,
         "year": 2021,
         "poblacion": 281396,
         "_deepnote_index_column": 2019
        },
        {
         "provincia": "Chimborazo",
         "total": 80,
         "acumuladas": 2899,
         "lat": -1.674347,
         "lng": -78.64829399999999,
         "mes": 11,
         "year": 2021,
         "poblacion": 524004,
         "_deepnote_index_column": 2020
        },
        {
         "provincia": "Cotopaxi",
         "total": 84,
         "acumuladas": 2446,
         "lat": -0.933333,
         "lng": -78.616667,
         "mes": 11,
         "year": 2021,
         "poblacion": 488716,
         "_deepnote_index_column": 2021
        },
        {
         "provincia": "El Oro",
         "total": 145,
         "acumuladas": 4412,
         "lat": -3.266667,
         "lng": -79.966667,
         "mes": 11,
         "year": 2021,
         "poblacion": 715751,
         "_deepnote_index_column": 2022
        },
        {
         "provincia": "Esmeraldas",
         "total": 74,
         "acumuladas": 2097,
         "lat": 1.05,
         "lng": -79.2,
         "mes": 11,
         "year": 2021,
         "poblacion": 591083,
         "_deepnote_index_column": 2023
        },
        {
         "provincia": "Galápagos",
         "total": 1,
         "acumuladas": 67,
         "lat": -0.799999999999999,
         "lng": -89.4,
         "mes": 11,
         "year": 2021,
         "poblacion": 33042,
         "_deepnote_index_column": 2024
        },
        {
         "provincia": "Guayas",
         "total": 959,
         "acumuladas": 26062,
         "lat": -2.183333,
         "lng": -79.883333,
         "mes": 11,
         "year": 2021,
         "poblacion": 4387434,
         "_deepnote_index_column": 2025
        },
        {
         "provincia": "Imbabura",
         "total": 118,
         "acumuladas": 2580,
         "lat": 0.362678,
         "lng": -78.130667,
         "mes": 11,
         "year": 2021,
         "poblacion": 476257,
         "_deepnote_index_column": 2026
        },
        {
         "provincia": "Loja",
         "total": 93,
         "acumuladas": 3096,
         "lat": -3.983333,
         "lng": -79.2,
         "mes": 11,
         "year": 2021,
         "poblacion": 521154,
         "_deepnote_index_column": 2027
        },
        {
         "provincia": "Los Ríos",
         "total": 189,
         "acumuladas": 4727,
         "lat": -1.8,
         "lng": -79.533333,
         "mes": 11,
         "year": 2021,
         "poblacion": 921763,
         "_deepnote_index_column": 2028
        },
        {
         "provincia": "Manabí",
         "total": 339,
         "acumuladas": 8169,
         "lat": -1.056181,
         "lng": -80.455217,
         "mes": 11,
         "year": 2021,
         "poblacion": 1562079,
         "_deepnote_index_column": 2029
        },
        {
         "provincia": "Morona Santiago",
         "total": 16,
         "acumuladas": 524,
         "lat": -2.3,
         "lng": -78.116667,
         "mes": 11,
         "year": 2021,
         "poblacion": 196535,
         "_deepnote_index_column": 2030
        },
        {
         "provincia": "Napo",
         "total": 21,
         "acumuladas": 487,
         "lat": -0.989,
         "lng": -77.8159,
         "mes": 11,
         "year": 2021,
         "poblacion": 133705,
         "_deepnote_index_column": 2031
        },
        {
         "provincia": "Orellana",
         "total": 24,
         "acumuladas": 513,
         "lat": -0.466667,
         "lng": -76.966667,
         "mes": 11,
         "year": 2021,
         "poblacion": 161338,
         "_deepnote_index_column": 2032
        },
        {
         "provincia": "Pastaza",
         "total": 12,
         "acumuladas": 401,
         "lat": -1.066667,
         "lng": -78.001111,
         "mes": 11,
         "year": 2021,
         "poblacion": 114202,
         "_deepnote_index_column": 2033
        },
        {
         "provincia": "Pichincha",
         "total": 609,
         "acumuladas": 17684,
         "lat": -0.218611,
         "lng": -78.509722,
         "mes": 11,
         "year": 2021,
         "poblacion": 3228233,
         "_deepnote_index_column": 2034
        },
        {
         "provincia": "Santa Elena",
         "total": 62,
         "acumuladas": 1629,
         "lat": -2.2267,
         "lng": -80.8583,
         "mes": 11,
         "year": 2021,
         "poblacion": 401178,
         "_deepnote_index_column": 2035
        },
        {
         "provincia": "Sto. Domingo Tsáchilas",
         "total": 119,
         "acumuladas": 2791,
         "lat": -0.254167,
         "lng": -79.171944,
         "mes": 11,
         "year": 2021,
         "poblacion": 511151,
         "_deepnote_index_column": 2036
        },
        {
         "provincia": "Sucumbíos",
         "total": 21,
         "acumuladas": 839,
         "lat": 0.084722,
         "lng": -76.882778,
         "mes": 11,
         "year": 2021,
         "poblacion": 230503,
         "_deepnote_index_column": 2037
        },
        {
         "provincia": "Tungurahua",
         "total": 140,
         "acumuladas": 3725,
         "lat": -1.241667,
         "lng": -78.619722,
         "mes": 11,
         "year": 2021,
         "poblacion": 590600,
         "_deepnote_index_column": 2038
        },
        {
         "provincia": "Zamora Chinchipe",
         "total": 11,
         "acumuladas": 377,
         "lat": -4.12,
         "lng": -78.8,
         "mes": 11,
         "year": 2021,
         "poblacion": 120416,
         "_deepnote_index_column": 2039
        }
       ]
      },
      "text/plain": "                   provincia  total  acumuladas       lat        lng  mes  \\\n0                      Azuay    327         327 -2.897414 -79.004481    1   \n1                    Bolívar     57          57 -1.605556 -79.003056    1   \n2                     Carchi     63          63  0.812180 -77.716330    1   \n3                      Cañar     87          87 -2.733333 -78.833333    1   \n4                 Chimborazo    156         156 -1.674347 -78.648294    1   \n...                      ...    ...         ...       ...        ...  ...   \n2035             Santa Elena     62        1629 -2.226700 -80.858300   11   \n2036  Sto. Domingo Tsáchilas    119        2791 -0.254167 -79.171944   11   \n2037               Sucumbíos     21         839  0.084722 -76.882778   11   \n2038              Tungurahua    140        3725 -1.241667 -78.619722   11   \n2039        Zamora Chinchipe     11         377 -4.120000 -78.800000   11   \n\n      year  poblacion  \n0     2015        NaN  \n1     2015        NaN  \n2     2015        NaN  \n3     2015        NaN  \n4     2015        NaN  \n...    ...        ...  \n2035  2021   401178.0  \n2036  2021   511151.0  \n2037  2021   230503.0  \n2038  2021   590600.0  \n2039  2021   120416.0  \n\n[2040 rows x 8 columns]",
      "text/html": "<div>\n<style scoped>\n    .dataframe tbody tr th:only-of-type {\n        vertical-align: middle;\n    }\n\n    .dataframe tbody tr th {\n        vertical-align: top;\n    }\n\n    .dataframe thead th {\n        text-align: right;\n    }\n</style>\n<table border=\"1\" class=\"dataframe\">\n  <thead>\n    <tr style=\"text-align: right;\">\n      <th></th>\n      <th>provincia</th>\n      <th>total</th>\n      <th>acumuladas</th>\n      <th>lat</th>\n      <th>lng</th>\n      <th>mes</th>\n      <th>year</th>\n      <th>poblacion</th>\n    </tr>\n  </thead>\n  <tbody>\n    <tr>\n      <th>0</th>\n      <td>Azuay</td>\n      <td>327</td>\n      <td>327</td>\n      <td>-2.897414</td>\n      <td>-79.004481</td>\n      <td>1</td>\n      <td>2015</td>\n      <td>NaN</td>\n    </tr>\n    <tr>\n      <th>1</th>\n      <td>Bolívar</td>\n      <td>57</td>\n      <td>57</td>\n      <td>-1.605556</td>\n      <td>-79.003056</td>\n      <td>1</td>\n      <td>2015</td>\n      <td>NaN</td>\n    </tr>\n    <tr>\n      <th>2</th>\n      <td>Carchi</td>\n      <td>63</td>\n      <td>63</td>\n      <td>0.812180</td>\n      <td>-77.716330</td>\n      <td>1</td>\n      <td>2015</td>\n      <td>NaN</td>\n    </tr>\n    <tr>\n      <th>3</th>\n      <td>Cañar</td>\n      <td>87</td>\n      <td>87</td>\n      <td>-2.733333</td>\n      <td>-78.833333</td>\n      <td>1</td>\n      <td>2015</td>\n      <td>NaN</td>\n    </tr>\n    <tr>\n      <th>4</th>\n      <td>Chimborazo</td>\n      <td>156</td>\n      <td>156</td>\n      <td>-1.674347</td>\n      <td>-78.648294</td>\n      <td>1</td>\n      <td>2015</td>\n      <td>NaN</td>\n    </tr>\n    <tr>\n      <th>...</th>\n      <td>...</td>\n      <td>...</td>\n      <td>...</td>\n      <td>...</td>\n      <td>...</td>\n      <td>...</td>\n      <td>...</td>\n      <td>...</td>\n    </tr>\n    <tr>\n      <th>2035</th>\n      <td>Santa Elena</td>\n      <td>62</td>\n      <td>1629</td>\n      <td>-2.226700</td>\n      <td>-80.858300</td>\n      <td>11</td>\n      <td>2021</td>\n      <td>401178.0</td>\n    </tr>\n    <tr>\n      <th>2036</th>\n      <td>Sto. Domingo Tsáchilas</td>\n      <td>119</td>\n      <td>2791</td>\n      <td>-0.254167</td>\n      <td>-79.171944</td>\n      <td>11</td>\n      <td>2021</td>\n      <td>511151.0</td>\n    </tr>\n    <tr>\n      <th>2037</th>\n      <td>Sucumbíos</td>\n      <td>21</td>\n      <td>839</td>\n      <td>0.084722</td>\n      <td>-76.882778</td>\n      <td>11</td>\n      <td>2021</td>\n      <td>230503.0</td>\n    </tr>\n    <tr>\n      <th>2038</th>\n      <td>Tungurahua</td>\n      <td>140</td>\n      <td>3725</td>\n      <td>-1.241667</td>\n      <td>-78.619722</td>\n      <td>11</td>\n      <td>2021</td>\n      <td>590600.0</td>\n    </tr>\n    <tr>\n      <th>2039</th>\n      <td>Zamora Chinchipe</td>\n      <td>11</td>\n      <td>377</td>\n      <td>-4.120000</td>\n      <td>-78.800000</td>\n      <td>11</td>\n      <td>2021</td>\n      <td>120416.0</td>\n    </tr>\n  </tbody>\n</table>\n<p>2040 rows × 8 columns</p>\n</div>"
     },
     "metadata": {}
    }
   ]
  },
  {
   "cell_type": "code",
   "metadata": {
    "tags": [],
    "cell_id": "00003-fe8322cf-d2b1-47d4-92cc-c24358a9d37d",
    "deepnote_to_be_reexecuted": false,
    "source_hash": "2467b974",
    "execution_start": 1639503978932,
    "execution_millis": 126,
    "deepnote_cell_type": "code"
   },
   "source": "df_positives = pd.read_csv('/work/covid-19_ecuador/data/interim/positives.csv')",
   "execution_count": null,
   "outputs": []
  },
  {
   "cell_type": "code",
   "metadata": {
    "tags": [],
    "cell_id": "00005-c9ed2edd-8545-43b9-a27b-4677c087f4d2",
    "deepnote_to_be_reexecuted": false,
    "source_hash": "29aadd29",
    "execution_start": 1639503981502,
    "execution_millis": 88,
    "deepnote_cell_type": "code"
   },
   "source": "df_vaccinated = pd.read_csv('/work/covid-19_ecuador/data/interim/vaccinated.csv')",
   "execution_count": null,
   "outputs": []
  },
  {
   "cell_type": "code",
   "metadata": {
    "tags": [],
    "cell_id": "00006-1920f6ed-0039-404f-b939-2427ba1d72f3",
    "deepnote_to_be_reexecuted": false,
    "source_hash": "19e00cdf",
    "execution_start": 1639503983236,
    "execution_millis": 81,
    "deepnote_cell_type": "code"
   },
   "source": "df_icu = pd.read_csv('/work/covid-19_ecuador/data/interim/icu.csv')",
   "execution_count": null,
   "outputs": []
  },
  {
   "cell_type": "code",
   "metadata": {
    "tags": [],
    "cell_id": "00007-b4cb3800-3867-4b63-834c-9c48c73f6b9c",
    "deepnote_to_be_reexecuted": false,
    "source_hash": "f24a9a77",
    "execution_start": 1639428083263,
    "execution_millis": 28,
    "deepnote_output_heights": [
     59.578125
    ],
    "deepnote_cell_type": "code"
   },
   "source": "df_positives.columns",
   "execution_count": null,
   "outputs": [
    {
     "output_type": "execute_result",
     "execution_count": 14,
     "data": {
      "text/plain": "Index(['created_at', 'provincia', 'poblacion', 'total', 'nuevas', 'lat', 'lng',\n       'year', 'month', 'day', 'quarter', 'day_of_week'],\n      dtype='object')"
     },
     "metadata": {}
    }
   ]
  },
  {
   "cell_type": "code",
   "metadata": {
    "tags": [],
    "cell_id": "00008-1b372916-3832-45f1-bcfa-941069587111",
    "deepnote_to_be_reexecuted": false,
    "source_hash": "e6002909",
    "execution_start": 1639428099267,
    "execution_millis": 378,
    "deepnote_output_heights": [
     78.765625
    ],
    "deepnote_cell_type": "code"
   },
   "source": "df_vaccinated.columns",
   "execution_count": null,
   "outputs": [
    {
     "output_type": "execute_result",
     "execution_count": 15,
     "data": {
      "text/plain": "Index(['fecha', 'dosis_total', 'primera_dosis', 'segunda_dosis', 'refuerzo',\n       'primera_dosis_diff', 'segunda_dosis_diff', 'refuerzo_diff',\n       'dosis_total_diff'],\n      dtype='object')"
     },
     "metadata": {}
    }
   ]
  },
  {
   "cell_type": "code",
   "metadata": {
    "tags": [],
    "cell_id": "00009-0bdf7499-1de5-42af-b1f3-35e6b9a8f5f8",
    "deepnote_to_be_reexecuted": false,
    "source_hash": "1288bf75",
    "execution_start": 1639428126787,
    "execution_millis": 177,
    "deepnote_output_heights": [
     59.578125
    ],
    "deepnote_cell_type": "code"
   },
   "source": "df_icu.columns",
   "execution_count": null,
   "outputs": [
    {
     "output_type": "execute_result",
     "execution_count": 16,
     "data": {
      "text/plain": "Index(['date', '(MSP) UCI Porcentaje Ocupadas',\n       '(RPIS) UCI Porcentaje Ocupadas', '(RPC) UCI Porcentaje Ocupadas'],\n      dtype='object')"
     },
     "metadata": {}
    }
   ]
  },
  {
   "cell_type": "code",
   "metadata": {
    "tags": [],
    "cell_id": "00010-246ce6fc-fee1-4c5f-b9a9-c1f2193bd888",
    "deepnote_to_be_reexecuted": false,
    "source_hash": "2a75800d",
    "execution_start": 1639503991467,
    "execution_millis": 116,
    "deepnote_output_heights": [
     232.3125
    ],
    "deepnote_cell_type": "code"
   },
   "source": "df_positives.created_at = pd.to_datetime(df_positives.created_at, format='%Y/%m/%d')",
   "execution_count": null,
   "outputs": []
  },
  {
   "cell_type": "code",
   "metadata": {
    "tags": [],
    "cell_id": "00011-87c7865a-e478-4acb-bb26-5a169ed46dda",
    "deepnote_to_be_reexecuted": false,
    "source_hash": "1e91b05a",
    "execution_start": 1639503993357,
    "execution_millis": 49,
    "deepnote_output_heights": [
     232.3125
    ],
    "deepnote_cell_type": "code"
   },
   "source": "df_vaccinated.fecha = pd.to_datetime(df_vaccinated.fecha, format='%Y/%m/%d')",
   "execution_count": null,
   "outputs": []
  },
  {
   "cell_type": "code",
   "metadata": {
    "tags": [],
    "cell_id": "00012-fdb0b8bc-032f-4f32-a2c5-b39b72c39bed",
    "deepnote_to_be_reexecuted": false,
    "source_hash": "cd9e1b10",
    "execution_start": 1639503994886,
    "execution_millis": 80,
    "deepnote_cell_type": "code"
   },
   "source": "df_icu.date = pd.to_datetime(df_icu.date, format='%Y/%m/%d')",
   "execution_count": null,
   "outputs": []
  },
  {
   "cell_type": "code",
   "metadata": {
    "tags": [],
    "cell_id": "00013-8954ab65-b80e-456e-b7cd-ded2cfa75efa",
    "deepnote_to_be_reexecuted": false,
    "source_hash": "47d87f91",
    "execution_start": 1639503999408,
    "execution_millis": 31,
    "deepnote_cell_type": "code"
   },
   "source": "df_positives.rename(columns={'created_at': 'date'}, inplace=True)\ndf_vaccinated.rename(columns={'fecha': 'date'}, inplace=True)",
   "execution_count": null,
   "outputs": []
  },
  {
   "cell_type": "code",
   "metadata": {
    "tags": [],
    "cell_id": "00014-6f667abb-8b55-4a40-987a-62f1da96c8c4",
    "deepnote_to_be_reexecuted": false,
    "source_hash": "ece8a7fb",
    "execution_start": 1639504001529,
    "execution_millis": 14,
    "deepnote_output_heights": [
     232.3125
    ],
    "deepnote_cell_type": "code"
   },
   "source": "df_vaccinated['year'] = df_vaccinated.date.dt.year",
   "execution_count": null,
   "outputs": []
  },
  {
   "cell_type": "code",
   "metadata": {
    "tags": [],
    "cell_id": "00015-14e37b4d-f351-4db5-ad5a-dbc931608fd6",
    "deepnote_to_be_reexecuted": false,
    "source_hash": "3e9928f7",
    "execution_start": 1639504004084,
    "execution_millis": 65,
    "deepnote_cell_type": "code"
   },
   "source": "df_icu['year'] = df_icu.date.dt.year",
   "execution_count": null,
   "outputs": []
  },
  {
   "cell_type": "code",
   "metadata": {
    "tags": [],
    "cell_id": "00016-b51bff14-1517-4f2e-aa96-5e45375ab539",
    "deepnote_to_be_reexecuted": false,
    "source_hash": "61778d8e",
    "execution_start": 1639504006225,
    "execution_millis": 58,
    "deepnote_cell_type": "code"
   },
   "source": "df_positives['day_of_year'] = df_positives.date.dt.day_of_year\ndf_vaccinated['day_of_year'] = df_vaccinated.date.dt.day_of_year\ndf_icu['day_of_year'] = df_icu.date.dt.day_of_year",
   "execution_count": null,
   "outputs": []
  },
  {
   "cell_type": "code",
   "metadata": {
    "tags": [],
    "cell_id": "00010-ce6c28d3-2155-4181-9858-c14a60d99caa",
    "deepnote_to_be_reexecuted": false,
    "source_hash": "87624f57",
    "execution_start": 1639504012348,
    "execution_millis": 187,
    "deepnote_output_heights": [
     411.1875
    ],
    "deepnote_cell_type": "code"
   },
   "source": "grouped_positives = df_positives.groupby(['year', 'day_of_year'])[['nuevas']].sum()",
   "execution_count": null,
   "outputs": []
  },
  {
   "cell_type": "code",
   "metadata": {
    "tags": [],
    "cell_id": "00010-4aac762a-9ad2-473d-ac21-07bb036906b5",
    "deepnote_to_be_reexecuted": false,
    "source_hash": "959620d5",
    "execution_start": 1639504014552,
    "execution_millis": 65,
    "deepnote_output_heights": [
     411.1875
    ],
    "deepnote_cell_type": "code"
   },
   "source": "grouped_vaccinated = df_vaccinated.groupby(['year', 'day_of_year'])[['dosis_total_diff', 'primera_dosis_diff', 'segunda_dosis_diff', 'refuerzo_diff']].sum()",
   "execution_count": null,
   "outputs": []
  },
  {
   "cell_type": "code",
   "metadata": {
    "tags": [],
    "cell_id": "00010-37a58864-9f9c-41ba-8fb7-283c1c609b15",
    "deepnote_to_be_reexecuted": false,
    "source_hash": "c3aabdcb",
    "execution_start": 1639504016438,
    "execution_millis": 54,
    "deepnote_output_heights": [
     411.1875
    ],
    "deepnote_cell_type": "code"
   },
   "source": "grouped_icu = df_icu.groupby(['year', 'day_of_year'])[['(MSP) UCI Porcentaje Ocupadas', '(RPIS) UCI Porcentaje Ocupadas', '(RPC) UCI Porcentaje Ocupadas']].sum()",
   "execution_count": null,
   "outputs": []
  },
  {
   "cell_type": "code",
   "metadata": {
    "tags": [],
    "cell_id": "00020-b078fa24-94fb-462c-b110-04187e67983d",
    "deepnote_to_be_reexecuted": false,
    "source_hash": "571d6d81",
    "execution_start": 1639496471691,
    "execution_millis": 136,
    "deepnote_output_heights": [
     411.1875
    ],
    "deepnote_cell_type": "code"
   },
   "source": "grouped_positives",
   "execution_count": null,
   "outputs": [
    {
     "output_type": "execute_result",
     "execution_count": 18,
     "data": {
      "application/vnd.deepnote.dataframe.v2+json": {
       "row_count": 629,
       "column_count": 1,
       "columns": [
        {
         "name": "nuevas",
         "dtype": "int64",
         "stats": {
          "unique_count": 512,
          "nan_count": 0,
          "min": "0",
          "max": "6623",
          "histogram": [
           {
            "bin_start": 0,
            "bin_end": 662.3,
            "count": 309
           },
           {
            "bin_start": 662.3,
            "bin_end": 1324.6,
            "count": 195
           },
           {
            "bin_start": 1324.6,
            "bin_end": 1986.8999999999999,
            "count": 77
           },
           {
            "bin_start": 1986.8999999999999,
            "bin_end": 2649.2,
            "count": 29
           },
           {
            "bin_start": 2649.2,
            "bin_end": 3311.5,
            "count": 14
           },
           {
            "bin_start": 3311.5,
            "bin_end": 3973.7999999999997,
            "count": 1
           },
           {
            "bin_start": 3973.7999999999997,
            "bin_end": 4636.099999999999,
            "count": 1
           },
           {
            "bin_start": 4636.099999999999,
            "bin_end": 5298.4,
            "count": 1
           },
           {
            "bin_start": 5298.4,
            "bin_end": 5960.7,
            "count": 1
           },
           {
            "bin_start": 5960.7,
            "bin_end": 6623,
            "count": 1
           }
          ]
         }
        },
        {
         "name": "_deepnote_index_column",
         "dtype": "object"
        }
       ],
       "rows_top": [
        {
         "nuevas": 23,
         "_deepnote_index_column": "(2020, 73)"
        },
        {
         "nuevas": 5,
         "_deepnote_index_column": "(2020, 74)"
        },
        {
         "nuevas": 11,
         "_deepnote_index_column": "(2020, 75)"
        },
        {
         "nuevas": 21,
         "_deepnote_index_column": "(2020, 76)"
        },
        {
         "nuevas": 53,
         "_deepnote_index_column": "(2020, 77)"
        },
        {
         "nuevas": 63,
         "_deepnote_index_column": "(2020, 78)"
        },
        {
         "nuevas": 92,
         "_deepnote_index_column": "(2020, 79)"
        },
        {
         "nuevas": 166,
         "_deepnote_index_column": "(2020, 80)"
        },
        {
         "nuevas": 106,
         "_deepnote_index_column": "(2020, 81)"
        },
        {
         "nuevas": 257,
         "_deepnote_index_column": "(2020, 82)"
        },
        {
         "nuevas": 192,
         "_deepnote_index_column": "(2020, 83)"
        },
        {
         "nuevas": 101,
         "_deepnote_index_column": "(2020, 84)"
        },
        {
         "nuevas": 129,
         "_deepnote_index_column": "(2020, 85)"
        },
        {
         "nuevas": 192,
         "_deepnote_index_column": "(2020, 86)"
        },
        {
         "nuevas": 224,
         "_deepnote_index_column": "(2020, 87)"
        },
        {
         "nuevas": 208,
         "_deepnote_index_column": "(2020, 88)"
        },
        {
         "nuevas": 89,
         "_deepnote_index_column": "(2020, 89)"
        },
        {
         "nuevas": 42,
         "_deepnote_index_column": "(2020, 90)"
        },
        {
         "nuevas": 336,
         "_deepnote_index_column": "(2020, 91)"
        },
        {
         "nuevas": 456,
         "_deepnote_index_column": "(2020, 92)"
        },
        {
         "nuevas": 405,
         "_deepnote_index_column": "(2020, 93)"
        },
        {
         "nuevas": 205,
         "_deepnote_index_column": "(2020, 94)"
        },
        {
         "nuevas": 97,
         "_deepnote_index_column": "(2020, 95)"
        },
        {
         "nuevas": 181,
         "_deepnote_index_column": "(2020, 96)"
        },
        {
         "nuevas": 101,
         "_deepnote_index_column": "(2020, 97)"
        },
        {
         "nuevas": 250,
         "_deepnote_index_column": "(2020, 98)"
        },
        {
         "nuevas": 455,
         "_deepnote_index_column": "(2020, 99)"
        },
        {
         "nuevas": 515,
         "_deepnote_index_column": "(2020, 100)"
        },
        {
         "nuevas": 2196,
         "_deepnote_index_column": "(2020, 101)"
        },
        {
         "nuevas": 98,
         "_deepnote_index_column": "(2020, 102)"
        },
        {
         "nuevas": 209,
         "_deepnote_index_column": "(2020, 103)"
        },
        {
         "nuevas": 63,
         "_deepnote_index_column": "(2020, 104)"
        },
        {
         "nuevas": 74,
         "_deepnote_index_column": "(2020, 105)"
        },
        {
         "nuevas": 257,
         "_deepnote_index_column": "(2020, 106)"
        },
        {
         "nuevas": 367,
         "_deepnote_index_column": "(2020, 107)"
        },
        {
         "nuevas": 225,
         "_deepnote_index_column": "(2020, 108)"
        },
        {
         "nuevas": 572,
         "_deepnote_index_column": "(2020, 109)"
        },
        {
         "nuevas": 446,
         "_deepnote_index_column": "(2020, 110)"
        },
        {
         "nuevas": 660,
         "_deepnote_index_column": "(2020, 111)"
        },
        {
         "nuevas": 270,
         "_deepnote_index_column": "(2020, 112)"
        },
        {
         "nuevas": 452,
         "_deepnote_index_column": "(2020, 113)"
        },
        {
         "nuevas": 333,
         "_deepnote_index_column": "(2020, 114)"
        },
        {
         "nuevas": 0,
         "_deepnote_index_column": "(2020, 115)"
        },
        {
         "nuevas": 0,
         "_deepnote_index_column": "(2020, 116)"
        },
        {
         "nuevas": 0,
         "_deepnote_index_column": "(2020, 117)"
        },
        {
         "nuevas": 0,
         "_deepnote_index_column": "(2020, 118)"
        },
        {
         "nuevas": 4545,
         "_deepnote_index_column": "(2020, 119)"
        },
        {
         "nuevas": 417,
         "_deepnote_index_column": "(2020, 120)"
        },
        {
         "nuevas": 259,
         "_deepnote_index_column": "(2020, 121)"
        },
        {
         "nuevas": 1402,
         "_deepnote_index_column": "(2020, 122)"
        },
        {
         "nuevas": 1057,
         "_deepnote_index_column": "(2020, 123)"
        },
        {
         "nuevas": 2074,
         "_deepnote_index_column": "(2020, 124)"
        },
        {
         "nuevas": 2104,
         "_deepnote_index_column": "(2020, 125)"
        },
        {
         "nuevas": 0,
         "_deepnote_index_column": "(2020, 126)"
        },
        {
         "nuevas": 3078,
         "_deepnote_index_column": "(2020, 127)"
        },
        {
         "nuevas": 878,
         "_deepnote_index_column": "(2020, 128)"
        },
        {
         "nuevas": 1704,
         "_deepnote_index_column": "(2020, 129)"
        },
        {
         "nuevas": 253,
         "_deepnote_index_column": "(2020, 130)"
        },
        {
         "nuevas": 488,
         "_deepnote_index_column": "(2020, 131)"
        },
        {
         "nuevas": 418,
         "_deepnote_index_column": "(2020, 132)"
        },
        {
         "nuevas": 911,
         "_deepnote_index_column": "(2020, 133)"
        },
        {
         "nuevas": 68,
         "_deepnote_index_column": "(2020, 134)"
        },
        {
         "nuevas": 16,
         "_deepnote_index_column": "(2020, 135)"
        },
        {
         "nuevas": 965,
         "_deepnote_index_column": "(2020, 136)"
        },
        {
         "nuevas": 1256,
         "_deepnote_index_column": "(2020, 137)"
        },
        {
         "nuevas": 459,
         "_deepnote_index_column": "(2020, 138)"
        },
        {
         "nuevas": 381,
         "_deepnote_index_column": "(2020, 139)"
        },
        {
         "nuevas": 569,
         "_deepnote_index_column": "(2020, 140)"
        },
        {
         "nuevas": 703,
         "_deepnote_index_column": "(2020, 141)"
        },
        {
         "nuevas": 452,
         "_deepnote_index_column": "(2020, 142)"
        },
        {
         "nuevas": 522,
         "_deepnote_index_column": "(2020, 143)"
        },
        {
         "nuevas": 430,
         "_deepnote_index_column": "(2020, 144)"
        },
        {
         "nuevas": 498,
         "_deepnote_index_column": "(2020, 145)"
        },
        {
         "nuevas": 599,
         "_deepnote_index_column": "(2020, 146)"
        },
        {
         "nuevas": 301,
         "_deepnote_index_column": "(2020, 147)"
        },
        {
         "nuevas": 447,
         "_deepnote_index_column": "(2020, 148)"
        },
        {
         "nuevas": 368,
         "_deepnote_index_column": "(2020, 149)"
        },
        {
         "nuevas": 100,
         "_deepnote_index_column": "(2020, 150)"
        },
        {
         "nuevas": 272,
         "_deepnote_index_column": "(2020, 151)"
        },
        {
         "nuevas": 255,
         "_deepnote_index_column": "(2020, 152)"
        },
        {
         "nuevas": 896,
         "_deepnote_index_column": "(2020, 153)"
        },
        {
         "nuevas": 420,
         "_deepnote_index_column": "(2020, 154)"
        },
        {
         "nuevas": 552,
         "_deepnote_index_column": "(2020, 155)"
        },
        {
         "nuevas": 609,
         "_deepnote_index_column": "(2020, 156)"
        },
        {
         "nuevas": 531,
         "_deepnote_index_column": "(2020, 157)"
        },
        {
         "nuevas": 622,
         "_deepnote_index_column": "(2020, 158)"
        },
        {
         "nuevas": 392,
         "_deepnote_index_column": "(2020, 159)"
        },
        {
         "nuevas": 258,
         "_deepnote_index_column": "(2020, 160)"
        },
        {
         "nuevas": 539,
         "_deepnote_index_column": "(2020, 161)"
        },
        {
         "nuevas": 523,
         "_deepnote_index_column": "(2020, 162)"
        },
        {
         "nuevas": 642,
         "_deepnote_index_column": "(2020, 163)"
        },
        {
         "nuevas": 696,
         "_deepnote_index_column": "(2020, 164)"
        },
        {
         "nuevas": 578,
         "_deepnote_index_column": "(2020, 165)"
        },
        {
         "nuevas": 395,
         "_deepnote_index_column": "(2020, 166)"
        },
        {
         "nuevas": 571,
         "_deepnote_index_column": "(2020, 167)"
        },
        {
         "nuevas": 621,
         "_deepnote_index_column": "(2020, 168)"
        },
        {
         "nuevas": 547,
         "_deepnote_index_column": "(2020, 169)"
        },
        {
         "nuevas": 607,
         "_deepnote_index_column": "(2020, 170)"
        },
        {
         "nuevas": 634,
         "_deepnote_index_column": "(2020, 171)"
        },
        {
         "nuevas": 452,
         "_deepnote_index_column": "(2020, 172)"
        },
        {
         "nuevas": 457,
         "_deepnote_index_column": "(2020, 173)"
        },
        {
         "nuevas": 275,
         "_deepnote_index_column": "(2020, 174)"
        },
        {
         "nuevas": 728,
         "_deepnote_index_column": "(2020, 175)"
        },
        {
         "nuevas": 691,
         "_deepnote_index_column": "(2020, 176)"
        },
        {
         "nuevas": 822,
         "_deepnote_index_column": "(2020, 177)"
        },
        {
         "nuevas": 700,
         "_deepnote_index_column": "(2020, 178)"
        },
        {
         "nuevas": 718,
         "_deepnote_index_column": "(2020, 179)"
        },
        {
         "nuevas": 681,
         "_deepnote_index_column": "(2020, 180)"
        },
        {
         "nuevas": 410,
         "_deepnote_index_column": "(2020, 181)"
        },
        {
         "nuevas": 677,
         "_deepnote_index_column": "(2020, 182)"
        },
        {
         "nuevas": 1915,
         "_deepnote_index_column": "(2020, 183)"
        },
        {
         "nuevas": 1229,
         "_deepnote_index_column": "(2020, 184)"
        },
        {
         "nuevas": 1171,
         "_deepnote_index_column": "(2020, 185)"
        },
        {
         "nuevas": 878,
         "_deepnote_index_column": "(2020, 186)"
        },
        {
         "nuevas": 423,
         "_deepnote_index_column": "(2020, 187)"
        },
        {
         "nuevas": 422,
         "_deepnote_index_column": "(2020, 188)"
        },
        {
         "nuevas": 865,
         "_deepnote_index_column": "(2020, 189)"
        },
        {
         "nuevas": 976,
         "_deepnote_index_column": "(2020, 190)"
        },
        {
         "nuevas": 797,
         "_deepnote_index_column": "(2020, 191)"
        },
        {
         "nuevas": 783,
         "_deepnote_index_column": "(2020, 192)"
        },
        {
         "nuevas": 1408,
         "_deepnote_index_column": "(2020, 193)"
        },
        {
         "nuevas": 661,
         "_deepnote_index_column": "(2020, 194)"
        },
        {
         "nuevas": 589,
         "_deepnote_index_column": "(2020, 195)"
        },
        {
         "nuevas": 1111,
         "_deepnote_index_column": "(2020, 196)"
        },
        {
         "nuevas": 759,
         "_deepnote_index_column": "(2020, 197)"
        },
        {
         "nuevas": 1036,
         "_deepnote_index_column": "(2020, 198)"
        },
        {
         "nuevas": 1079,
         "_deepnote_index_column": "(2020, 199)"
        },
        {
         "nuevas": 938,
         "_deepnote_index_column": "(2020, 200)"
        },
        {
         "nuevas": 631,
         "_deepnote_index_column": "(2020, 201)"
        },
        {
         "nuevas": 607,
         "_deepnote_index_column": "(2020, 202)"
        },
        {
         "nuevas": 1597,
         "_deepnote_index_column": "(2020, 203)"
        },
        {
         "nuevas": 1040,
         "_deepnote_index_column": "(2020, 204)"
        },
        {
         "nuevas": 891,
         "_deepnote_index_column": "(2020, 205)"
        },
        {
         "nuevas": 901,
         "_deepnote_index_column": "(2020, 206)"
        },
        {
         "nuevas": 987,
         "_deepnote_index_column": "(2020, 207)"
        },
        {
         "nuevas": 658,
         "_deepnote_index_column": "(2020, 208)"
        },
        {
         "nuevas": 467,
         "_deepnote_index_column": "(2020, 209)"
        },
        {
         "nuevas": 1118,
         "_deepnote_index_column": "(2020, 210)"
        },
        {
         "nuevas": 914,
         "_deepnote_index_column": "(2020, 211)"
        },
        {
         "nuevas": 1177,
         "_deepnote_index_column": "(2020, 212)"
        },
        {
         "nuevas": 985,
         "_deepnote_index_column": "(2020, 213)"
        },
        {
         "nuevas": 877,
         "_deepnote_index_column": "(2020, 214)"
        },
        {
         "nuevas": 292,
         "_deepnote_index_column": "(2020, 215)"
        },
        {
         "nuevas": 517,
         "_deepnote_index_column": "(2020, 216)"
        },
        {
         "nuevas": 922,
         "_deepnote_index_column": "(2020, 217)"
        },
        {
         "nuevas": 903,
         "_deepnote_index_column": "(2020, 218)"
        },
        {
         "nuevas": 1671,
         "_deepnote_index_column": "(2020, 219)"
        },
        {
         "nuevas": 1432,
         "_deepnote_index_column": "(2020, 220)"
        },
        {
         "nuevas": 1603,
         "_deepnote_index_column": "(2020, 221)"
        },
        {
         "nuevas": 887,
         "_deepnote_index_column": "(2020, 222)"
        },
        {
         "nuevas": 242,
         "_deepnote_index_column": "(2020, 223)"
        },
        {
         "nuevas": 862,
         "_deepnote_index_column": "(2020, 224)"
        },
        {
         "nuevas": 1547,
         "_deepnote_index_column": "(2020, 225)"
        },
        {
         "nuevas": 1233,
         "_deepnote_index_column": "(2020, 226)"
        },
        {
         "nuevas": 1066,
         "_deepnote_index_column": "(2020, 227)"
        },
        {
         "nuevas": 1279,
         "_deepnote_index_column": "(2020, 228)"
        },
        {
         "nuevas": 854,
         "_deepnote_index_column": "(2020, 229)"
        },
        {
         "nuevas": 209,
         "_deepnote_index_column": "(2020, 230)"
        },
        {
         "nuevas": 1190,
         "_deepnote_index_column": "(2020, 231)"
        },
        {
         "nuevas": 1534,
         "_deepnote_index_column": "(2020, 232)"
        },
        {
         "nuevas": 1033,
         "_deepnote_index_column": "(2020, 233)"
        },
        {
         "nuevas": 973,
         "_deepnote_index_column": "(2020, 234)"
        },
        {
         "nuevas": 608,
         "_deepnote_index_column": "(2020, 235)"
        },
        {
         "nuevas": 680,
         "_deepnote_index_column": "(2020, 236)"
        },
        {
         "nuevas": 520,
         "_deepnote_index_column": "(2020, 237)"
        },
        {
         "nuevas": 741,
         "_deepnote_index_column": "(2020, 238)"
        },
        {
         "nuevas": 1519,
         "_deepnote_index_column": "(2020, 239)"
        },
        {
         "nuevas": 670,
         "_deepnote_index_column": "(2020, 240)"
        },
        {
         "nuevas": 922,
         "_deepnote_index_column": "(2020, 241)"
        },
        {
         "nuevas": 765,
         "_deepnote_index_column": "(2020, 242)"
        },
        {
         "nuevas": 742,
         "_deepnote_index_column": "(2020, 243)"
        },
        {
         "nuevas": 119,
         "_deepnote_index_column": "(2020, 244)"
        },
        {
         "nuevas": 542,
         "_deepnote_index_column": "(2020, 245)"
        },
        {
         "nuevas": 1148,
         "_deepnote_index_column": "(2020, 246)"
        },
        {
         "nuevas": 903,
         "_deepnote_index_column": "(2020, 247)"
        },
        {
         "nuevas": 815,
         "_deepnote_index_column": "(2020, 248)"
        },
        {
         "nuevas": 870,
         "_deepnote_index_column": "(2020, 249)"
        },
        {
         "nuevas": 695,
         "_deepnote_index_column": "(2020, 250)"
        },
        {
         "nuevas": 308,
         "_deepnote_index_column": "(2020, 251)"
        },
        {
         "nuevas": 665,
         "_deepnote_index_column": "(2020, 252)"
        },
        {
         "nuevas": 1409,
         "_deepnote_index_column": "(2020, 253)"
        },
        {
         "nuevas": 1040,
         "_deepnote_index_column": "(2020, 254)"
        },
        {
         "nuevas": 1526,
         "_deepnote_index_column": "(2020, 255)"
        },
        {
         "nuevas": 1719,
         "_deepnote_index_column": "(2020, 256)"
        },
        {
         "nuevas": 2143,
         "_deepnote_index_column": "(2020, 257)"
        },
        {
         "nuevas": 317,
         "_deepnote_index_column": "(2020, 258)"
        },
        {
         "nuevas": 642,
         "_deepnote_index_column": "(2020, 259)"
        },
        {
         "nuevas": 1972,
         "_deepnote_index_column": "(2020, 260)"
        },
        {
         "nuevas": 732,
         "_deepnote_index_column": "(2020, 261)"
        },
        {
         "nuevas": 1872,
         "_deepnote_index_column": "(2020, 262)"
        },
        {
         "nuevas": 1491,
         "_deepnote_index_column": "(2020, 263)"
        },
        {
         "nuevas": 799,
         "_deepnote_index_column": "(2020, 264)"
        },
        {
         "nuevas": 292,
         "_deepnote_index_column": "(2020, 265)"
        },
        {
         "nuevas": 932,
         "_deepnote_index_column": "(2020, 266)"
        },
        {
         "nuevas": 2249,
         "_deepnote_index_column": "(2020, 267)"
        },
        {
         "nuevas": 1254,
         "_deepnote_index_column": "(2020, 268)"
        },
        {
         "nuevas": 1329,
         "_deepnote_index_column": "(2020, 269)"
        },
        {
         "nuevas": 1506,
         "_deepnote_index_column": "(2020, 270)"
        },
        {
         "nuevas": 766,
         "_deepnote_index_column": "(2020, 271)"
        },
        {
         "nuevas": 218,
         "_deepnote_index_column": "(2020, 272)"
        },
        {
         "nuevas": 784,
         "_deepnote_index_column": "(2020, 273)"
        },
        {
         "nuevas": 1298,
         "_deepnote_index_column": "(2020, 274)"
        },
        {
         "nuevas": 1537,
         "_deepnote_index_column": "(2020, 275)"
        },
        {
         "nuevas": 950,
         "_deepnote_index_column": "(2020, 276)"
        },
        {
         "nuevas": 817,
         "_deepnote_index_column": "(2020, 277)"
        },
        {
         "nuevas": 683,
         "_deepnote_index_column": "(2020, 278)"
        },
        {
         "nuevas": 305,
         "_deepnote_index_column": "(2020, 279)"
        },
        {
         "nuevas": 717,
         "_deepnote_index_column": "(2020, 280)"
        },
        {
         "nuevas": 1475,
         "_deepnote_index_column": "(2020, 281)"
        },
        {
         "nuevas": 1514,
         "_deepnote_index_column": "(2020, 282)"
        },
        {
         "nuevas": 803,
         "_deepnote_index_column": "(2020, 283)"
        },
        {
         "nuevas": 980,
         "_deepnote_index_column": "(2020, 284)"
        },
        {
         "nuevas": 205,
         "_deepnote_index_column": "(2020, 285)"
        },
        {
         "nuevas": 282,
         "_deepnote_index_column": "(2020, 286)"
        },
        {
         "nuevas": 856,
         "_deepnote_index_column": "(2020, 287)"
        },
        {
         "nuevas": 912,
         "_deepnote_index_column": "(2020, 288)"
        },
        {
         "nuevas": 1277,
         "_deepnote_index_column": "(2020, 289)"
        },
        {
         "nuevas": 1299,
         "_deepnote_index_column": "(2020, 290)"
        },
        {
         "nuevas": 763,
         "_deepnote_index_column": "(2020, 291)"
        },
        {
         "nuevas": 867,
         "_deepnote_index_column": "(2020, 292)"
        },
        {
         "nuevas": 134,
         "_deepnote_index_column": "(2020, 293)"
        },
        {
         "nuevas": 692,
         "_deepnote_index_column": "(2020, 294)"
        },
        {
         "nuevas": 1510,
         "_deepnote_index_column": "(2020, 295)"
        },
        {
         "nuevas": 826,
         "_deepnote_index_column": "(2020, 296)"
        },
        {
         "nuevas": 1819,
         "_deepnote_index_column": "(2020, 297)"
        },
        {
         "nuevas": 1344,
         "_deepnote_index_column": "(2020, 298)"
        },
        {
         "nuevas": 2021,
         "_deepnote_index_column": "(2020, 299)"
        },
        {
         "nuevas": 543,
         "_deepnote_index_column": "(2020, 300)"
        },
        {
         "nuevas": 1014,
         "_deepnote_index_column": "(2020, 301)"
        },
        {
         "nuevas": 1716,
         "_deepnote_index_column": "(2020, 302)"
        },
        {
         "nuevas": 1394,
         "_deepnote_index_column": "(2020, 303)"
        },
        {
         "nuevas": 845,
         "_deepnote_index_column": "(2020, 304)"
        },
        {
         "nuevas": 1045,
         "_deepnote_index_column": "(2020, 305)"
        },
        {
         "nuevas": 1002,
         "_deepnote_index_column": "(2020, 306)"
        },
        {
         "nuevas": 368,
         "_deepnote_index_column": "(2020, 307)"
        },
        {
         "nuevas": 548,
         "_deepnote_index_column": "(2020, 308)"
        },
        {
         "nuevas": 1323,
         "_deepnote_index_column": "(2020, 309)"
        },
        {
         "nuevas": 350,
         "_deepnote_index_column": "(2020, 310)"
        },
        {
         "nuevas": 725,
         "_deepnote_index_column": "(2020, 311)"
        },
        {
         "nuevas": 978,
         "_deepnote_index_column": "(2020, 312)"
        },
        {
         "nuevas": 1421,
         "_deepnote_index_column": "(2020, 313)"
        },
        {
         "nuevas": 362,
         "_deepnote_index_column": "(2020, 314)"
        },
        {
         "nuevas": 442,
         "_deepnote_index_column": "(2020, 315)"
        },
        {
         "nuevas": 919,
         "_deepnote_index_column": "(2020, 316)"
        },
        {
         "nuevas": 883,
         "_deepnote_index_column": "(2020, 317)"
        },
        {
         "nuevas": 1161,
         "_deepnote_index_column": "(2020, 318)"
        },
        {
         "nuevas": 953,
         "_deepnote_index_column": "(2020, 319)"
        },
        {
         "nuevas": 668,
         "_deepnote_index_column": "(2020, 320)"
        },
        {
         "nuevas": 381,
         "_deepnote_index_column": "(2020, 321)"
        },
        {
         "nuevas": 428,
         "_deepnote_index_column": "(2020, 322)"
        }
       ],
       "rows_bottom": [
        {
         "nuevas": 1248,
         "_deepnote_index_column": "(2021, 86)"
        },
        {
         "nuevas": 1783,
         "_deepnote_index_column": "(2021, 87)"
        },
        {
         "nuevas": 642,
         "_deepnote_index_column": "(2021, 88)"
        },
        {
         "nuevas": 2201,
         "_deepnote_index_column": "(2021, 89)"
        },
        {
         "nuevas": 1430,
         "_deepnote_index_column": "(2021, 90)"
        },
        {
         "nuevas": 1633,
         "_deepnote_index_column": "(2021, 91)"
        },
        {
         "nuevas": 1650,
         "_deepnote_index_column": "(2021, 92)"
        },
        {
         "nuevas": 1137,
         "_deepnote_index_column": "(2021, 93)"
        },
        {
         "nuevas": 2506,
         "_deepnote_index_column": "(2021, 94)"
        },
        {
         "nuevas": 1096,
         "_deepnote_index_column": "(2021, 95)"
        },
        {
         "nuevas": 925,
         "_deepnote_index_column": "(2021, 96)"
        },
        {
         "nuevas": 1902,
         "_deepnote_index_column": "(2021, 97)"
        },
        {
         "nuevas": 2015,
         "_deepnote_index_column": "(2021, 98)"
        },
        {
         "nuevas": 1059,
         "_deepnote_index_column": "(2021, 99)"
        },
        {
         "nuevas": 2199,
         "_deepnote_index_column": "(2021, 100)"
        },
        {
         "nuevas": 1940,
         "_deepnote_index_column": "(2021, 101)"
        },
        {
         "nuevas": 253,
         "_deepnote_index_column": "(2021, 102)"
        },
        {
         "nuevas": 519,
         "_deepnote_index_column": "(2021, 103)"
        },
        {
         "nuevas": 2950,
         "_deepnote_index_column": "(2021, 104)"
        },
        {
         "nuevas": 4892,
         "_deepnote_index_column": "(2021, 105)"
        },
        {
         "nuevas": 533,
         "_deepnote_index_column": "(2021, 106)"
        },
        {
         "nuevas": 2193,
         "_deepnote_index_column": "(2021, 107)"
        },
        {
         "nuevas": 2389,
         "_deepnote_index_column": "(2021, 108)"
        },
        {
         "nuevas": 17,
         "_deepnote_index_column": "(2021, 109)"
        },
        {
         "nuevas": 591,
         "_deepnote_index_column": "(2021, 110)"
        },
        {
         "nuevas": 1689,
         "_deepnote_index_column": "(2021, 111)"
        },
        {
         "nuevas": 2550,
         "_deepnote_index_column": "(2021, 112)"
        },
        {
         "nuevas": 5913,
         "_deepnote_index_column": "(2021, 113)"
        },
        {
         "nuevas": 1448,
         "_deepnote_index_column": "(2021, 114)"
        },
        {
         "nuevas": 608,
         "_deepnote_index_column": "(2021, 115)"
        },
        {
         "nuevas": 1413,
         "_deepnote_index_column": "(2021, 116)"
        },
        {
         "nuevas": 554,
         "_deepnote_index_column": "(2021, 117)"
        },
        {
         "nuevas": 2333,
         "_deepnote_index_column": "(2021, 118)"
        },
        {
         "nuevas": 3027,
         "_deepnote_index_column": "(2021, 119)"
        },
        {
         "nuevas": 1173,
         "_deepnote_index_column": "(2021, 120)"
        },
        {
         "nuevas": 2727,
         "_deepnote_index_column": "(2021, 121)"
        },
        {
         "nuevas": 2710,
         "_deepnote_index_column": "(2021, 122)"
        },
        {
         "nuevas": 747,
         "_deepnote_index_column": "(2021, 123)"
        },
        {
         "nuevas": 3196,
         "_deepnote_index_column": "(2021, 124)"
        },
        {
         "nuevas": 1806,
         "_deepnote_index_column": "(2021, 125)"
        },
        {
         "nuevas": 2279,
         "_deepnote_index_column": "(2021, 126)"
        },
        {
         "nuevas": 1561,
         "_deepnote_index_column": "(2021, 127)"
        },
        {
         "nuevas": 2033,
         "_deepnote_index_column": "(2021, 128)"
        },
        {
         "nuevas": 1375,
         "_deepnote_index_column": "(2021, 129)"
        },
        {
         "nuevas": 1764,
         "_deepnote_index_column": "(2021, 130)"
        },
        {
         "nuevas": 535,
         "_deepnote_index_column": "(2021, 131)"
        },
        {
         "nuevas": 2037,
         "_deepnote_index_column": "(2021, 132)"
        },
        {
         "nuevas": 1151,
         "_deepnote_index_column": "(2021, 133)"
        },
        {
         "nuevas": 1219,
         "_deepnote_index_column": "(2021, 134)"
        },
        {
         "nuevas": 2518,
         "_deepnote_index_column": "(2021, 135)"
        },
        {
         "nuevas": 609,
         "_deepnote_index_column": "(2021, 136)"
        },
        {
         "nuevas": 741,
         "_deepnote_index_column": "(2021, 137)"
        },
        {
         "nuevas": 596,
         "_deepnote_index_column": "(2021, 138)"
        },
        {
         "nuevas": 1441,
         "_deepnote_index_column": "(2021, 139)"
        },
        {
         "nuevas": 2348,
         "_deepnote_index_column": "(2021, 140)"
        },
        {
         "nuevas": 1366,
         "_deepnote_index_column": "(2021, 141)"
        },
        {
         "nuevas": 1219,
         "_deepnote_index_column": "(2021, 142)"
        },
        {
         "nuevas": 1011,
         "_deepnote_index_column": "(2021, 143)"
        },
        {
         "nuevas": 347,
         "_deepnote_index_column": "(2021, 144)"
        },
        {
         "nuevas": 969,
         "_deepnote_index_column": "(2021, 145)"
        },
        {
         "nuevas": 1064,
         "_deepnote_index_column": "(2021, 146)"
        },
        {
         "nuevas": 1098,
         "_deepnote_index_column": "(2021, 147)"
        },
        {
         "nuevas": 836,
         "_deepnote_index_column": "(2021, 148)"
        },
        {
         "nuevas": 1576,
         "_deepnote_index_column": "(2021, 149)"
        },
        {
         "nuevas": 1100,
         "_deepnote_index_column": "(2021, 150)"
        },
        {
         "nuevas": 196,
         "_deepnote_index_column": "(2021, 151)"
        },
        {
         "nuevas": 1653,
         "_deepnote_index_column": "(2021, 152)"
        },
        {
         "nuevas": 1175,
         "_deepnote_index_column": "(2021, 153)"
        },
        {
         "nuevas": 952,
         "_deepnote_index_column": "(2021, 154)"
        },
        {
         "nuevas": 922,
         "_deepnote_index_column": "(2021, 155)"
        },
        {
         "nuevas": 690,
         "_deepnote_index_column": "(2021, 156)"
        },
        {
         "nuevas": 924,
         "_deepnote_index_column": "(2021, 157)"
        },
        {
         "nuevas": 386,
         "_deepnote_index_column": "(2021, 158)"
        },
        {
         "nuevas": 246,
         "_deepnote_index_column": "(2021, 159)"
        },
        {
         "nuevas": 885,
         "_deepnote_index_column": "(2021, 160)"
        },
        {
         "nuevas": 2153,
         "_deepnote_index_column": "(2021, 161)"
        },
        {
         "nuevas": 1098,
         "_deepnote_index_column": "(2021, 162)"
        },
        {
         "nuevas": 987,
         "_deepnote_index_column": "(2021, 163)"
        },
        {
         "nuevas": 826,
         "_deepnote_index_column": "(2021, 164)"
        },
        {
         "nuevas": 205,
         "_deepnote_index_column": "(2021, 165)"
        },
        {
         "nuevas": 235,
         "_deepnote_index_column": "(2021, 166)"
        },
        {
         "nuevas": 1806,
         "_deepnote_index_column": "(2021, 167)"
        },
        {
         "nuevas": 1161,
         "_deepnote_index_column": "(2021, 168)"
        },
        {
         "nuevas": 2054,
         "_deepnote_index_column": "(2021, 169)"
        },
        {
         "nuevas": 1191,
         "_deepnote_index_column": "(2021, 170)"
        },
        {
         "nuevas": 855,
         "_deepnote_index_column": "(2021, 171)"
        },
        {
         "nuevas": 192,
         "_deepnote_index_column": "(2021, 172)"
        },
        {
         "nuevas": 543,
         "_deepnote_index_column": "(2021, 173)"
        },
        {
         "nuevas": 1931,
         "_deepnote_index_column": "(2021, 174)"
        },
        {
         "nuevas": 376,
         "_deepnote_index_column": "(2021, 175)"
        },
        {
         "nuevas": 2751,
         "_deepnote_index_column": "(2021, 176)"
        },
        {
         "nuevas": 1128,
         "_deepnote_index_column": "(2021, 177)"
        },
        {
         "nuevas": 974,
         "_deepnote_index_column": "(2021, 178)"
        },
        {
         "nuevas": 1407,
         "_deepnote_index_column": "(2021, 179)"
        },
        {
         "nuevas": 1746,
         "_deepnote_index_column": "(2021, 180)"
        },
        {
         "nuevas": 1015,
         "_deepnote_index_column": "(2021, 181)"
        },
        {
         "nuevas": 1034,
         "_deepnote_index_column": "(2021, 182)"
        },
        {
         "nuevas": 1619,
         "_deepnote_index_column": "(2021, 183)"
        },
        {
         "nuevas": 985,
         "_deepnote_index_column": "(2021, 184)"
        },
        {
         "nuevas": 0,
         "_deepnote_index_column": "(2021, 185)"
        },
        {
         "nuevas": 507,
         "_deepnote_index_column": "(2021, 186)"
        },
        {
         "nuevas": 1302,
         "_deepnote_index_column": "(2021, 187)"
        },
        {
         "nuevas": 1078,
         "_deepnote_index_column": "(2021, 188)"
        },
        {
         "nuevas": 849,
         "_deepnote_index_column": "(2021, 189)"
        },
        {
         "nuevas": 1195,
         "_deepnote_index_column": "(2021, 190)"
        },
        {
         "nuevas": 903,
         "_deepnote_index_column": "(2021, 191)"
        },
        {
         "nuevas": 370,
         "_deepnote_index_column": "(2021, 192)"
        },
        {
         "nuevas": 68,
         "_deepnote_index_column": "(2021, 193)"
        },
        {
         "nuevas": 2468,
         "_deepnote_index_column": "(2021, 194)"
        },
        {
         "nuevas": 875,
         "_deepnote_index_column": "(2021, 195)"
        },
        {
         "nuevas": 965,
         "_deepnote_index_column": "(2021, 196)"
        },
        {
         "nuevas": 925,
         "_deepnote_index_column": "(2021, 197)"
        },
        {
         "nuevas": 1568,
         "_deepnote_index_column": "(2021, 198)"
        },
        {
         "nuevas": 850,
         "_deepnote_index_column": "(2021, 199)"
        },
        {
         "nuevas": 247,
         "_deepnote_index_column": "(2021, 200)"
        },
        {
         "nuevas": 1634,
         "_deepnote_index_column": "(2021, 201)"
        },
        {
         "nuevas": 669,
         "_deepnote_index_column": "(2021, 202)"
        },
        {
         "nuevas": 1169,
         "_deepnote_index_column": "(2021, 203)"
        },
        {
         "nuevas": 936,
         "_deepnote_index_column": "(2021, 204)"
        },
        {
         "nuevas": 0,
         "_deepnote_index_column": "(2021, 205)"
        },
        {
         "nuevas": 0,
         "_deepnote_index_column": "(2021, 206)"
        },
        {
         "nuevas": 2227,
         "_deepnote_index_column": "(2021, 207)"
        },
        {
         "nuevas": 786,
         "_deepnote_index_column": "(2021, 208)"
        },
        {
         "nuevas": 0,
         "_deepnote_index_column": "(2021, 209)"
        },
        {
         "nuevas": 0,
         "_deepnote_index_column": "(2021, 210)"
        },
        {
         "nuevas": 0,
         "_deepnote_index_column": "(2021, 211)"
        },
        {
         "nuevas": 0,
         "_deepnote_index_column": "(2021, 212)"
        },
        {
         "nuevas": 0,
         "_deepnote_index_column": "(2021, 213)"
        },
        {
         "nuevas": 0,
         "_deepnote_index_column": "(2021, 214)"
        },
        {
         "nuevas": 0,
         "_deepnote_index_column": "(2021, 215)"
        },
        {
         "nuevas": 0,
         "_deepnote_index_column": "(2021, 216)"
        },
        {
         "nuevas": 6623,
         "_deepnote_index_column": "(2021, 217)"
        },
        {
         "nuevas": 829,
         "_deepnote_index_column": "(2021, 218)"
        },
        {
         "nuevas": 646,
         "_deepnote_index_column": "(2021, 219)"
        },
        {
         "nuevas": 353,
         "_deepnote_index_column": "(2021, 220)"
        },
        {
         "nuevas": 81,
         "_deepnote_index_column": "(2021, 221)"
        },
        {
         "nuevas": 98,
         "_deepnote_index_column": "(2021, 222)"
        },
        {
         "nuevas": 785,
         "_deepnote_index_column": "(2021, 223)"
        },
        {
         "nuevas": 619,
         "_deepnote_index_column": "(2021, 224)"
        },
        {
         "nuevas": 581,
         "_deepnote_index_column": "(2021, 225)"
        },
        {
         "nuevas": 471,
         "_deepnote_index_column": "(2021, 226)"
        },
        {
         "nuevas": 246,
         "_deepnote_index_column": "(2021, 227)"
        },
        {
         "nuevas": 190,
         "_deepnote_index_column": "(2021, 228)"
        },
        {
         "nuevas": 590,
         "_deepnote_index_column": "(2021, 229)"
        },
        {
         "nuevas": 897,
         "_deepnote_index_column": "(2021, 230)"
        },
        {
         "nuevas": 438,
         "_deepnote_index_column": "(2021, 231)"
        },
        {
         "nuevas": 815,
         "_deepnote_index_column": "(2021, 232)"
        },
        {
         "nuevas": 749,
         "_deepnote_index_column": "(2021, 233)"
        },
        {
         "nuevas": 142,
         "_deepnote_index_column": "(2021, 234)"
        },
        {
         "nuevas": 49,
         "_deepnote_index_column": "(2021, 235)"
        },
        {
         "nuevas": 468,
         "_deepnote_index_column": "(2021, 236)"
        },
        {
         "nuevas": 435,
         "_deepnote_index_column": "(2021, 237)"
        },
        {
         "nuevas": 453,
         "_deepnote_index_column": "(2021, 238)"
        },
        {
         "nuevas": 361,
         "_deepnote_index_column": "(2021, 239)"
        },
        {
         "nuevas": 605,
         "_deepnote_index_column": "(2021, 240)"
        },
        {
         "nuevas": 91,
         "_deepnote_index_column": "(2021, 241)"
        },
        {
         "nuevas": 61,
         "_deepnote_index_column": "(2021, 242)"
        },
        {
         "nuevas": 542,
         "_deepnote_index_column": "(2021, 243)"
        },
        {
         "nuevas": 403,
         "_deepnote_index_column": "(2021, 244)"
        },
        {
         "nuevas": 955,
         "_deepnote_index_column": "(2021, 245)"
        },
        {
         "nuevas": 413,
         "_deepnote_index_column": "(2021, 246)"
        },
        {
         "nuevas": 253,
         "_deepnote_index_column": "(2021, 247)"
        },
        {
         "nuevas": 65,
         "_deepnote_index_column": "(2021, 248)"
        },
        {
         "nuevas": 51,
         "_deepnote_index_column": "(2021, 249)"
        },
        {
         "nuevas": 374,
         "_deepnote_index_column": "(2021, 250)"
        },
        {
         "nuevas": 524,
         "_deepnote_index_column": "(2021, 251)"
        },
        {
         "nuevas": 146,
         "_deepnote_index_column": "(2021, 252)"
        },
        {
         "nuevas": 148,
         "_deepnote_index_column": "(2021, 253)"
        },
        {
         "nuevas": 187,
         "_deepnote_index_column": "(2021, 254)"
        },
        {
         "nuevas": 16,
         "_deepnote_index_column": "(2021, 255)"
        },
        {
         "nuevas": 17,
         "_deepnote_index_column": "(2021, 256)"
        },
        {
         "nuevas": 333,
         "_deepnote_index_column": "(2021, 257)"
        },
        {
         "nuevas": 232,
         "_deepnote_index_column": "(2021, 258)"
        },
        {
         "nuevas": 225,
         "_deepnote_index_column": "(2021, 259)"
        },
        {
         "nuevas": 454,
         "_deepnote_index_column": "(2021, 260)"
        },
        {
         "nuevas": 435,
         "_deepnote_index_column": "(2021, 261)"
        },
        {
         "nuevas": 29,
         "_deepnote_index_column": "(2021, 262)"
        },
        {
         "nuevas": 17,
         "_deepnote_index_column": "(2021, 263)"
        },
        {
         "nuevas": 411,
         "_deepnote_index_column": "(2021, 264)"
        },
        {
         "nuevas": 157,
         "_deepnote_index_column": "(2021, 265)"
        },
        {
         "nuevas": 270,
         "_deepnote_index_column": "(2021, 266)"
        },
        {
         "nuevas": 214,
         "_deepnote_index_column": "(2021, 267)"
        },
        {
         "nuevas": 431,
         "_deepnote_index_column": "(2021, 268)"
        },
        {
         "nuevas": 152,
         "_deepnote_index_column": "(2021, 269)"
        },
        {
         "nuevas": 70,
         "_deepnote_index_column": "(2021, 270)"
        },
        {
         "nuevas": 513,
         "_deepnote_index_column": "(2021, 271)"
        },
        {
         "nuevas": 375,
         "_deepnote_index_column": "(2021, 272)"
        },
        {
         "nuevas": 564,
         "_deepnote_index_column": "(2021, 273)"
        },
        {
         "nuevas": 442,
         "_deepnote_index_column": "(2021, 274)"
        },
        {
         "nuevas": 306,
         "_deepnote_index_column": "(2021, 275)"
        },
        {
         "nuevas": 29,
         "_deepnote_index_column": "(2021, 276)"
        },
        {
         "nuevas": 113,
         "_deepnote_index_column": "(2021, 277)"
        },
        {
         "nuevas": 250,
         "_deepnote_index_column": "(2021, 278)"
        },
        {
         "nuevas": 229,
         "_deepnote_index_column": "(2021, 279)"
        },
        {
         "nuevas": 153,
         "_deepnote_index_column": "(2021, 280)"
        },
        {
         "nuevas": 205,
         "_deepnote_index_column": "(2021, 281)"
        },
        {
         "nuevas": 71,
         "_deepnote_index_column": "(2021, 282)"
        },
        {
         "nuevas": 75,
         "_deepnote_index_column": "(2021, 283)"
        },
        {
         "nuevas": 27,
         "_deepnote_index_column": "(2021, 284)"
        },
        {
         "nuevas": 631,
         "_deepnote_index_column": "(2021, 285)"
        },
        {
         "nuevas": 324,
         "_deepnote_index_column": "(2021, 286)"
        },
        {
         "nuevas": 126,
         "_deepnote_index_column": "(2021, 287)"
        },
        {
         "nuevas": 150,
         "_deepnote_index_column": "(2021, 288)"
        },
        {
         "nuevas": 255,
         "_deepnote_index_column": "(2021, 289)"
        },
        {
         "nuevas": 119,
         "_deepnote_index_column": "(2021, 290)"
        },
        {
         "nuevas": 55,
         "_deepnote_index_column": "(2021, 291)"
        },
        {
         "nuevas": 356,
         "_deepnote_index_column": "(2021, 292)"
        },
        {
         "nuevas": 569,
         "_deepnote_index_column": "(2021, 293)"
        },
        {
         "nuevas": 386,
         "_deepnote_index_column": "(2021, 294)"
        },
        {
         "nuevas": 269,
         "_deepnote_index_column": "(2021, 295)"
        },
        {
         "nuevas": 295,
         "_deepnote_index_column": "(2021, 296)"
        },
        {
         "nuevas": 26,
         "_deepnote_index_column": "(2021, 297)"
        },
        {
         "nuevas": 27,
         "_deepnote_index_column": "(2021, 298)"
        },
        {
         "nuevas": 200,
         "_deepnote_index_column": "(2021, 299)"
        },
        {
         "nuevas": 308,
         "_deepnote_index_column": "(2021, 300)"
        },
        {
         "nuevas": 263,
         "_deepnote_index_column": "(2021, 301)"
        },
        {
         "nuevas": 501,
         "_deepnote_index_column": "(2021, 302)"
        },
        {
         "nuevas": 271,
         "_deepnote_index_column": "(2021, 303)"
        },
        {
         "nuevas": 60,
         "_deepnote_index_column": "(2021, 304)"
        },
        {
         "nuevas": 913,
         "_deepnote_index_column": "(2021, 305)"
        },
        {
         "nuevas": 48,
         "_deepnote_index_column": "(2021, 306)"
        },
        {
         "nuevas": 55,
         "_deepnote_index_column": "(2021, 307)"
        },
        {
         "nuevas": 315,
         "_deepnote_index_column": "(2021, 308)"
        },
        {
         "nuevas": 386,
         "_deepnote_index_column": "(2021, 309)"
        },
        {
         "nuevas": 411,
         "_deepnote_index_column": "(2021, 310)"
        },
        {
         "nuevas": 96,
         "_deepnote_index_column": "(2021, 311)"
        },
        {
         "nuevas": 78,
         "_deepnote_index_column": "(2021, 312)"
        },
        {
         "nuevas": 407,
         "_deepnote_index_column": "(2021, 313)"
        },
        {
         "nuevas": 329,
         "_deepnote_index_column": "(2021, 314)"
        },
        {
         "nuevas": 387,
         "_deepnote_index_column": "(2021, 315)"
        },
        {
         "nuevas": 596,
         "_deepnote_index_column": "(2021, 316)"
        },
        {
         "nuevas": 419,
         "_deepnote_index_column": "(2021, 317)"
        },
        {
         "nuevas": 94,
         "_deepnote_index_column": "(2021, 318)"
        },
        {
         "nuevas": 53,
         "_deepnote_index_column": "(2021, 319)"
        },
        {
         "nuevas": 547,
         "_deepnote_index_column": "(2021, 320)"
        },
        {
         "nuevas": 391,
         "_deepnote_index_column": "(2021, 321)"
        },
        {
         "nuevas": 572,
         "_deepnote_index_column": "(2021, 322)"
        },
        {
         "nuevas": 492,
         "_deepnote_index_column": "(2021, 323)"
        },
        {
         "nuevas": 364,
         "_deepnote_index_column": "(2021, 324)"
        },
        {
         "nuevas": 142,
         "_deepnote_index_column": "(2021, 325)"
        },
        {
         "nuevas": 79,
         "_deepnote_index_column": "(2021, 326)"
        },
        {
         "nuevas": 453,
         "_deepnote_index_column": "(2021, 327)"
        },
        {
         "nuevas": 513,
         "_deepnote_index_column": "(2021, 328)"
        },
        {
         "nuevas": 432,
         "_deepnote_index_column": "(2021, 329)"
        },
        {
         "nuevas": 307,
         "_deepnote_index_column": "(2021, 330)"
        },
        {
         "nuevas": 478,
         "_deepnote_index_column": "(2021, 331)"
        },
        {
         "nuevas": 185,
         "_deepnote_index_column": "(2021, 332)"
        },
        {
         "nuevas": 70,
         "_deepnote_index_column": "(2021, 333)"
        },
        {
         "nuevas": 463,
         "_deepnote_index_column": "(2021, 334)"
        },
        {
         "nuevas": 355,
         "_deepnote_index_column": "(2021, 335)"
        }
       ]
      },
      "text/plain": "                  nuevas\nyear day_of_year        \n2020 73               23\n     74                5\n     75               11\n     76               21\n     77               53\n...                  ...\n2021 331             478\n     332             185\n     333              70\n     334             463\n     335             355\n\n[629 rows x 1 columns]",
      "text/html": "<div>\n<style scoped>\n    .dataframe tbody tr th:only-of-type {\n        vertical-align: middle;\n    }\n\n    .dataframe tbody tr th {\n        vertical-align: top;\n    }\n\n    .dataframe thead th {\n        text-align: right;\n    }\n</style>\n<table border=\"1\" class=\"dataframe\">\n  <thead>\n    <tr style=\"text-align: right;\">\n      <th></th>\n      <th></th>\n      <th>nuevas</th>\n    </tr>\n    <tr>\n      <th>year</th>\n      <th>day_of_year</th>\n      <th></th>\n    </tr>\n  </thead>\n  <tbody>\n    <tr>\n      <th rowspan=\"5\" valign=\"top\">2020</th>\n      <th>73</th>\n      <td>23</td>\n    </tr>\n    <tr>\n      <th>74</th>\n      <td>5</td>\n    </tr>\n    <tr>\n      <th>75</th>\n      <td>11</td>\n    </tr>\n    <tr>\n      <th>76</th>\n      <td>21</td>\n    </tr>\n    <tr>\n      <th>77</th>\n      <td>53</td>\n    </tr>\n    <tr>\n      <th>...</th>\n      <th>...</th>\n      <td>...</td>\n    </tr>\n    <tr>\n      <th rowspan=\"5\" valign=\"top\">2021</th>\n      <th>331</th>\n      <td>478</td>\n    </tr>\n    <tr>\n      <th>332</th>\n      <td>185</td>\n    </tr>\n    <tr>\n      <th>333</th>\n      <td>70</td>\n    </tr>\n    <tr>\n      <th>334</th>\n      <td>463</td>\n    </tr>\n    <tr>\n      <th>335</th>\n      <td>355</td>\n    </tr>\n  </tbody>\n</table>\n<p>629 rows × 1 columns</p>\n</div>"
     },
     "metadata": {}
    }
   ]
  },
  {
   "cell_type": "code",
   "metadata": {
    "tags": [],
    "cell_id": "00021-ab029b87-904b-45af-94a9-51eae22ea212",
    "deepnote_to_be_reexecuted": false,
    "source_hash": "54fda161",
    "execution_start": 1639496537589,
    "execution_millis": 503,
    "deepnote_output_heights": [
     411.1875
    ],
    "deepnote_cell_type": "code"
   },
   "source": "grouped_vaccinated",
   "execution_count": null,
   "outputs": [
    {
     "output_type": "execute_result",
     "execution_count": 19,
     "data": {
      "application/vnd.deepnote.dataframe.v2+json": {
       "row_count": 229,
       "column_count": 4,
       "columns": [
        {
         "name": "dosis_total_diff",
         "dtype": "float64",
         "stats": {
          "unique_count": 228,
          "nan_count": 0,
          "min": "0.0",
          "max": "1064932.0",
          "histogram": [
           {
            "bin_start": 0,
            "bin_end": 106493.2,
            "count": 148
           },
           {
            "bin_start": 106493.2,
            "bin_end": 212986.4,
            "count": 41
           },
           {
            "bin_start": 212986.4,
            "bin_end": 319479.6,
            "count": 28
           },
           {
            "bin_start": 319479.6,
            "bin_end": 425972.8,
            "count": 6
           },
           {
            "bin_start": 425972.8,
            "bin_end": 532466,
            "count": 2
           },
           {
            "bin_start": 532466,
            "bin_end": 638959.2,
            "count": 1
           },
           {
            "bin_start": 638959.2,
            "bin_end": 745452.4,
            "count": 0
           },
           {
            "bin_start": 745452.4,
            "bin_end": 851945.6,
            "count": 2
           },
           {
            "bin_start": 851945.6,
            "bin_end": 958438.7999999999,
            "count": 0
           },
           {
            "bin_start": 958438.7999999999,
            "bin_end": 1064932,
            "count": 1
           }
          ]
         }
        },
        {
         "name": "primera_dosis_diff",
         "dtype": "float64",
         "stats": {
          "unique_count": 211,
          "nan_count": 0,
          "min": "0.0",
          "max": "711855.0",
          "histogram": [
           {
            "bin_start": 0,
            "bin_end": 71185.5,
            "count": 181
           },
           {
            "bin_start": 71185.5,
            "bin_end": 142371,
            "count": 21
           },
           {
            "bin_start": 142371,
            "bin_end": 213556.5,
            "count": 9
           },
           {
            "bin_start": 213556.5,
            "bin_end": 284742,
            "count": 12
           },
           {
            "bin_start": 284742,
            "bin_end": 355927.5,
            "count": 2
           },
           {
            "bin_start": 355927.5,
            "bin_end": 427113,
            "count": 1
           },
           {
            "bin_start": 427113,
            "bin_end": 498298.5,
            "count": 1
           },
           {
            "bin_start": 498298.5,
            "bin_end": 569484,
            "count": 1
           },
           {
            "bin_start": 569484,
            "bin_end": 640669.5,
            "count": 0
           },
           {
            "bin_start": 640669.5,
            "bin_end": 711855,
            "count": 1
           }
          ]
         }
        },
        {
         "name": "segunda_dosis_diff",
         "dtype": "float64",
         "stats": {
          "unique_count": 216,
          "nan_count": 0,
          "min": "0.0",
          "max": "771941.0",
          "histogram": [
           {
            "bin_start": 0,
            "bin_end": 77194.1,
            "count": 193
           },
           {
            "bin_start": 77194.1,
            "bin_end": 154388.2,
            "count": 14
           },
           {
            "bin_start": 154388.2,
            "bin_end": 231582.30000000002,
            "count": 11
           },
           {
            "bin_start": 231582.30000000002,
            "bin_end": 308776.4,
            "count": 6
           },
           {
            "bin_start": 308776.4,
            "bin_end": 385970.5,
            "count": 3
           },
           {
            "bin_start": 385970.5,
            "bin_end": 463164.60000000003,
            "count": 0
           },
           {
            "bin_start": 463164.60000000003,
            "bin_end": 540358.7000000001,
            "count": 0
           },
           {
            "bin_start": 540358.7000000001,
            "bin_end": 617552.8,
            "count": 0
           },
           {
            "bin_start": 617552.8,
            "bin_end": 694746.9,
            "count": 0
           },
           {
            "bin_start": 694746.9,
            "bin_end": 771941,
            "count": 2
           }
          ]
         }
        },
        {
         "name": "refuerzo_diff",
         "dtype": "float64",
         "stats": {
          "unique_count": 46,
          "nan_count": 0,
          "min": "0.0",
          "max": "44144.0",
          "histogram": [
           {
            "bin_start": 0,
            "bin_end": 4414.4,
            "count": 199
           },
           {
            "bin_start": 4414.4,
            "bin_end": 8828.8,
            "count": 8
           },
           {
            "bin_start": 8828.8,
            "bin_end": 13243.199999999999,
            "count": 2
           },
           {
            "bin_start": 13243.199999999999,
            "bin_end": 17657.6,
            "count": 11
           },
           {
            "bin_start": 17657.6,
            "bin_end": 22072,
            "count": 5
           },
           {
            "bin_start": 22072,
            "bin_end": 26486.399999999998,
            "count": 3
           },
           {
            "bin_start": 26486.399999999998,
            "bin_end": 30900.799999999996,
            "count": 0
           },
           {
            "bin_start": 30900.799999999996,
            "bin_end": 35315.2,
            "count": 0
           },
           {
            "bin_start": 35315.2,
            "bin_end": 39729.6,
            "count": 0
           },
           {
            "bin_start": 39729.6,
            "bin_end": 44144,
            "count": 1
           }
          ]
         }
        },
        {
         "name": "_deepnote_index_column",
         "dtype": "object"
        }
       ],
       "rows_top": [
        {
         "dosis_total_diff": 0,
         "primera_dosis_diff": 0,
         "segunda_dosis_diff": 0,
         "refuerzo_diff": 0,
         "_deepnote_index_column": "(2021, 20)"
        },
        {
         "dosis_total_diff": 0,
         "primera_dosis_diff": 0,
         "segunda_dosis_diff": 0,
         "refuerzo_diff": 0,
         "_deepnote_index_column": "(2021, 21)"
        },
        {
         "dosis_total_diff": 108,
         "primera_dosis_diff": 108,
         "segunda_dosis_diff": 0,
         "refuerzo_diff": 0,
         "_deepnote_index_column": "(2021, 22)"
        },
        {
         "dosis_total_diff": 2874,
         "primera_dosis_diff": 2874,
         "segunda_dosis_diff": 0,
         "refuerzo_diff": 0,
         "_deepnote_index_column": "(2021, 27)"
        },
        {
         "dosis_total_diff": 3246,
         "primera_dosis_diff": 3246,
         "segunda_dosis_diff": 0,
         "refuerzo_diff": 0,
         "_deepnote_index_column": "(2021, 35)"
        },
        {
         "dosis_total_diff": 1962,
         "primera_dosis_diff": 0,
         "segunda_dosis_diff": 1962,
         "refuerzo_diff": 0,
         "_deepnote_index_column": "(2021, 48)"
        },
        {
         "dosis_total_diff": 16302,
         "primera_dosis_diff": 14556,
         "segunda_dosis_diff": 1746,
         "refuerzo_diff": 0,
         "_deepnote_index_column": "(2021, 55)"
        },
        {
         "dosis_total_diff": 17622,
         "primera_dosis_diff": 15102,
         "segunda_dosis_diff": 2520,
         "refuerzo_diff": 0,
         "_deepnote_index_column": "(2021, 60)"
        },
        {
         "dosis_total_diff": 17202,
         "primera_dosis_diff": 17202,
         "segunda_dosis_diff": 0,
         "refuerzo_diff": 0,
         "_deepnote_index_column": "(2021, 63)"
        },
        {
         "dosis_total_diff": 11832,
         "primera_dosis_diff": 11832,
         "segunda_dosis_diff": 0,
         "refuerzo_diff": 0,
         "_deepnote_index_column": "(2021, 64)"
        },
        {
         "dosis_total_diff": 3324,
         "primera_dosis_diff": 3324,
         "segunda_dosis_diff": 0,
         "refuerzo_diff": 0,
         "_deepnote_index_column": "(2021, 67)"
        },
        {
         "dosis_total_diff": 786,
         "primera_dosis_diff": 786,
         "segunda_dosis_diff": 0,
         "refuerzo_diff": 0,
         "_deepnote_index_column": "(2021, 68)"
        },
        {
         "dosis_total_diff": 20657,
         "primera_dosis_diff": 20657,
         "segunda_dosis_diff": 0,
         "refuerzo_diff": 0,
         "_deepnote_index_column": "(2021, 70)"
        },
        {
         "dosis_total_diff": 27261,
         "primera_dosis_diff": 27261,
         "segunda_dosis_diff": 0,
         "refuerzo_diff": 0,
         "_deepnote_index_column": "(2021, 71)"
        },
        {
         "dosis_total_diff": 16183,
         "primera_dosis_diff": 2274,
         "segunda_dosis_diff": 13909,
         "refuerzo_diff": 0,
         "_deepnote_index_column": "(2021, 72)"
        },
        {
         "dosis_total_diff": 1832,
         "primera_dosis_diff": 1832,
         "segunda_dosis_diff": 0,
         "refuerzo_diff": 0,
         "_deepnote_index_column": "(2021, 74)"
        },
        {
         "dosis_total_diff": 37779,
         "primera_dosis_diff": 19711,
         "segunda_dosis_diff": 18068,
         "refuerzo_diff": 0,
         "_deepnote_index_column": "(2021, 80)"
        },
        {
         "dosis_total_diff": 3291,
         "primera_dosis_diff": 2849,
         "segunda_dosis_diff": 442,
         "refuerzo_diff": 0,
         "_deepnote_index_column": "(2021, 82)"
        },
        {
         "dosis_total_diff": 8918,
         "primera_dosis_diff": 8912,
         "segunda_dosis_diff": 6,
         "refuerzo_diff": 0,
         "_deepnote_index_column": "(2021, 83)"
        },
        {
         "dosis_total_diff": 39591,
         "primera_dosis_diff": 19887,
         "segunda_dosis_diff": 19704,
         "refuerzo_diff": 0,
         "_deepnote_index_column": "(2021, 85)"
        },
        {
         "dosis_total_diff": 4230,
         "primera_dosis_diff": 2229,
         "segunda_dosis_diff": 2001,
         "refuerzo_diff": 0,
         "_deepnote_index_column": "(2021, 86)"
        },
        {
         "dosis_total_diff": 9866,
         "primera_dosis_diff": 7687,
         "segunda_dosis_diff": 2179,
         "refuerzo_diff": 0,
         "_deepnote_index_column": "(2021, 88)"
        },
        {
         "dosis_total_diff": 38240,
         "primera_dosis_diff": 22573,
         "segunda_dosis_diff": 15667,
         "refuerzo_diff": 0,
         "_deepnote_index_column": "(2021, 91)"
        },
        {
         "dosis_total_diff": 17963,
         "primera_dosis_diff": 6818,
         "segunda_dosis_diff": 11145,
         "refuerzo_diff": 0,
         "_deepnote_index_column": "(2021, 94)"
        },
        {
         "dosis_total_diff": 34024,
         "primera_dosis_diff": 16784,
         "segunda_dosis_diff": 17240,
         "refuerzo_diff": 0,
         "_deepnote_index_column": "(2021, 95)"
        },
        {
         "dosis_total_diff": 21690,
         "primera_dosis_diff": 15655,
         "segunda_dosis_diff": 6035,
         "refuerzo_diff": 0,
         "_deepnote_index_column": "(2021, 96)"
        },
        {
         "dosis_total_diff": 6472,
         "primera_dosis_diff": 6472,
         "segunda_dosis_diff": 0,
         "refuerzo_diff": 0,
         "_deepnote_index_column": "(2021, 98)"
        },
        {
         "dosis_total_diff": 117707,
         "primera_dosis_diff": 87549,
         "segunda_dosis_diff": 30158,
         "refuerzo_diff": 0,
         "_deepnote_index_column": "(2021, 104)"
        },
        {
         "dosis_total_diff": 4170,
         "primera_dosis_diff": 0,
         "segunda_dosis_diff": 4170,
         "refuerzo_diff": 0,
         "_deepnote_index_column": "(2021, 105)"
        },
        {
         "dosis_total_diff": 29019,
         "primera_dosis_diff": 15839,
         "segunda_dosis_diff": 13180,
         "refuerzo_diff": 0,
         "_deepnote_index_column": "(2021, 106)"
        },
        {
         "dosis_total_diff": 30981,
         "primera_dosis_diff": 23180,
         "segunda_dosis_diff": 7801,
         "refuerzo_diff": 0,
         "_deepnote_index_column": "(2021, 107)"
        },
        {
         "dosis_total_diff": 9237,
         "primera_dosis_diff": 6894,
         "segunda_dosis_diff": 2343,
         "refuerzo_diff": 0,
         "_deepnote_index_column": "(2021, 108)"
        },
        {
         "dosis_total_diff": 23342,
         "primera_dosis_diff": 17778,
         "segunda_dosis_diff": 5564,
         "refuerzo_diff": 0,
         "_deepnote_index_column": "(2021, 109)"
        },
        {
         "dosis_total_diff": 23518,
         "primera_dosis_diff": 20066,
         "segunda_dosis_diff": 3452,
         "refuerzo_diff": 0,
         "_deepnote_index_column": "(2021, 110)"
        },
        {
         "dosis_total_diff": 42473,
         "primera_dosis_diff": 35466,
         "segunda_dosis_diff": 7007,
         "refuerzo_diff": 0,
         "_deepnote_index_column": "(2021, 111)"
        },
        {
         "dosis_total_diff": 31808,
         "primera_dosis_diff": 29121,
         "segunda_dosis_diff": 2687,
         "refuerzo_diff": 0,
         "_deepnote_index_column": "(2021, 112)"
        },
        {
         "dosis_total_diff": 35694,
         "primera_dosis_diff": 28330,
         "segunda_dosis_diff": 7364,
         "refuerzo_diff": 0,
         "_deepnote_index_column": "(2021, 113)"
        },
        {
         "dosis_total_diff": 21513,
         "primera_dosis_diff": 17513,
         "segunda_dosis_diff": 4000,
         "refuerzo_diff": 0,
         "_deepnote_index_column": "(2021, 114)"
        },
        {
         "dosis_total_diff": 11220,
         "primera_dosis_diff": 9053,
         "segunda_dosis_diff": 2167,
         "refuerzo_diff": 0,
         "_deepnote_index_column": "(2021, 115)"
        },
        {
         "dosis_total_diff": 21552,
         "primera_dosis_diff": 13845,
         "segunda_dosis_diff": 7707,
         "refuerzo_diff": 0,
         "_deepnote_index_column": "(2021, 116)"
        },
        {
         "dosis_total_diff": 50686,
         "primera_dosis_diff": 40434,
         "segunda_dosis_diff": 10252,
         "refuerzo_diff": 0,
         "_deepnote_index_column": "(2021, 117)"
        },
        {
         "dosis_total_diff": 45218,
         "primera_dosis_diff": 37722,
         "segunda_dosis_diff": 7496,
         "refuerzo_diff": 0,
         "_deepnote_index_column": "(2021, 118)"
        },
        {
         "dosis_total_diff": 59472,
         "primera_dosis_diff": 57579,
         "segunda_dosis_diff": 1893,
         "refuerzo_diff": 0,
         "_deepnote_index_column": "(2021, 119)"
        },
        {
         "dosis_total_diff": 66587,
         "primera_dosis_diff": 57021,
         "segunda_dosis_diff": 9566,
         "refuerzo_diff": 0,
         "_deepnote_index_column": "(2021, 120)"
        },
        {
         "dosis_total_diff": 49342,
         "primera_dosis_diff": 43801,
         "segunda_dosis_diff": 5541,
         "refuerzo_diff": 0,
         "_deepnote_index_column": "(2021, 121)"
        },
        {
         "dosis_total_diff": 30678,
         "primera_dosis_diff": 30138,
         "segunda_dosis_diff": 540,
         "refuerzo_diff": 0,
         "_deepnote_index_column": "(2021, 122)"
        },
        {
         "dosis_total_diff": 73790,
         "primera_dosis_diff": 67258,
         "segunda_dosis_diff": 6532,
         "refuerzo_diff": 0,
         "_deepnote_index_column": "(2021, 124)"
        },
        {
         "dosis_total_diff": 40823,
         "primera_dosis_diff": 35321,
         "segunda_dosis_diff": 5502,
         "refuerzo_diff": 0,
         "_deepnote_index_column": "(2021, 125)"
        },
        {
         "dosis_total_diff": 33591,
         "primera_dosis_diff": 28699,
         "segunda_dosis_diff": 4892,
         "refuerzo_diff": 0,
         "_deepnote_index_column": "(2021, 126)"
        },
        {
         "dosis_total_diff": 30146,
         "primera_dosis_diff": 28382,
         "segunda_dosis_diff": 1764,
         "refuerzo_diff": 0,
         "_deepnote_index_column": "(2021, 127)"
        },
        {
         "dosis_total_diff": 44140,
         "primera_dosis_diff": 42501,
         "segunda_dosis_diff": 1639,
         "refuerzo_diff": 0,
         "_deepnote_index_column": "(2021, 129)"
        },
        {
         "dosis_total_diff": 49234,
         "primera_dosis_diff": 42469,
         "segunda_dosis_diff": 6765,
         "refuerzo_diff": 0,
         "_deepnote_index_column": "(2021, 131)"
        },
        {
         "dosis_total_diff": 16502,
         "primera_dosis_diff": 9837,
         "segunda_dosis_diff": 6665,
         "refuerzo_diff": 0,
         "_deepnote_index_column": "(2021, 132)"
        },
        {
         "dosis_total_diff": 50200,
         "primera_dosis_diff": 25470,
         "segunda_dosis_diff": 24730,
         "refuerzo_diff": 0,
         "_deepnote_index_column": "(2021, 133)"
        },
        {
         "dosis_total_diff": 50395,
         "primera_dosis_diff": 36372,
         "segunda_dosis_diff": 14023,
         "refuerzo_diff": 0,
         "_deepnote_index_column": "(2021, 134)"
        },
        {
         "dosis_total_diff": 29643,
         "primera_dosis_diff": 14029,
         "segunda_dosis_diff": 15614,
         "refuerzo_diff": 0,
         "_deepnote_index_column": "(2021, 135)"
        },
        {
         "dosis_total_diff": 38788,
         "primera_dosis_diff": 26764,
         "segunda_dosis_diff": 12024,
         "refuerzo_diff": 0,
         "_deepnote_index_column": "(2021, 136)"
        },
        {
         "dosis_total_diff": 35729,
         "primera_dosis_diff": 24455,
         "segunda_dosis_diff": 11274,
         "refuerzo_diff": 0,
         "_deepnote_index_column": "(2021, 137)"
        },
        {
         "dosis_total_diff": 22946,
         "primera_dosis_diff": 261,
         "segunda_dosis_diff": 22685,
         "refuerzo_diff": 0,
         "_deepnote_index_column": "(2021, 138)"
        },
        {
         "dosis_total_diff": 43671,
         "primera_dosis_diff": 21957,
         "segunda_dosis_diff": 21714,
         "refuerzo_diff": 0,
         "_deepnote_index_column": "(2021, 139)"
        },
        {
         "dosis_total_diff": 100735,
         "primera_dosis_diff": 73995,
         "segunda_dosis_diff": 26740,
         "refuerzo_diff": 0,
         "_deepnote_index_column": "(2021, 140)"
        },
        {
         "dosis_total_diff": 165248,
         "primera_dosis_diff": 104696,
         "segunda_dosis_diff": 60552,
         "refuerzo_diff": 0,
         "_deepnote_index_column": "(2021, 142)"
        },
        {
         "dosis_total_diff": 53293,
         "primera_dosis_diff": 44361,
         "segunda_dosis_diff": 8932,
         "refuerzo_diff": 0,
         "_deepnote_index_column": "(2021, 143)"
        },
        {
         "dosis_total_diff": 78810,
         "primera_dosis_diff": 61008,
         "segunda_dosis_diff": 17802,
         "refuerzo_diff": 0,
         "_deepnote_index_column": "(2021, 145)"
        },
        {
         "dosis_total_diff": 85168,
         "primera_dosis_diff": 17100,
         "segunda_dosis_diff": 68068,
         "refuerzo_diff": 0,
         "_deepnote_index_column": "(2021, 147)"
        },
        {
         "dosis_total_diff": 62332,
         "primera_dosis_diff": 11283,
         "segunda_dosis_diff": 51049,
         "refuerzo_diff": 0,
         "_deepnote_index_column": "(2021, 148)"
        },
        {
         "dosis_total_diff": 32827,
         "primera_dosis_diff": 14302,
         "segunda_dosis_diff": 18525,
         "refuerzo_diff": 0,
         "_deepnote_index_column": "(2021, 149)"
        },
        {
         "dosis_total_diff": 19522,
         "primera_dosis_diff": 10490,
         "segunda_dosis_diff": 9032,
         "refuerzo_diff": 0,
         "_deepnote_index_column": "(2021, 150)"
        },
        {
         "dosis_total_diff": 162693,
         "primera_dosis_diff": 59587,
         "segunda_dosis_diff": 103106,
         "refuerzo_diff": 0,
         "_deepnote_index_column": "(2021, 152)"
        },
        {
         "dosis_total_diff": 60191,
         "primera_dosis_diff": 34472,
         "segunda_dosis_diff": 25719,
         "refuerzo_diff": 0,
         "_deepnote_index_column": "(2021, 153)"
        },
        {
         "dosis_total_diff": 81329,
         "primera_dosis_diff": 45095,
         "segunda_dosis_diff": 36234,
         "refuerzo_diff": 0,
         "_deepnote_index_column": "(2021, 154)"
        },
        {
         "dosis_total_diff": 68618,
         "primera_dosis_diff": 42701,
         "segunda_dosis_diff": 25917,
         "refuerzo_diff": 0,
         "_deepnote_index_column": "(2021, 155)"
        },
        {
         "dosis_total_diff": 48147,
         "primera_dosis_diff": 29200,
         "segunda_dosis_diff": 18947,
         "refuerzo_diff": 0,
         "_deepnote_index_column": "(2021, 156)"
        },
        {
         "dosis_total_diff": 19823,
         "primera_dosis_diff": 17607,
         "segunda_dosis_diff": 2216,
         "refuerzo_diff": 0,
         "_deepnote_index_column": "(2021, 157)"
        },
        {
         "dosis_total_diff": 51266,
         "primera_dosis_diff": 33464,
         "segunda_dosis_diff": 17802,
         "refuerzo_diff": 0,
         "_deepnote_index_column": "(2021, 158)"
        },
        {
         "dosis_total_diff": 71173,
         "primera_dosis_diff": 52452,
         "segunda_dosis_diff": 18721,
         "refuerzo_diff": 0,
         "_deepnote_index_column": "(2021, 159)"
        },
        {
         "dosis_total_diff": 292927,
         "primera_dosis_diff": 165611,
         "segunda_dosis_diff": 127316,
         "refuerzo_diff": 0,
         "_deepnote_index_column": "(2021, 164)"
        },
        {
         "dosis_total_diff": 52215,
         "primera_dosis_diff": 36730,
         "segunda_dosis_diff": 15485,
         "refuerzo_diff": 0,
         "_deepnote_index_column": "(2021, 166)"
        },
        {
         "dosis_total_diff": 424867,
         "primera_dosis_diff": 271949,
         "segunda_dosis_diff": 152918,
         "refuerzo_diff": 0,
         "_deepnote_index_column": "(2021, 170)"
        },
        {
         "dosis_total_diff": 22413,
         "primera_dosis_diff": 17133,
         "segunda_dosis_diff": 5280,
         "refuerzo_diff": 0,
         "_deepnote_index_column": "(2021, 171)"
        },
        {
         "dosis_total_diff": 77559,
         "primera_dosis_diff": 57479,
         "segunda_dosis_diff": 20080,
         "refuerzo_diff": 0,
         "_deepnote_index_column": "(2021, 172)"
        },
        {
         "dosis_total_diff": 67159,
         "primera_dosis_diff": 53564,
         "segunda_dosis_diff": 13595,
         "refuerzo_diff": 0,
         "_deepnote_index_column": "(2021, 173)"
        },
        {
         "dosis_total_diff": 72278,
         "primera_dosis_diff": 57288,
         "segunda_dosis_diff": 14990,
         "refuerzo_diff": 0,
         "_deepnote_index_column": "(2021, 174)"
        },
        {
         "dosis_total_diff": 81910,
         "primera_dosis_diff": 54998,
         "segunda_dosis_diff": 26912,
         "refuerzo_diff": 0,
         "_deepnote_index_column": "(2021, 175)"
        },
        {
         "dosis_total_diff": 64683,
         "primera_dosis_diff": 51027,
         "segunda_dosis_diff": 13656,
         "refuerzo_diff": 0,
         "_deepnote_index_column": "(2021, 176)"
        },
        {
         "dosis_total_diff": 47379,
         "primera_dosis_diff": 36745,
         "segunda_dosis_diff": 10634,
         "refuerzo_diff": 0,
         "_deepnote_index_column": "(2021, 177)"
        },
        {
         "dosis_total_diff": 32372,
         "primera_dosis_diff": 21212,
         "segunda_dosis_diff": 11160,
         "refuerzo_diff": 0,
         "_deepnote_index_column": "(2021, 178)"
        },
        {
         "dosis_total_diff": 67019,
         "primera_dosis_diff": 46610,
         "segunda_dosis_diff": 20409,
         "refuerzo_diff": 0,
         "_deepnote_index_column": "(2021, 179)"
        },
        {
         "dosis_total_diff": 61531,
         "primera_dosis_diff": 45438,
         "segunda_dosis_diff": 16093,
         "refuerzo_diff": 0,
         "_deepnote_index_column": "(2021, 180)"
        },
        {
         "dosis_total_diff": 70031,
         "primera_dosis_diff": 47477,
         "segunda_dosis_diff": 22554,
         "refuerzo_diff": 0,
         "_deepnote_index_column": "(2021, 181)"
        },
        {
         "dosis_total_diff": 79378,
         "primera_dosis_diff": 44241,
         "segunda_dosis_diff": 35137,
         "refuerzo_diff": 0,
         "_deepnote_index_column": "(2021, 182)"
        },
        {
         "dosis_total_diff": 44004,
         "primera_dosis_diff": 0,
         "segunda_dosis_diff": 44004,
         "refuerzo_diff": 0,
         "_deepnote_index_column": "(2021, 183)"
        },
        {
         "dosis_total_diff": 105820,
         "primera_dosis_diff": 83629,
         "segunda_dosis_diff": 22191,
         "refuerzo_diff": 0,
         "_deepnote_index_column": "(2021, 184)"
        },
        {
         "dosis_total_diff": 65789,
         "primera_dosis_diff": 43880,
         "segunda_dosis_diff": 21909,
         "refuerzo_diff": 0,
         "_deepnote_index_column": "(2021, 185)"
        },
        {
         "dosis_total_diff": 129679,
         "primera_dosis_diff": 99222,
         "segunda_dosis_diff": 30457,
         "refuerzo_diff": 0,
         "_deepnote_index_column": "(2021, 186)"
        },
        {
         "dosis_total_diff": 147594,
         "primera_dosis_diff": 113621,
         "segunda_dosis_diff": 33973,
         "refuerzo_diff": 0,
         "_deepnote_index_column": "(2021, 187)"
        },
        {
         "dosis_total_diff": 163540,
         "primera_dosis_diff": 134874,
         "segunda_dosis_diff": 28666,
         "refuerzo_diff": 0,
         "_deepnote_index_column": "(2021, 188)"
        },
        {
         "dosis_total_diff": 184606,
         "primera_dosis_diff": 151298,
         "segunda_dosis_diff": 33308,
         "refuerzo_diff": 0,
         "_deepnote_index_column": "(2021, 189)"
        },
        {
         "dosis_total_diff": 215690,
         "primera_dosis_diff": 202959,
         "segunda_dosis_diff": 12731,
         "refuerzo_diff": 0,
         "_deepnote_index_column": "(2021, 190)"
        },
        {
         "dosis_total_diff": 260427,
         "primera_dosis_diff": 218498,
         "segunda_dosis_diff": 41929,
         "refuerzo_diff": 0,
         "_deepnote_index_column": "(2021, 191)"
        }
       ],
       "rows_bottom": [
        {
         "dosis_total_diff": 215289,
         "primera_dosis_diff": 9408,
         "segunda_dosis_diff": 205881,
         "refuerzo_diff": 0,
         "_deepnote_index_column": "(2021, 225)"
        },
        {
         "dosis_total_diff": 106012,
         "primera_dosis_diff": 975,
         "segunda_dosis_diff": 105037,
         "refuerzo_diff": 0,
         "_deepnote_index_column": "(2021, 226)"
        },
        {
         "dosis_total_diff": 58104,
         "primera_dosis_diff": 419,
         "segunda_dosis_diff": 57685,
         "refuerzo_diff": 0,
         "_deepnote_index_column": "(2021, 227)"
        },
        {
         "dosis_total_diff": 773807,
         "primera_dosis_diff": 1866,
         "segunda_dosis_diff": 771941,
         "refuerzo_diff": 0,
         "_deepnote_index_column": "(2021, 229)"
        },
        {
         "dosis_total_diff": 363200,
         "primera_dosis_diff": 1369,
         "segunda_dosis_diff": 361831,
         "refuerzo_diff": 0,
         "_deepnote_index_column": "(2021, 230)"
        },
        {
         "dosis_total_diff": 355661,
         "primera_dosis_diff": 1732,
         "segunda_dosis_diff": 353929,
         "refuerzo_diff": 0,
         "_deepnote_index_column": "(2021, 231)"
        },
        {
         "dosis_total_diff": 265139,
         "primera_dosis_diff": 1361,
         "segunda_dosis_diff": 263778,
         "refuerzo_diff": 0,
         "_deepnote_index_column": "(2021, 232)"
        },
        {
         "dosis_total_diff": 192889,
         "primera_dosis_diff": 521,
         "segunda_dosis_diff": 192368,
         "refuerzo_diff": 0,
         "_deepnote_index_column": "(2021, 233)"
        },
        {
         "dosis_total_diff": 142607,
         "primera_dosis_diff": 601,
         "segunda_dosis_diff": 142006,
         "refuerzo_diff": 0,
         "_deepnote_index_column": "(2021, 234)"
        },
        {
         "dosis_total_diff": 231973,
         "primera_dosis_diff": 6663,
         "segunda_dosis_diff": 225310,
         "refuerzo_diff": 0,
         "_deepnote_index_column": "(2021, 235)"
        },
        {
         "dosis_total_diff": 217136,
         "primera_dosis_diff": 2260,
         "segunda_dosis_diff": 214876,
         "refuerzo_diff": 0,
         "_deepnote_index_column": "(2021, 236)"
        },
        {
         "dosis_total_diff": 228933,
         "primera_dosis_diff": 6660,
         "segunda_dosis_diff": 222273,
         "refuerzo_diff": 0,
         "_deepnote_index_column": "(2021, 237)"
        },
        {
         "dosis_total_diff": 236494,
         "primera_dosis_diff": 2270,
         "segunda_dosis_diff": 234224,
         "refuerzo_diff": 0,
         "_deepnote_index_column": "(2021, 238)"
        },
        {
         "dosis_total_diff": 253558,
         "primera_dosis_diff": 2823,
         "segunda_dosis_diff": 250735,
         "refuerzo_diff": 0,
         "_deepnote_index_column": "(2021, 239)"
        },
        {
         "dosis_total_diff": 192037,
         "primera_dosis_diff": 2344,
         "segunda_dosis_diff": 189693,
         "refuerzo_diff": 0,
         "_deepnote_index_column": "(2021, 240)"
        },
        {
         "dosis_total_diff": 1064932,
         "primera_dosis_diff": 711855,
         "segunda_dosis_diff": 353077,
         "refuerzo_diff": 0,
         "_deepnote_index_column": "(2021, 241)"
        },
        {
         "dosis_total_diff": 251652,
         "primera_dosis_diff": 0,
         "segunda_dosis_diff": 251652,
         "refuerzo_diff": 0,
         "_deepnote_index_column": "(2021, 243)"
        },
        {
         "dosis_total_diff": 191705,
         "primera_dosis_diff": 0,
         "segunda_dosis_diff": 191705,
         "refuerzo_diff": 0,
         "_deepnote_index_column": "(2021, 244)"
        },
        {
         "dosis_total_diff": 258788,
         "primera_dosis_diff": 0,
         "segunda_dosis_diff": 258788,
         "refuerzo_diff": 0,
         "_deepnote_index_column": "(2021, 247)"
        },
        {
         "dosis_total_diff": 59761,
         "primera_dosis_diff": 0,
         "segunda_dosis_diff": 59761,
         "refuerzo_diff": 0,
         "_deepnote_index_column": "(2021, 248)"
        },
        {
         "dosis_total_diff": 80480,
         "primera_dosis_diff": 0,
         "segunda_dosis_diff": 80480,
         "refuerzo_diff": 0,
         "_deepnote_index_column": "(2021, 249)"
        },
        {
         "dosis_total_diff": 67643,
         "primera_dosis_diff": 0,
         "segunda_dosis_diff": 67643,
         "refuerzo_diff": 0,
         "_deepnote_index_column": "(2021, 250)"
        },
        {
         "dosis_total_diff": 54755,
         "primera_dosis_diff": 0,
         "segunda_dosis_diff": 54755,
         "refuerzo_diff": 0,
         "_deepnote_index_column": "(2021, 251)"
        },
        {
         "dosis_total_diff": 46752,
         "primera_dosis_diff": 0,
         "segunda_dosis_diff": 46752,
         "refuerzo_diff": 0,
         "_deepnote_index_column": "(2021, 252)"
        },
        {
         "dosis_total_diff": 47669,
         "primera_dosis_diff": 0,
         "segunda_dosis_diff": 47669,
         "refuerzo_diff": 0,
         "_deepnote_index_column": "(2021, 253)"
        },
        {
         "dosis_total_diff": 106848,
         "primera_dosis_diff": 0,
         "segunda_dosis_diff": 106848,
         "refuerzo_diff": 0,
         "_deepnote_index_column": "(2021, 258)"
        },
        {
         "dosis_total_diff": 29822,
         "primera_dosis_diff": 0,
         "segunda_dosis_diff": 29822,
         "refuerzo_diff": 0,
         "_deepnote_index_column": "(2021, 259)"
        },
        {
         "dosis_total_diff": 16196,
         "primera_dosis_diff": 0,
         "segunda_dosis_diff": 16196,
         "refuerzo_diff": 0,
         "_deepnote_index_column": "(2021, 262)"
        },
        {
         "dosis_total_diff": 20338,
         "primera_dosis_diff": 44519,
         "segunda_dosis_diff": 24181,
         "refuerzo_diff": 0,
         "_deepnote_index_column": "(2021, 263)"
        },
        {
         "dosis_total_diff": 63159,
         "primera_dosis_diff": 44519,
         "segunda_dosis_diff": 18640,
         "refuerzo_diff": 0,
         "_deepnote_index_column": "(2021, 264)"
        },
        {
         "dosis_total_diff": 16572,
         "primera_dosis_diff": 0,
         "segunda_dosis_diff": 16572,
         "refuerzo_diff": 0,
         "_deepnote_index_column": "(2021, 265)"
        },
        {
         "dosis_total_diff": 39075,
         "primera_dosis_diff": 24878,
         "segunda_dosis_diff": 14197,
         "refuerzo_diff": 0,
         "_deepnote_index_column": "(2021, 266)"
        },
        {
         "dosis_total_diff": 39850,
         "primera_dosis_diff": 22389,
         "segunda_dosis_diff": 17461,
         "refuerzo_diff": 0,
         "_deepnote_index_column": "(2021, 267)"
        },
        {
         "dosis_total_diff": 4971,
         "primera_dosis_diff": 2692,
         "segunda_dosis_diff": 2279,
         "refuerzo_diff": 0,
         "_deepnote_index_column": "(2021, 268)"
        },
        {
         "dosis_total_diff": 1593,
         "primera_dosis_diff": 714,
         "segunda_dosis_diff": 879,
         "refuerzo_diff": 0,
         "_deepnote_index_column": "(2021, 269)"
        },
        {
         "dosis_total_diff": 48305,
         "primera_dosis_diff": 34779,
         "segunda_dosis_diff": 13526,
         "refuerzo_diff": 0,
         "_deepnote_index_column": "(2021, 270)"
        },
        {
         "dosis_total_diff": 107232,
         "primera_dosis_diff": 94770,
         "segunda_dosis_diff": 12462,
         "refuerzo_diff": 0,
         "_deepnote_index_column": "(2021, 271)"
        },
        {
         "dosis_total_diff": 68064,
         "primera_dosis_diff": 54738,
         "segunda_dosis_diff": 13326,
         "refuerzo_diff": 0,
         "_deepnote_index_column": "(2021, 272)"
        },
        {
         "dosis_total_diff": 55454,
         "primera_dosis_diff": 44129,
         "segunda_dosis_diff": 11325,
         "refuerzo_diff": 0,
         "_deepnote_index_column": "(2021, 273)"
        },
        {
         "dosis_total_diff": 79735,
         "primera_dosis_diff": 64925,
         "segunda_dosis_diff": 14810,
         "refuerzo_diff": 0,
         "_deepnote_index_column": "(2021, 274)"
        },
        {
         "dosis_total_diff": 4996,
         "primera_dosis_diff": 3683,
         "segunda_dosis_diff": 1313,
         "refuerzo_diff": 0,
         "_deepnote_index_column": "(2021, 275)"
        },
        {
         "dosis_total_diff": 1612,
         "primera_dosis_diff": 996,
         "segunda_dosis_diff": 616,
         "refuerzo_diff": 0,
         "_deepnote_index_column": "(2021, 276)"
        },
        {
         "dosis_total_diff": 44861,
         "primera_dosis_diff": 29617,
         "segunda_dosis_diff": 15244,
         "refuerzo_diff": 0,
         "_deepnote_index_column": "(2021, 277)"
        },
        {
         "dosis_total_diff": 44529,
         "primera_dosis_diff": 32815,
         "segunda_dosis_diff": 11714,
         "refuerzo_diff": 0,
         "_deepnote_index_column": "(2021, 278)"
        },
        {
         "dosis_total_diff": 46624,
         "primera_dosis_diff": 33598,
         "segunda_dosis_diff": 13026,
         "refuerzo_diff": 0,
         "_deepnote_index_column": "(2021, 279)"
        },
        {
         "dosis_total_diff": 42869,
         "primera_dosis_diff": 33738,
         "segunda_dosis_diff": 9131,
         "refuerzo_diff": 0,
         "_deepnote_index_column": "(2021, 280)"
        },
        {
         "dosis_total_diff": 1949,
         "primera_dosis_diff": 981,
         "segunda_dosis_diff": 967,
         "refuerzo_diff": 1,
         "_deepnote_index_column": "(2021, 281)"
        },
        {
         "dosis_total_diff": 984,
         "primera_dosis_diff": 453,
         "segunda_dosis_diff": 531,
         "refuerzo_diff": 0,
         "_deepnote_index_column": "(2021, 282)"
        },
        {
         "dosis_total_diff": 788,
         "primera_dosis_diff": 317,
         "segunda_dosis_diff": 471,
         "refuerzo_diff": 0,
         "_deepnote_index_column": "(2021, 283)"
        },
        {
         "dosis_total_diff": 43017,
         "primera_dosis_diff": 28490,
         "segunda_dosis_diff": 14527,
         "refuerzo_diff": 0,
         "_deepnote_index_column": "(2021, 284)"
        },
        {
         "dosis_total_diff": 46702,
         "primera_dosis_diff": 35291,
         "segunda_dosis_diff": 11411,
         "refuerzo_diff": 0,
         "_deepnote_index_column": "(2021, 285)"
        },
        {
         "dosis_total_diff": 43135,
         "primera_dosis_diff": 33905,
         "segunda_dosis_diff": 9230,
         "refuerzo_diff": 0,
         "_deepnote_index_column": "(2021, 286)"
        },
        {
         "dosis_total_diff": 47976,
         "primera_dosis_diff": 35268,
         "segunda_dosis_diff": 12708,
         "refuerzo_diff": 0,
         "_deepnote_index_column": "(2021, 287)"
        },
        {
         "dosis_total_diff": 47276,
         "primera_dosis_diff": 30248,
         "segunda_dosis_diff": 17028,
         "refuerzo_diff": 0,
         "_deepnote_index_column": "(2021, 288)"
        },
        {
         "dosis_total_diff": 8842,
         "primera_dosis_diff": 6373,
         "segunda_dosis_diff": 2469,
         "refuerzo_diff": 0,
         "_deepnote_index_column": "(2021, 289)"
        },
        {
         "dosis_total_diff": 4883,
         "primera_dosis_diff": 3717,
         "segunda_dosis_diff": 1166,
         "refuerzo_diff": 0,
         "_deepnote_index_column": "(2021, 290)"
        },
        {
         "dosis_total_diff": 68306,
         "primera_dosis_diff": 49211,
         "segunda_dosis_diff": 17754,
         "refuerzo_diff": 1341,
         "_deepnote_index_column": "(2021, 291)"
        },
        {
         "dosis_total_diff": 93280,
         "primera_dosis_diff": 71719,
         "segunda_dosis_diff": 18751,
         "refuerzo_diff": 2810,
         "_deepnote_index_column": "(2021, 292)"
        },
        {
         "dosis_total_diff": 120868,
         "primera_dosis_diff": 94859,
         "segunda_dosis_diff": 23946,
         "refuerzo_diff": 2063,
         "_deepnote_index_column": "(2021, 293)"
        },
        {
         "dosis_total_diff": 137111,
         "primera_dosis_diff": 109934,
         "segunda_dosis_diff": 23545,
         "refuerzo_diff": 3632,
         "_deepnote_index_column": "(2021, 294)"
        },
        {
         "dosis_total_diff": 129483,
         "primera_dosis_diff": 96979,
         "segunda_dosis_diff": 26303,
         "refuerzo_diff": 6201,
         "_deepnote_index_column": "(2021, 295)"
        },
        {
         "dosis_total_diff": 16500,
         "primera_dosis_diff": 9838,
         "segunda_dosis_diff": 4776,
         "refuerzo_diff": 1886,
         "_deepnote_index_column": "(2021, 296)"
        },
        {
         "dosis_total_diff": 5927,
         "primera_dosis_diff": 3627,
         "segunda_dosis_diff": 1462,
         "refuerzo_diff": 838,
         "_deepnote_index_column": "(2021, 297)"
        },
        {
         "dosis_total_diff": 112324,
         "primera_dosis_diff": 82473,
         "segunda_dosis_diff": 25836,
         "refuerzo_diff": 4015,
         "_deepnote_index_column": "(2021, 298)"
        },
        {
         "dosis_total_diff": 127721,
         "primera_dosis_diff": 90011,
         "segunda_dosis_diff": 28972,
         "refuerzo_diff": 8738,
         "_deepnote_index_column": "(2021, 299)"
        },
        {
         "dosis_total_diff": 128536,
         "primera_dosis_diff": 89977,
         "segunda_dosis_diff": 26702,
         "refuerzo_diff": 11857,
         "_deepnote_index_column": "(2021, 300)"
        },
        {
         "dosis_total_diff": 128127,
         "primera_dosis_diff": 90964,
         "segunda_dosis_diff": 28967,
         "refuerzo_diff": 8196,
         "_deepnote_index_column": "(2021, 301)"
        },
        {
         "dosis_total_diff": 110301,
         "primera_dosis_diff": 76710,
         "segunda_dosis_diff": 27714,
         "refuerzo_diff": 5877,
         "_deepnote_index_column": "(2021, 302)"
        },
        {
         "dosis_total_diff": 8010,
         "primera_dosis_diff": 3113,
         "segunda_dosis_diff": 4020,
         "refuerzo_diff": 877,
         "_deepnote_index_column": "(2021, 303)"
        },
        {
         "dosis_total_diff": 3095,
         "primera_dosis_diff": 1026,
         "segunda_dosis_diff": 1453,
         "refuerzo_diff": 616,
         "_deepnote_index_column": "(2021, 304)"
        },
        {
         "dosis_total_diff": 2677,
         "primera_dosis_diff": 1081,
         "segunda_dosis_diff": 1076,
         "refuerzo_diff": 520,
         "_deepnote_index_column": "(2021, 305)"
        },
        {
         "dosis_total_diff": 2661,
         "primera_dosis_diff": 1174,
         "segunda_dosis_diff": 856,
         "refuerzo_diff": 631,
         "_deepnote_index_column": "(2021, 306)"
        },
        {
         "dosis_total_diff": 3807,
         "primera_dosis_diff": 1543,
         "segunda_dosis_diff": 1380,
         "refuerzo_diff": 884,
         "_deepnote_index_column": "(2021, 307)"
        },
        {
         "dosis_total_diff": 86542,
         "primera_dosis_diff": 51448,
         "segunda_dosis_diff": 25802,
         "refuerzo_diff": 9292,
         "_deepnote_index_column": "(2021, 308)"
        },
        {
         "dosis_total_diff": 102075,
         "primera_dosis_diff": 58111,
         "segunda_dosis_diff": 27039,
         "refuerzo_diff": 16925,
         "_deepnote_index_column": "(2021, 311)"
        },
        {
         "dosis_total_diff": 92067,
         "primera_dosis_diff": 51504,
         "segunda_dosis_diff": 26451,
         "refuerzo_diff": 14112,
         "_deepnote_index_column": "(2021, 312)"
        },
        {
         "dosis_total_diff": 102079,
         "primera_dosis_diff": 56635,
         "segunda_dosis_diff": 32190,
         "refuerzo_diff": 13254,
         "_deepnote_index_column": "(2021, 313)"
        },
        {
         "dosis_total_diff": 114171,
         "primera_dosis_diff": 61298,
         "segunda_dosis_diff": 37358,
         "refuerzo_diff": 15515,
         "_deepnote_index_column": "(2021, 314)"
        },
        {
         "dosis_total_diff": 105751,
         "primera_dosis_diff": 53373,
         "segunda_dosis_diff": 38825,
         "refuerzo_diff": 13553,
         "_deepnote_index_column": "(2021, 315)"
        },
        {
         "dosis_total_diff": 94289,
         "primera_dosis_diff": 48222,
         "segunda_dosis_diff": 31743,
         "refuerzo_diff": 14324,
         "_deepnote_index_column": "(2021, 316)"
        },
        {
         "dosis_total_diff": 37250,
         "primera_dosis_diff": 25801,
         "segunda_dosis_diff": 7953,
         "refuerzo_diff": 3496,
         "_deepnote_index_column": "(2021, 317)"
        },
        {
         "dosis_total_diff": 27877,
         "primera_dosis_diff": 19066,
         "segunda_dosis_diff": 5292,
         "refuerzo_diff": 3519,
         "_deepnote_index_column": "(2021, 318)"
        },
        {
         "dosis_total_diff": 102423,
         "primera_dosis_diff": 49090,
         "segunda_dosis_diff": 36340,
         "refuerzo_diff": 16993,
         "_deepnote_index_column": "(2021, 319)"
        },
        {
         "dosis_total_diff": 121402,
         "primera_dosis_diff": 58582,
         "segunda_dosis_diff": 45403,
         "refuerzo_diff": 17417,
         "_deepnote_index_column": "(2021, 320)"
        },
        {
         "dosis_total_diff": 134487,
         "primera_dosis_diff": 54949,
         "segunda_dosis_diff": 54729,
         "refuerzo_diff": 24809,
         "_deepnote_index_column": "(2021, 321)"
        },
        {
         "dosis_total_diff": 130337,
         "primera_dosis_diff": 47411,
         "segunda_dosis_diff": 61556,
         "refuerzo_diff": 21370,
         "_deepnote_index_column": "(2021, 322)"
        },
        {
         "dosis_total_diff": 133086,
         "primera_dosis_diff": 53657,
         "segunda_dosis_diff": 62562,
         "refuerzo_diff": 16867,
         "_deepnote_index_column": "(2021, 323)"
        },
        {
         "dosis_total_diff": 58488,
         "primera_dosis_diff": 26772,
         "segunda_dosis_diff": 24284,
         "refuerzo_diff": 7432,
         "_deepnote_index_column": "(2021, 324)"
        },
        {
         "dosis_total_diff": 39585,
         "primera_dosis_diff": 17434,
         "segunda_dosis_diff": 16875,
         "refuerzo_diff": 5276,
         "_deepnote_index_column": "(2021, 325)"
        },
        {
         "dosis_total_diff": 128675,
         "primera_dosis_diff": 42303,
         "segunda_dosis_diff": 65797,
         "refuerzo_diff": 20575,
         "_deepnote_index_column": "(2021, 326)"
        },
        {
         "dosis_total_diff": 140556,
         "primera_dosis_diff": 49900,
         "segunda_dosis_diff": 71603,
         "refuerzo_diff": 19053,
         "_deepnote_index_column": "(2021, 327)"
        },
        {
         "dosis_total_diff": 154982,
         "primera_dosis_diff": 51464,
         "segunda_dosis_diff": 87427,
         "refuerzo_diff": 16091,
         "_deepnote_index_column": "(2021, 328)"
        },
        {
         "dosis_total_diff": 150409,
         "primera_dosis_diff": 49218,
         "segunda_dosis_diff": 86288,
         "refuerzo_diff": 14903,
         "_deepnote_index_column": "(2021, 329)"
        },
        {
         "dosis_total_diff": 147245,
         "primera_dosis_diff": 44428,
         "segunda_dosis_diff": 85040,
         "refuerzo_diff": 17777,
         "_deepnote_index_column": "(2021, 330)"
        },
        {
         "dosis_total_diff": 40754,
         "primera_dosis_diff": 15885,
         "segunda_dosis_diff": 16637,
         "refuerzo_diff": 8232,
         "_deepnote_index_column": "(2021, 331)"
        },
        {
         "dosis_total_diff": 20929,
         "primera_dosis_diff": 7217,
         "segunda_dosis_diff": 8983,
         "refuerzo_diff": 4729,
         "_deepnote_index_column": "(2021, 332)"
        },
        {
         "dosis_total_diff": 112959,
         "primera_dosis_diff": 30081,
         "segunda_dosis_diff": 60501,
         "refuerzo_diff": 22377,
         "_deepnote_index_column": "(2021, 333)"
        },
        {
         "dosis_total_diff": 113323,
         "primera_dosis_diff": 36006,
         "segunda_dosis_diff": 55159,
         "refuerzo_diff": 22158,
         "_deepnote_index_column": "(2021, 334)"
        },
        {
         "dosis_total_diff": 211563,
         "primera_dosis_diff": 69888,
         "segunda_dosis_diff": 111468,
         "refuerzo_diff": 18617,
         "_deepnote_index_column": "(2021, 335)"
        },
        {
         "dosis_total_diff": 113909,
         "primera_dosis_diff": 27818,
         "segunda_dosis_diff": 53537,
         "refuerzo_diff": 44144,
         "_deepnote_index_column": "(2021, 336)"
        }
       ]
      },
      "text/plain": "                  dosis_total_diff  primera_dosis_diff  segunda_dosis_diff  \\\nyear day_of_year                                                             \n2021 20                        0.0                 0.0                 0.0   \n     21                        0.0                 0.0                 0.0   \n     22                      108.0               108.0                 0.0   \n     27                     2874.0              2874.0                 0.0   \n     35                     3246.0              3246.0                 0.0   \n...                            ...                 ...                 ...   \n     332                   20929.0              7217.0              8983.0   \n     333                  112959.0             30081.0             60501.0   \n     334                  113323.0             36006.0             55159.0   \n     335                  211563.0             69888.0            111468.0   \n     336                  113909.0             27818.0             53537.0   \n\n                  refuerzo_diff  \nyear day_of_year                 \n2021 20                     0.0  \n     21                     0.0  \n     22                     0.0  \n     27                     0.0  \n     35                     0.0  \n...                         ...  \n     332                 4729.0  \n     333                22377.0  \n     334                22158.0  \n     335                18617.0  \n     336                44144.0  \n\n[229 rows x 4 columns]",
      "text/html": "<div>\n<style scoped>\n    .dataframe tbody tr th:only-of-type {\n        vertical-align: middle;\n    }\n\n    .dataframe tbody tr th {\n        vertical-align: top;\n    }\n\n    .dataframe thead th {\n        text-align: right;\n    }\n</style>\n<table border=\"1\" class=\"dataframe\">\n  <thead>\n    <tr style=\"text-align: right;\">\n      <th></th>\n      <th></th>\n      <th>dosis_total_diff</th>\n      <th>primera_dosis_diff</th>\n      <th>segunda_dosis_diff</th>\n      <th>refuerzo_diff</th>\n    </tr>\n    <tr>\n      <th>year</th>\n      <th>day_of_year</th>\n      <th></th>\n      <th></th>\n      <th></th>\n      <th></th>\n    </tr>\n  </thead>\n  <tbody>\n    <tr>\n      <th rowspan=\"11\" valign=\"top\">2021</th>\n      <th>20</th>\n      <td>0.0</td>\n      <td>0.0</td>\n      <td>0.0</td>\n      <td>0.0</td>\n    </tr>\n    <tr>\n      <th>21</th>\n      <td>0.0</td>\n      <td>0.0</td>\n      <td>0.0</td>\n      <td>0.0</td>\n    </tr>\n    <tr>\n      <th>22</th>\n      <td>108.0</td>\n      <td>108.0</td>\n      <td>0.0</td>\n      <td>0.0</td>\n    </tr>\n    <tr>\n      <th>27</th>\n      <td>2874.0</td>\n      <td>2874.0</td>\n      <td>0.0</td>\n      <td>0.0</td>\n    </tr>\n    <tr>\n      <th>35</th>\n      <td>3246.0</td>\n      <td>3246.0</td>\n      <td>0.0</td>\n      <td>0.0</td>\n    </tr>\n    <tr>\n      <th>...</th>\n      <td>...</td>\n      <td>...</td>\n      <td>...</td>\n      <td>...</td>\n    </tr>\n    <tr>\n      <th>332</th>\n      <td>20929.0</td>\n      <td>7217.0</td>\n      <td>8983.0</td>\n      <td>4729.0</td>\n    </tr>\n    <tr>\n      <th>333</th>\n      <td>112959.0</td>\n      <td>30081.0</td>\n      <td>60501.0</td>\n      <td>22377.0</td>\n    </tr>\n    <tr>\n      <th>334</th>\n      <td>113323.0</td>\n      <td>36006.0</td>\n      <td>55159.0</td>\n      <td>22158.0</td>\n    </tr>\n    <tr>\n      <th>335</th>\n      <td>211563.0</td>\n      <td>69888.0</td>\n      <td>111468.0</td>\n      <td>18617.0</td>\n    </tr>\n    <tr>\n      <th>336</th>\n      <td>113909.0</td>\n      <td>27818.0</td>\n      <td>53537.0</td>\n      <td>44144.0</td>\n    </tr>\n  </tbody>\n</table>\n<p>229 rows × 4 columns</p>\n</div>"
     },
     "metadata": {}
    }
   ]
  },
  {
   "cell_type": "code",
   "metadata": {
    "tags": [],
    "cell_id": "00022-12064cf7-b974-49d8-a659-fdac422f1670",
    "deepnote_to_be_reexecuted": false,
    "source_hash": "f7bd10f9",
    "execution_start": 1639496613378,
    "execution_millis": 63,
    "deepnote_cell_type": "code"
   },
   "source": "grouped_icu",
   "execution_count": null,
   "outputs": [
    {
     "output_type": "execute_result",
     "execution_count": 21,
     "data": {
      "application/vnd.deepnote.dataframe.v2+json": {
       "row_count": 161,
       "column_count": 3,
       "columns": [
        {
         "name": "(MSP) UCI Porcentaje Ocupadas",
         "dtype": "int64",
         "stats": {
          "unique_count": 46,
          "nan_count": 0,
          "min": "0",
          "max": "80",
          "histogram": [
           {
            "bin_start": 0,
            "bin_end": 8,
            "count": 19
           },
           {
            "bin_start": 8,
            "bin_end": 16,
            "count": 0
           },
           {
            "bin_start": 16,
            "bin_end": 24,
            "count": 0
           },
           {
            "bin_start": 24,
            "bin_end": 32,
            "count": 9
           },
           {
            "bin_start": 32,
            "bin_end": 40,
            "count": 27
           },
           {
            "bin_start": 40,
            "bin_end": 48,
            "count": 37
           },
           {
            "bin_start": 48,
            "bin_end": 56,
            "count": 30
           },
           {
            "bin_start": 56,
            "bin_end": 64,
            "count": 9
           },
           {
            "bin_start": 64,
            "bin_end": 72,
            "count": 3
           },
           {
            "bin_start": 72,
            "bin_end": 80,
            "count": 27
           }
          ]
         }
        },
        {
         "name": "(RPIS) UCI Porcentaje Ocupadas",
         "dtype": "int64",
         "stats": {
          "unique_count": 42,
          "nan_count": 0,
          "min": "0",
          "max": "84",
          "histogram": [
           {
            "bin_start": 0,
            "bin_end": 8.4,
            "count": 35
           },
           {
            "bin_start": 8.4,
            "bin_end": 16.8,
            "count": 0
           },
           {
            "bin_start": 16.8,
            "bin_end": 25.200000000000003,
            "count": 0
           },
           {
            "bin_start": 25.200000000000003,
            "bin_end": 33.6,
            "count": 0
           },
           {
            "bin_start": 33.6,
            "bin_end": 42,
            "count": 5
           },
           {
            "bin_start": 42,
            "bin_end": 50.400000000000006,
            "count": 40
           },
           {
            "bin_start": 50.400000000000006,
            "bin_end": 58.800000000000004,
            "count": 16
           },
           {
            "bin_start": 58.800000000000004,
            "bin_end": 67.2,
            "count": 33
           },
           {
            "bin_start": 67.2,
            "bin_end": 75.60000000000001,
            "count": 14
           },
           {
            "bin_start": 75.60000000000001,
            "bin_end": 84,
            "count": 18
           }
          ]
         }
        },
        {
         "name": "(RPC) UCI Porcentaje Ocupadas",
         "dtype": "int64",
         "stats": {
          "unique_count": 31,
          "nan_count": 0,
          "min": "0",
          "max": "55",
          "histogram": [
           {
            "bin_start": 0,
            "bin_end": 5.5,
            "count": 35
           },
           {
            "bin_start": 5.5,
            "bin_end": 11,
            "count": 0
           },
           {
            "bin_start": 11,
            "bin_end": 16.5,
            "count": 31
           },
           {
            "bin_start": 16.5,
            "bin_end": 22,
            "count": 57
           },
           {
            "bin_start": 22,
            "bin_end": 27.5,
            "count": 9
           },
           {
            "bin_start": 27.5,
            "bin_end": 33,
            "count": 8
           },
           {
            "bin_start": 33,
            "bin_end": 38.5,
            "count": 9
           },
           {
            "bin_start": 38.5,
            "bin_end": 44,
            "count": 4
           },
           {
            "bin_start": 44,
            "bin_end": 49.5,
            "count": 4
           },
           {
            "bin_start": 49.5,
            "bin_end": 55,
            "count": 4
           }
          ]
         }
        },
        {
         "name": "_deepnote_index_column",
         "dtype": "object"
        }
       ],
       "rows_top": [
        {
         "(MSP) UCI Porcentaje Ocupadas": 0,
         "(RPIS) UCI Porcentaje Ocupadas": 0,
         "(RPC) UCI Porcentaje Ocupadas": 0,
         "_deepnote_index_column": "(2021, 182)"
        },
        {
         "(MSP) UCI Porcentaje Ocupadas": 0,
         "(RPIS) UCI Porcentaje Ocupadas": 0,
         "(RPC) UCI Porcentaje Ocupadas": 0,
         "_deepnote_index_column": "(2021, 183)"
        },
        {
         "(MSP) UCI Porcentaje Ocupadas": 0,
         "(RPIS) UCI Porcentaje Ocupadas": 0,
         "(RPC) UCI Porcentaje Ocupadas": 0,
         "_deepnote_index_column": "(2021, 184)"
        },
        {
         "(MSP) UCI Porcentaje Ocupadas": 0,
         "(RPIS) UCI Porcentaje Ocupadas": 0,
         "(RPC) UCI Porcentaje Ocupadas": 0,
         "_deepnote_index_column": "(2021, 185)"
        },
        {
         "(MSP) UCI Porcentaje Ocupadas": 0,
         "(RPIS) UCI Porcentaje Ocupadas": 0,
         "(RPC) UCI Porcentaje Ocupadas": 0,
         "_deepnote_index_column": "(2021, 186)"
        },
        {
         "(MSP) UCI Porcentaje Ocupadas": 0,
         "(RPIS) UCI Porcentaje Ocupadas": 0,
         "(RPC) UCI Porcentaje Ocupadas": 0,
         "_deepnote_index_column": "(2021, 187)"
        },
        {
         "(MSP) UCI Porcentaje Ocupadas": 0,
         "(RPIS) UCI Porcentaje Ocupadas": 0,
         "(RPC) UCI Porcentaje Ocupadas": 0,
         "_deepnote_index_column": "(2021, 188)"
        },
        {
         "(MSP) UCI Porcentaje Ocupadas": 0,
         "(RPIS) UCI Porcentaje Ocupadas": 0,
         "(RPC) UCI Porcentaje Ocupadas": 0,
         "_deepnote_index_column": "(2021, 189)"
        },
        {
         "(MSP) UCI Porcentaje Ocupadas": 0,
         "(RPIS) UCI Porcentaje Ocupadas": 0,
         "(RPC) UCI Porcentaje Ocupadas": 0,
         "_deepnote_index_column": "(2021, 190)"
        },
        {
         "(MSP) UCI Porcentaje Ocupadas": 0,
         "(RPIS) UCI Porcentaje Ocupadas": 0,
         "(RPC) UCI Porcentaje Ocupadas": 0,
         "_deepnote_index_column": "(2021, 191)"
        },
        {
         "(MSP) UCI Porcentaje Ocupadas": 0,
         "(RPIS) UCI Porcentaje Ocupadas": 0,
         "(RPC) UCI Porcentaje Ocupadas": 0,
         "_deepnote_index_column": "(2021, 192)"
        },
        {
         "(MSP) UCI Porcentaje Ocupadas": 0,
         "(RPIS) UCI Porcentaje Ocupadas": 0,
         "(RPC) UCI Porcentaje Ocupadas": 0,
         "_deepnote_index_column": "(2021, 193)"
        },
        {
         "(MSP) UCI Porcentaje Ocupadas": 0,
         "(RPIS) UCI Porcentaje Ocupadas": 0,
         "(RPC) UCI Porcentaje Ocupadas": 0,
         "_deepnote_index_column": "(2021, 194)"
        },
        {
         "(MSP) UCI Porcentaje Ocupadas": 0,
         "(RPIS) UCI Porcentaje Ocupadas": 0,
         "(RPC) UCI Porcentaje Ocupadas": 0,
         "_deepnote_index_column": "(2021, 195)"
        },
        {
         "(MSP) UCI Porcentaje Ocupadas": 0,
         "(RPIS) UCI Porcentaje Ocupadas": 0,
         "(RPC) UCI Porcentaje Ocupadas": 0,
         "_deepnote_index_column": "(2021, 196)"
        },
        {
         "(MSP) UCI Porcentaje Ocupadas": 0,
         "(RPIS) UCI Porcentaje Ocupadas": 0,
         "(RPC) UCI Porcentaje Ocupadas": 0,
         "_deepnote_index_column": "(2021, 197)"
        },
        {
         "(MSP) UCI Porcentaje Ocupadas": 0,
         "(RPIS) UCI Porcentaje Ocupadas": 0,
         "(RPC) UCI Porcentaje Ocupadas": 0,
         "_deepnote_index_column": "(2021, 198)"
        },
        {
         "(MSP) UCI Porcentaje Ocupadas": 0,
         "(RPIS) UCI Porcentaje Ocupadas": 0,
         "(RPC) UCI Porcentaje Ocupadas": 0,
         "_deepnote_index_column": "(2021, 199)"
        },
        {
         "(MSP) UCI Porcentaje Ocupadas": 0,
         "(RPIS) UCI Porcentaje Ocupadas": 0,
         "(RPC) UCI Porcentaje Ocupadas": 0,
         "_deepnote_index_column": "(2021, 200)"
        },
        {
         "(MSP) UCI Porcentaje Ocupadas": 80,
         "(RPIS) UCI Porcentaje Ocupadas": 0,
         "(RPC) UCI Porcentaje Ocupadas": 0,
         "_deepnote_index_column": "(2021, 201)"
        },
        {
         "(MSP) UCI Porcentaje Ocupadas": 79,
         "(RPIS) UCI Porcentaje Ocupadas": 0,
         "(RPC) UCI Porcentaje Ocupadas": 0,
         "_deepnote_index_column": "(2021, 202)"
        },
        {
         "(MSP) UCI Porcentaje Ocupadas": 80,
         "(RPIS) UCI Porcentaje Ocupadas": 0,
         "(RPC) UCI Porcentaje Ocupadas": 0,
         "_deepnote_index_column": "(2021, 203)"
        },
        {
         "(MSP) UCI Porcentaje Ocupadas": 80,
         "(RPIS) UCI Porcentaje Ocupadas": 0,
         "(RPC) UCI Porcentaje Ocupadas": 0,
         "_deepnote_index_column": "(2021, 204)"
        },
        {
         "(MSP) UCI Porcentaje Ocupadas": 80,
         "(RPIS) UCI Porcentaje Ocupadas": 0,
         "(RPC) UCI Porcentaje Ocupadas": 0,
         "_deepnote_index_column": "(2021, 205)"
        },
        {
         "(MSP) UCI Porcentaje Ocupadas": 80,
         "(RPIS) UCI Porcentaje Ocupadas": 0,
         "(RPC) UCI Porcentaje Ocupadas": 0,
         "_deepnote_index_column": "(2021, 206)"
        },
        {
         "(MSP) UCI Porcentaje Ocupadas": 80,
         "(RPIS) UCI Porcentaje Ocupadas": 0,
         "(RPC) UCI Porcentaje Ocupadas": 0,
         "_deepnote_index_column": "(2021, 207)"
        },
        {
         "(MSP) UCI Porcentaje Ocupadas": 80,
         "(RPIS) UCI Porcentaje Ocupadas": 0,
         "(RPC) UCI Porcentaje Ocupadas": 0,
         "_deepnote_index_column": "(2021, 208)"
        },
        {
         "(MSP) UCI Porcentaje Ocupadas": 80,
         "(RPIS) UCI Porcentaje Ocupadas": 0,
         "(RPC) UCI Porcentaje Ocupadas": 0,
         "_deepnote_index_column": "(2021, 209)"
        },
        {
         "(MSP) UCI Porcentaje Ocupadas": 80,
         "(RPIS) UCI Porcentaje Ocupadas": 0,
         "(RPC) UCI Porcentaje Ocupadas": 0,
         "_deepnote_index_column": "(2021, 210)"
        },
        {
         "(MSP) UCI Porcentaje Ocupadas": 80,
         "(RPIS) UCI Porcentaje Ocupadas": 0,
         "(RPC) UCI Porcentaje Ocupadas": 0,
         "_deepnote_index_column": "(2021, 211)"
        },
        {
         "(MSP) UCI Porcentaje Ocupadas": 80,
         "(RPIS) UCI Porcentaje Ocupadas": 0,
         "(RPC) UCI Porcentaje Ocupadas": 0,
         "_deepnote_index_column": "(2021, 212)"
        },
        {
         "(MSP) UCI Porcentaje Ocupadas": 80,
         "(RPIS) UCI Porcentaje Ocupadas": 0,
         "(RPC) UCI Porcentaje Ocupadas": 0,
         "_deepnote_index_column": "(2021, 213)"
        },
        {
         "(MSP) UCI Porcentaje Ocupadas": 80,
         "(RPIS) UCI Porcentaje Ocupadas": 0,
         "(RPC) UCI Porcentaje Ocupadas": 0,
         "_deepnote_index_column": "(2021, 214)"
        },
        {
         "(MSP) UCI Porcentaje Ocupadas": 80,
         "(RPIS) UCI Porcentaje Ocupadas": 0,
         "(RPC) UCI Porcentaje Ocupadas": 0,
         "_deepnote_index_column": "(2021, 215)"
        },
        {
         "(MSP) UCI Porcentaje Ocupadas": 80,
         "(RPIS) UCI Porcentaje Ocupadas": 0,
         "(RPC) UCI Porcentaje Ocupadas": 0,
         "_deepnote_index_column": "(2021, 216)"
        },
        {
         "(MSP) UCI Porcentaje Ocupadas": 78,
         "(RPIS) UCI Porcentaje Ocupadas": 84,
         "(RPC) UCI Porcentaje Ocupadas": 55,
         "_deepnote_index_column": "(2021, 217)"
        },
        {
         "(MSP) UCI Porcentaje Ocupadas": 77,
         "(RPIS) UCI Porcentaje Ocupadas": 81,
         "(RPC) UCI Porcentaje Ocupadas": 52,
         "_deepnote_index_column": "(2021, 218)"
        },
        {
         "(MSP) UCI Porcentaje Ocupadas": 76,
         "(RPIS) UCI Porcentaje Ocupadas": 79,
         "(RPC) UCI Porcentaje Ocupadas": 52,
         "_deepnote_index_column": "(2021, 219)"
        },
        {
         "(MSP) UCI Porcentaje Ocupadas": 73,
         "(RPIS) UCI Porcentaje Ocupadas": 78,
         "(RPC) UCI Porcentaje Ocupadas": 47,
         "_deepnote_index_column": "(2021, 220)"
        },
        {
         "(MSP) UCI Porcentaje Ocupadas": 76,
         "(RPIS) UCI Porcentaje Ocupadas": 80,
         "(RPC) UCI Porcentaje Ocupadas": 45,
         "_deepnote_index_column": "(2021, 221)"
        },
        {
         "(MSP) UCI Porcentaje Ocupadas": 76,
         "(RPIS) UCI Porcentaje Ocupadas": 79,
         "(RPC) UCI Porcentaje Ocupadas": 44,
         "_deepnote_index_column": "(2021, 222)"
        },
        {
         "(MSP) UCI Porcentaje Ocupadas": 75,
         "(RPIS) UCI Porcentaje Ocupadas": 80,
         "(RPC) UCI Porcentaje Ocupadas": 43,
         "_deepnote_index_column": "(2021, 223)"
        },
        {
         "(MSP) UCI Porcentaje Ocupadas": 73,
         "(RPIS) UCI Porcentaje Ocupadas": 80,
         "(RPC) UCI Porcentaje Ocupadas": 44,
         "_deepnote_index_column": "(2021, 224)"
        },
        {
         "(MSP) UCI Porcentaje Ocupadas": 73,
         "(RPIS) UCI Porcentaje Ocupadas": 81,
         "(RPC) UCI Porcentaje Ocupadas": 40,
         "_deepnote_index_column": "(2021, 225)"
        },
        {
         "(MSP) UCI Porcentaje Ocupadas": 73,
         "(RPIS) UCI Porcentaje Ocupadas": 81,
         "(RPC) UCI Porcentaje Ocupadas": 39,
         "_deepnote_index_column": "(2021, 226)"
        },
        {
         "(MSP) UCI Porcentaje Ocupadas": 72,
         "(RPIS) UCI Porcentaje Ocupadas": 81,
         "(RPC) UCI Porcentaje Ocupadas": 38,
         "_deepnote_index_column": "(2021, 227)"
        },
        {
         "(MSP) UCI Porcentaje Ocupadas": 67,
         "(RPIS) UCI Porcentaje Ocupadas": 79,
         "(RPC) UCI Porcentaje Ocupadas": 37,
         "_deepnote_index_column": "(2021, 228)"
        },
        {
         "(MSP) UCI Porcentaje Ocupadas": 66,
         "(RPIS) UCI Porcentaje Ocupadas": 79,
         "(RPC) UCI Porcentaje Ocupadas": 38,
         "_deepnote_index_column": "(2021, 229)"
        },
        {
         "(MSP) UCI Porcentaje Ocupadas": 64,
         "(RPIS) UCI Porcentaje Ocupadas": 79,
         "(RPC) UCI Porcentaje Ocupadas": 38,
         "_deepnote_index_column": "(2021, 230)"
        },
        {
         "(MSP) UCI Porcentaje Ocupadas": 63,
         "(RPIS) UCI Porcentaje Ocupadas": 82,
         "(RPC) UCI Porcentaje Ocupadas": 39,
         "_deepnote_index_column": "(2021, 231)"
        },
        {
         "(MSP) UCI Porcentaje Ocupadas": 62,
         "(RPIS) UCI Porcentaje Ocupadas": 79,
         "(RPC) UCI Porcentaje Ocupadas": 37,
         "_deepnote_index_column": "(2021, 232)"
        },
        {
         "(MSP) UCI Porcentaje Ocupadas": 61,
         "(RPIS) UCI Porcentaje Ocupadas": 79,
         "(RPC) UCI Porcentaje Ocupadas": 38,
         "_deepnote_index_column": "(2021, 233)"
        },
        {
         "(MSP) UCI Porcentaje Ocupadas": 60,
         "(RPIS) UCI Porcentaje Ocupadas": 79,
         "(RPC) UCI Porcentaje Ocupadas": 31,
         "_deepnote_index_column": "(2021, 234)"
        },
        {
         "(MSP) UCI Porcentaje Ocupadas": 61,
         "(RPIS) UCI Porcentaje Ocupadas": 71,
         "(RPC) UCI Porcentaje Ocupadas": 34,
         "_deepnote_index_column": "(2021, 235)"
        },
        {
         "(MSP) UCI Porcentaje Ocupadas": 54,
         "(RPIS) UCI Porcentaje Ocupadas": 70,
         "(RPC) UCI Porcentaje Ocupadas": 34,
         "_deepnote_index_column": "(2021, 236)"
        },
        {
         "(MSP) UCI Porcentaje Ocupadas": 49,
         "(RPIS) UCI Porcentaje Ocupadas": 66,
         "(RPC) UCI Porcentaje Ocupadas": 29,
         "_deepnote_index_column": "(2021, 237)"
        },
        {
         "(MSP) UCI Porcentaje Ocupadas": 50,
         "(RPIS) UCI Porcentaje Ocupadas": 73,
         "(RPC) UCI Porcentaje Ocupadas": 26,
         "_deepnote_index_column": "(2021, 238)"
        },
        {
         "(MSP) UCI Porcentaje Ocupadas": 48,
         "(RPIS) UCI Porcentaje Ocupadas": 63,
         "(RPC) UCI Porcentaje Ocupadas": 29,
         "_deepnote_index_column": "(2021, 239)"
        },
        {
         "(MSP) UCI Porcentaje Ocupadas": 50,
         "(RPIS) UCI Porcentaje Ocupadas": 62,
         "(RPC) UCI Porcentaje Ocupadas": 32,
         "_deepnote_index_column": "(2021, 240)"
        },
        {
         "(MSP) UCI Porcentaje Ocupadas": 48,
         "(RPIS) UCI Porcentaje Ocupadas": 62,
         "(RPC) UCI Porcentaje Ocupadas": 29,
         "_deepnote_index_column": "(2021, 241)"
        },
        {
         "(MSP) UCI Porcentaje Ocupadas": 48,
         "(RPIS) UCI Porcentaje Ocupadas": 62,
         "(RPC) UCI Porcentaje Ocupadas": 29,
         "_deepnote_index_column": "(2021, 242)"
        },
        {
         "(MSP) UCI Porcentaje Ocupadas": 48,
         "(RPIS) UCI Porcentaje Ocupadas": 63,
         "(RPC) UCI Porcentaje Ocupadas": 29,
         "_deepnote_index_column": "(2021, 243)"
        },
        {
         "(MSP) UCI Porcentaje Ocupadas": 45,
         "(RPIS) UCI Porcentaje Ocupadas": 61,
         "(RPC) UCI Porcentaje Ocupadas": 30,
         "_deepnote_index_column": "(2021, 244)"
        },
        {
         "(MSP) UCI Porcentaje Ocupadas": 61,
         "(RPIS) UCI Porcentaje Ocupadas": 71,
         "(RPC) UCI Porcentaje Ocupadas": 34,
         "_deepnote_index_column": "(2021, 245)"
        },
        {
         "(MSP) UCI Porcentaje Ocupadas": 43,
         "(RPIS) UCI Porcentaje Ocupadas": 64,
         "(RPC) UCI Porcentaje Ocupadas": 25,
         "_deepnote_index_column": "(2021, 246)"
        },
        {
         "(MSP) UCI Porcentaje Ocupadas": 47,
         "(RPIS) UCI Porcentaje Ocupadas": 61,
         "(RPC) UCI Porcentaje Ocupadas": 23,
         "_deepnote_index_column": "(2021, 247)"
        },
        {
         "(MSP) UCI Porcentaje Ocupadas": 47,
         "(RPIS) UCI Porcentaje Ocupadas": 61,
         "(RPC) UCI Porcentaje Ocupadas": 23,
         "_deepnote_index_column": "(2021, 248)"
        },
        {
         "(MSP) UCI Porcentaje Ocupadas": 47,
         "(RPIS) UCI Porcentaje Ocupadas": 61,
         "(RPC) UCI Porcentaje Ocupadas": 23,
         "_deepnote_index_column": "(2021, 249)"
        },
        {
         "(MSP) UCI Porcentaje Ocupadas": 53,
         "(RPIS) UCI Porcentaje Ocupadas": 68,
         "(RPC) UCI Porcentaje Ocupadas": 53,
         "_deepnote_index_column": "(2021, 250)"
        },
        {
         "(MSP) UCI Porcentaje Ocupadas": 54,
         "(RPIS) UCI Porcentaje Ocupadas": 59,
         "(RPC) UCI Porcentaje Ocupadas": 20,
         "_deepnote_index_column": "(2021, 251)"
        },
        {
         "(MSP) UCI Porcentaje Ocupadas": 52,
         "(RPIS) UCI Porcentaje Ocupadas": 58,
         "(RPC) UCI Porcentaje Ocupadas": 20,
         "_deepnote_index_column": "(2021, 252)"
        },
        {
         "(MSP) UCI Porcentaje Ocupadas": 49,
         "(RPIS) UCI Porcentaje Ocupadas": 55,
         "(RPC) UCI Porcentaje Ocupadas": 17,
         "_deepnote_index_column": "(2021, 253)"
        },
        {
         "(MSP) UCI Porcentaje Ocupadas": 50,
         "(RPIS) UCI Porcentaje Ocupadas": 53,
         "(RPC) UCI Porcentaje Ocupadas": 18,
         "_deepnote_index_column": "(2021, 254)"
        },
        {
         "(MSP) UCI Porcentaje Ocupadas": 46,
         "(RPIS) UCI Porcentaje Ocupadas": 50,
         "(RPC) UCI Porcentaje Ocupadas": 18,
         "_deepnote_index_column": "(2021, 255)"
        },
        {
         "(MSP) UCI Porcentaje Ocupadas": 45,
         "(RPIS) UCI Porcentaje Ocupadas": 50,
         "(RPC) UCI Porcentaje Ocupadas": 17,
         "_deepnote_index_column": "(2021, 256)"
        },
        {
         "(MSP) UCI Porcentaje Ocupadas": 48,
         "(RPIS) UCI Porcentaje Ocupadas": 45,
         "(RPC) UCI Porcentaje Ocupadas": 17,
         "_deepnote_index_column": "(2021, 257)"
        },
        {
         "(MSP) UCI Porcentaje Ocupadas": 45,
         "(RPIS) UCI Porcentaje Ocupadas": 48,
         "(RPC) UCI Porcentaje Ocupadas": 19,
         "_deepnote_index_column": "(2021, 258)"
        },
        {
         "(MSP) UCI Porcentaje Ocupadas": 44,
         "(RPIS) UCI Porcentaje Ocupadas": 48,
         "(RPC) UCI Porcentaje Ocupadas": 17,
         "_deepnote_index_column": "(2021, 259)"
        },
        {
         "(MSP) UCI Porcentaje Ocupadas": 40,
         "(RPIS) UCI Porcentaje Ocupadas": 47,
         "(RPC) UCI Porcentaje Ocupadas": 25,
         "_deepnote_index_column": "(2021, 260)"
        },
        {
         "(MSP) UCI Porcentaje Ocupadas": 43,
         "(RPIS) UCI Porcentaje Ocupadas": 46,
         "(RPC) UCI Porcentaje Ocupadas": 17,
         "_deepnote_index_column": "(2021, 261)"
        },
        {
         "(MSP) UCI Porcentaje Ocupadas": 42,
         "(RPIS) UCI Porcentaje Ocupadas": 46,
         "(RPC) UCI Porcentaje Ocupadas": 17,
         "_deepnote_index_column": "(2021, 262)"
        },
        {
         "(MSP) UCI Porcentaje Ocupadas": 44,
         "(RPIS) UCI Porcentaje Ocupadas": 46,
         "(RPC) UCI Porcentaje Ocupadas": 17,
         "_deepnote_index_column": "(2021, 263)"
        },
        {
         "(MSP) UCI Porcentaje Ocupadas": 41,
         "(RPIS) UCI Porcentaje Ocupadas": 45,
         "(RPC) UCI Porcentaje Ocupadas": 17,
         "_deepnote_index_column": "(2021, 264)"
        },
        {
         "(MSP) UCI Porcentaje Ocupadas": 41,
         "(RPIS) UCI Porcentaje Ocupadas": 50,
         "(RPC) UCI Porcentaje Ocupadas": 18,
         "_deepnote_index_column": "(2021, 265)"
        },
        {
         "(MSP) UCI Porcentaje Ocupadas": 40,
         "(RPIS) UCI Porcentaje Ocupadas": 43,
         "(RPC) UCI Porcentaje Ocupadas": 16,
         "_deepnote_index_column": "(2021, 266)"
        },
        {
         "(MSP) UCI Porcentaje Ocupadas": 40,
         "(RPIS) UCI Porcentaje Ocupadas": 42,
         "(RPC) UCI Porcentaje Ocupadas": 15,
         "_deepnote_index_column": "(2021, 267)"
        },
        {
         "(MSP) UCI Porcentaje Ocupadas": 35,
         "(RPIS) UCI Porcentaje Ocupadas": 44,
         "(RPC) UCI Porcentaje Ocupadas": 17,
         "_deepnote_index_column": "(2021, 268)"
        },
        {
         "(MSP) UCI Porcentaje Ocupadas": 38,
         "(RPIS) UCI Porcentaje Ocupadas": 45,
         "(RPC) UCI Porcentaje Ocupadas": 18,
         "_deepnote_index_column": "(2021, 269)"
        },
        {
         "(MSP) UCI Porcentaje Ocupadas": 38,
         "(RPIS) UCI Porcentaje Ocupadas": 45,
         "(RPC) UCI Porcentaje Ocupadas": 18,
         "_deepnote_index_column": "(2021, 270)"
        },
        {
         "(MSP) UCI Porcentaje Ocupadas": 39,
         "(RPIS) UCI Porcentaje Ocupadas": 46,
         "(RPC) UCI Porcentaje Ocupadas": 17,
         "_deepnote_index_column": "(2021, 271)"
        },
        {
         "(MSP) UCI Porcentaje Ocupadas": 42,
         "(RPIS) UCI Porcentaje Ocupadas": 47,
         "(RPC) UCI Porcentaje Ocupadas": 17,
         "_deepnote_index_column": "(2021, 272)"
        },
        {
         "(MSP) UCI Porcentaje Ocupadas": 44,
         "(RPIS) UCI Porcentaje Ocupadas": 46,
         "(RPC) UCI Porcentaje Ocupadas": 16,
         "_deepnote_index_column": "(2021, 273)"
        },
        {
         "(MSP) UCI Porcentaje Ocupadas": 39,
         "(RPIS) UCI Porcentaje Ocupadas": 43,
         "(RPC) UCI Porcentaje Ocupadas": 16,
         "_deepnote_index_column": "(2021, 274)"
        },
        {
         "(MSP) UCI Porcentaje Ocupadas": 40,
         "(RPIS) UCI Porcentaje Ocupadas": 41,
         "(RPC) UCI Porcentaje Ocupadas": 13,
         "_deepnote_index_column": "(2021, 275)"
        },
        {
         "(MSP) UCI Porcentaje Ocupadas": 36,
         "(RPIS) UCI Porcentaje Ocupadas": 47,
         "(RPC) UCI Porcentaje Ocupadas": 13,
         "_deepnote_index_column": "(2021, 276)"
        },
        {
         "(MSP) UCI Porcentaje Ocupadas": 31,
         "(RPIS) UCI Porcentaje Ocupadas": 50,
         "(RPC) UCI Porcentaje Ocupadas": 12,
         "_deepnote_index_column": "(2021, 277)"
        },
        {
         "(MSP) UCI Porcentaje Ocupadas": 32,
         "(RPIS) UCI Porcentaje Ocupadas": 48,
         "(RPC) UCI Porcentaje Ocupadas": 12,
         "_deepnote_index_column": "(2021, 278)"
        },
        {
         "(MSP) UCI Porcentaje Ocupadas": 36,
         "(RPIS) UCI Porcentaje Ocupadas": 48,
         "(RPC) UCI Porcentaje Ocupadas": 12,
         "_deepnote_index_column": "(2021, 279)"
        },
        {
         "(MSP) UCI Porcentaje Ocupadas": 35,
         "(RPIS) UCI Porcentaje Ocupadas": 52,
         "(RPC) UCI Porcentaje Ocupadas": 19,
         "_deepnote_index_column": "(2021, 280)"
        },
        {
         "(MSP) UCI Porcentaje Ocupadas": 29,
         "(RPIS) UCI Porcentaje Ocupadas": 44,
         "(RPC) UCI Porcentaje Ocupadas": 12,
         "_deepnote_index_column": "(2021, 281)"
        },
        {
         "(MSP) UCI Porcentaje Ocupadas": 33,
         "(RPIS) UCI Porcentaje Ocupadas": 48,
         "(RPC) UCI Porcentaje Ocupadas": 13,
         "_deepnote_index_column": "(2021, 282)"
        },
        {
         "(MSP) UCI Porcentaje Ocupadas": 30,
         "(RPIS) UCI Porcentaje Ocupadas": 45,
         "(RPC) UCI Porcentaje Ocupadas": 19,
         "_deepnote_index_column": "(2021, 283)"
        },
        {
         "(MSP) UCI Porcentaje Ocupadas": 29,
         "(RPIS) UCI Porcentaje Ocupadas": 45,
         "(RPC) UCI Porcentaje Ocupadas": 19,
         "_deepnote_index_column": "(2021, 284)"
        },
        {
         "(MSP) UCI Porcentaje Ocupadas": 27,
         "(RPIS) UCI Porcentaje Ocupadas": 42,
         "(RPC) UCI Porcentaje Ocupadas": 20,
         "_deepnote_index_column": "(2021, 285)"
        },
        {
         "(MSP) UCI Porcentaje Ocupadas": 32,
         "(RPIS) UCI Porcentaje Ocupadas": 42,
         "(RPC) UCI Porcentaje Ocupadas": 17,
         "_deepnote_index_column": "(2021, 286)"
        },
        {
         "(MSP) UCI Porcentaje Ocupadas": 36,
         "(RPIS) UCI Porcentaje Ocupadas": 42,
         "(RPC) UCI Porcentaje Ocupadas": 15,
         "_deepnote_index_column": "(2021, 287)"
        },
        {
         "(MSP) UCI Porcentaje Ocupadas": 39,
         "(RPIS) UCI Porcentaje Ocupadas": 41,
         "(RPC) UCI Porcentaje Ocupadas": 15,
         "_deepnote_index_column": "(2021, 288)"
        },
        {
         "(MSP) UCI Porcentaje Ocupadas": 37,
         "(RPIS) UCI Porcentaje Ocupadas": 40,
         "(RPC) UCI Porcentaje Ocupadas": 12,
         "_deepnote_index_column": "(2021, 289)"
        },
        {
         "(MSP) UCI Porcentaje Ocupadas": 36,
         "(RPIS) UCI Porcentaje Ocupadas": 40,
         "(RPC) UCI Porcentaje Ocupadas": 12,
         "_deepnote_index_column": "(2021, 290)"
        },
        {
         "(MSP) UCI Porcentaje Ocupadas": 34,
         "(RPIS) UCI Porcentaje Ocupadas": 46,
         "(RPC) UCI Porcentaje Ocupadas": 17,
         "_deepnote_index_column": "(2021, 291)"
        },
        {
         "(MSP) UCI Porcentaje Ocupadas": 34,
         "(RPIS) UCI Porcentaje Ocupadas": 37,
         "(RPC) UCI Porcentaje Ocupadas": 17,
         "_deepnote_index_column": "(2021, 292)"
        },
        {
         "(MSP) UCI Porcentaje Ocupadas": 32,
         "(RPIS) UCI Porcentaje Ocupadas": 43,
         "(RPC) UCI Porcentaje Ocupadas": 16,
         "_deepnote_index_column": "(2021, 293)"
        },
        {
         "(MSP) UCI Porcentaje Ocupadas": 28,
         "(RPIS) UCI Porcentaje Ocupadas": 49,
         "(RPC) UCI Porcentaje Ocupadas": 17,
         "_deepnote_index_column": "(2021, 294)"
        },
        {
         "(MSP) UCI Porcentaje Ocupadas": 30,
         "(RPIS) UCI Porcentaje Ocupadas": 47,
         "(RPC) UCI Porcentaje Ocupadas": 17,
         "_deepnote_index_column": "(2021, 295)"
        },
        {
         "(MSP) UCI Porcentaje Ocupadas": 31,
         "(RPIS) UCI Porcentaje Ocupadas": 49,
         "(RPC) UCI Porcentaje Ocupadas": 19,
         "_deepnote_index_column": "(2021, 296)"
        },
        {
         "(MSP) UCI Porcentaje Ocupadas": 31,
         "(RPIS) UCI Porcentaje Ocupadas": 47,
         "(RPC) UCI Porcentaje Ocupadas": 20,
         "_deepnote_index_column": "(2021, 297)"
        },
        {
         "(MSP) UCI Porcentaje Ocupadas": 34,
         "(RPIS) UCI Porcentaje Ocupadas": 51,
         "(RPC) UCI Porcentaje Ocupadas": 18,
         "_deepnote_index_column": "(2021, 298)"
        },
        {
         "(MSP) UCI Porcentaje Ocupadas": 33,
         "(RPIS) UCI Porcentaje Ocupadas": 47,
         "(RPC) UCI Porcentaje Ocupadas": 18,
         "_deepnote_index_column": "(2021, 299)"
        },
        {
         "(MSP) UCI Porcentaje Ocupadas": 35,
         "(RPIS) UCI Porcentaje Ocupadas": 58,
         "(RPC) UCI Porcentaje Ocupadas": 18,
         "_deepnote_index_column": "(2021, 300)"
        },
        {
         "(MSP) UCI Porcentaje Ocupadas": 32,
         "(RPIS) UCI Porcentaje Ocupadas": 57,
         "(RPC) UCI Porcentaje Ocupadas": 17,
         "_deepnote_index_column": "(2021, 301)"
        },
        {
         "(MSP) UCI Porcentaje Ocupadas": 34,
         "(RPIS) UCI Porcentaje Ocupadas": 56,
         "(RPC) UCI Porcentaje Ocupadas": 17,
         "_deepnote_index_column": "(2021, 302)"
        },
        {
         "(MSP) UCI Porcentaje Ocupadas": 36,
         "(RPIS) UCI Porcentaje Ocupadas": 56,
         "(RPC) UCI Porcentaje Ocupadas": 16,
         "_deepnote_index_column": "(2021, 303)"
        },
        {
         "(MSP) UCI Porcentaje Ocupadas": 35,
         "(RPIS) UCI Porcentaje Ocupadas": 56,
         "(RPC) UCI Porcentaje Ocupadas": 15,
         "_deepnote_index_column": "(2021, 304)"
        },
        {
         "(MSP) UCI Porcentaje Ocupadas": 37,
         "(RPIS) UCI Porcentaje Ocupadas": 55,
         "(RPC) UCI Porcentaje Ocupadas": 16,
         "_deepnote_index_column": "(2021, 305)"
        },
        {
         "(MSP) UCI Porcentaje Ocupadas": 38,
         "(RPIS) UCI Porcentaje Ocupadas": 54,
         "(RPC) UCI Porcentaje Ocupadas": 15,
         "_deepnote_index_column": "(2021, 306)"
        },
        {
         "(MSP) UCI Porcentaje Ocupadas": 46,
         "(RPIS) UCI Porcentaje Ocupadas": 59,
         "(RPC) UCI Porcentaje Ocupadas": 17,
         "_deepnote_index_column": "(2021, 307)"
        },
        {
         "(MSP) UCI Porcentaje Ocupadas": 50,
         "(RPIS) UCI Porcentaje Ocupadas": 59,
         "(RPC) UCI Porcentaje Ocupadas": 18,
         "_deepnote_index_column": "(2021, 308)"
        },
        {
         "(MSP) UCI Porcentaje Ocupadas": 51,
         "(RPIS) UCI Porcentaje Ocupadas": 58,
         "(RPC) UCI Porcentaje Ocupadas": 18,
         "_deepnote_index_column": "(2021, 309)"
        },
        {
         "(MSP) UCI Porcentaje Ocupadas": 47,
         "(RPIS) UCI Porcentaje Ocupadas": 60,
         "(RPC) UCI Porcentaje Ocupadas": 18,
         "_deepnote_index_column": "(2021, 310)"
        },
        {
         "(MSP) UCI Porcentaje Ocupadas": 45,
         "(RPIS) UCI Porcentaje Ocupadas": 58,
         "(RPC) UCI Porcentaje Ocupadas": 16,
         "_deepnote_index_column": "(2021, 311)"
        },
        {
         "(MSP) UCI Porcentaje Ocupadas": 45,
         "(RPIS) UCI Porcentaje Ocupadas": 62,
         "(RPC) UCI Porcentaje Ocupadas": 17,
         "_deepnote_index_column": "(2021, 312)"
        },
        {
         "(MSP) UCI Porcentaje Ocupadas": 42,
         "(RPIS) UCI Porcentaje Ocupadas": 46,
         "(RPC) UCI Porcentaje Ocupadas": 16,
         "_deepnote_index_column": "(2021, 313)"
        },
        {
         "(MSP) UCI Porcentaje Ocupadas": 44,
         "(RPIS) UCI Porcentaje Ocupadas": 61,
         "(RPC) UCI Porcentaje Ocupadas": 15,
         "_deepnote_index_column": "(2021, 314)"
        },
        {
         "(MSP) UCI Porcentaje Ocupadas": 45,
         "(RPIS) UCI Porcentaje Ocupadas": 47,
         "(RPC) UCI Porcentaje Ocupadas": 17,
         "_deepnote_index_column": "(2021, 315)"
        },
        {
         "(MSP) UCI Porcentaje Ocupadas": 49,
         "(RPIS) UCI Porcentaje Ocupadas": 59,
         "(RPC) UCI Porcentaje Ocupadas": 15,
         "_deepnote_index_column": "(2021, 316)"
        },
        {
         "(MSP) UCI Porcentaje Ocupadas": 45,
         "(RPIS) UCI Porcentaje Ocupadas": 60,
         "(RPC) UCI Porcentaje Ocupadas": 15,
         "_deepnote_index_column": "(2021, 317)"
        },
        {
         "(MSP) UCI Porcentaje Ocupadas": 44,
         "(RPIS) UCI Porcentaje Ocupadas": 56,
         "(RPC) UCI Porcentaje Ocupadas": 15,
         "_deepnote_index_column": "(2021, 318)"
        },
        {
         "(MSP) UCI Porcentaje Ocupadas": 41,
         "(RPIS) UCI Porcentaje Ocupadas": 60,
         "(RPC) UCI Porcentaje Ocupadas": 14,
         "_deepnote_index_column": "(2021, 319)"
        },
        {
         "(MSP) UCI Porcentaje Ocupadas": 41,
         "(RPIS) UCI Porcentaje Ocupadas": 64,
         "(RPC) UCI Porcentaje Ocupadas": 12,
         "_deepnote_index_column": "(2021, 320)"
        },
        {
         "(MSP) UCI Porcentaje Ocupadas": 42,
         "(RPIS) UCI Porcentaje Ocupadas": 65,
         "(RPC) UCI Porcentaje Ocupadas": 13,
         "_deepnote_index_column": "(2021, 321)"
        },
        {
         "(MSP) UCI Porcentaje Ocupadas": 45,
         "(RPIS) UCI Porcentaje Ocupadas": 73,
         "(RPC) UCI Porcentaje Ocupadas": 15,
         "_deepnote_index_column": "(2021, 322)"
        },
        {
         "(MSP) UCI Porcentaje Ocupadas": 45,
         "(RPIS) UCI Porcentaje Ocupadas": 66,
         "(RPC) UCI Porcentaje Ocupadas": 17,
         "_deepnote_index_column": "(2021, 323)"
        },
        {
         "(MSP) UCI Porcentaje Ocupadas": 47,
         "(RPIS) UCI Porcentaje Ocupadas": 65,
         "(RPC) UCI Porcentaje Ocupadas": 17,
         "_deepnote_index_column": "(2021, 324)"
        },
        {
         "(MSP) UCI Porcentaje Ocupadas": 48,
         "(RPIS) UCI Porcentaje Ocupadas": 68,
         "(RPC) UCI Porcentaje Ocupadas": 16,
         "_deepnote_index_column": "(2021, 325)"
        },
        {
         "(MSP) UCI Porcentaje Ocupadas": 50,
         "(RPIS) UCI Porcentaje Ocupadas": 67,
         "(RPC) UCI Porcentaje Ocupadas": 22,
         "_deepnote_index_column": "(2021, 326)"
        },
        {
         "(MSP) UCI Porcentaje Ocupadas": 47,
         "(RPIS) UCI Porcentaje Ocupadas": 67,
         "(RPC) UCI Porcentaje Ocupadas": 20,
         "_deepnote_index_column": "(2021, 327)"
        },
        {
         "(MSP) UCI Porcentaje Ocupadas": 50,
         "(RPIS) UCI Porcentaje Ocupadas": 67,
         "(RPC) UCI Porcentaje Ocupadas": 20,
         "_deepnote_index_column": "(2021, 328)"
        },
        {
         "(MSP) UCI Porcentaje Ocupadas": 55,
         "(RPIS) UCI Porcentaje Ocupadas": 65,
         "(RPC) UCI Porcentaje Ocupadas": 21,
         "_deepnote_index_column": "(2021, 329)"
        },
        {
         "(MSP) UCI Porcentaje Ocupadas": 55,
         "(RPIS) UCI Porcentaje Ocupadas": 66,
         "(RPC) UCI Porcentaje Ocupadas": 19,
         "_deepnote_index_column": "(2021, 330)"
        },
        {
         "(MSP) UCI Porcentaje Ocupadas": 54,
         "(RPIS) UCI Porcentaje Ocupadas": 67,
         "(RPC) UCI Porcentaje Ocupadas": 18,
         "_deepnote_index_column": "(2021, 331)"
        },
        {
         "(MSP) UCI Porcentaje Ocupadas": 47,
         "(RPIS) UCI Porcentaje Ocupadas": 66,
         "(RPC) UCI Porcentaje Ocupadas": 18,
         "_deepnote_index_column": "(2021, 332)"
        },
        {
         "(MSP) UCI Porcentaje Ocupadas": 51,
         "(RPIS) UCI Porcentaje Ocupadas": 57,
         "(RPC) UCI Porcentaje Ocupadas": 19,
         "_deepnote_index_column": "(2021, 333)"
        },
        {
         "(MSP) UCI Porcentaje Ocupadas": 56,
         "(RPIS) UCI Porcentaje Ocupadas": 72,
         "(RPC) UCI Porcentaje Ocupadas": 21,
         "_deepnote_index_column": "(2021, 334)"
        },
        {
         "(MSP) UCI Porcentaje Ocupadas": 56,
         "(RPIS) UCI Porcentaje Ocupadas": 69,
         "(RPC) UCI Porcentaje Ocupadas": 19,
         "_deepnote_index_column": "(2021, 335)"
        },
        {
         "(MSP) UCI Porcentaje Ocupadas": 55,
         "(RPIS) UCI Porcentaje Ocupadas": 66,
         "(RPC) UCI Porcentaje Ocupadas": 20,
         "_deepnote_index_column": "(2021, 336)"
        },
        {
         "(MSP) UCI Porcentaje Ocupadas": 55,
         "(RPIS) UCI Porcentaje Ocupadas": 68,
         "(RPC) UCI Porcentaje Ocupadas": 21,
         "_deepnote_index_column": "(2021, 337)"
        },
        {
         "(MSP) UCI Porcentaje Ocupadas": 52,
         "(RPIS) UCI Porcentaje Ocupadas": 67,
         "(RPC) UCI Porcentaje Ocupadas": 23,
         "_deepnote_index_column": "(2021, 338)"
        },
        {
         "(MSP) UCI Porcentaje Ocupadas": 50,
         "(RPIS) UCI Porcentaje Ocupadas": 68,
         "(RPC) UCI Porcentaje Ocupadas": 21,
         "_deepnote_index_column": "(2021, 339)"
        },
        {
         "(MSP) UCI Porcentaje Ocupadas": 55,
         "(RPIS) UCI Porcentaje Ocupadas": 69,
         "(RPC) UCI Porcentaje Ocupadas": 20,
         "_deepnote_index_column": "(2021, 340)"
        },
        {
         "(MSP) UCI Porcentaje Ocupadas": 61,
         "(RPIS) UCI Porcentaje Ocupadas": 71,
         "(RPC) UCI Porcentaje Ocupadas": 19,
         "_deepnote_index_column": "(2021, 341)"
        },
        {
         "(MSP) UCI Porcentaje Ocupadas": 55,
         "(RPIS) UCI Porcentaje Ocupadas": 70,
         "(RPC) UCI Porcentaje Ocupadas": 22,
         "_deepnote_index_column": "(2021, 342)"
        }
       ],
       "rows_bottom": null
      },
      "text/plain": "                  (MSP) UCI Porcentaje Ocupadas  \\\nyear day_of_year                                  \n2021 182                                      0   \n     183                                      0   \n     184                                      0   \n     185                                      0   \n     186                                      0   \n...                                         ...   \n     338                                     52   \n     339                                     50   \n     340                                     55   \n     341                                     61   \n     342                                     55   \n\n                  (RPIS) UCI Porcentaje Ocupadas  \\\nyear day_of_year                                   \n2021 182                                       0   \n     183                                       0   \n     184                                       0   \n     185                                       0   \n     186                                       0   \n...                                          ...   \n     338                                      67   \n     339                                      68   \n     340                                      69   \n     341                                      71   \n     342                                      70   \n\n                  (RPC) UCI Porcentaje Ocupadas  \nyear day_of_year                                 \n2021 182                                      0  \n     183                                      0  \n     184                                      0  \n     185                                      0  \n     186                                      0  \n...                                         ...  \n     338                                     23  \n     339                                     21  \n     340                                     20  \n     341                                     19  \n     342                                     22  \n\n[161 rows x 3 columns]",
      "text/html": "<div>\n<style scoped>\n    .dataframe tbody tr th:only-of-type {\n        vertical-align: middle;\n    }\n\n    .dataframe tbody tr th {\n        vertical-align: top;\n    }\n\n    .dataframe thead th {\n        text-align: right;\n    }\n</style>\n<table border=\"1\" class=\"dataframe\">\n  <thead>\n    <tr style=\"text-align: right;\">\n      <th></th>\n      <th></th>\n      <th>(MSP) UCI Porcentaje Ocupadas</th>\n      <th>(RPIS) UCI Porcentaje Ocupadas</th>\n      <th>(RPC) UCI Porcentaje Ocupadas</th>\n    </tr>\n    <tr>\n      <th>year</th>\n      <th>day_of_year</th>\n      <th></th>\n      <th></th>\n      <th></th>\n    </tr>\n  </thead>\n  <tbody>\n    <tr>\n      <th rowspan=\"11\" valign=\"top\">2021</th>\n      <th>182</th>\n      <td>0</td>\n      <td>0</td>\n      <td>0</td>\n    </tr>\n    <tr>\n      <th>183</th>\n      <td>0</td>\n      <td>0</td>\n      <td>0</td>\n    </tr>\n    <tr>\n      <th>184</th>\n      <td>0</td>\n      <td>0</td>\n      <td>0</td>\n    </tr>\n    <tr>\n      <th>185</th>\n      <td>0</td>\n      <td>0</td>\n      <td>0</td>\n    </tr>\n    <tr>\n      <th>186</th>\n      <td>0</td>\n      <td>0</td>\n      <td>0</td>\n    </tr>\n    <tr>\n      <th>...</th>\n      <td>...</td>\n      <td>...</td>\n      <td>...</td>\n    </tr>\n    <tr>\n      <th>338</th>\n      <td>52</td>\n      <td>67</td>\n      <td>23</td>\n    </tr>\n    <tr>\n      <th>339</th>\n      <td>50</td>\n      <td>68</td>\n      <td>21</td>\n    </tr>\n    <tr>\n      <th>340</th>\n      <td>55</td>\n      <td>69</td>\n      <td>20</td>\n    </tr>\n    <tr>\n      <th>341</th>\n      <td>61</td>\n      <td>71</td>\n      <td>19</td>\n    </tr>\n    <tr>\n      <th>342</th>\n      <td>55</td>\n      <td>70</td>\n      <td>22</td>\n    </tr>\n  </tbody>\n</table>\n<p>161 rows × 3 columns</p>\n</div>"
     },
     "metadata": {}
    }
   ]
  },
  {
   "cell_type": "code",
   "metadata": {
    "tags": [],
    "cell_id": "00020-5c7aa150-7014-4370-a0f5-86d33ec08f59",
    "deepnote_to_be_reexecuted": false,
    "source_hash": "8f8bc29e",
    "execution_start": 1639504035027,
    "execution_millis": 187,
    "deepnote_output_heights": [
     411.1875
    ],
    "deepnote_cell_type": "code"
   },
   "source": "df = grouped_positives.merge(grouped_vaccinated, on=['year', 'day_of_year'], how='outer').merge(grouped_icu, on=['year', 'day_of_year'], how='outer')",
   "execution_count": null,
   "outputs": []
  },
  {
   "cell_type": "code",
   "metadata": {
    "tags": [],
    "cell_id": "00024-832b449f-aedb-4d18-adc4-51799f57a152",
    "deepnote_to_be_reexecuted": false,
    "source_hash": "f2f79983",
    "execution_start": 1639504039569,
    "execution_millis": 39,
    "deepnote_cell_type": "code"
   },
   "source": "sns.set_theme()",
   "execution_count": null,
   "outputs": []
  },
  {
   "cell_type": "code",
   "metadata": {
    "tags": [],
    "cell_id": "00025-083eefc0-a171-46c7-a7f6-ded596349d11",
    "deepnote_to_be_reexecuted": false,
    "source_hash": "4cf530ad",
    "execution_start": 1639496658903,
    "deepnote_output_heights": [
     21.1875,
     611
    ],
    "execution_millis": 19155,
    "deepnote_cell_type": "code"
   },
   "source": "sns.pairplot(df)",
   "execution_count": null,
   "outputs": [
    {
     "output_type": "execute_result",
     "execution_count": 23,
     "data": {
      "text/plain": "<seaborn.axisgrid.PairGrid at 0x7f9c93f194d0>"
     },
     "metadata": {}
    },
    {
     "data": {
      "text/plain": "<Figure size 1440x1440 with 72 Axes>",
      "image/png": "[encoded data removed]"
     },
     "metadata": {
      "image/png": {
       "width": 1431,
       "height": 1413
      }
     },
     "output_type": "display_data"
    }
   ]
  },
  {
   "cell_type": "markdown",
   "source": "### Handling missing data",
   "metadata": {
    "tags": [],
    "is_collapsed": false,
    "cell_id": "00027-d893b8d5-e5bb-4242-9131-114e430d463f",
    "deepnote_cell_type": "text-cell-h3"
   }
  },
  {
   "cell_type": "code",
   "metadata": {
    "tags": [],
    "cell_id": "00022-0dcd9849-dd59-426f-8311-b84501342152",
    "deepnote_to_be_reexecuted": false,
    "source_hash": "d0adb86",
    "execution_start": 1639499513713,
    "execution_millis": 885,
    "deepnote_output_heights": [
     213.125
    ],
    "deepnote_cell_type": "code"
   },
   "source": "df.reset_index().isnull().sum()",
   "execution_count": null,
   "outputs": [
    {
     "output_type": "execute_result",
     "execution_count": 44,
     "data": {
      "text/plain": "year                                0\nday_of_year                         0\nnuevas                              7\ndosis_total_diff                  407\nprimera_dosis_diff                407\nsegunda_dosis_diff                407\nrefuerzo_diff                     407\n(MSP) UCI Porcentaje Ocupadas     475\n(RPIS) UCI Porcentaje Ocupadas    475\n(RPC) UCI Porcentaje Ocupadas     475\ndtype: int64"
     },
     "metadata": {}
    }
   ]
  },
  {
   "cell_type": "markdown",
   "source": "There's a lot of missing data. But it can be handled without dropping rows nor columns. Let's visualize missing data so as to have a better idea of this.",
   "metadata": {
    "tags": [],
    "cell_id": "00029-2dc0b3e4-ec60-4cd2-92d5-f3a917d0fcbe",
    "deepnote_cell_type": "markdown"
   }
  },
  {
   "cell_type": "code",
   "metadata": {
    "tags": [],
    "cell_id": "00027-a8a74697-5b21-4d8a-af66-0e5399ac410d",
    "deepnote_to_be_reexecuted": false,
    "source_hash": "407552c2",
    "execution_start": 1639497195531,
    "execution_millis": 1,
    "deepnote_cell_type": "code"
   },
   "source": "import missingno as msno",
   "execution_count": null,
   "outputs": []
  },
  {
   "cell_type": "code",
   "metadata": {
    "tags": [],
    "cell_id": "00028-c065c793-c6b7-41c4-a031-f1724c98aedc",
    "deepnote_to_be_reexecuted": false,
    "source_hash": "fafbd8a3",
    "execution_start": 1639497203802,
    "execution_millis": 678,
    "deepnote_output_heights": [
     21.1875,
     413.25
    ],
    "deepnote_cell_type": "code"
   },
   "source": "msno.matrix(df)",
   "execution_count": null,
   "outputs": [
    {
     "output_type": "execute_result",
     "execution_count": 27,
     "data": {
      "text/plain": "<AxesSubplot:>"
     },
     "metadata": {}
    },
    {
     "data": {
      "text/plain": "<Figure size 1800x720 with 2 Axes>",
      "image/png": "[encoded data removed]"
     },
     "metadata": {
      "image/png": {
       "width": 1466,
       "height": 769
      }
     },
     "output_type": "display_data"
    }
   ]
  },
  {
   "cell_type": "code",
   "metadata": {
    "tags": [],
    "cell_id": "00029-2980a10b-cc5f-43fe-9cc8-f017d4c8bd12",
    "deepnote_to_be_reexecuted": false,
    "source_hash": "fafbd8a3",
    "execution_start": 1639500024111,
    "execution_millis": 992,
    "deepnote_output_heights": [
     21.1875,
     413.25
    ],
    "deepnote_cell_type": "code"
   },
   "source": "msno.matrix(df)",
   "execution_count": null,
   "outputs": [
    {
     "output_type": "execute_result",
     "execution_count": 60,
     "data": {
      "text/plain": "<AxesSubplot:>"
     },
     "metadata": {}
    },
    {
     "data": {
      "text/plain": "<Figure size 1800x720 with 2 Axes>",
      "image/png": "[encoded data removed]"
     },
     "metadata": {
      "image/png": {
       "width": 1466,
       "height": 769
      }
     },
     "output_type": "display_data"
    }
   ]
  },
  {
   "cell_type": "markdown",
   "source": "Data imputation techniques: http://www.stat.columbia.edu/~gelman/arm/missing.pdf",
   "metadata": {
    "tags": [],
    "cell_id": "00023-46878fcd-79dc-45df-8654-80bea699cea8",
    "deepnote_cell_type": "markdown"
   }
  },
  {
   "cell_type": "markdown",
   "source": "As we can see there's a lot of missing data and this can bias our model. But, we can easily fill those gaps, but how? What criteria will we use?\n\n* Doses missing data are 0. It's because there wasn't vaccines during those days.\n* UCI capacity missing data are 100. There was a collapse of health system, but this data is not recorded here. Anyway, those values won't be replaced with 100, since we couldn't find a reliable source.\n* For new infections I will use the median, so I won't bias this variable.\n",
   "metadata": {
    "tags": [],
    "cell_id": "00030-6be2f02f-4392-44d1-9d6b-ab8d2b46e187",
    "deepnote_cell_type": "markdown"
   }
  },
  {
   "cell_type": "code",
   "metadata": {
    "tags": [],
    "cell_id": "00031-4802fe43-fea0-4682-84b2-89377a9c3e28",
    "deepnote_to_be_reexecuted": false,
    "source_hash": "b1053d47",
    "execution_start": 1639504090515,
    "execution_millis": 257,
    "deepnote_output_heights": [
     411.1875
    ],
    "deepnote_cell_type": "code"
   },
   "source": "df[['nuevas']] = df[['nuevas']].fillna(np.nanmedian(df.nuevas))",
   "execution_count": null,
   "outputs": []
  },
  {
   "cell_type": "code",
   "metadata": {
    "tags": [],
    "cell_id": "00033-5fa89863-daa8-4321-ad50-37ffee0adfa2",
    "deepnote_to_be_reexecuted": false,
    "source_hash": "929681a4",
    "execution_start": 1639504121426,
    "execution_millis": 175,
    "deepnote_cell_type": "code"
   },
   "source": "df[['dosis_total_diff', 'primera_dosis_diff', 'segunda_dosis_diff', 'refuerzo_diff']] = df[['dosis_total_diff', 'primera_dosis_diff', 'segunda_dosis_diff', 'refuerzo_diff']].fillna(0)",
   "execution_count": null,
   "outputs": []
  },
  {
   "cell_type": "code",
   "metadata": {
    "tags": [],
    "cell_id": "00023-9ad768a8-03c4-4a4d-847e-30f2132e360b",
    "deepnote_to_be_reexecuted": false,
    "source_hash": "9305416a",
    "execution_start": 1639501109789,
    "execution_millis": 1381,
    "deepnote_output_heights": [
     21.1875,
     281
    ],
    "deepnote_cell_type": "code"
   },
   "source": "df.plot()",
   "execution_count": null,
   "outputs": [
    {
     "output_type": "execute_result",
     "execution_count": 64,
     "data": {
      "text/plain": "<AxesSubplot:xlabel='year,day_of_year'>"
     },
     "metadata": {}
    },
    {
     "data": {
      "text/plain": "<Figure size 432x288 with 1 Axes>",
      "image/png": "[encoded data removed]"
     },
     "metadata": {
      "image/png": {
       "width": 376,
       "height": 279
      }
     },
     "output_type": "display_data"
    }
   ]
  },
  {
   "cell_type": "markdown",
   "source": "### Export data",
   "metadata": {
    "tags": [],
    "is_collapsed": false,
    "cell_id": "00038-dd44ce7e-11f0-4dfc-b7b9-88f2f4ab5929",
    "deepnote_cell_type": "text-cell-h3"
   }
  },
  {
   "cell_type": "code",
   "metadata": {
    "tags": [],
    "cell_id": "00043-8ae466bb-f7bd-48c9-aa77-a93ed66a0aca",
    "deepnote_to_be_reexecuted": false,
    "source_hash": "1a8d09bd",
    "execution_start": 1639504288978,
    "execution_millis": 437,
    "deepnote_output_heights": [
     174.734375
    ],
    "deepnote_cell_type": "code"
   },
   "source": "df.to_csv('/work/covid-19_ecuador/data/interim/df_unified.csv', index=False)",
   "execution_count": null,
   "outputs": []
  },
  {
   "cell_type": "code",
   "metadata": {
    "tags": [],
    "cell_id": "00044-572f9dc5-4127-4403-9f8f-9370735d3716",
    "deepnote_to_be_reexecuted": false,
    "source_hash": "25526ea2",
    "execution_start": 1639504321973,
    "execution_millis": 47,
    "deepnote_cell_type": "code"
   },
   "source": "df_icu_unified = df.dropna()",
   "execution_count": null,
   "outputs": []
  },
  {
   "cell_type": "code",
   "metadata": {
    "tags": [],
    "cell_id": "00045-94bd7aec-1117-4570-b8a7-d251ffe2743e",
    "deepnote_to_be_reexecuted": false,
    "source_hash": "ceb6d2f6",
    "execution_start": 1639504363172,
    "execution_millis": 440,
    "deepnote_cell_type": "code"
   },
   "source": "df_icu_unified.to_csv('/work/covid-19_ecuador/data/interim/df_icu_unified.csv', index=False)",
   "execution_count": null,
   "outputs": []
  },
  {
   "cell_type": "markdown",
   "source": "<a style='text-decoration:none;line-height:16px;display:flex;color:#5B5B62;padding:10px;justify-content:end;' href='https://deepnote.com?utm_source=created-in-deepnote-cell&projectId=298bb443-d8b3-4731-ae95-ca4418ea078f' target=\"_blank\">\n<img alt='Created in deepnote.com' style='display:inline;max-height:16px;margin:0px;margin-right:7.5px;' src='data:image/svg+xml;base64,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' > </img>\nCreated in <span style='font-weight:600;margin-left:4px;'>Deepnote</span></a>",
   "metadata": {
    "tags": [],
    "created_in_deepnote_cell": true,
    "deepnote_cell_type": "markdown"
   }
  }
 ],
 "nbformat": 4,
 "nbformat_minor": 2,
 "metadata": {
  "orig_nbformat": 2,
  "deepnote": {
   "is_reactive": false
  },
  "deepnote_notebook_id": "a0bb2089-4f8a-4194-81ca-e7be5fff8cb1",
  "deepnote_execution_queue": []
 }
}