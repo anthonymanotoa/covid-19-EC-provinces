{
 "cells": [
  {
   "cell_type": "markdown",
   "source": "# Exploration: Ecuacovid",
   "metadata": {
    "tags": [],
    "is_collapsed": false,
    "cell_id": "00000-7d88ba55-9751-454d-9e8b-dca227ba92e5",
    "deepnote_cell_type": "text-cell-h1"
   }
  },
  {
   "cell_type": "markdown",
   "source": "Here I briefly take a look to tests.",
   "metadata": {
    "tags": [],
    "cell_id": "00001-e91a0c4e-931e-4862-ac2a-34e2806c26a0",
    "deepnote_cell_type": "markdown"
   }
  },
  {
   "cell_type": "code",
   "metadata": {
    "tags": [],
    "cell_id": "00000-2830c466-c03d-4ba6-b35b-70aab955ea1d",
    "deepnote_to_be_reexecuted": false,
    "source_hash": "2f19d1f9",
    "execution_start": 1639060186564,
    "execution_millis": 46,
    "deepnote_cell_type": "code"
   },
   "source": "%load_ext autoreload\n%autoreload 2",
   "execution_count": null,
   "outputs": []
  },
  {
   "cell_type": "code",
   "metadata": {
    "tags": [],
    "cell_id": "00002-c75565a4-bb20-4d87-ac29-c9eeb88a21c7",
    "deepnote_to_be_reexecuted": false,
    "source_hash": "c516df8c",
    "execution_start": 1639060189081,
    "execution_millis": 1942,
    "deepnote_cell_type": "code"
   },
   "source": "#libs\nimport pandas as pd\nimport numpy as np\nimport matplotlib.pyplot as plt\nimport seaborn as sns",
   "execution_count": null,
   "outputs": []
  },
  {
   "cell_type": "code",
   "metadata": {
    "tags": [],
    "cell_id": "00003-410800f9-41b4-42dd-93fe-7be9488036c8",
    "deepnote_to_be_reexecuted": false,
    "source_hash": "b07e2e01",
    "execution_start": 1639060191031,
    "execution_millis": 50,
    "deepnote_cell_type": "code"
   },
   "source": "df_ecuacovid = pd.read_csv('/work/covid-19_ecuador/data/processed/ecuacovid.csv')",
   "execution_count": null,
   "outputs": []
  },
  {
   "cell_type": "code",
   "metadata": {
    "tags": [],
    "cell_id": "00004-83efadb9-e2f3-4fb0-90b8-b88ba2e04aa4",
    "deepnote_to_be_reexecuted": false,
    "source_hash": "ff6c40ef",
    "execution_start": 1639060194434,
    "execution_millis": 278,
    "deepnote_output_heights": [
     208.1875
    ],
    "deepnote_cell_type": "code"
   },
   "source": "df_ecuacovid.head()",
   "execution_count": null,
   "outputs": [
    {
     "output_type": "execute_result",
     "execution_count": 4,
     "data": {
      "application/vnd.deepnote.dataframe.v2+json": {
       "row_count": 5,
       "column_count": 76,
       "columns": [
        {
         "name": "created_at",
         "dtype": "object",
         "stats": {
          "unique_count": 5,
          "nan_count": 0,
          "categories": [
           {
            "name": "2020-03-13",
            "count": 1
           },
           {
            "name": "2020-03-14",
            "count": 1
           },
           {
            "name": "3 others",
            "count": 3
           }
          ]
         }
        },
        {
         "name": "muestras",
         "dtype": "int64",
         "stats": {
          "unique_count": 5,
          "nan_count": 0,
          "min": "129",
          "max": "762",
          "histogram": [
           {
            "bin_start": 129,
            "bin_end": 192.3,
            "count": 1
           },
           {
            "bin_start": 192.3,
            "bin_end": 255.6,
            "count": 1
           },
           {
            "bin_start": 255.6,
            "bin_end": 318.9,
            "count": 1
           },
           {
            "bin_start": 318.9,
            "bin_end": 382.2,
            "count": 1
           },
           {
            "bin_start": 382.2,
            "bin_end": 445.5,
            "count": 0
           },
           {
            "bin_start": 445.5,
            "bin_end": 508.79999999999995,
            "count": 0
           },
           {
            "bin_start": 508.79999999999995,
            "bin_end": 572.0999999999999,
            "count": 0
           },
           {
            "bin_start": 572.0999999999999,
            "bin_end": 635.4,
            "count": 0
           },
           {
            "bin_start": 635.4,
            "bin_end": 698.6999999999999,
            "count": 0
           },
           {
            "bin_start": 698.6999999999999,
            "bin_end": 762,
            "count": 1
           }
          ]
         }
        },
        {
         "name": "muestras_pcr",
         "dtype": "int64",
         "stats": {
          "unique_count": 5,
          "nan_count": 0,
          "min": "129",
          "max": "762",
          "histogram": [
           {
            "bin_start": 129,
            "bin_end": 192.3,
            "count": 1
           },
           {
            "bin_start": 192.3,
            "bin_end": 255.6,
            "count": 1
           },
           {
            "bin_start": 255.6,
            "bin_end": 318.9,
            "count": 1
           },
           {
            "bin_start": 318.9,
            "bin_end": 382.2,
            "count": 1
           },
           {
            "bin_start": 382.2,
            "bin_end": 445.5,
            "count": 0
           },
           {
            "bin_start": 445.5,
            "bin_end": 508.79999999999995,
            "count": 0
           },
           {
            "bin_start": 508.79999999999995,
            "bin_end": 572.0999999999999,
            "count": 0
           },
           {
            "bin_start": 572.0999999999999,
            "bin_end": 635.4,
            "count": 0
           },
           {
            "bin_start": 635.4,
            "bin_end": 698.6999999999999,
            "count": 0
           },
           {
            "bin_start": 698.6999999999999,
            "bin_end": 762,
            "count": 1
           }
          ]
         }
        },
        {
         "name": "positivas_total",
         "dtype": "int64",
         "stats": {
          "unique_count": 1,
          "nan_count": 0,
          "min": "0",
          "max": "0",
          "histogram": [
           {
            "bin_start": -0.5,
            "bin_end": -0.4,
            "count": 0
           },
           {
            "bin_start": -0.4,
            "bin_end": -0.3,
            "count": 0
           },
           {
            "bin_start": -0.3,
            "bin_end": -0.19999999999999996,
            "count": 0
           },
           {
            "bin_start": -0.19999999999999996,
            "bin_end": -0.09999999999999998,
            "count": 0
           },
           {
            "bin_start": -0.09999999999999998,
            "bin_end": 0,
            "count": 0
           },
           {
            "bin_start": 0,
            "bin_end": 0.10000000000000009,
            "count": 5
           },
           {
            "bin_start": 0.10000000000000009,
            "bin_end": 0.20000000000000007,
            "count": 0
           },
           {
            "bin_start": 0.20000000000000007,
            "bin_end": 0.30000000000000004,
            "count": 0
           },
           {
            "bin_start": 0.30000000000000004,
            "bin_end": 0.4,
            "count": 0
           },
           {
            "bin_start": 0.4,
            "bin_end": 0.5,
            "count": 0
           }
          ]
         }
        },
        {
         "name": "positivas_probables",
         "dtype": "int64",
         "stats": {
          "unique_count": 1,
          "nan_count": 0,
          "min": "0",
          "max": "0",
          "histogram": [
           {
            "bin_start": -0.5,
            "bin_end": -0.4,
            "count": 0
           },
           {
            "bin_start": -0.4,
            "bin_end": -0.3,
            "count": 0
           },
           {
            "bin_start": -0.3,
            "bin_end": -0.19999999999999996,
            "count": 0
           },
           {
            "bin_start": -0.19999999999999996,
            "bin_end": -0.09999999999999998,
            "count": 0
           },
           {
            "bin_start": -0.09999999999999998,
            "bin_end": 0,
            "count": 0
           },
           {
            "bin_start": 0,
            "bin_end": 0.10000000000000009,
            "count": 5
           },
           {
            "bin_start": 0.10000000000000009,
            "bin_end": 0.20000000000000007,
            "count": 0
           },
           {
            "bin_start": 0.20000000000000007,
            "bin_end": 0.30000000000000004,
            "count": 0
           },
           {
            "bin_start": 0.30000000000000004,
            "bin_end": 0.4,
            "count": 0
           },
           {
            "bin_start": 0.4,
            "bin_end": 0.5,
            "count": 0
           }
          ]
         }
        },
        {
         "name": "muestras_pcr_nuevas",
         "dtype": "int64",
         "stats": {
          "unique_count": 5,
          "nan_count": 0,
          "min": "0",
          "max": "408",
          "histogram": [
           {
            "bin_start": 0,
            "bin_end": 40.8,
            "count": 1
           },
           {
            "bin_start": 40.8,
            "bin_end": 81.6,
            "count": 3
           },
           {
            "bin_start": 81.6,
            "bin_end": 122.39999999999999,
            "count": 0
           },
           {
            "bin_start": 122.39999999999999,
            "bin_end": 163.2,
            "count": 0
           },
           {
            "bin_start": 163.2,
            "bin_end": 204,
            "count": 0
           },
           {
            "bin_start": 204,
            "bin_end": 244.79999999999998,
            "count": 0
           },
           {
            "bin_start": 244.79999999999998,
            "bin_end": 285.59999999999997,
            "count": 0
           },
           {
            "bin_start": 285.59999999999997,
            "bin_end": 326.4,
            "count": 0
           },
           {
            "bin_start": 326.4,
            "bin_end": 367.2,
            "count": 0
           },
           {
            "bin_start": 367.2,
            "bin_end": 408,
            "count": 1
           }
          ]
         }
        },
        {
         "name": "pruebas_rezagadas",
         "dtype": "int64",
         "stats": {
          "unique_count": 5,
          "nan_count": 0,
          "min": "106",
          "max": "651",
          "histogram": [
           {
            "bin_start": 106,
            "bin_end": 160.5,
            "count": 1
           },
           {
            "bin_start": 160.5,
            "bin_end": 215,
            "count": 1
           },
           {
            "bin_start": 215,
            "bin_end": 269.5,
            "count": 1
           },
           {
            "bin_start": 269.5,
            "bin_end": 324,
            "count": 1
           },
           {
            "bin_start": 324,
            "bin_end": 378.5,
            "count": 0
           },
           {
            "bin_start": 378.5,
            "bin_end": 433,
            "count": 0
           },
           {
            "bin_start": 433,
            "bin_end": 487.5,
            "count": 0
           },
           {
            "bin_start": 487.5,
            "bin_end": 542,
            "count": 0
           },
           {
            "bin_start": 542,
            "bin_end": 596.5,
            "count": 0
           },
           {
            "bin_start": 596.5,
            "bin_end": 651,
            "count": 1
           }
          ]
         }
        },
        {
         "name": "muertes_confirmadas",
         "dtype": "int64",
         "stats": {
          "unique_count": 2,
          "nan_count": 0,
          "min": "1",
          "max": "2",
          "histogram": [
           {
            "bin_start": 1,
            "bin_end": 1.1,
            "count": 1
           },
           {
            "bin_start": 1.1,
            "bin_end": 1.2,
            "count": 0
           },
           {
            "bin_start": 1.2,
            "bin_end": 1.3,
            "count": 0
           },
           {
            "bin_start": 1.3,
            "bin_end": 1.4,
            "count": 0
           },
           {
            "bin_start": 1.4,
            "bin_end": 1.5,
            "count": 0
           },
           {
            "bin_start": 1.5,
            "bin_end": 1.6,
            "count": 0
           },
           {
            "bin_start": 1.6,
            "bin_end": 1.7000000000000002,
            "count": 0
           },
           {
            "bin_start": 1.7000000000000002,
            "bin_end": 1.8,
            "count": 0
           },
           {
            "bin_start": 1.8,
            "bin_end": 1.9,
            "count": 0
           },
           {
            "bin_start": 1.9,
            "bin_end": 2,
            "count": 4
           }
          ]
         }
        },
        {
         "name": "muertes_probables",
         "dtype": "int64",
         "stats": {
          "unique_count": 1,
          "nan_count": 0,
          "min": "0",
          "max": "0",
          "histogram": [
           {
            "bin_start": -0.5,
            "bin_end": -0.4,
            "count": 0
           },
           {
            "bin_start": -0.4,
            "bin_end": -0.3,
            "count": 0
           },
           {
            "bin_start": -0.3,
            "bin_end": -0.19999999999999996,
            "count": 0
           },
           {
            "bin_start": -0.19999999999999996,
            "bin_end": -0.09999999999999998,
            "count": 0
           },
           {
            "bin_start": -0.09999999999999998,
            "bin_end": 0,
            "count": 0
           },
           {
            "bin_start": 0,
            "bin_end": 0.10000000000000009,
            "count": 5
           },
           {
            "bin_start": 0.10000000000000009,
            "bin_end": 0.20000000000000007,
            "count": 0
           },
           {
            "bin_start": 0.20000000000000007,
            "bin_end": 0.30000000000000004,
            "count": 0
           },
           {
            "bin_start": 0.30000000000000004,
            "bin_end": 0.4,
            "count": 0
           },
           {
            "bin_start": 0.4,
            "bin_end": 0.5,
            "count": 0
           }
          ]
         }
        },
        {
         "name": "muertes",
         "dtype": "int64",
         "stats": {
          "unique_count": 2,
          "nan_count": 0,
          "min": "1",
          "max": "2",
          "histogram": [
           {
            "bin_start": 1,
            "bin_end": 1.1,
            "count": 1
           },
           {
            "bin_start": 1.1,
            "bin_end": 1.2,
            "count": 0
           },
           {
            "bin_start": 1.2,
            "bin_end": 1.3,
            "count": 0
           },
           {
            "bin_start": 1.3,
            "bin_end": 1.4,
            "count": 0
           },
           {
            "bin_start": 1.4,
            "bin_end": 1.5,
            "count": 0
           },
           {
            "bin_start": 1.5,
            "bin_end": 1.6,
            "count": 0
           },
           {
            "bin_start": 1.6,
            "bin_end": 1.7000000000000002,
            "count": 0
           },
           {
            "bin_start": 1.7000000000000002,
            "bin_end": 1.8,
            "count": 0
           },
           {
            "bin_start": 1.8,
            "bin_end": 1.9,
            "count": 0
           },
           {
            "bin_start": 1.9,
            "bin_end": 2,
            "count": 4
           }
          ]
         }
        },
        {
         "name": "muertes_nuevas",
         "dtype": "int64",
         "stats": {
          "unique_count": 2,
          "nan_count": 0,
          "min": "0",
          "max": "1",
          "histogram": [
           {
            "bin_start": 0,
            "bin_end": 0.1,
            "count": 4
           },
           {
            "bin_start": 0.1,
            "bin_end": 0.2,
            "count": 0
           },
           {
            "bin_start": 0.2,
            "bin_end": 0.30000000000000004,
            "count": 0
           },
           {
            "bin_start": 0.30000000000000004,
            "bin_end": 0.4,
            "count": 0
           },
           {
            "bin_start": 0.4,
            "bin_end": 0.5,
            "count": 0
           },
           {
            "bin_start": 0.5,
            "bin_end": 0.6000000000000001,
            "count": 0
           },
           {
            "bin_start": 0.6000000000000001,
            "bin_end": 0.7000000000000001,
            "count": 0
           },
           {
            "bin_start": 0.7000000000000001,
            "bin_end": 0.8,
            "count": 0
           },
           {
            "bin_start": 0.8,
            "bin_end": 0.9,
            "count": 0
           },
           {
            "bin_start": 0.9,
            "bin_end": 1,
            "count": 1
           }
          ]
         }
        },
        {
         "name": "positivas",
         "dtype": "int64",
         "stats": {
          "unique_count": 5,
          "nan_count": 0,
          "min": "23",
          "max": "111",
          "histogram": [
           {
            "bin_start": 23,
            "bin_end": 31.8,
            "count": 2
           },
           {
            "bin_start": 31.8,
            "bin_end": 40.6,
            "count": 1
           },
           {
            "bin_start": 40.6,
            "bin_end": 49.400000000000006,
            "count": 0
           },
           {
            "bin_start": 49.400000000000006,
            "bin_end": 58.2,
            "count": 1
           },
           {
            "bin_start": 58.2,
            "bin_end": 67,
            "count": 0
           },
           {
            "bin_start": 67,
            "bin_end": 75.80000000000001,
            "count": 0
           },
           {
            "bin_start": 75.80000000000001,
            "bin_end": 84.60000000000001,
            "count": 0
           },
           {
            "bin_start": 84.60000000000001,
            "bin_end": 93.4,
            "count": 0
           },
           {
            "bin_start": 93.4,
            "bin_end": 102.2,
            "count": 0
           },
           {
            "bin_start": 102.2,
            "bin_end": 111,
            "count": 1
           }
          ]
         }
        },
        {
         "name": "positivas_pcr",
         "dtype": "int64",
         "stats": {
          "unique_count": 5,
          "nan_count": 0,
          "min": "23",
          "max": "111",
          "histogram": [
           {
            "bin_start": 23,
            "bin_end": 31.8,
            "count": 2
           },
           {
            "bin_start": 31.8,
            "bin_end": 40.6,
            "count": 1
           },
           {
            "bin_start": 40.6,
            "bin_end": 49.400000000000006,
            "count": 0
           },
           {
            "bin_start": 49.400000000000006,
            "bin_end": 58.2,
            "count": 1
           },
           {
            "bin_start": 58.2,
            "bin_end": 67,
            "count": 0
           },
           {
            "bin_start": 67,
            "bin_end": 75.80000000000001,
            "count": 0
           },
           {
            "bin_start": 75.80000000000001,
            "bin_end": 84.60000000000001,
            "count": 0
           },
           {
            "bin_start": 84.60000000000001,
            "bin_end": 93.4,
            "count": 0
           },
           {
            "bin_start": 93.4,
            "bin_end": 102.2,
            "count": 0
           },
           {
            "bin_start": 102.2,
            "bin_end": 111,
            "count": 1
           }
          ]
         }
        },
        {
         "name": "positivas_pcr_nuevas",
         "dtype": "int64",
         "stats": {
          "unique_count": 5,
          "nan_count": 0,
          "min": "0",
          "max": "53",
          "histogram": [
           {
            "bin_start": 0,
            "bin_end": 5.3,
            "count": 2
           },
           {
            "bin_start": 5.3,
            "bin_end": 10.6,
            "count": 1
           },
           {
            "bin_start": 10.6,
            "bin_end": 15.899999999999999,
            "count": 0
           },
           {
            "bin_start": 15.899999999999999,
            "bin_end": 21.2,
            "count": 1
           },
           {
            "bin_start": 21.2,
            "bin_end": 26.5,
            "count": 0
           },
           {
            "bin_start": 26.5,
            "bin_end": 31.799999999999997,
            "count": 0
           },
           {
            "bin_start": 31.799999999999997,
            "bin_end": 37.1,
            "count": 0
           },
           {
            "bin_start": 37.1,
            "bin_end": 42.4,
            "count": 0
           },
           {
            "bin_start": 42.4,
            "bin_end": 47.699999999999996,
            "count": 0
           },
           {
            "bin_start": 47.699999999999996,
            "bin_end": 53,
            "count": 1
           }
          ]
         }
        },
        {
         "name": "positivas_pcr_mujer",
         "dtype": "int64",
         "stats": {
          "unique_count": 1,
          "nan_count": 0,
          "min": "0",
          "max": "0",
          "histogram": [
           {
            "bin_start": -0.5,
            "bin_end": -0.4,
            "count": 0
           },
           {
            "bin_start": -0.4,
            "bin_end": -0.3,
            "count": 0
           },
           {
            "bin_start": -0.3,
            "bin_end": -0.19999999999999996,
            "count": 0
           },
           {
            "bin_start": -0.19999999999999996,
            "bin_end": -0.09999999999999998,
            "count": 0
           },
           {
            "bin_start": -0.09999999999999998,
            "bin_end": 0,
            "count": 0
           },
           {
            "bin_start": 0,
            "bin_end": 0.10000000000000009,
            "count": 5
           },
           {
            "bin_start": 0.10000000000000009,
            "bin_end": 0.20000000000000007,
            "count": 0
           },
           {
            "bin_start": 0.20000000000000007,
            "bin_end": 0.30000000000000004,
            "count": 0
           },
           {
            "bin_start": 0.30000000000000004,
            "bin_end": 0.4,
            "count": 0
           },
           {
            "bin_start": 0.4,
            "bin_end": 0.5,
            "count": 0
           }
          ]
         }
        },
        {
         "name": "positivas_pcr_hombre",
         "dtype": "int64",
         "stats": {
          "unique_count": 1,
          "nan_count": 0,
          "min": "0",
          "max": "0",
          "histogram": [
           {
            "bin_start": -0.5,
            "bin_end": -0.4,
            "count": 0
           },
           {
            "bin_start": -0.4,
            "bin_end": -0.3,
            "count": 0
           },
           {
            "bin_start": -0.3,
            "bin_end": -0.19999999999999996,
            "count": 0
           },
           {
            "bin_start": -0.19999999999999996,
            "bin_end": -0.09999999999999998,
            "count": 0
           },
           {
            "bin_start": -0.09999999999999998,
            "bin_end": 0,
            "count": 0
           },
           {
            "bin_start": 0,
            "bin_end": 0.10000000000000009,
            "count": 5
           },
           {
            "bin_start": 0.10000000000000009,
            "bin_end": 0.20000000000000007,
            "count": 0
           },
           {
            "bin_start": 0.20000000000000007,
            "bin_end": 0.30000000000000004,
            "count": 0
           },
           {
            "bin_start": 0.30000000000000004,
            "bin_end": 0.4,
            "count": 0
           },
           {
            "bin_start": 0.4,
            "bin_end": 0.5,
            "count": 0
           }
          ]
         }
        },
        {
         "name": "positivas_pcr_hombre_edades_meses",
         "dtype": "int64",
         "stats": {
          "unique_count": 1,
          "nan_count": 0,
          "min": "0",
          "max": "0",
          "histogram": [
           {
            "bin_start": -0.5,
            "bin_end": -0.4,
            "count": 0
           },
           {
            "bin_start": -0.4,
            "bin_end": -0.3,
            "count": 0
           },
           {
            "bin_start": -0.3,
            "bin_end": -0.19999999999999996,
            "count": 0
           },
           {
            "bin_start": -0.19999999999999996,
            "bin_end": -0.09999999999999998,
            "count": 0
           },
           {
            "bin_start": -0.09999999999999998,
            "bin_end": 0,
            "count": 0
           },
           {
            "bin_start": 0,
            "bin_end": 0.10000000000000009,
            "count": 5
           },
           {
            "bin_start": 0.10000000000000009,
            "bin_end": 0.20000000000000007,
            "count": 0
           },
           {
            "bin_start": 0.20000000000000007,
            "bin_end": 0.30000000000000004,
            "count": 0
           },
           {
            "bin_start": 0.30000000000000004,
            "bin_end": 0.4,
            "count": 0
           },
           {
            "bin_start": 0.4,
            "bin_end": 0.5,
            "count": 0
           }
          ]
         }
        },
        {
         "name": "positivas_pcr_hombre_edades_0a4",
         "dtype": "int64",
         "stats": {
          "unique_count": 1,
          "nan_count": 0,
          "min": "0",
          "max": "0",
          "histogram": [
           {
            "bin_start": -0.5,
            "bin_end": -0.4,
            "count": 0
           },
           {
            "bin_start": -0.4,
            "bin_end": -0.3,
            "count": 0
           },
           {
            "bin_start": -0.3,
            "bin_end": -0.19999999999999996,
            "count": 0
           },
           {
            "bin_start": -0.19999999999999996,
            "bin_end": -0.09999999999999998,
            "count": 0
           },
           {
            "bin_start": -0.09999999999999998,
            "bin_end": 0,
            "count": 0
           },
           {
            "bin_start": 0,
            "bin_end": 0.10000000000000009,
            "count": 5
           },
           {
            "bin_start": 0.10000000000000009,
            "bin_end": 0.20000000000000007,
            "count": 0
           },
           {
            "bin_start": 0.20000000000000007,
            "bin_end": 0.30000000000000004,
            "count": 0
           },
           {
            "bin_start": 0.30000000000000004,
            "bin_end": 0.4,
            "count": 0
           },
           {
            "bin_start": 0.4,
            "bin_end": 0.5,
            "count": 0
           }
          ]
         }
        },
        {
         "name": "positivas_pcr_hombre_edades_5a9",
         "dtype": "int64",
         "stats": {
          "unique_count": 1,
          "nan_count": 0,
          "min": "0",
          "max": "0",
          "histogram": [
           {
            "bin_start": -0.5,
            "bin_end": -0.4,
            "count": 0
           },
           {
            "bin_start": -0.4,
            "bin_end": -0.3,
            "count": 0
           },
           {
            "bin_start": -0.3,
            "bin_end": -0.19999999999999996,
            "count": 0
           },
           {
            "bin_start": -0.19999999999999996,
            "bin_end": -0.09999999999999998,
            "count": 0
           },
           {
            "bin_start": -0.09999999999999998,
            "bin_end": 0,
            "count": 0
           },
           {
            "bin_start": 0,
            "bin_end": 0.10000000000000009,
            "count": 5
           },
           {
            "bin_start": 0.10000000000000009,
            "bin_end": 0.20000000000000007,
            "count": 0
           },
           {
            "bin_start": 0.20000000000000007,
            "bin_end": 0.30000000000000004,
            "count": 0
           },
           {
            "bin_start": 0.30000000000000004,
            "bin_end": 0.4,
            "count": 0
           },
           {
            "bin_start": 0.4,
            "bin_end": 0.5,
            "count": 0
           }
          ]
         }
        },
        {
         "name": "positivas_pcr_hombre_edades_10a14",
         "dtype": "int64",
         "stats": {
          "unique_count": 1,
          "nan_count": 0,
          "min": "0",
          "max": "0",
          "histogram": [
           {
            "bin_start": -0.5,
            "bin_end": -0.4,
            "count": 0
           },
           {
            "bin_start": -0.4,
            "bin_end": -0.3,
            "count": 0
           },
           {
            "bin_start": -0.3,
            "bin_end": -0.19999999999999996,
            "count": 0
           },
           {
            "bin_start": -0.19999999999999996,
            "bin_end": -0.09999999999999998,
            "count": 0
           },
           {
            "bin_start": -0.09999999999999998,
            "bin_end": 0,
            "count": 0
           },
           {
            "bin_start": 0,
            "bin_end": 0.10000000000000009,
            "count": 5
           },
           {
            "bin_start": 0.10000000000000009,
            "bin_end": 0.20000000000000007,
            "count": 0
           },
           {
            "bin_start": 0.20000000000000007,
            "bin_end": 0.30000000000000004,
            "count": 0
           },
           {
            "bin_start": 0.30000000000000004,
            "bin_end": 0.4,
            "count": 0
           },
           {
            "bin_start": 0.4,
            "bin_end": 0.5,
            "count": 0
           }
          ]
         }
        },
        {
         "name": "positivas_pcr_hombre_edades_15a19",
         "dtype": "int64",
         "stats": {
          "unique_count": 1,
          "nan_count": 0,
          "min": "0",
          "max": "0",
          "histogram": [
           {
            "bin_start": -0.5,
            "bin_end": -0.4,
            "count": 0
           },
           {
            "bin_start": -0.4,
            "bin_end": -0.3,
            "count": 0
           },
           {
            "bin_start": -0.3,
            "bin_end": -0.19999999999999996,
            "count": 0
           },
           {
            "bin_start": -0.19999999999999996,
            "bin_end": -0.09999999999999998,
            "count": 0
           },
           {
            "bin_start": -0.09999999999999998,
            "bin_end": 0,
            "count": 0
           },
           {
            "bin_start": 0,
            "bin_end": 0.10000000000000009,
            "count": 5
           },
           {
            "bin_start": 0.10000000000000009,
            "bin_end": 0.20000000000000007,
            "count": 0
           },
           {
            "bin_start": 0.20000000000000007,
            "bin_end": 0.30000000000000004,
            "count": 0
           },
           {
            "bin_start": 0.30000000000000004,
            "bin_end": 0.4,
            "count": 0
           },
           {
            "bin_start": 0.4,
            "bin_end": 0.5,
            "count": 0
           }
          ]
         }
        },
        {
         "name": "positivas_pcr_hombre_edades_20a49",
         "dtype": "int64",
         "stats": {
          "unique_count": 1,
          "nan_count": 0,
          "min": "0",
          "max": "0",
          "histogram": [
           {
            "bin_start": -0.5,
            "bin_end": -0.4,
            "count": 0
           },
           {
            "bin_start": -0.4,
            "bin_end": -0.3,
            "count": 0
           },
           {
            "bin_start": -0.3,
            "bin_end": -0.19999999999999996,
            "count": 0
           },
           {
            "bin_start": -0.19999999999999996,
            "bin_end": -0.09999999999999998,
            "count": 0
           },
           {
            "bin_start": -0.09999999999999998,
            "bin_end": 0,
            "count": 0
           },
           {
            "bin_start": 0,
            "bin_end": 0.10000000000000009,
            "count": 5
           },
           {
            "bin_start": 0.10000000000000009,
            "bin_end": 0.20000000000000007,
            "count": 0
           },
           {
            "bin_start": 0.20000000000000007,
            "bin_end": 0.30000000000000004,
            "count": 0
           },
           {
            "bin_start": 0.30000000000000004,
            "bin_end": 0.4,
            "count": 0
           },
           {
            "bin_start": 0.4,
            "bin_end": 0.5,
            "count": 0
           }
          ]
         }
        },
        {
         "name": "positivas_pcr_hombre_edades_50a64",
         "dtype": "int64",
         "stats": {
          "unique_count": 1,
          "nan_count": 0,
          "min": "0",
          "max": "0",
          "histogram": [
           {
            "bin_start": -0.5,
            "bin_end": -0.4,
            "count": 0
           },
           {
            "bin_start": -0.4,
            "bin_end": -0.3,
            "count": 0
           },
           {
            "bin_start": -0.3,
            "bin_end": -0.19999999999999996,
            "count": 0
           },
           {
            "bin_start": -0.19999999999999996,
            "bin_end": -0.09999999999999998,
            "count": 0
           },
           {
            "bin_start": -0.09999999999999998,
            "bin_end": 0,
            "count": 0
           },
           {
            "bin_start": 0,
            "bin_end": 0.10000000000000009,
            "count": 5
           },
           {
            "bin_start": 0.10000000000000009,
            "bin_end": 0.20000000000000007,
            "count": 0
           },
           {
            "bin_start": 0.20000000000000007,
            "bin_end": 0.30000000000000004,
            "count": 0
           },
           {
            "bin_start": 0.30000000000000004,
            "bin_end": 0.4,
            "count": 0
           },
           {
            "bin_start": 0.4,
            "bin_end": 0.5,
            "count": 0
           }
          ]
         }
        },
        {
         "name": "positivas_pcr_hombre_edades_65an",
         "dtype": "int64",
         "stats": {
          "unique_count": 1,
          "nan_count": 0,
          "min": "0",
          "max": "0",
          "histogram": [
           {
            "bin_start": -0.5,
            "bin_end": -0.4,
            "count": 0
           },
           {
            "bin_start": -0.4,
            "bin_end": -0.3,
            "count": 0
           },
           {
            "bin_start": -0.3,
            "bin_end": -0.19999999999999996,
            "count": 0
           },
           {
            "bin_start": -0.19999999999999996,
            "bin_end": -0.09999999999999998,
            "count": 0
           },
           {
            "bin_start": -0.09999999999999998,
            "bin_end": 0,
            "count": 0
           },
           {
            "bin_start": 0,
            "bin_end": 0.10000000000000009,
            "count": 5
           },
           {
            "bin_start": 0.10000000000000009,
            "bin_end": 0.20000000000000007,
            "count": 0
           },
           {
            "bin_start": 0.20000000000000007,
            "bin_end": 0.30000000000000004,
            "count": 0
           },
           {
            "bin_start": 0.30000000000000004,
            "bin_end": 0.4,
            "count": 0
           },
           {
            "bin_start": 0.4,
            "bin_end": 0.5,
            "count": 0
           }
          ]
         }
        },
        {
         "name": "positivas_pcr_mujer_edades_meses",
         "dtype": "int64",
         "stats": {
          "unique_count": 1,
          "nan_count": 0,
          "min": "0",
          "max": "0",
          "histogram": [
           {
            "bin_start": -0.5,
            "bin_end": -0.4,
            "count": 0
           },
           {
            "bin_start": -0.4,
            "bin_end": -0.3,
            "count": 0
           },
           {
            "bin_start": -0.3,
            "bin_end": -0.19999999999999996,
            "count": 0
           },
           {
            "bin_start": -0.19999999999999996,
            "bin_end": -0.09999999999999998,
            "count": 0
           },
           {
            "bin_start": -0.09999999999999998,
            "bin_end": 0,
            "count": 0
           },
           {
            "bin_start": 0,
            "bin_end": 0.10000000000000009,
            "count": 5
           },
           {
            "bin_start": 0.10000000000000009,
            "bin_end": 0.20000000000000007,
            "count": 0
           },
           {
            "bin_start": 0.20000000000000007,
            "bin_end": 0.30000000000000004,
            "count": 0
           },
           {
            "bin_start": 0.30000000000000004,
            "bin_end": 0.4,
            "count": 0
           },
           {
            "bin_start": 0.4,
            "bin_end": 0.5,
            "count": 0
           }
          ]
         }
        },
        {
         "name": "positivas_pcr_mujer_edades_0a4",
         "dtype": "int64",
         "stats": {
          "unique_count": 1,
          "nan_count": 0,
          "min": "0",
          "max": "0",
          "histogram": [
           {
            "bin_start": -0.5,
            "bin_end": -0.4,
            "count": 0
           },
           {
            "bin_start": -0.4,
            "bin_end": -0.3,
            "count": 0
           },
           {
            "bin_start": -0.3,
            "bin_end": -0.19999999999999996,
            "count": 0
           },
           {
            "bin_start": -0.19999999999999996,
            "bin_end": -0.09999999999999998,
            "count": 0
           },
           {
            "bin_start": -0.09999999999999998,
            "bin_end": 0,
            "count": 0
           },
           {
            "bin_start": 0,
            "bin_end": 0.10000000000000009,
            "count": 5
           },
           {
            "bin_start": 0.10000000000000009,
            "bin_end": 0.20000000000000007,
            "count": 0
           },
           {
            "bin_start": 0.20000000000000007,
            "bin_end": 0.30000000000000004,
            "count": 0
           },
           {
            "bin_start": 0.30000000000000004,
            "bin_end": 0.4,
            "count": 0
           },
           {
            "bin_start": 0.4,
            "bin_end": 0.5,
            "count": 0
           }
          ]
         }
        },
        {
         "name": "positivas_pcr_mujer_edades_5a9",
         "dtype": "int64",
         "stats": {
          "unique_count": 1,
          "nan_count": 0,
          "min": "0",
          "max": "0",
          "histogram": [
           {
            "bin_start": -0.5,
            "bin_end": -0.4,
            "count": 0
           },
           {
            "bin_start": -0.4,
            "bin_end": -0.3,
            "count": 0
           },
           {
            "bin_start": -0.3,
            "bin_end": -0.19999999999999996,
            "count": 0
           },
           {
            "bin_start": -0.19999999999999996,
            "bin_end": -0.09999999999999998,
            "count": 0
           },
           {
            "bin_start": -0.09999999999999998,
            "bin_end": 0,
            "count": 0
           },
           {
            "bin_start": 0,
            "bin_end": 0.10000000000000009,
            "count": 5
           },
           {
            "bin_start": 0.10000000000000009,
            "bin_end": 0.20000000000000007,
            "count": 0
           },
           {
            "bin_start": 0.20000000000000007,
            "bin_end": 0.30000000000000004,
            "count": 0
           },
           {
            "bin_start": 0.30000000000000004,
            "bin_end": 0.4,
            "count": 0
           },
           {
            "bin_start": 0.4,
            "bin_end": 0.5,
            "count": 0
           }
          ]
         }
        },
        {
         "name": "positivas_pcr_mujer_edades_10a14",
         "dtype": "int64",
         "stats": {
          "unique_count": 1,
          "nan_count": 0,
          "min": "0",
          "max": "0",
          "histogram": [
           {
            "bin_start": -0.5,
            "bin_end": -0.4,
            "count": 0
           },
           {
            "bin_start": -0.4,
            "bin_end": -0.3,
            "count": 0
           },
           {
            "bin_start": -0.3,
            "bin_end": -0.19999999999999996,
            "count": 0
           },
           {
            "bin_start": -0.19999999999999996,
            "bin_end": -0.09999999999999998,
            "count": 0
           },
           {
            "bin_start": -0.09999999999999998,
            "bin_end": 0,
            "count": 0
           },
           {
            "bin_start": 0,
            "bin_end": 0.10000000000000009,
            "count": 5
           },
           {
            "bin_start": 0.10000000000000009,
            "bin_end": 0.20000000000000007,
            "count": 0
           },
           {
            "bin_start": 0.20000000000000007,
            "bin_end": 0.30000000000000004,
            "count": 0
           },
           {
            "bin_start": 0.30000000000000004,
            "bin_end": 0.4,
            "count": 0
           },
           {
            "bin_start": 0.4,
            "bin_end": 0.5,
            "count": 0
           }
          ]
         }
        },
        {
         "name": "positivas_pcr_mujer_edades_15a19",
         "dtype": "int64",
         "stats": {
          "unique_count": 1,
          "nan_count": 0,
          "min": "0",
          "max": "0",
          "histogram": [
           {
            "bin_start": -0.5,
            "bin_end": -0.4,
            "count": 0
           },
           {
            "bin_start": -0.4,
            "bin_end": -0.3,
            "count": 0
           },
           {
            "bin_start": -0.3,
            "bin_end": -0.19999999999999996,
            "count": 0
           },
           {
            "bin_start": -0.19999999999999996,
            "bin_end": -0.09999999999999998,
            "count": 0
           },
           {
            "bin_start": -0.09999999999999998,
            "bin_end": 0,
            "count": 0
           },
           {
            "bin_start": 0,
            "bin_end": 0.10000000000000009,
            "count": 5
           },
           {
            "bin_start": 0.10000000000000009,
            "bin_end": 0.20000000000000007,
            "count": 0
           },
           {
            "bin_start": 0.20000000000000007,
            "bin_end": 0.30000000000000004,
            "count": 0
           },
           {
            "bin_start": 0.30000000000000004,
            "bin_end": 0.4,
            "count": 0
           },
           {
            "bin_start": 0.4,
            "bin_end": 0.5,
            "count": 0
           }
          ]
         }
        },
        {
         "name": "positivas_pcr_mujer_edades_20a49",
         "dtype": "int64",
         "stats": {
          "unique_count": 1,
          "nan_count": 0,
          "min": "0",
          "max": "0",
          "histogram": [
           {
            "bin_start": -0.5,
            "bin_end": -0.4,
            "count": 0
           },
           {
            "bin_start": -0.4,
            "bin_end": -0.3,
            "count": 0
           },
           {
            "bin_start": -0.3,
            "bin_end": -0.19999999999999996,
            "count": 0
           },
           {
            "bin_start": -0.19999999999999996,
            "bin_end": -0.09999999999999998,
            "count": 0
           },
           {
            "bin_start": -0.09999999999999998,
            "bin_end": 0,
            "count": 0
           },
           {
            "bin_start": 0,
            "bin_end": 0.10000000000000009,
            "count": 5
           },
           {
            "bin_start": 0.10000000000000009,
            "bin_end": 0.20000000000000007,
            "count": 0
           },
           {
            "bin_start": 0.20000000000000007,
            "bin_end": 0.30000000000000004,
            "count": 0
           },
           {
            "bin_start": 0.30000000000000004,
            "bin_end": 0.4,
            "count": 0
           },
           {
            "bin_start": 0.4,
            "bin_end": 0.5,
            "count": 0
           }
          ]
         }
        },
        {
         "name": "positivas_pcr_mujer_edades_50a64",
         "dtype": "int64",
         "stats": {
          "unique_count": 1,
          "nan_count": 0,
          "min": "0",
          "max": "0",
          "histogram": [
           {
            "bin_start": -0.5,
            "bin_end": -0.4,
            "count": 0
           },
           {
            "bin_start": -0.4,
            "bin_end": -0.3,
            "count": 0
           },
           {
            "bin_start": -0.3,
            "bin_end": -0.19999999999999996,
            "count": 0
           },
           {
            "bin_start": -0.19999999999999996,
            "bin_end": -0.09999999999999998,
            "count": 0
           },
           {
            "bin_start": -0.09999999999999998,
            "bin_end": 0,
            "count": 0
           },
           {
            "bin_start": 0,
            "bin_end": 0.10000000000000009,
            "count": 5
           },
           {
            "bin_start": 0.10000000000000009,
            "bin_end": 0.20000000000000007,
            "count": 0
           },
           {
            "bin_start": 0.20000000000000007,
            "bin_end": 0.30000000000000004,
            "count": 0
           },
           {
            "bin_start": 0.30000000000000004,
            "bin_end": 0.4,
            "count": 0
           },
           {
            "bin_start": 0.4,
            "bin_end": 0.5,
            "count": 0
           }
          ]
         }
        },
        {
         "name": "positivas_pcr_mujer_edades_65an",
         "dtype": "int64",
         "stats": {
          "unique_count": 1,
          "nan_count": 0,
          "min": "0",
          "max": "0",
          "histogram": [
           {
            "bin_start": -0.5,
            "bin_end": -0.4,
            "count": 0
           },
           {
            "bin_start": -0.4,
            "bin_end": -0.3,
            "count": 0
           },
           {
            "bin_start": -0.3,
            "bin_end": -0.19999999999999996,
            "count": 0
           },
           {
            "bin_start": -0.19999999999999996,
            "bin_end": -0.09999999999999998,
            "count": 0
           },
           {
            "bin_start": -0.09999999999999998,
            "bin_end": 0,
            "count": 0
           },
           {
            "bin_start": 0,
            "bin_end": 0.10000000000000009,
            "count": 5
           },
           {
            "bin_start": 0.10000000000000009,
            "bin_end": 0.20000000000000007,
            "count": 0
           },
           {
            "bin_start": 0.20000000000000007,
            "bin_end": 0.30000000000000004,
            "count": 0
           },
           {
            "bin_start": 0.30000000000000004,
            "bin_end": 0.4,
            "count": 0
           },
           {
            "bin_start": 0.4,
            "bin_end": 0.5,
            "count": 0
           }
          ]
         }
        },
        {
         "name": "positivas_rapidas",
         "dtype": "int64",
         "stats": {
          "unique_count": 1,
          "nan_count": 0,
          "min": "0",
          "max": "0",
          "histogram": [
           {
            "bin_start": -0.5,
            "bin_end": -0.4,
            "count": 0
           },
           {
            "bin_start": -0.4,
            "bin_end": -0.3,
            "count": 0
           },
           {
            "bin_start": -0.3,
            "bin_end": -0.19999999999999996,
            "count": 0
           },
           {
            "bin_start": -0.19999999999999996,
            "bin_end": -0.09999999999999998,
            "count": 0
           },
           {
            "bin_start": -0.09999999999999998,
            "bin_end": 0,
            "count": 0
           },
           {
            "bin_start": 0,
            "bin_end": 0.10000000000000009,
            "count": 5
           },
           {
            "bin_start": 0.10000000000000009,
            "bin_end": 0.20000000000000007,
            "count": 0
           },
           {
            "bin_start": 0.20000000000000007,
            "bin_end": 0.30000000000000004,
            "count": 0
           },
           {
            "bin_start": 0.30000000000000004,
            "bin_end": 0.4,
            "count": 0
           },
           {
            "bin_start": 0.4,
            "bin_end": 0.5,
            "count": 0
           }
          ]
         }
        },
        {
         "name": "negativas",
         "dtype": "int64",
         "stats": {
          "unique_count": 1,
          "nan_count": 0,
          "min": "0",
          "max": "0",
          "histogram": [
           {
            "bin_start": -0.5,
            "bin_end": -0.4,
            "count": 0
           },
           {
            "bin_start": -0.4,
            "bin_end": -0.3,
            "count": 0
           },
           {
            "bin_start": -0.3,
            "bin_end": -0.19999999999999996,
            "count": 0
           },
           {
            "bin_start": -0.19999999999999996,
            "bin_end": -0.09999999999999998,
            "count": 0
           },
           {
            "bin_start": -0.09999999999999998,
            "bin_end": 0,
            "count": 0
           },
           {
            "bin_start": 0,
            "bin_end": 0.10000000000000009,
            "count": 5
           },
           {
            "bin_start": 0.10000000000000009,
            "bin_end": 0.20000000000000007,
            "count": 0
           },
           {
            "bin_start": 0.20000000000000007,
            "bin_end": 0.30000000000000004,
            "count": 0
           },
           {
            "bin_start": 0.30000000000000004,
            "bin_end": 0.4,
            "count": 0
           },
           {
            "bin_start": 0.4,
            "bin_end": 0.5,
            "count": 0
           }
          ]
         }
        },
        {
         "name": "negativas_pcr",
         "dtype": "int64",
         "stats": {
          "unique_count": 1,
          "nan_count": 0,
          "min": "0",
          "max": "0",
          "histogram": [
           {
            "bin_start": -0.5,
            "bin_end": -0.4,
            "count": 0
           },
           {
            "bin_start": -0.4,
            "bin_end": -0.3,
            "count": 0
           },
           {
            "bin_start": -0.3,
            "bin_end": -0.19999999999999996,
            "count": 0
           },
           {
            "bin_start": -0.19999999999999996,
            "bin_end": -0.09999999999999998,
            "count": 0
           },
           {
            "bin_start": -0.09999999999999998,
            "bin_end": 0,
            "count": 0
           },
           {
            "bin_start": 0,
            "bin_end": 0.10000000000000009,
            "count": 5
           },
           {
            "bin_start": 0.10000000000000009,
            "bin_end": 0.20000000000000007,
            "count": 0
           },
           {
            "bin_start": 0.20000000000000007,
            "bin_end": 0.30000000000000004,
            "count": 0
           },
           {
            "bin_start": 0.30000000000000004,
            "bin_end": 0.4,
            "count": 0
           },
           {
            "bin_start": 0.4,
            "bin_end": 0.5,
            "count": 0
           }
          ]
         }
        },
        {
         "name": "negativas_pcr_nuevas",
         "dtype": "int64",
         "stats": {
          "unique_count": 1,
          "nan_count": 0,
          "min": "0",
          "max": "0",
          "histogram": [
           {
            "bin_start": -0.5,
            "bin_end": -0.4,
            "count": 0
           },
           {
            "bin_start": -0.4,
            "bin_end": -0.3,
            "count": 0
           },
           {
            "bin_start": -0.3,
            "bin_end": -0.19999999999999996,
            "count": 0
           },
           {
            "bin_start": -0.19999999999999996,
            "bin_end": -0.09999999999999998,
            "count": 0
           },
           {
            "bin_start": -0.09999999999999998,
            "bin_end": 0,
            "count": 0
           },
           {
            "bin_start": 0,
            "bin_end": 0.10000000000000009,
            "count": 5
           },
           {
            "bin_start": 0.10000000000000009,
            "bin_end": 0.20000000000000007,
            "count": 0
           },
           {
            "bin_start": 0.20000000000000007,
            "bin_end": 0.30000000000000004,
            "count": 0
           },
           {
            "bin_start": 0.30000000000000004,
            "bin_end": 0.4,
            "count": 0
           },
           {
            "bin_start": 0.4,
            "bin_end": 0.5,
            "count": 0
           }
          ]
         }
        },
        {
         "name": "negativas_rapidas",
         "dtype": "int64",
         "stats": {
          "unique_count": 1,
          "nan_count": 0,
          "min": "0",
          "max": "0",
          "histogram": [
           {
            "bin_start": -0.5,
            "bin_end": -0.4,
            "count": 0
           },
           {
            "bin_start": -0.4,
            "bin_end": -0.3,
            "count": 0
           },
           {
            "bin_start": -0.3,
            "bin_end": -0.19999999999999996,
            "count": 0
           },
           {
            "bin_start": -0.19999999999999996,
            "bin_end": -0.09999999999999998,
            "count": 0
           },
           {
            "bin_start": -0.09999999999999998,
            "bin_end": 0,
            "count": 0
           },
           {
            "bin_start": 0,
            "bin_end": 0.10000000000000009,
            "count": 5
           },
           {
            "bin_start": 0.10000000000000009,
            "bin_end": 0.20000000000000007,
            "count": 0
           },
           {
            "bin_start": 0.20000000000000007,
            "bin_end": 0.30000000000000004,
            "count": 0
           },
           {
            "bin_start": 0.30000000000000004,
            "bin_end": 0.4,
            "count": 0
           },
           {
            "bin_start": 0.4,
            "bin_end": 0.5,
            "count": 0
           }
          ]
         }
        },
        {
         "name": "hospitalizadas_altas",
         "dtype": "int64",
         "stats": {
          "unique_count": 1,
          "nan_count": 0,
          "min": "0",
          "max": "0",
          "histogram": [
           {
            "bin_start": -0.5,
            "bin_end": -0.4,
            "count": 0
           },
           {
            "bin_start": -0.4,
            "bin_end": -0.3,
            "count": 0
           },
           {
            "bin_start": -0.3,
            "bin_end": -0.19999999999999996,
            "count": 0
           },
           {
            "bin_start": -0.19999999999999996,
            "bin_end": -0.09999999999999998,
            "count": 0
           },
           {
            "bin_start": -0.09999999999999998,
            "bin_end": 0,
            "count": 0
           },
           {
            "bin_start": 0,
            "bin_end": 0.10000000000000009,
            "count": 5
           },
           {
            "bin_start": 0.10000000000000009,
            "bin_end": 0.20000000000000007,
            "count": 0
           },
           {
            "bin_start": 0.20000000000000007,
            "bin_end": 0.30000000000000004,
            "count": 0
           },
           {
            "bin_start": 0.30000000000000004,
            "bin_end": 0.4,
            "count": 0
           },
           {
            "bin_start": 0.4,
            "bin_end": 0.5,
            "count": 0
           }
          ]
         }
        },
        {
         "name": "hospitalizadas_estables",
         "dtype": "int64",
         "stats": {
          "unique_count": 3,
          "nan_count": 0,
          "min": "0",
          "max": "9",
          "histogram": [
           {
            "bin_start": 0,
            "bin_end": 0.9,
            "count": 1
           },
           {
            "bin_start": 0.9,
            "bin_end": 1.8,
            "count": 0
           },
           {
            "bin_start": 1.8,
            "bin_end": 2.7,
            "count": 0
           },
           {
            "bin_start": 2.7,
            "bin_end": 3.6,
            "count": 0
           },
           {
            "bin_start": 3.6,
            "bin_end": 4.5,
            "count": 0
           },
           {
            "bin_start": 4.5,
            "bin_end": 5.4,
            "count": 0
           },
           {
            "bin_start": 5.4,
            "bin_end": 6.3,
            "count": 0
           },
           {
            "bin_start": 6.3,
            "bin_end": 7.2,
            "count": 2
           },
           {
            "bin_start": 7.2,
            "bin_end": 8.1,
            "count": 0
           },
           {
            "bin_start": 8.1,
            "bin_end": 9,
            "count": 2
           }
          ]
         }
        },
        {
         "name": "hospitalizadas_pronostico_reservadas",
         "dtype": "int64",
         "stats": {
          "unique_count": 4,
          "nan_count": 0,
          "min": "1",
          "max": "5",
          "histogram": [
           {
            "bin_start": 1,
            "bin_end": 1.4,
            "count": 1
           },
           {
            "bin_start": 1.4,
            "bin_end": 1.8,
            "count": 0
           },
           {
            "bin_start": 1.8,
            "bin_end": 2.2,
            "count": 1
           },
           {
            "bin_start": 2.2,
            "bin_end": 2.6,
            "count": 0
           },
           {
            "bin_start": 2.6,
            "bin_end": 3,
            "count": 0
           },
           {
            "bin_start": 3,
            "bin_end": 3.4000000000000004,
            "count": 1
           },
           {
            "bin_start": 3.4000000000000004,
            "bin_end": 3.8000000000000003,
            "count": 0
           },
           {
            "bin_start": 3.8000000000000003,
            "bin_end": 4.2,
            "count": 0
           },
           {
            "bin_start": 4.2,
            "bin_end": 4.6,
            "count": 0
           },
           {
            "bin_start": 4.6,
            "bin_end": 5,
            "count": 2
           }
          ]
         }
        },
        {
         "name": "msp_hospitalizacion_camas_porcentaje_ocupadas",
         "dtype": "int64",
         "stats": {
          "unique_count": 1,
          "nan_count": 0,
          "min": "0",
          "max": "0",
          "histogram": [
           {
            "bin_start": -0.5,
            "bin_end": -0.4,
            "count": 0
           },
           {
            "bin_start": -0.4,
            "bin_end": -0.3,
            "count": 0
           },
           {
            "bin_start": -0.3,
            "bin_end": -0.19999999999999996,
            "count": 0
           },
           {
            "bin_start": -0.19999999999999996,
            "bin_end": -0.09999999999999998,
            "count": 0
           },
           {
            "bin_start": -0.09999999999999998,
            "bin_end": 0,
            "count": 0
           },
           {
            "bin_start": 0,
            "bin_end": 0.10000000000000009,
            "count": 5
           },
           {
            "bin_start": 0.10000000000000009,
            "bin_end": 0.20000000000000007,
            "count": 0
           },
           {
            "bin_start": 0.20000000000000007,
            "bin_end": 0.30000000000000004,
            "count": 0
           },
           {
            "bin_start": 0.30000000000000004,
            "bin_end": 0.4,
            "count": 0
           },
           {
            "bin_start": 0.4,
            "bin_end": 0.5,
            "count": 0
           }
          ]
         }
        },
        {
         "name": "msp_hospitalizacion_lista_espera",
         "dtype": "int64",
         "stats": {
          "unique_count": 1,
          "nan_count": 0,
          "min": "0",
          "max": "0",
          "histogram": [
           {
            "bin_start": -0.5,
            "bin_end": -0.4,
            "count": 0
           },
           {
            "bin_start": -0.4,
            "bin_end": -0.3,
            "count": 0
           },
           {
            "bin_start": -0.3,
            "bin_end": -0.19999999999999996,
            "count": 0
           },
           {
            "bin_start": -0.19999999999999996,
            "bin_end": -0.09999999999999998,
            "count": 0
           },
           {
            "bin_start": -0.09999999999999998,
            "bin_end": 0,
            "count": 0
           },
           {
            "bin_start": 0,
            "bin_end": 0.10000000000000009,
            "count": 5
           },
           {
            "bin_start": 0.10000000000000009,
            "bin_end": 0.20000000000000007,
            "count": 0
           },
           {
            "bin_start": 0.20000000000000007,
            "bin_end": 0.30000000000000004,
            "count": 0
           },
           {
            "bin_start": 0.30000000000000004,
            "bin_end": 0.4,
            "count": 0
           },
           {
            "bin_start": 0.4,
            "bin_end": 0.5,
            "count": 0
           }
          ]
         }
        },
        {
         "name": "msp_hospitalizacion_camas_asignadas",
         "dtype": "int64",
         "stats": {
          "unique_count": 1,
          "nan_count": 0,
          "min": "0",
          "max": "0",
          "histogram": [
           {
            "bin_start": -0.5,
            "bin_end": -0.4,
            "count": 0
           },
           {
            "bin_start": -0.4,
            "bin_end": -0.3,
            "count": 0
           },
           {
            "bin_start": -0.3,
            "bin_end": -0.19999999999999996,
            "count": 0
           },
           {
            "bin_start": -0.19999999999999996,
            "bin_end": -0.09999999999999998,
            "count": 0
           },
           {
            "bin_start": -0.09999999999999998,
            "bin_end": 0,
            "count": 0
           },
           {
            "bin_start": 0,
            "bin_end": 0.10000000000000009,
            "count": 5
           },
           {
            "bin_start": 0.10000000000000009,
            "bin_end": 0.20000000000000007,
            "count": 0
           },
           {
            "bin_start": 0.20000000000000007,
            "bin_end": 0.30000000000000004,
            "count": 0
           },
           {
            "bin_start": 0.30000000000000004,
            "bin_end": 0.4,
            "count": 0
           },
           {
            "bin_start": 0.4,
            "bin_end": 0.5,
            "count": 0
           }
          ]
         }
        },
        {
         "name": "msp_hospitalizacion_camas_ocupadas",
         "dtype": "int64",
         "stats": {
          "unique_count": 1,
          "nan_count": 0,
          "min": "0",
          "max": "0",
          "histogram": [
           {
            "bin_start": -0.5,
            "bin_end": -0.4,
            "count": 0
           },
           {
            "bin_start": -0.4,
            "bin_end": -0.3,
            "count": 0
           },
           {
            "bin_start": -0.3,
            "bin_end": -0.19999999999999996,
            "count": 0
           },
           {
            "bin_start": -0.19999999999999996,
            "bin_end": -0.09999999999999998,
            "count": 0
           },
           {
            "bin_start": -0.09999999999999998,
            "bin_end": 0,
            "count": 0
           },
           {
            "bin_start": 0,
            "bin_end": 0.10000000000000009,
            "count": 5
           },
           {
            "bin_start": 0.10000000000000009,
            "bin_end": 0.20000000000000007,
            "count": 0
           },
           {
            "bin_start": 0.20000000000000007,
            "bin_end": 0.30000000000000004,
            "count": 0
           },
           {
            "bin_start": 0.30000000000000004,
            "bin_end": 0.4,
            "count": 0
           },
           {
            "bin_start": 0.4,
            "bin_end": 0.5,
            "count": 0
           }
          ]
         }
        },
        {
         "name": "msp_cuidado_intermedio_camas_porcentaje_ocupadas",
         "dtype": "int64",
         "stats": {
          "unique_count": 1,
          "nan_count": 0,
          "min": "0",
          "max": "0",
          "histogram": [
           {
            "bin_start": -0.5,
            "bin_end": -0.4,
            "count": 0
           },
           {
            "bin_start": -0.4,
            "bin_end": -0.3,
            "count": 0
           },
           {
            "bin_start": -0.3,
            "bin_end": -0.19999999999999996,
            "count": 0
           },
           {
            "bin_start": -0.19999999999999996,
            "bin_end": -0.09999999999999998,
            "count": 0
           },
           {
            "bin_start": -0.09999999999999998,
            "bin_end": 0,
            "count": 0
           },
           {
            "bin_start": 0,
            "bin_end": 0.10000000000000009,
            "count": 5
           },
           {
            "bin_start": 0.10000000000000009,
            "bin_end": 0.20000000000000007,
            "count": 0
           },
           {
            "bin_start": 0.20000000000000007,
            "bin_end": 0.30000000000000004,
            "count": 0
           },
           {
            "bin_start": 0.30000000000000004,
            "bin_end": 0.4,
            "count": 0
           },
           {
            "bin_start": 0.4,
            "bin_end": 0.5,
            "count": 0
           }
          ]
         }
        },
        {
         "name": "msp_cuidado_intermedio_lista_espera",
         "dtype": "int64",
         "stats": {
          "unique_count": 1,
          "nan_count": 0,
          "min": "0",
          "max": "0",
          "histogram": [
           {
            "bin_start": -0.5,
            "bin_end": -0.4,
            "count": 0
           },
           {
            "bin_start": -0.4,
            "bin_end": -0.3,
            "count": 0
           },
           {
            "bin_start": -0.3,
            "bin_end": -0.19999999999999996,
            "count": 0
           },
           {
            "bin_start": -0.19999999999999996,
            "bin_end": -0.09999999999999998,
            "count": 0
           },
           {
            "bin_start": -0.09999999999999998,
            "bin_end": 0,
            "count": 0
           },
           {
            "bin_start": 0,
            "bin_end": 0.10000000000000009,
            "count": 5
           },
           {
            "bin_start": 0.10000000000000009,
            "bin_end": 0.20000000000000007,
            "count": 0
           },
           {
            "bin_start": 0.20000000000000007,
            "bin_end": 0.30000000000000004,
            "count": 0
           },
           {
            "bin_start": 0.30000000000000004,
            "bin_end": 0.4,
            "count": 0
           },
           {
            "bin_start": 0.4,
            "bin_end": 0.5,
            "count": 0
           }
          ]
         }
        },
        {
         "name": "msp_cuidado_intermedio_camas_asignadas",
         "dtype": "int64",
         "stats": {
          "unique_count": 1,
          "nan_count": 0,
          "min": "0",
          "max": "0",
          "histogram": [
           {
            "bin_start": -0.5,
            "bin_end": -0.4,
            "count": 0
           },
           {
            "bin_start": -0.4,
            "bin_end": -0.3,
            "count": 0
           },
           {
            "bin_start": -0.3,
            "bin_end": -0.19999999999999996,
            "count": 0
           },
           {
            "bin_start": -0.19999999999999996,
            "bin_end": -0.09999999999999998,
            "count": 0
           },
           {
            "bin_start": -0.09999999999999998,
            "bin_end": 0,
            "count": 0
           },
           {
            "bin_start": 0,
            "bin_end": 0.10000000000000009,
            "count": 5
           },
           {
            "bin_start": 0.10000000000000009,
            "bin_end": 0.20000000000000007,
            "count": 0
           },
           {
            "bin_start": 0.20000000000000007,
            "bin_end": 0.30000000000000004,
            "count": 0
           },
           {
            "bin_start": 0.30000000000000004,
            "bin_end": 0.4,
            "count": 0
           },
           {
            "bin_start": 0.4,
            "bin_end": 0.5,
            "count": 0
           }
          ]
         }
        },
        {
         "name": "msp_cuidado_intermedio_camas_ocupadas",
         "dtype": "int64",
         "stats": {
          "unique_count": 1,
          "nan_count": 0,
          "min": "0",
          "max": "0",
          "histogram": [
           {
            "bin_start": -0.5,
            "bin_end": -0.4,
            "count": 0
           },
           {
            "bin_start": -0.4,
            "bin_end": -0.3,
            "count": 0
           },
           {
            "bin_start": -0.3,
            "bin_end": -0.19999999999999996,
            "count": 0
           },
           {
            "bin_start": -0.19999999999999996,
            "bin_end": -0.09999999999999998,
            "count": 0
           },
           {
            "bin_start": -0.09999999999999998,
            "bin_end": 0,
            "count": 0
           },
           {
            "bin_start": 0,
            "bin_end": 0.10000000000000009,
            "count": 5
           },
           {
            "bin_start": 0.10000000000000009,
            "bin_end": 0.20000000000000007,
            "count": 0
           },
           {
            "bin_start": 0.20000000000000007,
            "bin_end": 0.30000000000000004,
            "count": 0
           },
           {
            "bin_start": 0.30000000000000004,
            "bin_end": 0.4,
            "count": 0
           },
           {
            "bin_start": 0.4,
            "bin_end": 0.5,
            "count": 0
           }
          ]
         }
        },
        {
         "name": "msp_uci_camas_porcentaje_ocupadas",
         "dtype": "int64",
         "stats": {
          "unique_count": 1,
          "nan_count": 0,
          "min": "0",
          "max": "0",
          "histogram": [
           {
            "bin_start": -0.5,
            "bin_end": -0.4,
            "count": 0
           },
           {
            "bin_start": -0.4,
            "bin_end": -0.3,
            "count": 0
           },
           {
            "bin_start": -0.3,
            "bin_end": -0.19999999999999996,
            "count": 0
           },
           {
            "bin_start": -0.19999999999999996,
            "bin_end": -0.09999999999999998,
            "count": 0
           },
           {
            "bin_start": -0.09999999999999998,
            "bin_end": 0,
            "count": 0
           },
           {
            "bin_start": 0,
            "bin_end": 0.10000000000000009,
            "count": 5
           },
           {
            "bin_start": 0.10000000000000009,
            "bin_end": 0.20000000000000007,
            "count": 0
           },
           {
            "bin_start": 0.20000000000000007,
            "bin_end": 0.30000000000000004,
            "count": 0
           },
           {
            "bin_start": 0.30000000000000004,
            "bin_end": 0.4,
            "count": 0
           },
           {
            "bin_start": 0.4,
            "bin_end": 0.5,
            "count": 0
           }
          ]
         }
        },
        {
         "name": "msp_uci_lista_espera",
         "dtype": "int64",
         "stats": {
          "unique_count": 1,
          "nan_count": 0,
          "min": "0",
          "max": "0",
          "histogram": [
           {
            "bin_start": -0.5,
            "bin_end": -0.4,
            "count": 0
           },
           {
            "bin_start": -0.4,
            "bin_end": -0.3,
            "count": 0
           },
           {
            "bin_start": -0.3,
            "bin_end": -0.19999999999999996,
            "count": 0
           },
           {
            "bin_start": -0.19999999999999996,
            "bin_end": -0.09999999999999998,
            "count": 0
           },
           {
            "bin_start": -0.09999999999999998,
            "bin_end": 0,
            "count": 0
           },
           {
            "bin_start": 0,
            "bin_end": 0.10000000000000009,
            "count": 5
           },
           {
            "bin_start": 0.10000000000000009,
            "bin_end": 0.20000000000000007,
            "count": 0
           },
           {
            "bin_start": 0.20000000000000007,
            "bin_end": 0.30000000000000004,
            "count": 0
           },
           {
            "bin_start": 0.30000000000000004,
            "bin_end": 0.4,
            "count": 0
           },
           {
            "bin_start": 0.4,
            "bin_end": 0.5,
            "count": 0
           }
          ]
         }
        },
        {
         "name": "msp_uci_camas_asignadas",
         "dtype": "int64",
         "stats": {
          "unique_count": 1,
          "nan_count": 0,
          "min": "0",
          "max": "0",
          "histogram": [
           {
            "bin_start": -0.5,
            "bin_end": -0.4,
            "count": 0
           },
           {
            "bin_start": -0.4,
            "bin_end": -0.3,
            "count": 0
           },
           {
            "bin_start": -0.3,
            "bin_end": -0.19999999999999996,
            "count": 0
           },
           {
            "bin_start": -0.19999999999999996,
            "bin_end": -0.09999999999999998,
            "count": 0
           },
           {
            "bin_start": -0.09999999999999998,
            "bin_end": 0,
            "count": 0
           },
           {
            "bin_start": 0,
            "bin_end": 0.10000000000000009,
            "count": 5
           },
           {
            "bin_start": 0.10000000000000009,
            "bin_end": 0.20000000000000007,
            "count": 0
           },
           {
            "bin_start": 0.20000000000000007,
            "bin_end": 0.30000000000000004,
            "count": 0
           },
           {
            "bin_start": 0.30000000000000004,
            "bin_end": 0.4,
            "count": 0
           },
           {
            "bin_start": 0.4,
            "bin_end": 0.5,
            "count": 0
           }
          ]
         }
        },
        {
         "name": "msp_uci_camas_ocupadas",
         "dtype": "int64",
         "stats": {
          "unique_count": 1,
          "nan_count": 0,
          "min": "0",
          "max": "0",
          "histogram": [
           {
            "bin_start": -0.5,
            "bin_end": -0.4,
            "count": 0
           },
           {
            "bin_start": -0.4,
            "bin_end": -0.3,
            "count": 0
           },
           {
            "bin_start": -0.3,
            "bin_end": -0.19999999999999996,
            "count": 0
           },
           {
            "bin_start": -0.19999999999999996,
            "bin_end": -0.09999999999999998,
            "count": 0
           },
           {
            "bin_start": -0.09999999999999998,
            "bin_end": 0,
            "count": 0
           },
           {
            "bin_start": 0,
            "bin_end": 0.10000000000000009,
            "count": 5
           },
           {
            "bin_start": 0.10000000000000009,
            "bin_end": 0.20000000000000007,
            "count": 0
           },
           {
            "bin_start": 0.20000000000000007,
            "bin_end": 0.30000000000000004,
            "count": 0
           },
           {
            "bin_start": 0.30000000000000004,
            "bin_end": 0.4,
            "count": 0
           },
           {
            "bin_start": 0.4,
            "bin_end": 0.5,
            "count": 0
           }
          ]
         }
        },
        {
         "name": "rpis_hospitalizacion_camas_porcentaje_ocupadas",
         "dtype": "int64",
         "stats": {
          "unique_count": 1,
          "nan_count": 0,
          "min": "0",
          "max": "0",
          "histogram": [
           {
            "bin_start": -0.5,
            "bin_end": -0.4,
            "count": 0
           },
           {
            "bin_start": -0.4,
            "bin_end": -0.3,
            "count": 0
           },
           {
            "bin_start": -0.3,
            "bin_end": -0.19999999999999996,
            "count": 0
           },
           {
            "bin_start": -0.19999999999999996,
            "bin_end": -0.09999999999999998,
            "count": 0
           },
           {
            "bin_start": -0.09999999999999998,
            "bin_end": 0,
            "count": 0
           },
           {
            "bin_start": 0,
            "bin_end": 0.10000000000000009,
            "count": 5
           },
           {
            "bin_start": 0.10000000000000009,
            "bin_end": 0.20000000000000007,
            "count": 0
           },
           {
            "bin_start": 0.20000000000000007,
            "bin_end": 0.30000000000000004,
            "count": 0
           },
           {
            "bin_start": 0.30000000000000004,
            "bin_end": 0.4,
            "count": 0
           },
           {
            "bin_start": 0.4,
            "bin_end": 0.5,
            "count": 0
           }
          ]
         }
        },
        {
         "name": "rpis_hospitalizacion_lista_espera",
         "dtype": "int64",
         "stats": {
          "unique_count": 1,
          "nan_count": 0,
          "min": "0",
          "max": "0",
          "histogram": [
           {
            "bin_start": -0.5,
            "bin_end": -0.4,
            "count": 0
           },
           {
            "bin_start": -0.4,
            "bin_end": -0.3,
            "count": 0
           },
           {
            "bin_start": -0.3,
            "bin_end": -0.19999999999999996,
            "count": 0
           },
           {
            "bin_start": -0.19999999999999996,
            "bin_end": -0.09999999999999998,
            "count": 0
           },
           {
            "bin_start": -0.09999999999999998,
            "bin_end": 0,
            "count": 0
           },
           {
            "bin_start": 0,
            "bin_end": 0.10000000000000009,
            "count": 5
           },
           {
            "bin_start": 0.10000000000000009,
            "bin_end": 0.20000000000000007,
            "count": 0
           },
           {
            "bin_start": 0.20000000000000007,
            "bin_end": 0.30000000000000004,
            "count": 0
           },
           {
            "bin_start": 0.30000000000000004,
            "bin_end": 0.4,
            "count": 0
           },
           {
            "bin_start": 0.4,
            "bin_end": 0.5,
            "count": 0
           }
          ]
         }
        },
        {
         "name": "rpis_hospitalizacion_camas_asignadas",
         "dtype": "int64",
         "stats": {
          "unique_count": 1,
          "nan_count": 0,
          "min": "0",
          "max": "0",
          "histogram": [
           {
            "bin_start": -0.5,
            "bin_end": -0.4,
            "count": 0
           },
           {
            "bin_start": -0.4,
            "bin_end": -0.3,
            "count": 0
           },
           {
            "bin_start": -0.3,
            "bin_end": -0.19999999999999996,
            "count": 0
           },
           {
            "bin_start": -0.19999999999999996,
            "bin_end": -0.09999999999999998,
            "count": 0
           },
           {
            "bin_start": -0.09999999999999998,
            "bin_end": 0,
            "count": 0
           },
           {
            "bin_start": 0,
            "bin_end": 0.10000000000000009,
            "count": 5
           },
           {
            "bin_start": 0.10000000000000009,
            "bin_end": 0.20000000000000007,
            "count": 0
           },
           {
            "bin_start": 0.20000000000000007,
            "bin_end": 0.30000000000000004,
            "count": 0
           },
           {
            "bin_start": 0.30000000000000004,
            "bin_end": 0.4,
            "count": 0
           },
           {
            "bin_start": 0.4,
            "bin_end": 0.5,
            "count": 0
           }
          ]
         }
        },
        {
         "name": "rpis_hospitalizacion_camas_ocupadas",
         "dtype": "int64",
         "stats": {
          "unique_count": 1,
          "nan_count": 0,
          "min": "0",
          "max": "0",
          "histogram": [
           {
            "bin_start": -0.5,
            "bin_end": -0.4,
            "count": 0
           },
           {
            "bin_start": -0.4,
            "bin_end": -0.3,
            "count": 0
           },
           {
            "bin_start": -0.3,
            "bin_end": -0.19999999999999996,
            "count": 0
           },
           {
            "bin_start": -0.19999999999999996,
            "bin_end": -0.09999999999999998,
            "count": 0
           },
           {
            "bin_start": -0.09999999999999998,
            "bin_end": 0,
            "count": 0
           },
           {
            "bin_start": 0,
            "bin_end": 0.10000000000000009,
            "count": 5
           },
           {
            "bin_start": 0.10000000000000009,
            "bin_end": 0.20000000000000007,
            "count": 0
           },
           {
            "bin_start": 0.20000000000000007,
            "bin_end": 0.30000000000000004,
            "count": 0
           },
           {
            "bin_start": 0.30000000000000004,
            "bin_end": 0.4,
            "count": 0
           },
           {
            "bin_start": 0.4,
            "bin_end": 0.5,
            "count": 0
           }
          ]
         }
        },
        {
         "name": "rpis_cuidado_intermedio_camas_porcentaje_ocupadas",
         "dtype": "int64",
         "stats": {
          "unique_count": 1,
          "nan_count": 0,
          "min": "0",
          "max": "0",
          "histogram": [
           {
            "bin_start": -0.5,
            "bin_end": -0.4,
            "count": 0
           },
           {
            "bin_start": -0.4,
            "bin_end": -0.3,
            "count": 0
           },
           {
            "bin_start": -0.3,
            "bin_end": -0.19999999999999996,
            "count": 0
           },
           {
            "bin_start": -0.19999999999999996,
            "bin_end": -0.09999999999999998,
            "count": 0
           },
           {
            "bin_start": -0.09999999999999998,
            "bin_end": 0,
            "count": 0
           },
           {
            "bin_start": 0,
            "bin_end": 0.10000000000000009,
            "count": 5
           },
           {
            "bin_start": 0.10000000000000009,
            "bin_end": 0.20000000000000007,
            "count": 0
           },
           {
            "bin_start": 0.20000000000000007,
            "bin_end": 0.30000000000000004,
            "count": 0
           },
           {
            "bin_start": 0.30000000000000004,
            "bin_end": 0.4,
            "count": 0
           },
           {
            "bin_start": 0.4,
            "bin_end": 0.5,
            "count": 0
           }
          ]
         }
        },
        {
         "name": "rpis_cuidado_intermedio_lista_espera",
         "dtype": "int64",
         "stats": {
          "unique_count": 1,
          "nan_count": 0,
          "min": "0",
          "max": "0",
          "histogram": [
           {
            "bin_start": -0.5,
            "bin_end": -0.4,
            "count": 0
           },
           {
            "bin_start": -0.4,
            "bin_end": -0.3,
            "count": 0
           },
           {
            "bin_start": -0.3,
            "bin_end": -0.19999999999999996,
            "count": 0
           },
           {
            "bin_start": -0.19999999999999996,
            "bin_end": -0.09999999999999998,
            "count": 0
           },
           {
            "bin_start": -0.09999999999999998,
            "bin_end": 0,
            "count": 0
           },
           {
            "bin_start": 0,
            "bin_end": 0.10000000000000009,
            "count": 5
           },
           {
            "bin_start": 0.10000000000000009,
            "bin_end": 0.20000000000000007,
            "count": 0
           },
           {
            "bin_start": 0.20000000000000007,
            "bin_end": 0.30000000000000004,
            "count": 0
           },
           {
            "bin_start": 0.30000000000000004,
            "bin_end": 0.4,
            "count": 0
           },
           {
            "bin_start": 0.4,
            "bin_end": 0.5,
            "count": 0
           }
          ]
         }
        },
        {
         "name": "rpis_cuidado_intermedio_camas_asignadas",
         "dtype": "int64",
         "stats": {
          "unique_count": 1,
          "nan_count": 0,
          "min": "0",
          "max": "0",
          "histogram": [
           {
            "bin_start": -0.5,
            "bin_end": -0.4,
            "count": 0
           },
           {
            "bin_start": -0.4,
            "bin_end": -0.3,
            "count": 0
           },
           {
            "bin_start": -0.3,
            "bin_end": -0.19999999999999996,
            "count": 0
           },
           {
            "bin_start": -0.19999999999999996,
            "bin_end": -0.09999999999999998,
            "count": 0
           },
           {
            "bin_start": -0.09999999999999998,
            "bin_end": 0,
            "count": 0
           },
           {
            "bin_start": 0,
            "bin_end": 0.10000000000000009,
            "count": 5
           },
           {
            "bin_start": 0.10000000000000009,
            "bin_end": 0.20000000000000007,
            "count": 0
           },
           {
            "bin_start": 0.20000000000000007,
            "bin_end": 0.30000000000000004,
            "count": 0
           },
           {
            "bin_start": 0.30000000000000004,
            "bin_end": 0.4,
            "count": 0
           },
           {
            "bin_start": 0.4,
            "bin_end": 0.5,
            "count": 0
           }
          ]
         }
        },
        {
         "name": "rpis_cuidado_intermedio_camas_ocupadas",
         "dtype": "int64",
         "stats": {
          "unique_count": 1,
          "nan_count": 0,
          "min": "0",
          "max": "0",
          "histogram": [
           {
            "bin_start": -0.5,
            "bin_end": -0.4,
            "count": 0
           },
           {
            "bin_start": -0.4,
            "bin_end": -0.3,
            "count": 0
           },
           {
            "bin_start": -0.3,
            "bin_end": -0.19999999999999996,
            "count": 0
           },
           {
            "bin_start": -0.19999999999999996,
            "bin_end": -0.09999999999999998,
            "count": 0
           },
           {
            "bin_start": -0.09999999999999998,
            "bin_end": 0,
            "count": 0
           },
           {
            "bin_start": 0,
            "bin_end": 0.10000000000000009,
            "count": 5
           },
           {
            "bin_start": 0.10000000000000009,
            "bin_end": 0.20000000000000007,
            "count": 0
           },
           {
            "bin_start": 0.20000000000000007,
            "bin_end": 0.30000000000000004,
            "count": 0
           },
           {
            "bin_start": 0.30000000000000004,
            "bin_end": 0.4,
            "count": 0
           },
           {
            "bin_start": 0.4,
            "bin_end": 0.5,
            "count": 0
           }
          ]
         }
        },
        {
         "name": "rpis_uci_camas_porcentaje_ocupadas",
         "dtype": "int64",
         "stats": {
          "unique_count": 1,
          "nan_count": 0,
          "min": "0",
          "max": "0",
          "histogram": [
           {
            "bin_start": -0.5,
            "bin_end": -0.4,
            "count": 0
           },
           {
            "bin_start": -0.4,
            "bin_end": -0.3,
            "count": 0
           },
           {
            "bin_start": -0.3,
            "bin_end": -0.19999999999999996,
            "count": 0
           },
           {
            "bin_start": -0.19999999999999996,
            "bin_end": -0.09999999999999998,
            "count": 0
           },
           {
            "bin_start": -0.09999999999999998,
            "bin_end": 0,
            "count": 0
           },
           {
            "bin_start": 0,
            "bin_end": 0.10000000000000009,
            "count": 5
           },
           {
            "bin_start": 0.10000000000000009,
            "bin_end": 0.20000000000000007,
            "count": 0
           },
           {
            "bin_start": 0.20000000000000007,
            "bin_end": 0.30000000000000004,
            "count": 0
           },
           {
            "bin_start": 0.30000000000000004,
            "bin_end": 0.4,
            "count": 0
           },
           {
            "bin_start": 0.4,
            "bin_end": 0.5,
            "count": 0
           }
          ]
         }
        },
        {
         "name": "rpis_uci_lista_espera",
         "dtype": "int64",
         "stats": {
          "unique_count": 1,
          "nan_count": 0,
          "min": "0",
          "max": "0",
          "histogram": [
           {
            "bin_start": -0.5,
            "bin_end": -0.4,
            "count": 0
           },
           {
            "bin_start": -0.4,
            "bin_end": -0.3,
            "count": 0
           },
           {
            "bin_start": -0.3,
            "bin_end": -0.19999999999999996,
            "count": 0
           },
           {
            "bin_start": -0.19999999999999996,
            "bin_end": -0.09999999999999998,
            "count": 0
           },
           {
            "bin_start": -0.09999999999999998,
            "bin_end": 0,
            "count": 0
           },
           {
            "bin_start": 0,
            "bin_end": 0.10000000000000009,
            "count": 5
           },
           {
            "bin_start": 0.10000000000000009,
            "bin_end": 0.20000000000000007,
            "count": 0
           },
           {
            "bin_start": 0.20000000000000007,
            "bin_end": 0.30000000000000004,
            "count": 0
           },
           {
            "bin_start": 0.30000000000000004,
            "bin_end": 0.4,
            "count": 0
           },
           {
            "bin_start": 0.4,
            "bin_end": 0.5,
            "count": 0
           }
          ]
         }
        },
        {
         "name": "rpis_uci_camas_asignadas",
         "dtype": "int64",
         "stats": {
          "unique_count": 1,
          "nan_count": 0,
          "min": "0",
          "max": "0",
          "histogram": [
           {
            "bin_start": -0.5,
            "bin_end": -0.4,
            "count": 0
           },
           {
            "bin_start": -0.4,
            "bin_end": -0.3,
            "count": 0
           },
           {
            "bin_start": -0.3,
            "bin_end": -0.19999999999999996,
            "count": 0
           },
           {
            "bin_start": -0.19999999999999996,
            "bin_end": -0.09999999999999998,
            "count": 0
           },
           {
            "bin_start": -0.09999999999999998,
            "bin_end": 0,
            "count": 0
           },
           {
            "bin_start": 0,
            "bin_end": 0.10000000000000009,
            "count": 5
           },
           {
            "bin_start": 0.10000000000000009,
            "bin_end": 0.20000000000000007,
            "count": 0
           },
           {
            "bin_start": 0.20000000000000007,
            "bin_end": 0.30000000000000004,
            "count": 0
           },
           {
            "bin_start": 0.30000000000000004,
            "bin_end": 0.4,
            "count": 0
           },
           {
            "bin_start": 0.4,
            "bin_end": 0.5,
            "count": 0
           }
          ]
         }
        },
        {
         "name": "rpis_uci_camas_ocupadas",
         "dtype": "int64",
         "stats": {
          "unique_count": 1,
          "nan_count": 0,
          "min": "0",
          "max": "0",
          "histogram": [
           {
            "bin_start": -0.5,
            "bin_end": -0.4,
            "count": 0
           },
           {
            "bin_start": -0.4,
            "bin_end": -0.3,
            "count": 0
           },
           {
            "bin_start": -0.3,
            "bin_end": -0.19999999999999996,
            "count": 0
           },
           {
            "bin_start": -0.19999999999999996,
            "bin_end": -0.09999999999999998,
            "count": 0
           },
           {
            "bin_start": -0.09999999999999998,
            "bin_end": 0,
            "count": 0
           },
           {
            "bin_start": 0,
            "bin_end": 0.10000000000000009,
            "count": 5
           },
           {
            "bin_start": 0.10000000000000009,
            "bin_end": 0.20000000000000007,
            "count": 0
           },
           {
            "bin_start": 0.20000000000000007,
            "bin_end": 0.30000000000000004,
            "count": 0
           },
           {
            "bin_start": 0.30000000000000004,
            "bin_end": 0.4,
            "count": 0
           },
           {
            "bin_start": 0.4,
            "bin_end": 0.5,
            "count": 0
           }
          ]
         }
        },
        {
         "name": "rpc_hospitalizacion_camas_porcentaje_ocupadas",
         "dtype": "int64",
         "stats": {
          "unique_count": 1,
          "nan_count": 0,
          "min": "0",
          "max": "0",
          "histogram": [
           {
            "bin_start": -0.5,
            "bin_end": -0.4,
            "count": 0
           },
           {
            "bin_start": -0.4,
            "bin_end": -0.3,
            "count": 0
           },
           {
            "bin_start": -0.3,
            "bin_end": -0.19999999999999996,
            "count": 0
           },
           {
            "bin_start": -0.19999999999999996,
            "bin_end": -0.09999999999999998,
            "count": 0
           },
           {
            "bin_start": -0.09999999999999998,
            "bin_end": 0,
            "count": 0
           },
           {
            "bin_start": 0,
            "bin_end": 0.10000000000000009,
            "count": 5
           },
           {
            "bin_start": 0.10000000000000009,
            "bin_end": 0.20000000000000007,
            "count": 0
           },
           {
            "bin_start": 0.20000000000000007,
            "bin_end": 0.30000000000000004,
            "count": 0
           },
           {
            "bin_start": 0.30000000000000004,
            "bin_end": 0.4,
            "count": 0
           },
           {
            "bin_start": 0.4,
            "bin_end": 0.5,
            "count": 0
           }
          ]
         }
        },
        {
         "name": "rpc_hospitalizacion_lista_espera",
         "dtype": "int64",
         "stats": {
          "unique_count": 1,
          "nan_count": 0,
          "min": "0",
          "max": "0",
          "histogram": [
           {
            "bin_start": -0.5,
            "bin_end": -0.4,
            "count": 0
           },
           {
            "bin_start": -0.4,
            "bin_end": -0.3,
            "count": 0
           },
           {
            "bin_start": -0.3,
            "bin_end": -0.19999999999999996,
            "count": 0
           },
           {
            "bin_start": -0.19999999999999996,
            "bin_end": -0.09999999999999998,
            "count": 0
           },
           {
            "bin_start": -0.09999999999999998,
            "bin_end": 0,
            "count": 0
           },
           {
            "bin_start": 0,
            "bin_end": 0.10000000000000009,
            "count": 5
           },
           {
            "bin_start": 0.10000000000000009,
            "bin_end": 0.20000000000000007,
            "count": 0
           },
           {
            "bin_start": 0.20000000000000007,
            "bin_end": 0.30000000000000004,
            "count": 0
           },
           {
            "bin_start": 0.30000000000000004,
            "bin_end": 0.4,
            "count": 0
           },
           {
            "bin_start": 0.4,
            "bin_end": 0.5,
            "count": 0
           }
          ]
         }
        },
        {
         "name": "rpc_hospitalizacion_camas_asignadas",
         "dtype": "int64",
         "stats": {
          "unique_count": 1,
          "nan_count": 0,
          "min": "0",
          "max": "0",
          "histogram": [
           {
            "bin_start": -0.5,
            "bin_end": -0.4,
            "count": 0
           },
           {
            "bin_start": -0.4,
            "bin_end": -0.3,
            "count": 0
           },
           {
            "bin_start": -0.3,
            "bin_end": -0.19999999999999996,
            "count": 0
           },
           {
            "bin_start": -0.19999999999999996,
            "bin_end": -0.09999999999999998,
            "count": 0
           },
           {
            "bin_start": -0.09999999999999998,
            "bin_end": 0,
            "count": 0
           },
           {
            "bin_start": 0,
            "bin_end": 0.10000000000000009,
            "count": 5
           },
           {
            "bin_start": 0.10000000000000009,
            "bin_end": 0.20000000000000007,
            "count": 0
           },
           {
            "bin_start": 0.20000000000000007,
            "bin_end": 0.30000000000000004,
            "count": 0
           },
           {
            "bin_start": 0.30000000000000004,
            "bin_end": 0.4,
            "count": 0
           },
           {
            "bin_start": 0.4,
            "bin_end": 0.5,
            "count": 0
           }
          ]
         }
        },
        {
         "name": "rpc_hospitalizacion_camas_ocupadas",
         "dtype": "int64",
         "stats": {
          "unique_count": 1,
          "nan_count": 0,
          "min": "0",
          "max": "0",
          "histogram": [
           {
            "bin_start": -0.5,
            "bin_end": -0.4,
            "count": 0
           },
           {
            "bin_start": -0.4,
            "bin_end": -0.3,
            "count": 0
           },
           {
            "bin_start": -0.3,
            "bin_end": -0.19999999999999996,
            "count": 0
           },
           {
            "bin_start": -0.19999999999999996,
            "bin_end": -0.09999999999999998,
            "count": 0
           },
           {
            "bin_start": -0.09999999999999998,
            "bin_end": 0,
            "count": 0
           },
           {
            "bin_start": 0,
            "bin_end": 0.10000000000000009,
            "count": 5
           },
           {
            "bin_start": 0.10000000000000009,
            "bin_end": 0.20000000000000007,
            "count": 0
           },
           {
            "bin_start": 0.20000000000000007,
            "bin_end": 0.30000000000000004,
            "count": 0
           },
           {
            "bin_start": 0.30000000000000004,
            "bin_end": 0.4,
            "count": 0
           },
           {
            "bin_start": 0.4,
            "bin_end": 0.5,
            "count": 0
           }
          ]
         }
        },
        {
         "name": "rpc_cuidado_intermedio_camas_porcentaje_ocupadas",
         "dtype": "int64",
         "stats": {
          "unique_count": 1,
          "nan_count": 0,
          "min": "0",
          "max": "0",
          "histogram": [
           {
            "bin_start": -0.5,
            "bin_end": -0.4,
            "count": 0
           },
           {
            "bin_start": -0.4,
            "bin_end": -0.3,
            "count": 0
           },
           {
            "bin_start": -0.3,
            "bin_end": -0.19999999999999996,
            "count": 0
           },
           {
            "bin_start": -0.19999999999999996,
            "bin_end": -0.09999999999999998,
            "count": 0
           },
           {
            "bin_start": -0.09999999999999998,
            "bin_end": 0,
            "count": 0
           },
           {
            "bin_start": 0,
            "bin_end": 0.10000000000000009,
            "count": 5
           },
           {
            "bin_start": 0.10000000000000009,
            "bin_end": 0.20000000000000007,
            "count": 0
           },
           {
            "bin_start": 0.20000000000000007,
            "bin_end": 0.30000000000000004,
            "count": 0
           },
           {
            "bin_start": 0.30000000000000004,
            "bin_end": 0.4,
            "count": 0
           },
           {
            "bin_start": 0.4,
            "bin_end": 0.5,
            "count": 0
           }
          ]
         }
        },
        {
         "name": "rpc_cuidado_intermedio_lista_espera",
         "dtype": "int64",
         "stats": {
          "unique_count": 1,
          "nan_count": 0,
          "min": "0",
          "max": "0",
          "histogram": [
           {
            "bin_start": -0.5,
            "bin_end": -0.4,
            "count": 0
           },
           {
            "bin_start": -0.4,
            "bin_end": -0.3,
            "count": 0
           },
           {
            "bin_start": -0.3,
            "bin_end": -0.19999999999999996,
            "count": 0
           },
           {
            "bin_start": -0.19999999999999996,
            "bin_end": -0.09999999999999998,
            "count": 0
           },
           {
            "bin_start": -0.09999999999999998,
            "bin_end": 0,
            "count": 0
           },
           {
            "bin_start": 0,
            "bin_end": 0.10000000000000009,
            "count": 5
           },
           {
            "bin_start": 0.10000000000000009,
            "bin_end": 0.20000000000000007,
            "count": 0
           },
           {
            "bin_start": 0.20000000000000007,
            "bin_end": 0.30000000000000004,
            "count": 0
           },
           {
            "bin_start": 0.30000000000000004,
            "bin_end": 0.4,
            "count": 0
           },
           {
            "bin_start": 0.4,
            "bin_end": 0.5,
            "count": 0
           }
          ]
         }
        },
        {
         "name": "rpc_cuidado_intermedio_camas_asignadas",
         "dtype": "int64",
         "stats": {
          "unique_count": 1,
          "nan_count": 0,
          "min": "0",
          "max": "0",
          "histogram": [
           {
            "bin_start": -0.5,
            "bin_end": -0.4,
            "count": 0
           },
           {
            "bin_start": -0.4,
            "bin_end": -0.3,
            "count": 0
           },
           {
            "bin_start": -0.3,
            "bin_end": -0.19999999999999996,
            "count": 0
           },
           {
            "bin_start": -0.19999999999999996,
            "bin_end": -0.09999999999999998,
            "count": 0
           },
           {
            "bin_start": -0.09999999999999998,
            "bin_end": 0,
            "count": 0
           },
           {
            "bin_start": 0,
            "bin_end": 0.10000000000000009,
            "count": 5
           },
           {
            "bin_start": 0.10000000000000009,
            "bin_end": 0.20000000000000007,
            "count": 0
           },
           {
            "bin_start": 0.20000000000000007,
            "bin_end": 0.30000000000000004,
            "count": 0
           },
           {
            "bin_start": 0.30000000000000004,
            "bin_end": 0.4,
            "count": 0
           },
           {
            "bin_start": 0.4,
            "bin_end": 0.5,
            "count": 0
           }
          ]
         }
        },
        {
         "name": "rpc_cuidado_intermedio_camas_ocupadas",
         "dtype": "int64",
         "stats": {
          "unique_count": 1,
          "nan_count": 0,
          "min": "0",
          "max": "0",
          "histogram": [
           {
            "bin_start": -0.5,
            "bin_end": -0.4,
            "count": 0
           },
           {
            "bin_start": -0.4,
            "bin_end": -0.3,
            "count": 0
           },
           {
            "bin_start": -0.3,
            "bin_end": -0.19999999999999996,
            "count": 0
           },
           {
            "bin_start": -0.19999999999999996,
            "bin_end": -0.09999999999999998,
            "count": 0
           },
           {
            "bin_start": -0.09999999999999998,
            "bin_end": 0,
            "count": 0
           },
           {
            "bin_start": 0,
            "bin_end": 0.10000000000000009,
            "count": 5
           },
           {
            "bin_start": 0.10000000000000009,
            "bin_end": 0.20000000000000007,
            "count": 0
           },
           {
            "bin_start": 0.20000000000000007,
            "bin_end": 0.30000000000000004,
            "count": 0
           },
           {
            "bin_start": 0.30000000000000004,
            "bin_end": 0.4,
            "count": 0
           },
           {
            "bin_start": 0.4,
            "bin_end": 0.5,
            "count": 0
           }
          ]
         }
        },
        {
         "name": "rpc_uci_camas_porcentaje_ocupadas",
         "dtype": "int64",
         "stats": {
          "unique_count": 1,
          "nan_count": 0,
          "min": "0",
          "max": "0",
          "histogram": [
           {
            "bin_start": -0.5,
            "bin_end": -0.4,
            "count": 0
           },
           {
            "bin_start": -0.4,
            "bin_end": -0.3,
            "count": 0
           },
           {
            "bin_start": -0.3,
            "bin_end": -0.19999999999999996,
            "count": 0
           },
           {
            "bin_start": -0.19999999999999996,
            "bin_end": -0.09999999999999998,
            "count": 0
           },
           {
            "bin_start": -0.09999999999999998,
            "bin_end": 0,
            "count": 0
           },
           {
            "bin_start": 0,
            "bin_end": 0.10000000000000009,
            "count": 5
           },
           {
            "bin_start": 0.10000000000000009,
            "bin_end": 0.20000000000000007,
            "count": 0
           },
           {
            "bin_start": 0.20000000000000007,
            "bin_end": 0.30000000000000004,
            "count": 0
           },
           {
            "bin_start": 0.30000000000000004,
            "bin_end": 0.4,
            "count": 0
           },
           {
            "bin_start": 0.4,
            "bin_end": 0.5,
            "count": 0
           }
          ]
         }
        },
        {
         "name": "rpc_uci_lista_espera",
         "dtype": "int64",
         "stats": {
          "unique_count": 1,
          "nan_count": 0,
          "min": "0",
          "max": "0",
          "histogram": [
           {
            "bin_start": -0.5,
            "bin_end": -0.4,
            "count": 0
           },
           {
            "bin_start": -0.4,
            "bin_end": -0.3,
            "count": 0
           },
           {
            "bin_start": -0.3,
            "bin_end": -0.19999999999999996,
            "count": 0
           },
           {
            "bin_start": -0.19999999999999996,
            "bin_end": -0.09999999999999998,
            "count": 0
           },
           {
            "bin_start": -0.09999999999999998,
            "bin_end": 0,
            "count": 0
           },
           {
            "bin_start": 0,
            "bin_end": 0.10000000000000009,
            "count": 5
           },
           {
            "bin_start": 0.10000000000000009,
            "bin_end": 0.20000000000000007,
            "count": 0
           },
           {
            "bin_start": 0.20000000000000007,
            "bin_end": 0.30000000000000004,
            "count": 0
           },
           {
            "bin_start": 0.30000000000000004,
            "bin_end": 0.4,
            "count": 0
           },
           {
            "bin_start": 0.4,
            "bin_end": 0.5,
            "count": 0
           }
          ]
         }
        },
        {
         "name": "rpc_uci_camas_asignadas",
         "dtype": "int64",
         "stats": {
          "unique_count": 1,
          "nan_count": 0,
          "min": "0",
          "max": "0",
          "histogram": [
           {
            "bin_start": -0.5,
            "bin_end": -0.4,
            "count": 0
           },
           {
            "bin_start": -0.4,
            "bin_end": -0.3,
            "count": 0
           },
           {
            "bin_start": -0.3,
            "bin_end": -0.19999999999999996,
            "count": 0
           },
           {
            "bin_start": -0.19999999999999996,
            "bin_end": -0.09999999999999998,
            "count": 0
           },
           {
            "bin_start": -0.09999999999999998,
            "bin_end": 0,
            "count": 0
           },
           {
            "bin_start": 0,
            "bin_end": 0.10000000000000009,
            "count": 5
           },
           {
            "bin_start": 0.10000000000000009,
            "bin_end": 0.20000000000000007,
            "count": 0
           },
           {
            "bin_start": 0.20000000000000007,
            "bin_end": 0.30000000000000004,
            "count": 0
           },
           {
            "bin_start": 0.30000000000000004,
            "bin_end": 0.4,
            "count": 0
           },
           {
            "bin_start": 0.4,
            "bin_end": 0.5,
            "count": 0
           }
          ]
         }
        },
        {
         "name": "rpc_uci_camas_ocupadas",
         "dtype": "int64",
         "stats": {
          "unique_count": 1,
          "nan_count": 0,
          "min": "0",
          "max": "0",
          "histogram": [
           {
            "bin_start": -0.5,
            "bin_end": -0.4,
            "count": 0
           },
           {
            "bin_start": -0.4,
            "bin_end": -0.3,
            "count": 0
           },
           {
            "bin_start": -0.3,
            "bin_end": -0.19999999999999996,
            "count": 0
           },
           {
            "bin_start": -0.19999999999999996,
            "bin_end": -0.09999999999999998,
            "count": 0
           },
           {
            "bin_start": -0.09999999999999998,
            "bin_end": 0,
            "count": 0
           },
           {
            "bin_start": 0,
            "bin_end": 0.10000000000000009,
            "count": 5
           },
           {
            "bin_start": 0.10000000000000009,
            "bin_end": 0.20000000000000007,
            "count": 0
           },
           {
            "bin_start": 0.20000000000000007,
            "bin_end": 0.30000000000000004,
            "count": 0
           },
           {
            "bin_start": 0.30000000000000004,
            "bin_end": 0.4,
            "count": 0
           },
           {
            "bin_start": 0.4,
            "bin_end": 0.5,
            "count": 0
           }
          ]
         }
        },
        {
         "name": "_deepnote_index_column",
         "dtype": "int64"
        }
       ],
       "rows_top": [
        {
         "created_at": "2020-03-13",
         "muestras": 129,
         "muestras_pcr": 129,
         "positivas_total": 0,
         "positivas_probables": 0,
         "muestras_pcr_nuevas": 0,
         "pruebas_rezagadas": 106,
         "muertes_confirmadas": 1,
         "muertes_probables": 0,
         "muertes": 1,
         "muertes_nuevas": 0,
         "positivas": 23,
         "positivas_pcr": 23,
         "positivas_pcr_nuevas": 0,
         "positivas_pcr_mujer": 0,
         "positivas_pcr_hombre": 0,
         "positivas_pcr_hombre_edades_meses": 0,
         "positivas_pcr_hombre_edades_0a4": 0,
         "positivas_pcr_hombre_edades_5a9": 0,
         "positivas_pcr_hombre_edades_10a14": 0,
         "positivas_pcr_hombre_edades_15a19": 0,
         "positivas_pcr_hombre_edades_20a49": 0,
         "positivas_pcr_hombre_edades_50a64": 0,
         "positivas_pcr_hombre_edades_65an": 0,
         "positivas_pcr_mujer_edades_meses": 0,
         "positivas_pcr_mujer_edades_0a4": 0,
         "positivas_pcr_mujer_edades_5a9": 0,
         "positivas_pcr_mujer_edades_10a14": 0,
         "positivas_pcr_mujer_edades_15a19": 0,
         "positivas_pcr_mujer_edades_20a49": 0,
         "positivas_pcr_mujer_edades_50a64": 0,
         "positivas_pcr_mujer_edades_65an": 0,
         "positivas_rapidas": 0,
         "negativas": 0,
         "negativas_pcr": 0,
         "negativas_pcr_nuevas": 0,
         "negativas_rapidas": 0,
         "hospitalizadas_altas": 0,
         "hospitalizadas_estables": 0,
         "hospitalizadas_pronostico_reservadas": 1,
         "msp_hospitalizacion_camas_porcentaje_ocupadas": 0,
         "msp_hospitalizacion_lista_espera": 0,
         "msp_hospitalizacion_camas_asignadas": 0,
         "msp_hospitalizacion_camas_ocupadas": 0,
         "msp_cuidado_intermedio_camas_porcentaje_ocupadas": 0,
         "msp_cuidado_intermedio_lista_espera": 0,
         "msp_cuidado_intermedio_camas_asignadas": 0,
         "msp_cuidado_intermedio_camas_ocupadas": 0,
         "msp_uci_camas_porcentaje_ocupadas": 0,
         "msp_uci_lista_espera": 0,
         "msp_uci_camas_asignadas": 0,
         "msp_uci_camas_ocupadas": 0,
         "rpis_hospitalizacion_camas_porcentaje_ocupadas": 0,
         "rpis_hospitalizacion_lista_espera": 0,
         "rpis_hospitalizacion_camas_asignadas": 0,
         "rpis_hospitalizacion_camas_ocupadas": 0,
         "rpis_cuidado_intermedio_camas_porcentaje_ocupadas": 0,
         "rpis_cuidado_intermedio_lista_espera": 0,
         "rpis_cuidado_intermedio_camas_asignadas": 0,
         "rpis_cuidado_intermedio_camas_ocupadas": 0,
         "rpis_uci_camas_porcentaje_ocupadas": 0,
         "rpis_uci_lista_espera": 0,
         "rpis_uci_camas_asignadas": 0,
         "rpis_uci_camas_ocupadas": 0,
         "rpc_hospitalizacion_camas_porcentaje_ocupadas": 0,
         "rpc_hospitalizacion_lista_espera": 0,
         "rpc_hospitalizacion_camas_asignadas": 0,
         "rpc_hospitalizacion_camas_ocupadas": 0,
         "rpc_cuidado_intermedio_camas_porcentaje_ocupadas": 0,
         "rpc_cuidado_intermedio_lista_espera": 0,
         "rpc_cuidado_intermedio_camas_asignadas": 0,
         "rpc_cuidado_intermedio_camas_ocupadas": 0,
         "rpc_uci_camas_porcentaje_ocupadas": 0,
         "rpc_uci_lista_espera": 0,
         "rpc_uci_camas_asignadas": 0,
         "rpc_uci_camas_ocupadas": 0,
         "_deepnote_index_column": 0
        },
        {
         "created_at": "2020-03-14",
         "muestras": 206,
         "muestras_pcr": 206,
         "positivas_total": 0,
         "positivas_probables": 0,
         "muestras_pcr_nuevas": 77,
         "pruebas_rezagadas": 178,
         "muertes_confirmadas": 2,
         "muertes_probables": 0,
         "muertes": 2,
         "muertes_nuevas": 1,
         "positivas": 28,
         "positivas_pcr": 28,
         "positivas_pcr_nuevas": 5,
         "positivas_pcr_mujer": 0,
         "positivas_pcr_hombre": 0,
         "positivas_pcr_hombre_edades_meses": 0,
         "positivas_pcr_hombre_edades_0a4": 0,
         "positivas_pcr_hombre_edades_5a9": 0,
         "positivas_pcr_hombre_edades_10a14": 0,
         "positivas_pcr_hombre_edades_15a19": 0,
         "positivas_pcr_hombre_edades_20a49": 0,
         "positivas_pcr_hombre_edades_50a64": 0,
         "positivas_pcr_hombre_edades_65an": 0,
         "positivas_pcr_mujer_edades_meses": 0,
         "positivas_pcr_mujer_edades_0a4": 0,
         "positivas_pcr_mujer_edades_5a9": 0,
         "positivas_pcr_mujer_edades_10a14": 0,
         "positivas_pcr_mujer_edades_15a19": 0,
         "positivas_pcr_mujer_edades_20a49": 0,
         "positivas_pcr_mujer_edades_50a64": 0,
         "positivas_pcr_mujer_edades_65an": 0,
         "positivas_rapidas": 0,
         "negativas": 0,
         "negativas_pcr": 0,
         "negativas_pcr_nuevas": 0,
         "negativas_rapidas": 0,
         "hospitalizadas_altas": 0,
         "hospitalizadas_estables": 7,
         "hospitalizadas_pronostico_reservadas": 3,
         "msp_hospitalizacion_camas_porcentaje_ocupadas": 0,
         "msp_hospitalizacion_lista_espera": 0,
         "msp_hospitalizacion_camas_asignadas": 0,
         "msp_hospitalizacion_camas_ocupadas": 0,
         "msp_cuidado_intermedio_camas_porcentaje_ocupadas": 0,
         "msp_cuidado_intermedio_lista_espera": 0,
         "msp_cuidado_intermedio_camas_asignadas": 0,
         "msp_cuidado_intermedio_camas_ocupadas": 0,
         "msp_uci_camas_porcentaje_ocupadas": 0,
         "msp_uci_lista_espera": 0,
         "msp_uci_camas_asignadas": 0,
         "msp_uci_camas_ocupadas": 0,
         "rpis_hospitalizacion_camas_porcentaje_ocupadas": 0,
         "rpis_hospitalizacion_lista_espera": 0,
         "rpis_hospitalizacion_camas_asignadas": 0,
         "rpis_hospitalizacion_camas_ocupadas": 0,
         "rpis_cuidado_intermedio_camas_porcentaje_ocupadas": 0,
         "rpis_cuidado_intermedio_lista_espera": 0,
         "rpis_cuidado_intermedio_camas_asignadas": 0,
         "rpis_cuidado_intermedio_camas_ocupadas": 0,
         "rpis_uci_camas_porcentaje_ocupadas": 0,
         "rpis_uci_lista_espera": 0,
         "rpis_uci_camas_asignadas": 0,
         "rpis_uci_camas_ocupadas": 0,
         "rpc_hospitalizacion_camas_porcentaje_ocupadas": 0,
         "rpc_hospitalizacion_lista_espera": 0,
         "rpc_hospitalizacion_camas_asignadas": 0,
         "rpc_hospitalizacion_camas_ocupadas": 0,
         "rpc_cuidado_intermedio_camas_porcentaje_ocupadas": 0,
         "rpc_cuidado_intermedio_lista_espera": 0,
         "rpc_cuidado_intermedio_camas_asignadas": 0,
         "rpc_cuidado_intermedio_camas_ocupadas": 0,
         "rpc_uci_camas_porcentaje_ocupadas": 0,
         "rpc_uci_lista_espera": 0,
         "rpc_uci_camas_asignadas": 0,
         "rpc_uci_camas_ocupadas": 0,
         "_deepnote_index_column": 1
        },
        {
         "created_at": "2020-03-15",
         "muestras": 273,
         "muestras_pcr": 273,
         "positivas_total": 0,
         "positivas_probables": 0,
         "muestras_pcr_nuevas": 67,
         "pruebas_rezagadas": 236,
         "muertes_confirmadas": 2,
         "muertes_probables": 0,
         "muertes": 2,
         "muertes_nuevas": 0,
         "positivas": 37,
         "positivas_pcr": 37,
         "positivas_pcr_nuevas": 9,
         "positivas_pcr_mujer": 0,
         "positivas_pcr_hombre": 0,
         "positivas_pcr_hombre_edades_meses": 0,
         "positivas_pcr_hombre_edades_0a4": 0,
         "positivas_pcr_hombre_edades_5a9": 0,
         "positivas_pcr_hombre_edades_10a14": 0,
         "positivas_pcr_hombre_edades_15a19": 0,
         "positivas_pcr_hombre_edades_20a49": 0,
         "positivas_pcr_hombre_edades_50a64": 0,
         "positivas_pcr_hombre_edades_65an": 0,
         "positivas_pcr_mujer_edades_meses": 0,
         "positivas_pcr_mujer_edades_0a4": 0,
         "positivas_pcr_mujer_edades_5a9": 0,
         "positivas_pcr_mujer_edades_10a14": 0,
         "positivas_pcr_mujer_edades_15a19": 0,
         "positivas_pcr_mujer_edades_20a49": 0,
         "positivas_pcr_mujer_edades_50a64": 0,
         "positivas_pcr_mujer_edades_65an": 0,
         "positivas_rapidas": 0,
         "negativas": 0,
         "negativas_pcr": 0,
         "negativas_pcr_nuevas": 0,
         "negativas_rapidas": 0,
         "hospitalizadas_altas": 0,
         "hospitalizadas_estables": 7,
         "hospitalizadas_pronostico_reservadas": 2,
         "msp_hospitalizacion_camas_porcentaje_ocupadas": 0,
         "msp_hospitalizacion_lista_espera": 0,
         "msp_hospitalizacion_camas_asignadas": 0,
         "msp_hospitalizacion_camas_ocupadas": 0,
         "msp_cuidado_intermedio_camas_porcentaje_ocupadas": 0,
         "msp_cuidado_intermedio_lista_espera": 0,
         "msp_cuidado_intermedio_camas_asignadas": 0,
         "msp_cuidado_intermedio_camas_ocupadas": 0,
         "msp_uci_camas_porcentaje_ocupadas": 0,
         "msp_uci_lista_espera": 0,
         "msp_uci_camas_asignadas": 0,
         "msp_uci_camas_ocupadas": 0,
         "rpis_hospitalizacion_camas_porcentaje_ocupadas": 0,
         "rpis_hospitalizacion_lista_espera": 0,
         "rpis_hospitalizacion_camas_asignadas": 0,
         "rpis_hospitalizacion_camas_ocupadas": 0,
         "rpis_cuidado_intermedio_camas_porcentaje_ocupadas": 0,
         "rpis_cuidado_intermedio_lista_espera": 0,
         "rpis_cuidado_intermedio_camas_asignadas": 0,
         "rpis_cuidado_intermedio_camas_ocupadas": 0,
         "rpis_uci_camas_porcentaje_ocupadas": 0,
         "rpis_uci_lista_espera": 0,
         "rpis_uci_camas_asignadas": 0,
         "rpis_uci_camas_ocupadas": 0,
         "rpc_hospitalizacion_camas_porcentaje_ocupadas": 0,
         "rpc_hospitalizacion_lista_espera": 0,
         "rpc_hospitalizacion_camas_asignadas": 0,
         "rpc_hospitalizacion_camas_ocupadas": 0,
         "rpc_cuidado_intermedio_camas_porcentaje_ocupadas": 0,
         "rpc_cuidado_intermedio_lista_espera": 0,
         "rpc_cuidado_intermedio_camas_asignadas": 0,
         "rpc_cuidado_intermedio_camas_ocupadas": 0,
         "rpc_uci_camas_porcentaje_ocupadas": 0,
         "rpc_uci_lista_espera": 0,
         "rpc_uci_camas_asignadas": 0,
         "rpc_uci_camas_ocupadas": 0,
         "_deepnote_index_column": 2
        },
        {
         "created_at": "2020-03-16",
         "muestras": 354,
         "muestras_pcr": 354,
         "positivas_total": 0,
         "positivas_probables": 0,
         "muestras_pcr_nuevas": 81,
         "pruebas_rezagadas": 296,
         "muertes_confirmadas": 2,
         "muertes_probables": 0,
         "muertes": 2,
         "muertes_nuevas": 0,
         "positivas": 58,
         "positivas_pcr": 58,
         "positivas_pcr_nuevas": 21,
         "positivas_pcr_mujer": 0,
         "positivas_pcr_hombre": 0,
         "positivas_pcr_hombre_edades_meses": 0,
         "positivas_pcr_hombre_edades_0a4": 0,
         "positivas_pcr_hombre_edades_5a9": 0,
         "positivas_pcr_hombre_edades_10a14": 0,
         "positivas_pcr_hombre_edades_15a19": 0,
         "positivas_pcr_hombre_edades_20a49": 0,
         "positivas_pcr_hombre_edades_50a64": 0,
         "positivas_pcr_hombre_edades_65an": 0,
         "positivas_pcr_mujer_edades_meses": 0,
         "positivas_pcr_mujer_edades_0a4": 0,
         "positivas_pcr_mujer_edades_5a9": 0,
         "positivas_pcr_mujer_edades_10a14": 0,
         "positivas_pcr_mujer_edades_15a19": 0,
         "positivas_pcr_mujer_edades_20a49": 0,
         "positivas_pcr_mujer_edades_50a64": 0,
         "positivas_pcr_mujer_edades_65an": 0,
         "positivas_rapidas": 0,
         "negativas": 0,
         "negativas_pcr": 0,
         "negativas_pcr_nuevas": 0,
         "negativas_rapidas": 0,
         "hospitalizadas_altas": 0,
         "hospitalizadas_estables": 9,
         "hospitalizadas_pronostico_reservadas": 5,
         "msp_hospitalizacion_camas_porcentaje_ocupadas": 0,
         "msp_hospitalizacion_lista_espera": 0,
         "msp_hospitalizacion_camas_asignadas": 0,
         "msp_hospitalizacion_camas_ocupadas": 0,
         "msp_cuidado_intermedio_camas_porcentaje_ocupadas": 0,
         "msp_cuidado_intermedio_lista_espera": 0,
         "msp_cuidado_intermedio_camas_asignadas": 0,
         "msp_cuidado_intermedio_camas_ocupadas": 0,
         "msp_uci_camas_porcentaje_ocupadas": 0,
         "msp_uci_lista_espera": 0,
         "msp_uci_camas_asignadas": 0,
         "msp_uci_camas_ocupadas": 0,
         "rpis_hospitalizacion_camas_porcentaje_ocupadas": 0,
         "rpis_hospitalizacion_lista_espera": 0,
         "rpis_hospitalizacion_camas_asignadas": 0,
         "rpis_hospitalizacion_camas_ocupadas": 0,
         "rpis_cuidado_intermedio_camas_porcentaje_ocupadas": 0,
         "rpis_cuidado_intermedio_lista_espera": 0,
         "rpis_cuidado_intermedio_camas_asignadas": 0,
         "rpis_cuidado_intermedio_camas_ocupadas": 0,
         "rpis_uci_camas_porcentaje_ocupadas": 0,
         "rpis_uci_lista_espera": 0,
         "rpis_uci_camas_asignadas": 0,
         "rpis_uci_camas_ocupadas": 0,
         "rpc_hospitalizacion_camas_porcentaje_ocupadas": 0,
         "rpc_hospitalizacion_lista_espera": 0,
         "rpc_hospitalizacion_camas_asignadas": 0,
         "rpc_hospitalizacion_camas_ocupadas": 0,
         "rpc_cuidado_intermedio_camas_porcentaje_ocupadas": 0,
         "rpc_cuidado_intermedio_lista_espera": 0,
         "rpc_cuidado_intermedio_camas_asignadas": 0,
         "rpc_cuidado_intermedio_camas_ocupadas": 0,
         "rpc_uci_camas_porcentaje_ocupadas": 0,
         "rpc_uci_lista_espera": 0,
         "rpc_uci_camas_asignadas": 0,
         "rpc_uci_camas_ocupadas": 0,
         "_deepnote_index_column": 3
        },
        {
         "created_at": "2020-03-17",
         "muestras": 762,
         "muestras_pcr": 762,
         "positivas_total": 0,
         "positivas_probables": 0,
         "muestras_pcr_nuevas": 408,
         "pruebas_rezagadas": 651,
         "muertes_confirmadas": 2,
         "muertes_probables": 0,
         "muertes": 2,
         "muertes_nuevas": 0,
         "positivas": 111,
         "positivas_pcr": 111,
         "positivas_pcr_nuevas": 53,
         "positivas_pcr_mujer": 0,
         "positivas_pcr_hombre": 0,
         "positivas_pcr_hombre_edades_meses": 0,
         "positivas_pcr_hombre_edades_0a4": 0,
         "positivas_pcr_hombre_edades_5a9": 0,
         "positivas_pcr_hombre_edades_10a14": 0,
         "positivas_pcr_hombre_edades_15a19": 0,
         "positivas_pcr_hombre_edades_20a49": 0,
         "positivas_pcr_hombre_edades_50a64": 0,
         "positivas_pcr_hombre_edades_65an": 0,
         "positivas_pcr_mujer_edades_meses": 0,
         "positivas_pcr_mujer_edades_0a4": 0,
         "positivas_pcr_mujer_edades_5a9": 0,
         "positivas_pcr_mujer_edades_10a14": 0,
         "positivas_pcr_mujer_edades_15a19": 0,
         "positivas_pcr_mujer_edades_20a49": 0,
         "positivas_pcr_mujer_edades_50a64": 0,
         "positivas_pcr_mujer_edades_65an": 0,
         "positivas_rapidas": 0,
         "negativas": 0,
         "negativas_pcr": 0,
         "negativas_pcr_nuevas": 0,
         "negativas_rapidas": 0,
         "hospitalizadas_altas": 0,
         "hospitalizadas_estables": 9,
         "hospitalizadas_pronostico_reservadas": 5,
         "msp_hospitalizacion_camas_porcentaje_ocupadas": 0,
         "msp_hospitalizacion_lista_espera": 0,
         "msp_hospitalizacion_camas_asignadas": 0,
         "msp_hospitalizacion_camas_ocupadas": 0,
         "msp_cuidado_intermedio_camas_porcentaje_ocupadas": 0,
         "msp_cuidado_intermedio_lista_espera": 0,
         "msp_cuidado_intermedio_camas_asignadas": 0,
         "msp_cuidado_intermedio_camas_ocupadas": 0,
         "msp_uci_camas_porcentaje_ocupadas": 0,
         "msp_uci_lista_espera": 0,
         "msp_uci_camas_asignadas": 0,
         "msp_uci_camas_ocupadas": 0,
         "rpis_hospitalizacion_camas_porcentaje_ocupadas": 0,
         "rpis_hospitalizacion_lista_espera": 0,
         "rpis_hospitalizacion_camas_asignadas": 0,
         "rpis_hospitalizacion_camas_ocupadas": 0,
         "rpis_cuidado_intermedio_camas_porcentaje_ocupadas": 0,
         "rpis_cuidado_intermedio_lista_espera": 0,
         "rpis_cuidado_intermedio_camas_asignadas": 0,
         "rpis_cuidado_intermedio_camas_ocupadas": 0,
         "rpis_uci_camas_porcentaje_ocupadas": 0,
         "rpis_uci_lista_espera": 0,
         "rpis_uci_camas_asignadas": 0,
         "rpis_uci_camas_ocupadas": 0,
         "rpc_hospitalizacion_camas_porcentaje_ocupadas": 0,
         "rpc_hospitalizacion_lista_espera": 0,
         "rpc_hospitalizacion_camas_asignadas": 0,
         "rpc_hospitalizacion_camas_ocupadas": 0,
         "rpc_cuidado_intermedio_camas_porcentaje_ocupadas": 0,
         "rpc_cuidado_intermedio_lista_espera": 0,
         "rpc_cuidado_intermedio_camas_asignadas": 0,
         "rpc_cuidado_intermedio_camas_ocupadas": 0,
         "rpc_uci_camas_porcentaje_ocupadas": 0,
         "rpc_uci_lista_espera": 0,
         "rpc_uci_camas_asignadas": 0,
         "rpc_uci_camas_ocupadas": 0,
         "_deepnote_index_column": 4
        }
       ],
       "rows_bottom": null
      },
      "text/plain": "   created_at  muestras  muestras_pcr  positivas_total  positivas_probables  \\\n0  2020-03-13       129           129                0                    0   \n1  2020-03-14       206           206                0                    0   \n2  2020-03-15       273           273                0                    0   \n3  2020-03-16       354           354                0                    0   \n4  2020-03-17       762           762                0                    0   \n\n   muestras_pcr_nuevas  pruebas_rezagadas  muertes_confirmadas  \\\n0                    0                106                    1   \n1                   77                178                    2   \n2                   67                236                    2   \n3                   81                296                    2   \n4                  408                651                    2   \n\n   muertes_probables  muertes  ...  rpc_hospitalizacion_camas_asignadas  \\\n0                  0        1  ...                                    0   \n1                  0        2  ...                                    0   \n2                  0        2  ...                                    0   \n3                  0        2  ...                                    0   \n4                  0        2  ...                                    0   \n\n   rpc_hospitalizacion_camas_ocupadas  \\\n0                                   0   \n1                                   0   \n2                                   0   \n3                                   0   \n4                                   0   \n\n   rpc_cuidado_intermedio_camas_porcentaje_ocupadas  \\\n0                                                 0   \n1                                                 0   \n2                                                 0   \n3                                                 0   \n4                                                 0   \n\n   rpc_cuidado_intermedio_lista_espera  \\\n0                                    0   \n1                                    0   \n2                                    0   \n3                                    0   \n4                                    0   \n\n   rpc_cuidado_intermedio_camas_asignadas  \\\n0                                       0   \n1                                       0   \n2                                       0   \n3                                       0   \n4                                       0   \n\n   rpc_cuidado_intermedio_camas_ocupadas  rpc_uci_camas_porcentaje_ocupadas  \\\n0                                      0                                  0   \n1                                      0                                  0   \n2                                      0                                  0   \n3                                      0                                  0   \n4                                      0                                  0   \n\n   rpc_uci_lista_espera  rpc_uci_camas_asignadas  rpc_uci_camas_ocupadas  \n0                     0                        0                       0  \n1                     0                        0                       0  \n2                     0                        0                       0  \n3                     0                        0                       0  \n4                     0                        0                       0  \n\n[5 rows x 76 columns]",
      "text/html": "<div>\n<style scoped>\n    .dataframe tbody tr th:only-of-type {\n        vertical-align: middle;\n    }\n\n    .dataframe tbody tr th {\n        vertical-align: top;\n    }\n\n    .dataframe thead th {\n        text-align: right;\n    }\n</style>\n<table border=\"1\" class=\"dataframe\">\n  <thead>\n    <tr style=\"text-align: right;\">\n      <th></th>\n      <th>created_at</th>\n      <th>muestras</th>\n      <th>muestras_pcr</th>\n      <th>positivas_total</th>\n      <th>positivas_probables</th>\n      <th>muestras_pcr_nuevas</th>\n      <th>pruebas_rezagadas</th>\n      <th>muertes_confirmadas</th>\n      <th>muertes_probables</th>\n      <th>muertes</th>\n      <th>...</th>\n      <th>rpc_hospitalizacion_camas_asignadas</th>\n      <th>rpc_hospitalizacion_camas_ocupadas</th>\n      <th>rpc_cuidado_intermedio_camas_porcentaje_ocupadas</th>\n      <th>rpc_cuidado_intermedio_lista_espera</th>\n      <th>rpc_cuidado_intermedio_camas_asignadas</th>\n      <th>rpc_cuidado_intermedio_camas_ocupadas</th>\n      <th>rpc_uci_camas_porcentaje_ocupadas</th>\n      <th>rpc_uci_lista_espera</th>\n      <th>rpc_uci_camas_asignadas</th>\n      <th>rpc_uci_camas_ocupadas</th>\n    </tr>\n  </thead>\n  <tbody>\n    <tr>\n      <th>0</th>\n      <td>2020-03-13</td>\n      <td>129</td>\n      <td>129</td>\n      <td>0</td>\n      <td>0</td>\n      <td>0</td>\n      <td>106</td>\n      <td>1</td>\n      <td>0</td>\n      <td>1</td>\n      <td>...</td>\n      <td>0</td>\n      <td>0</td>\n      <td>0</td>\n      <td>0</td>\n      <td>0</td>\n      <td>0</td>\n      <td>0</td>\n      <td>0</td>\n      <td>0</td>\n      <td>0</td>\n    </tr>\n    <tr>\n      <th>1</th>\n      <td>2020-03-14</td>\n      <td>206</td>\n      <td>206</td>\n      <td>0</td>\n      <td>0</td>\n      <td>77</td>\n      <td>178</td>\n      <td>2</td>\n      <td>0</td>\n      <td>2</td>\n      <td>...</td>\n      <td>0</td>\n      <td>0</td>\n      <td>0</td>\n      <td>0</td>\n      <td>0</td>\n      <td>0</td>\n      <td>0</td>\n      <td>0</td>\n      <td>0</td>\n      <td>0</td>\n    </tr>\n    <tr>\n      <th>2</th>\n      <td>2020-03-15</td>\n      <td>273</td>\n      <td>273</td>\n      <td>0</td>\n      <td>0</td>\n      <td>67</td>\n      <td>236</td>\n      <td>2</td>\n      <td>0</td>\n      <td>2</td>\n      <td>...</td>\n      <td>0</td>\n      <td>0</td>\n      <td>0</td>\n      <td>0</td>\n      <td>0</td>\n      <td>0</td>\n      <td>0</td>\n      <td>0</td>\n      <td>0</td>\n      <td>0</td>\n    </tr>\n    <tr>\n      <th>3</th>\n      <td>2020-03-16</td>\n      <td>354</td>\n      <td>354</td>\n      <td>0</td>\n      <td>0</td>\n      <td>81</td>\n      <td>296</td>\n      <td>2</td>\n      <td>0</td>\n      <td>2</td>\n      <td>...</td>\n      <td>0</td>\n      <td>0</td>\n      <td>0</td>\n      <td>0</td>\n      <td>0</td>\n      <td>0</td>\n      <td>0</td>\n      <td>0</td>\n      <td>0</td>\n      <td>0</td>\n    </tr>\n    <tr>\n      <th>4</th>\n      <td>2020-03-17</td>\n      <td>762</td>\n      <td>762</td>\n      <td>0</td>\n      <td>0</td>\n      <td>408</td>\n      <td>651</td>\n      <td>2</td>\n      <td>0</td>\n      <td>2</td>\n      <td>...</td>\n      <td>0</td>\n      <td>0</td>\n      <td>0</td>\n      <td>0</td>\n      <td>0</td>\n      <td>0</td>\n      <td>0</td>\n      <td>0</td>\n      <td>0</td>\n      <td>0</td>\n    </tr>\n  </tbody>\n</table>\n<p>5 rows × 76 columns</p>\n</div>"
     },
     "metadata": {}
    }
   ]
  },
  {
   "cell_type": "code",
   "metadata": {
    "tags": [],
    "cell_id": "00005-e05d9a97-b149-4b9a-8929-3dd81562871a",
    "deepnote_to_be_reexecuted": false,
    "source_hash": "3cc40ed1",
    "execution_start": 1639060581105,
    "execution_millis": 732,
    "deepnote_cell_type": "code"
   },
   "source": "df_ecuacovid.sample(5)",
   "execution_count": null,
   "outputs": [
    {
     "output_type": "execute_result",
     "execution_count": 8,
     "data": {
      "application/vnd.deepnote.dataframe.v2+json": {
       "row_count": 5,
       "column_count": 76,
       "columns": [
        {
         "name": "created_at",
         "dtype": "datetime64[ns]",
         "stats": {
          "unique_count": 5,
          "nan_count": 0,
          "min": "2020-05-08 00:00:00",
          "max": "2021-08-06 00:00:00",
          "histogram": [
           {
            "bin_start": 1588896000000000000,
            "bin_end": 1592827200000000000,
            "count": 1
           },
           {
            "bin_start": 1592827200000000000,
            "bin_end": 1596758400000000000,
            "count": 1
           },
           {
            "bin_start": 1596758400000000000,
            "bin_end": 1600689600000000000,
            "count": 0
           },
           {
            "bin_start": 1600689600000000000,
            "bin_end": 1604620800000000000,
            "count": 0
           },
           {
            "bin_start": 1604620800000000000,
            "bin_end": 1608552000000000000,
            "count": 0
           },
           {
            "bin_start": 1608552000000000000,
            "bin_end": 1612483200000000000,
            "count": 1
           },
           {
            "bin_start": 1612483200000000000,
            "bin_end": 1616414400000000000,
            "count": 0
           },
           {
            "bin_start": 1616414400000000000,
            "bin_end": 1620345600000000000,
            "count": 0
           },
           {
            "bin_start": 1620345600000000000,
            "bin_end": 1624276800000000000,
            "count": 1
           },
           {
            "bin_start": 1624276800000000000,
            "bin_end": 1628208000000000000,
            "count": 1
           }
          ]
         }
        },
        {
         "name": "muestras",
         "dtype": "int64",
         "stats": {
          "unique_count": 5,
          "nan_count": 0,
          "min": "82312",
          "max": "1724103",
          "histogram": [
           {
            "bin_start": 82312,
            "bin_end": 246491.1,
            "count": 1
           },
           {
            "bin_start": 246491.1,
            "bin_end": 410670.2,
            "count": 1
           },
           {
            "bin_start": 410670.2,
            "bin_end": 574849.3,
            "count": 0
           },
           {
            "bin_start": 574849.3,
            "bin_end": 739028.4,
            "count": 0
           },
           {
            "bin_start": 739028.4,
            "bin_end": 903207.5,
            "count": 1
           },
           {
            "bin_start": 903207.5,
            "bin_end": 1067386.6,
            "count": 0
           },
           {
            "bin_start": 1067386.6,
            "bin_end": 1231565.7,
            "count": 0
           },
           {
            "bin_start": 1231565.7,
            "bin_end": 1395744.8,
            "count": 0
           },
           {
            "bin_start": 1395744.8,
            "bin_end": 1559923.9000000001,
            "count": 1
           },
           {
            "bin_start": 1559923.9000000001,
            "bin_end": 1724103,
            "count": 1
           }
          ]
         }
        },
        {
         "name": "muestras_pcr",
         "dtype": "int64",
         "stats": {
          "unique_count": 5,
          "nan_count": 0,
          "min": "61882",
          "max": "1703531",
          "histogram": [
           {
            "bin_start": 61882,
            "bin_end": 226046.9,
            "count": 1
           },
           {
            "bin_start": 226046.9,
            "bin_end": 390211.8,
            "count": 1
           },
           {
            "bin_start": 390211.8,
            "bin_end": 554376.7,
            "count": 0
           },
           {
            "bin_start": 554376.7,
            "bin_end": 718541.6,
            "count": 0
           },
           {
            "bin_start": 718541.6,
            "bin_end": 882706.5,
            "count": 1
           },
           {
            "bin_start": 882706.5,
            "bin_end": 1046871.3999999999,
            "count": 0
           },
           {
            "bin_start": 1046871.3999999999,
            "bin_end": 1211036.3,
            "count": 0
           },
           {
            "bin_start": 1211036.3,
            "bin_end": 1375201.2,
            "count": 0
           },
           {
            "bin_start": 1375201.2,
            "bin_end": 1539366.0999999999,
            "count": 1
           },
           {
            "bin_start": 1539366.0999999999,
            "bin_end": 1703531,
            "count": 1
           }
          ]
         }
        },
        {
         "name": "positivas_total",
         "dtype": "int64",
         "stats": {
          "unique_count": 2,
          "nan_count": 0,
          "min": "0",
          "max": "580511",
          "histogram": [
           {
            "bin_start": 0,
            "bin_end": 58051.1,
            "count": 4
           },
           {
            "bin_start": 58051.1,
            "bin_end": 116102.2,
            "count": 0
           },
           {
            "bin_start": 116102.2,
            "bin_end": 174153.3,
            "count": 0
           },
           {
            "bin_start": 174153.3,
            "bin_end": 232204.4,
            "count": 0
           },
           {
            "bin_start": 232204.4,
            "bin_end": 290255.5,
            "count": 0
           },
           {
            "bin_start": 290255.5,
            "bin_end": 348306.6,
            "count": 0
           },
           {
            "bin_start": 348306.6,
            "bin_end": 406357.7,
            "count": 0
           },
           {
            "bin_start": 406357.7,
            "bin_end": 464408.8,
            "count": 0
           },
           {
            "bin_start": 464408.8,
            "bin_end": 522459.89999999997,
            "count": 0
           },
           {
            "bin_start": 522459.89999999997,
            "bin_end": 580511,
            "count": 1
           }
          ]
         }
        },
        {
         "name": "positivas_probables",
         "dtype": "int64",
         "stats": {
          "unique_count": 2,
          "nan_count": 0,
          "min": "0",
          "max": "89326",
          "histogram": [
           {
            "bin_start": 0,
            "bin_end": 8932.6,
            "count": 4
           },
           {
            "bin_start": 8932.6,
            "bin_end": 17865.2,
            "count": 0
           },
           {
            "bin_start": 17865.2,
            "bin_end": 26797.800000000003,
            "count": 0
           },
           {
            "bin_start": 26797.800000000003,
            "bin_end": 35730.4,
            "count": 0
           },
           {
            "bin_start": 35730.4,
            "bin_end": 44663,
            "count": 0
           },
           {
            "bin_start": 44663,
            "bin_end": 53595.600000000006,
            "count": 0
           },
           {
            "bin_start": 53595.600000000006,
            "bin_end": 62528.200000000004,
            "count": 0
           },
           {
            "bin_start": 62528.200000000004,
            "bin_end": 71460.8,
            "count": 0
           },
           {
            "bin_start": 71460.8,
            "bin_end": 80393.40000000001,
            "count": 0
           },
           {
            "bin_start": 80393.40000000001,
            "bin_end": 89326,
            "count": 1
           }
          ]
         }
        },
        {
         "name": "muestras_pcr_nuevas",
         "dtype": "int64",
         "stats": {
          "unique_count": 5,
          "nan_count": 0,
          "min": "-906",
          "max": "3993",
          "histogram": [
           {
            "bin_start": -906,
            "bin_end": -416.1,
            "count": 1
           },
           {
            "bin_start": -416.1,
            "bin_end": 73.79999999999995,
            "count": 0
           },
           {
            "bin_start": 73.79999999999995,
            "bin_end": 563.6999999999998,
            "count": 0
           },
           {
            "bin_start": 563.6999999999998,
            "bin_end": 1053.6,
            "count": 1
           },
           {
            "bin_start": 1053.6,
            "bin_end": 1543.5,
            "count": 0
           },
           {
            "bin_start": 1543.5,
            "bin_end": 2033.3999999999996,
            "count": 0
           },
           {
            "bin_start": 2033.3999999999996,
            "bin_end": 2523.2999999999997,
            "count": 0
           },
           {
            "bin_start": 2523.2999999999997,
            "bin_end": 3013.2,
            "count": 0
           },
           {
            "bin_start": 3013.2,
            "bin_end": 3503.0999999999995,
            "count": 1
           },
           {
            "bin_start": 3503.0999999999995,
            "bin_end": 3993,
            "count": 2
           }
          ]
         }
        },
        {
         "name": "pruebas_rezagadas",
         "dtype": "int64",
         "stats": {
          "unique_count": 5,
          "nan_count": 0,
          "min": "21252",
          "max": "89326",
          "histogram": [
           {
            "bin_start": 21252,
            "bin_end": 28059.4,
            "count": 1
           },
           {
            "bin_start": 28059.4,
            "bin_end": 34866.8,
            "count": 0
           },
           {
            "bin_start": 34866.8,
            "bin_end": 41674.2,
            "count": 1
           },
           {
            "bin_start": 41674.2,
            "bin_end": 48481.6,
            "count": 1
           },
           {
            "bin_start": 48481.6,
            "bin_end": 55289,
            "count": 1
           },
           {
            "bin_start": 55289,
            "bin_end": 62096.399999999994,
            "count": 0
           },
           {
            "bin_start": 62096.399999999994,
            "bin_end": 68903.79999999999,
            "count": 0
           },
           {
            "bin_start": 68903.79999999999,
            "bin_end": 75711.2,
            "count": 0
           },
           {
            "bin_start": 75711.2,
            "bin_end": 82518.6,
            "count": 0
           },
           {
            "bin_start": 82518.6,
            "bin_end": 89326,
            "count": 1
           }
          ]
         }
        },
        {
         "name": "muertes_confirmadas",
         "dtype": "int64",
         "stats": {
          "unique_count": 5,
          "nan_count": 0,
          "min": "1704",
          "max": "22348",
          "histogram": [
           {
            "bin_start": 1704,
            "bin_end": 3768.4,
            "count": 1
           },
           {
            "bin_start": 3768.4,
            "bin_end": 5832.8,
            "count": 1
           },
           {
            "bin_start": 5832.8,
            "bin_end": 7897.200000000001,
            "count": 0
           },
           {
            "bin_start": 7897.200000000001,
            "bin_end": 9961.6,
            "count": 1
           },
           {
            "bin_start": 9961.6,
            "bin_end": 12026,
            "count": 0
           },
           {
            "bin_start": 12026,
            "bin_end": 14090.400000000001,
            "count": 0
           },
           {
            "bin_start": 14090.400000000001,
            "bin_end": 16154.800000000001,
            "count": 1
           },
           {
            "bin_start": 16154.800000000001,
            "bin_end": 18219.2,
            "count": 0
           },
           {
            "bin_start": 18219.2,
            "bin_end": 20283.600000000002,
            "count": 0
           },
           {
            "bin_start": 20283.600000000002,
            "bin_end": 22348,
            "count": 1
           }
          ]
         }
        },
        {
         "name": "muertes_probables",
         "dtype": "int64",
         "stats": {
          "unique_count": 5,
          "nan_count": 0,
          "min": "1777",
          "max": "9426",
          "histogram": [
           {
            "bin_start": 1777,
            "bin_end": 2541.9,
            "count": 1
           },
           {
            "bin_start": 2541.9,
            "bin_end": 3306.8,
            "count": 0
           },
           {
            "bin_start": 3306.8,
            "bin_end": 4071.7,
            "count": 1
           },
           {
            "bin_start": 4071.7,
            "bin_end": 4836.6,
            "count": 1
           },
           {
            "bin_start": 4836.6,
            "bin_end": 5601.5,
            "count": 1
           },
           {
            "bin_start": 5601.5,
            "bin_end": 6366.4,
            "count": 0
           },
           {
            "bin_start": 6366.4,
            "bin_end": 7131.3,
            "count": 0
           },
           {
            "bin_start": 7131.3,
            "bin_end": 7896.2,
            "count": 0
           },
           {
            "bin_start": 7896.2,
            "bin_end": 8661.099999999999,
            "count": 0
           },
           {
            "bin_start": 8661.099999999999,
            "bin_end": 9426,
            "count": 1
           }
          ]
         }
        },
        {
         "name": "muertes",
         "dtype": "int64",
         "stats": {
          "unique_count": 5,
          "nan_count": 0,
          "min": "3481",
          "max": "31774",
          "histogram": [
           {
            "bin_start": 3481,
            "bin_end": 6310.3,
            "count": 1
           },
           {
            "bin_start": 6310.3,
            "bin_end": 9139.6,
            "count": 0
           },
           {
            "bin_start": 9139.6,
            "bin_end": 11968.900000000001,
            "count": 1
           },
           {
            "bin_start": 11968.900000000001,
            "bin_end": 14798.2,
            "count": 1
           },
           {
            "bin_start": 14798.2,
            "bin_end": 17627.5,
            "count": 0
           },
           {
            "bin_start": 17627.5,
            "bin_end": 20456.800000000003,
            "count": 0
           },
           {
            "bin_start": 20456.800000000003,
            "bin_end": 23286.100000000002,
            "count": 1
           },
           {
            "bin_start": 23286.100000000002,
            "bin_end": 26115.4,
            "count": 0
           },
           {
            "bin_start": 26115.4,
            "bin_end": 28944.7,
            "count": 0
           },
           {
            "bin_start": 28944.7,
            "bin_end": 31774,
            "count": 1
           }
          ]
         }
        },
        {
         "name": "muertes_nuevas",
         "dtype": "int64",
         "stats": {
          "unique_count": 5,
          "nan_count": 0,
          "min": "20",
          "max": "122",
          "histogram": [
           {
            "bin_start": 20,
            "bin_end": 30.2,
            "count": 2
           },
           {
            "bin_start": 30.2,
            "bin_end": 40.4,
            "count": 1
           },
           {
            "bin_start": 40.4,
            "bin_end": 50.599999999999994,
            "count": 1
           },
           {
            "bin_start": 50.599999999999994,
            "bin_end": 60.8,
            "count": 0
           },
           {
            "bin_start": 60.8,
            "bin_end": 71,
            "count": 0
           },
           {
            "bin_start": 71,
            "bin_end": 81.19999999999999,
            "count": 0
           },
           {
            "bin_start": 81.19999999999999,
            "bin_end": 91.39999999999999,
            "count": 0
           },
           {
            "bin_start": 91.39999999999999,
            "bin_end": 101.6,
            "count": 0
           },
           {
            "bin_start": 101.6,
            "bin_end": 111.8,
            "count": 0
           },
           {
            "bin_start": 111.8,
            "bin_end": 122,
            "count": 1
           }
          ]
         }
        },
        {
         "name": "positivas",
         "dtype": "int64",
         "stats": {
          "unique_count": 5,
          "nan_count": 0,
          "min": "28818",
          "max": "500141",
          "histogram": [
           {
            "bin_start": 28818,
            "bin_end": 75950.3,
            "count": 1
           },
           {
            "bin_start": 75950.3,
            "bin_end": 123082.6,
            "count": 1
           },
           {
            "bin_start": 123082.6,
            "bin_end": 170214.90000000002,
            "count": 0
           },
           {
            "bin_start": 170214.90000000002,
            "bin_end": 217347.2,
            "count": 0
           },
           {
            "bin_start": 217347.2,
            "bin_end": 264479.5,
            "count": 1
           },
           {
            "bin_start": 264479.5,
            "bin_end": 311611.80000000005,
            "count": 0
           },
           {
            "bin_start": 311611.80000000005,
            "bin_end": 358744.10000000003,
            "count": 0
           },
           {
            "bin_start": 358744.10000000003,
            "bin_end": 405876.4,
            "count": 0
           },
           {
            "bin_start": 405876.4,
            "bin_end": 453008.7,
            "count": 1
           },
           {
            "bin_start": 453008.7,
            "bin_end": 500141,
            "count": 1
           }
          ]
         }
        },
        {
         "name": "positivas_pcr",
         "dtype": "int64",
         "stats": {
          "unique_count": 5,
          "nan_count": 0,
          "min": "19881",
          "max": "491185",
          "histogram": [
           {
            "bin_start": 19881,
            "bin_end": 67011.4,
            "count": 1
           },
           {
            "bin_start": 67011.4,
            "bin_end": 114141.8,
            "count": 1
           },
           {
            "bin_start": 114141.8,
            "bin_end": 161272.2,
            "count": 0
           },
           {
            "bin_start": 161272.2,
            "bin_end": 208402.6,
            "count": 0
           },
           {
            "bin_start": 208402.6,
            "bin_end": 255533,
            "count": 1
           },
           {
            "bin_start": 255533,
            "bin_end": 302663.4,
            "count": 0
           },
           {
            "bin_start": 302663.4,
            "bin_end": 349793.8,
            "count": 0
           },
           {
            "bin_start": 349793.8,
            "bin_end": 396924.2,
            "count": 0
           },
           {
            "bin_start": 396924.2,
            "bin_end": 444054.60000000003,
            "count": 1
           },
           {
            "bin_start": 444054.60000000003,
            "bin_end": 491185,
            "count": 1
           }
          ]
         }
        },
        {
         "name": "positivas_pcr_nuevas",
         "dtype": "int64",
         "stats": {
          "unique_count": 5,
          "nan_count": 0,
          "min": "-1480",
          "max": "1653",
          "histogram": [
           {
            "bin_start": -1480,
            "bin_end": -1166.7,
            "count": 1
           },
           {
            "bin_start": -1166.7,
            "bin_end": -853.4,
            "count": 0
           },
           {
            "bin_start": -853.4,
            "bin_end": -540.0999999999999,
            "count": 0
           },
           {
            "bin_start": -540.0999999999999,
            "bin_end": -226.79999999999995,
            "count": 0
           },
           {
            "bin_start": -226.79999999999995,
            "bin_end": 86.5,
            "count": 0
           },
           {
            "bin_start": 86.5,
            "bin_end": 399.8000000000002,
            "count": 0
           },
           {
            "bin_start": 399.8000000000002,
            "bin_end": 713.0999999999999,
            "count": 1
           },
           {
            "bin_start": 713.0999999999999,
            "bin_end": 1026.4,
            "count": 2
           },
           {
            "bin_start": 1026.4,
            "bin_end": 1339.7000000000003,
            "count": 0
           },
           {
            "bin_start": 1339.7000000000003,
            "bin_end": 1653,
            "count": 1
           }
          ]
         }
        },
        {
         "name": "positivas_pcr_mujer",
         "dtype": "int64",
         "stats": {
          "unique_count": 2,
          "nan_count": 0,
          "min": "0",
          "max": "239489",
          "histogram": [
           {
            "bin_start": 0,
            "bin_end": 23948.9,
            "count": 4
           },
           {
            "bin_start": 23948.9,
            "bin_end": 47897.8,
            "count": 0
           },
           {
            "bin_start": 47897.8,
            "bin_end": 71846.70000000001,
            "count": 0
           },
           {
            "bin_start": 71846.70000000001,
            "bin_end": 95795.6,
            "count": 0
           },
           {
            "bin_start": 95795.6,
            "bin_end": 119744.5,
            "count": 0
           },
           {
            "bin_start": 119744.5,
            "bin_end": 143693.40000000002,
            "count": 0
           },
           {
            "bin_start": 143693.40000000002,
            "bin_end": 167642.30000000002,
            "count": 0
           },
           {
            "bin_start": 167642.30000000002,
            "bin_end": 191591.2,
            "count": 0
           },
           {
            "bin_start": 191591.2,
            "bin_end": 215540.1,
            "count": 0
           },
           {
            "bin_start": 215540.1,
            "bin_end": 239489,
            "count": 1
           }
          ]
         }
        },
        {
         "name": "positivas_pcr_hombre",
         "dtype": "int64",
         "stats": {
          "unique_count": 2,
          "nan_count": 0,
          "min": "0",
          "max": "251696",
          "histogram": [
           {
            "bin_start": 0,
            "bin_end": 25169.6,
            "count": 4
           },
           {
            "bin_start": 25169.6,
            "bin_end": 50339.2,
            "count": 0
           },
           {
            "bin_start": 50339.2,
            "bin_end": 75508.79999999999,
            "count": 0
           },
           {
            "bin_start": 75508.79999999999,
            "bin_end": 100678.4,
            "count": 0
           },
           {
            "bin_start": 100678.4,
            "bin_end": 125848,
            "count": 0
           },
           {
            "bin_start": 125848,
            "bin_end": 151017.59999999998,
            "count": 0
           },
           {
            "bin_start": 151017.59999999998,
            "bin_end": 176187.19999999998,
            "count": 0
           },
           {
            "bin_start": 176187.19999999998,
            "bin_end": 201356.8,
            "count": 0
           },
           {
            "bin_start": 201356.8,
            "bin_end": 226526.4,
            "count": 0
           },
           {
            "bin_start": 226526.4,
            "bin_end": 251696,
            "count": 1
           }
          ]
         }
        },
        {
         "name": "positivas_pcr_hombre_edades_meses",
         "dtype": "int64",
         "stats": {
          "unique_count": 2,
          "nan_count": 0,
          "min": "0",
          "max": "375",
          "histogram": [
           {
            "bin_start": 0,
            "bin_end": 37.5,
            "count": 4
           },
           {
            "bin_start": 37.5,
            "bin_end": 75,
            "count": 0
           },
           {
            "bin_start": 75,
            "bin_end": 112.5,
            "count": 0
           },
           {
            "bin_start": 112.5,
            "bin_end": 150,
            "count": 0
           },
           {
            "bin_start": 150,
            "bin_end": 187.5,
            "count": 0
           },
           {
            "bin_start": 187.5,
            "bin_end": 225,
            "count": 0
           },
           {
            "bin_start": 225,
            "bin_end": 262.5,
            "count": 0
           },
           {
            "bin_start": 262.5,
            "bin_end": 300,
            "count": 0
           },
           {
            "bin_start": 300,
            "bin_end": 337.5,
            "count": 0
           },
           {
            "bin_start": 337.5,
            "bin_end": 375,
            "count": 1
           }
          ]
         }
        },
        {
         "name": "positivas_pcr_hombre_edades_0a4",
         "dtype": "int64",
         "stats": {
          "unique_count": 2,
          "nan_count": 0,
          "min": "0",
          "max": "1593",
          "histogram": [
           {
            "bin_start": 0,
            "bin_end": 159.3,
            "count": 4
           },
           {
            "bin_start": 159.3,
            "bin_end": 318.6,
            "count": 0
           },
           {
            "bin_start": 318.6,
            "bin_end": 477.90000000000003,
            "count": 0
           },
           {
            "bin_start": 477.90000000000003,
            "bin_end": 637.2,
            "count": 0
           },
           {
            "bin_start": 637.2,
            "bin_end": 796.5,
            "count": 0
           },
           {
            "bin_start": 796.5,
            "bin_end": 955.8000000000001,
            "count": 0
           },
           {
            "bin_start": 955.8000000000001,
            "bin_end": 1115.1000000000001,
            "count": 0
           },
           {
            "bin_start": 1115.1000000000001,
            "bin_end": 1274.4,
            "count": 0
           },
           {
            "bin_start": 1274.4,
            "bin_end": 1433.7,
            "count": 0
           },
           {
            "bin_start": 1433.7,
            "bin_end": 1593,
            "count": 1
           }
          ]
         }
        },
        {
         "name": "positivas_pcr_hombre_edades_5a9",
         "dtype": "int64",
         "stats": {
          "unique_count": 2,
          "nan_count": 0,
          "min": "0",
          "max": "2319",
          "histogram": [
           {
            "bin_start": 0,
            "bin_end": 231.9,
            "count": 4
           },
           {
            "bin_start": 231.9,
            "bin_end": 463.8,
            "count": 0
           },
           {
            "bin_start": 463.8,
            "bin_end": 695.7,
            "count": 0
           },
           {
            "bin_start": 695.7,
            "bin_end": 927.6,
            "count": 0
           },
           {
            "bin_start": 927.6,
            "bin_end": 1159.5,
            "count": 0
           },
           {
            "bin_start": 1159.5,
            "bin_end": 1391.4,
            "count": 0
           },
           {
            "bin_start": 1391.4,
            "bin_end": 1623.3,
            "count": 0
           },
           {
            "bin_start": 1623.3,
            "bin_end": 1855.2,
            "count": 0
           },
           {
            "bin_start": 1855.2,
            "bin_end": 2087.1,
            "count": 0
           },
           {
            "bin_start": 2087.1,
            "bin_end": 2319,
            "count": 1
           }
          ]
         }
        },
        {
         "name": "positivas_pcr_hombre_edades_10a14",
         "dtype": "int64",
         "stats": {
          "unique_count": 2,
          "nan_count": 0,
          "min": "0",
          "max": "4632",
          "histogram": [
           {
            "bin_start": 0,
            "bin_end": 463.2,
            "count": 4
           },
           {
            "bin_start": 463.2,
            "bin_end": 926.4,
            "count": 0
           },
           {
            "bin_start": 926.4,
            "bin_end": 1389.6,
            "count": 0
           },
           {
            "bin_start": 1389.6,
            "bin_end": 1852.8,
            "count": 0
           },
           {
            "bin_start": 1852.8,
            "bin_end": 2316,
            "count": 0
           },
           {
            "bin_start": 2316,
            "bin_end": 2779.2,
            "count": 0
           },
           {
            "bin_start": 2779.2,
            "bin_end": 3242.4,
            "count": 0
           },
           {
            "bin_start": 3242.4,
            "bin_end": 3705.6,
            "count": 0
           },
           {
            "bin_start": 3705.6,
            "bin_end": 4168.8,
            "count": 0
           },
           {
            "bin_start": 4168.8,
            "bin_end": 4632,
            "count": 1
           }
          ]
         }
        },
        {
         "name": "positivas_pcr_hombre_edades_15a19",
         "dtype": "int64",
         "stats": {
          "unique_count": 2,
          "nan_count": 0,
          "min": "0",
          "max": "9256",
          "histogram": [
           {
            "bin_start": 0,
            "bin_end": 925.6,
            "count": 4
           },
           {
            "bin_start": 925.6,
            "bin_end": 1851.2,
            "count": 0
           },
           {
            "bin_start": 1851.2,
            "bin_end": 2776.8,
            "count": 0
           },
           {
            "bin_start": 2776.8,
            "bin_end": 3702.4,
            "count": 0
           },
           {
            "bin_start": 3702.4,
            "bin_end": 4628,
            "count": 0
           },
           {
            "bin_start": 4628,
            "bin_end": 5553.6,
            "count": 0
           },
           {
            "bin_start": 5553.6,
            "bin_end": 6479.2,
            "count": 0
           },
           {
            "bin_start": 6479.2,
            "bin_end": 7404.8,
            "count": 0
           },
           {
            "bin_start": 7404.8,
            "bin_end": 8330.4,
            "count": 0
           },
           {
            "bin_start": 8330.4,
            "bin_end": 9256,
            "count": 1
           }
          ]
         }
        },
        {
         "name": "positivas_pcr_hombre_edades_20a49",
         "dtype": "int64",
         "stats": {
          "unique_count": 2,
          "nan_count": 0,
          "min": "0",
          "max": "141757",
          "histogram": [
           {
            "bin_start": 0,
            "bin_end": 14175.7,
            "count": 4
           },
           {
            "bin_start": 14175.7,
            "bin_end": 28351.4,
            "count": 0
           },
           {
            "bin_start": 28351.4,
            "bin_end": 42527.100000000006,
            "count": 0
           },
           {
            "bin_start": 42527.100000000006,
            "bin_end": 56702.8,
            "count": 0
           },
           {
            "bin_start": 56702.8,
            "bin_end": 70878.5,
            "count": 0
           },
           {
            "bin_start": 70878.5,
            "bin_end": 85054.20000000001,
            "count": 0
           },
           {
            "bin_start": 85054.20000000001,
            "bin_end": 99229.90000000001,
            "count": 0
           },
           {
            "bin_start": 99229.90000000001,
            "bin_end": 113405.6,
            "count": 0
           },
           {
            "bin_start": 113405.6,
            "bin_end": 127581.3,
            "count": 0
           },
           {
            "bin_start": 127581.3,
            "bin_end": 141757,
            "count": 1
           }
          ]
         }
        },
        {
         "name": "positivas_pcr_hombre_edades_50a64",
         "dtype": "int64",
         "stats": {
          "unique_count": 2,
          "nan_count": 0,
          "min": "0",
          "max": "47835",
          "histogram": [
           {
            "bin_start": 0,
            "bin_end": 4783.5,
            "count": 4
           },
           {
            "bin_start": 4783.5,
            "bin_end": 9567,
            "count": 0
           },
           {
            "bin_start": 9567,
            "bin_end": 14350.5,
            "count": 0
           },
           {
            "bin_start": 14350.5,
            "bin_end": 19134,
            "count": 0
           },
           {
            "bin_start": 19134,
            "bin_end": 23917.5,
            "count": 0
           },
           {
            "bin_start": 23917.5,
            "bin_end": 28701,
            "count": 0
           },
           {
            "bin_start": 28701,
            "bin_end": 33484.5,
            "count": 0
           },
           {
            "bin_start": 33484.5,
            "bin_end": 38268,
            "count": 0
           },
           {
            "bin_start": 38268,
            "bin_end": 43051.5,
            "count": 0
           },
           {
            "bin_start": 43051.5,
            "bin_end": 47835,
            "count": 1
           }
          ]
         }
        },
        {
         "name": "positivas_pcr_hombre_edades_65an",
         "dtype": "int64",
         "stats": {
          "unique_count": 2,
          "nan_count": 0,
          "min": "0",
          "max": "28314",
          "histogram": [
           {
            "bin_start": 0,
            "bin_end": 2831.4,
            "count": 4
           },
           {
            "bin_start": 2831.4,
            "bin_end": 5662.8,
            "count": 0
           },
           {
            "bin_start": 5662.8,
            "bin_end": 8494.2,
            "count": 0
           },
           {
            "bin_start": 8494.2,
            "bin_end": 11325.6,
            "count": 0
           },
           {
            "bin_start": 11325.6,
            "bin_end": 14157,
            "count": 0
           },
           {
            "bin_start": 14157,
            "bin_end": 16988.4,
            "count": 0
           },
           {
            "bin_start": 16988.4,
            "bin_end": 19819.8,
            "count": 0
           },
           {
            "bin_start": 19819.8,
            "bin_end": 22651.2,
            "count": 0
           },
           {
            "bin_start": 22651.2,
            "bin_end": 25482.600000000002,
            "count": 0
           },
           {
            "bin_start": 25482.600000000002,
            "bin_end": 28314,
            "count": 1
           }
          ]
         }
        },
        {
         "name": "positivas_pcr_mujer_edades_meses",
         "dtype": "int64",
         "stats": {
          "unique_count": 2,
          "nan_count": 0,
          "min": "0",
          "max": "432",
          "histogram": [
           {
            "bin_start": 0,
            "bin_end": 43.2,
            "count": 4
           },
           {
            "bin_start": 43.2,
            "bin_end": 86.4,
            "count": 0
           },
           {
            "bin_start": 86.4,
            "bin_end": 129.60000000000002,
            "count": 0
           },
           {
            "bin_start": 129.60000000000002,
            "bin_end": 172.8,
            "count": 0
           },
           {
            "bin_start": 172.8,
            "bin_end": 216,
            "count": 0
           },
           {
            "bin_start": 216,
            "bin_end": 259.20000000000005,
            "count": 0
           },
           {
            "bin_start": 259.20000000000005,
            "bin_end": 302.40000000000003,
            "count": 0
           },
           {
            "bin_start": 302.40000000000003,
            "bin_end": 345.6,
            "count": 0
           },
           {
            "bin_start": 345.6,
            "bin_end": 388.8,
            "count": 0
           },
           {
            "bin_start": 388.8,
            "bin_end": 432,
            "count": 1
           }
          ]
         }
        },
        {
         "name": "positivas_pcr_mujer_edades_0a4",
         "dtype": "int64",
         "stats": {
          "unique_count": 2,
          "nan_count": 0,
          "min": "0",
          "max": "1747",
          "histogram": [
           {
            "bin_start": 0,
            "bin_end": 174.7,
            "count": 4
           },
           {
            "bin_start": 174.7,
            "bin_end": 349.4,
            "count": 0
           },
           {
            "bin_start": 349.4,
            "bin_end": 524.0999999999999,
            "count": 0
           },
           {
            "bin_start": 524.0999999999999,
            "bin_end": 698.8,
            "count": 0
           },
           {
            "bin_start": 698.8,
            "bin_end": 873.5,
            "count": 0
           },
           {
            "bin_start": 873.5,
            "bin_end": 1048.1999999999998,
            "count": 0
           },
           {
            "bin_start": 1048.1999999999998,
            "bin_end": 1222.8999999999999,
            "count": 0
           },
           {
            "bin_start": 1222.8999999999999,
            "bin_end": 1397.6,
            "count": 0
           },
           {
            "bin_start": 1397.6,
            "bin_end": 1572.3,
            "count": 0
           },
           {
            "bin_start": 1572.3,
            "bin_end": 1747,
            "count": 1
           }
          ]
         }
        },
        {
         "name": "positivas_pcr_mujer_edades_5a9",
         "dtype": "int64",
         "stats": {
          "unique_count": 2,
          "nan_count": 0,
          "min": "0",
          "max": "2377",
          "histogram": [
           {
            "bin_start": 0,
            "bin_end": 237.7,
            "count": 4
           },
           {
            "bin_start": 237.7,
            "bin_end": 475.4,
            "count": 0
           },
           {
            "bin_start": 475.4,
            "bin_end": 713.0999999999999,
            "count": 0
           },
           {
            "bin_start": 713.0999999999999,
            "bin_end": 950.8,
            "count": 0
           },
           {
            "bin_start": 950.8,
            "bin_end": 1188.5,
            "count": 0
           },
           {
            "bin_start": 1188.5,
            "bin_end": 1426.1999999999998,
            "count": 0
           },
           {
            "bin_start": 1426.1999999999998,
            "bin_end": 1663.8999999999999,
            "count": 0
           },
           {
            "bin_start": 1663.8999999999999,
            "bin_end": 1901.6,
            "count": 0
           },
           {
            "bin_start": 1901.6,
            "bin_end": 2139.2999999999997,
            "count": 0
           },
           {
            "bin_start": 2139.2999999999997,
            "bin_end": 2377,
            "count": 1
           }
          ]
         }
        },
        {
         "name": "positivas_pcr_mujer_edades_10a14",
         "dtype": "int64",
         "stats": {
          "unique_count": 2,
          "nan_count": 0,
          "min": "0",
          "max": "4593",
          "histogram": [
           {
            "bin_start": 0,
            "bin_end": 459.3,
            "count": 4
           },
           {
            "bin_start": 459.3,
            "bin_end": 918.6,
            "count": 0
           },
           {
            "bin_start": 918.6,
            "bin_end": 1377.9,
            "count": 0
           },
           {
            "bin_start": 1377.9,
            "bin_end": 1837.2,
            "count": 0
           },
           {
            "bin_start": 1837.2,
            "bin_end": 2296.5,
            "count": 0
           },
           {
            "bin_start": 2296.5,
            "bin_end": 2755.8,
            "count": 0
           },
           {
            "bin_start": 2755.8,
            "bin_end": 3215.1,
            "count": 0
           },
           {
            "bin_start": 3215.1,
            "bin_end": 3674.4,
            "count": 0
           },
           {
            "bin_start": 3674.4,
            "bin_end": 4133.7,
            "count": 0
           },
           {
            "bin_start": 4133.7,
            "bin_end": 4593,
            "count": 1
           }
          ]
         }
        },
        {
         "name": "positivas_pcr_mujer_edades_15a19",
         "dtype": "int64",
         "stats": {
          "unique_count": 2,
          "nan_count": 0,
          "min": "0",
          "max": "8574",
          "histogram": [
           {
            "bin_start": 0,
            "bin_end": 857.4,
            "count": 4
           },
           {
            "bin_start": 857.4,
            "bin_end": 1714.8,
            "count": 0
           },
           {
            "bin_start": 1714.8,
            "bin_end": 2572.2,
            "count": 0
           },
           {
            "bin_start": 2572.2,
            "bin_end": 3429.6,
            "count": 0
           },
           {
            "bin_start": 3429.6,
            "bin_end": 4287,
            "count": 0
           },
           {
            "bin_start": 4287,
            "bin_end": 5144.4,
            "count": 0
           },
           {
            "bin_start": 5144.4,
            "bin_end": 6001.8,
            "count": 0
           },
           {
            "bin_start": 6001.8,
            "bin_end": 6859.2,
            "count": 0
           },
           {
            "bin_start": 6859.2,
            "bin_end": 7716.599999999999,
            "count": 0
           },
           {
            "bin_start": 7716.599999999999,
            "bin_end": 8574,
            "count": 1
           }
          ]
         }
        },
        {
         "name": "positivas_pcr_mujer_edades_20a49",
         "dtype": "int64",
         "stats": {
          "unique_count": 2,
          "nan_count": 0,
          "min": "0",
          "max": "148954",
          "histogram": [
           {
            "bin_start": 0,
            "bin_end": 14895.4,
            "count": 4
           },
           {
            "bin_start": 14895.4,
            "bin_end": 29790.8,
            "count": 0
           },
           {
            "bin_start": 29790.8,
            "bin_end": 44686.2,
            "count": 0
           },
           {
            "bin_start": 44686.2,
            "bin_end": 59581.6,
            "count": 0
           },
           {
            "bin_start": 59581.6,
            "bin_end": 74477,
            "count": 0
           },
           {
            "bin_start": 74477,
            "bin_end": 89372.4,
            "count": 0
           },
           {
            "bin_start": 89372.4,
            "bin_end": 104267.8,
            "count": 0
           },
           {
            "bin_start": 104267.8,
            "bin_end": 119163.2,
            "count": 0
           },
           {
            "bin_start": 119163.2,
            "bin_end": 134058.6,
            "count": 0
           },
           {
            "bin_start": 134058.6,
            "bin_end": 148954,
            "count": 1
           }
          ]
         }
        },
        {
         "name": "positivas_pcr_mujer_edades_50a64",
         "dtype": "int64",
         "stats": {
          "unique_count": 2,
          "nan_count": 0,
          "min": "0",
          "max": "50219",
          "histogram": [
           {
            "bin_start": 0,
            "bin_end": 5021.9,
            "count": 4
           },
           {
            "bin_start": 5021.9,
            "bin_end": 10043.8,
            "count": 0
           },
           {
            "bin_start": 10043.8,
            "bin_end": 15065.699999999999,
            "count": 0
           },
           {
            "bin_start": 15065.699999999999,
            "bin_end": 20087.6,
            "count": 0
           },
           {
            "bin_start": 20087.6,
            "bin_end": 25109.5,
            "count": 0
           },
           {
            "bin_start": 25109.5,
            "bin_end": 30131.399999999998,
            "count": 0
           },
           {
            "bin_start": 30131.399999999998,
            "bin_end": 35153.299999999996,
            "count": 0
           },
           {
            "bin_start": 35153.299999999996,
            "bin_end": 40175.2,
            "count": 0
           },
           {
            "bin_start": 40175.2,
            "bin_end": 45197.1,
            "count": 0
           },
           {
            "bin_start": 45197.1,
            "bin_end": 50219,
            "count": 1
           }
          ]
         }
        },
        {
         "name": "positivas_pcr_mujer_edades_65an",
         "dtype": "int64",
         "stats": {
          "unique_count": 2,
          "nan_count": 0,
          "min": "0",
          "max": "31563",
          "histogram": [
           {
            "bin_start": 0,
            "bin_end": 3156.3,
            "count": 4
           },
           {
            "bin_start": 3156.3,
            "bin_end": 6312.6,
            "count": 0
           },
           {
            "bin_start": 6312.6,
            "bin_end": 9468.900000000001,
            "count": 0
           },
           {
            "bin_start": 9468.900000000001,
            "bin_end": 12625.2,
            "count": 0
           },
           {
            "bin_start": 12625.2,
            "bin_end": 15781.5,
            "count": 0
           },
           {
            "bin_start": 15781.5,
            "bin_end": 18937.800000000003,
            "count": 0
           },
           {
            "bin_start": 18937.800000000003,
            "bin_end": 22094.100000000002,
            "count": 0
           },
           {
            "bin_start": 22094.100000000002,
            "bin_end": 25250.4,
            "count": 0
           },
           {
            "bin_start": 25250.4,
            "bin_end": 28406.7,
            "count": 0
           },
           {
            "bin_start": 28406.7,
            "bin_end": 31563,
            "count": 1
           }
          ]
         }
        },
        {
         "name": "positivas_rapidas",
         "dtype": "int64",
         "stats": {
          "unique_count": 2,
          "nan_count": 0,
          "min": "8937",
          "max": "8956",
          "histogram": [
           {
            "bin_start": 8937,
            "bin_end": 8938.9,
            "count": 1
           },
           {
            "bin_start": 8938.9,
            "bin_end": 8940.8,
            "count": 0
           },
           {
            "bin_start": 8940.8,
            "bin_end": 8942.7,
            "count": 0
           },
           {
            "bin_start": 8942.7,
            "bin_end": 8944.6,
            "count": 0
           },
           {
            "bin_start": 8944.6,
            "bin_end": 8946.5,
            "count": 0
           },
           {
            "bin_start": 8946.5,
            "bin_end": 8948.4,
            "count": 0
           },
           {
            "bin_start": 8948.4,
            "bin_end": 8950.3,
            "count": 0
           },
           {
            "bin_start": 8950.3,
            "bin_end": 8952.2,
            "count": 0
           },
           {
            "bin_start": 8952.2,
            "bin_end": 8954.1,
            "count": 0
           },
           {
            "bin_start": 8954.1,
            "bin_end": 8956,
            "count": 4
           }
          ]
         }
        },
        {
         "name": "negativas",
         "dtype": "int64",
         "stats": {
          "unique_count": 5,
          "nan_count": 0,
          "min": "32242",
          "max": "1134636",
          "histogram": [
           {
            "bin_start": 32242,
            "bin_end": 142481.4,
            "count": 2
           },
           {
            "bin_start": 142481.4,
            "bin_end": 252720.8,
            "count": 0
           },
           {
            "bin_start": 252720.8,
            "bin_end": 362960.19999999995,
            "count": 0
           },
           {
            "bin_start": 362960.19999999995,
            "bin_end": 473199.6,
            "count": 0
           },
           {
            "bin_start": 473199.6,
            "bin_end": 583439,
            "count": 1
           },
           {
            "bin_start": 583439,
            "bin_end": 693678.3999999999,
            "count": 0
           },
           {
            "bin_start": 693678.3999999999,
            "bin_end": 803917.7999999999,
            "count": 0
           },
           {
            "bin_start": 803917.7999999999,
            "bin_end": 914157.2,
            "count": 0
           },
           {
            "bin_start": 914157.2,
            "bin_end": 1024396.6,
            "count": 1
           },
           {
            "bin_start": 1024396.6,
            "bin_end": 1134636,
            "count": 1
           }
          ]
         }
        },
        {
         "name": "negativas_pcr",
         "dtype": "int64",
         "stats": {
          "unique_count": 5,
          "nan_count": 0,
          "min": "20749",
          "max": "1123020",
          "histogram": [
           {
            "bin_start": 20749,
            "bin_end": 130976.1,
            "count": 2
           },
           {
            "bin_start": 130976.1,
            "bin_end": 241203.2,
            "count": 0
           },
           {
            "bin_start": 241203.2,
            "bin_end": 351430.30000000005,
            "count": 0
           },
           {
            "bin_start": 351430.30000000005,
            "bin_end": 461657.4,
            "count": 0
           },
           {
            "bin_start": 461657.4,
            "bin_end": 571884.5,
            "count": 1
           },
           {
            "bin_start": 571884.5,
            "bin_end": 682111.6000000001,
            "count": 0
           },
           {
            "bin_start": 682111.6000000001,
            "bin_end": 792338.7000000001,
            "count": 0
           },
           {
            "bin_start": 792338.7000000001,
            "bin_end": 902565.8,
            "count": 0
           },
           {
            "bin_start": 902565.8,
            "bin_end": 1012792.9,
            "count": 1
           },
           {
            "bin_start": 1012792.9,
            "bin_end": 1123020,
            "count": 1
           }
          ]
         }
        },
        {
         "name": "negativas_pcr_nuevas",
         "dtype": "int64",
         "stats": {
          "unique_count": 5,
          "nan_count": 0,
          "min": "-2263",
          "max": "3040",
          "histogram": [
           {
            "bin_start": -2263,
            "bin_end": -1732.7,
            "count": 1
           },
           {
            "bin_start": -1732.7,
            "bin_end": -1202.4,
            "count": 0
           },
           {
            "bin_start": -1202.4,
            "bin_end": -672.1000000000001,
            "count": 0
           },
           {
            "bin_start": -672.1000000000001,
            "bin_end": -141.80000000000018,
            "count": 0
           },
           {
            "bin_start": -141.80000000000018,
            "bin_end": 388.5,
            "count": 0
           },
           {
            "bin_start": 388.5,
            "bin_end": 918.7999999999997,
            "count": 1
           },
           {
            "bin_start": 918.7999999999997,
            "bin_end": 1449.0999999999995,
            "count": 0
           },
           {
            "bin_start": 1449.0999999999995,
            "bin_end": 1979.3999999999996,
            "count": 0
           },
           {
            "bin_start": 1979.3999999999996,
            "bin_end": 2509.7,
            "count": 0
           },
           {
            "bin_start": 2509.7,
            "bin_end": 3040,
            "count": 3
           }
          ]
         }
        },
        {
         "name": "negativas_rapidas",
         "dtype": "int64",
         "stats": {
          "unique_count": 2,
          "nan_count": 0,
          "min": "11493",
          "max": "11616",
          "histogram": [
           {
            "bin_start": 11493,
            "bin_end": 11505.3,
            "count": 1
           },
           {
            "bin_start": 11505.3,
            "bin_end": 11517.6,
            "count": 0
           },
           {
            "bin_start": 11517.6,
            "bin_end": 11529.9,
            "count": 0
           },
           {
            "bin_start": 11529.9,
            "bin_end": 11542.2,
            "count": 0
           },
           {
            "bin_start": 11542.2,
            "bin_end": 11554.5,
            "count": 0
           },
           {
            "bin_start": 11554.5,
            "bin_end": 11566.8,
            "count": 0
           },
           {
            "bin_start": 11566.8,
            "bin_end": 11579.1,
            "count": 0
           },
           {
            "bin_start": 11579.1,
            "bin_end": 11591.4,
            "count": 0
           },
           {
            "bin_start": 11591.4,
            "bin_end": 11603.7,
            "count": 0
           },
           {
            "bin_start": 11603.7,
            "bin_end": 11616,
            "count": 4
           }
          ]
         }
        },
        {
         "name": "hospitalizadas_altas",
         "dtype": "int64",
         "stats": {
          "unique_count": 5,
          "nan_count": 0,
          "min": "2463",
          "max": "48969",
          "histogram": [
           {
            "bin_start": 2463,
            "bin_end": 7113.6,
            "count": 1
           },
           {
            "bin_start": 7113.6,
            "bin_end": 11764.2,
            "count": 1
           },
           {
            "bin_start": 11764.2,
            "bin_end": 16414.800000000003,
            "count": 0
           },
           {
            "bin_start": 16414.800000000003,
            "bin_end": 21065.4,
            "count": 0
           },
           {
            "bin_start": 21065.4,
            "bin_end": 25716,
            "count": 0
           },
           {
            "bin_start": 25716,
            "bin_end": 30366.600000000002,
            "count": 1
           },
           {
            "bin_start": 30366.600000000002,
            "bin_end": 35017.200000000004,
            "count": 0
           },
           {
            "bin_start": 35017.200000000004,
            "bin_end": 39667.8,
            "count": 0
           },
           {
            "bin_start": 39667.8,
            "bin_end": 44318.4,
            "count": 0
           },
           {
            "bin_start": 44318.4,
            "bin_end": 48969,
            "count": 2
           }
          ]
         }
        },
        {
         "name": "hospitalizadas_estables",
         "dtype": "int64",
         "stats": {
          "unique_count": 5,
          "nan_count": 0,
          "min": "360",
          "max": "938",
          "histogram": [
           {
            "bin_start": 360,
            "bin_end": 417.8,
            "count": 1
           },
           {
            "bin_start": 417.8,
            "bin_end": 475.6,
            "count": 0
           },
           {
            "bin_start": 475.6,
            "bin_end": 533.4,
            "count": 0
           },
           {
            "bin_start": 533.4,
            "bin_end": 591.2,
            "count": 0
           },
           {
            "bin_start": 591.2,
            "bin_end": 649,
            "count": 1
           },
           {
            "bin_start": 649,
            "bin_end": 706.8,
            "count": 1
           },
           {
            "bin_start": 706.8,
            "bin_end": 764.5999999999999,
            "count": 0
           },
           {
            "bin_start": 764.5999999999999,
            "bin_end": 822.4,
            "count": 0
           },
           {
            "bin_start": 822.4,
            "bin_end": 880.1999999999999,
            "count": 1
           },
           {
            "bin_start": 880.1999999999999,
            "bin_end": 938,
            "count": 1
           }
          ]
         }
        },
        {
         "name": "hospitalizadas_pronostico_reservadas",
         "dtype": "int64",
         "stats": {
          "unique_count": 5,
          "nan_count": 0,
          "min": "161",
          "max": "512",
          "histogram": [
           {
            "bin_start": 161,
            "bin_end": 196.1,
            "count": 1
           },
           {
            "bin_start": 196.1,
            "bin_end": 231.2,
            "count": 0
           },
           {
            "bin_start": 231.2,
            "bin_end": 266.3,
            "count": 0
           },
           {
            "bin_start": 266.3,
            "bin_end": 301.4,
            "count": 0
           },
           {
            "bin_start": 301.4,
            "bin_end": 336.5,
            "count": 0
           },
           {
            "bin_start": 336.5,
            "bin_end": 371.6,
            "count": 1
           },
           {
            "bin_start": 371.6,
            "bin_end": 406.70000000000005,
            "count": 1
           },
           {
            "bin_start": 406.70000000000005,
            "bin_end": 441.8,
            "count": 1
           },
           {
            "bin_start": 441.8,
            "bin_end": 476.90000000000003,
            "count": 0
           },
           {
            "bin_start": 476.90000000000003,
            "bin_end": 512,
            "count": 1
           }
          ]
         }
        },
        {
         "name": "msp_hospitalizacion_camas_porcentaje_ocupadas",
         "dtype": "int64",
         "stats": {
          "unique_count": 2,
          "nan_count": 0,
          "min": "0",
          "max": "33",
          "histogram": [
           {
            "bin_start": 0,
            "bin_end": 3.3,
            "count": 4
           },
           {
            "bin_start": 3.3,
            "bin_end": 6.6,
            "count": 0
           },
           {
            "bin_start": 6.6,
            "bin_end": 9.899999999999999,
            "count": 0
           },
           {
            "bin_start": 9.899999999999999,
            "bin_end": 13.2,
            "count": 0
           },
           {
            "bin_start": 13.2,
            "bin_end": 16.5,
            "count": 0
           },
           {
            "bin_start": 16.5,
            "bin_end": 19.799999999999997,
            "count": 0
           },
           {
            "bin_start": 19.799999999999997,
            "bin_end": 23.099999999999998,
            "count": 0
           },
           {
            "bin_start": 23.099999999999998,
            "bin_end": 26.4,
            "count": 0
           },
           {
            "bin_start": 26.4,
            "bin_end": 29.7,
            "count": 0
           },
           {
            "bin_start": 29.7,
            "bin_end": 33,
            "count": 1
           }
          ]
         }
        },
        {
         "name": "msp_hospitalizacion_lista_espera",
         "dtype": "int64",
         "stats": {
          "unique_count": 2,
          "nan_count": 0,
          "min": "0",
          "max": "7",
          "histogram": [
           {
            "bin_start": 0,
            "bin_end": 0.7,
            "count": 4
           },
           {
            "bin_start": 0.7,
            "bin_end": 1.4,
            "count": 0
           },
           {
            "bin_start": 1.4,
            "bin_end": 2.0999999999999996,
            "count": 0
           },
           {
            "bin_start": 2.0999999999999996,
            "bin_end": 2.8,
            "count": 0
           },
           {
            "bin_start": 2.8,
            "bin_end": 3.5,
            "count": 0
           },
           {
            "bin_start": 3.5,
            "bin_end": 4.199999999999999,
            "count": 0
           },
           {
            "bin_start": 4.199999999999999,
            "bin_end": 4.8999999999999995,
            "count": 0
           },
           {
            "bin_start": 4.8999999999999995,
            "bin_end": 5.6,
            "count": 0
           },
           {
            "bin_start": 5.6,
            "bin_end": 6.3,
            "count": 0
           },
           {
            "bin_start": 6.3,
            "bin_end": 7,
            "count": 1
           }
          ]
         }
        },
        {
         "name": "msp_hospitalizacion_camas_asignadas",
         "dtype": "int64",
         "stats": {
          "unique_count": 2,
          "nan_count": 0,
          "min": "0",
          "max": "1329",
          "histogram": [
           {
            "bin_start": 0,
            "bin_end": 132.9,
            "count": 4
           },
           {
            "bin_start": 132.9,
            "bin_end": 265.8,
            "count": 0
           },
           {
            "bin_start": 265.8,
            "bin_end": 398.70000000000005,
            "count": 0
           },
           {
            "bin_start": 398.70000000000005,
            "bin_end": 531.6,
            "count": 0
           },
           {
            "bin_start": 531.6,
            "bin_end": 664.5,
            "count": 0
           },
           {
            "bin_start": 664.5,
            "bin_end": 797.4000000000001,
            "count": 0
           },
           {
            "bin_start": 797.4000000000001,
            "bin_end": 930.3000000000001,
            "count": 0
           },
           {
            "bin_start": 930.3000000000001,
            "bin_end": 1063.2,
            "count": 0
           },
           {
            "bin_start": 1063.2,
            "bin_end": 1196.1000000000001,
            "count": 0
           },
           {
            "bin_start": 1196.1000000000001,
            "bin_end": 1329,
            "count": 1
           }
          ]
         }
        },
        {
         "name": "msp_hospitalizacion_camas_ocupadas",
         "dtype": "int64",
         "stats": {
          "unique_count": 2,
          "nan_count": 0,
          "min": "0",
          "max": "444",
          "histogram": [
           {
            "bin_start": 0,
            "bin_end": 44.4,
            "count": 4
           },
           {
            "bin_start": 44.4,
            "bin_end": 88.8,
            "count": 0
           },
           {
            "bin_start": 88.8,
            "bin_end": 133.2,
            "count": 0
           },
           {
            "bin_start": 133.2,
            "bin_end": 177.6,
            "count": 0
           },
           {
            "bin_start": 177.6,
            "bin_end": 222,
            "count": 0
           },
           {
            "bin_start": 222,
            "bin_end": 266.4,
            "count": 0
           },
           {
            "bin_start": 266.4,
            "bin_end": 310.8,
            "count": 0
           },
           {
            "bin_start": 310.8,
            "bin_end": 355.2,
            "count": 0
           },
           {
            "bin_start": 355.2,
            "bin_end": 399.59999999999997,
            "count": 0
           },
           {
            "bin_start": 399.59999999999997,
            "bin_end": 444,
            "count": 1
           }
          ]
         }
        },
        {
         "name": "msp_cuidado_intermedio_camas_porcentaje_ocupadas",
         "dtype": "int64",
         "stats": {
          "unique_count": 2,
          "nan_count": 0,
          "min": "0",
          "max": "35",
          "histogram": [
           {
            "bin_start": 0,
            "bin_end": 3.5,
            "count": 4
           },
           {
            "bin_start": 3.5,
            "bin_end": 7,
            "count": 0
           },
           {
            "bin_start": 7,
            "bin_end": 10.5,
            "count": 0
           },
           {
            "bin_start": 10.5,
            "bin_end": 14,
            "count": 0
           },
           {
            "bin_start": 14,
            "bin_end": 17.5,
            "count": 0
           },
           {
            "bin_start": 17.5,
            "bin_end": 21,
            "count": 0
           },
           {
            "bin_start": 21,
            "bin_end": 24.5,
            "count": 0
           },
           {
            "bin_start": 24.5,
            "bin_end": 28,
            "count": 0
           },
           {
            "bin_start": 28,
            "bin_end": 31.5,
            "count": 0
           },
           {
            "bin_start": 31.5,
            "bin_end": 35,
            "count": 1
           }
          ]
         }
        },
        {
         "name": "msp_cuidado_intermedio_lista_espera",
         "dtype": "int64",
         "stats": {
          "unique_count": 2,
          "nan_count": 0,
          "min": "0",
          "max": "3",
          "histogram": [
           {
            "bin_start": 0,
            "bin_end": 0.3,
            "count": 4
           },
           {
            "bin_start": 0.3,
            "bin_end": 0.6,
            "count": 0
           },
           {
            "bin_start": 0.6,
            "bin_end": 0.8999999999999999,
            "count": 0
           },
           {
            "bin_start": 0.8999999999999999,
            "bin_end": 1.2,
            "count": 0
           },
           {
            "bin_start": 1.2,
            "bin_end": 1.5,
            "count": 0
           },
           {
            "bin_start": 1.5,
            "bin_end": 1.7999999999999998,
            "count": 0
           },
           {
            "bin_start": 1.7999999999999998,
            "bin_end": 2.1,
            "count": 0
           },
           {
            "bin_start": 2.1,
            "bin_end": 2.4,
            "count": 0
           },
           {
            "bin_start": 2.4,
            "bin_end": 2.6999999999999997,
            "count": 0
           },
           {
            "bin_start": 2.6999999999999997,
            "bin_end": 3,
            "count": 1
           }
          ]
         }
        },
        {
         "name": "msp_cuidado_intermedio_camas_asignadas",
         "dtype": "int64",
         "stats": {
          "unique_count": 2,
          "nan_count": 0,
          "min": "0",
          "max": "114",
          "histogram": [
           {
            "bin_start": 0,
            "bin_end": 11.4,
            "count": 4
           },
           {
            "bin_start": 11.4,
            "bin_end": 22.8,
            "count": 0
           },
           {
            "bin_start": 22.8,
            "bin_end": 34.2,
            "count": 0
           },
           {
            "bin_start": 34.2,
            "bin_end": 45.6,
            "count": 0
           },
           {
            "bin_start": 45.6,
            "bin_end": 57,
            "count": 0
           },
           {
            "bin_start": 57,
            "bin_end": 68.4,
            "count": 0
           },
           {
            "bin_start": 68.4,
            "bin_end": 79.8,
            "count": 0
           },
           {
            "bin_start": 79.8,
            "bin_end": 91.2,
            "count": 0
           },
           {
            "bin_start": 91.2,
            "bin_end": 102.60000000000001,
            "count": 0
           },
           {
            "bin_start": 102.60000000000001,
            "bin_end": 114,
            "count": 1
           }
          ]
         }
        },
        {
         "name": "msp_cuidado_intermedio_camas_ocupadas",
         "dtype": "int64",
         "stats": {
          "unique_count": 2,
          "nan_count": 0,
          "min": "0",
          "max": "40",
          "histogram": [
           {
            "bin_start": 0,
            "bin_end": 4,
            "count": 4
           },
           {
            "bin_start": 4,
            "bin_end": 8,
            "count": 0
           },
           {
            "bin_start": 8,
            "bin_end": 12,
            "count": 0
           },
           {
            "bin_start": 12,
            "bin_end": 16,
            "count": 0
           },
           {
            "bin_start": 16,
            "bin_end": 20,
            "count": 0
           },
           {
            "bin_start": 20,
            "bin_end": 24,
            "count": 0
           },
           {
            "bin_start": 24,
            "bin_end": 28,
            "count": 0
           },
           {
            "bin_start": 28,
            "bin_end": 32,
            "count": 0
           },
           {
            "bin_start": 32,
            "bin_end": 36,
            "count": 0
           },
           {
            "bin_start": 36,
            "bin_end": 40,
            "count": 1
           }
          ]
         }
        },
        {
         "name": "msp_uci_camas_porcentaje_ocupadas",
         "dtype": "int64",
         "stats": {
          "unique_count": 2,
          "nan_count": 0,
          "min": "0",
          "max": "77",
          "histogram": [
           {
            "bin_start": 0,
            "bin_end": 7.7,
            "count": 4
           },
           {
            "bin_start": 7.7,
            "bin_end": 15.4,
            "count": 0
           },
           {
            "bin_start": 15.4,
            "bin_end": 23.1,
            "count": 0
           },
           {
            "bin_start": 23.1,
            "bin_end": 30.8,
            "count": 0
           },
           {
            "bin_start": 30.8,
            "bin_end": 38.5,
            "count": 0
           },
           {
            "bin_start": 38.5,
            "bin_end": 46.2,
            "count": 0
           },
           {
            "bin_start": 46.2,
            "bin_end": 53.9,
            "count": 0
           },
           {
            "bin_start": 53.9,
            "bin_end": 61.6,
            "count": 0
           },
           {
            "bin_start": 61.6,
            "bin_end": 69.3,
            "count": 0
           },
           {
            "bin_start": 69.3,
            "bin_end": 77,
            "count": 1
           }
          ]
         }
        },
        {
         "name": "msp_uci_lista_espera",
         "dtype": "int64",
         "stats": {
          "unique_count": 2,
          "nan_count": 0,
          "min": "0",
          "max": "37",
          "histogram": [
           {
            "bin_start": 0,
            "bin_end": 3.7,
            "count": 4
           },
           {
            "bin_start": 3.7,
            "bin_end": 7.4,
            "count": 0
           },
           {
            "bin_start": 7.4,
            "bin_end": 11.100000000000001,
            "count": 0
           },
           {
            "bin_start": 11.100000000000001,
            "bin_end": 14.8,
            "count": 0
           },
           {
            "bin_start": 14.8,
            "bin_end": 18.5,
            "count": 0
           },
           {
            "bin_start": 18.5,
            "bin_end": 22.200000000000003,
            "count": 0
           },
           {
            "bin_start": 22.200000000000003,
            "bin_end": 25.900000000000002,
            "count": 0
           },
           {
            "bin_start": 25.900000000000002,
            "bin_end": 29.6,
            "count": 0
           },
           {
            "bin_start": 29.6,
            "bin_end": 33.300000000000004,
            "count": 0
           },
           {
            "bin_start": 33.300000000000004,
            "bin_end": 37,
            "count": 1
           }
          ]
         }
        },
        {
         "name": "msp_uci_camas_asignadas",
         "dtype": "int64",
         "stats": {
          "unique_count": 2,
          "nan_count": 0,
          "min": "0",
          "max": "323",
          "histogram": [
           {
            "bin_start": 0,
            "bin_end": 32.3,
            "count": 4
           },
           {
            "bin_start": 32.3,
            "bin_end": 64.6,
            "count": 0
           },
           {
            "bin_start": 64.6,
            "bin_end": 96.89999999999999,
            "count": 0
           },
           {
            "bin_start": 96.89999999999999,
            "bin_end": 129.2,
            "count": 0
           },
           {
            "bin_start": 129.2,
            "bin_end": 161.5,
            "count": 0
           },
           {
            "bin_start": 161.5,
            "bin_end": 193.79999999999998,
            "count": 0
           },
           {
            "bin_start": 193.79999999999998,
            "bin_end": 226.09999999999997,
            "count": 0
           },
           {
            "bin_start": 226.09999999999997,
            "bin_end": 258.4,
            "count": 0
           },
           {
            "bin_start": 258.4,
            "bin_end": 290.7,
            "count": 0
           },
           {
            "bin_start": 290.7,
            "bin_end": 323,
            "count": 1
           }
          ]
         }
        },
        {
         "name": "msp_uci_camas_ocupadas",
         "dtype": "int64",
         "stats": {
          "unique_count": 2,
          "nan_count": 0,
          "min": "0",
          "max": "250",
          "histogram": [
           {
            "bin_start": 0,
            "bin_end": 25,
            "count": 4
           },
           {
            "bin_start": 25,
            "bin_end": 50,
            "count": 0
           },
           {
            "bin_start": 50,
            "bin_end": 75,
            "count": 0
           },
           {
            "bin_start": 75,
            "bin_end": 100,
            "count": 0
           },
           {
            "bin_start": 100,
            "bin_end": 125,
            "count": 0
           },
           {
            "bin_start": 125,
            "bin_end": 150,
            "count": 0
           },
           {
            "bin_start": 150,
            "bin_end": 175,
            "count": 0
           },
           {
            "bin_start": 175,
            "bin_end": 200,
            "count": 0
           },
           {
            "bin_start": 200,
            "bin_end": 225,
            "count": 0
           },
           {
            "bin_start": 225,
            "bin_end": 250,
            "count": 1
           }
          ]
         }
        },
        {
         "name": "rpis_hospitalizacion_camas_porcentaje_ocupadas",
         "dtype": "int64",
         "stats": {
          "unique_count": 2,
          "nan_count": 0,
          "min": "0",
          "max": "47",
          "histogram": [
           {
            "bin_start": 0,
            "bin_end": 4.7,
            "count": 4
           },
           {
            "bin_start": 4.7,
            "bin_end": 9.4,
            "count": 0
           },
           {
            "bin_start": 9.4,
            "bin_end": 14.100000000000001,
            "count": 0
           },
           {
            "bin_start": 14.100000000000001,
            "bin_end": 18.8,
            "count": 0
           },
           {
            "bin_start": 18.8,
            "bin_end": 23.5,
            "count": 0
           },
           {
            "bin_start": 23.5,
            "bin_end": 28.200000000000003,
            "count": 0
           },
           {
            "bin_start": 28.200000000000003,
            "bin_end": 32.9,
            "count": 0
           },
           {
            "bin_start": 32.9,
            "bin_end": 37.6,
            "count": 0
           },
           {
            "bin_start": 37.6,
            "bin_end": 42.300000000000004,
            "count": 0
           },
           {
            "bin_start": 42.300000000000004,
            "bin_end": 47,
            "count": 1
           }
          ]
         }
        },
        {
         "name": "rpis_hospitalizacion_lista_espera",
         "dtype": "int64",
         "stats": {
          "unique_count": 1,
          "nan_count": 0,
          "min": "0",
          "max": "0",
          "histogram": [
           {
            "bin_start": -0.5,
            "bin_end": -0.4,
            "count": 0
           },
           {
            "bin_start": -0.4,
            "bin_end": -0.3,
            "count": 0
           },
           {
            "bin_start": -0.3,
            "bin_end": -0.19999999999999996,
            "count": 0
           },
           {
            "bin_start": -0.19999999999999996,
            "bin_end": -0.09999999999999998,
            "count": 0
           },
           {
            "bin_start": -0.09999999999999998,
            "bin_end": 0,
            "count": 0
           },
           {
            "bin_start": 0,
            "bin_end": 0.10000000000000009,
            "count": 5
           },
           {
            "bin_start": 0.10000000000000009,
            "bin_end": 0.20000000000000007,
            "count": 0
           },
           {
            "bin_start": 0.20000000000000007,
            "bin_end": 0.30000000000000004,
            "count": 0
           },
           {
            "bin_start": 0.30000000000000004,
            "bin_end": 0.4,
            "count": 0
           },
           {
            "bin_start": 0.4,
            "bin_end": 0.5,
            "count": 0
           }
          ]
         }
        },
        {
         "name": "rpis_hospitalizacion_camas_asignadas",
         "dtype": "int64",
         "stats": {
          "unique_count": 2,
          "nan_count": 0,
          "min": "0",
          "max": "819",
          "histogram": [
           {
            "bin_start": 0,
            "bin_end": 81.9,
            "count": 4
           },
           {
            "bin_start": 81.9,
            "bin_end": 163.8,
            "count": 0
           },
           {
            "bin_start": 163.8,
            "bin_end": 245.70000000000002,
            "count": 0
           },
           {
            "bin_start": 245.70000000000002,
            "bin_end": 327.6,
            "count": 0
           },
           {
            "bin_start": 327.6,
            "bin_end": 409.5,
            "count": 0
           },
           {
            "bin_start": 409.5,
            "bin_end": 491.40000000000003,
            "count": 0
           },
           {
            "bin_start": 491.40000000000003,
            "bin_end": 573.3000000000001,
            "count": 0
           },
           {
            "bin_start": 573.3000000000001,
            "bin_end": 655.2,
            "count": 0
           },
           {
            "bin_start": 655.2,
            "bin_end": 737.1,
            "count": 0
           },
           {
            "bin_start": 737.1,
            "bin_end": 819,
            "count": 1
           }
          ]
         }
        },
        {
         "name": "rpis_hospitalizacion_camas_ocupadas",
         "dtype": "int64",
         "stats": {
          "unique_count": 2,
          "nan_count": 0,
          "min": "0",
          "max": "385",
          "histogram": [
           {
            "bin_start": 0,
            "bin_end": 38.5,
            "count": 4
           },
           {
            "bin_start": 38.5,
            "bin_end": 77,
            "count": 0
           },
           {
            "bin_start": 77,
            "bin_end": 115.5,
            "count": 0
           },
           {
            "bin_start": 115.5,
            "bin_end": 154,
            "count": 0
           },
           {
            "bin_start": 154,
            "bin_end": 192.5,
            "count": 0
           },
           {
            "bin_start": 192.5,
            "bin_end": 231,
            "count": 0
           },
           {
            "bin_start": 231,
            "bin_end": 269.5,
            "count": 0
           },
           {
            "bin_start": 269.5,
            "bin_end": 308,
            "count": 0
           },
           {
            "bin_start": 308,
            "bin_end": 346.5,
            "count": 0
           },
           {
            "bin_start": 346.5,
            "bin_end": 385,
            "count": 1
           }
          ]
         }
        },
        {
         "name": "rpis_cuidado_intermedio_camas_porcentaje_ocupadas",
         "dtype": "int64",
         "stats": {
          "unique_count": 2,
          "nan_count": 0,
          "min": "0",
          "max": "66",
          "histogram": [
           {
            "bin_start": 0,
            "bin_end": 6.6,
            "count": 4
           },
           {
            "bin_start": 6.6,
            "bin_end": 13.2,
            "count": 0
           },
           {
            "bin_start": 13.2,
            "bin_end": 19.799999999999997,
            "count": 0
           },
           {
            "bin_start": 19.799999999999997,
            "bin_end": 26.4,
            "count": 0
           },
           {
            "bin_start": 26.4,
            "bin_end": 33,
            "count": 0
           },
           {
            "bin_start": 33,
            "bin_end": 39.599999999999994,
            "count": 0
           },
           {
            "bin_start": 39.599999999999994,
            "bin_end": 46.199999999999996,
            "count": 0
           },
           {
            "bin_start": 46.199999999999996,
            "bin_end": 52.8,
            "count": 0
           },
           {
            "bin_start": 52.8,
            "bin_end": 59.4,
            "count": 0
           },
           {
            "bin_start": 59.4,
            "bin_end": 66,
            "count": 1
           }
          ]
         }
        },
        {
         "name": "rpis_cuidado_intermedio_lista_espera",
         "dtype": "int64",
         "stats": {
          "unique_count": 2,
          "nan_count": 0,
          "min": "0",
          "max": "18",
          "histogram": [
           {
            "bin_start": 0,
            "bin_end": 1.8,
            "count": 4
           },
           {
            "bin_start": 1.8,
            "bin_end": 3.6,
            "count": 0
           },
           {
            "bin_start": 3.6,
            "bin_end": 5.4,
            "count": 0
           },
           {
            "bin_start": 5.4,
            "bin_end": 7.2,
            "count": 0
           },
           {
            "bin_start": 7.2,
            "bin_end": 9,
            "count": 0
           },
           {
            "bin_start": 9,
            "bin_end": 10.8,
            "count": 0
           },
           {
            "bin_start": 10.8,
            "bin_end": 12.6,
            "count": 0
           },
           {
            "bin_start": 12.6,
            "bin_end": 14.4,
            "count": 0
           },
           {
            "bin_start": 14.4,
            "bin_end": 16.2,
            "count": 0
           },
           {
            "bin_start": 16.2,
            "bin_end": 18,
            "count": 1
           }
          ]
         }
        },
        {
         "name": "rpis_cuidado_intermedio_camas_asignadas",
         "dtype": "int64",
         "stats": {
          "unique_count": 2,
          "nan_count": 0,
          "min": "0",
          "max": "29",
          "histogram": [
           {
            "bin_start": 0,
            "bin_end": 2.9,
            "count": 4
           },
           {
            "bin_start": 2.9,
            "bin_end": 5.8,
            "count": 0
           },
           {
            "bin_start": 5.8,
            "bin_end": 8.7,
            "count": 0
           },
           {
            "bin_start": 8.7,
            "bin_end": 11.6,
            "count": 0
           },
           {
            "bin_start": 11.6,
            "bin_end": 14.5,
            "count": 0
           },
           {
            "bin_start": 14.5,
            "bin_end": 17.4,
            "count": 0
           },
           {
            "bin_start": 17.4,
            "bin_end": 20.3,
            "count": 0
           },
           {
            "bin_start": 20.3,
            "bin_end": 23.2,
            "count": 0
           },
           {
            "bin_start": 23.2,
            "bin_end": 26.099999999999998,
            "count": 0
           },
           {
            "bin_start": 26.099999999999998,
            "bin_end": 29,
            "count": 1
           }
          ]
         }
        },
        {
         "name": "rpis_cuidado_intermedio_camas_ocupadas",
         "dtype": "int64",
         "stats": {
          "unique_count": 2,
          "nan_count": 0,
          "min": "0",
          "max": "19",
          "histogram": [
           {
            "bin_start": 0,
            "bin_end": 1.9,
            "count": 4
           },
           {
            "bin_start": 1.9,
            "bin_end": 3.8,
            "count": 0
           },
           {
            "bin_start": 3.8,
            "bin_end": 5.699999999999999,
            "count": 0
           },
           {
            "bin_start": 5.699999999999999,
            "bin_end": 7.6,
            "count": 0
           },
           {
            "bin_start": 7.6,
            "bin_end": 9.5,
            "count": 0
           },
           {
            "bin_start": 9.5,
            "bin_end": 11.399999999999999,
            "count": 0
           },
           {
            "bin_start": 11.399999999999999,
            "bin_end": 13.299999999999999,
            "count": 0
           },
           {
            "bin_start": 13.299999999999999,
            "bin_end": 15.2,
            "count": 0
           },
           {
            "bin_start": 15.2,
            "bin_end": 17.099999999999998,
            "count": 0
           },
           {
            "bin_start": 17.099999999999998,
            "bin_end": 19,
            "count": 1
           }
          ]
         }
        },
        {
         "name": "rpis_uci_camas_porcentaje_ocupadas",
         "dtype": "int64",
         "stats": {
          "unique_count": 2,
          "nan_count": 0,
          "min": "0",
          "max": "81",
          "histogram": [
           {
            "bin_start": 0,
            "bin_end": 8.1,
            "count": 4
           },
           {
            "bin_start": 8.1,
            "bin_end": 16.2,
            "count": 0
           },
           {
            "bin_start": 16.2,
            "bin_end": 24.299999999999997,
            "count": 0
           },
           {
            "bin_start": 24.299999999999997,
            "bin_end": 32.4,
            "count": 0
           },
           {
            "bin_start": 32.4,
            "bin_end": 40.5,
            "count": 0
           },
           {
            "bin_start": 40.5,
            "bin_end": 48.599999999999994,
            "count": 0
           },
           {
            "bin_start": 48.599999999999994,
            "bin_end": 56.699999999999996,
            "count": 0
           },
           {
            "bin_start": 56.699999999999996,
            "bin_end": 64.8,
            "count": 0
           },
           {
            "bin_start": 64.8,
            "bin_end": 72.89999999999999,
            "count": 0
           },
           {
            "bin_start": 72.89999999999999,
            "bin_end": 81,
            "count": 1
           }
          ]
         }
        },
        {
         "name": "rpis_uci_lista_espera",
         "dtype": "int64",
         "stats": {
          "unique_count": 2,
          "nan_count": 0,
          "min": "0",
          "max": "36",
          "histogram": [
           {
            "bin_start": 0,
            "bin_end": 3.6,
            "count": 4
           },
           {
            "bin_start": 3.6,
            "bin_end": 7.2,
            "count": 0
           },
           {
            "bin_start": 7.2,
            "bin_end": 10.8,
            "count": 0
           },
           {
            "bin_start": 10.8,
            "bin_end": 14.4,
            "count": 0
           },
           {
            "bin_start": 14.4,
            "bin_end": 18,
            "count": 0
           },
           {
            "bin_start": 18,
            "bin_end": 21.6,
            "count": 0
           },
           {
            "bin_start": 21.6,
            "bin_end": 25.2,
            "count": 0
           },
           {
            "bin_start": 25.2,
            "bin_end": 28.8,
            "count": 0
           },
           {
            "bin_start": 28.8,
            "bin_end": 32.4,
            "count": 0
           },
           {
            "bin_start": 32.4,
            "bin_end": 36,
            "count": 1
           }
          ]
         }
        },
        {
         "name": "rpis_uci_camas_asignadas",
         "dtype": "int64",
         "stats": {
          "unique_count": 2,
          "nan_count": 0,
          "min": "0",
          "max": "268",
          "histogram": [
           {
            "bin_start": 0,
            "bin_end": 26.8,
            "count": 4
           },
           {
            "bin_start": 26.8,
            "bin_end": 53.6,
            "count": 0
           },
           {
            "bin_start": 53.6,
            "bin_end": 80.4,
            "count": 0
           },
           {
            "bin_start": 80.4,
            "bin_end": 107.2,
            "count": 0
           },
           {
            "bin_start": 107.2,
            "bin_end": 134,
            "count": 0
           },
           {
            "bin_start": 134,
            "bin_end": 160.8,
            "count": 0
           },
           {
            "bin_start": 160.8,
            "bin_end": 187.6,
            "count": 0
           },
           {
            "bin_start": 187.6,
            "bin_end": 214.4,
            "count": 0
           },
           {
            "bin_start": 214.4,
            "bin_end": 241.20000000000002,
            "count": 0
           },
           {
            "bin_start": 241.20000000000002,
            "bin_end": 268,
            "count": 1
           }
          ]
         }
        },
        {
         "name": "rpis_uci_camas_ocupadas",
         "dtype": "int64",
         "stats": {
          "unique_count": 2,
          "nan_count": 0,
          "min": "0",
          "max": "218",
          "histogram": [
           {
            "bin_start": 0,
            "bin_end": 21.8,
            "count": 4
           },
           {
            "bin_start": 21.8,
            "bin_end": 43.6,
            "count": 0
           },
           {
            "bin_start": 43.6,
            "bin_end": 65.4,
            "count": 0
           },
           {
            "bin_start": 65.4,
            "bin_end": 87.2,
            "count": 0
           },
           {
            "bin_start": 87.2,
            "bin_end": 109,
            "count": 0
           },
           {
            "bin_start": 109,
            "bin_end": 130.8,
            "count": 0
           },
           {
            "bin_start": 130.8,
            "bin_end": 152.6,
            "count": 0
           },
           {
            "bin_start": 152.6,
            "bin_end": 174.4,
            "count": 0
           },
           {
            "bin_start": 174.4,
            "bin_end": 196.20000000000002,
            "count": 0
           },
           {
            "bin_start": 196.20000000000002,
            "bin_end": 218,
            "count": 1
           }
          ]
         }
        },
        {
         "name": "rpc_hospitalizacion_camas_porcentaje_ocupadas",
         "dtype": "int64",
         "stats": {
          "unique_count": 2,
          "nan_count": 0,
          "min": "0",
          "max": "35",
          "histogram": [
           {
            "bin_start": 0,
            "bin_end": 3.5,
            "count": 4
           },
           {
            "bin_start": 3.5,
            "bin_end": 7,
            "count": 0
           },
           {
            "bin_start": 7,
            "bin_end": 10.5,
            "count": 0
           },
           {
            "bin_start": 10.5,
            "bin_end": 14,
            "count": 0
           },
           {
            "bin_start": 14,
            "bin_end": 17.5,
            "count": 0
           },
           {
            "bin_start": 17.5,
            "bin_end": 21,
            "count": 0
           },
           {
            "bin_start": 21,
            "bin_end": 24.5,
            "count": 0
           },
           {
            "bin_start": 24.5,
            "bin_end": 28,
            "count": 0
           },
           {
            "bin_start": 28,
            "bin_end": 31.5,
            "count": 0
           },
           {
            "bin_start": 31.5,
            "bin_end": 35,
            "count": 1
           }
          ]
         }
        },
        {
         "name": "rpc_hospitalizacion_lista_espera",
         "dtype": "int64",
         "stats": {
          "unique_count": 2,
          "nan_count": 0,
          "min": "0",
          "max": "1",
          "histogram": [
           {
            "bin_start": 0,
            "bin_end": 0.1,
            "count": 4
           },
           {
            "bin_start": 0.1,
            "bin_end": 0.2,
            "count": 0
           },
           {
            "bin_start": 0.2,
            "bin_end": 0.30000000000000004,
            "count": 0
           },
           {
            "bin_start": 0.30000000000000004,
            "bin_end": 0.4,
            "count": 0
           },
           {
            "bin_start": 0.4,
            "bin_end": 0.5,
            "count": 0
           },
           {
            "bin_start": 0.5,
            "bin_end": 0.6000000000000001,
            "count": 0
           },
           {
            "bin_start": 0.6000000000000001,
            "bin_end": 0.7000000000000001,
            "count": 0
           },
           {
            "bin_start": 0.7000000000000001,
            "bin_end": 0.8,
            "count": 0
           },
           {
            "bin_start": 0.8,
            "bin_end": 0.9,
            "count": 0
           },
           {
            "bin_start": 0.9,
            "bin_end": 1,
            "count": 1
           }
          ]
         }
        },
        {
         "name": "rpc_hospitalizacion_camas_asignadas",
         "dtype": "int64",
         "stats": {
          "unique_count": 2,
          "nan_count": 0,
          "min": "0",
          "max": "493",
          "histogram": [
           {
            "bin_start": 0,
            "bin_end": 49.3,
            "count": 4
           },
           {
            "bin_start": 49.3,
            "bin_end": 98.6,
            "count": 0
           },
           {
            "bin_start": 98.6,
            "bin_end": 147.89999999999998,
            "count": 0
           },
           {
            "bin_start": 147.89999999999998,
            "bin_end": 197.2,
            "count": 0
           },
           {
            "bin_start": 197.2,
            "bin_end": 246.5,
            "count": 0
           },
           {
            "bin_start": 246.5,
            "bin_end": 295.79999999999995,
            "count": 0
           },
           {
            "bin_start": 295.79999999999995,
            "bin_end": 345.09999999999997,
            "count": 0
           },
           {
            "bin_start": 345.09999999999997,
            "bin_end": 394.4,
            "count": 0
           },
           {
            "bin_start": 394.4,
            "bin_end": 443.7,
            "count": 0
           },
           {
            "bin_start": 443.7,
            "bin_end": 493,
            "count": 1
           }
          ]
         }
        },
        {
         "name": "rpc_hospitalizacion_camas_ocupadas",
         "dtype": "int64",
         "stats": {
          "unique_count": 2,
          "nan_count": 0,
          "min": "0",
          "max": "173",
          "histogram": [
           {
            "bin_start": 0,
            "bin_end": 17.3,
            "count": 4
           },
           {
            "bin_start": 17.3,
            "bin_end": 34.6,
            "count": 0
           },
           {
            "bin_start": 34.6,
            "bin_end": 51.900000000000006,
            "count": 0
           },
           {
            "bin_start": 51.900000000000006,
            "bin_end": 69.2,
            "count": 0
           },
           {
            "bin_start": 69.2,
            "bin_end": 86.5,
            "count": 0
           },
           {
            "bin_start": 86.5,
            "bin_end": 103.80000000000001,
            "count": 0
           },
           {
            "bin_start": 103.80000000000001,
            "bin_end": 121.10000000000001,
            "count": 0
           },
           {
            "bin_start": 121.10000000000001,
            "bin_end": 138.4,
            "count": 0
           },
           {
            "bin_start": 138.4,
            "bin_end": 155.70000000000002,
            "count": 0
           },
           {
            "bin_start": 155.70000000000002,
            "bin_end": 173,
            "count": 1
           }
          ]
         }
        },
        {
         "name": "rpc_cuidado_intermedio_camas_porcentaje_ocupadas",
         "dtype": "int64",
         "stats": {
          "unique_count": 2,
          "nan_count": 0,
          "min": "0",
          "max": "44",
          "histogram": [
           {
            "bin_start": 0,
            "bin_end": 4.4,
            "count": 4
           },
           {
            "bin_start": 4.4,
            "bin_end": 8.8,
            "count": 0
           },
           {
            "bin_start": 8.8,
            "bin_end": 13.200000000000001,
            "count": 0
           },
           {
            "bin_start": 13.200000000000001,
            "bin_end": 17.6,
            "count": 0
           },
           {
            "bin_start": 17.6,
            "bin_end": 22,
            "count": 0
           },
           {
            "bin_start": 22,
            "bin_end": 26.400000000000002,
            "count": 0
           },
           {
            "bin_start": 26.400000000000002,
            "bin_end": 30.800000000000004,
            "count": 0
           },
           {
            "bin_start": 30.800000000000004,
            "bin_end": 35.2,
            "count": 0
           },
           {
            "bin_start": 35.2,
            "bin_end": 39.6,
            "count": 0
           },
           {
            "bin_start": 39.6,
            "bin_end": 44,
            "count": 1
           }
          ]
         }
        },
        {
         "name": "rpc_cuidado_intermedio_lista_espera",
         "dtype": "int64",
         "stats": {
          "unique_count": 1,
          "nan_count": 0,
          "min": "0",
          "max": "0",
          "histogram": [
           {
            "bin_start": -0.5,
            "bin_end": -0.4,
            "count": 0
           },
           {
            "bin_start": -0.4,
            "bin_end": -0.3,
            "count": 0
           },
           {
            "bin_start": -0.3,
            "bin_end": -0.19999999999999996,
            "count": 0
           },
           {
            "bin_start": -0.19999999999999996,
            "bin_end": -0.09999999999999998,
            "count": 0
           },
           {
            "bin_start": -0.09999999999999998,
            "bin_end": 0,
            "count": 0
           },
           {
            "bin_start": 0,
            "bin_end": 0.10000000000000009,
            "count": 5
           },
           {
            "bin_start": 0.10000000000000009,
            "bin_end": 0.20000000000000007,
            "count": 0
           },
           {
            "bin_start": 0.20000000000000007,
            "bin_end": 0.30000000000000004,
            "count": 0
           },
           {
            "bin_start": 0.30000000000000004,
            "bin_end": 0.4,
            "count": 0
           },
           {
            "bin_start": 0.4,
            "bin_end": 0.5,
            "count": 0
           }
          ]
         }
        },
        {
         "name": "rpc_cuidado_intermedio_camas_asignadas",
         "dtype": "int64",
         "stats": {
          "unique_count": 2,
          "nan_count": 0,
          "min": "0",
          "max": "16",
          "histogram": [
           {
            "bin_start": 0,
            "bin_end": 1.6,
            "count": 4
           },
           {
            "bin_start": 1.6,
            "bin_end": 3.2,
            "count": 0
           },
           {
            "bin_start": 3.2,
            "bin_end": 4.800000000000001,
            "count": 0
           },
           {
            "bin_start": 4.800000000000001,
            "bin_end": 6.4,
            "count": 0
           },
           {
            "bin_start": 6.4,
            "bin_end": 8,
            "count": 0
           },
           {
            "bin_start": 8,
            "bin_end": 9.600000000000001,
            "count": 0
           },
           {
            "bin_start": 9.600000000000001,
            "bin_end": 11.200000000000001,
            "count": 0
           },
           {
            "bin_start": 11.200000000000001,
            "bin_end": 12.8,
            "count": 0
           },
           {
            "bin_start": 12.8,
            "bin_end": 14.4,
            "count": 0
           },
           {
            "bin_start": 14.4,
            "bin_end": 16,
            "count": 1
           }
          ]
         }
        },
        {
         "name": "rpc_cuidado_intermedio_camas_ocupadas",
         "dtype": "int64",
         "stats": {
          "unique_count": 2,
          "nan_count": 0,
          "min": "0",
          "max": "7",
          "histogram": [
           {
            "bin_start": 0,
            "bin_end": 0.7,
            "count": 4
           },
           {
            "bin_start": 0.7,
            "bin_end": 1.4,
            "count": 0
           },
           {
            "bin_start": 1.4,
            "bin_end": 2.0999999999999996,
            "count": 0
           },
           {
            "bin_start": 2.0999999999999996,
            "bin_end": 2.8,
            "count": 0
           },
           {
            "bin_start": 2.8,
            "bin_end": 3.5,
            "count": 0
           },
           {
            "bin_start": 3.5,
            "bin_end": 4.199999999999999,
            "count": 0
           },
           {
            "bin_start": 4.199999999999999,
            "bin_end": 4.8999999999999995,
            "count": 0
           },
           {
            "bin_start": 4.8999999999999995,
            "bin_end": 5.6,
            "count": 0
           },
           {
            "bin_start": 5.6,
            "bin_end": 6.3,
            "count": 0
           },
           {
            "bin_start": 6.3,
            "bin_end": 7,
            "count": 1
           }
          ]
         }
        },
        {
         "name": "rpc_uci_camas_porcentaje_ocupadas",
         "dtype": "int64",
         "stats": {
          "unique_count": 2,
          "nan_count": 0,
          "min": "0",
          "max": "52",
          "histogram": [
           {
            "bin_start": 0,
            "bin_end": 5.2,
            "count": 4
           },
           {
            "bin_start": 5.2,
            "bin_end": 10.4,
            "count": 0
           },
           {
            "bin_start": 10.4,
            "bin_end": 15.600000000000001,
            "count": 0
           },
           {
            "bin_start": 15.600000000000001,
            "bin_end": 20.8,
            "count": 0
           },
           {
            "bin_start": 20.8,
            "bin_end": 26,
            "count": 0
           },
           {
            "bin_start": 26,
            "bin_end": 31.200000000000003,
            "count": 0
           },
           {
            "bin_start": 31.200000000000003,
            "bin_end": 36.4,
            "count": 0
           },
           {
            "bin_start": 36.4,
            "bin_end": 41.6,
            "count": 0
           },
           {
            "bin_start": 41.6,
            "bin_end": 46.800000000000004,
            "count": 0
           },
           {
            "bin_start": 46.800000000000004,
            "bin_end": 52,
            "count": 1
           }
          ]
         }
        },
        {
         "name": "rpc_uci_lista_espera",
         "dtype": "int64",
         "stats": {
          "unique_count": 2,
          "nan_count": 0,
          "min": "0",
          "max": "4",
          "histogram": [
           {
            "bin_start": 0,
            "bin_end": 0.4,
            "count": 4
           },
           {
            "bin_start": 0.4,
            "bin_end": 0.8,
            "count": 0
           },
           {
            "bin_start": 0.8,
            "bin_end": 1.2000000000000002,
            "count": 0
           },
           {
            "bin_start": 1.2000000000000002,
            "bin_end": 1.6,
            "count": 0
           },
           {
            "bin_start": 1.6,
            "bin_end": 2,
            "count": 0
           },
           {
            "bin_start": 2,
            "bin_end": 2.4000000000000004,
            "count": 0
           },
           {
            "bin_start": 2.4000000000000004,
            "bin_end": 2.8000000000000003,
            "count": 0
           },
           {
            "bin_start": 2.8000000000000003,
            "bin_end": 3.2,
            "count": 0
           },
           {
            "bin_start": 3.2,
            "bin_end": 3.6,
            "count": 0
           },
           {
            "bin_start": 3.6,
            "bin_end": 4,
            "count": 1
           }
          ]
         }
        },
        {
         "name": "rpc_uci_camas_asignadas",
         "dtype": "int64",
         "stats": {
          "unique_count": 2,
          "nan_count": 0,
          "min": "0",
          "max": "178",
          "histogram": [
           {
            "bin_start": 0,
            "bin_end": 17.8,
            "count": 4
           },
           {
            "bin_start": 17.8,
            "bin_end": 35.6,
            "count": 0
           },
           {
            "bin_start": 35.6,
            "bin_end": 53.400000000000006,
            "count": 0
           },
           {
            "bin_start": 53.400000000000006,
            "bin_end": 71.2,
            "count": 0
           },
           {
            "bin_start": 71.2,
            "bin_end": 89,
            "count": 0
           },
           {
            "bin_start": 89,
            "bin_end": 106.80000000000001,
            "count": 0
           },
           {
            "bin_start": 106.80000000000001,
            "bin_end": 124.60000000000001,
            "count": 0
           },
           {
            "bin_start": 124.60000000000001,
            "bin_end": 142.4,
            "count": 0
           },
           {
            "bin_start": 142.4,
            "bin_end": 160.20000000000002,
            "count": 0
           },
           {
            "bin_start": 160.20000000000002,
            "bin_end": 178,
            "count": 1
           }
          ]
         }
        },
        {
         "name": "rpc_uci_camas_ocupadas",
         "dtype": "int64",
         "stats": {
          "unique_count": 2,
          "nan_count": 0,
          "min": "0",
          "max": "92",
          "histogram": [
           {
            "bin_start": 0,
            "bin_end": 9.2,
            "count": 4
           },
           {
            "bin_start": 9.2,
            "bin_end": 18.4,
            "count": 0
           },
           {
            "bin_start": 18.4,
            "bin_end": 27.599999999999998,
            "count": 0
           },
           {
            "bin_start": 27.599999999999998,
            "bin_end": 36.8,
            "count": 0
           },
           {
            "bin_start": 36.8,
            "bin_end": 46,
            "count": 0
           },
           {
            "bin_start": 46,
            "bin_end": 55.199999999999996,
            "count": 0
           },
           {
            "bin_start": 55.199999999999996,
            "bin_end": 64.39999999999999,
            "count": 0
           },
           {
            "bin_start": 64.39999999999999,
            "bin_end": 73.6,
            "count": 0
           },
           {
            "bin_start": 73.6,
            "bin_end": 82.8,
            "count": 0
           },
           {
            "bin_start": 82.8,
            "bin_end": 92,
            "count": 1
           }
          ]
         }
        },
        {
         "name": "_deepnote_index_column",
         "dtype": "int64"
        }
       ],
       "rows_top": [
        {
         "created_at": "2021-01-05T00:00:00.000000",
         "muestras": 780593,
         "muestras_pcr": 760021,
         "positivas_total": 0,
         "positivas_probables": 0,
         "muestras_pcr_nuevas": 3069,
         "pruebas_rezagadas": 44965,
         "muertes_confirmadas": 9530,
         "muertes_probables": 4573,
         "muertes": 14103,
         "muertes_nuevas": 34,
         "positivas": 225039,
         "positivas_pcr": 216083,
         "positivas_pcr_nuevas": 1003,
         "positivas_pcr_mujer": 0,
         "positivas_pcr_hombre": 0,
         "positivas_pcr_hombre_edades_meses": 0,
         "positivas_pcr_hombre_edades_0a4": 0,
         "positivas_pcr_hombre_edades_5a9": 0,
         "positivas_pcr_hombre_edades_10a14": 0,
         "positivas_pcr_hombre_edades_15a19": 0,
         "positivas_pcr_hombre_edades_20a49": 0,
         "positivas_pcr_hombre_edades_50a64": 0,
         "positivas_pcr_hombre_edades_65an": 0,
         "positivas_pcr_mujer_edades_meses": 0,
         "positivas_pcr_mujer_edades_0a4": 0,
         "positivas_pcr_mujer_edades_5a9": 0,
         "positivas_pcr_mujer_edades_10a14": 0,
         "positivas_pcr_mujer_edades_15a19": 0,
         "positivas_pcr_mujer_edades_20a49": 0,
         "positivas_pcr_mujer_edades_50a64": 0,
         "positivas_pcr_mujer_edades_65an": 0,
         "positivas_rapidas": 8956,
         "negativas": 510589,
         "negativas_pcr": 498973,
         "negativas_pcr_nuevas": 2630,
         "negativas_rapidas": 11616,
         "hospitalizadas_altas": 25964,
         "hospitalizadas_estables": 599,
         "hospitalizadas_pronostico_reservadas": 398,
         "msp_hospitalizacion_camas_porcentaje_ocupadas": 0,
         "msp_hospitalizacion_lista_espera": 0,
         "msp_hospitalizacion_camas_asignadas": 0,
         "msp_hospitalizacion_camas_ocupadas": 0,
         "msp_cuidado_intermedio_camas_porcentaje_ocupadas": 0,
         "msp_cuidado_intermedio_lista_espera": 0,
         "msp_cuidado_intermedio_camas_asignadas": 0,
         "msp_cuidado_intermedio_camas_ocupadas": 0,
         "msp_uci_camas_porcentaje_ocupadas": 0,
         "msp_uci_lista_espera": 0,
         "msp_uci_camas_asignadas": 0,
         "msp_uci_camas_ocupadas": 0,
         "rpis_hospitalizacion_camas_porcentaje_ocupadas": 0,
         "rpis_hospitalizacion_lista_espera": 0,
         "rpis_hospitalizacion_camas_asignadas": 0,
         "rpis_hospitalizacion_camas_ocupadas": 0,
         "rpis_cuidado_intermedio_camas_porcentaje_ocupadas": 0,
         "rpis_cuidado_intermedio_lista_espera": 0,
         "rpis_cuidado_intermedio_camas_asignadas": 0,
         "rpis_cuidado_intermedio_camas_ocupadas": 0,
         "rpis_uci_camas_porcentaje_ocupadas": 0,
         "rpis_uci_lista_espera": 0,
         "rpis_uci_camas_asignadas": 0,
         "rpis_uci_camas_ocupadas": 0,
         "rpc_hospitalizacion_camas_porcentaje_ocupadas": 0,
         "rpc_hospitalizacion_lista_espera": 0,
         "rpc_hospitalizacion_camas_asignadas": 0,
         "rpc_hospitalizacion_camas_ocupadas": 0,
         "rpc_cuidado_intermedio_camas_porcentaje_ocupadas": 0,
         "rpc_cuidado_intermedio_lista_espera": 0,
         "rpc_cuidado_intermedio_camas_asignadas": 0,
         "rpc_cuidado_intermedio_camas_ocupadas": 0,
         "rpc_uci_camas_porcentaje_ocupadas": 0,
         "rpc_uci_lista_espera": 0,
         "rpc_uci_camas_asignadas": 0,
         "rpc_uci_camas_ocupadas": 0,
         "_deepnote_index_column": 298
        },
        {
         "created_at": "2021-06-01T00:00:00.000000",
         "muestras": 1447211,
         "muestras_pcr": 1426639,
         "positivas_total": 0,
         "positivas_probables": 0,
         "muestras_pcr_nuevas": 3886,
         "pruebas_rezagadas": 52709,
         "muertes_confirmadas": 15137,
         "muertes_probables": 5483,
         "muertes": 20620,
         "muertes_nuevas": 48,
         "positivas": 436646,
         "positivas_pcr": 427690,
         "positivas_pcr_nuevas": 1653,
         "positivas_pcr_mujer": 0,
         "positivas_pcr_hombre": 0,
         "positivas_pcr_hombre_edades_meses": 0,
         "positivas_pcr_hombre_edades_0a4": 0,
         "positivas_pcr_hombre_edades_5a9": 0,
         "positivas_pcr_hombre_edades_10a14": 0,
         "positivas_pcr_hombre_edades_15a19": 0,
         "positivas_pcr_hombre_edades_20a49": 0,
         "positivas_pcr_hombre_edades_50a64": 0,
         "positivas_pcr_hombre_edades_65an": 0,
         "positivas_pcr_mujer_edades_meses": 0,
         "positivas_pcr_mujer_edades_0a4": 0,
         "positivas_pcr_mujer_edades_5a9": 0,
         "positivas_pcr_mujer_edades_10a14": 0,
         "positivas_pcr_mujer_edades_15a19": 0,
         "positivas_pcr_mujer_edades_20a49": 0,
         "positivas_pcr_mujer_edades_50a64": 0,
         "positivas_pcr_mujer_edades_65an": 0,
         "positivas_rapidas": 8956,
         "negativas": 957856,
         "negativas_pcr": 946240,
         "negativas_pcr_nuevas": 2515,
         "negativas_rapidas": 11616,
         "hospitalizadas_altas": 44954,
         "hospitalizadas_estables": 938,
         "hospitalizadas_pronostico_reservadas": 512,
         "msp_hospitalizacion_camas_porcentaje_ocupadas": 0,
         "msp_hospitalizacion_lista_espera": 0,
         "msp_hospitalizacion_camas_asignadas": 0,
         "msp_hospitalizacion_camas_ocupadas": 0,
         "msp_cuidado_intermedio_camas_porcentaje_ocupadas": 0,
         "msp_cuidado_intermedio_lista_espera": 0,
         "msp_cuidado_intermedio_camas_asignadas": 0,
         "msp_cuidado_intermedio_camas_ocupadas": 0,
         "msp_uci_camas_porcentaje_ocupadas": 0,
         "msp_uci_lista_espera": 0,
         "msp_uci_camas_asignadas": 0,
         "msp_uci_camas_ocupadas": 0,
         "rpis_hospitalizacion_camas_porcentaje_ocupadas": 0,
         "rpis_hospitalizacion_lista_espera": 0,
         "rpis_hospitalizacion_camas_asignadas": 0,
         "rpis_hospitalizacion_camas_ocupadas": 0,
         "rpis_cuidado_intermedio_camas_porcentaje_ocupadas": 0,
         "rpis_cuidado_intermedio_lista_espera": 0,
         "rpis_cuidado_intermedio_camas_asignadas": 0,
         "rpis_cuidado_intermedio_camas_ocupadas": 0,
         "rpis_uci_camas_porcentaje_ocupadas": 0,
         "rpis_uci_lista_espera": 0,
         "rpis_uci_camas_asignadas": 0,
         "rpis_uci_camas_ocupadas": 0,
         "rpc_hospitalizacion_camas_porcentaje_ocupadas": 0,
         "rpc_hospitalizacion_lista_espera": 0,
         "rpc_hospitalizacion_camas_asignadas": 0,
         "rpc_hospitalizacion_camas_ocupadas": 0,
         "rpc_cuidado_intermedio_camas_porcentaje_ocupadas": 0,
         "rpc_cuidado_intermedio_lista_espera": 0,
         "rpc_cuidado_intermedio_camas_asignadas": 0,
         "rpc_cuidado_intermedio_camas_ocupadas": 0,
         "rpc_uci_camas_porcentaje_ocupadas": 0,
         "rpc_uci_lista_espera": 0,
         "rpc_uci_camas_asignadas": 0,
         "rpc_uci_camas_ocupadas": 0,
         "_deepnote_index_column": 445
        },
        {
         "created_at": "2020-08-03T00:00:00.000000",
         "muestras": 247583,
         "muestras_pcr": 227011,
         "positivas_total": 0,
         "positivas_probables": 0,
         "muestras_pcr_nuevas": 853,
         "pruebas_rezagadas": 40675,
         "muertes_confirmadas": 5767,
         "muertes_probables": 3512,
         "muertes": 9279,
         "muertes_nuevas": 21,
         "positivas": 87041,
         "positivas_pcr": 78085,
         "positivas_pcr_nuevas": 517,
         "positivas_pcr_mujer": 0,
         "positivas_pcr_hombre": 0,
         "positivas_pcr_hombre_edades_meses": 0,
         "positivas_pcr_hombre_edades_0a4": 0,
         "positivas_pcr_hombre_edades_5a9": 0,
         "positivas_pcr_hombre_edades_10a14": 0,
         "positivas_pcr_hombre_edades_15a19": 0,
         "positivas_pcr_hombre_edades_20a49": 0,
         "positivas_pcr_hombre_edades_50a64": 0,
         "positivas_pcr_hombre_edades_65an": 0,
         "positivas_pcr_mujer_edades_meses": 0,
         "positivas_pcr_mujer_edades_0a4": 0,
         "positivas_pcr_mujer_edades_5a9": 0,
         "positivas_pcr_mujer_edades_10a14": 0,
         "positivas_pcr_mujer_edades_15a19": 0,
         "positivas_pcr_mujer_edades_20a49": 0,
         "positivas_pcr_mujer_edades_50a64": 0,
         "positivas_pcr_mujer_edades_65an": 0,
         "positivas_rapidas": 8956,
         "negativas": 119867,
         "negativas_pcr": 108251,
         "negativas_pcr_nuevas": 896,
         "negativas_rapidas": 11616,
         "hospitalizadas_altas": 11577,
         "hospitalizadas_estables": 844,
         "hospitalizadas_pronostico_reservadas": 366,
         "msp_hospitalizacion_camas_porcentaje_ocupadas": 0,
         "msp_hospitalizacion_lista_espera": 0,
         "msp_hospitalizacion_camas_asignadas": 0,
         "msp_hospitalizacion_camas_ocupadas": 0,
         "msp_cuidado_intermedio_camas_porcentaje_ocupadas": 0,
         "msp_cuidado_intermedio_lista_espera": 0,
         "msp_cuidado_intermedio_camas_asignadas": 0,
         "msp_cuidado_intermedio_camas_ocupadas": 0,
         "msp_uci_camas_porcentaje_ocupadas": 0,
         "msp_uci_lista_espera": 0,
         "msp_uci_camas_asignadas": 0,
         "msp_uci_camas_ocupadas": 0,
         "rpis_hospitalizacion_camas_porcentaje_ocupadas": 0,
         "rpis_hospitalizacion_lista_espera": 0,
         "rpis_hospitalizacion_camas_asignadas": 0,
         "rpis_hospitalizacion_camas_ocupadas": 0,
         "rpis_cuidado_intermedio_camas_porcentaje_ocupadas": 0,
         "rpis_cuidado_intermedio_lista_espera": 0,
         "rpis_cuidado_intermedio_camas_asignadas": 0,
         "rpis_cuidado_intermedio_camas_ocupadas": 0,
         "rpis_uci_camas_porcentaje_ocupadas": 0,
         "rpis_uci_lista_espera": 0,
         "rpis_uci_camas_asignadas": 0,
         "rpis_uci_camas_ocupadas": 0,
         "rpc_hospitalizacion_camas_porcentaje_ocupadas": 0,
         "rpc_hospitalizacion_lista_espera": 0,
         "rpc_hospitalizacion_camas_asignadas": 0,
         "rpc_hospitalizacion_camas_ocupadas": 0,
         "rpc_cuidado_intermedio_camas_porcentaje_ocupadas": 0,
         "rpc_cuidado_intermedio_lista_espera": 0,
         "rpc_cuidado_intermedio_camas_asignadas": 0,
         "rpc_cuidado_intermedio_camas_ocupadas": 0,
         "rpc_uci_camas_porcentaje_ocupadas": 0,
         "rpc_uci_lista_espera": 0,
         "rpc_uci_camas_asignadas": 0,
         "rpc_uci_camas_ocupadas": 0,
         "_deepnote_index_column": 143
        },
        {
         "created_at": "2020-05-08T00:00:00.000000",
         "muestras": 82312,
         "muestras_pcr": 61882,
         "positivas_total": 0,
         "positivas_probables": 0,
         "muestras_pcr_nuevas": -906,
         "pruebas_rezagadas": 21252,
         "muertes_confirmadas": 1704,
         "muertes_probables": 1777,
         "muertes": 3481,
         "muertes_nuevas": 122,
         "positivas": 28818,
         "positivas_pcr": 19881,
         "positivas_pcr_nuevas": -1480,
         "positivas_pcr_mujer": 0,
         "positivas_pcr_hombre": 0,
         "positivas_pcr_hombre_edades_meses": 0,
         "positivas_pcr_hombre_edades_0a4": 0,
         "positivas_pcr_hombre_edades_5a9": 0,
         "positivas_pcr_hombre_edades_10a14": 0,
         "positivas_pcr_hombre_edades_15a19": 0,
         "positivas_pcr_hombre_edades_20a49": 0,
         "positivas_pcr_hombre_edades_50a64": 0,
         "positivas_pcr_hombre_edades_65an": 0,
         "positivas_pcr_mujer_edades_meses": 0,
         "positivas_pcr_mujer_edades_0a4": 0,
         "positivas_pcr_mujer_edades_5a9": 0,
         "positivas_pcr_mujer_edades_10a14": 0,
         "positivas_pcr_mujer_edades_15a19": 0,
         "positivas_pcr_mujer_edades_20a49": 0,
         "positivas_pcr_mujer_edades_50a64": 0,
         "positivas_pcr_mujer_edades_65an": 0,
         "positivas_rapidas": 8937,
         "negativas": 32242,
         "negativas_pcr": 20749,
         "negativas_pcr_nuevas": -2263,
         "negativas_rapidas": 11493,
         "hospitalizadas_altas": 2463,
         "hospitalizadas_estables": 360,
         "hospitalizadas_pronostico_reservadas": 161,
         "msp_hospitalizacion_camas_porcentaje_ocupadas": 0,
         "msp_hospitalizacion_lista_espera": 0,
         "msp_hospitalizacion_camas_asignadas": 0,
         "msp_hospitalizacion_camas_ocupadas": 0,
         "msp_cuidado_intermedio_camas_porcentaje_ocupadas": 0,
         "msp_cuidado_intermedio_lista_espera": 0,
         "msp_cuidado_intermedio_camas_asignadas": 0,
         "msp_cuidado_intermedio_camas_ocupadas": 0,
         "msp_uci_camas_porcentaje_ocupadas": 0,
         "msp_uci_lista_espera": 0,
         "msp_uci_camas_asignadas": 0,
         "msp_uci_camas_ocupadas": 0,
         "rpis_hospitalizacion_camas_porcentaje_ocupadas": 0,
         "rpis_hospitalizacion_lista_espera": 0,
         "rpis_hospitalizacion_camas_asignadas": 0,
         "rpis_hospitalizacion_camas_ocupadas": 0,
         "rpis_cuidado_intermedio_camas_porcentaje_ocupadas": 0,
         "rpis_cuidado_intermedio_lista_espera": 0,
         "rpis_cuidado_intermedio_camas_asignadas": 0,
         "rpis_cuidado_intermedio_camas_ocupadas": 0,
         "rpis_uci_camas_porcentaje_ocupadas": 0,
         "rpis_uci_lista_espera": 0,
         "rpis_uci_camas_asignadas": 0,
         "rpis_uci_camas_ocupadas": 0,
         "rpc_hospitalizacion_camas_porcentaje_ocupadas": 0,
         "rpc_hospitalizacion_lista_espera": 0,
         "rpc_hospitalizacion_camas_asignadas": 0,
         "rpc_hospitalizacion_camas_ocupadas": 0,
         "rpc_cuidado_intermedio_camas_porcentaje_ocupadas": 0,
         "rpc_cuidado_intermedio_lista_espera": 0,
         "rpc_cuidado_intermedio_camas_asignadas": 0,
         "rpc_cuidado_intermedio_camas_ocupadas": 0,
         "rpc_uci_camas_porcentaje_ocupadas": 0,
         "rpc_uci_lista_espera": 0,
         "rpc_uci_camas_asignadas": 0,
         "rpc_uci_camas_ocupadas": 0,
         "_deepnote_index_column": 56
        },
        {
         "created_at": "2021-08-06T00:00:00.000000",
         "muestras": 1724103,
         "muestras_pcr": 1703531,
         "positivas_total": 580511,
         "positivas_probables": 89326,
         "muestras_pcr_nuevas": 3993,
         "pruebas_rezagadas": 89326,
         "muertes_confirmadas": 22348,
         "muertes_probables": 9426,
         "muertes": 31774,
         "muertes_nuevas": 20,
         "positivas": 500141,
         "positivas_pcr": 491185,
         "positivas_pcr_nuevas": 829,
         "positivas_pcr_mujer": 239489,
         "positivas_pcr_hombre": 251696,
         "positivas_pcr_hombre_edades_meses": 375,
         "positivas_pcr_hombre_edades_0a4": 1593,
         "positivas_pcr_hombre_edades_5a9": 2319,
         "positivas_pcr_hombre_edades_10a14": 4632,
         "positivas_pcr_hombre_edades_15a19": 9256,
         "positivas_pcr_hombre_edades_20a49": 141757,
         "positivas_pcr_hombre_edades_50a64": 47835,
         "positivas_pcr_hombre_edades_65an": 28314,
         "positivas_pcr_mujer_edades_meses": 432,
         "positivas_pcr_mujer_edades_0a4": 1747,
         "positivas_pcr_mujer_edades_5a9": 2377,
         "positivas_pcr_mujer_edades_10a14": 4593,
         "positivas_pcr_mujer_edades_15a19": 8574,
         "positivas_pcr_mujer_edades_20a49": 148954,
         "positivas_pcr_mujer_edades_50a64": 50219,
         "positivas_pcr_mujer_edades_65an": 31563,
         "positivas_rapidas": 8956,
         "negativas": 1134636,
         "negativas_pcr": 1123020,
         "negativas_pcr_nuevas": 3040,
         "negativas_rapidas": 11616,
         "hospitalizadas_altas": 48969,
         "hospitalizadas_estables": 650,
         "hospitalizadas_pronostico_reservadas": 427,
         "msp_hospitalizacion_camas_porcentaje_ocupadas": 33,
         "msp_hospitalizacion_lista_espera": 7,
         "msp_hospitalizacion_camas_asignadas": 1329,
         "msp_hospitalizacion_camas_ocupadas": 444,
         "msp_cuidado_intermedio_camas_porcentaje_ocupadas": 35,
         "msp_cuidado_intermedio_lista_espera": 3,
         "msp_cuidado_intermedio_camas_asignadas": 114,
         "msp_cuidado_intermedio_camas_ocupadas": 40,
         "msp_uci_camas_porcentaje_ocupadas": 77,
         "msp_uci_lista_espera": 37,
         "msp_uci_camas_asignadas": 323,
         "msp_uci_camas_ocupadas": 250,
         "rpis_hospitalizacion_camas_porcentaje_ocupadas": 47,
         "rpis_hospitalizacion_lista_espera": 0,
         "rpis_hospitalizacion_camas_asignadas": 819,
         "rpis_hospitalizacion_camas_ocupadas": 385,
         "rpis_cuidado_intermedio_camas_porcentaje_ocupadas": 66,
         "rpis_cuidado_intermedio_lista_espera": 18,
         "rpis_cuidado_intermedio_camas_asignadas": 29,
         "rpis_cuidado_intermedio_camas_ocupadas": 19,
         "rpis_uci_camas_porcentaje_ocupadas": 81,
         "rpis_uci_lista_espera": 36,
         "rpis_uci_camas_asignadas": 268,
         "rpis_uci_camas_ocupadas": 218,
         "rpc_hospitalizacion_camas_porcentaje_ocupadas": 35,
         "rpc_hospitalizacion_lista_espera": 1,
         "rpc_hospitalizacion_camas_asignadas": 493,
         "rpc_hospitalizacion_camas_ocupadas": 173,
         "rpc_cuidado_intermedio_camas_porcentaje_ocupadas": 44,
         "rpc_cuidado_intermedio_lista_espera": 0,
         "rpc_cuidado_intermedio_camas_asignadas": 16,
         "rpc_cuidado_intermedio_camas_ocupadas": 7,
         "rpc_uci_camas_porcentaje_ocupadas": 52,
         "rpc_uci_lista_espera": 4,
         "rpc_uci_camas_asignadas": 178,
         "rpc_uci_camas_ocupadas": 92,
         "_deepnote_index_column": 511
        }
       ],
       "rows_bottom": null
      },
      "text/plain": "    created_at  muestras  muestras_pcr  positivas_total  positivas_probables  \\\n298 2021-01-05    780593        760021                0                    0   \n445 2021-06-01   1447211       1426639                0                    0   \n143 2020-08-03    247583        227011                0                    0   \n56  2020-05-08     82312         61882                0                    0   \n511 2021-08-06   1724103       1703531           580511                89326   \n\n     muestras_pcr_nuevas  pruebas_rezagadas  muertes_confirmadas  \\\n298                 3069              44965                 9530   \n445                 3886              52709                15137   \n143                  853              40675                 5767   \n56                  -906              21252                 1704   \n511                 3993              89326                22348   \n\n     muertes_probables  muertes  ...  rpc_hospitalizacion_camas_asignadas  \\\n298               4573    14103  ...                                    0   \n445               5483    20620  ...                                    0   \n143               3512     9279  ...                                    0   \n56                1777     3481  ...                                    0   \n511               9426    31774  ...                                  493   \n\n     rpc_hospitalizacion_camas_ocupadas  \\\n298                                   0   \n445                                   0   \n143                                   0   \n56                                    0   \n511                                 173   \n\n     rpc_cuidado_intermedio_camas_porcentaje_ocupadas  \\\n298                                                 0   \n445                                                 0   \n143                                                 0   \n56                                                  0   \n511                                                44   \n\n     rpc_cuidado_intermedio_lista_espera  \\\n298                                    0   \n445                                    0   \n143                                    0   \n56                                     0   \n511                                    0   \n\n     rpc_cuidado_intermedio_camas_asignadas  \\\n298                                       0   \n445                                       0   \n143                                       0   \n56                                        0   \n511                                      16   \n\n     rpc_cuidado_intermedio_camas_ocupadas  rpc_uci_camas_porcentaje_ocupadas  \\\n298                                      0                                  0   \n445                                      0                                  0   \n143                                      0                                  0   \n56                                       0                                  0   \n511                                      7                                 52   \n\n     rpc_uci_lista_espera  rpc_uci_camas_asignadas  rpc_uci_camas_ocupadas  \n298                     0                        0                       0  \n445                     0                        0                       0  \n143                     0                        0                       0  \n56                      0                        0                       0  \n511                     4                      178                      92  \n\n[5 rows x 76 columns]",
      "text/html": "<div>\n<style scoped>\n    .dataframe tbody tr th:only-of-type {\n        vertical-align: middle;\n    }\n\n    .dataframe tbody tr th {\n        vertical-align: top;\n    }\n\n    .dataframe thead th {\n        text-align: right;\n    }\n</style>\n<table border=\"1\" class=\"dataframe\">\n  <thead>\n    <tr style=\"text-align: right;\">\n      <th></th>\n      <th>created_at</th>\n      <th>muestras</th>\n      <th>muestras_pcr</th>\n      <th>positivas_total</th>\n      <th>positivas_probables</th>\n      <th>muestras_pcr_nuevas</th>\n      <th>pruebas_rezagadas</th>\n      <th>muertes_confirmadas</th>\n      <th>muertes_probables</th>\n      <th>muertes</th>\n      <th>...</th>\n      <th>rpc_hospitalizacion_camas_asignadas</th>\n      <th>rpc_hospitalizacion_camas_ocupadas</th>\n      <th>rpc_cuidado_intermedio_camas_porcentaje_ocupadas</th>\n      <th>rpc_cuidado_intermedio_lista_espera</th>\n      <th>rpc_cuidado_intermedio_camas_asignadas</th>\n      <th>rpc_cuidado_intermedio_camas_ocupadas</th>\n      <th>rpc_uci_camas_porcentaje_ocupadas</th>\n      <th>rpc_uci_lista_espera</th>\n      <th>rpc_uci_camas_asignadas</th>\n      <th>rpc_uci_camas_ocupadas</th>\n    </tr>\n  </thead>\n  <tbody>\n    <tr>\n      <th>298</th>\n      <td>2021-01-05</td>\n      <td>780593</td>\n      <td>760021</td>\n      <td>0</td>\n      <td>0</td>\n      <td>3069</td>\n      <td>44965</td>\n      <td>9530</td>\n      <td>4573</td>\n      <td>14103</td>\n      <td>...</td>\n      <td>0</td>\n      <td>0</td>\n      <td>0</td>\n      <td>0</td>\n      <td>0</td>\n      <td>0</td>\n      <td>0</td>\n      <td>0</td>\n      <td>0</td>\n      <td>0</td>\n    </tr>\n    <tr>\n      <th>445</th>\n      <td>2021-06-01</td>\n      <td>1447211</td>\n      <td>1426639</td>\n      <td>0</td>\n      <td>0</td>\n      <td>3886</td>\n      <td>52709</td>\n      <td>15137</td>\n      <td>5483</td>\n      <td>20620</td>\n      <td>...</td>\n      <td>0</td>\n      <td>0</td>\n      <td>0</td>\n      <td>0</td>\n      <td>0</td>\n      <td>0</td>\n      <td>0</td>\n      <td>0</td>\n      <td>0</td>\n      <td>0</td>\n    </tr>\n    <tr>\n      <th>143</th>\n      <td>2020-08-03</td>\n      <td>247583</td>\n      <td>227011</td>\n      <td>0</td>\n      <td>0</td>\n      <td>853</td>\n      <td>40675</td>\n      <td>5767</td>\n      <td>3512</td>\n      <td>9279</td>\n      <td>...</td>\n      <td>0</td>\n      <td>0</td>\n      <td>0</td>\n      <td>0</td>\n      <td>0</td>\n      <td>0</td>\n      <td>0</td>\n      <td>0</td>\n      <td>0</td>\n      <td>0</td>\n    </tr>\n    <tr>\n      <th>56</th>\n      <td>2020-05-08</td>\n      <td>82312</td>\n      <td>61882</td>\n      <td>0</td>\n      <td>0</td>\n      <td>-906</td>\n      <td>21252</td>\n      <td>1704</td>\n      <td>1777</td>\n      <td>3481</td>\n      <td>...</td>\n      <td>0</td>\n      <td>0</td>\n      <td>0</td>\n      <td>0</td>\n      <td>0</td>\n      <td>0</td>\n      <td>0</td>\n      <td>0</td>\n      <td>0</td>\n      <td>0</td>\n    </tr>\n    <tr>\n      <th>511</th>\n      <td>2021-08-06</td>\n      <td>1724103</td>\n      <td>1703531</td>\n      <td>580511</td>\n      <td>89326</td>\n      <td>3993</td>\n      <td>89326</td>\n      <td>22348</td>\n      <td>9426</td>\n      <td>31774</td>\n      <td>...</td>\n      <td>493</td>\n      <td>173</td>\n      <td>44</td>\n      <td>0</td>\n      <td>16</td>\n      <td>7</td>\n      <td>52</td>\n      <td>4</td>\n      <td>178</td>\n      <td>92</td>\n    </tr>\n  </tbody>\n</table>\n<p>5 rows × 76 columns</p>\n</div>"
     },
     "metadata": {}
    }
   ]
  },
  {
   "cell_type": "code",
   "metadata": {
    "tags": [],
    "cell_id": "00005-6d636f0d-80e1-4122-b4f2-737777bf7b35",
    "deepnote_to_be_reexecuted": false,
    "source_hash": "b09808e3",
    "execution_start": 1638997270583,
    "execution_millis": 72,
    "deepnote_output_heights": [
     611
    ],
    "deepnote_cell_type": "code"
   },
   "source": "df_ecuacovid.columns",
   "execution_count": null,
   "outputs": [
    {
     "output_type": "execute_result",
     "execution_count": 5,
     "data": {
      "text/plain": "Index(['created_at', 'muestras', 'muestras_pcr', 'positivas_total',\n       'positivas_probables', 'muestras_pcr_nuevas', 'pruebas_rezagadas',\n       'muertes_confirmadas', 'muertes_probables', 'muertes', 'muertes_nuevas',\n       'positivas', 'positivas_pcr', 'positivas_pcr_nuevas',\n       'positivas_pcr_mujer', 'positivas_pcr_hombre',\n       'positivas_pcr_hombre_edades_meses', 'positivas_pcr_hombre_edades_0a4',\n       'positivas_pcr_hombre_edades_5a9', 'positivas_pcr_hombre_edades_10a14',\n       'positivas_pcr_hombre_edades_15a19',\n       'positivas_pcr_hombre_edades_20a49',\n       'positivas_pcr_hombre_edades_50a64', 'positivas_pcr_hombre_edades_65an',\n       'positivas_pcr_mujer_edades_meses', 'positivas_pcr_mujer_edades_0a4',\n       'positivas_pcr_mujer_edades_5a9', 'positivas_pcr_mujer_edades_10a14',\n       'positivas_pcr_mujer_edades_15a19', 'positivas_pcr_mujer_edades_20a49',\n       'positivas_pcr_mujer_edades_50a64', 'positivas_pcr_mujer_edades_65an',\n       'positivas_rapidas', 'negativas', 'negativas_pcr',\n       'negativas_pcr_nuevas', 'negativas_rapidas', 'hospitalizadas_altas',\n       'hospitalizadas_estables', 'hospitalizadas_pronostico_reservadas',\n       'msp_hospitalizacion_camas_porcentaje_ocupadas',\n       'msp_hospitalizacion_lista_espera',\n       'msp_hospitalizacion_camas_asignadas',\n       'msp_hospitalizacion_camas_ocupadas',\n       'msp_cuidado_intermedio_camas_porcentaje_ocupadas',\n       'msp_cuidado_intermedio_lista_espera',\n       'msp_cuidado_intermedio_camas_asignadas',\n       'msp_cuidado_intermedio_camas_ocupadas',\n       'msp_uci_camas_porcentaje_ocupadas', 'msp_uci_lista_espera',\n       'msp_uci_camas_asignadas', 'msp_uci_camas_ocupadas',\n       'rpis_hospitalizacion_camas_porcentaje_ocupadas',\n       'rpis_hospitalizacion_lista_espera',\n       'rpis_hospitalizacion_camas_asignadas',\n       'rpis_hospitalizacion_camas_ocupadas',\n       'rpis_cuidado_intermedio_camas_porcentaje_ocupadas',\n       'rpis_cuidado_intermedio_lista_espera',\n       'rpis_cuidado_intermedio_camas_asignadas',\n       'rpis_cuidado_intermedio_camas_ocupadas',\n       'rpis_uci_camas_porcentaje_ocupadas', 'rpis_uci_lista_espera',\n       'rpis_uci_camas_asignadas', 'rpis_uci_camas_ocupadas',\n       'rpc_hospitalizacion_camas_porcentaje_ocupadas',\n       'rpc_hospitalizacion_lista_espera',\n       'rpc_hospitalizacion_camas_asignadas',\n       'rpc_hospitalizacion_camas_ocupadas',\n       'rpc_cuidado_intermedio_camas_porcentaje_ocupadas',\n       'rpc_cuidado_intermedio_lista_espera',\n       'rpc_cuidado_intermedio_camas_asignadas',\n       'rpc_cuidado_intermedio_camas_ocupadas',\n       'rpc_uci_camas_porcentaje_ocupadas', 'rpc_uci_lista_espera',\n       'rpc_uci_camas_asignadas', 'rpc_uci_camas_ocupadas'],\n      dtype='object')"
     },
     "metadata": {}
    }
   ]
  },
  {
   "cell_type": "code",
   "metadata": {
    "tags": [],
    "cell_id": "00006-38acb7b1-bff1-4e74-bca8-4a22d45fd690",
    "deepnote_to_be_reexecuted": false,
    "source_hash": "1b22a9fe",
    "execution_start": 1639060207040,
    "execution_millis": 177,
    "deepnote_output_heights": [
     21.1875
    ],
    "deepnote_cell_type": "code"
   },
   "source": "df_ecuacovid.shape",
   "execution_count": null,
   "outputs": [
    {
     "output_type": "execute_result",
     "execution_count": 5,
     "data": {
      "text/plain": "(633, 76)"
     },
     "metadata": {}
    }
   ]
  },
  {
   "cell_type": "code",
   "metadata": {
    "tags": [],
    "cell_id": "00007-c0139ee9-9d8e-4eb1-bddc-af613b1979fa",
    "deepnote_to_be_reexecuted": false,
    "source_hash": "3e2e3ef3",
    "execution_start": 1638997755220,
    "execution_millis": 41,
    "deepnote_output_heights": [
     232.3125
    ],
    "deepnote_cell_type": "code"
   },
   "source": "df_ecuacovid.dtypes",
   "execution_count": null,
   "outputs": [
    {
     "output_type": "execute_result",
     "execution_count": 7,
     "data": {
      "text/plain": "created_at                               object\nmuestras                                  int64\nmuestras_pcr                              int64\npositivas_total                           int64\npositivas_probables                       int64\n                                          ...  \nrpc_cuidado_intermedio_camas_ocupadas     int64\nrpc_uci_camas_porcentaje_ocupadas         int64\nrpc_uci_lista_espera                      int64\nrpc_uci_camas_asignadas                   int64\nrpc_uci_camas_ocupadas                    int64\nLength: 76, dtype: object"
     },
     "metadata": {}
    }
   ]
  },
  {
   "cell_type": "code",
   "metadata": {
    "tags": [],
    "cell_id": "00008-e486e475-a259-4d47-a05e-c6c54ebf5c40",
    "deepnote_to_be_reexecuted": false,
    "source_hash": "9d032181",
    "execution_start": 1639060209965,
    "execution_millis": 185,
    "deepnote_output_heights": [
     232.3125
    ],
    "deepnote_cell_type": "code"
   },
   "source": "df_ecuacovid.created_at = pd.to_datetime(df_ecuacovid.created_at, format='%Y/%m/%d')",
   "execution_count": null,
   "outputs": []
  },
  {
   "cell_type": "code",
   "metadata": {
    "tags": [],
    "cell_id": "00009-5819cede-9f5a-496a-9205-5aa147df93d3",
    "deepnote_to_be_reexecuted": false,
    "source_hash": "74e79bd3",
    "execution_start": 1639060341896,
    "execution_millis": 1104,
    "deepnote_cell_type": "code"
   },
   "source": "df_ecuacovid.describe()",
   "execution_count": null,
   "outputs": [
    {
     "output_type": "execute_result",
     "execution_count": 7,
     "data": {
      "application/vnd.deepnote.dataframe.v2+json": {
       "row_count": 8,
       "column_count": 75,
       "columns": [
        {
         "name": "muestras",
         "dtype": "float64",
         "stats": {
          "unique_count": 8,
          "nan_count": 0,
          "min": "129.0",
          "max": "2067832.0",
          "histogram": [
           {
            "bin_start": 129,
            "bin_end": 206899.3,
            "count": 2
           },
           {
            "bin_start": 206899.3,
            "bin_end": 413669.6,
            "count": 1
           },
           {
            "bin_start": 413669.6,
            "bin_end": 620439.8999999999,
            "count": 0
           },
           {
            "bin_start": 620439.8999999999,
            "bin_end": 827210.2,
            "count": 1
           },
           {
            "bin_start": 827210.2,
            "bin_end": 1033980.5,
            "count": 2
           },
           {
            "bin_start": 1033980.5,
            "bin_end": 1240750.7999999998,
            "count": 0
           },
           {
            "bin_start": 1240750.7999999998,
            "bin_end": 1447521.0999999999,
            "count": 0
           },
           {
            "bin_start": 1447521.0999999999,
            "bin_end": 1654291.4,
            "count": 1
           },
           {
            "bin_start": 1654291.4,
            "bin_end": 1861061.7,
            "count": 0
           },
           {
            "bin_start": 1861061.7,
            "bin_end": 2067832,
            "count": 1
           }
          ]
         }
        },
        {
         "name": "muestras_pcr",
         "dtype": "float64",
         "stats": {
          "unique_count": 8,
          "nan_count": 0,
          "min": "129.0",
          "max": "2047260.0",
          "histogram": [
           {
            "bin_start": 129,
            "bin_end": 204842.1,
            "count": 2
           },
           {
            "bin_start": 204842.1,
            "bin_end": 409555.2,
            "count": 1
           },
           {
            "bin_start": 409555.2,
            "bin_end": 614268.3,
            "count": 0
           },
           {
            "bin_start": 614268.3,
            "bin_end": 818981.4,
            "count": 1
           },
           {
            "bin_start": 818981.4,
            "bin_end": 1023694.5,
            "count": 2
           },
           {
            "bin_start": 1023694.5,
            "bin_end": 1228407.6,
            "count": 0
           },
           {
            "bin_start": 1228407.6,
            "bin_end": 1433120.7,
            "count": 0
           },
           {
            "bin_start": 1433120.7,
            "bin_end": 1637833.8,
            "count": 1
           },
           {
            "bin_start": 1637833.8,
            "bin_end": 1842546.9000000001,
            "count": 0
           },
           {
            "bin_start": 1842546.9000000001,
            "bin_end": 2047260,
            "count": 1
           }
          ]
         }
        },
        {
         "name": "positivas_total",
         "dtype": "float64",
         "stats": {
          "unique_count": 5,
          "nan_count": 0,
          "min": "0.0",
          "max": "641699.0",
          "histogram": [
           {
            "bin_start": 0,
            "bin_end": 64169.9,
            "count": 5
           },
           {
            "bin_start": 64169.9,
            "bin_end": 128339.8,
            "count": 0
           },
           {
            "bin_start": 128339.8,
            "bin_end": 192509.7,
            "count": 1
           },
           {
            "bin_start": 192509.7,
            "bin_end": 256679.6,
            "count": 1
           },
           {
            "bin_start": 256679.6,
            "bin_end": 320849.5,
            "count": 0
           },
           {
            "bin_start": 320849.5,
            "bin_end": 385019.4,
            "count": 0
           },
           {
            "bin_start": 385019.4,
            "bin_end": 449189.3,
            "count": 0
           },
           {
            "bin_start": 449189.3,
            "bin_end": 513359.2,
            "count": 0
           },
           {
            "bin_start": 513359.2,
            "bin_end": 577529.1,
            "count": 0
           },
           {
            "bin_start": 577529.1,
            "bin_end": 641699,
            "count": 1
           }
          ]
         }
        },
        {
         "name": "positivas_probables",
         "dtype": "float64",
         "stats": {
          "unique_count": 5,
          "nan_count": 0,
          "min": "0.0",
          "max": "112350.0",
          "histogram": [
           {
            "bin_start": 0,
            "bin_end": 11235,
            "count": 5
           },
           {
            "bin_start": 11235,
            "bin_end": 22470,
            "count": 1
           },
           {
            "bin_start": 22470,
            "bin_end": 33705,
            "count": 0
           },
           {
            "bin_start": 33705,
            "bin_end": 44940,
            "count": 1
           },
           {
            "bin_start": 44940,
            "bin_end": 56175,
            "count": 0
           },
           {
            "bin_start": 56175,
            "bin_end": 67410,
            "count": 0
           },
           {
            "bin_start": 67410,
            "bin_end": 78645,
            "count": 0
           },
           {
            "bin_start": 78645,
            "bin_end": 89880,
            "count": 0
           },
           {
            "bin_start": 89880,
            "bin_end": 101115,
            "count": 0
           },
           {
            "bin_start": 101115,
            "bin_end": 112350,
            "count": 1
           }
          ]
         }
        },
        {
         "name": "muestras_pcr_nuevas",
         "dtype": "float64",
         "stats": {
          "unique_count": 8,
          "nan_count": 0,
          "min": "-10096.0",
          "max": "37781.0",
          "histogram": [
           {
            "bin_start": -10096,
            "bin_end": -5308.3,
            "count": 1
           },
           {
            "bin_start": -5308.3,
            "bin_end": -520.6000000000004,
            "count": 0
           },
           {
            "bin_start": -520.6000000000004,
            "bin_end": 4267.0999999999985,
            "count": 5
           },
           {
            "bin_start": 4267.0999999999985,
            "bin_end": 9054.8,
            "count": 1
           },
           {
            "bin_start": 9054.8,
            "bin_end": 13842.5,
            "count": 0
           },
           {
            "bin_start": 13842.5,
            "bin_end": 18630.199999999997,
            "count": 0
           },
           {
            "bin_start": 18630.199999999997,
            "bin_end": 23417.9,
            "count": 0
           },
           {
            "bin_start": 23417.9,
            "bin_end": 28205.6,
            "count": 0
           },
           {
            "bin_start": 28205.6,
            "bin_end": 32993.299999999996,
            "count": 0
           },
           {
            "bin_start": 32993.299999999996,
            "bin_end": 37781,
            "count": 1
           }
          ]
         }
        },
        {
         "name": "pruebas_rezagadas",
         "dtype": "float64",
         "stats": {
          "unique_count": 8,
          "nan_count": 0,
          "min": "106.0",
          "max": "112350.0",
          "histogram": [
           {
            "bin_start": 106,
            "bin_end": 11330.4,
            "count": 2
           },
           {
            "bin_start": 11330.4,
            "bin_end": 22554.8,
            "count": 0
           },
           {
            "bin_start": 22554.8,
            "bin_end": 33779.2,
            "count": 1
           },
           {
            "bin_start": 33779.2,
            "bin_end": 45003.6,
            "count": 1
           },
           {
            "bin_start": 45003.6,
            "bin_end": 56228,
            "count": 2
           },
           {
            "bin_start": 56228,
            "bin_end": 67452.4,
            "count": 1
           },
           {
            "bin_start": 67452.4,
            "bin_end": 78676.8,
            "count": 0
           },
           {
            "bin_start": 78676.8,
            "bin_end": 89901.2,
            "count": 0
           },
           {
            "bin_start": 89901.2,
            "bin_end": 101125.59999999999,
            "count": 0
           },
           {
            "bin_start": 101125.59999999999,
            "bin_end": 112350,
            "count": 1
           }
          ]
         }
        },
        {
         "name": "muertes_confirmadas",
         "dtype": "float64",
         "stats": {
          "unique_count": 8,
          "nan_count": 0,
          "min": "1.0",
          "max": "30321.0",
          "histogram": [
           {
            "bin_start": 1,
            "bin_end": 3033,
            "count": 2
           },
           {
            "bin_start": 3033,
            "bin_end": 6065,
            "count": 0
           },
           {
            "bin_start": 6065,
            "bin_end": 9097,
            "count": 2
           },
           {
            "bin_start": 9097,
            "bin_end": 12129,
            "count": 2
           },
           {
            "bin_start": 12129,
            "bin_end": 15161,
            "count": 0
           },
           {
            "bin_start": 15161,
            "bin_end": 18193,
            "count": 1
           },
           {
            "bin_start": 18193,
            "bin_end": 21225,
            "count": 0
           },
           {
            "bin_start": 21225,
            "bin_end": 24257,
            "count": 0
           },
           {
            "bin_start": 24257,
            "bin_end": 27289,
            "count": 0
           },
           {
            "bin_start": 27289,
            "bin_end": 30321,
            "count": 1
           }
          ]
         }
        },
        {
         "name": "muertes_probables",
         "dtype": "float64",
         "stats": {
          "unique_count": 8,
          "nan_count": 0,
          "min": "0.0",
          "max": "9780.0",
          "histogram": [
           {
            "bin_start": 0,
            "bin_end": 978,
            "count": 2
           },
           {
            "bin_start": 978,
            "bin_end": 1956,
            "count": 0
           },
           {
            "bin_start": 1956,
            "bin_end": 2934,
            "count": 1
           },
           {
            "bin_start": 2934,
            "bin_end": 3912,
            "count": 1
           },
           {
            "bin_start": 3912,
            "bin_end": 4890,
            "count": 1
           },
           {
            "bin_start": 4890,
            "bin_end": 5868,
            "count": 2
           },
           {
            "bin_start": 5868,
            "bin_end": 6846,
            "count": 0
           },
           {
            "bin_start": 6846,
            "bin_end": 7824,
            "count": 0
           },
           {
            "bin_start": 7824,
            "bin_end": 8802,
            "count": 0
           },
           {
            "bin_start": 8802,
            "bin_end": 9780,
            "count": 1
           }
          ]
         }
        },
        {
         "name": "muertes",
         "dtype": "float64",
         "stats": {
          "unique_count": 8,
          "nan_count": 0,
          "min": "1.0",
          "max": "33484.0",
          "histogram": [
           {
            "bin_start": 1,
            "bin_end": 3349.3,
            "count": 2
           },
           {
            "bin_start": 3349.3,
            "bin_end": 6697.6,
            "count": 0
           },
           {
            "bin_start": 6697.6,
            "bin_end": 10045.900000000001,
            "count": 2
           },
           {
            "bin_start": 10045.900000000001,
            "bin_end": 13394.2,
            "count": 0
           },
           {
            "bin_start": 13394.2,
            "bin_end": 16742.5,
            "count": 2
           },
           {
            "bin_start": 16742.5,
            "bin_end": 20090.800000000003,
            "count": 0
           },
           {
            "bin_start": 20090.800000000003,
            "bin_end": 23439.100000000002,
            "count": 1
           },
           {
            "bin_start": 23439.100000000002,
            "bin_end": 26787.4,
            "count": 0
           },
           {
            "bin_start": 26787.4,
            "bin_end": 30135.7,
            "count": 0
           },
           {
            "bin_start": 30135.7,
            "bin_end": 33484,
            "count": 1
           }
          ]
         }
        },
        {
         "name": "muertes_nuevas",
         "dtype": "float64",
         "stats": {
          "unique_count": 8,
          "nan_count": 0,
          "min": "-45.0",
          "max": "8786.0",
          "histogram": [
           {
            "bin_start": -45,
            "bin_end": 838.1,
            "count": 7
           },
           {
            "bin_start": 838.1,
            "bin_end": 1721.2,
            "count": 0
           },
           {
            "bin_start": 1721.2,
            "bin_end": 2604.3,
            "count": 0
           },
           {
            "bin_start": 2604.3,
            "bin_end": 3487.4,
            "count": 0
           },
           {
            "bin_start": 3487.4,
            "bin_end": 4370.5,
            "count": 0
           },
           {
            "bin_start": 4370.5,
            "bin_end": 5253.6,
            "count": 0
           },
           {
            "bin_start": 5253.6,
            "bin_end": 6136.7,
            "count": 0
           },
           {
            "bin_start": 6136.7,
            "bin_end": 7019.8,
            "count": 0
           },
           {
            "bin_start": 7019.8,
            "bin_end": 7902.900000000001,
            "count": 0
           },
           {
            "bin_start": 7902.900000000001,
            "bin_end": 8786,
            "count": 1
           }
          ]
         }
        },
        {
         "name": "positivas",
         "dtype": "float64",
         "stats": {
          "unique_count": 8,
          "nan_count": 0,
          "min": "23.0",
          "max": "538305.0",
          "histogram": [
           {
            "bin_start": 23,
            "bin_end": 53851.2,
            "count": 2
           },
           {
            "bin_start": 53851.2,
            "bin_end": 107679.4,
            "count": 1
           },
           {
            "bin_start": 107679.4,
            "bin_end": 161507.59999999998,
            "count": 0
           },
           {
            "bin_start": 161507.59999999998,
            "bin_end": 215335.8,
            "count": 1
           },
           {
            "bin_start": 215335.8,
            "bin_end": 269164,
            "count": 1
           },
           {
            "bin_start": 269164,
            "bin_end": 322992.19999999995,
            "count": 1
           },
           {
            "bin_start": 322992.19999999995,
            "bin_end": 376820.39999999997,
            "count": 0
           },
           {
            "bin_start": 376820.39999999997,
            "bin_end": 430648.6,
            "count": 0
           },
           {
            "bin_start": 430648.6,
            "bin_end": 484476.8,
            "count": 1
           },
           {
            "bin_start": 484476.8,
            "bin_end": 538305,
            "count": 1
           }
          ]
         }
        },
        {
         "name": "positivas_pcr",
         "dtype": "float64",
         "stats": {
          "unique_count": 8,
          "nan_count": 0,
          "min": "23.0",
          "max": "529349.0",
          "histogram": [
           {
            "bin_start": 23,
            "bin_end": 52955.6,
            "count": 2
           },
           {
            "bin_start": 52955.6,
            "bin_end": 105888.2,
            "count": 1
           },
           {
            "bin_start": 105888.2,
            "bin_end": 158820.8,
            "count": 0
           },
           {
            "bin_start": 158820.8,
            "bin_end": 211753.4,
            "count": 1
           },
           {
            "bin_start": 211753.4,
            "bin_end": 264686,
            "count": 2
           },
           {
            "bin_start": 264686,
            "bin_end": 317618.6,
            "count": 0
           },
           {
            "bin_start": 317618.6,
            "bin_end": 370551.2,
            "count": 0
           },
           {
            "bin_start": 370551.2,
            "bin_end": 423483.8,
            "count": 0
           },
           {
            "bin_start": 423483.8,
            "bin_end": 476416.39999999997,
            "count": 1
           },
           {
            "bin_start": 476416.39999999997,
            "bin_end": 529349,
            "count": 1
           }
          ]
         }
        },
        {
         "name": "positivas_pcr_nuevas",
         "dtype": "float64",
         "stats": {
          "unique_count": 8,
          "nan_count": 0,
          "min": "-2498.0",
          "max": "5913.0",
          "histogram": [
           {
            "bin_start": -2498,
            "bin_end": -1656.9,
            "count": 1
           },
           {
            "bin_start": -1656.9,
            "bin_end": -815.8,
            "count": 0
           },
           {
            "bin_start": -815.8,
            "bin_end": 25.300000000000182,
            "count": 0
           },
           {
            "bin_start": 25.300000000000182,
            "bin_end": 866.4000000000001,
            "count": 5
           },
           {
            "bin_start": 866.4000000000001,
            "bin_end": 1707.5,
            "count": 1
           },
           {
            "bin_start": 1707.5,
            "bin_end": 2548.6000000000004,
            "count": 0
           },
           {
            "bin_start": 2548.6000000000004,
            "bin_end": 3389.7,
            "count": 0
           },
           {
            "bin_start": 3389.7,
            "bin_end": 4230.8,
            "count": 0
           },
           {
            "bin_start": 4230.8,
            "bin_end": 5071.900000000001,
            "count": 0
           },
           {
            "bin_start": 5071.900000000001,
            "bin_end": 5913,
            "count": 1
           }
          ]
         }
        },
        {
         "name": "positivas_pcr_mujer",
         "dtype": "float64",
         "stats": {
          "unique_count": 5,
          "nan_count": 0,
          "min": "0.0",
          "max": "259196.0",
          "histogram": [
           {
            "bin_start": 0,
            "bin_end": 25919.6,
            "count": 5
           },
           {
            "bin_start": 25919.6,
            "bin_end": 51839.2,
            "count": 0
           },
           {
            "bin_start": 51839.2,
            "bin_end": 77758.79999999999,
            "count": 1
           },
           {
            "bin_start": 77758.79999999999,
            "bin_end": 103678.4,
            "count": 1
           },
           {
            "bin_start": 103678.4,
            "bin_end": 129598,
            "count": 0
           },
           {
            "bin_start": 129598,
            "bin_end": 155517.59999999998,
            "count": 0
           },
           {
            "bin_start": 155517.59999999998,
            "bin_end": 181437.19999999998,
            "count": 0
           },
           {
            "bin_start": 181437.19999999998,
            "bin_end": 207356.8,
            "count": 0
           },
           {
            "bin_start": 207356.8,
            "bin_end": 233276.4,
            "count": 0
           },
           {
            "bin_start": 233276.4,
            "bin_end": 259196,
            "count": 1
           }
          ]
         }
        },
        {
         "name": "positivas_pcr_hombre",
         "dtype": "float64",
         "stats": {
          "unique_count": 5,
          "nan_count": 0,
          "min": "0.0",
          "max": "270153.0",
          "histogram": [
           {
            "bin_start": 0,
            "bin_end": 27015.3,
            "count": 5
           },
           {
            "bin_start": 27015.3,
            "bin_end": 54030.6,
            "count": 0
           },
           {
            "bin_start": 54030.6,
            "bin_end": 81045.9,
            "count": 1
           },
           {
            "bin_start": 81045.9,
            "bin_end": 108061.2,
            "count": 1
           },
           {
            "bin_start": 108061.2,
            "bin_end": 135076.5,
            "count": 0
           },
           {
            "bin_start": 135076.5,
            "bin_end": 162091.8,
            "count": 0
           },
           {
            "bin_start": 162091.8,
            "bin_end": 189107.1,
            "count": 0
           },
           {
            "bin_start": 189107.1,
            "bin_end": 216122.4,
            "count": 0
           },
           {
            "bin_start": 216122.4,
            "bin_end": 243137.69999999998,
            "count": 0
           },
           {
            "bin_start": 243137.69999999998,
            "bin_end": 270153,
            "count": 1
           }
          ]
         }
        },
        {
         "name": "positivas_pcr_hombre_edades_meses",
         "dtype": "float64",
         "stats": {
          "unique_count": 5,
          "nan_count": 0,
          "min": "0.0",
          "max": "633.0",
          "histogram": [
           {
            "bin_start": 0,
            "bin_end": 63.3,
            "count": 4
           },
           {
            "bin_start": 63.3,
            "bin_end": 126.6,
            "count": 1
           },
           {
            "bin_start": 126.6,
            "bin_end": 189.89999999999998,
            "count": 1
           },
           {
            "bin_start": 189.89999999999998,
            "bin_end": 253.2,
            "count": 0
           },
           {
            "bin_start": 253.2,
            "bin_end": 316.5,
            "count": 0
           },
           {
            "bin_start": 316.5,
            "bin_end": 379.79999999999995,
            "count": 1
           },
           {
            "bin_start": 379.79999999999995,
            "bin_end": 443.09999999999997,
            "count": 0
           },
           {
            "bin_start": 443.09999999999997,
            "bin_end": 506.4,
            "count": 0
           },
           {
            "bin_start": 506.4,
            "bin_end": 569.6999999999999,
            "count": 0
           },
           {
            "bin_start": 569.6999999999999,
            "bin_end": 633,
            "count": 1
           }
          ]
         }
        },
        {
         "name": "positivas_pcr_hombre_edades_0a4",
         "dtype": "float64",
         "stats": {
          "unique_count": 5,
          "nan_count": 0,
          "min": "0.0",
          "max": "1745.0",
          "histogram": [
           {
            "bin_start": 0,
            "bin_end": 174.5,
            "count": 4
           },
           {
            "bin_start": 174.5,
            "bin_end": 349,
            "count": 1
           },
           {
            "bin_start": 349,
            "bin_end": 523.5,
            "count": 0
           },
           {
            "bin_start": 523.5,
            "bin_end": 698,
            "count": 2
           },
           {
            "bin_start": 698,
            "bin_end": 872.5,
            "count": 0
           },
           {
            "bin_start": 872.5,
            "bin_end": 1047,
            "count": 0
           },
           {
            "bin_start": 1047,
            "bin_end": 1221.5,
            "count": 0
           },
           {
            "bin_start": 1221.5,
            "bin_end": 1396,
            "count": 0
           },
           {
            "bin_start": 1396,
            "bin_end": 1570.5,
            "count": 0
           },
           {
            "bin_start": 1570.5,
            "bin_end": 1745,
            "count": 1
           }
          ]
         }
        },
        {
         "name": "positivas_pcr_hombre_edades_5a9",
         "dtype": "float64",
         "stats": {
          "unique_count": 5,
          "nan_count": 0,
          "min": "0.0",
          "max": "2371.0",
          "histogram": [
           {
            "bin_start": 0,
            "bin_end": 237.1,
            "count": 4
           },
           {
            "bin_start": 237.1,
            "bin_end": 474.2,
            "count": 0
           },
           {
            "bin_start": 474.2,
            "bin_end": 711.3,
            "count": 2
           },
           {
            "bin_start": 711.3,
            "bin_end": 948.4,
            "count": 0
           },
           {
            "bin_start": 948.4,
            "bin_end": 1185.5,
            "count": 1
           },
           {
            "bin_start": 1185.5,
            "bin_end": 1422.6,
            "count": 0
           },
           {
            "bin_start": 1422.6,
            "bin_end": 1659.7,
            "count": 0
           },
           {
            "bin_start": 1659.7,
            "bin_end": 1896.8,
            "count": 0
           },
           {
            "bin_start": 1896.8,
            "bin_end": 2133.9,
            "count": 0
           },
           {
            "bin_start": 2133.9,
            "bin_end": 2371,
            "count": 1
           }
          ]
         }
        },
        {
         "name": "positivas_pcr_hombre_edades_10a14",
         "dtype": "float64",
         "stats": {
          "unique_count": 5,
          "nan_count": 0,
          "min": "0.0",
          "max": "4632.0",
          "histogram": [
           {
            "bin_start": 0,
            "bin_end": 463.2,
            "count": 4
           },
           {
            "bin_start": 463.2,
            "bin_end": 926.4,
            "count": 1
           },
           {
            "bin_start": 926.4,
            "bin_end": 1389.6,
            "count": 1
           },
           {
            "bin_start": 1389.6,
            "bin_end": 1852.8,
            "count": 0
           },
           {
            "bin_start": 1852.8,
            "bin_end": 2316,
            "count": 1
           },
           {
            "bin_start": 2316,
            "bin_end": 2779.2,
            "count": 0
           },
           {
            "bin_start": 2779.2,
            "bin_end": 3242.4,
            "count": 0
           },
           {
            "bin_start": 3242.4,
            "bin_end": 3705.6,
            "count": 0
           },
           {
            "bin_start": 3705.6,
            "bin_end": 4168.8,
            "count": 0
           },
           {
            "bin_start": 4168.8,
            "bin_end": 4632,
            "count": 1
           }
          ]
         }
        },
        {
         "name": "positivas_pcr_hombre_edades_15a19",
         "dtype": "float64",
         "stats": {
          "unique_count": 5,
          "nan_count": 0,
          "min": "0.0",
          "max": "9256.0",
          "histogram": [
           {
            "bin_start": 0,
            "bin_end": 925.6,
            "count": 5
           },
           {
            "bin_start": 925.6,
            "bin_end": 1851.2,
            "count": 0
           },
           {
            "bin_start": 1851.2,
            "bin_end": 2776.8,
            "count": 1
           },
           {
            "bin_start": 2776.8,
            "bin_end": 3702.4,
            "count": 0
           },
           {
            "bin_start": 3702.4,
            "bin_end": 4628,
            "count": 1
           },
           {
            "bin_start": 4628,
            "bin_end": 5553.6,
            "count": 0
           },
           {
            "bin_start": 5553.6,
            "bin_end": 6479.2,
            "count": 0
           },
           {
            "bin_start": 6479.2,
            "bin_end": 7404.8,
            "count": 0
           },
           {
            "bin_start": 7404.8,
            "bin_end": 8330.4,
            "count": 0
           },
           {
            "bin_start": 8330.4,
            "bin_end": 9256,
            "count": 1
           }
          ]
         }
        },
        {
         "name": "positivas_pcr_hombre_edades_20a49",
         "dtype": "float64",
         "stats": {
          "unique_count": 5,
          "nan_count": 0,
          "min": "0.0",
          "max": "148676.0",
          "histogram": [
           {
            "bin_start": 0,
            "bin_end": 14867.6,
            "count": 5
           },
           {
            "bin_start": 14867.6,
            "bin_end": 29735.2,
            "count": 0
           },
           {
            "bin_start": 29735.2,
            "bin_end": 44602.8,
            "count": 1
           },
           {
            "bin_start": 44602.8,
            "bin_end": 59470.4,
            "count": 1
           },
           {
            "bin_start": 59470.4,
            "bin_end": 74338,
            "count": 0
           },
           {
            "bin_start": 74338,
            "bin_end": 89205.6,
            "count": 0
           },
           {
            "bin_start": 89205.6,
            "bin_end": 104073.2,
            "count": 0
           },
           {
            "bin_start": 104073.2,
            "bin_end": 118940.8,
            "count": 0
           },
           {
            "bin_start": 118940.8,
            "bin_end": 133808.4,
            "count": 0
           },
           {
            "bin_start": 133808.4,
            "bin_end": 148676,
            "count": 1
           }
          ]
         }
        },
        {
         "name": "positivas_pcr_hombre_edades_50a64",
         "dtype": "float64",
         "stats": {
          "unique_count": 5,
          "nan_count": 0,
          "min": "0.0",
          "max": "50146.0",
          "histogram": [
           {
            "bin_start": 0,
            "bin_end": 5014.6,
            "count": 5
           },
           {
            "bin_start": 5014.6,
            "bin_end": 10029.2,
            "count": 0
           },
           {
            "bin_start": 10029.2,
            "bin_end": 15043.800000000001,
            "count": 1
           },
           {
            "bin_start": 15043.800000000001,
            "bin_end": 20058.4,
            "count": 1
           },
           {
            "bin_start": 20058.4,
            "bin_end": 25073,
            "count": 0
           },
           {
            "bin_start": 25073,
            "bin_end": 30087.600000000002,
            "count": 0
           },
           {
            "bin_start": 30087.600000000002,
            "bin_end": 35102.200000000004,
            "count": 0
           },
           {
            "bin_start": 35102.200000000004,
            "bin_end": 40116.8,
            "count": 0
           },
           {
            "bin_start": 40116.8,
            "bin_end": 45131.4,
            "count": 0
           },
           {
            "bin_start": 45131.4,
            "bin_end": 50146,
            "count": 1
           }
          ]
         }
        },
        {
         "name": "positivas_pcr_hombre_edades_65an",
         "dtype": "float64",
         "stats": {
          "unique_count": 5,
          "nan_count": 0,
          "min": "0.0",
          "max": "31532.0",
          "histogram": [
           {
            "bin_start": 0,
            "bin_end": 3153.2,
            "count": 5
           },
           {
            "bin_start": 3153.2,
            "bin_end": 6306.4,
            "count": 1
           },
           {
            "bin_start": 6306.4,
            "bin_end": 9459.599999999999,
            "count": 0
           },
           {
            "bin_start": 9459.599999999999,
            "bin_end": 12612.8,
            "count": 1
           },
           {
            "bin_start": 12612.8,
            "bin_end": 15766,
            "count": 0
           },
           {
            "bin_start": 15766,
            "bin_end": 18919.199999999997,
            "count": 0
           },
           {
            "bin_start": 18919.199999999997,
            "bin_end": 22072.399999999998,
            "count": 0
           },
           {
            "bin_start": 22072.399999999998,
            "bin_end": 25225.6,
            "count": 0
           },
           {
            "bin_start": 25225.6,
            "bin_end": 28378.8,
            "count": 0
           },
           {
            "bin_start": 28378.8,
            "bin_end": 31532,
            "count": 1
           }
          ]
         }
        },
        {
         "name": "positivas_pcr_mujer_edades_meses",
         "dtype": "float64",
         "stats": {
          "unique_count": 5,
          "nan_count": 0,
          "min": "0.0",
          "max": "633.0",
          "histogram": [
           {
            "bin_start": 0,
            "bin_end": 63.3,
            "count": 4
           },
           {
            "bin_start": 63.3,
            "bin_end": 126.6,
            "count": 1
           },
           {
            "bin_start": 126.6,
            "bin_end": 189.89999999999998,
            "count": 1
           },
           {
            "bin_start": 189.89999999999998,
            "bin_end": 253.2,
            "count": 0
           },
           {
            "bin_start": 253.2,
            "bin_end": 316.5,
            "count": 0
           },
           {
            "bin_start": 316.5,
            "bin_end": 379.79999999999995,
            "count": 0
           },
           {
            "bin_start": 379.79999999999995,
            "bin_end": 443.09999999999997,
            "count": 1
           },
           {
            "bin_start": 443.09999999999997,
            "bin_end": 506.4,
            "count": 0
           },
           {
            "bin_start": 506.4,
            "bin_end": 569.6999999999999,
            "count": 0
           },
           {
            "bin_start": 569.6999999999999,
            "bin_end": 633,
            "count": 1
           }
          ]
         }
        },
        {
         "name": "positivas_pcr_mujer_edades_0a4",
         "dtype": "float64",
         "stats": {
          "unique_count": 5,
          "nan_count": 0,
          "min": "0.0",
          "max": "1747.0",
          "histogram": [
           {
            "bin_start": 0,
            "bin_end": 174.7,
            "count": 4
           },
           {
            "bin_start": 174.7,
            "bin_end": 349.4,
            "count": 0
           },
           {
            "bin_start": 349.4,
            "bin_end": 524.0999999999999,
            "count": 1
           },
           {
            "bin_start": 524.0999999999999,
            "bin_end": 698.8,
            "count": 1
           },
           {
            "bin_start": 698.8,
            "bin_end": 873.5,
            "count": 1
           },
           {
            "bin_start": 873.5,
            "bin_end": 1048.1999999999998,
            "count": 0
           },
           {
            "bin_start": 1048.1999999999998,
            "bin_end": 1222.8999999999999,
            "count": 0
           },
           {
            "bin_start": 1222.8999999999999,
            "bin_end": 1397.6,
            "count": 0
           },
           {
            "bin_start": 1397.6,
            "bin_end": 1572.3,
            "count": 0
           },
           {
            "bin_start": 1572.3,
            "bin_end": 1747,
            "count": 1
           }
          ]
         }
        },
        {
         "name": "positivas_pcr_mujer_edades_5a9",
         "dtype": "float64",
         "stats": {
          "unique_count": 5,
          "nan_count": 0,
          "min": "0.0",
          "max": "2377.0",
          "histogram": [
           {
            "bin_start": 0,
            "bin_end": 237.7,
            "count": 4
           },
           {
            "bin_start": 237.7,
            "bin_end": 475.4,
            "count": 0
           },
           {
            "bin_start": 475.4,
            "bin_end": 713.0999999999999,
            "count": 2
           },
           {
            "bin_start": 713.0999999999999,
            "bin_end": 950.8,
            "count": 0
           },
           {
            "bin_start": 950.8,
            "bin_end": 1188.5,
            "count": 1
           },
           {
            "bin_start": 1188.5,
            "bin_end": 1426.1999999999998,
            "count": 0
           },
           {
            "bin_start": 1426.1999999999998,
            "bin_end": 1663.8999999999999,
            "count": 0
           },
           {
            "bin_start": 1663.8999999999999,
            "bin_end": 1901.6,
            "count": 0
           },
           {
            "bin_start": 1901.6,
            "bin_end": 2139.2999999999997,
            "count": 0
           },
           {
            "bin_start": 2139.2999999999997,
            "bin_end": 2377,
            "count": 1
           }
          ]
         }
        },
        {
         "name": "positivas_pcr_mujer_edades_10a14",
         "dtype": "float64",
         "stats": {
          "unique_count": 5,
          "nan_count": 0,
          "min": "0.0",
          "max": "4623.0",
          "histogram": [
           {
            "bin_start": 0,
            "bin_end": 462.3,
            "count": 4
           },
           {
            "bin_start": 462.3,
            "bin_end": 924.6,
            "count": 1
           },
           {
            "bin_start": 924.6,
            "bin_end": 1386.9,
            "count": 1
           },
           {
            "bin_start": 1386.9,
            "bin_end": 1849.2,
            "count": 0
           },
           {
            "bin_start": 1849.2,
            "bin_end": 2311.5,
            "count": 1
           },
           {
            "bin_start": 2311.5,
            "bin_end": 2773.8,
            "count": 0
           },
           {
            "bin_start": 2773.8,
            "bin_end": 3236.1,
            "count": 0
           },
           {
            "bin_start": 3236.1,
            "bin_end": 3698.4,
            "count": 0
           },
           {
            "bin_start": 3698.4,
            "bin_end": 4160.7,
            "count": 0
           },
           {
            "bin_start": 4160.7,
            "bin_end": 4623,
            "count": 1
           }
          ]
         }
        },
        {
         "name": "positivas_pcr_mujer_edades_15a19",
         "dtype": "float64",
         "stats": {
          "unique_count": 5,
          "nan_count": 0,
          "min": "0.0",
          "max": "9235.0",
          "histogram": [
           {
            "bin_start": 0,
            "bin_end": 923.5,
            "count": 5
           },
           {
            "bin_start": 923.5,
            "bin_end": 1847,
            "count": 1
           },
           {
            "bin_start": 1847,
            "bin_end": 2770.5,
            "count": 0
           },
           {
            "bin_start": 2770.5,
            "bin_end": 3694,
            "count": 1
           },
           {
            "bin_start": 3694,
            "bin_end": 4617.5,
            "count": 0
           },
           {
            "bin_start": 4617.5,
            "bin_end": 5541,
            "count": 0
           },
           {
            "bin_start": 5541,
            "bin_end": 6464.5,
            "count": 0
           },
           {
            "bin_start": 6464.5,
            "bin_end": 7388,
            "count": 0
           },
           {
            "bin_start": 7388,
            "bin_end": 8311.5,
            "count": 0
           },
           {
            "bin_start": 8311.5,
            "bin_end": 9235,
            "count": 1
           }
          ]
         }
        },
        {
         "name": "positivas_pcr_mujer_edades_20a49",
         "dtype": "float64",
         "stats": {
          "unique_count": 5,
          "nan_count": 0,
          "min": "0.0",
          "max": "148954.0",
          "histogram": [
           {
            "bin_start": 0,
            "bin_end": 14895.4,
            "count": 5
           },
           {
            "bin_start": 14895.4,
            "bin_end": 29790.8,
            "count": 0
           },
           {
            "bin_start": 29790.8,
            "bin_end": 44686.2,
            "count": 1
           },
           {
            "bin_start": 44686.2,
            "bin_end": 59581.6,
            "count": 0
           },
           {
            "bin_start": 59581.6,
            "bin_end": 74477,
            "count": 1
           },
           {
            "bin_start": 74477,
            "bin_end": 89372.4,
            "count": 0
           },
           {
            "bin_start": 89372.4,
            "bin_end": 104267.8,
            "count": 0
           },
           {
            "bin_start": 104267.8,
            "bin_end": 119163.2,
            "count": 0
           },
           {
            "bin_start": 119163.2,
            "bin_end": 134058.6,
            "count": 0
           },
           {
            "bin_start": 134058.6,
            "bin_end": 148954,
            "count": 1
           }
          ]
         }
        },
        {
         "name": "positivas_pcr_mujer_edades_50a64",
         "dtype": "float64",
         "stats": {
          "unique_count": 5,
          "nan_count": 0,
          "min": "0.0",
          "max": "50219.0",
          "histogram": [
           {
            "bin_start": 0,
            "bin_end": 5021.9,
            "count": 5
           },
           {
            "bin_start": 5021.9,
            "bin_end": 10043.8,
            "count": 0
           },
           {
            "bin_start": 10043.8,
            "bin_end": 15065.699999999999,
            "count": 1
           },
           {
            "bin_start": 15065.699999999999,
            "bin_end": 20087.6,
            "count": 0
           },
           {
            "bin_start": 20087.6,
            "bin_end": 25109.5,
            "count": 1
           },
           {
            "bin_start": 25109.5,
            "bin_end": 30131.399999999998,
            "count": 0
           },
           {
            "bin_start": 30131.399999999998,
            "bin_end": 35153.299999999996,
            "count": 0
           },
           {
            "bin_start": 35153.299999999996,
            "bin_end": 40175.2,
            "count": 0
           },
           {
            "bin_start": 40175.2,
            "bin_end": 45197.1,
            "count": 0
           },
           {
            "bin_start": 45197.1,
            "bin_end": 50219,
            "count": 1
           }
          ]
         }
        },
        {
         "name": "positivas_pcr_mujer_edades_65an",
         "dtype": "float64",
         "stats": {
          "unique_count": 5,
          "nan_count": 0,
          "min": "0.0",
          "max": "31563.0",
          "histogram": [
           {
            "bin_start": 0,
            "bin_end": 3156.3,
            "count": 5
           },
           {
            "bin_start": 3156.3,
            "bin_end": 6312.6,
            "count": 0
           },
           {
            "bin_start": 6312.6,
            "bin_end": 9468.900000000001,
            "count": 1
           },
           {
            "bin_start": 9468.900000000001,
            "bin_end": 12625.2,
            "count": 0
           },
           {
            "bin_start": 12625.2,
            "bin_end": 15781.5,
            "count": 1
           },
           {
            "bin_start": 15781.5,
            "bin_end": 18937.800000000003,
            "count": 0
           },
           {
            "bin_start": 18937.800000000003,
            "bin_end": 22094.100000000002,
            "count": 0
           },
           {
            "bin_start": 22094.100000000002,
            "bin_end": 25250.4,
            "count": 0
           },
           {
            "bin_start": 25250.4,
            "bin_end": 28406.7,
            "count": 0
           },
           {
            "bin_start": 28406.7,
            "bin_end": 31563,
            "count": 1
           }
          ]
         }
        },
        {
         "name": "positivas_rapidas",
         "dtype": "float64",
         "stats": {
          "unique_count": 5,
          "nan_count": 0,
          "min": "0.0",
          "max": "8956.0",
          "histogram": [
           {
            "bin_start": 0,
            "bin_end": 895.6,
            "count": 2
           },
           {
            "bin_start": 895.6,
            "bin_end": 1791.2,
            "count": 0
           },
           {
            "bin_start": 1791.2,
            "bin_end": 2686.8,
            "count": 1
           },
           {
            "bin_start": 2686.8,
            "bin_end": 3582.4,
            "count": 0
           },
           {
            "bin_start": 3582.4,
            "bin_end": 4478,
            "count": 0
           },
           {
            "bin_start": 4478,
            "bin_end": 5373.6,
            "count": 0
           },
           {
            "bin_start": 5373.6,
            "bin_end": 6269.2,
            "count": 0
           },
           {
            "bin_start": 6269.2,
            "bin_end": 7164.8,
            "count": 0
           },
           {
            "bin_start": 7164.8,
            "bin_end": 8060.400000000001,
            "count": 0
           },
           {
            "bin_start": 8060.400000000001,
            "bin_end": 8956,
            "count": 5
           }
          ]
         }
        },
        {
         "name": "negativas",
         "dtype": "float64",
         "stats": {
          "unique_count": 8,
          "nan_count": 0,
          "min": "0.0",
          "max": "1417177.0",
          "histogram": [
           {
            "bin_start": 0,
            "bin_end": 141717.7,
            "count": 2
           },
           {
            "bin_start": 141717.7,
            "bin_end": 283435.4,
            "count": 1
           },
           {
            "bin_start": 283435.4,
            "bin_end": 425153.10000000003,
            "count": 0
           },
           {
            "bin_start": 425153.10000000003,
            "bin_end": 566870.8,
            "count": 2
           },
           {
            "bin_start": 566870.8,
            "bin_end": 708588.5,
            "count": 1
           },
           {
            "bin_start": 708588.5,
            "bin_end": 850306.2000000001,
            "count": 0
           },
           {
            "bin_start": 850306.2000000001,
            "bin_end": 992023.9000000001,
            "count": 0
           },
           {
            "bin_start": 992023.9000000001,
            "bin_end": 1133741.6,
            "count": 1
           },
           {
            "bin_start": 1133741.6,
            "bin_end": 1275459.3,
            "count": 0
           },
           {
            "bin_start": 1275459.3,
            "bin_end": 1417177,
            "count": 1
           }
          ]
         }
        },
        {
         "name": "negativas_pcr",
         "dtype": "float64",
         "stats": {
          "unique_count": 8,
          "nan_count": 0,
          "min": "0.0",
          "max": "1405561.0",
          "histogram": [
           {
            "bin_start": 0,
            "bin_end": 140556.1,
            "count": 3
           },
           {
            "bin_start": 140556.1,
            "bin_end": 281112.2,
            "count": 0
           },
           {
            "bin_start": 281112.2,
            "bin_end": 421668.30000000005,
            "count": 0
           },
           {
            "bin_start": 421668.30000000005,
            "bin_end": 562224.4,
            "count": 2
           },
           {
            "bin_start": 562224.4,
            "bin_end": 702780.5,
            "count": 1
           },
           {
            "bin_start": 702780.5,
            "bin_end": 843336.6000000001,
            "count": 0
           },
           {
            "bin_start": 843336.6000000001,
            "bin_end": 983892.7000000001,
            "count": 0
           },
           {
            "bin_start": 983892.7000000001,
            "bin_end": 1124448.8,
            "count": 1
           },
           {
            "bin_start": 1124448.8,
            "bin_end": 1265004.9000000001,
            "count": 0
           },
           {
            "bin_start": 1265004.9000000001,
            "bin_end": 1405561,
            "count": 1
           }
          ]
         }
        },
        {
         "name": "negativas_pcr_nuevas",
         "dtype": "float64",
         "stats": {
          "unique_count": 8,
          "nan_count": 0,
          "min": "-2263.0",
          "max": "9089.0",
          "histogram": [
           {
            "bin_start": -2263,
            "bin_end": -1127.8,
            "count": 1
           },
           {
            "bin_start": -1127.8,
            "bin_end": 7.400000000000091,
            "count": 0
           },
           {
            "bin_start": 7.400000000000091,
            "bin_end": 1142.6000000000004,
            "count": 2
           },
           {
            "bin_start": 1142.6000000000004,
            "bin_end": 2277.8,
            "count": 3
           },
           {
            "bin_start": 2277.8,
            "bin_end": 3413,
            "count": 1
           },
           {
            "bin_start": 3413,
            "bin_end": 4548.200000000001,
            "count": 0
           },
           {
            "bin_start": 4548.200000000001,
            "bin_end": 5683.400000000001,
            "count": 0
           },
           {
            "bin_start": 5683.400000000001,
            "bin_end": 6818.6,
            "count": 0
           },
           {
            "bin_start": 6818.6,
            "bin_end": 7953.800000000001,
            "count": 0
           },
           {
            "bin_start": 7953.800000000001,
            "bin_end": 9089,
            "count": 1
           }
          ]
         }
        },
        {
         "name": "negativas_rapidas",
         "dtype": "float64",
         "stats": {
          "unique_count": 5,
          "nan_count": 0,
          "min": "0.0",
          "max": "11616.0",
          "histogram": [
           {
            "bin_start": 0,
            "bin_end": 1161.6,
            "count": 2
           },
           {
            "bin_start": 1161.6,
            "bin_end": 2323.2,
            "count": 0
           },
           {
            "bin_start": 2323.2,
            "bin_end": 3484.7999999999997,
            "count": 1
           },
           {
            "bin_start": 3484.7999999999997,
            "bin_end": 4646.4,
            "count": 0
           },
           {
            "bin_start": 4646.4,
            "bin_end": 5808,
            "count": 0
           },
           {
            "bin_start": 5808,
            "bin_end": 6969.599999999999,
            "count": 0
           },
           {
            "bin_start": 6969.599999999999,
            "bin_end": 8131.199999999999,
            "count": 0
           },
           {
            "bin_start": 8131.199999999999,
            "bin_end": 9292.8,
            "count": 0
           },
           {
            "bin_start": 9292.8,
            "bin_end": 10454.4,
            "count": 0
           },
           {
            "bin_start": 10454.4,
            "bin_end": 11616,
            "count": 5
           }
          ]
         }
        },
        {
         "name": "hospitalizadas_altas",
         "dtype": "float64",
         "stats": {
          "unique_count": 8,
          "nan_count": 0,
          "min": "0.0",
          "max": "48969.0",
          "histogram": [
           {
            "bin_start": 0,
            "bin_end": 4896.9,
            "count": 2
           },
           {
            "bin_start": 4896.9,
            "bin_end": 9793.8,
            "count": 0
           },
           {
            "bin_start": 9793.8,
            "bin_end": 14690.699999999999,
            "count": 1
           },
           {
            "bin_start": 14690.699999999999,
            "bin_end": 19587.6,
            "count": 1
           },
           {
            "bin_start": 19587.6,
            "bin_end": 24484.5,
            "count": 0
           },
           {
            "bin_start": 24484.5,
            "bin_end": 29381.399999999998,
            "count": 2
           },
           {
            "bin_start": 29381.399999999998,
            "bin_end": 34278.299999999996,
            "count": 0
           },
           {
            "bin_start": 34278.299999999996,
            "bin_end": 39175.2,
            "count": 0
           },
           {
            "bin_start": 39175.2,
            "bin_end": 44072.1,
            "count": 0
           },
           {
            "bin_start": 44072.1,
            "bin_end": 48969,
            "count": 2
           }
          ]
         }
        },
        {
         "name": "hospitalizadas_estables",
         "dtype": "float64",
         "stats": {
          "unique_count": 8,
          "nan_count": 0,
          "min": "0.0",
          "max": "1487.0",
          "histogram": [
           {
            "bin_start": 0,
            "bin_end": 148.7,
            "count": 1
           },
           {
            "bin_start": 148.7,
            "bin_end": 297.4,
            "count": 1
           },
           {
            "bin_start": 297.4,
            "bin_end": 446.09999999999997,
            "count": 0
           },
           {
            "bin_start": 446.09999999999997,
            "bin_end": 594.8,
            "count": 1
           },
           {
            "bin_start": 594.8,
            "bin_end": 743.5,
            "count": 3
           },
           {
            "bin_start": 743.5,
            "bin_end": 892.1999999999999,
            "count": 1
           },
           {
            "bin_start": 892.1999999999999,
            "bin_end": 1040.8999999999999,
            "count": 0
           },
           {
            "bin_start": 1040.8999999999999,
            "bin_end": 1189.6,
            "count": 0
           },
           {
            "bin_start": 1189.6,
            "bin_end": 1338.3,
            "count": 0
           },
           {
            "bin_start": 1338.3,
            "bin_end": 1487,
            "count": 1
           }
          ]
         }
        },
        {
         "name": "hospitalizadas_pronostico_reservadas",
         "dtype": "float64",
         "stats": {
          "unique_count": 8,
          "nan_count": 0,
          "min": "1.0",
          "max": "650.0",
          "histogram": [
           {
            "bin_start": 1,
            "bin_end": 65.9,
            "count": 1
           },
           {
            "bin_start": 65.9,
            "bin_end": 130.8,
            "count": 1
           },
           {
            "bin_start": 130.8,
            "bin_end": 195.70000000000002,
            "count": 0
           },
           {
            "bin_start": 195.70000000000002,
            "bin_end": 260.6,
            "count": 0
           },
           {
            "bin_start": 260.6,
            "bin_end": 325.5,
            "count": 0
           },
           {
            "bin_start": 325.5,
            "bin_end": 390.40000000000003,
            "count": 2
           },
           {
            "bin_start": 390.40000000000003,
            "bin_end": 455.30000000000007,
            "count": 2
           },
           {
            "bin_start": 455.30000000000007,
            "bin_end": 520.2,
            "count": 0
           },
           {
            "bin_start": 520.2,
            "bin_end": 585.1,
            "count": 0
           },
           {
            "bin_start": 585.1,
            "bin_end": 650,
            "count": 2
           }
          ]
         }
        },
        {
         "name": "msp_hospitalizacion_camas_porcentaje_ocupadas",
         "dtype": "float64",
         "stats": {
          "unique_count": 5,
          "nan_count": 0,
          "min": "0.0",
          "max": "633.0",
          "histogram": [
           {
            "bin_start": 0,
            "bin_end": 63.3,
            "count": 7
           },
           {
            "bin_start": 63.3,
            "bin_end": 126.6,
            "count": 0
           },
           {
            "bin_start": 126.6,
            "bin_end": 189.89999999999998,
            "count": 0
           },
           {
            "bin_start": 189.89999999999998,
            "bin_end": 253.2,
            "count": 0
           },
           {
            "bin_start": 253.2,
            "bin_end": 316.5,
            "count": 0
           },
           {
            "bin_start": 316.5,
            "bin_end": 379.79999999999995,
            "count": 0
           },
           {
            "bin_start": 379.79999999999995,
            "bin_end": 443.09999999999997,
            "count": 0
           },
           {
            "bin_start": 443.09999999999997,
            "bin_end": 506.4,
            "count": 0
           },
           {
            "bin_start": 506.4,
            "bin_end": 569.6999999999999,
            "count": 0
           },
           {
            "bin_start": 569.6999999999999,
            "bin_end": 633,
            "count": 1
           }
          ]
         }
        },
        {
         "name": "msp_hospitalizacion_lista_espera",
         "dtype": "float64",
         "stats": {
          "unique_count": 5,
          "nan_count": 0,
          "min": "0.0",
          "max": "633.0",
          "histogram": [
           {
            "bin_start": 0,
            "bin_end": 63.3,
            "count": 7
           },
           {
            "bin_start": 63.3,
            "bin_end": 126.6,
            "count": 0
           },
           {
            "bin_start": 126.6,
            "bin_end": 189.89999999999998,
            "count": 0
           },
           {
            "bin_start": 189.89999999999998,
            "bin_end": 253.2,
            "count": 0
           },
           {
            "bin_start": 253.2,
            "bin_end": 316.5,
            "count": 0
           },
           {
            "bin_start": 316.5,
            "bin_end": 379.79999999999995,
            "count": 0
           },
           {
            "bin_start": 379.79999999999995,
            "bin_end": 443.09999999999997,
            "count": 0
           },
           {
            "bin_start": 443.09999999999997,
            "bin_end": 506.4,
            "count": 0
           },
           {
            "bin_start": 506.4,
            "bin_end": 569.6999999999999,
            "count": 0
           },
           {
            "bin_start": 569.6999999999999,
            "bin_end": 633,
            "count": 1
           }
          ]
         }
        },
        {
         "name": "msp_hospitalizacion_camas_asignadas",
         "dtype": "float64",
         "stats": {
          "unique_count": 5,
          "nan_count": 0,
          "min": "0.0",
          "max": "2643.0",
          "histogram": [
           {
            "bin_start": 0,
            "bin_end": 264.3,
            "count": 5
           },
           {
            "bin_start": 264.3,
            "bin_end": 528.6,
            "count": 1
           },
           {
            "bin_start": 528.6,
            "bin_end": 792.9000000000001,
            "count": 1
           },
           {
            "bin_start": 792.9000000000001,
            "bin_end": 1057.2,
            "count": 0
           },
           {
            "bin_start": 1057.2,
            "bin_end": 1321.5,
            "count": 0
           },
           {
            "bin_start": 1321.5,
            "bin_end": 1585.8000000000002,
            "count": 0
           },
           {
            "bin_start": 1585.8000000000002,
            "bin_end": 1850.1000000000001,
            "count": 0
           },
           {
            "bin_start": 1850.1000000000001,
            "bin_end": 2114.4,
            "count": 0
           },
           {
            "bin_start": 2114.4,
            "bin_end": 2378.7000000000003,
            "count": 0
           },
           {
            "bin_start": 2378.7000000000003,
            "bin_end": 2643,
            "count": 1
           }
          ]
         }
        },
        {
         "name": "msp_hospitalizacion_camas_ocupadas",
         "dtype": "float64",
         "stats": {
          "unique_count": 5,
          "nan_count": 0,
          "min": "0.0",
          "max": "633.0",
          "histogram": [
           {
            "bin_start": 0,
            "bin_end": 63.3,
            "count": 5
           },
           {
            "bin_start": 63.3,
            "bin_end": 126.6,
            "count": 1
           },
           {
            "bin_start": 126.6,
            "bin_end": 189.89999999999998,
            "count": 0
           },
           {
            "bin_start": 189.89999999999998,
            "bin_end": 253.2,
            "count": 0
           },
           {
            "bin_start": 253.2,
            "bin_end": 316.5,
            "count": 0
           },
           {
            "bin_start": 316.5,
            "bin_end": 379.79999999999995,
            "count": 0
           },
           {
            "bin_start": 379.79999999999995,
            "bin_end": 443.09999999999997,
            "count": 0
           },
           {
            "bin_start": 443.09999999999997,
            "bin_end": 506.4,
            "count": 1
           },
           {
            "bin_start": 506.4,
            "bin_end": 569.6999999999999,
            "count": 0
           },
           {
            "bin_start": 569.6999999999999,
            "bin_end": 633,
            "count": 1
           }
          ]
         }
        },
        {
         "name": "msp_cuidado_intermedio_camas_porcentaje_ocupadas",
         "dtype": "float64",
         "stats": {
          "unique_count": 5,
          "nan_count": 0,
          "min": "0.0",
          "max": "633.0",
          "histogram": [
           {
            "bin_start": 0,
            "bin_end": 63.3,
            "count": 6
           },
           {
            "bin_start": 63.3,
            "bin_end": 126.6,
            "count": 1
           },
           {
            "bin_start": 126.6,
            "bin_end": 189.89999999999998,
            "count": 0
           },
           {
            "bin_start": 189.89999999999998,
            "bin_end": 253.2,
            "count": 0
           },
           {
            "bin_start": 253.2,
            "bin_end": 316.5,
            "count": 0
           },
           {
            "bin_start": 316.5,
            "bin_end": 379.79999999999995,
            "count": 0
           },
           {
            "bin_start": 379.79999999999995,
            "bin_end": 443.09999999999997,
            "count": 0
           },
           {
            "bin_start": 443.09999999999997,
            "bin_end": 506.4,
            "count": 0
           },
           {
            "bin_start": 506.4,
            "bin_end": 569.6999999999999,
            "count": 0
           },
           {
            "bin_start": 569.6999999999999,
            "bin_end": 633,
            "count": 1
           }
          ]
         }
        },
        {
         "name": "msp_cuidado_intermedio_lista_espera",
         "dtype": "float64",
         "stats": {
          "unique_count": 5,
          "nan_count": 0,
          "min": "0.0",
          "max": "633.0",
          "histogram": [
           {
            "bin_start": 0,
            "bin_end": 63.3,
            "count": 7
           },
           {
            "bin_start": 63.3,
            "bin_end": 126.6,
            "count": 0
           },
           {
            "bin_start": 126.6,
            "bin_end": 189.89999999999998,
            "count": 0
           },
           {
            "bin_start": 189.89999999999998,
            "bin_end": 253.2,
            "count": 0
           },
           {
            "bin_start": 253.2,
            "bin_end": 316.5,
            "count": 0
           },
           {
            "bin_start": 316.5,
            "bin_end": 379.79999999999995,
            "count": 0
           },
           {
            "bin_start": 379.79999999999995,
            "bin_end": 443.09999999999997,
            "count": 0
           },
           {
            "bin_start": 443.09999999999997,
            "bin_end": 506.4,
            "count": 0
           },
           {
            "bin_start": 506.4,
            "bin_end": 569.6999999999999,
            "count": 0
           },
           {
            "bin_start": 569.6999999999999,
            "bin_end": 633,
            "count": 1
           }
          ]
         }
        },
        {
         "name": "msp_cuidado_intermedio_camas_asignadas",
         "dtype": "float64",
         "stats": {
          "unique_count": 5,
          "nan_count": 0,
          "min": "0.0",
          "max": "633.0",
          "histogram": [
           {
            "bin_start": 0,
            "bin_end": 63.3,
            "count": 6
           },
           {
            "bin_start": 63.3,
            "bin_end": 126.6,
            "count": 0
           },
           {
            "bin_start": 126.6,
            "bin_end": 189.89999999999998,
            "count": 1
           },
           {
            "bin_start": 189.89999999999998,
            "bin_end": 253.2,
            "count": 0
           },
           {
            "bin_start": 253.2,
            "bin_end": 316.5,
            "count": 0
           },
           {
            "bin_start": 316.5,
            "bin_end": 379.79999999999995,
            "count": 0
           },
           {
            "bin_start": 379.79999999999995,
            "bin_end": 443.09999999999997,
            "count": 0
           },
           {
            "bin_start": 443.09999999999997,
            "bin_end": 506.4,
            "count": 0
           },
           {
            "bin_start": 506.4,
            "bin_end": 569.6999999999999,
            "count": 0
           },
           {
            "bin_start": 569.6999999999999,
            "bin_end": 633,
            "count": 1
           }
          ]
         }
        },
        {
         "name": "msp_cuidado_intermedio_camas_ocupadas",
         "dtype": "float64",
         "stats": {
          "unique_count": 5,
          "nan_count": 0,
          "min": "0.0",
          "max": "633.0",
          "histogram": [
           {
            "bin_start": 0,
            "bin_end": 63.3,
            "count": 7
           },
           {
            "bin_start": 63.3,
            "bin_end": 126.6,
            "count": 0
           },
           {
            "bin_start": 126.6,
            "bin_end": 189.89999999999998,
            "count": 0
           },
           {
            "bin_start": 189.89999999999998,
            "bin_end": 253.2,
            "count": 0
           },
           {
            "bin_start": 253.2,
            "bin_end": 316.5,
            "count": 0
           },
           {
            "bin_start": 316.5,
            "bin_end": 379.79999999999995,
            "count": 0
           },
           {
            "bin_start": 379.79999999999995,
            "bin_end": 443.09999999999997,
            "count": 0
           },
           {
            "bin_start": 443.09999999999997,
            "bin_end": 506.4,
            "count": 0
           },
           {
            "bin_start": 506.4,
            "bin_end": 569.6999999999999,
            "count": 0
           },
           {
            "bin_start": 569.6999999999999,
            "bin_end": 633,
            "count": 1
           }
          ]
         }
        },
        {
         "name": "msp_uci_camas_porcentaje_ocupadas",
         "dtype": "float64",
         "stats": {
          "unique_count": 5,
          "nan_count": 0,
          "min": "0.0",
          "max": "633.0",
          "histogram": [
           {
            "bin_start": 0,
            "bin_end": 63.3,
            "count": 6
           },
           {
            "bin_start": 63.3,
            "bin_end": 126.6,
            "count": 1
           },
           {
            "bin_start": 126.6,
            "bin_end": 189.89999999999998,
            "count": 0
           },
           {
            "bin_start": 189.89999999999998,
            "bin_end": 253.2,
            "count": 0
           },
           {
            "bin_start": 253.2,
            "bin_end": 316.5,
            "count": 0
           },
           {
            "bin_start": 316.5,
            "bin_end": 379.79999999999995,
            "count": 0
           },
           {
            "bin_start": 379.79999999999995,
            "bin_end": 443.09999999999997,
            "count": 0
           },
           {
            "bin_start": 443.09999999999997,
            "bin_end": 506.4,
            "count": 0
           },
           {
            "bin_start": 506.4,
            "bin_end": 569.6999999999999,
            "count": 0
           },
           {
            "bin_start": 569.6999999999999,
            "bin_end": 633,
            "count": 1
           }
          ]
         }
        },
        {
         "name": "msp_uci_lista_espera",
         "dtype": "float64",
         "stats": {
          "unique_count": 5,
          "nan_count": 0,
          "min": "0.0",
          "max": "633.0",
          "histogram": [
           {
            "bin_start": 0,
            "bin_end": 63.3,
            "count": 6
           },
           {
            "bin_start": 63.3,
            "bin_end": 126.6,
            "count": 1
           },
           {
            "bin_start": 126.6,
            "bin_end": 189.89999999999998,
            "count": 0
           },
           {
            "bin_start": 189.89999999999998,
            "bin_end": 253.2,
            "count": 0
           },
           {
            "bin_start": 253.2,
            "bin_end": 316.5,
            "count": 0
           },
           {
            "bin_start": 316.5,
            "bin_end": 379.79999999999995,
            "count": 0
           },
           {
            "bin_start": 379.79999999999995,
            "bin_end": 443.09999999999997,
            "count": 0
           },
           {
            "bin_start": 443.09999999999997,
            "bin_end": 506.4,
            "count": 0
           },
           {
            "bin_start": 506.4,
            "bin_end": 569.6999999999999,
            "count": 0
           },
           {
            "bin_start": 569.6999999999999,
            "bin_end": 633,
            "count": 1
           }
          ]
         }
        },
        {
         "name": "msp_uci_camas_asignadas",
         "dtype": "float64",
         "stats": {
          "unique_count": 5,
          "nan_count": 0,
          "min": "0.0",
          "max": "772.0",
          "histogram": [
           {
            "bin_start": 0,
            "bin_end": 77.2,
            "count": 5
           },
           {
            "bin_start": 77.2,
            "bin_end": 154.4,
            "count": 1
           },
           {
            "bin_start": 154.4,
            "bin_end": 231.60000000000002,
            "count": 0
           },
           {
            "bin_start": 231.60000000000002,
            "bin_end": 308.8,
            "count": 0
           },
           {
            "bin_start": 308.8,
            "bin_end": 386,
            "count": 0
           },
           {
            "bin_start": 386,
            "bin_end": 463.20000000000005,
            "count": 0
           },
           {
            "bin_start": 463.20000000000005,
            "bin_end": 540.4,
            "count": 0
           },
           {
            "bin_start": 540.4,
            "bin_end": 617.6,
            "count": 0
           },
           {
            "bin_start": 617.6,
            "bin_end": 694.8000000000001,
            "count": 1
           },
           {
            "bin_start": 694.8000000000001,
            "bin_end": 772,
            "count": 1
           }
          ]
         }
        },
        {
         "name": "msp_uci_camas_ocupadas",
         "dtype": "float64",
         "stats": {
          "unique_count": 5,
          "nan_count": 0,
          "min": "0.0",
          "max": "633.0",
          "histogram": [
           {
            "bin_start": 0,
            "bin_end": 63.3,
            "count": 6
           },
           {
            "bin_start": 63.3,
            "bin_end": 126.6,
            "count": 0
           },
           {
            "bin_start": 126.6,
            "bin_end": 189.89999999999998,
            "count": 0
           },
           {
            "bin_start": 189.89999999999998,
            "bin_end": 253.2,
            "count": 1
           },
           {
            "bin_start": 253.2,
            "bin_end": 316.5,
            "count": 0
           },
           {
            "bin_start": 316.5,
            "bin_end": 379.79999999999995,
            "count": 0
           },
           {
            "bin_start": 379.79999999999995,
            "bin_end": 443.09999999999997,
            "count": 0
           },
           {
            "bin_start": 443.09999999999997,
            "bin_end": 506.4,
            "count": 0
           },
           {
            "bin_start": 506.4,
            "bin_end": 569.6999999999999,
            "count": 0
           },
           {
            "bin_start": 569.6999999999999,
            "bin_end": 633,
            "count": 1
           }
          ]
         }
        },
        {
         "name": "rpis_hospitalizacion_camas_porcentaje_ocupadas",
         "dtype": "float64",
         "stats": {
          "unique_count": 5,
          "nan_count": 0,
          "min": "0.0",
          "max": "633.0",
          "histogram": [
           {
            "bin_start": 0,
            "bin_end": 63.3,
            "count": 7
           },
           {
            "bin_start": 63.3,
            "bin_end": 126.6,
            "count": 0
           },
           {
            "bin_start": 126.6,
            "bin_end": 189.89999999999998,
            "count": 0
           },
           {
            "bin_start": 189.89999999999998,
            "bin_end": 253.2,
            "count": 0
           },
           {
            "bin_start": 253.2,
            "bin_end": 316.5,
            "count": 0
           },
           {
            "bin_start": 316.5,
            "bin_end": 379.79999999999995,
            "count": 0
           },
           {
            "bin_start": 379.79999999999995,
            "bin_end": 443.09999999999997,
            "count": 0
           },
           {
            "bin_start": 443.09999999999997,
            "bin_end": 506.4,
            "count": 0
           },
           {
            "bin_start": 506.4,
            "bin_end": 569.6999999999999,
            "count": 0
           },
           {
            "bin_start": 569.6999999999999,
            "bin_end": 633,
            "count": 1
           }
          ]
         }
        },
        {
         "name": "rpis_hospitalizacion_lista_espera",
         "dtype": "float64",
         "stats": {
          "unique_count": 5,
          "nan_count": 0,
          "min": "0.0",
          "max": "633.0",
          "histogram": [
           {
            "bin_start": 0,
            "bin_end": 63.3,
            "count": 7
           },
           {
            "bin_start": 63.3,
            "bin_end": 126.6,
            "count": 0
           },
           {
            "bin_start": 126.6,
            "bin_end": 189.89999999999998,
            "count": 0
           },
           {
            "bin_start": 189.89999999999998,
            "bin_end": 253.2,
            "count": 0
           },
           {
            "bin_start": 253.2,
            "bin_end": 316.5,
            "count": 0
           },
           {
            "bin_start": 316.5,
            "bin_end": 379.79999999999995,
            "count": 0
           },
           {
            "bin_start": 379.79999999999995,
            "bin_end": 443.09999999999997,
            "count": 0
           },
           {
            "bin_start": 443.09999999999997,
            "bin_end": 506.4,
            "count": 0
           },
           {
            "bin_start": 506.4,
            "bin_end": 569.6999999999999,
            "count": 0
           },
           {
            "bin_start": 569.6999999999999,
            "bin_end": 633,
            "count": 1
           }
          ]
         }
        },
        {
         "name": "rpis_hospitalizacion_camas_asignadas",
         "dtype": "float64",
         "stats": {
          "unique_count": 5,
          "nan_count": 0,
          "min": "0.0",
          "max": "819.0",
          "histogram": [
           {
            "bin_start": 0,
            "bin_end": 81.9,
            "count": 5
           },
           {
            "bin_start": 81.9,
            "bin_end": 163.8,
            "count": 0
           },
           {
            "bin_start": 163.8,
            "bin_end": 245.70000000000002,
            "count": 1
           },
           {
            "bin_start": 245.70000000000002,
            "bin_end": 327.6,
            "count": 0
           },
           {
            "bin_start": 327.6,
            "bin_end": 409.5,
            "count": 0
           },
           {
            "bin_start": 409.5,
            "bin_end": 491.40000000000003,
            "count": 0
           },
           {
            "bin_start": 491.40000000000003,
            "bin_end": 573.3000000000001,
            "count": 0
           },
           {
            "bin_start": 573.3000000000001,
            "bin_end": 655.2,
            "count": 1
           },
           {
            "bin_start": 655.2,
            "bin_end": 737.1,
            "count": 0
           },
           {
            "bin_start": 737.1,
            "bin_end": 819,
            "count": 1
           }
          ]
         }
        },
        {
         "name": "rpis_hospitalizacion_camas_ocupadas",
         "dtype": "float64",
         "stats": {
          "unique_count": 5,
          "nan_count": 0,
          "min": "0.0",
          "max": "633.0",
          "histogram": [
           {
            "bin_start": 0,
            "bin_end": 63.3,
            "count": 5
           },
           {
            "bin_start": 63.3,
            "bin_end": 126.6,
            "count": 1
           },
           {
            "bin_start": 126.6,
            "bin_end": 189.89999999999998,
            "count": 0
           },
           {
            "bin_start": 189.89999999999998,
            "bin_end": 253.2,
            "count": 0
           },
           {
            "bin_start": 253.2,
            "bin_end": 316.5,
            "count": 0
           },
           {
            "bin_start": 316.5,
            "bin_end": 379.79999999999995,
            "count": 0
           },
           {
            "bin_start": 379.79999999999995,
            "bin_end": 443.09999999999997,
            "count": 1
           },
           {
            "bin_start": 443.09999999999997,
            "bin_end": 506.4,
            "count": 0
           },
           {
            "bin_start": 506.4,
            "bin_end": 569.6999999999999,
            "count": 0
           },
           {
            "bin_start": 569.6999999999999,
            "bin_end": 633,
            "count": 1
           }
          ]
         }
        },
        {
         "name": "rpis_cuidado_intermedio_camas_porcentaje_ocupadas",
         "dtype": "float64",
         "stats": {
          "unique_count": 5,
          "nan_count": 0,
          "min": "0.0",
          "max": "633.0",
          "histogram": [
           {
            "bin_start": 0,
            "bin_end": 63.3,
            "count": 6
           },
           {
            "bin_start": 63.3,
            "bin_end": 126.6,
            "count": 1
           },
           {
            "bin_start": 126.6,
            "bin_end": 189.89999999999998,
            "count": 0
           },
           {
            "bin_start": 189.89999999999998,
            "bin_end": 253.2,
            "count": 0
           },
           {
            "bin_start": 253.2,
            "bin_end": 316.5,
            "count": 0
           },
           {
            "bin_start": 316.5,
            "bin_end": 379.79999999999995,
            "count": 0
           },
           {
            "bin_start": 379.79999999999995,
            "bin_end": 443.09999999999997,
            "count": 0
           },
           {
            "bin_start": 443.09999999999997,
            "bin_end": 506.4,
            "count": 0
           },
           {
            "bin_start": 506.4,
            "bin_end": 569.6999999999999,
            "count": 0
           },
           {
            "bin_start": 569.6999999999999,
            "bin_end": 633,
            "count": 1
           }
          ]
         }
        },
        {
         "name": "rpis_cuidado_intermedio_lista_espera",
         "dtype": "float64",
         "stats": {
          "unique_count": 5,
          "nan_count": 0,
          "min": "0.0",
          "max": "633.0",
          "histogram": [
           {
            "bin_start": 0,
            "bin_end": 63.3,
            "count": 7
           },
           {
            "bin_start": 63.3,
            "bin_end": 126.6,
            "count": 0
           },
           {
            "bin_start": 126.6,
            "bin_end": 189.89999999999998,
            "count": 0
           },
           {
            "bin_start": 189.89999999999998,
            "bin_end": 253.2,
            "count": 0
           },
           {
            "bin_start": 253.2,
            "bin_end": 316.5,
            "count": 0
           },
           {
            "bin_start": 316.5,
            "bin_end": 379.79999999999995,
            "count": 0
           },
           {
            "bin_start": 379.79999999999995,
            "bin_end": 443.09999999999997,
            "count": 0
           },
           {
            "bin_start": 443.09999999999997,
            "bin_end": 506.4,
            "count": 0
           },
           {
            "bin_start": 506.4,
            "bin_end": 569.6999999999999,
            "count": 0
           },
           {
            "bin_start": 569.6999999999999,
            "bin_end": 633,
            "count": 1
           }
          ]
         }
        },
        {
         "name": "rpis_cuidado_intermedio_camas_asignadas",
         "dtype": "float64",
         "stats": {
          "unique_count": 5,
          "nan_count": 0,
          "min": "0.0",
          "max": "633.0",
          "histogram": [
           {
            "bin_start": 0,
            "bin_end": 63.3,
            "count": 7
           },
           {
            "bin_start": 63.3,
            "bin_end": 126.6,
            "count": 0
           },
           {
            "bin_start": 126.6,
            "bin_end": 189.89999999999998,
            "count": 0
           },
           {
            "bin_start": 189.89999999999998,
            "bin_end": 253.2,
            "count": 0
           },
           {
            "bin_start": 253.2,
            "bin_end": 316.5,
            "count": 0
           },
           {
            "bin_start": 316.5,
            "bin_end": 379.79999999999995,
            "count": 0
           },
           {
            "bin_start": 379.79999999999995,
            "bin_end": 443.09999999999997,
            "count": 0
           },
           {
            "bin_start": 443.09999999999997,
            "bin_end": 506.4,
            "count": 0
           },
           {
            "bin_start": 506.4,
            "bin_end": 569.6999999999999,
            "count": 0
           },
           {
            "bin_start": 569.6999999999999,
            "bin_end": 633,
            "count": 1
           }
          ]
         }
        },
        {
         "name": "rpis_cuidado_intermedio_camas_ocupadas",
         "dtype": "float64",
         "stats": {
          "unique_count": 5,
          "nan_count": 0,
          "min": "0.0",
          "max": "633.0",
          "histogram": [
           {
            "bin_start": 0,
            "bin_end": 63.3,
            "count": 7
           },
           {
            "bin_start": 63.3,
            "bin_end": 126.6,
            "count": 0
           },
           {
            "bin_start": 126.6,
            "bin_end": 189.89999999999998,
            "count": 0
           },
           {
            "bin_start": 189.89999999999998,
            "bin_end": 253.2,
            "count": 0
           },
           {
            "bin_start": 253.2,
            "bin_end": 316.5,
            "count": 0
           },
           {
            "bin_start": 316.5,
            "bin_end": 379.79999999999995,
            "count": 0
           },
           {
            "bin_start": 379.79999999999995,
            "bin_end": 443.09999999999997,
            "count": 0
           },
           {
            "bin_start": 443.09999999999997,
            "bin_end": 506.4,
            "count": 0
           },
           {
            "bin_start": 506.4,
            "bin_end": 569.6999999999999,
            "count": 0
           },
           {
            "bin_start": 569.6999999999999,
            "bin_end": 633,
            "count": 1
           }
          ]
         }
        },
        {
         "name": "rpis_uci_camas_porcentaje_ocupadas",
         "dtype": "float64",
         "stats": {
          "unique_count": 5,
          "nan_count": 0,
          "min": "0.0",
          "max": "633.0",
          "histogram": [
           {
            "bin_start": 0,
            "bin_end": 63.3,
            "count": 6
           },
           {
            "bin_start": 63.3,
            "bin_end": 126.6,
            "count": 1
           },
           {
            "bin_start": 126.6,
            "bin_end": 189.89999999999998,
            "count": 0
           },
           {
            "bin_start": 189.89999999999998,
            "bin_end": 253.2,
            "count": 0
           },
           {
            "bin_start": 253.2,
            "bin_end": 316.5,
            "count": 0
           },
           {
            "bin_start": 316.5,
            "bin_end": 379.79999999999995,
            "count": 0
           },
           {
            "bin_start": 379.79999999999995,
            "bin_end": 443.09999999999997,
            "count": 0
           },
           {
            "bin_start": 443.09999999999997,
            "bin_end": 506.4,
            "count": 0
           },
           {
            "bin_start": 506.4,
            "bin_end": 569.6999999999999,
            "count": 0
           },
           {
            "bin_start": 569.6999999999999,
            "bin_end": 633,
            "count": 1
           }
          ]
         }
        },
        {
         "name": "rpis_uci_lista_espera",
         "dtype": "float64",
         "stats": {
          "unique_count": 5,
          "nan_count": 0,
          "min": "0.0",
          "max": "633.0",
          "histogram": [
           {
            "bin_start": 0,
            "bin_end": 63.3,
            "count": 7
           },
           {
            "bin_start": 63.3,
            "bin_end": 126.6,
            "count": 0
           },
           {
            "bin_start": 126.6,
            "bin_end": 189.89999999999998,
            "count": 0
           },
           {
            "bin_start": 189.89999999999998,
            "bin_end": 253.2,
            "count": 0
           },
           {
            "bin_start": 253.2,
            "bin_end": 316.5,
            "count": 0
           },
           {
            "bin_start": 316.5,
            "bin_end": 379.79999999999995,
            "count": 0
           },
           {
            "bin_start": 379.79999999999995,
            "bin_end": 443.09999999999997,
            "count": 0
           },
           {
            "bin_start": 443.09999999999997,
            "bin_end": 506.4,
            "count": 0
           },
           {
            "bin_start": 506.4,
            "bin_end": 569.6999999999999,
            "count": 0
           },
           {
            "bin_start": 569.6999999999999,
            "bin_end": 633,
            "count": 1
           }
          ]
         }
        },
        {
         "name": "rpis_uci_camas_asignadas",
         "dtype": "float64",
         "stats": {
          "unique_count": 5,
          "nan_count": 0,
          "min": "0.0",
          "max": "633.0",
          "histogram": [
           {
            "bin_start": 0,
            "bin_end": 63.3,
            "count": 6
           },
           {
            "bin_start": 63.3,
            "bin_end": 126.6,
            "count": 0
           },
           {
            "bin_start": 126.6,
            "bin_end": 189.89999999999998,
            "count": 0
           },
           {
            "bin_start": 189.89999999999998,
            "bin_end": 253.2,
            "count": 0
           },
           {
            "bin_start": 253.2,
            "bin_end": 316.5,
            "count": 1
           },
           {
            "bin_start": 316.5,
            "bin_end": 379.79999999999995,
            "count": 0
           },
           {
            "bin_start": 379.79999999999995,
            "bin_end": 443.09999999999997,
            "count": 0
           },
           {
            "bin_start": 443.09999999999997,
            "bin_end": 506.4,
            "count": 0
           },
           {
            "bin_start": 506.4,
            "bin_end": 569.6999999999999,
            "count": 0
           },
           {
            "bin_start": 569.6999999999999,
            "bin_end": 633,
            "count": 1
           }
          ]
         }
        },
        {
         "name": "rpis_uci_camas_ocupadas",
         "dtype": "float64",
         "stats": {
          "unique_count": 5,
          "nan_count": 0,
          "min": "0.0",
          "max": "633.0",
          "histogram": [
           {
            "bin_start": 0,
            "bin_end": 63.3,
            "count": 6
           },
           {
            "bin_start": 63.3,
            "bin_end": 126.6,
            "count": 0
           },
           {
            "bin_start": 126.6,
            "bin_end": 189.89999999999998,
            "count": 0
           },
           {
            "bin_start": 189.89999999999998,
            "bin_end": 253.2,
            "count": 1
           },
           {
            "bin_start": 253.2,
            "bin_end": 316.5,
            "count": 0
           },
           {
            "bin_start": 316.5,
            "bin_end": 379.79999999999995,
            "count": 0
           },
           {
            "bin_start": 379.79999999999995,
            "bin_end": 443.09999999999997,
            "count": 0
           },
           {
            "bin_start": 443.09999999999997,
            "bin_end": 506.4,
            "count": 0
           },
           {
            "bin_start": 506.4,
            "bin_end": 569.6999999999999,
            "count": 0
           },
           {
            "bin_start": 569.6999999999999,
            "bin_end": 633,
            "count": 1
           }
          ]
         }
        },
        {
         "name": "rpc_hospitalizacion_camas_porcentaje_ocupadas",
         "dtype": "float64",
         "stats": {
          "unique_count": 5,
          "nan_count": 0,
          "min": "0.0",
          "max": "633.0",
          "histogram": [
           {
            "bin_start": 0,
            "bin_end": 63.3,
            "count": 7
           },
           {
            "bin_start": 63.3,
            "bin_end": 126.6,
            "count": 0
           },
           {
            "bin_start": 126.6,
            "bin_end": 189.89999999999998,
            "count": 0
           },
           {
            "bin_start": 189.89999999999998,
            "bin_end": 253.2,
            "count": 0
           },
           {
            "bin_start": 253.2,
            "bin_end": 316.5,
            "count": 0
           },
           {
            "bin_start": 316.5,
            "bin_end": 379.79999999999995,
            "count": 0
           },
           {
            "bin_start": 379.79999999999995,
            "bin_end": 443.09999999999997,
            "count": 0
           },
           {
            "bin_start": 443.09999999999997,
            "bin_end": 506.4,
            "count": 0
           },
           {
            "bin_start": 506.4,
            "bin_end": 569.6999999999999,
            "count": 0
           },
           {
            "bin_start": 569.6999999999999,
            "bin_end": 633,
            "count": 1
           }
          ]
         }
        },
        {
         "name": "rpc_hospitalizacion_lista_espera",
         "dtype": "float64",
         "stats": {
          "unique_count": 5,
          "nan_count": 0,
          "min": "0.0",
          "max": "633.0",
          "histogram": [
           {
            "bin_start": 0,
            "bin_end": 63.3,
            "count": 7
           },
           {
            "bin_start": 63.3,
            "bin_end": 126.6,
            "count": 0
           },
           {
            "bin_start": 126.6,
            "bin_end": 189.89999999999998,
            "count": 0
           },
           {
            "bin_start": 189.89999999999998,
            "bin_end": 253.2,
            "count": 0
           },
           {
            "bin_start": 253.2,
            "bin_end": 316.5,
            "count": 0
           },
           {
            "bin_start": 316.5,
            "bin_end": 379.79999999999995,
            "count": 0
           },
           {
            "bin_start": 379.79999999999995,
            "bin_end": 443.09999999999997,
            "count": 0
           },
           {
            "bin_start": 443.09999999999997,
            "bin_end": 506.4,
            "count": 0
           },
           {
            "bin_start": 506.4,
            "bin_end": 569.6999999999999,
            "count": 0
           },
           {
            "bin_start": 569.6999999999999,
            "bin_end": 633,
            "count": 1
           }
          ]
         }
        },
        {
         "name": "rpc_hospitalizacion_camas_asignadas",
         "dtype": "float64",
         "stats": {
          "unique_count": 5,
          "nan_count": 0,
          "min": "0.0",
          "max": "633.0",
          "histogram": [
           {
            "bin_start": 0,
            "bin_end": 63.3,
            "count": 4
           },
           {
            "bin_start": 63.3,
            "bin_end": 126.6,
            "count": 1
           },
           {
            "bin_start": 126.6,
            "bin_end": 189.89999999999998,
            "count": 1
           },
           {
            "bin_start": 189.89999999999998,
            "bin_end": 253.2,
            "count": 0
           },
           {
            "bin_start": 253.2,
            "bin_end": 316.5,
            "count": 0
           },
           {
            "bin_start": 316.5,
            "bin_end": 379.79999999999995,
            "count": 0
           },
           {
            "bin_start": 379.79999999999995,
            "bin_end": 443.09999999999997,
            "count": 0
           },
           {
            "bin_start": 443.09999999999997,
            "bin_end": 506.4,
            "count": 0
           },
           {
            "bin_start": 506.4,
            "bin_end": 569.6999999999999,
            "count": 1
           },
           {
            "bin_start": 569.6999999999999,
            "bin_end": 633,
            "count": 1
           }
          ]
         }
        },
        {
         "name": "rpc_hospitalizacion_camas_ocupadas",
         "dtype": "float64",
         "stats": {
          "unique_count": 5,
          "nan_count": 0,
          "min": "0.0",
          "max": "633.0",
          "histogram": [
           {
            "bin_start": 0,
            "bin_end": 63.3,
            "count": 6
           },
           {
            "bin_start": 63.3,
            "bin_end": 126.6,
            "count": 0
           },
           {
            "bin_start": 126.6,
            "bin_end": 189.89999999999998,
            "count": 0
           },
           {
            "bin_start": 189.89999999999998,
            "bin_end": 253.2,
            "count": 0
           },
           {
            "bin_start": 253.2,
            "bin_end": 316.5,
            "count": 1
           },
           {
            "bin_start": 316.5,
            "bin_end": 379.79999999999995,
            "count": 0
           },
           {
            "bin_start": 379.79999999999995,
            "bin_end": 443.09999999999997,
            "count": 0
           },
           {
            "bin_start": 443.09999999999997,
            "bin_end": 506.4,
            "count": 0
           },
           {
            "bin_start": 506.4,
            "bin_end": 569.6999999999999,
            "count": 0
           },
           {
            "bin_start": 569.6999999999999,
            "bin_end": 633,
            "count": 1
           }
          ]
         }
        },
        {
         "name": "rpc_cuidado_intermedio_camas_porcentaje_ocupadas",
         "dtype": "float64",
         "stats": {
          "unique_count": 5,
          "nan_count": 0,
          "min": "0.0",
          "max": "633.0",
          "histogram": [
           {
            "bin_start": 0,
            "bin_end": 63.3,
            "count": 6
           },
           {
            "bin_start": 63.3,
            "bin_end": 126.6,
            "count": 1
           },
           {
            "bin_start": 126.6,
            "bin_end": 189.89999999999998,
            "count": 0
           },
           {
            "bin_start": 189.89999999999998,
            "bin_end": 253.2,
            "count": 0
           },
           {
            "bin_start": 253.2,
            "bin_end": 316.5,
            "count": 0
           },
           {
            "bin_start": 316.5,
            "bin_end": 379.79999999999995,
            "count": 0
           },
           {
            "bin_start": 379.79999999999995,
            "bin_end": 443.09999999999997,
            "count": 0
           },
           {
            "bin_start": 443.09999999999997,
            "bin_end": 506.4,
            "count": 0
           },
           {
            "bin_start": 506.4,
            "bin_end": 569.6999999999999,
            "count": 0
           },
           {
            "bin_start": 569.6999999999999,
            "bin_end": 633,
            "count": 1
           }
          ]
         }
        },
        {
         "name": "rpc_cuidado_intermedio_lista_espera",
         "dtype": "float64",
         "stats": {
          "unique_count": 5,
          "nan_count": 0,
          "min": "0.0",
          "max": "633.0",
          "histogram": [
           {
            "bin_start": 0,
            "bin_end": 63.3,
            "count": 7
           },
           {
            "bin_start": 63.3,
            "bin_end": 126.6,
            "count": 0
           },
           {
            "bin_start": 126.6,
            "bin_end": 189.89999999999998,
            "count": 0
           },
           {
            "bin_start": 189.89999999999998,
            "bin_end": 253.2,
            "count": 0
           },
           {
            "bin_start": 253.2,
            "bin_end": 316.5,
            "count": 0
           },
           {
            "bin_start": 316.5,
            "bin_end": 379.79999999999995,
            "count": 0
           },
           {
            "bin_start": 379.79999999999995,
            "bin_end": 443.09999999999997,
            "count": 0
           },
           {
            "bin_start": 443.09999999999997,
            "bin_end": 506.4,
            "count": 0
           },
           {
            "bin_start": 506.4,
            "bin_end": 569.6999999999999,
            "count": 0
           },
           {
            "bin_start": 569.6999999999999,
            "bin_end": 633,
            "count": 1
           }
          ]
         }
        },
        {
         "name": "rpc_cuidado_intermedio_camas_asignadas",
         "dtype": "float64",
         "stats": {
          "unique_count": 5,
          "nan_count": 0,
          "min": "0.0",
          "max": "633.0",
          "histogram": [
           {
            "bin_start": 0,
            "bin_end": 63.3,
            "count": 7
           },
           {
            "bin_start": 63.3,
            "bin_end": 126.6,
            "count": 0
           },
           {
            "bin_start": 126.6,
            "bin_end": 189.89999999999998,
            "count": 0
           },
           {
            "bin_start": 189.89999999999998,
            "bin_end": 253.2,
            "count": 0
           },
           {
            "bin_start": 253.2,
            "bin_end": 316.5,
            "count": 0
           },
           {
            "bin_start": 316.5,
            "bin_end": 379.79999999999995,
            "count": 0
           },
           {
            "bin_start": 379.79999999999995,
            "bin_end": 443.09999999999997,
            "count": 0
           },
           {
            "bin_start": 443.09999999999997,
            "bin_end": 506.4,
            "count": 0
           },
           {
            "bin_start": 506.4,
            "bin_end": 569.6999999999999,
            "count": 0
           },
           {
            "bin_start": 569.6999999999999,
            "bin_end": 633,
            "count": 1
           }
          ]
         }
        },
        {
         "name": "rpc_cuidado_intermedio_camas_ocupadas",
         "dtype": "float64",
         "stats": {
          "unique_count": 5,
          "nan_count": 0,
          "min": "0.0",
          "max": "633.0",
          "histogram": [
           {
            "bin_start": 0,
            "bin_end": 63.3,
            "count": 7
           },
           {
            "bin_start": 63.3,
            "bin_end": 126.6,
            "count": 0
           },
           {
            "bin_start": 126.6,
            "bin_end": 189.89999999999998,
            "count": 0
           },
           {
            "bin_start": 189.89999999999998,
            "bin_end": 253.2,
            "count": 0
           },
           {
            "bin_start": 253.2,
            "bin_end": 316.5,
            "count": 0
           },
           {
            "bin_start": 316.5,
            "bin_end": 379.79999999999995,
            "count": 0
           },
           {
            "bin_start": 379.79999999999995,
            "bin_end": 443.09999999999997,
            "count": 0
           },
           {
            "bin_start": 443.09999999999997,
            "bin_end": 506.4,
            "count": 0
           },
           {
            "bin_start": 506.4,
            "bin_end": 569.6999999999999,
            "count": 0
           },
           {
            "bin_start": 569.6999999999999,
            "bin_end": 633,
            "count": 1
           }
          ]
         }
        },
        {
         "name": "rpc_uci_camas_porcentaje_ocupadas",
         "dtype": "float64",
         "stats": {
          "unique_count": 5,
          "nan_count": 0,
          "min": "0.0",
          "max": "633.0",
          "histogram": [
           {
            "bin_start": 0,
            "bin_end": 63.3,
            "count": 7
           },
           {
            "bin_start": 63.3,
            "bin_end": 126.6,
            "count": 0
           },
           {
            "bin_start": 126.6,
            "bin_end": 189.89999999999998,
            "count": 0
           },
           {
            "bin_start": 189.89999999999998,
            "bin_end": 253.2,
            "count": 0
           },
           {
            "bin_start": 253.2,
            "bin_end": 316.5,
            "count": 0
           },
           {
            "bin_start": 316.5,
            "bin_end": 379.79999999999995,
            "count": 0
           },
           {
            "bin_start": 379.79999999999995,
            "bin_end": 443.09999999999997,
            "count": 0
           },
           {
            "bin_start": 443.09999999999997,
            "bin_end": 506.4,
            "count": 0
           },
           {
            "bin_start": 506.4,
            "bin_end": 569.6999999999999,
            "count": 0
           },
           {
            "bin_start": 569.6999999999999,
            "bin_end": 633,
            "count": 1
           }
          ]
         }
        },
        {
         "name": "rpc_uci_lista_espera",
         "dtype": "float64",
         "stats": {
          "unique_count": 5,
          "nan_count": 0,
          "min": "0.0",
          "max": "633.0",
          "histogram": [
           {
            "bin_start": 0,
            "bin_end": 63.3,
            "count": 7
           },
           {
            "bin_start": 63.3,
            "bin_end": 126.6,
            "count": 0
           },
           {
            "bin_start": 126.6,
            "bin_end": 189.89999999999998,
            "count": 0
           },
           {
            "bin_start": 189.89999999999998,
            "bin_end": 253.2,
            "count": 0
           },
           {
            "bin_start": 253.2,
            "bin_end": 316.5,
            "count": 0
           },
           {
            "bin_start": 316.5,
            "bin_end": 379.79999999999995,
            "count": 0
           },
           {
            "bin_start": 379.79999999999995,
            "bin_end": 443.09999999999997,
            "count": 0
           },
           {
            "bin_start": 443.09999999999997,
            "bin_end": 506.4,
            "count": 0
           },
           {
            "bin_start": 506.4,
            "bin_end": 569.6999999999999,
            "count": 0
           },
           {
            "bin_start": 569.6999999999999,
            "bin_end": 633,
            "count": 1
           }
          ]
         }
        },
        {
         "name": "rpc_uci_camas_asignadas",
         "dtype": "float64",
         "stats": {
          "unique_count": 5,
          "nan_count": 0,
          "min": "0.0",
          "max": "633.0",
          "histogram": [
           {
            "bin_start": 0,
            "bin_end": 63.3,
            "count": 6
           },
           {
            "bin_start": 63.3,
            "bin_end": 126.6,
            "count": 0
           },
           {
            "bin_start": 126.6,
            "bin_end": 189.89999999999998,
            "count": 0
           },
           {
            "bin_start": 189.89999999999998,
            "bin_end": 253.2,
            "count": 1
           },
           {
            "bin_start": 253.2,
            "bin_end": 316.5,
            "count": 0
           },
           {
            "bin_start": 316.5,
            "bin_end": 379.79999999999995,
            "count": 0
           },
           {
            "bin_start": 379.79999999999995,
            "bin_end": 443.09999999999997,
            "count": 0
           },
           {
            "bin_start": 443.09999999999997,
            "bin_end": 506.4,
            "count": 0
           },
           {
            "bin_start": 506.4,
            "bin_end": 569.6999999999999,
            "count": 0
           },
           {
            "bin_start": 569.6999999999999,
            "bin_end": 633,
            "count": 1
           }
          ]
         }
        },
        {
         "name": "rpc_uci_camas_ocupadas",
         "dtype": "float64",
         "stats": {
          "unique_count": 5,
          "nan_count": 0,
          "min": "0.0",
          "max": "633.0",
          "histogram": [
           {
            "bin_start": 0,
            "bin_end": 63.3,
            "count": 6
           },
           {
            "bin_start": 63.3,
            "bin_end": 126.6,
            "count": 1
           },
           {
            "bin_start": 126.6,
            "bin_end": 189.89999999999998,
            "count": 0
           },
           {
            "bin_start": 189.89999999999998,
            "bin_end": 253.2,
            "count": 0
           },
           {
            "bin_start": 253.2,
            "bin_end": 316.5,
            "count": 0
           },
           {
            "bin_start": 316.5,
            "bin_end": 379.79999999999995,
            "count": 0
           },
           {
            "bin_start": 379.79999999999995,
            "bin_end": 443.09999999999997,
            "count": 0
           },
           {
            "bin_start": 443.09999999999997,
            "bin_end": 506.4,
            "count": 0
           },
           {
            "bin_start": 506.4,
            "bin_end": 569.6999999999999,
            "count": 0
           },
           {
            "bin_start": 569.6999999999999,
            "bin_end": 633,
            "count": 1
           }
          ]
         }
        },
        {
         "name": "_deepnote_index_column",
         "dtype": "object"
        }
       ],
       "rows_top": [
        {
         "muestras": 633,
         "muestras_pcr": 633,
         "positivas_total": 633,
         "positivas_probables": 633,
         "muestras_pcr_nuevas": 633,
         "pruebas_rezagadas": 633,
         "muertes_confirmadas": 633,
         "muertes_probables": 633,
         "muertes": 633,
         "muertes_nuevas": 633,
         "positivas": 633,
         "positivas_pcr": 633,
         "positivas_pcr_nuevas": 633,
         "positivas_pcr_mujer": 633,
         "positivas_pcr_hombre": 633,
         "positivas_pcr_hombre_edades_meses": 633,
         "positivas_pcr_hombre_edades_0a4": 633,
         "positivas_pcr_hombre_edades_5a9": 633,
         "positivas_pcr_hombre_edades_10a14": 633,
         "positivas_pcr_hombre_edades_15a19": 633,
         "positivas_pcr_hombre_edades_20a49": 633,
         "positivas_pcr_hombre_edades_50a64": 633,
         "positivas_pcr_hombre_edades_65an": 633,
         "positivas_pcr_mujer_edades_meses": 633,
         "positivas_pcr_mujer_edades_0a4": 633,
         "positivas_pcr_mujer_edades_5a9": 633,
         "positivas_pcr_mujer_edades_10a14": 633,
         "positivas_pcr_mujer_edades_15a19": 633,
         "positivas_pcr_mujer_edades_20a49": 633,
         "positivas_pcr_mujer_edades_50a64": 633,
         "positivas_pcr_mujer_edades_65an": 633,
         "positivas_rapidas": 633,
         "negativas": 633,
         "negativas_pcr": 633,
         "negativas_pcr_nuevas": 633,
         "negativas_rapidas": 633,
         "hospitalizadas_altas": 633,
         "hospitalizadas_estables": 633,
         "hospitalizadas_pronostico_reservadas": 633,
         "msp_hospitalizacion_camas_porcentaje_ocupadas": 633,
         "msp_hospitalizacion_lista_espera": 633,
         "msp_hospitalizacion_camas_asignadas": 633,
         "msp_hospitalizacion_camas_ocupadas": 633,
         "msp_cuidado_intermedio_camas_porcentaje_ocupadas": 633,
         "msp_cuidado_intermedio_lista_espera": 633,
         "msp_cuidado_intermedio_camas_asignadas": 633,
         "msp_cuidado_intermedio_camas_ocupadas": 633,
         "msp_uci_camas_porcentaje_ocupadas": 633,
         "msp_uci_lista_espera": 633,
         "msp_uci_camas_asignadas": 633,
         "msp_uci_camas_ocupadas": 633,
         "rpis_hospitalizacion_camas_porcentaje_ocupadas": 633,
         "rpis_hospitalizacion_lista_espera": 633,
         "rpis_hospitalizacion_camas_asignadas": 633,
         "rpis_hospitalizacion_camas_ocupadas": 633,
         "rpis_cuidado_intermedio_camas_porcentaje_ocupadas": 633,
         "rpis_cuidado_intermedio_lista_espera": 633,
         "rpis_cuidado_intermedio_camas_asignadas": 633,
         "rpis_cuidado_intermedio_camas_ocupadas": 633,
         "rpis_uci_camas_porcentaje_ocupadas": 633,
         "rpis_uci_lista_espera": 633,
         "rpis_uci_camas_asignadas": 633,
         "rpis_uci_camas_ocupadas": 633,
         "rpc_hospitalizacion_camas_porcentaje_ocupadas": 633,
         "rpc_hospitalizacion_lista_espera": 633,
         "rpc_hospitalizacion_camas_asignadas": 633,
         "rpc_hospitalizacion_camas_ocupadas": 633,
         "rpc_cuidado_intermedio_camas_porcentaje_ocupadas": 633,
         "rpc_cuidado_intermedio_lista_espera": 633,
         "rpc_cuidado_intermedio_camas_asignadas": 633,
         "rpc_cuidado_intermedio_camas_ocupadas": 633,
         "rpc_uci_camas_porcentaje_ocupadas": 633,
         "rpc_uci_lista_espera": 633,
         "rpc_uci_camas_asignadas": 633,
         "rpc_uci_camas_ocupadas": 633,
         "_deepnote_index_column": "count"
        },
        {
         "muestras": 935000.8056872038,
         "muestras_pcr": 915920.448657188,
         "positivas_total": 129878.06003159558,
         "positivas_probables": 20650.928909952607,
         "muestras_pcr_nuevas": 3234.0142180094786,
         "pruebas_rezagadas": 54176.28436018957,
         "muertes_confirmadas": 11601.170616113744,
         "muertes_probables": 5053.1469194312795,
         "muertes": 16654.317535545022,
         "muertes_nuevas": 52.8957345971564,
         "positivas": 272369.96050552925,
         "positivas_pcr": 264056.13112164295,
         "positivas_pcr_nuevas": 836.218009478673,
         "positivas_pcr_mujer": 53349.84202211691,
         "positivas_pcr_hombre": 55875.758293838866,
         "positivas_pcr_hombre_edades_meses": 79.97630331753554,
         "positivas_pcr_hombre_edades_0a4": 341.4676145339652,
         "positivas_pcr_hombre_edades_5a9": 498.28909952606637,
         "positivas_pcr_hombre_edades_10a14": 994.7503949447078,
         "positivas_pcr_hombre_edades_15a19": 1985.9699842022117,
         "positivas_pcr_hombre_edades_20a49": 30473.091627172194,
         "positivas_pcr_hombre_edades_50a64": 10282.91943127962,
         "positivas_pcr_hombre_edades_65an": 6092.826224328594,
         "positivas_pcr_mujer_edades_meses": 92.13270142180095,
         "positivas_pcr_mujer_edades_0a4": 373.4139020537125,
         "positivas_pcr_mujer_edades_5a9": 510.37914691943126,
         "positivas_pcr_mujer_edades_10a14": 986.6224328593997,
         "positivas_pcr_mujer_edades_15a19": 1843.7725118483413,
         "positivas_pcr_mujer_edades_20a49": 31973.715639810427,
         "positivas_pcr_mujer_edades_50a64": 10780.077409162717,
         "positivas_pcr_mujer_edades_65an": 6770.315955766193,
         "positivas_rapidas": 8313.829383886256,
         "negativas": 608454.560821485,
         "negativas_pcr": 597688.0331753554,
         "negativas_pcr_nuevas": 2220.47551342812,
         "negativas_rapidas": 10766.527646129542,
         "hospitalizadas_altas": 28329.104265402842,
         "hospitalizadas_estables": 675.3238546603476,
         "hospitalizadas_pronostico_reservadas": 388.6619273301738,
         "msp_hospitalizacion_camas_porcentaje_ocupadas": 4.150078988941548,
         "msp_hospitalizacion_lista_espera": 0.21011058451816747,
         "msp_hospitalizacion_camas_asignadas": 218.51500789889417,
         "msp_hospitalizacion_camas_ocupadas": 26.334913112164298,
         "msp_cuidado_intermedio_camas_porcentaje_ocupadas": 5.268562401263823,
         "msp_cuidado_intermedio_lista_espera": 0.21484992101105846,
         "msp_cuidado_intermedio_camas_asignadas": 20.0173775671406,
         "msp_cuidado_intermedio_camas_ocupadas": 3.1011058451816744,
         "msp_uci_camas_porcentaje_ocupadas": 11.135860979462874,
         "msp_uci_lista_espera": 0.8546603475513428,
         "msp_uci_camas_asignadas": 56.24960505529226,
         "msp_uci_camas_ocupadas": 18.64296998420221,
         "rpis_hospitalizacion_camas_porcentaje_ocupadas": 5.864139020537125,
         "rpis_hospitalizacion_lista_espera": 0.6255924170616114,
         "rpis_hospitalizacion_camas_asignadas": 80.85308056872037,
         "rpis_hospitalizacion_camas_ocupadas": 26.150078988941548,
         "rpis_cuidado_intermedio_camas_porcentaje_ocupadas": 8.85308056872038,
         "rpis_cuidado_intermedio_lista_espera": 0.2938388625592417,
         "rpis_cuidado_intermedio_camas_asignadas": 3.0015797788309637,
         "rpis_cuidado_intermedio_camas_ocupadas": 1.496050552922591,
         "rpis_uci_camas_porcentaje_ocupadas": 11.417061611374407,
         "rpis_uci_lista_espera": 1.0126382306477093,
         "rpis_uci_camas_asignadas": 27.276461295418642,
         "rpis_uci_camas_ocupadas": 17.031595576619274,
         "rpc_hospitalizacion_camas_porcentaje_ocupadas": 4.099526066350711,
         "rpc_hospitalizacion_lista_espera": 0.023696682464454975,
         "rpc_hospitalizacion_camas_asignadas": 78.87045813586099,
         "rpc_hospitalizacion_camas_ocupadas": 17.02527646129542,
         "rpc_cuidado_intermedio_camas_porcentaje_ocupadas": 2.4075829383886256,
         "rpc_cuidado_intermedio_lista_espera": 0.020537124802527645,
         "rpc_cuidado_intermedio_camas_asignadas": 2.7282780410742498,
         "rpc_cuidado_intermedio_camas_ocupadas": 0.39968404423380727,
         "rpc_uci_camas_porcentaje_ocupadas": 4.350710900473934,
         "rpc_uci_lista_espera": 0.33175355450236965,
         "rpc_uci_camas_asignadas": 28.085308056872037,
         "rpc_uci_camas_ocupadas": 6.562401263823065,
         "_deepnote_index_column": "mean"
        },
        {
         "muestras": 666285.5957418163,
         "muestras_pcr": 664243.146290724,
         "positivas_total": 248658.8734029193,
         "positivas_probables": 39728.41112271076,
         "muestras_pcr_nuevas": 2617.92356385551,
         "pruebas_rezagadas": 27443.54635137189,
         "muertes_confirmadas": 7368.362727078935,
         "muertes_probables": 2720.979765640696,
         "muertes": 9981.10288396732,
         "muertes_nuevas": 351.13418654358577,
         "positivas": 183769.20248318807,
         "positivas_pcr": 182844.70949444443,
         "positivas_pcr_nuevas": 737.8056649498617,
         "positivas_pcr_mujer": 102109.1992910274,
         "positivas_pcr_hombre": 106935.82499004093,
         "positivas_pcr_hombre_edades_meses": 153.72780607824134,
         "positivas_pcr_hombre_edades_0a4": 653.682692624052,
         "positivas_pcr_hombre_edades_5a9": 953.3108015370402,
         "positivas_pcr_hombre_edades_10a14": 1903.1333867069684,
         "positivas_pcr_hombre_edades_15a19": 3799.753827475417,
         "positivas_pcr_hombre_edades_20a49": 58300.965689679506,
         "positivas_pcr_hombre_edades_50a64": 19673.231968511245,
         "positivas_pcr_hombre_edades_65an": 11657.850741572916,
         "positivas_pcr_mujer_edades_meses": 177.094432602134,
         "positivas_pcr_mujer_edades_0a4": 714.8820868047228,
         "positivas_pcr_mujer_edades_5a9": 976.4513500075412,
         "positivas_pcr_mujer_edades_10a14": 1887.5740427934518,
         "positivas_pcr_mujer_edades_15a19": 3527.589113615186,
         "positivas_pcr_mujer_edades_20a49": 61172.83068718445,
         "positivas_pcr_mujer_edades_50a64": 20624.646767869217,
         "positivas_pcr_mujer_edades_65an": 12954.114721082875,
         "positivas_rapidas": 2302.281331297072,
         "negativas": 459844.8389005347,
         "negativas_pcr": 458737.25521445664,
         "negativas_pcr_nuevas": 1557.4786656962035,
         "negativas_rapidas": 2986.971958992462,
         "hospitalizadas_altas": 17200.976908208046,
         "hospitalizadas_estables": 268.1794004734194,
         "hospitalizadas_pronostico_reservadas": 128.8081173515342,
         "msp_hospitalizacion_camas_porcentaje_ocupadas": 9.502226795653185,
         "msp_hospitalizacion_lista_espera": 1.063680685955971,
         "msp_hospitalizacion_camas_asignadas": 513.8609932882051,
         "msp_hospitalizacion_camas_ocupadas": 73.10891171522042,
         "msp_cuidado_intermedio_camas_porcentaje_ocupadas": 12.097333657983128,
         "msp_cuidado_intermedio_lista_espera": 0.5075075773308741,
         "msp_cuidado_intermedio_camas_asignadas": 41.27464374806505,
         "msp_cuidado_intermedio_camas_ocupadas": 7.46272691976391,
         "msp_uci_camas_porcentaje_ocupadas": 22.256428311744738,
         "msp_uci_lista_espera": 4.70836663607528,
         "msp_uci_camas_asignadas": 140.84678677758902,
         "msp_uci_camas_ocupadas": 46.95441688044861,
         "rpis_hospitalizacion_camas_porcentaje_ocupadas": 12.50660053299997,
         "rpis_hospitalizacion_lista_espera": 1.7656467791727675,
         "rpis_hospitalizacion_camas_asignadas": 181.02035577059158,
         "rpis_hospitalizacion_camas_ocupadas": 66.50617110530938,
         "rpis_cuidado_intermedio_camas_porcentaje_ocupadas": 19.4876355027682,
         "rpis_cuidado_intermedio_lista_espera": 1.528912273420691,
         "rpis_cuidado_intermedio_camas_asignadas": 7.203308665342479,
         "rpis_cuidado_intermedio_camas_ocupadas": 4.097359470482392,
         "rpis_uci_camas_porcentaje_ocupadas": 23.908842431525244,
         "rpis_uci_lista_espera": 4.1578617949543695,
         "rpis_uci_camas_asignadas": 62.07387161136998,
         "rpis_uci_camas_ocupadas": 42.79575736263171,
         "rpc_hospitalizacion_camas_porcentaje_ocupadas": 8.748302715838248,
         "rpc_hospitalizacion_lista_espera": 0.2472780610941258,
         "rpc_hospitalizacion_camas_asignadas": 162.29885982721453,
         "rpc_hospitalizacion_camas_ocupadas": 37.95983044190523,
         "rpc_cuidado_intermedio_camas_porcentaje_ocupadas": 8.186787325432384,
         "rpc_cuidado_intermedio_lista_espera": 0.5167036117861568,
         "rpc_cuidado_intermedio_camas_asignadas": 5.763710102912788,
         "rpc_cuidado_intermedio_camas_ocupadas": 1.4252914074730576,
         "rpc_uci_camas_porcentaje_ocupadas": 9.920581963145699,
         "rpc_uci_lista_espera": 1.699931008258689,
         "rpc_uci_camas_asignadas": 57.6893057867721,
         "rpc_uci_camas_ocupadas": 15.99425258471917,
         "_deepnote_index_column": "std"
        },
        {
         "muestras": 129,
         "muestras_pcr": 129,
         "positivas_total": 0,
         "positivas_probables": 0,
         "muestras_pcr_nuevas": -10096,
         "pruebas_rezagadas": 106,
         "muertes_confirmadas": 1,
         "muertes_probables": 0,
         "muertes": 1,
         "muertes_nuevas": -45,
         "positivas": 23,
         "positivas_pcr": 23,
         "positivas_pcr_nuevas": -2498,
         "positivas_pcr_mujer": 0,
         "positivas_pcr_hombre": 0,
         "positivas_pcr_hombre_edades_meses": 0,
         "positivas_pcr_hombre_edades_0a4": 0,
         "positivas_pcr_hombre_edades_5a9": 0,
         "positivas_pcr_hombre_edades_10a14": 0,
         "positivas_pcr_hombre_edades_15a19": 0,
         "positivas_pcr_hombre_edades_20a49": 0,
         "positivas_pcr_hombre_edades_50a64": 0,
         "positivas_pcr_hombre_edades_65an": 0,
         "positivas_pcr_mujer_edades_meses": 0,
         "positivas_pcr_mujer_edades_0a4": 0,
         "positivas_pcr_mujer_edades_5a9": 0,
         "positivas_pcr_mujer_edades_10a14": 0,
         "positivas_pcr_mujer_edades_15a19": 0,
         "positivas_pcr_mujer_edades_20a49": 0,
         "positivas_pcr_mujer_edades_50a64": 0,
         "positivas_pcr_mujer_edades_65an": 0,
         "positivas_rapidas": 0,
         "negativas": 0,
         "negativas_pcr": 0,
         "negativas_pcr_nuevas": -2263,
         "negativas_rapidas": 0,
         "hospitalizadas_altas": 0,
         "hospitalizadas_estables": 0,
         "hospitalizadas_pronostico_reservadas": 1,
         "msp_hospitalizacion_camas_porcentaje_ocupadas": 0,
         "msp_hospitalizacion_lista_espera": 0,
         "msp_hospitalizacion_camas_asignadas": 0,
         "msp_hospitalizacion_camas_ocupadas": 0,
         "msp_cuidado_intermedio_camas_porcentaje_ocupadas": 0,
         "msp_cuidado_intermedio_lista_espera": 0,
         "msp_cuidado_intermedio_camas_asignadas": 0,
         "msp_cuidado_intermedio_camas_ocupadas": 0,
         "msp_uci_camas_porcentaje_ocupadas": 0,
         "msp_uci_lista_espera": 0,
         "msp_uci_camas_asignadas": 0,
         "msp_uci_camas_ocupadas": 0,
         "rpis_hospitalizacion_camas_porcentaje_ocupadas": 0,
         "rpis_hospitalizacion_lista_espera": 0,
         "rpis_hospitalizacion_camas_asignadas": 0,
         "rpis_hospitalizacion_camas_ocupadas": 0,
         "rpis_cuidado_intermedio_camas_porcentaje_ocupadas": 0,
         "rpis_cuidado_intermedio_lista_espera": 0,
         "rpis_cuidado_intermedio_camas_asignadas": 0,
         "rpis_cuidado_intermedio_camas_ocupadas": 0,
         "rpis_uci_camas_porcentaje_ocupadas": 0,
         "rpis_uci_lista_espera": 0,
         "rpis_uci_camas_asignadas": 0,
         "rpis_uci_camas_ocupadas": 0,
         "rpc_hospitalizacion_camas_porcentaje_ocupadas": 0,
         "rpc_hospitalizacion_lista_espera": 0,
         "rpc_hospitalizacion_camas_asignadas": 0,
         "rpc_hospitalizacion_camas_ocupadas": 0,
         "rpc_cuidado_intermedio_camas_porcentaje_ocupadas": 0,
         "rpc_cuidado_intermedio_lista_espera": 0,
         "rpc_cuidado_intermedio_camas_asignadas": 0,
         "rpc_cuidado_intermedio_camas_ocupadas": 0,
         "rpc_uci_camas_porcentaje_ocupadas": 0,
         "rpc_uci_lista_espera": 0,
         "rpc_uci_camas_asignadas": 0,
         "rpc_uci_camas_ocupadas": 0,
         "_deepnote_index_column": "min"
        },
        {
         "muestras": 289213,
         "muestras_pcr": 268641,
         "positivas_total": 0,
         "positivas_probables": 0,
         "muestras_pcr_nuevas": 1248,
         "pruebas_rezagadas": 40605,
         "muertes_confirmadas": 6105,
         "muertes_probables": 3567,
         "muertes": 9686,
         "muertes_nuevas": 11,
         "positivas": 102941,
         "positivas_pcr": 93985,
         "positivas_pcr_nuevas": 333,
         "positivas_pcr_mujer": 0,
         "positivas_pcr_hombre": 0,
         "positivas_pcr_hombre_edades_meses": 0,
         "positivas_pcr_hombre_edades_0a4": 0,
         "positivas_pcr_hombre_edades_5a9": 0,
         "positivas_pcr_hombre_edades_10a14": 0,
         "positivas_pcr_hombre_edades_15a19": 0,
         "positivas_pcr_hombre_edades_20a49": 0,
         "positivas_pcr_hombre_edades_50a64": 0,
         "positivas_pcr_hombre_edades_65an": 0,
         "positivas_pcr_mujer_edades_meses": 0,
         "positivas_pcr_mujer_edades_0a4": 0,
         "positivas_pcr_mujer_edades_5a9": 0,
         "positivas_pcr_mujer_edades_10a14": 0,
         "positivas_pcr_mujer_edades_15a19": 0,
         "positivas_pcr_mujer_edades_20a49": 0,
         "positivas_pcr_mujer_edades_50a64": 0,
         "positivas_pcr_mujer_edades_65an": 0,
         "positivas_rapidas": 8956,
         "negativas": 145669,
         "negativas_pcr": 134053,
         "negativas_pcr_nuevas": 937,
         "negativas_rapidas": 11616,
         "hospitalizadas_altas": 13567,
         "hospitalizadas_estables": 516,
         "hospitalizadas_pronostico_reservadas": 347,
         "msp_hospitalizacion_camas_porcentaje_ocupadas": 0,
         "msp_hospitalizacion_lista_espera": 0,
         "msp_hospitalizacion_camas_asignadas": 0,
         "msp_hospitalizacion_camas_ocupadas": 0,
         "msp_cuidado_intermedio_camas_porcentaje_ocupadas": 0,
         "msp_cuidado_intermedio_lista_espera": 0,
         "msp_cuidado_intermedio_camas_asignadas": 0,
         "msp_cuidado_intermedio_camas_ocupadas": 0,
         "msp_uci_camas_porcentaje_ocupadas": 0,
         "msp_uci_lista_espera": 0,
         "msp_uci_camas_asignadas": 0,
         "msp_uci_camas_ocupadas": 0,
         "rpis_hospitalizacion_camas_porcentaje_ocupadas": 0,
         "rpis_hospitalizacion_lista_espera": 0,
         "rpis_hospitalizacion_camas_asignadas": 0,
         "rpis_hospitalizacion_camas_ocupadas": 0,
         "rpis_cuidado_intermedio_camas_porcentaje_ocupadas": 0,
         "rpis_cuidado_intermedio_lista_espera": 0,
         "rpis_cuidado_intermedio_camas_asignadas": 0,
         "rpis_cuidado_intermedio_camas_ocupadas": 0,
         "rpis_uci_camas_porcentaje_ocupadas": 0,
         "rpis_uci_lista_espera": 0,
         "rpis_uci_camas_asignadas": 0,
         "rpis_uci_camas_ocupadas": 0,
         "rpc_hospitalizacion_camas_porcentaje_ocupadas": 0,
         "rpc_hospitalizacion_lista_espera": 0,
         "rpc_hospitalizacion_camas_asignadas": 0,
         "rpc_hospitalizacion_camas_ocupadas": 0,
         "rpc_cuidado_intermedio_camas_porcentaje_ocupadas": 0,
         "rpc_cuidado_intermedio_lista_espera": 0,
         "rpc_cuidado_intermedio_camas_asignadas": 0,
         "rpc_cuidado_intermedio_camas_ocupadas": 0,
         "rpc_uci_camas_porcentaje_ocupadas": 0,
         "rpc_uci_lista_espera": 0,
         "rpc_uci_camas_asignadas": 0,
         "rpc_uci_camas_ocupadas": 0,
         "_deepnote_index_column": "25%"
        },
        {
         "muestras": 861376,
         "muestras_pcr": 840804,
         "positivas_total": 0,
         "positivas_probables": 0,
         "muestras_pcr_nuevas": 3163,
         "pruebas_rezagadas": 53163,
         "muertes_confirmadas": 9943,
         "muertes_probables": 4627,
         "muertes": 14596,
         "muertes_nuevas": 27,
         "positivas": 247188,
         "positivas_pcr": 238232,
         "positivas_pcr_nuevas": 680,
         "positivas_pcr_mujer": 0,
         "positivas_pcr_hombre": 0,
         "positivas_pcr_hombre_edades_meses": 0,
         "positivas_pcr_hombre_edades_0a4": 0,
         "positivas_pcr_hombre_edades_5a9": 0,
         "positivas_pcr_hombre_edades_10a14": 0,
         "positivas_pcr_hombre_edades_15a19": 0,
         "positivas_pcr_hombre_edades_20a49": 0,
         "positivas_pcr_hombre_edades_50a64": 0,
         "positivas_pcr_hombre_edades_65an": 0,
         "positivas_pcr_mujer_edades_meses": 0,
         "positivas_pcr_mujer_edades_0a4": 0,
         "positivas_pcr_mujer_edades_5a9": 0,
         "positivas_pcr_mujer_edades_10a14": 0,
         "positivas_pcr_mujer_edades_15a19": 0,
         "positivas_pcr_mujer_edades_20a49": 0,
         "positivas_pcr_mujer_edades_50a64": 0,
         "positivas_pcr_mujer_edades_65an": 0,
         "positivas_rapidas": 8956,
         "negativas": 564304,
         "negativas_pcr": 552688,
         "negativas_pcr_nuevas": 2076,
         "negativas_rapidas": 11616,
         "hospitalizadas_altas": 27674,
         "hospitalizadas_estables": 650,
         "hospitalizadas_pronostico_reservadas": 427,
         "msp_hospitalizacion_camas_porcentaje_ocupadas": 0,
         "msp_hospitalizacion_lista_espera": 0,
         "msp_hospitalizacion_camas_asignadas": 0,
         "msp_hospitalizacion_camas_ocupadas": 0,
         "msp_cuidado_intermedio_camas_porcentaje_ocupadas": 0,
         "msp_cuidado_intermedio_lista_espera": 0,
         "msp_cuidado_intermedio_camas_asignadas": 0,
         "msp_cuidado_intermedio_camas_ocupadas": 0,
         "msp_uci_camas_porcentaje_ocupadas": 0,
         "msp_uci_lista_espera": 0,
         "msp_uci_camas_asignadas": 0,
         "msp_uci_camas_ocupadas": 0,
         "rpis_hospitalizacion_camas_porcentaje_ocupadas": 0,
         "rpis_hospitalizacion_lista_espera": 0,
         "rpis_hospitalizacion_camas_asignadas": 0,
         "rpis_hospitalizacion_camas_ocupadas": 0,
         "rpis_cuidado_intermedio_camas_porcentaje_ocupadas": 0,
         "rpis_cuidado_intermedio_lista_espera": 0,
         "rpis_cuidado_intermedio_camas_asignadas": 0,
         "rpis_cuidado_intermedio_camas_ocupadas": 0,
         "rpis_uci_camas_porcentaje_ocupadas": 0,
         "rpis_uci_lista_espera": 0,
         "rpis_uci_camas_asignadas": 0,
         "rpis_uci_camas_ocupadas": 0,
         "rpc_hospitalizacion_camas_porcentaje_ocupadas": 0,
         "rpc_hospitalizacion_lista_espera": 0,
         "rpc_hospitalizacion_camas_asignadas": 0,
         "rpc_hospitalizacion_camas_ocupadas": 0,
         "rpc_cuidado_intermedio_camas_porcentaje_ocupadas": 0,
         "rpc_cuidado_intermedio_lista_espera": 0,
         "rpc_cuidado_intermedio_camas_asignadas": 0,
         "rpc_cuidado_intermedio_camas_ocupadas": 0,
         "rpc_uci_camas_porcentaje_ocupadas": 0,
         "rpc_uci_lista_espera": 0,
         "rpc_uci_camas_asignadas": 0,
         "rpc_uci_camas_ocupadas": 0,
         "_deepnote_index_column": "50%"
        },
        {
         "muestras": 1566098,
         "muestras_pcr": 1545526,
         "positivas_total": 0,
         "positivas_probables": 0,
         "muestras_pcr_nuevas": 4394,
         "pruebas_rezagadas": 66893,
         "muertes_confirmadas": 15900,
         "muertes_probables": 5649,
         "muertes": 21560,
         "muertes_nuevas": 51,
         "positivas": 467460,
         "positivas_pcr": 458504,
         "positivas_pcr_nuevas": 1148,
         "positivas_pcr_mujer": 0,
         "positivas_pcr_hombre": 0,
         "positivas_pcr_hombre_edades_meses": 0,
         "positivas_pcr_hombre_edades_0a4": 0,
         "positivas_pcr_hombre_edades_5a9": 0,
         "positivas_pcr_hombre_edades_10a14": 0,
         "positivas_pcr_hombre_edades_15a19": 0,
         "positivas_pcr_hombre_edades_20a49": 0,
         "positivas_pcr_hombre_edades_50a64": 0,
         "positivas_pcr_hombre_edades_65an": 0,
         "positivas_pcr_mujer_edades_meses": 0,
         "positivas_pcr_mujer_edades_0a4": 0,
         "positivas_pcr_mujer_edades_5a9": 0,
         "positivas_pcr_mujer_edades_10a14": 0,
         "positivas_pcr_mujer_edades_15a19": 0,
         "positivas_pcr_mujer_edades_20a49": 0,
         "positivas_pcr_mujer_edades_50a64": 0,
         "positivas_pcr_mujer_edades_65an": 0,
         "positivas_rapidas": 8956,
         "negativas": 1044565,
         "negativas_pcr": 1032949,
         "negativas_pcr_nuevas": 3254,
         "negativas_rapidas": 11616,
         "hospitalizadas_altas": 48804,
         "hospitalizadas_estables": 816,
         "hospitalizadas_pronostico_reservadas": 452,
         "msp_hospitalizacion_camas_porcentaje_ocupadas": 0,
         "msp_hospitalizacion_lista_espera": 0,
         "msp_hospitalizacion_camas_asignadas": 0,
         "msp_hospitalizacion_camas_ocupadas": 0,
         "msp_cuidado_intermedio_camas_porcentaje_ocupadas": 0,
         "msp_cuidado_intermedio_lista_espera": 0,
         "msp_cuidado_intermedio_camas_asignadas": 0,
         "msp_cuidado_intermedio_camas_ocupadas": 0,
         "msp_uci_camas_porcentaje_ocupadas": 0,
         "msp_uci_lista_espera": 0,
         "msp_uci_camas_asignadas": 0,
         "msp_uci_camas_ocupadas": 0,
         "rpis_hospitalizacion_camas_porcentaje_ocupadas": 0,
         "rpis_hospitalizacion_lista_espera": 0,
         "rpis_hospitalizacion_camas_asignadas": 0,
         "rpis_hospitalizacion_camas_ocupadas": 0,
         "rpis_cuidado_intermedio_camas_porcentaje_ocupadas": 0,
         "rpis_cuidado_intermedio_lista_espera": 0,
         "rpis_cuidado_intermedio_camas_asignadas": 0,
         "rpis_cuidado_intermedio_camas_ocupadas": 0,
         "rpis_uci_camas_porcentaje_ocupadas": 0,
         "rpis_uci_lista_espera": 0,
         "rpis_uci_camas_asignadas": 0,
         "rpis_uci_camas_ocupadas": 0,
         "rpc_hospitalizacion_camas_porcentaje_ocupadas": 0,
         "rpc_hospitalizacion_lista_espera": 0,
         "rpc_hospitalizacion_camas_asignadas": 0,
         "rpc_hospitalizacion_camas_ocupadas": 0,
         "rpc_cuidado_intermedio_camas_porcentaje_ocupadas": 0,
         "rpc_cuidado_intermedio_lista_espera": 0,
         "rpc_cuidado_intermedio_camas_asignadas": 0,
         "rpc_cuidado_intermedio_camas_ocupadas": 0,
         "rpc_uci_camas_porcentaje_ocupadas": 0,
         "rpc_uci_lista_espera": 0,
         "rpc_uci_camas_asignadas": 0,
         "rpc_uci_camas_ocupadas": 0,
         "_deepnote_index_column": "75%"
        },
        {
         "muestras": 2067832,
         "muestras_pcr": 2047260,
         "positivas_total": 641699,
         "positivas_probables": 112350,
         "muestras_pcr_nuevas": 37781,
         "pruebas_rezagadas": 112350,
         "muertes_confirmadas": 30321,
         "muertes_probables": 9780,
         "muertes": 33484,
         "muertes_nuevas": 8786,
         "positivas": 538305,
         "positivas_pcr": 529349,
         "positivas_pcr_nuevas": 5913,
         "positivas_pcr_mujer": 259196,
         "positivas_pcr_hombre": 270153,
         "positivas_pcr_hombre_edades_meses": 375,
         "positivas_pcr_hombre_edades_0a4": 1745,
         "positivas_pcr_hombre_edades_5a9": 2371,
         "positivas_pcr_hombre_edades_10a14": 4632,
         "positivas_pcr_hombre_edades_15a19": 9256,
         "positivas_pcr_hombre_edades_20a49": 148676,
         "positivas_pcr_hombre_edades_50a64": 50146,
         "positivas_pcr_hombre_edades_65an": 31532,
         "positivas_pcr_mujer_edades_meses": 432,
         "positivas_pcr_mujer_edades_0a4": 1747,
         "positivas_pcr_mujer_edades_5a9": 2377,
         "positivas_pcr_mujer_edades_10a14": 4623,
         "positivas_pcr_mujer_edades_15a19": 9235,
         "positivas_pcr_mujer_edades_20a49": 148954,
         "positivas_pcr_mujer_edades_50a64": 50219,
         "positivas_pcr_mujer_edades_65an": 31563,
         "positivas_rapidas": 8956,
         "negativas": 1417177,
         "negativas_pcr": 1405561,
         "negativas_pcr_nuevas": 9089,
         "negativas_rapidas": 11616,
         "hospitalizadas_altas": 48969,
         "hospitalizadas_estables": 1487,
         "hospitalizadas_pronostico_reservadas": 650,
         "msp_hospitalizacion_camas_porcentaje_ocupadas": 46,
         "msp_hospitalizacion_lista_espera": 12,
         "msp_hospitalizacion_camas_asignadas": 2643,
         "msp_hospitalizacion_camas_ocupadas": 486,
         "msp_cuidado_intermedio_camas_porcentaje_ocupadas": 65,
         "msp_cuidado_intermedio_lista_espera": 4,
         "msp_cuidado_intermedio_camas_asignadas": 175,
         "msp_cuidado_intermedio_camas_ocupadas": 40,
         "msp_uci_camas_porcentaje_ocupadas": 80,
         "msp_uci_lista_espera": 66,
         "msp_uci_camas_asignadas": 772,
         "msp_uci_camas_ocupadas": 252,
         "rpis_hospitalizacion_camas_porcentaje_ocupadas": 50,
         "rpis_hospitalizacion_lista_espera": 13,
         "rpis_hospitalizacion_camas_asignadas": 819,
         "rpis_hospitalizacion_camas_ocupadas": 385,
         "rpis_cuidado_intermedio_camas_porcentaje_ocupadas": 89,
         "rpis_cuidado_intermedio_lista_espera": 19,
         "rpis_cuidado_intermedio_camas_asignadas": 32,
         "rpis_cuidado_intermedio_camas_ocupadas": 21,
         "rpis_uci_camas_porcentaje_ocupadas": 84,
         "rpis_uci_lista_espera": 46,
         "rpis_uci_camas_asignadas": 268,
         "rpis_uci_camas_ocupadas": 224,
         "rpc_hospitalizacion_camas_porcentaje_ocupadas": 46,
         "rpc_hospitalizacion_lista_espera": 4,
         "rpc_hospitalizacion_camas_asignadas": 554,
         "rpc_hospitalizacion_camas_ocupadas": 255,
         "rpc_cuidado_intermedio_camas_porcentaje_ocupadas": 65,
         "rpc_cuidado_intermedio_lista_espera": 13,
         "rpc_cuidado_intermedio_camas_asignadas": 24,
         "rpc_cuidado_intermedio_camas_ocupadas": 13,
         "rpc_uci_camas_porcentaje_ocupadas": 55,
         "rpc_uci_lista_espera": 37,
         "rpc_uci_camas_asignadas": 196,
         "rpc_uci_camas_ocupadas": 104,
         "_deepnote_index_column": "max"
        }
       ],
       "rows_bottom": null
      },
      "text/plain": "           muestras  muestras_pcr  positivas_total  positivas_probables  \\\ncount  6.330000e+02  6.330000e+02       633.000000           633.000000   \nmean   9.350008e+05  9.159204e+05    129878.060032         20650.928910   \nstd    6.662856e+05  6.642431e+05    248658.873403         39728.411123   \nmin    1.290000e+02  1.290000e+02         0.000000             0.000000   \n25%    2.892130e+05  2.686410e+05         0.000000             0.000000   \n50%    8.613760e+05  8.408040e+05         0.000000             0.000000   \n75%    1.566098e+06  1.545526e+06         0.000000             0.000000   \nmax    2.067832e+06  2.047260e+06    641699.000000        112350.000000   \n\n       muestras_pcr_nuevas  pruebas_rezagadas  muertes_confirmadas  \\\ncount           633.000000         633.000000           633.000000   \nmean           3234.014218       54176.284360         11601.170616   \nstd            2617.923564       27443.546351          7368.362727   \nmin          -10096.000000         106.000000             1.000000   \n25%            1248.000000       40605.000000          6105.000000   \n50%            3163.000000       53163.000000          9943.000000   \n75%            4394.000000       66893.000000         15900.000000   \nmax           37781.000000      112350.000000         30321.000000   \n\n       muertes_probables       muertes  muertes_nuevas  ...  \\\ncount         633.000000    633.000000      633.000000  ...   \nmean         5053.146919  16654.317536       52.895735  ...   \nstd          2720.979766   9981.102884      351.134187  ...   \nmin             0.000000      1.000000      -45.000000  ...   \n25%          3567.000000   9686.000000       11.000000  ...   \n50%          4627.000000  14596.000000       27.000000  ...   \n75%          5649.000000  21560.000000       51.000000  ...   \nmax          9780.000000  33484.000000     8786.000000  ...   \n\n       rpc_hospitalizacion_camas_asignadas  \\\ncount                           633.000000   \nmean                             78.870458   \nstd                             162.298860   \nmin                               0.000000   \n25%                               0.000000   \n50%                               0.000000   \n75%                               0.000000   \nmax                             554.000000   \n\n       rpc_hospitalizacion_camas_ocupadas  \\\ncount                          633.000000   \nmean                            17.025276   \nstd                             37.959830   \nmin                              0.000000   \n25%                              0.000000   \n50%                              0.000000   \n75%                              0.000000   \nmax                            255.000000   \n\n       rpc_cuidado_intermedio_camas_porcentaje_ocupadas  \\\ncount                                        633.000000   \nmean                                           2.407583   \nstd                                            8.186787   \nmin                                            0.000000   \n25%                                            0.000000   \n50%                                            0.000000   \n75%                                            0.000000   \nmax                                           65.000000   \n\n       rpc_cuidado_intermedio_lista_espera  \\\ncount                           633.000000   \nmean                              0.020537   \nstd                               0.516704   \nmin                               0.000000   \n25%                               0.000000   \n50%                               0.000000   \n75%                               0.000000   \nmax                              13.000000   \n\n       rpc_cuidado_intermedio_camas_asignadas  \\\ncount                              633.000000   \nmean                                 2.728278   \nstd                                  5.763710   \nmin                                  0.000000   \n25%                                  0.000000   \n50%                                  0.000000   \n75%                                  0.000000   \nmax                                 24.000000   \n\n       rpc_cuidado_intermedio_camas_ocupadas  \\\ncount                             633.000000   \nmean                                0.399684   \nstd                                 1.425291   \nmin                                 0.000000   \n25%                                 0.000000   \n50%                                 0.000000   \n75%                                 0.000000   \nmax                                13.000000   \n\n       rpc_uci_camas_porcentaje_ocupadas  rpc_uci_lista_espera  \\\ncount                         633.000000            633.000000   \nmean                            4.350711              0.331754   \nstd                             9.920582              1.699931   \nmin                             0.000000              0.000000   \n25%                             0.000000              0.000000   \n50%                             0.000000              0.000000   \n75%                             0.000000              0.000000   \nmax                            55.000000             37.000000   \n\n       rpc_uci_camas_asignadas  rpc_uci_camas_ocupadas  \ncount               633.000000              633.000000  \nmean                 28.085308                6.562401  \nstd                  57.689306               15.994253  \nmin                   0.000000                0.000000  \n25%                   0.000000                0.000000  \n50%                   0.000000                0.000000  \n75%                   0.000000                0.000000  \nmax                 196.000000              104.000000  \n\n[8 rows x 75 columns]",
      "text/html": "<div>\n<style scoped>\n    .dataframe tbody tr th:only-of-type {\n        vertical-align: middle;\n    }\n\n    .dataframe tbody tr th {\n        vertical-align: top;\n    }\n\n    .dataframe thead th {\n        text-align: right;\n    }\n</style>\n<table border=\"1\" class=\"dataframe\">\n  <thead>\n    <tr style=\"text-align: right;\">\n      <th></th>\n      <th>muestras</th>\n      <th>muestras_pcr</th>\n      <th>positivas_total</th>\n      <th>positivas_probables</th>\n      <th>muestras_pcr_nuevas</th>\n      <th>pruebas_rezagadas</th>\n      <th>muertes_confirmadas</th>\n      <th>muertes_probables</th>\n      <th>muertes</th>\n      <th>muertes_nuevas</th>\n      <th>...</th>\n      <th>rpc_hospitalizacion_camas_asignadas</th>\n      <th>rpc_hospitalizacion_camas_ocupadas</th>\n      <th>rpc_cuidado_intermedio_camas_porcentaje_ocupadas</th>\n      <th>rpc_cuidado_intermedio_lista_espera</th>\n      <th>rpc_cuidado_intermedio_camas_asignadas</th>\n      <th>rpc_cuidado_intermedio_camas_ocupadas</th>\n      <th>rpc_uci_camas_porcentaje_ocupadas</th>\n      <th>rpc_uci_lista_espera</th>\n      <th>rpc_uci_camas_asignadas</th>\n      <th>rpc_uci_camas_ocupadas</th>\n    </tr>\n  </thead>\n  <tbody>\n    <tr>\n      <th>count</th>\n      <td>6.330000e+02</td>\n      <td>6.330000e+02</td>\n      <td>633.000000</td>\n      <td>633.000000</td>\n      <td>633.000000</td>\n      <td>633.000000</td>\n      <td>633.000000</td>\n      <td>633.000000</td>\n      <td>633.000000</td>\n      <td>633.000000</td>\n      <td>...</td>\n      <td>633.000000</td>\n      <td>633.000000</td>\n      <td>633.000000</td>\n      <td>633.000000</td>\n      <td>633.000000</td>\n      <td>633.000000</td>\n      <td>633.000000</td>\n      <td>633.000000</td>\n      <td>633.000000</td>\n      <td>633.000000</td>\n    </tr>\n    <tr>\n      <th>mean</th>\n      <td>9.350008e+05</td>\n      <td>9.159204e+05</td>\n      <td>129878.060032</td>\n      <td>20650.928910</td>\n      <td>3234.014218</td>\n      <td>54176.284360</td>\n      <td>11601.170616</td>\n      <td>5053.146919</td>\n      <td>16654.317536</td>\n      <td>52.895735</td>\n      <td>...</td>\n      <td>78.870458</td>\n      <td>17.025276</td>\n      <td>2.407583</td>\n      <td>0.020537</td>\n      <td>2.728278</td>\n      <td>0.399684</td>\n      <td>4.350711</td>\n      <td>0.331754</td>\n      <td>28.085308</td>\n      <td>6.562401</td>\n    </tr>\n    <tr>\n      <th>std</th>\n      <td>6.662856e+05</td>\n      <td>6.642431e+05</td>\n      <td>248658.873403</td>\n      <td>39728.411123</td>\n      <td>2617.923564</td>\n      <td>27443.546351</td>\n      <td>7368.362727</td>\n      <td>2720.979766</td>\n      <td>9981.102884</td>\n      <td>351.134187</td>\n      <td>...</td>\n      <td>162.298860</td>\n      <td>37.959830</td>\n      <td>8.186787</td>\n      <td>0.516704</td>\n      <td>5.763710</td>\n      <td>1.425291</td>\n      <td>9.920582</td>\n      <td>1.699931</td>\n      <td>57.689306</td>\n      <td>15.994253</td>\n    </tr>\n    <tr>\n      <th>min</th>\n      <td>1.290000e+02</td>\n      <td>1.290000e+02</td>\n      <td>0.000000</td>\n      <td>0.000000</td>\n      <td>-10096.000000</td>\n      <td>106.000000</td>\n      <td>1.000000</td>\n      <td>0.000000</td>\n      <td>1.000000</td>\n      <td>-45.000000</td>\n      <td>...</td>\n      <td>0.000000</td>\n      <td>0.000000</td>\n      <td>0.000000</td>\n      <td>0.000000</td>\n      <td>0.000000</td>\n      <td>0.000000</td>\n      <td>0.000000</td>\n      <td>0.000000</td>\n      <td>0.000000</td>\n      <td>0.000000</td>\n    </tr>\n    <tr>\n      <th>25%</th>\n      <td>2.892130e+05</td>\n      <td>2.686410e+05</td>\n      <td>0.000000</td>\n      <td>0.000000</td>\n      <td>1248.000000</td>\n      <td>40605.000000</td>\n      <td>6105.000000</td>\n      <td>3567.000000</td>\n      <td>9686.000000</td>\n      <td>11.000000</td>\n      <td>...</td>\n      <td>0.000000</td>\n      <td>0.000000</td>\n      <td>0.000000</td>\n      <td>0.000000</td>\n      <td>0.000000</td>\n      <td>0.000000</td>\n      <td>0.000000</td>\n      <td>0.000000</td>\n      <td>0.000000</td>\n      <td>0.000000</td>\n    </tr>\n    <tr>\n      <th>50%</th>\n      <td>8.613760e+05</td>\n      <td>8.408040e+05</td>\n      <td>0.000000</td>\n      <td>0.000000</td>\n      <td>3163.000000</td>\n      <td>53163.000000</td>\n      <td>9943.000000</td>\n      <td>4627.000000</td>\n      <td>14596.000000</td>\n      <td>27.000000</td>\n      <td>...</td>\n      <td>0.000000</td>\n      <td>0.000000</td>\n      <td>0.000000</td>\n      <td>0.000000</td>\n      <td>0.000000</td>\n      <td>0.000000</td>\n      <td>0.000000</td>\n      <td>0.000000</td>\n      <td>0.000000</td>\n      <td>0.000000</td>\n    </tr>\n    <tr>\n      <th>75%</th>\n      <td>1.566098e+06</td>\n      <td>1.545526e+06</td>\n      <td>0.000000</td>\n      <td>0.000000</td>\n      <td>4394.000000</td>\n      <td>66893.000000</td>\n      <td>15900.000000</td>\n      <td>5649.000000</td>\n      <td>21560.000000</td>\n      <td>51.000000</td>\n      <td>...</td>\n      <td>0.000000</td>\n      <td>0.000000</td>\n      <td>0.000000</td>\n      <td>0.000000</td>\n      <td>0.000000</td>\n      <td>0.000000</td>\n      <td>0.000000</td>\n      <td>0.000000</td>\n      <td>0.000000</td>\n      <td>0.000000</td>\n    </tr>\n    <tr>\n      <th>max</th>\n      <td>2.067832e+06</td>\n      <td>2.047260e+06</td>\n      <td>641699.000000</td>\n      <td>112350.000000</td>\n      <td>37781.000000</td>\n      <td>112350.000000</td>\n      <td>30321.000000</td>\n      <td>9780.000000</td>\n      <td>33484.000000</td>\n      <td>8786.000000</td>\n      <td>...</td>\n      <td>554.000000</td>\n      <td>255.000000</td>\n      <td>65.000000</td>\n      <td>13.000000</td>\n      <td>24.000000</td>\n      <td>13.000000</td>\n      <td>55.000000</td>\n      <td>37.000000</td>\n      <td>196.000000</td>\n      <td>104.000000</td>\n    </tr>\n  </tbody>\n</table>\n<p>8 rows × 75 columns</p>\n</div>"
     },
     "metadata": {}
    }
   ]
  },
  {
   "cell_type": "code",
   "metadata": {
    "tags": [],
    "cell_id": "00011-f8098f64-3372-4560-ae22-d5a9aaa2ef20",
    "deepnote_to_be_reexecuted": false,
    "source_hash": "f2f79983",
    "execution_start": 1639060962861,
    "execution_millis": 25,
    "deepnote_output_heights": [
     21.1875
    ],
    "deepnote_cell_type": "code"
   },
   "source": "sns.set_theme()",
   "execution_count": null,
   "outputs": []
  },
  {
   "cell_type": "code",
   "metadata": {
    "tags": [],
    "cell_id": "00010-bffb7a3a-4033-4e0c-a64a-522d6ab845e2",
    "deepnote_to_be_reexecuted": false,
    "source_hash": "5bec574c",
    "execution_start": 1639061254828,
    "execution_millis": 913,
    "deepnote_output_heights": [
     453
    ],
    "deepnote_cell_type": "code"
   },
   "source": "fig, ax = plt.subplots(figsize=(12, 7))\nplt.plot(df_ecuacovid.created_at, df_ecuacovid.muestras)\nplt.plot(df_ecuacovid.created_at, df_ecuacovid.muestras_pcr)\nplt.title('Tests', size=18)\nplt.xlabel('Date')\nplt.ylabel('Tests')\nplt.legend(['Total tests', 'PCR tests'])\nplt.show()",
   "execution_count": null,
   "outputs": [
    {
     "data": {
      "text/plain": "<Figure size 864x504 with 1 Axes>",
      "image/png": "[encoded data removed]"
     },
     "metadata": {
      "image/png": {
       "width": 746,
       "height": 451
      }
     },
     "output_type": "display_data"
    }
   ]
  },
  {
   "cell_type": "markdown",
   "source": "The difference between total tests and PCR tests is insignificant. So, I'll focus on PCR tests only. ",
   "metadata": {
    "tags": [],
    "cell_id": "00013-3928e6a1-e61a-424d-979d-c0917475028a",
    "deepnote_cell_type": "markdown"
   }
  },
  {
   "cell_type": "code",
   "metadata": {
    "tags": [],
    "cell_id": "00014-4bb7784a-a3ed-46e0-a655-e8699508d6a4",
    "deepnote_to_be_reexecuted": false,
    "source_hash": "71a2baa",
    "execution_start": 1639062516969,
    "execution_millis": 491,
    "deepnote_cell_type": "code"
   },
   "source": "def fix_values(val):\n    if val < 0:\n        return val * -1\n    return val",
   "execution_count": null,
   "outputs": []
  },
  {
   "cell_type": "code",
   "metadata": {
    "tags": [],
    "cell_id": "00015-39ceecfd-3470-4422-b512-42cf0f3e49b3",
    "deepnote_to_be_reexecuted": false,
    "source_hash": "1e8fec79",
    "execution_start": 1639062718368,
    "execution_millis": 1105,
    "deepnote_output_heights": [
     232.3125
    ],
    "deepnote_cell_type": "code"
   },
   "source": "df_ecuacovid.muestras_pcr_nuevas = df_ecuacovid.muestras_pcr_nuevas.apply(fix_values)",
   "execution_count": null,
   "outputs": []
  },
  {
   "cell_type": "code",
   "metadata": {
    "tags": [],
    "cell_id": "00016-8d79bf24-17fb-45c6-9858-97d1ac6c2972",
    "deepnote_to_be_reexecuted": false,
    "source_hash": "37d15291",
    "execution_start": 1639062878230,
    "execution_millis": 1184,
    "deepnote_output_heights": [
     453
    ],
    "deepnote_cell_type": "code"
   },
   "source": "fig, ax = plt.subplots(figsize=(12, 7))\nplt.plot(df_ecuacovid.created_at, df_ecuacovid.muestras_pcr_nuevas)\nplt.title('Tests PCR', size=18)\nplt.xlabel('Date')\nplt.ylabel('Tests')\nplt.show()",
   "execution_count": null,
   "outputs": [
    {
     "data": {
      "text/plain": "<Figure size 864x504 with 1 Axes>",
      "image/png": "[encoded data removed]"
     },
     "metadata": {
      "image/png": {
       "width": 763,
       "height": 451
      }
     },
     "output_type": "display_data"
    }
   ]
  },
  {
   "cell_type": "code",
   "metadata": {
    "tags": [],
    "cell_id": "00017-af93b94a-3f40-4b44-bd88-0c862100e880",
    "deepnote_to_be_reexecuted": false,
    "source_hash": "b09808e3",
    "execution_start": 1639064280148,
    "execution_millis": 470,
    "deepnote_output_heights": [
     611
    ],
    "deepnote_cell_type": "code"
   },
   "source": "df_ecuacovid.columns",
   "execution_count": null,
   "outputs": [
    {
     "output_type": "execute_result",
     "execution_count": 30,
     "data": {
      "text/plain": "Index(['created_at', 'muestras', 'muestras_pcr', 'positivas_total',\n       'positivas_probables', 'muestras_pcr_nuevas', 'pruebas_rezagadas',\n       'muertes_confirmadas', 'muertes_probables', 'muertes', 'muertes_nuevas',\n       'positivas', 'positivas_pcr', 'positivas_pcr_nuevas',\n       'positivas_pcr_mujer', 'positivas_pcr_hombre',\n       'positivas_pcr_hombre_edades_meses', 'positivas_pcr_hombre_edades_0a4',\n       'positivas_pcr_hombre_edades_5a9', 'positivas_pcr_hombre_edades_10a14',\n       'positivas_pcr_hombre_edades_15a19',\n       'positivas_pcr_hombre_edades_20a49',\n       'positivas_pcr_hombre_edades_50a64', 'positivas_pcr_hombre_edades_65an',\n       'positivas_pcr_mujer_edades_meses', 'positivas_pcr_mujer_edades_0a4',\n       'positivas_pcr_mujer_edades_5a9', 'positivas_pcr_mujer_edades_10a14',\n       'positivas_pcr_mujer_edades_15a19', 'positivas_pcr_mujer_edades_20a49',\n       'positivas_pcr_mujer_edades_50a64', 'positivas_pcr_mujer_edades_65an',\n       'positivas_rapidas', 'negativas', 'negativas_pcr',\n       'negativas_pcr_nuevas', 'negativas_rapidas', 'hospitalizadas_altas',\n       'hospitalizadas_estables', 'hospitalizadas_pronostico_reservadas',\n       'msp_hospitalizacion_camas_porcentaje_ocupadas',\n       'msp_hospitalizacion_lista_espera',\n       'msp_hospitalizacion_camas_asignadas',\n       'msp_hospitalizacion_camas_ocupadas',\n       'msp_cuidado_intermedio_camas_porcentaje_ocupadas',\n       'msp_cuidado_intermedio_lista_espera',\n       'msp_cuidado_intermedio_camas_asignadas',\n       'msp_cuidado_intermedio_camas_ocupadas',\n       'msp_uci_camas_porcentaje_ocupadas', 'msp_uci_lista_espera',\n       'msp_uci_camas_asignadas', 'msp_uci_camas_ocupadas',\n       'rpis_hospitalizacion_camas_porcentaje_ocupadas',\n       'rpis_hospitalizacion_lista_espera',\n       'rpis_hospitalizacion_camas_asignadas',\n       'rpis_hospitalizacion_camas_ocupadas',\n       'rpis_cuidado_intermedio_camas_porcentaje_ocupadas',\n       'rpis_cuidado_intermedio_lista_espera',\n       'rpis_cuidado_intermedio_camas_asignadas',\n       'rpis_cuidado_intermedio_camas_ocupadas',\n       'rpis_uci_camas_porcentaje_ocupadas', 'rpis_uci_lista_espera',\n       'rpis_uci_camas_asignadas', 'rpis_uci_camas_ocupadas',\n       'rpc_hospitalizacion_camas_porcentaje_ocupadas',\n       'rpc_hospitalizacion_lista_espera',\n       'rpc_hospitalizacion_camas_asignadas',\n       'rpc_hospitalizacion_camas_ocupadas',\n       'rpc_cuidado_intermedio_camas_porcentaje_ocupadas',\n       'rpc_cuidado_intermedio_lista_espera',\n       'rpc_cuidado_intermedio_camas_asignadas',\n       'rpc_cuidado_intermedio_camas_ocupadas',\n       'rpc_uci_camas_porcentaje_ocupadas', 'rpc_uci_lista_espera',\n       'rpc_uci_camas_asignadas', 'rpc_uci_camas_ocupadas'],\n      dtype='object')"
     },
     "metadata": {}
    }
   ]
  },
  {
   "cell_type": "code",
   "metadata": {
    "tags": [],
    "cell_id": "00018-71e1472c-6a26-4d10-9f44-ea070ebf3428",
    "deepnote_to_be_reexecuted": false,
    "source_hash": "bba45808",
    "execution_start": 1639065122063,
    "execution_millis": 41,
    "deepnote_cell_type": "code"
   },
   "source": "df_ecuacovid[['msp_hospitalizacion_lista_espera', 'msp_hospitalizacion_camas_asignadas', 'msp_hospitalizacion_camas_ocupadas']].describe()",
   "execution_count": null,
   "outputs": [
    {
     "output_type": "execute_result",
     "execution_count": 36,
     "data": {
      "application/vnd.deepnote.dataframe.v2+json": {
       "row_count": 8,
       "column_count": 3,
       "columns": [
        {
         "name": "msp_hospitalizacion_lista_espera",
         "dtype": "float64",
         "stats": {
          "unique_count": 5,
          "nan_count": 0,
          "min": "0.0",
          "max": "633.0",
          "histogram": [
           {
            "bin_start": 0,
            "bin_end": 63.3,
            "count": 7
           },
           {
            "bin_start": 63.3,
            "bin_end": 126.6,
            "count": 0
           },
           {
            "bin_start": 126.6,
            "bin_end": 189.89999999999998,
            "count": 0
           },
           {
            "bin_start": 189.89999999999998,
            "bin_end": 253.2,
            "count": 0
           },
           {
            "bin_start": 253.2,
            "bin_end": 316.5,
            "count": 0
           },
           {
            "bin_start": 316.5,
            "bin_end": 379.79999999999995,
            "count": 0
           },
           {
            "bin_start": 379.79999999999995,
            "bin_end": 443.09999999999997,
            "count": 0
           },
           {
            "bin_start": 443.09999999999997,
            "bin_end": 506.4,
            "count": 0
           },
           {
            "bin_start": 506.4,
            "bin_end": 569.6999999999999,
            "count": 0
           },
           {
            "bin_start": 569.6999999999999,
            "bin_end": 633,
            "count": 1
           }
          ]
         }
        },
        {
         "name": "msp_hospitalizacion_camas_asignadas",
         "dtype": "float64",
         "stats": {
          "unique_count": 5,
          "nan_count": 0,
          "min": "0.0",
          "max": "2643.0",
          "histogram": [
           {
            "bin_start": 0,
            "bin_end": 264.3,
            "count": 5
           },
           {
            "bin_start": 264.3,
            "bin_end": 528.6,
            "count": 1
           },
           {
            "bin_start": 528.6,
            "bin_end": 792.9000000000001,
            "count": 1
           },
           {
            "bin_start": 792.9000000000001,
            "bin_end": 1057.2,
            "count": 0
           },
           {
            "bin_start": 1057.2,
            "bin_end": 1321.5,
            "count": 0
           },
           {
            "bin_start": 1321.5,
            "bin_end": 1585.8000000000002,
            "count": 0
           },
           {
            "bin_start": 1585.8000000000002,
            "bin_end": 1850.1000000000001,
            "count": 0
           },
           {
            "bin_start": 1850.1000000000001,
            "bin_end": 2114.4,
            "count": 0
           },
           {
            "bin_start": 2114.4,
            "bin_end": 2378.7000000000003,
            "count": 0
           },
           {
            "bin_start": 2378.7000000000003,
            "bin_end": 2643,
            "count": 1
           }
          ]
         }
        },
        {
         "name": "msp_hospitalizacion_camas_ocupadas",
         "dtype": "float64",
         "stats": {
          "unique_count": 5,
          "nan_count": 0,
          "min": "0.0",
          "max": "633.0",
          "histogram": [
           {
            "bin_start": 0,
            "bin_end": 63.3,
            "count": 5
           },
           {
            "bin_start": 63.3,
            "bin_end": 126.6,
            "count": 1
           },
           {
            "bin_start": 126.6,
            "bin_end": 189.89999999999998,
            "count": 0
           },
           {
            "bin_start": 189.89999999999998,
            "bin_end": 253.2,
            "count": 0
           },
           {
            "bin_start": 253.2,
            "bin_end": 316.5,
            "count": 0
           },
           {
            "bin_start": 316.5,
            "bin_end": 379.79999999999995,
            "count": 0
           },
           {
            "bin_start": 379.79999999999995,
            "bin_end": 443.09999999999997,
            "count": 0
           },
           {
            "bin_start": 443.09999999999997,
            "bin_end": 506.4,
            "count": 1
           },
           {
            "bin_start": 506.4,
            "bin_end": 569.6999999999999,
            "count": 0
           },
           {
            "bin_start": 569.6999999999999,
            "bin_end": 633,
            "count": 1
           }
          ]
         }
        },
        {
         "name": "_deepnote_index_column",
         "dtype": "object"
        }
       ],
       "rows_top": [
        {
         "msp_hospitalizacion_lista_espera": 633,
         "msp_hospitalizacion_camas_asignadas": 633,
         "msp_hospitalizacion_camas_ocupadas": 633,
         "_deepnote_index_column": "count"
        },
        {
         "msp_hospitalizacion_lista_espera": 0.21011058451816747,
         "msp_hospitalizacion_camas_asignadas": 218.51500789889417,
         "msp_hospitalizacion_camas_ocupadas": 26.334913112164298,
         "_deepnote_index_column": "mean"
        },
        {
         "msp_hospitalizacion_lista_espera": 1.063680685955971,
         "msp_hospitalizacion_camas_asignadas": 513.8609932882051,
         "msp_hospitalizacion_camas_ocupadas": 73.10891171522042,
         "_deepnote_index_column": "std"
        },
        {
         "msp_hospitalizacion_lista_espera": 0,
         "msp_hospitalizacion_camas_asignadas": 0,
         "msp_hospitalizacion_camas_ocupadas": 0,
         "_deepnote_index_column": "min"
        },
        {
         "msp_hospitalizacion_lista_espera": 0,
         "msp_hospitalizacion_camas_asignadas": 0,
         "msp_hospitalizacion_camas_ocupadas": 0,
         "_deepnote_index_column": "25%"
        },
        {
         "msp_hospitalizacion_lista_espera": 0,
         "msp_hospitalizacion_camas_asignadas": 0,
         "msp_hospitalizacion_camas_ocupadas": 0,
         "_deepnote_index_column": "50%"
        },
        {
         "msp_hospitalizacion_lista_espera": 0,
         "msp_hospitalizacion_camas_asignadas": 0,
         "msp_hospitalizacion_camas_ocupadas": 0,
         "_deepnote_index_column": "75%"
        },
        {
         "msp_hospitalizacion_lista_espera": 12,
         "msp_hospitalizacion_camas_asignadas": 2643,
         "msp_hospitalizacion_camas_ocupadas": 486,
         "_deepnote_index_column": "max"
        }
       ],
       "rows_bottom": null
      },
      "text/plain": "       msp_hospitalizacion_lista_espera  msp_hospitalizacion_camas_asignadas  \\\ncount                        633.000000                           633.000000   \nmean                           0.210111                           218.515008   \nstd                            1.063681                           513.860993   \nmin                            0.000000                             0.000000   \n25%                            0.000000                             0.000000   \n50%                            0.000000                             0.000000   \n75%                            0.000000                             0.000000   \nmax                           12.000000                          2643.000000   \n\n       msp_hospitalizacion_camas_ocupadas  \ncount                          633.000000  \nmean                            26.334913  \nstd                             73.108912  \nmin                              0.000000  \n25%                              0.000000  \n50%                              0.000000  \n75%                              0.000000  \nmax                            486.000000  ",
      "text/html": "<div>\n<style scoped>\n    .dataframe tbody tr th:only-of-type {\n        vertical-align: middle;\n    }\n\n    .dataframe tbody tr th {\n        vertical-align: top;\n    }\n\n    .dataframe thead th {\n        text-align: right;\n    }\n</style>\n<table border=\"1\" class=\"dataframe\">\n  <thead>\n    <tr style=\"text-align: right;\">\n      <th></th>\n      <th>msp_hospitalizacion_lista_espera</th>\n      <th>msp_hospitalizacion_camas_asignadas</th>\n      <th>msp_hospitalizacion_camas_ocupadas</th>\n    </tr>\n  </thead>\n  <tbody>\n    <tr>\n      <th>count</th>\n      <td>633.000000</td>\n      <td>633.000000</td>\n      <td>633.000000</td>\n    </tr>\n    <tr>\n      <th>mean</th>\n      <td>0.210111</td>\n      <td>218.515008</td>\n      <td>26.334913</td>\n    </tr>\n    <tr>\n      <th>std</th>\n      <td>1.063681</td>\n      <td>513.860993</td>\n      <td>73.108912</td>\n    </tr>\n    <tr>\n      <th>min</th>\n      <td>0.000000</td>\n      <td>0.000000</td>\n      <td>0.000000</td>\n    </tr>\n    <tr>\n      <th>25%</th>\n      <td>0.000000</td>\n      <td>0.000000</td>\n      <td>0.000000</td>\n    </tr>\n    <tr>\n      <th>50%</th>\n      <td>0.000000</td>\n      <td>0.000000</td>\n      <td>0.000000</td>\n    </tr>\n    <tr>\n      <th>75%</th>\n      <td>0.000000</td>\n      <td>0.000000</td>\n      <td>0.000000</td>\n    </tr>\n    <tr>\n      <th>max</th>\n      <td>12.000000</td>\n      <td>2643.000000</td>\n      <td>486.000000</td>\n    </tr>\n  </tbody>\n</table>\n</div>"
     },
     "metadata": {}
    }
   ]
  },
  {
   "cell_type": "code",
   "metadata": {
    "tags": [],
    "cell_id": "00018-a1431874-8d85-4feb-9ea5-da027f980fef",
    "deepnote_to_be_reexecuted": false,
    "source_hash": "c07a1e2c",
    "execution_start": 1639065735500,
    "execution_millis": 1844,
    "deepnote_output_heights": [
     453
    ],
    "deepnote_cell_type": "code"
   },
   "source": "fig, ax = plt.subplots(figsize=(12, 7))\n#plt.plot(df_ecuacovid.created_at, df_ecuacovid.msp_hospitalizacion_camas_porcentaje_ocupadas)\nplt.plot(df_ecuacovid.created_at, df_ecuacovid.msp_uci_lista_espera)\nplt.plot(df_ecuacovid.created_at, df_ecuacovid.msp_uci_camas_asignadas)\nplt.plot(df_ecuacovid.created_at, df_ecuacovid.msp_uci_camas_ocupadas)\n#plt.plot(df_ecuacovid.created_at, df_ecuacovid.msp_cuidado_intermedio_camas_porcentaje_ocupadas)\n#plt.plot(df_ecuacovid.created_at, df_ecuacovid.msp_cuidado_intermedio_lista_espera)\n#plt.plot(df_ecuacovid.created_at, df_ecuacovid.msp_cuidado_intermedio_camas_asignadas)\n\n\nplt.title('Hospitalization', size=18)\nplt.xlabel('Date')\nplt.ylabel('Hospitalization')\nplt.legend(['Hospital discharge', 'Stable hospitalized', 'Reserved forecast'])\nplt.show()",
   "execution_count": null,
   "outputs": [
    {
     "data": {
      "text/plain": "<Figure size 864x504 with 1 Axes>",
      "image/png": "[encoded data removed]"
     },
     "metadata": {
      "image/png": {
       "width": 749,
       "height": 451
      }
     },
     "output_type": "display_data"
    }
   ]
  },
  {
   "cell_type": "code",
   "metadata": {
    "tags": [],
    "cell_id": "00018-25c99186-3293-4b0e-a569-d5e0d6addd19",
    "deepnote_to_be_reexecuted": false,
    "source_hash": "667703c2",
    "execution_start": 1639064744716,
    "execution_millis": 1654,
    "deepnote_output_heights": [
     453
    ],
    "deepnote_cell_type": "code"
   },
   "source": "fig, ax = plt.subplots(figsize=(12, 7))\nplt.plot(df_ecuacovid.created_at, df_ecuacovid.hospitalizadas_altas)\nplt.plot(df_ecuacovid.created_at, df_ecuacovid.hospitalizadas_estables)\nplt.plot(df_ecuacovid.created_at, df_ecuacovid.hospitalizadas_pronostico_reservadas)\nplt.title('Hospitalization', size=18)\nplt.xlabel('Date')\nplt.ylabel('Hospitalization')\nplt.legend(['Hospital discharge', 'Stable hospitalized', 'Reserved forecast'])\nplt.show()",
   "execution_count": null,
   "outputs": [
    {
     "data": {
      "text/plain": "<Figure size 864x504 with 1 Axes>",
      "image/png": "[encoded data removed]"
     },
     "metadata": {
      "image/png": {
       "width": 763,
       "height": 451
      }
     },
     "output_type": "display_data"
    }
   ]
  },
  {
   "cell_type": "markdown",
   "source": "<a style='text-decoration:none;line-height:16px;display:flex;color:#5B5B62;padding:10px;justify-content:end;' href='https://deepnote.com?utm_source=created-in-deepnote-cell&projectId=298bb443-d8b3-4731-ae95-ca4418ea078f' target=\"_blank\">\n<img alt='Created in deepnote.com' style='display:inline;max-height:16px;margin:0px;margin-right:7.5px;' src='data:image/svg+xml;base64,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' > </img>\nCreated in <span style='font-weight:600;margin-left:4px;'>Deepnote</span></a>",
   "metadata": {
    "tags": [],
    "created_in_deepnote_cell": true,
    "deepnote_cell_type": "markdown"
   }
  }
 ],
 "nbformat": 4,
 "nbformat_minor": 2,
 "metadata": {
  "orig_nbformat": 2,
  "deepnote": {
   "is_reactive": false
  },
  "deepnote_notebook_id": "770cbc12-e459-4658-a526-d04591d624b4",
  "deepnote_execution_queue": []
 }
}