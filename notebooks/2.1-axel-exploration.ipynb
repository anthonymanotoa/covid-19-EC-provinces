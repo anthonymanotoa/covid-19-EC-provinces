{
 "cells": [
  {
   "cell_type": "markdown",
   "source": "# Exploration: positives per province",
   "metadata": {
    "tags": [],
    "is_collapsed": false,
    "cell_id": "00001-90f2f0a2-1fb6-46a7-a664-dc68119d2f1b",
    "deepnote_cell_type": "text-cell-h1"
   }
  },
  {
   "cell_type": "markdown",
   "source": "Finding the total infections and percentage of the population infected is what I'm doing here. Also I'll plot a correlation matrix.",
   "metadata": {
    "tags": [],
    "cell_id": "00001-5e4bf051-d265-42fc-b25f-01efeffeb573",
    "deepnote_cell_type": "markdown"
   }
  },
  {
   "cell_type": "code",
   "metadata": {
    "tags": [],
    "cell_id": "00001-a0eef526-0b19-4683-acf1-752692af7634",
    "deepnote_to_be_reexecuted": false,
    "source_hash": "2f19d1f9",
    "execution_start": 1638805990191,
    "execution_millis": 24,
    "deepnote_cell_type": "code"
   },
   "source": "%load_ext autoreload\n%autoreload 2",
   "execution_count": null,
   "outputs": []
  },
  {
   "cell_type": "code",
   "metadata": {
    "tags": [],
    "cell_id": "00002-7153dfc3-bfcc-401a-adf8-1effb3dab7f3",
    "deepnote_to_be_reexecuted": false,
    "source_hash": "c516df8c",
    "execution_start": 1639669776020,
    "execution_millis": 4115,
    "deepnote_cell_type": "code"
   },
   "source": "#libs\nimport pandas as pd\nimport numpy as np\nimport matplotlib.pyplot as plt\nimport seaborn as sns",
   "execution_count": null,
   "outputs": []
  },
  {
   "cell_type": "code",
   "metadata": {
    "tags": [],
    "cell_id": "00003-d92b9b4a-3a00-4af1-8d37-ec930a70e6cd",
    "deepnote_to_be_reexecuted": false,
    "source_hash": "9f3704f8",
    "execution_start": 1639669782641,
    "execution_millis": 47,
    "deepnote_cell_type": "code"
   },
   "source": "df_positives = pd.read_csv('/work/covid-19_ecuador/data/processed/positives.csv')",
   "execution_count": null,
   "outputs": []
  },
  {
   "cell_type": "code",
   "metadata": {
    "tags": [],
    "cell_id": "00004-b7de20f5-1af9-4ed6-84e9-5500b7c985f4",
    "deepnote_to_be_reexecuted": false,
    "source_hash": "ebbd18ea",
    "execution_start": 1639669790325,
    "execution_millis": 491,
    "deepnote_output_heights": [
     382.1875
    ],
    "deepnote_cell_type": "code"
   },
   "source": "df_positives",
   "execution_count": null,
   "outputs": [
    {
     "output_type": "execute_result",
     "execution_count": 3,
     "data": {
      "application/vnd.deepnote.dataframe.v3+json": {
       "column_count": 7,
       "row_count": 15096,
       "columns": [
        {
         "name": "created_at",
         "dtype": "object",
         "stats": {
          "unique_count": 629,
          "nan_count": 0,
          "categories": [
           {
            "name": "2020-03-13",
            "count": 24
           },
           {
            "name": "2020-03-14",
            "count": 24
           },
           {
            "name": "627 others",
            "count": 15048
           }
          ]
         }
        },
        {
         "name": "provincia",
         "dtype": "object",
         "stats": {
          "unique_count": 24,
          "nan_count": 0,
          "categories": [
           {
            "name": "Azuay",
            "count": 629
           },
           {
            "name": "Bolívar",
            "count": 629
           },
           {
            "name": "22 others",
            "count": 13838
           }
          ]
         }
        },
        {
         "name": "poblacion",
         "dtype": "int64",
         "stats": {
          "unique_count": 24,
          "nan_count": 0,
          "min": "33042",
          "max": "4387434",
          "histogram": [
           {
            "bin_start": 33042,
            "bin_end": 468481.2,
            "count": 6919
           },
           {
            "bin_start": 468481.2,
            "bin_end": 903920.4,
            "count": 5661
           },
           {
            "bin_start": 903920.4,
            "bin_end": 1339359.6,
            "count": 629
           },
           {
            "bin_start": 1339359.6,
            "bin_end": 1774798.8,
            "count": 629
           },
           {
            "bin_start": 1774798.8,
            "bin_end": 2210238,
            "count": 0
           },
           {
            "bin_start": 2210238,
            "bin_end": 2645677.2,
            "count": 0
           },
           {
            "bin_start": 2645677.2,
            "bin_end": 3081116.4,
            "count": 0
           },
           {
            "bin_start": 3081116.4,
            "bin_end": 3516555.6,
            "count": 629
           },
           {
            "bin_start": 3516555.6,
            "bin_end": 3951994.8000000003,
            "count": 0
           },
           {
            "bin_start": 3951994.8000000003,
            "bin_end": 4387434,
            "count": 629
           }
          ]
         }
        },
        {
         "name": "total",
         "dtype": "int64",
         "stats": {
          "unique_count": 8766,
          "nan_count": 0,
          "min": "0",
          "max": "196301",
          "histogram": [
           {
            "bin_start": 0,
            "bin_end": 19630.1,
            "count": 13461
           },
           {
            "bin_start": 19630.1,
            "bin_end": 39260.2,
            "count": 947
           },
           {
            "bin_start": 39260.2,
            "bin_end": 58890.299999999996,
            "count": 116
           },
           {
            "bin_start": 58890.299999999996,
            "bin_end": 78520.4,
            "count": 249
           },
           {
            "bin_start": 78520.4,
            "bin_end": 98150.5,
            "count": 43
           },
           {
            "bin_start": 98150.5,
            "bin_end": 117780.59999999999,
            "count": 41
           },
           {
            "bin_start": 117780.59999999999,
            "bin_end": 137410.69999999998,
            "count": 28
           },
           {
            "bin_start": 137410.69999999998,
            "bin_end": 157040.8,
            "count": 42
           },
           {
            "bin_start": 157040.8,
            "bin_end": 176670.9,
            "count": 50
           },
           {
            "bin_start": 176670.9,
            "bin_end": 196301,
            "count": 119
           }
          ]
         }
        },
        {
         "name": "nuevas",
         "dtype": "int64",
         "stats": {
          "unique_count": 523,
          "nan_count": 0,
          "min": "0",
          "max": "3388",
          "histogram": [
           {
            "bin_start": 0,
            "bin_end": 338.8,
            "count": 14847
           },
           {
            "bin_start": 338.8,
            "bin_end": 677.6,
            "count": 156
           },
           {
            "bin_start": 677.6,
            "bin_end": 1016.4000000000001,
            "count": 55
           },
           {
            "bin_start": 1016.4000000000001,
            "bin_end": 1355.2,
            "count": 18
           },
           {
            "bin_start": 1355.2,
            "bin_end": 1694,
            "count": 13
           },
           {
            "bin_start": 1694,
            "bin_end": 2032.8000000000002,
            "count": 4
           },
           {
            "bin_start": 2032.8000000000002,
            "bin_end": 2371.6,
            "count": 0
           },
           {
            "bin_start": 2371.6,
            "bin_end": 2710.4,
            "count": 2
           },
           {
            "bin_start": 2710.4,
            "bin_end": 3049.2000000000003,
            "count": 0
           },
           {
            "bin_start": 3049.2000000000003,
            "bin_end": 3388,
            "count": 1
           }
          ]
         }
        },
        {
         "name": "lat",
         "dtype": "float64",
         "stats": {
          "unique_count": 24,
          "nan_count": 0,
          "min": "-4.12",
          "max": "1.05",
          "histogram": [
           {
            "bin_start": -4.12,
            "bin_end": -3.603,
            "count": 1258
           },
           {
            "bin_start": -3.603,
            "bin_end": -3.0860000000000003,
            "count": 629
           },
           {
            "bin_start": -3.0860000000000003,
            "bin_end": -2.569,
            "count": 1258
           },
           {
            "bin_start": -2.569,
            "bin_end": -2.052,
            "count": 1887
           },
           {
            "bin_start": -2.052,
            "bin_end": -1.5350000000000001,
            "count": 1887
           },
           {
            "bin_start": -1.5350000000000001,
            "bin_end": -1.0179999999999998,
            "count": 1887
           },
           {
            "bin_start": -1.0179999999999998,
            "bin_end": -0.5009999999999999,
            "count": 1887
           },
           {
            "bin_start": -0.5009999999999999,
            "bin_end": 0.016000000000000014,
            "count": 1887
           },
           {
            "bin_start": 0.016000000000000014,
            "bin_end": 0.5330000000000004,
            "count": 1258
           },
           {
            "bin_start": 0.5330000000000004,
            "bin_end": 1.05,
            "count": 1258
           }
          ]
         }
        },
        {
         "name": "lng",
         "dtype": "float64"
        },
        {
         "name": "_deepnote_index_column",
         "dtype": "int64"
        }
       ],
       "rows": [
        {
         "created_at": "2020-03-13",
         "provincia": "Azuay",
         "poblacion": 881394,
         "total": 0,
         "nuevas": 0,
         "lat": -2.897414,
         "lng": -79.004481,
         "_deepnote_index_column": 0
        },
        {
         "created_at": "2020-03-13",
         "provincia": "Bolívar",
         "poblacion": 209933,
         "total": 0,
         "nuevas": 0,
         "lat": -1.605556,
         "lng": -79.003056,
         "_deepnote_index_column": 1
        },
        {
         "created_at": "2020-03-13",
         "provincia": "Carchi",
         "poblacion": 186869,
         "total": 0,
         "nuevas": 0,
         "lat": 0.81218,
         "lng": -77.71633,
         "_deepnote_index_column": 2
        },
        {
         "created_at": "2020-03-13",
         "provincia": "Cañar",
         "poblacion": 281396,
         "total": 0,
         "nuevas": 0,
         "lat": -2.733333,
         "lng": -78.833333,
         "_deepnote_index_column": 3
        },
        {
         "created_at": "2020-03-13",
         "provincia": "Chimborazo",
         "poblacion": 524004,
         "total": 0,
         "nuevas": 0,
         "lat": -1.674347,
         "lng": -78.648294,
         "_deepnote_index_column": 4
        },
        {
         "created_at": "2020-03-13",
         "provincia": "Cotopaxi",
         "poblacion": 488716,
         "total": 0,
         "nuevas": 0,
         "lat": -0.933333,
         "lng": -78.616667,
         "_deepnote_index_column": 5
        },
        {
         "created_at": "2020-03-13",
         "provincia": "El Oro",
         "poblacion": 715751,
         "total": 0,
         "nuevas": 0,
         "lat": -3.266667,
         "lng": -79.966667,
         "_deepnote_index_column": 6
        },
        {
         "created_at": "2020-03-13",
         "provincia": "Esmeraldas",
         "poblacion": 591083,
         "total": 0,
         "nuevas": 0,
         "lat": 1.05,
         "lng": -79.2,
         "_deepnote_index_column": 7
        },
        {
         "created_at": "2020-03-13",
         "provincia": "Galápagos",
         "poblacion": 33042,
         "total": 0,
         "nuevas": 0,
         "lat": -0.7999999999999999,
         "lng": -89.4,
         "_deepnote_index_column": 8
        },
        {
         "created_at": "2020-03-13",
         "provincia": "Guayas",
         "poblacion": 4387434,
         "total": 7,
         "nuevas": 7,
         "lat": -2.183333,
         "lng": -79.883333,
         "_deepnote_index_column": 9
        }
       ]
      },
      "text/plain": "       created_at               provincia  poblacion  total  nuevas       lat  \\\n0      2020-03-13                   Azuay     881394      0       0 -2.897414   \n1      2020-03-13                 Bolívar     209933      0       0 -1.605556   \n2      2020-03-13                  Carchi     186869      0       0  0.812180   \n3      2020-03-13                   Cañar     281396      0       0 -2.733333   \n4      2020-03-13              Chimborazo     524004      0       0 -1.674347   \n...           ...                     ...        ...    ...     ...       ...   \n15091  2021-12-01             Santa Elena     401178   4602       3 -2.226700   \n15092  2021-12-01  Sto. Domingo Tsáchilas     511151  12639      18 -0.254167   \n15093  2021-12-01               Sucumbíos     230503   6391      20  0.084722   \n15094  2021-12-01              Tungurahua     590600  16186       5 -1.241667   \n15095  2021-12-01        Zamora Chinchipe     120416   3156       3 -4.120000   \n\n             lng  \n0     -79.004481  \n1     -79.003056  \n2     -77.716330  \n3     -78.833333  \n4     -78.648294  \n...          ...  \n15091 -80.858300  \n15092 -79.171944  \n15093 -76.882778  \n15094 -78.619722  \n15095 -78.800000  \n\n[15096 rows x 7 columns]",
      "text/html": "<div>\n<style scoped>\n    .dataframe tbody tr th:only-of-type {\n        vertical-align: middle;\n    }\n\n    .dataframe tbody tr th {\n        vertical-align: top;\n    }\n\n    .dataframe thead th {\n        text-align: right;\n    }\n</style>\n<table border=\"1\" class=\"dataframe\">\n  <thead>\n    <tr style=\"text-align: right;\">\n      <th></th>\n      <th>created_at</th>\n      <th>provincia</th>\n      <th>poblacion</th>\n      <th>total</th>\n      <th>nuevas</th>\n      <th>lat</th>\n      <th>lng</th>\n    </tr>\n  </thead>\n  <tbody>\n    <tr>\n      <th>0</th>\n      <td>2020-03-13</td>\n      <td>Azuay</td>\n      <td>881394</td>\n      <td>0</td>\n      <td>0</td>\n      <td>-2.897414</td>\n      <td>-79.004481</td>\n    </tr>\n    <tr>\n      <th>1</th>\n      <td>2020-03-13</td>\n      <td>Bolívar</td>\n      <td>209933</td>\n      <td>0</td>\n      <td>0</td>\n      <td>-1.605556</td>\n      <td>-79.003056</td>\n    </tr>\n    <tr>\n      <th>2</th>\n      <td>2020-03-13</td>\n      <td>Carchi</td>\n      <td>186869</td>\n      <td>0</td>\n      <td>0</td>\n      <td>0.812180</td>\n      <td>-77.716330</td>\n    </tr>\n    <tr>\n      <th>3</th>\n      <td>2020-03-13</td>\n      <td>Cañar</td>\n      <td>281396</td>\n      <td>0</td>\n      <td>0</td>\n      <td>-2.733333</td>\n      <td>-78.833333</td>\n    </tr>\n    <tr>\n      <th>4</th>\n      <td>2020-03-13</td>\n      <td>Chimborazo</td>\n      <td>524004</td>\n      <td>0</td>\n      <td>0</td>\n      <td>-1.674347</td>\n      <td>-78.648294</td>\n    </tr>\n    <tr>\n      <th>...</th>\n      <td>...</td>\n      <td>...</td>\n      <td>...</td>\n      <td>...</td>\n      <td>...</td>\n      <td>...</td>\n      <td>...</td>\n    </tr>\n    <tr>\n      <th>15091</th>\n      <td>2021-12-01</td>\n      <td>Santa Elena</td>\n      <td>401178</td>\n      <td>4602</td>\n      <td>3</td>\n      <td>-2.226700</td>\n      <td>-80.858300</td>\n    </tr>\n    <tr>\n      <th>15092</th>\n      <td>2021-12-01</td>\n      <td>Sto. Domingo Tsáchilas</td>\n      <td>511151</td>\n      <td>12639</td>\n      <td>18</td>\n      <td>-0.254167</td>\n      <td>-79.171944</td>\n    </tr>\n    <tr>\n      <th>15093</th>\n      <td>2021-12-01</td>\n      <td>Sucumbíos</td>\n      <td>230503</td>\n      <td>6391</td>\n      <td>20</td>\n      <td>0.084722</td>\n      <td>-76.882778</td>\n    </tr>\n    <tr>\n      <th>15094</th>\n      <td>2021-12-01</td>\n      <td>Tungurahua</td>\n      <td>590600</td>\n      <td>16186</td>\n      <td>5</td>\n      <td>-1.241667</td>\n      <td>-78.619722</td>\n    </tr>\n    <tr>\n      <th>15095</th>\n      <td>2021-12-01</td>\n      <td>Zamora Chinchipe</td>\n      <td>120416</td>\n      <td>3156</td>\n      <td>3</td>\n      <td>-4.120000</td>\n      <td>-78.800000</td>\n    </tr>\n  </tbody>\n</table>\n<p>15096 rows × 7 columns</p>\n</div>"
     },
     "metadata": {}
    }
   ]
  },
  {
   "cell_type": "code",
   "metadata": {
    "tags": [],
    "cell_id": "00005-2fe68032-cfb9-4ef5-88d7-44278102b212",
    "deepnote_to_be_reexecuted": false,
    "source_hash": "23a02e74",
    "execution_start": 1639669800402,
    "execution_millis": 7,
    "deepnote_output_heights": [
     155.53125
    ],
    "deepnote_cell_type": "code"
   },
   "source": "df_positives.dtypes",
   "execution_count": null,
   "outputs": [
    {
     "output_type": "execute_result",
     "execution_count": 4,
     "data": {
      "text/plain": "created_at     object\nprovincia      object\npoblacion       int64\ntotal           int64\nnuevas          int64\nlat           float64\nlng           float64\ndtype: object"
     },
     "metadata": {}
    }
   ]
  },
  {
   "cell_type": "code",
   "metadata": {
    "tags": [],
    "cell_id": "00006-f63f0d69-5568-4e80-8e4f-c627c9bfcec8",
    "deepnote_to_be_reexecuted": false,
    "source_hash": "8028bb5b",
    "execution_start": 1639669803154,
    "execution_millis": 7,
    "deepnote_cell_type": "code"
   },
   "source": "df_positives['created_at'] = pd.to_datetime(df_positives['created_at'])",
   "execution_count": null,
   "outputs": []
  },
  {
   "cell_type": "code",
   "metadata": {
    "tags": [],
    "cell_id": "00007-d836e0f8-ac40-45de-86f0-53bc9498d11d",
    "deepnote_to_be_reexecuted": false,
    "source_hash": "37dcacfc",
    "execution_start": 1639669917051,
    "execution_millis": 1,
    "deepnote_output_heights": [
     232.3125
    ],
    "deepnote_cell_type": "code"
   },
   "source": "df_positives['year'] = df_positives['created_at'].dt.year\ndf_positives['month'] = df_positives['created_at'].dt.month\ndf_positives['day'] = df_positives['created_at'].dt.day\ndf_positives['day_of_week'] = df_positives['created_at'].dt.day_of_week\ndf_positives['quarter'] = df_positives['created_at'].dt.quarter",
   "execution_count": null,
   "outputs": []
  },
  {
   "cell_type": "code",
   "metadata": {
    "tags": [],
    "cell_id": "00008-bb7c1853-5871-4d45-87c6-eca89f954de3",
    "deepnote_to_be_reexecuted": false,
    "source_hash": "8273a1d6",
    "execution_start": 1639669964147,
    "execution_millis": 1,
    "deepnote_cell_type": "code"
   },
   "source": "df_positives.set_index('created_at', inplace=True)",
   "execution_count": null,
   "outputs": []
  },
  {
   "cell_type": "code",
   "metadata": {
    "tags": [],
    "cell_id": "00009-61830b2e-a28b-41e0-8a08-c5f1b385c590",
    "deepnote_to_be_reexecuted": false,
    "source_hash": "abc0127d",
    "execution_start": 1638808351645,
    "execution_millis": 2459,
    "deepnote_cell_type": "code"
   },
   "source": "df_positives.to_csv('/work/covid-19_ecuador/data/interim/positives.csv')",
   "execution_count": null,
   "outputs": []
  },
  {
   "cell_type": "code",
   "metadata": {
    "tags": [],
    "cell_id": "00010-5e267a51-3b72-4e7d-b6d5-da561829df4f",
    "deepnote_to_be_reexecuted": false,
    "source_hash": "ebbd18ea",
    "execution_start": 1639669966339,
    "execution_millis": 352,
    "deepnote_output_heights": [
     411.1875
    ],
    "deepnote_cell_type": "code"
   },
   "source": "df_positives",
   "execution_count": null,
   "outputs": [
    {
     "output_type": "execute_result",
     "execution_count": 8,
     "data": {
      "application/vnd.deepnote.dataframe.v3+json": {
       "column_count": 11,
       "row_count": 15096,
       "columns": [
        {
         "name": "provincia",
         "dtype": "object",
         "stats": {
          "unique_count": 24,
          "nan_count": 0,
          "categories": [
           {
            "name": "Azuay",
            "count": 629
           },
           {
            "name": "Bolívar",
            "count": 629
           },
           {
            "name": "22 others",
            "count": 13838
           }
          ]
         }
        },
        {
         "name": "poblacion",
         "dtype": "int64",
         "stats": {
          "unique_count": 24,
          "nan_count": 0,
          "min": "33042",
          "max": "4387434",
          "histogram": [
           {
            "bin_start": 33042,
            "bin_end": 468481.2,
            "count": 6919
           },
           {
            "bin_start": 468481.2,
            "bin_end": 903920.4,
            "count": 5661
           },
           {
            "bin_start": 903920.4,
            "bin_end": 1339359.6,
            "count": 629
           },
           {
            "bin_start": 1339359.6,
            "bin_end": 1774798.8,
            "count": 629
           },
           {
            "bin_start": 1774798.8,
            "bin_end": 2210238,
            "count": 0
           },
           {
            "bin_start": 2210238,
            "bin_end": 2645677.2,
            "count": 0
           },
           {
            "bin_start": 2645677.2,
            "bin_end": 3081116.4,
            "count": 0
           },
           {
            "bin_start": 3081116.4,
            "bin_end": 3516555.6,
            "count": 629
           },
           {
            "bin_start": 3516555.6,
            "bin_end": 3951994.8000000003,
            "count": 0
           },
           {
            "bin_start": 3951994.8000000003,
            "bin_end": 4387434,
            "count": 629
           }
          ]
         }
        },
        {
         "name": "total",
         "dtype": "int64",
         "stats": {
          "unique_count": 8766,
          "nan_count": 0,
          "min": "0",
          "max": "196301",
          "histogram": [
           {
            "bin_start": 0,
            "bin_end": 19630.1,
            "count": 13461
           },
           {
            "bin_start": 19630.1,
            "bin_end": 39260.2,
            "count": 947
           },
           {
            "bin_start": 39260.2,
            "bin_end": 58890.299999999996,
            "count": 116
           },
           {
            "bin_start": 58890.299999999996,
            "bin_end": 78520.4,
            "count": 249
           },
           {
            "bin_start": 78520.4,
            "bin_end": 98150.5,
            "count": 43
           },
           {
            "bin_start": 98150.5,
            "bin_end": 117780.59999999999,
            "count": 41
           },
           {
            "bin_start": 117780.59999999999,
            "bin_end": 137410.69999999998,
            "count": 28
           },
           {
            "bin_start": 137410.69999999998,
            "bin_end": 157040.8,
            "count": 42
           },
           {
            "bin_start": 157040.8,
            "bin_end": 176670.9,
            "count": 50
           },
           {
            "bin_start": 176670.9,
            "bin_end": 196301,
            "count": 119
           }
          ]
         }
        },
        {
         "name": "nuevas",
         "dtype": "int64",
         "stats": {
          "unique_count": 523,
          "nan_count": 0,
          "min": "0",
          "max": "3388",
          "histogram": [
           {
            "bin_start": 0,
            "bin_end": 338.8,
            "count": 14847
           },
           {
            "bin_start": 338.8,
            "bin_end": 677.6,
            "count": 156
           },
           {
            "bin_start": 677.6,
            "bin_end": 1016.4000000000001,
            "count": 55
           },
           {
            "bin_start": 1016.4000000000001,
            "bin_end": 1355.2,
            "count": 18
           },
           {
            "bin_start": 1355.2,
            "bin_end": 1694,
            "count": 13
           },
           {
            "bin_start": 1694,
            "bin_end": 2032.8000000000002,
            "count": 4
           },
           {
            "bin_start": 2032.8000000000002,
            "bin_end": 2371.6,
            "count": 0
           },
           {
            "bin_start": 2371.6,
            "bin_end": 2710.4,
            "count": 2
           },
           {
            "bin_start": 2710.4,
            "bin_end": 3049.2000000000003,
            "count": 0
           },
           {
            "bin_start": 3049.2000000000003,
            "bin_end": 3388,
            "count": 1
           }
          ]
         }
        },
        {
         "name": "lat",
         "dtype": "float64",
         "stats": {
          "unique_count": 24,
          "nan_count": 0,
          "min": "-4.12",
          "max": "1.05",
          "histogram": [
           {
            "bin_start": -4.12,
            "bin_end": -3.603,
            "count": 1258
           },
           {
            "bin_start": -3.603,
            "bin_end": -3.0860000000000003,
            "count": 629
           },
           {
            "bin_start": -3.0860000000000003,
            "bin_end": -2.569,
            "count": 1258
           },
           {
            "bin_start": -2.569,
            "bin_end": -2.052,
            "count": 1887
           },
           {
            "bin_start": -2.052,
            "bin_end": -1.5350000000000001,
            "count": 1887
           },
           {
            "bin_start": -1.5350000000000001,
            "bin_end": -1.0179999999999998,
            "count": 1887
           },
           {
            "bin_start": -1.0179999999999998,
            "bin_end": -0.5009999999999999,
            "count": 1887
           },
           {
            "bin_start": -0.5009999999999999,
            "bin_end": 0.016000000000000014,
            "count": 1887
           },
           {
            "bin_start": 0.016000000000000014,
            "bin_end": 0.5330000000000004,
            "count": 1258
           },
           {
            "bin_start": 0.5330000000000004,
            "bin_end": 1.05,
            "count": 1258
           }
          ]
         }
        },
        {
         "name": "lng",
         "dtype": "float64",
         "stats": {
          "unique_count": 23,
          "nan_count": 0,
          "min": "-89.4",
          "max": "-76.882778",
          "histogram": [
           {
            "bin_start": -89.4,
            "bin_end": -88.1482778,
            "count": 629
           },
           {
            "bin_start": -88.1482778,
            "bin_end": -86.8965556,
            "count": 0
           },
           {
            "bin_start": -86.8965556,
            "bin_end": -85.64483340000001,
            "count": 0
           },
           {
            "bin_start": -85.64483340000001,
            "bin_end": -84.3931112,
            "count": 0
           },
           {
            "bin_start": -84.3931112,
            "bin_end": -83.141389,
            "count": 0
           },
           {
            "bin_start": -83.141389,
            "bin_end": -81.8896668,
            "count": 0
           },
           {
            "bin_start": -81.8896668,
            "bin_end": -80.6379446,
            "count": 629
           },
           {
            "bin_start": -80.6379446,
            "bin_end": -79.38622240000001,
            "count": 2516
           },
           {
            "bin_start": -79.38622240000001,
            "bin_end": -78.1345002,
            "count": 6919
           },
           {
            "bin_start": -78.1345002,
            "bin_end": -76.882778,
            "count": 4403
           }
          ]
         }
        },
        {
         "name": "year",
         "dtype": "int64"
        },
        {
         "name": "month",
         "dtype": "int64"
        },
        {
         "name": "day",
         "dtype": "int64"
        },
        {
         "name": "day_of_week",
         "dtype": "int64"
        },
        {
         "name": "quarter",
         "dtype": "int64"
        },
        {
         "name": "_deepnote_index_column",
         "dtype": "datetime64[ns]"
        }
       ],
       "rows": [
        {
         "provincia": "Azuay",
         "poblacion": 881394,
         "total": 0,
         "nuevas": 0,
         "lat": -2.897414,
         "lng": -79.004481,
         "year": 2020,
         "month": 3,
         "day": 13,
         "day_of_week": 4,
         "quarter": 1,
         "_deepnote_index_column": "2020-03-13T00:00:00.000000"
        },
        {
         "provincia": "Bolívar",
         "poblacion": 209933,
         "total": 0,
         "nuevas": 0,
         "lat": -1.605556,
         "lng": -79.003056,
         "year": 2020,
         "month": 3,
         "day": 13,
         "day_of_week": 4,
         "quarter": 1,
         "_deepnote_index_column": "2020-03-13T00:00:00.000000"
        },
        {
         "provincia": "Carchi",
         "poblacion": 186869,
         "total": 0,
         "nuevas": 0,
         "lat": 0.81218,
         "lng": -77.71633,
         "year": 2020,
         "month": 3,
         "day": 13,
         "day_of_week": 4,
         "quarter": 1,
         "_deepnote_index_column": "2020-03-13T00:00:00.000000"
        },
        {
         "provincia": "Cañar",
         "poblacion": 281396,
         "total": 0,
         "nuevas": 0,
         "lat": -2.733333,
         "lng": -78.833333,
         "year": 2020,
         "month": 3,
         "day": 13,
         "day_of_week": 4,
         "quarter": 1,
         "_deepnote_index_column": "2020-03-13T00:00:00.000000"
        },
        {
         "provincia": "Chimborazo",
         "poblacion": 524004,
         "total": 0,
         "nuevas": 0,
         "lat": -1.674347,
         "lng": -78.648294,
         "year": 2020,
         "month": 3,
         "day": 13,
         "day_of_week": 4,
         "quarter": 1,
         "_deepnote_index_column": "2020-03-13T00:00:00.000000"
        },
        {
         "provincia": "Cotopaxi",
         "poblacion": 488716,
         "total": 0,
         "nuevas": 0,
         "lat": -0.933333,
         "lng": -78.616667,
         "year": 2020,
         "month": 3,
         "day": 13,
         "day_of_week": 4,
         "quarter": 1,
         "_deepnote_index_column": "2020-03-13T00:00:00.000000"
        },
        {
         "provincia": "El Oro",
         "poblacion": 715751,
         "total": 0,
         "nuevas": 0,
         "lat": -3.266667,
         "lng": -79.966667,
         "year": 2020,
         "month": 3,
         "day": 13,
         "day_of_week": 4,
         "quarter": 1,
         "_deepnote_index_column": "2020-03-13T00:00:00.000000"
        },
        {
         "provincia": "Esmeraldas",
         "poblacion": 591083,
         "total": 0,
         "nuevas": 0,
         "lat": 1.05,
         "lng": -79.2,
         "year": 2020,
         "month": 3,
         "day": 13,
         "day_of_week": 4,
         "quarter": 1,
         "_deepnote_index_column": "2020-03-13T00:00:00.000000"
        },
        {
         "provincia": "Galápagos",
         "poblacion": 33042,
         "total": 0,
         "nuevas": 0,
         "lat": -0.7999999999999999,
         "lng": -89.4,
         "year": 2020,
         "month": 3,
         "day": 13,
         "day_of_week": 4,
         "quarter": 1,
         "_deepnote_index_column": "2020-03-13T00:00:00.000000"
        },
        {
         "provincia": "Guayas",
         "poblacion": 4387434,
         "total": 7,
         "nuevas": 7,
         "lat": -2.183333,
         "lng": -79.883333,
         "year": 2020,
         "month": 3,
         "day": 13,
         "day_of_week": 4,
         "quarter": 1,
         "_deepnote_index_column": "2020-03-13T00:00:00.000000"
        }
       ]
      },
      "text/plain": "                         provincia  poblacion  total  nuevas       lat  \\\ncreated_at                                                               \n2020-03-13                   Azuay     881394      0       0 -2.897414   \n2020-03-13                 Bolívar     209933      0       0 -1.605556   \n2020-03-13                  Carchi     186869      0       0  0.812180   \n2020-03-13                   Cañar     281396      0       0 -2.733333   \n2020-03-13              Chimborazo     524004      0       0 -1.674347   \n...                            ...        ...    ...     ...       ...   \n2021-12-01             Santa Elena     401178   4602       3 -2.226700   \n2021-12-01  Sto. Domingo Tsáchilas     511151  12639      18 -0.254167   \n2021-12-01               Sucumbíos     230503   6391      20  0.084722   \n2021-12-01              Tungurahua     590600  16186       5 -1.241667   \n2021-12-01        Zamora Chinchipe     120416   3156       3 -4.120000   \n\n                  lng  year  month  day  day_of_week  quarter  \ncreated_at                                                     \n2020-03-13 -79.004481  2020      3   13            4        1  \n2020-03-13 -79.003056  2020      3   13            4        1  \n2020-03-13 -77.716330  2020      3   13            4        1  \n2020-03-13 -78.833333  2020      3   13            4        1  \n2020-03-13 -78.648294  2020      3   13            4        1  \n...               ...   ...    ...  ...          ...      ...  \n2021-12-01 -80.858300  2021     12    1            2        4  \n2021-12-01 -79.171944  2021     12    1            2        4  \n2021-12-01 -76.882778  2021     12    1            2        4  \n2021-12-01 -78.619722  2021     12    1            2        4  \n2021-12-01 -78.800000  2021     12    1            2        4  \n\n[15096 rows x 11 columns]",
      "text/html": "<div>\n<style scoped>\n    .dataframe tbody tr th:only-of-type {\n        vertical-align: middle;\n    }\n\n    .dataframe tbody tr th {\n        vertical-align: top;\n    }\n\n    .dataframe thead th {\n        text-align: right;\n    }\n</style>\n<table border=\"1\" class=\"dataframe\">\n  <thead>\n    <tr style=\"text-align: right;\">\n      <th></th>\n      <th>provincia</th>\n      <th>poblacion</th>\n      <th>total</th>\n      <th>nuevas</th>\n      <th>lat</th>\n      <th>lng</th>\n      <th>year</th>\n      <th>month</th>\n      <th>day</th>\n      <th>day_of_week</th>\n      <th>quarter</th>\n    </tr>\n    <tr>\n      <th>created_at</th>\n      <th></th>\n      <th></th>\n      <th></th>\n      <th></th>\n      <th></th>\n      <th></th>\n      <th></th>\n      <th></th>\n      <th></th>\n      <th></th>\n      <th></th>\n    </tr>\n  </thead>\n  <tbody>\n    <tr>\n      <th>2020-03-13</th>\n      <td>Azuay</td>\n      <td>881394</td>\n      <td>0</td>\n      <td>0</td>\n      <td>-2.897414</td>\n      <td>-79.004481</td>\n      <td>2020</td>\n      <td>3</td>\n      <td>13</td>\n      <td>4</td>\n      <td>1</td>\n    </tr>\n    <tr>\n      <th>2020-03-13</th>\n      <td>Bolívar</td>\n      <td>209933</td>\n      <td>0</td>\n      <td>0</td>\n      <td>-1.605556</td>\n      <td>-79.003056</td>\n      <td>2020</td>\n      <td>3</td>\n      <td>13</td>\n      <td>4</td>\n      <td>1</td>\n    </tr>\n    <tr>\n      <th>2020-03-13</th>\n      <td>Carchi</td>\n      <td>186869</td>\n      <td>0</td>\n      <td>0</td>\n      <td>0.812180</td>\n      <td>-77.716330</td>\n      <td>2020</td>\n      <td>3</td>\n      <td>13</td>\n      <td>4</td>\n      <td>1</td>\n    </tr>\n    <tr>\n      <th>2020-03-13</th>\n      <td>Cañar</td>\n      <td>281396</td>\n      <td>0</td>\n      <td>0</td>\n      <td>-2.733333</td>\n      <td>-78.833333</td>\n      <td>2020</td>\n      <td>3</td>\n      <td>13</td>\n      <td>4</td>\n      <td>1</td>\n    </tr>\n    <tr>\n      <th>2020-03-13</th>\n      <td>Chimborazo</td>\n      <td>524004</td>\n      <td>0</td>\n      <td>0</td>\n      <td>-1.674347</td>\n      <td>-78.648294</td>\n      <td>2020</td>\n      <td>3</td>\n      <td>13</td>\n      <td>4</td>\n      <td>1</td>\n    </tr>\n    <tr>\n      <th>...</th>\n      <td>...</td>\n      <td>...</td>\n      <td>...</td>\n      <td>...</td>\n      <td>...</td>\n      <td>...</td>\n      <td>...</td>\n      <td>...</td>\n      <td>...</td>\n      <td>...</td>\n      <td>...</td>\n    </tr>\n    <tr>\n      <th>2021-12-01</th>\n      <td>Santa Elena</td>\n      <td>401178</td>\n      <td>4602</td>\n      <td>3</td>\n      <td>-2.226700</td>\n      <td>-80.858300</td>\n      <td>2021</td>\n      <td>12</td>\n      <td>1</td>\n      <td>2</td>\n      <td>4</td>\n    </tr>\n    <tr>\n      <th>2021-12-01</th>\n      <td>Sto. Domingo Tsáchilas</td>\n      <td>511151</td>\n      <td>12639</td>\n      <td>18</td>\n      <td>-0.254167</td>\n      <td>-79.171944</td>\n      <td>2021</td>\n      <td>12</td>\n      <td>1</td>\n      <td>2</td>\n      <td>4</td>\n    </tr>\n    <tr>\n      <th>2021-12-01</th>\n      <td>Sucumbíos</td>\n      <td>230503</td>\n      <td>6391</td>\n      <td>20</td>\n      <td>0.084722</td>\n      <td>-76.882778</td>\n      <td>2021</td>\n      <td>12</td>\n      <td>1</td>\n      <td>2</td>\n      <td>4</td>\n    </tr>\n    <tr>\n      <th>2021-12-01</th>\n      <td>Tungurahua</td>\n      <td>590600</td>\n      <td>16186</td>\n      <td>5</td>\n      <td>-1.241667</td>\n      <td>-78.619722</td>\n      <td>2021</td>\n      <td>12</td>\n      <td>1</td>\n      <td>2</td>\n      <td>4</td>\n    </tr>\n    <tr>\n      <th>2021-12-01</th>\n      <td>Zamora Chinchipe</td>\n      <td>120416</td>\n      <td>3156</td>\n      <td>3</td>\n      <td>-4.120000</td>\n      <td>-78.800000</td>\n      <td>2021</td>\n      <td>12</td>\n      <td>1</td>\n      <td>2</td>\n      <td>4</td>\n    </tr>\n  </tbody>\n</table>\n<p>15096 rows × 11 columns</p>\n</div>"
     },
     "metadata": {}
    }
   ]
  },
  {
   "cell_type": "code",
   "metadata": {
    "tags": [],
    "cell_id": "00011-fc0c44c0-fb24-4f56-9088-90b4a17c5f8c",
    "deepnote_to_be_reexecuted": false,
    "source_hash": "7d94d1c4",
    "execution_start": 1638806386885,
    "execution_millis": 702,
    "deepnote_output_heights": [
     264
    ],
    "deepnote_cell_type": "code"
   },
   "source": "df_positives.describe()",
   "execution_count": null,
   "outputs": [
    {
     "output_type": "execute_result",
     "execution_count": 12,
     "data": {
      "application/vnd.deepnote.dataframe.v2+json": {
       "row_count": 8,
       "column_count": 10,
       "columns": [
        {
         "name": "poblacion",
         "dtype": "float64",
         "stats": {
          "unique_count": 8,
          "nan_count": 0,
          "min": "15096.0",
          "max": "4387434.0",
          "histogram": [
           {
            "bin_start": 15096,
            "bin_end": 452329.8,
            "count": 3
           },
           {
            "bin_start": 452329.8,
            "bin_end": 889563.6,
            "count": 3
           },
           {
            "bin_start": 889563.6,
            "bin_end": 1326797.4,
            "count": 1
           },
           {
            "bin_start": 1326797.4,
            "bin_end": 1764031.2,
            "count": 0
           },
           {
            "bin_start": 1764031.2,
            "bin_end": 2201265,
            "count": 0
           },
           {
            "bin_start": 2201265,
            "bin_end": 2638498.8,
            "count": 0
           },
           {
            "bin_start": 2638498.8,
            "bin_end": 3075732.6,
            "count": 0
           },
           {
            "bin_start": 3075732.6,
            "bin_end": 3512966.4,
            "count": 0
           },
           {
            "bin_start": 3512966.4,
            "bin_end": 3950200.1999999997,
            "count": 0
           },
           {
            "bin_start": 3950200.1999999997,
            "bin_end": 4387434,
            "count": 1
           }
          ]
         }
        },
        {
         "name": "total",
         "dtype": "float64",
         "stats": {
          "unique_count": 8,
          "nan_count": 0,
          "min": "0.0",
          "max": "196301.0",
          "histogram": [
           {
            "bin_start": 0,
            "bin_end": 19630.1,
            "count": 6
           },
           {
            "bin_start": 19630.1,
            "bin_end": 39260.2,
            "count": 1
           },
           {
            "bin_start": 39260.2,
            "bin_end": 58890.299999999996,
            "count": 0
           },
           {
            "bin_start": 58890.299999999996,
            "bin_end": 78520.4,
            "count": 0
           },
           {
            "bin_start": 78520.4,
            "bin_end": 98150.5,
            "count": 0
           },
           {
            "bin_start": 98150.5,
            "bin_end": 117780.59999999999,
            "count": 0
           },
           {
            "bin_start": 117780.59999999999,
            "bin_end": 137410.69999999998,
            "count": 0
           },
           {
            "bin_start": 137410.69999999998,
            "bin_end": 157040.8,
            "count": 0
           },
           {
            "bin_start": 157040.8,
            "bin_end": 176670.9,
            "count": 0
           },
           {
            "bin_start": 176670.9,
            "bin_end": 196301,
            "count": 1
           }
          ]
         }
        },
        {
         "name": "nuevas",
         "dtype": "float64",
         "stats": {
          "unique_count": 8,
          "nan_count": 0,
          "min": "0.0",
          "max": "15096.0",
          "histogram": [
           {
            "bin_start": 0,
            "bin_end": 1509.6,
            "count": 6
           },
           {
            "bin_start": 1509.6,
            "bin_end": 3019.2,
            "count": 0
           },
           {
            "bin_start": 3019.2,
            "bin_end": 4528.799999999999,
            "count": 1
           },
           {
            "bin_start": 4528.799999999999,
            "bin_end": 6038.4,
            "count": 0
           },
           {
            "bin_start": 6038.4,
            "bin_end": 7548,
            "count": 0
           },
           {
            "bin_start": 7548,
            "bin_end": 9057.599999999999,
            "count": 0
           },
           {
            "bin_start": 9057.599999999999,
            "bin_end": 10567.199999999999,
            "count": 0
           },
           {
            "bin_start": 10567.199999999999,
            "bin_end": 12076.8,
            "count": 0
           },
           {
            "bin_start": 12076.8,
            "bin_end": 13586.4,
            "count": 0
           },
           {
            "bin_start": 13586.4,
            "bin_end": 15096,
            "count": 1
           }
          ]
         }
        },
        {
         "name": "lat",
         "dtype": "float64",
         "stats": {
          "unique_count": 8,
          "nan_count": 0,
          "min": "-4.12",
          "max": "15096.0",
          "histogram": [
           {
            "bin_start": -4.12,
            "bin_end": 1505.8920000000003,
            "count": 7
           },
           {
            "bin_start": 1505.8920000000003,
            "bin_end": 3015.9040000000005,
            "count": 0
           },
           {
            "bin_start": 3015.9040000000005,
            "bin_end": 4525.916,
            "count": 0
           },
           {
            "bin_start": 4525.916,
            "bin_end": 6035.928000000001,
            "count": 0
           },
           {
            "bin_start": 6035.928000000001,
            "bin_end": 7545.940000000001,
            "count": 0
           },
           {
            "bin_start": 7545.940000000001,
            "bin_end": 9055.952,
            "count": 0
           },
           {
            "bin_start": 9055.952,
            "bin_end": 10565.964,
            "count": 0
           },
           {
            "bin_start": 10565.964,
            "bin_end": 12075.976,
            "count": 0
           },
           {
            "bin_start": 12075.976,
            "bin_end": 13585.988000000001,
            "count": 0
           },
           {
            "bin_start": 13585.988000000001,
            "bin_end": 15096,
            "count": 1
           }
          ]
         }
        },
        {
         "name": "lng",
         "dtype": "float64",
         "stats": {
          "unique_count": 8,
          "nan_count": 0,
          "min": "-89.4",
          "max": "15096.0",
          "histogram": [
           {
            "bin_start": -89.4,
            "bin_end": 1429.1399999999999,
            "count": 7
           },
           {
            "bin_start": 1429.1399999999999,
            "bin_end": 2947.68,
            "count": 0
           },
           {
            "bin_start": 2947.68,
            "bin_end": 4466.22,
            "count": 0
           },
           {
            "bin_start": 4466.22,
            "bin_end": 5984.76,
            "count": 0
           },
           {
            "bin_start": 5984.76,
            "bin_end": 7503.3,
            "count": 0
           },
           {
            "bin_start": 7503.3,
            "bin_end": 9021.84,
            "count": 0
           },
           {
            "bin_start": 9021.84,
            "bin_end": 10540.38,
            "count": 0
           },
           {
            "bin_start": 10540.38,
            "bin_end": 12058.92,
            "count": 0
           },
           {
            "bin_start": 12058.92,
            "bin_end": 13577.460000000001,
            "count": 0
           },
           {
            "bin_start": 13577.460000000001,
            "bin_end": 15096,
            "count": 1
           }
          ]
         }
        },
        {
         "name": "year",
         "dtype": "float64",
         "stats": {
          "unique_count": 5,
          "nan_count": 0,
          "min": "0.49895319527953114",
          "max": "15096.0",
          "histogram": [
           {
            "bin_start": 0.49895319527953114,
            "bin_end": 1510.0490578757515,
            "count": 1
           },
           {
            "bin_start": 1510.0490578757515,
            "bin_end": 3019.5991625562237,
            "count": 6
           },
           {
            "bin_start": 3019.5991625562237,
            "bin_end": 4529.149267236696,
            "count": 0
           },
           {
            "bin_start": 4529.149267236696,
            "bin_end": 6038.699371917168,
            "count": 0
           },
           {
            "bin_start": 6038.699371917168,
            "bin_end": 7548.24947659764,
            "count": 0
           },
           {
            "bin_start": 7548.24947659764,
            "bin_end": 9057.799581278112,
            "count": 0
           },
           {
            "bin_start": 9057.799581278112,
            "bin_end": 10567.349685958585,
            "count": 0
           },
           {
            "bin_start": 10567.349685958585,
            "bin_end": 12076.899790639056,
            "count": 0
           },
           {
            "bin_start": 12076.899790639056,
            "bin_end": 13586.449895319527,
            "count": 0
           },
           {
            "bin_start": 13586.449895319527,
            "bin_end": 15096,
            "count": 1
           }
          ]
         }
        },
        {
         "name": "month",
         "dtype": "float64",
         "stats": {
          "unique_count": 8,
          "nan_count": 0,
          "min": "1.0",
          "max": "15096.0",
          "histogram": [
           {
            "bin_start": 1,
            "bin_end": 1510.5,
            "count": 7
           },
           {
            "bin_start": 1510.5,
            "bin_end": 3020,
            "count": 0
           },
           {
            "bin_start": 3020,
            "bin_end": 4529.5,
            "count": 0
           },
           {
            "bin_start": 4529.5,
            "bin_end": 6039,
            "count": 0
           },
           {
            "bin_start": 6039,
            "bin_end": 7548.5,
            "count": 0
           },
           {
            "bin_start": 7548.5,
            "bin_end": 9058,
            "count": 0
           },
           {
            "bin_start": 9058,
            "bin_end": 10567.5,
            "count": 0
           },
           {
            "bin_start": 10567.5,
            "bin_end": 12077,
            "count": 0
           },
           {
            "bin_start": 12077,
            "bin_end": 13586.5,
            "count": 0
           },
           {
            "bin_start": 13586.5,
            "bin_end": 15096,
            "count": 1
           }
          ]
         }
        },
        {
         "name": "day",
         "dtype": "float64",
         "stats": {
          "unique_count": 8,
          "nan_count": 0,
          "min": "1.0",
          "max": "15096.0",
          "histogram": [
           {
            "bin_start": 1,
            "bin_end": 1510.5,
            "count": 7
           },
           {
            "bin_start": 1510.5,
            "bin_end": 3020,
            "count": 0
           },
           {
            "bin_start": 3020,
            "bin_end": 4529.5,
            "count": 0
           },
           {
            "bin_start": 4529.5,
            "bin_end": 6039,
            "count": 0
           },
           {
            "bin_start": 6039,
            "bin_end": 7548.5,
            "count": 0
           },
           {
            "bin_start": 7548.5,
            "bin_end": 9058,
            "count": 0
           },
           {
            "bin_start": 9058,
            "bin_end": 10567.5,
            "count": 0
           },
           {
            "bin_start": 10567.5,
            "bin_end": 12077,
            "count": 0
           },
           {
            "bin_start": 12077,
            "bin_end": 13586.5,
            "count": 0
           },
           {
            "bin_start": 13586.5,
            "bin_end": 15096,
            "count": 1
           }
          ]
         }
        },
        {
         "name": "quarter",
         "dtype": "float64",
         "stats": {
          "unique_count": 7,
          "nan_count": 0,
          "min": "1.0",
          "max": "15096.0",
          "histogram": [
           {
            "bin_start": 1,
            "bin_end": 1510.5,
            "count": 7
           },
           {
            "bin_start": 1510.5,
            "bin_end": 3020,
            "count": 0
           },
           {
            "bin_start": 3020,
            "bin_end": 4529.5,
            "count": 0
           },
           {
            "bin_start": 4529.5,
            "bin_end": 6039,
            "count": 0
           },
           {
            "bin_start": 6039,
            "bin_end": 7548.5,
            "count": 0
           },
           {
            "bin_start": 7548.5,
            "bin_end": 9058,
            "count": 0
           },
           {
            "bin_start": 9058,
            "bin_end": 10567.5,
            "count": 0
           },
           {
            "bin_start": 10567.5,
            "bin_end": 12077,
            "count": 0
           },
           {
            "bin_start": 12077,
            "bin_end": 13586.5,
            "count": 0
           },
           {
            "bin_start": 13586.5,
            "bin_end": 15096,
            "count": 1
           }
          ]
         }
        },
        {
         "name": "day_of_week",
         "dtype": "float64",
         "stats": {
          "unique_count": 7,
          "nan_count": 0,
          "min": "0.0",
          "max": "15096.0",
          "histogram": [
           {
            "bin_start": 0,
            "bin_end": 1509.6,
            "count": 7
           },
           {
            "bin_start": 1509.6,
            "bin_end": 3019.2,
            "count": 0
           },
           {
            "bin_start": 3019.2,
            "bin_end": 4528.799999999999,
            "count": 0
           },
           {
            "bin_start": 4528.799999999999,
            "bin_end": 6038.4,
            "count": 0
           },
           {
            "bin_start": 6038.4,
            "bin_end": 7548,
            "count": 0
           },
           {
            "bin_start": 7548,
            "bin_end": 9057.599999999999,
            "count": 0
           },
           {
            "bin_start": 9057.599999999999,
            "bin_end": 10567.199999999999,
            "count": 0
           },
           {
            "bin_start": 10567.199999999999,
            "bin_end": 12076.8,
            "count": 0
           },
           {
            "bin_start": 12076.8,
            "bin_end": 13586.4,
            "count": 0
           },
           {
            "bin_start": 13586.4,
            "bin_end": 15096,
            "count": 1
           }
          ]
         }
        },
        {
         "name": "_deepnote_index_column",
         "dtype": "object"
        }
       ],
       "rows_top": [
        {
         "poblacion": 15096,
         "total": 15096,
         "nuevas": 15096,
         "lat": 15096,
         "lng": 15096,
         "year": 15096,
         "month": 15096,
         "day": 15096,
         "quarter": 15096,
         "day_of_week": 15096,
         "_deepnote_index_column": "count"
        },
        {
         "poblacion": 727864,
         "total": 10929.93196873344,
         "nuevas": 35.5862480127186,
         "lat": -1.3961415000000001,
         "lng": -79.22225787500001,
         "year": 2020.5325914149444,
         "month": 6.8060413354531,
         "day": 15.899841017488077,
         "quarter": 2.6089030206677264,
         "day_of_week": 3,
         "_deepnote_index_column": "mean"
        },
        {
         "poblacion": 999821.0205429705,
         "total": 24258.957263364377,
         "nuevas": 110.4092941566819,
         "lat": 1.365530100271895,
         "lng": 2.323672448252196,
         "year": 0.49895319527953114,
         "month": 3.1041124890213982,
         "day": 8.797845800720323,
         "quarter": 1.0365612957798147,
         "day_of_week": 2.001655492378479,
         "_deepnote_index_column": "std"
        },
        {
         "poblacion": 33042,
         "total": 0,
         "nuevas": 0,
         "lat": -4.12,
         "lng": -89.4,
         "year": 2020,
         "month": 1,
         "day": 1,
         "quarter": 1,
         "day_of_week": 0,
         "_deepnote_index_column": "min"
        },
        {
         "poblacion": 194118.5,
         "total": 1589,
         "nuevas": 1,
         "lat": -2.245025,
         "lng": -79.28333325,
         "year": 2020,
         "month": 4,
         "day": 8,
         "quarter": 2,
         "day_of_week": 1,
         "_deepnote_index_column": "25%"
        },
        {
         "poblacion": 482486.5,
         "total": 4159,
         "nuevas": 8,
         "lat": -1.1541670000000002,
         "lng": -78.8166665,
         "year": 2021,
         "month": 7,
         "day": 16,
         "quarter": 3,
         "day_of_week": 3,
         "_deepnote_index_column": "50%"
        },
        {
         "poblacion": 622250,
         "total": 9931,
         "nuevas": 29,
         "lat": -0.413542,
         "lng": -78.127167,
         "year": 2021,
         "month": 9,
         "day": 23,
         "quarter": 3,
         "day_of_week": 5,
         "_deepnote_index_column": "75%"
        },
        {
         "poblacion": 4387434,
         "total": 196301,
         "nuevas": 3388,
         "lat": 1.05,
         "lng": -76.882778,
         "year": 2021,
         "month": 12,
         "day": 31,
         "quarter": 4,
         "day_of_week": 6,
         "_deepnote_index_column": "max"
        }
       ],
       "rows_bottom": null
      },
      "text/plain": "          poblacion          total        nuevas           lat           lng  \\\ncount  1.509600e+04   15096.000000  15096.000000  15096.000000  15096.000000   \nmean   7.278640e+05   10929.931969     35.586248     -1.396142    -79.222258   \nstd    9.998210e+05   24258.957263    110.409294      1.365530      2.323672   \nmin    3.304200e+04       0.000000      0.000000     -4.120000    -89.400000   \n25%    1.941185e+05    1589.000000      1.000000     -2.245025    -79.283333   \n50%    4.824865e+05    4159.000000      8.000000     -1.154167    -78.816666   \n75%    6.222500e+05    9931.000000     29.000000     -0.413542    -78.127167   \nmax    4.387434e+06  196301.000000   3388.000000      1.050000    -76.882778   \n\n               year         month           day       quarter   day_of_week  \ncount  15096.000000  15096.000000  15096.000000  15096.000000  15096.000000  \nmean    2020.532591      6.806041     15.899841      2.608903      3.000000  \nstd        0.498953      3.104112      8.797846      1.036561      2.001655  \nmin     2020.000000      1.000000      1.000000      1.000000      0.000000  \n25%     2020.000000      4.000000      8.000000      2.000000      1.000000  \n50%     2021.000000      7.000000     16.000000      3.000000      3.000000  \n75%     2021.000000      9.000000     23.000000      3.000000      5.000000  \nmax     2021.000000     12.000000     31.000000      4.000000      6.000000  ",
      "text/html": "<div>\n<style scoped>\n    .dataframe tbody tr th:only-of-type {\n        vertical-align: middle;\n    }\n\n    .dataframe tbody tr th {\n        vertical-align: top;\n    }\n\n    .dataframe thead th {\n        text-align: right;\n    }\n</style>\n<table border=\"1\" class=\"dataframe\">\n  <thead>\n    <tr style=\"text-align: right;\">\n      <th></th>\n      <th>poblacion</th>\n      <th>total</th>\n      <th>nuevas</th>\n      <th>lat</th>\n      <th>lng</th>\n      <th>year</th>\n      <th>month</th>\n      <th>day</th>\n      <th>quarter</th>\n      <th>day_of_week</th>\n    </tr>\n  </thead>\n  <tbody>\n    <tr>\n      <th>count</th>\n      <td>1.509600e+04</td>\n      <td>15096.000000</td>\n      <td>15096.000000</td>\n      <td>15096.000000</td>\n      <td>15096.000000</td>\n      <td>15096.000000</td>\n      <td>15096.000000</td>\n      <td>15096.000000</td>\n      <td>15096.000000</td>\n      <td>15096.000000</td>\n    </tr>\n    <tr>\n      <th>mean</th>\n      <td>7.278640e+05</td>\n      <td>10929.931969</td>\n      <td>35.586248</td>\n      <td>-1.396142</td>\n      <td>-79.222258</td>\n      <td>2020.532591</td>\n      <td>6.806041</td>\n      <td>15.899841</td>\n      <td>2.608903</td>\n      <td>3.000000</td>\n    </tr>\n    <tr>\n      <th>std</th>\n      <td>9.998210e+05</td>\n      <td>24258.957263</td>\n      <td>110.409294</td>\n      <td>1.365530</td>\n      <td>2.323672</td>\n      <td>0.498953</td>\n      <td>3.104112</td>\n      <td>8.797846</td>\n      <td>1.036561</td>\n      <td>2.001655</td>\n    </tr>\n    <tr>\n      <th>min</th>\n      <td>3.304200e+04</td>\n      <td>0.000000</td>\n      <td>0.000000</td>\n      <td>-4.120000</td>\n      <td>-89.400000</td>\n      <td>2020.000000</td>\n      <td>1.000000</td>\n      <td>1.000000</td>\n      <td>1.000000</td>\n      <td>0.000000</td>\n    </tr>\n    <tr>\n      <th>25%</th>\n      <td>1.941185e+05</td>\n      <td>1589.000000</td>\n      <td>1.000000</td>\n      <td>-2.245025</td>\n      <td>-79.283333</td>\n      <td>2020.000000</td>\n      <td>4.000000</td>\n      <td>8.000000</td>\n      <td>2.000000</td>\n      <td>1.000000</td>\n    </tr>\n    <tr>\n      <th>50%</th>\n      <td>4.824865e+05</td>\n      <td>4159.000000</td>\n      <td>8.000000</td>\n      <td>-1.154167</td>\n      <td>-78.816666</td>\n      <td>2021.000000</td>\n      <td>7.000000</td>\n      <td>16.000000</td>\n      <td>3.000000</td>\n      <td>3.000000</td>\n    </tr>\n    <tr>\n      <th>75%</th>\n      <td>6.222500e+05</td>\n      <td>9931.000000</td>\n      <td>29.000000</td>\n      <td>-0.413542</td>\n      <td>-78.127167</td>\n      <td>2021.000000</td>\n      <td>9.000000</td>\n      <td>23.000000</td>\n      <td>3.000000</td>\n      <td>5.000000</td>\n    </tr>\n    <tr>\n      <th>max</th>\n      <td>4.387434e+06</td>\n      <td>196301.000000</td>\n      <td>3388.000000</td>\n      <td>1.050000</td>\n      <td>-76.882778</td>\n      <td>2021.000000</td>\n      <td>12.000000</td>\n      <td>31.000000</td>\n      <td>4.000000</td>\n      <td>6.000000</td>\n    </tr>\n  </tbody>\n</table>\n</div>"
     },
     "metadata": {}
    }
   ]
  },
  {
   "cell_type": "code",
   "metadata": {
    "tags": [],
    "cell_id": "00013-fa1d5c92-02ef-4c5b-a046-1d6bcaecadba",
    "deepnote_to_be_reexecuted": false,
    "source_hash": "23a02e74",
    "execution_start": 1638806452157,
    "execution_millis": 1571,
    "deepnote_output_heights": [
     232.3125
    ],
    "deepnote_cell_type": "code"
   },
   "source": "df_positives.dtypes",
   "execution_count": null,
   "outputs": [
    {
     "output_type": "execute_result",
     "execution_count": 13,
     "data": {
      "text/plain": "provincia       object\npoblacion        int64\ntotal            int64\nnuevas           int64\nlat            float64\nlng            float64\nyear             int64\nmonth            int64\nday              int64\nquarter          int64\nday_of_week      int64\ndtype: object"
     },
     "metadata": {}
    }
   ]
  },
  {
   "cell_type": "markdown",
   "source": "Let's visualize data.",
   "metadata": {
    "tags": [],
    "cell_id": "00014-69166c4d-f8e9-4cad-a4af-3e9f12975fa8",
    "deepnote_cell_type": "markdown"
   }
  },
  {
   "cell_type": "code",
   "metadata": {
    "tags": [],
    "cell_id": "00012-87a3012c-0986-467d-99cb-93a9356cedee",
    "deepnote_to_be_reexecuted": false,
    "source_hash": "f2f79983",
    "execution_start": 1639669977173,
    "execution_millis": 2,
    "deepnote_cell_type": "code"
   },
   "source": "sns.set_theme()",
   "execution_count": null,
   "outputs": []
  },
  {
   "cell_type": "code",
   "metadata": {
    "tags": [],
    "cell_id": "00015-b54638cc-6244-4454-b882-ca7de8b519ac",
    "deepnote_to_be_reexecuted": false,
    "source_hash": "e5ef1d15",
    "execution_start": 1638806523870,
    "execution_millis": 2951,
    "deepnote_output_heights": [
     416
    ],
    "deepnote_cell_type": "code"
   },
   "source": "fig, ax = plt.subplots(figsize=(12, 7))\nplt.plot(df_positives.index, df_positives['nuevas'])\nplt.show()",
   "execution_count": null,
   "outputs": [
    {
     "data": {
      "text/plain": "<Figure size 864x504 with 1 Axes>",
      "image/png": "[encoded data removed]"
     },
     "metadata": {
      "image/png": {
       "width": 743,
       "height": 414
      }
     },
     "output_type": "display_data"
    }
   ]
  },
  {
   "cell_type": "code",
   "metadata": {
    "tags": [],
    "cell_id": "00016-fdbd5fb3-f156-4af9-9325-86722160b284",
    "deepnote_to_be_reexecuted": false,
    "source_hash": "77180392",
    "execution_start": 1638806704141,
    "execution_millis": 2073,
    "deepnote_output_heights": [
     416
    ],
    "deepnote_cell_type": "code"
   },
   "source": "fig, ax = plt.subplots(figsize=(12, 7))\nplt.plot(df_positives.index, df_positives['total'])\nplt.show()",
   "execution_count": null,
   "outputs": [
    {
     "data": {
      "text/plain": "<Figure size 864x504 with 1 Axes>",
      "image/png": "[encoded data removed]"
     },
     "metadata": {
      "image/png": {
       "width": 757,
       "height": 414
      }
     },
     "output_type": "display_data"
    }
   ]
  },
  {
   "cell_type": "markdown",
   "source": "## Cases per province",
   "metadata": {
    "tags": [],
    "is_collapsed": false,
    "cell_id": "00021-35a16877-81c0-4812-99b7-89d152496821",
    "deepnote_cell_type": "text-cell-h2"
   }
  },
  {
   "cell_type": "code",
   "metadata": {
    "tags": [],
    "cell_id": "00022-498dca60-253d-41b3-acc8-fb3759cf5a85",
    "deepnote_to_be_reexecuted": false,
    "source_hash": "19fa655a",
    "execution_start": 1639669987784,
    "execution_millis": 8,
    "deepnote_cell_type": "code"
   },
   "source": "total_province = df_positives.groupby('provincia')[['nuevas']].sum().sort_values(by='nuevas', ascending=False)",
   "execution_count": null,
   "outputs": []
  },
  {
   "cell_type": "code",
   "metadata": {
    "tags": [],
    "cell_id": "00023-82c26acc-951b-4b2d-80c6-3b32d59620e3",
    "deepnote_to_be_reexecuted": false,
    "source_hash": "21a3646f",
    "execution_start": 1639669989657,
    "execution_millis": 67,
    "deepnote_output_heights": [
     611
    ],
    "deepnote_cell_type": "code"
   },
   "source": "total_province",
   "execution_count": null,
   "outputs": [
    {
     "output_type": "execute_result",
     "execution_count": 11,
     "data": {
      "application/vnd.deepnote.dataframe.v3+json": {
       "column_count": 1,
       "row_count": 24,
       "columns": [
        {
         "name": "nuevas",
         "dtype": "int64",
         "stats": {
          "unique_count": 24,
          "nan_count": 0,
          "min": "1518",
          "max": "196351",
          "histogram": [
           {
            "bin_start": 1518,
            "bin_end": 21001.3,
            "count": 19
           },
           {
            "bin_start": 21001.3,
            "bin_end": 40484.6,
            "count": 3
           },
           {
            "bin_start": 40484.6,
            "bin_end": 59967.899999999994,
            "count": 0
           },
           {
            "bin_start": 59967.899999999994,
            "bin_end": 79451.2,
            "count": 1
           },
           {
            "bin_start": 79451.2,
            "bin_end": 98934.5,
            "count": 0
           },
           {
            "bin_start": 98934.5,
            "bin_end": 118417.79999999999,
            "count": 0
           },
           {
            "bin_start": 118417.79999999999,
            "bin_end": 137901.1,
            "count": 0
           },
           {
            "bin_start": 137901.1,
            "bin_end": 157384.4,
            "count": 0
           },
           {
            "bin_start": 157384.4,
            "bin_end": 176867.69999999998,
            "count": 0
           },
           {
            "bin_start": 176867.69999999998,
            "bin_end": 196351,
            "count": 1
           }
          ]
         }
        },
        {
         "name": "_deepnote_index_column",
         "dtype": "object"
        }
       ],
       "rows": [
        {
         "nuevas": 196351,
         "_deepnote_index_column": "Pichincha"
        },
        {
         "nuevas": 78582,
         "_deepnote_index_column": "Guayas"
        },
        {
         "nuevas": 36048,
         "_deepnote_index_column": "Manabí"
        },
        {
         "nuevas": 29470,
         "_deepnote_index_column": "Azuay"
        },
        {
         "nuevas": 24602,
         "_deepnote_index_column": "El Oro"
        },
        {
         "nuevas": 18843,
         "_deepnote_index_column": "Loja"
        },
        {
         "nuevas": 17921,
         "_deepnote_index_column": "Imbabura"
        },
        {
         "nuevas": 16212,
         "_deepnote_index_column": "Tungurahua"
        },
        {
         "nuevas": 14157,
         "_deepnote_index_column": "Los Ríos"
        },
        {
         "nuevas": 12669,
         "_deepnote_index_column": "Sto. Domingo Tsáchilas"
        }
       ]
      },
      "text/plain": "                        nuevas\nprovincia                     \nPichincha               196351\nGuayas                   78582\nManabí                   36048\nAzuay                    29470\nEl Oro                   24602\nLoja                     18843\nImbabura                 17921\nTungurahua               16212\nLos Ríos                 14157\nSto. Domingo Tsáchilas   12669\nCotopaxi                 12361\nEsmeraldas               10175\nCarchi                   10036\nChimborazo                9471\nBolívar                   7552\nMorona Santiago           7232\nCañar                     7166\nSucumbíos                 6403\nSanta Elena               4936\nNapo                      4344\nOrellana                  4081\nPastaza                   3866\nZamora Chinchipe          3214\nGalápagos                 1518",
      "text/html": "<div>\n<style scoped>\n    .dataframe tbody tr th:only-of-type {\n        vertical-align: middle;\n    }\n\n    .dataframe tbody tr th {\n        vertical-align: top;\n    }\n\n    .dataframe thead th {\n        text-align: right;\n    }\n</style>\n<table border=\"1\" class=\"dataframe\">\n  <thead>\n    <tr style=\"text-align: right;\">\n      <th></th>\n      <th>nuevas</th>\n    </tr>\n    <tr>\n      <th>provincia</th>\n      <th></th>\n    </tr>\n  </thead>\n  <tbody>\n    <tr>\n      <th>Pichincha</th>\n      <td>196351</td>\n    </tr>\n    <tr>\n      <th>Guayas</th>\n      <td>78582</td>\n    </tr>\n    <tr>\n      <th>Manabí</th>\n      <td>36048</td>\n    </tr>\n    <tr>\n      <th>Azuay</th>\n      <td>29470</td>\n    </tr>\n    <tr>\n      <th>El Oro</th>\n      <td>24602</td>\n    </tr>\n    <tr>\n      <th>Loja</th>\n      <td>18843</td>\n    </tr>\n    <tr>\n      <th>Imbabura</th>\n      <td>17921</td>\n    </tr>\n    <tr>\n      <th>Tungurahua</th>\n      <td>16212</td>\n    </tr>\n    <tr>\n      <th>Los Ríos</th>\n      <td>14157</td>\n    </tr>\n    <tr>\n      <th>Sto. Domingo Tsáchilas</th>\n      <td>12669</td>\n    </tr>\n    <tr>\n      <th>Cotopaxi</th>\n      <td>12361</td>\n    </tr>\n    <tr>\n      <th>Esmeraldas</th>\n      <td>10175</td>\n    </tr>\n    <tr>\n      <th>Carchi</th>\n      <td>10036</td>\n    </tr>\n    <tr>\n      <th>Chimborazo</th>\n      <td>9471</td>\n    </tr>\n    <tr>\n      <th>Bolívar</th>\n      <td>7552</td>\n    </tr>\n    <tr>\n      <th>Morona Santiago</th>\n      <td>7232</td>\n    </tr>\n    <tr>\n      <th>Cañar</th>\n      <td>7166</td>\n    </tr>\n    <tr>\n      <th>Sucumbíos</th>\n      <td>6403</td>\n    </tr>\n    <tr>\n      <th>Santa Elena</th>\n      <td>4936</td>\n    </tr>\n    <tr>\n      <th>Napo</th>\n      <td>4344</td>\n    </tr>\n    <tr>\n      <th>Orellana</th>\n      <td>4081</td>\n    </tr>\n    <tr>\n      <th>Pastaza</th>\n      <td>3866</td>\n    </tr>\n    <tr>\n      <th>Zamora Chinchipe</th>\n      <td>3214</td>\n    </tr>\n    <tr>\n      <th>Galápagos</th>\n      <td>1518</td>\n    </tr>\n  </tbody>\n</table>\n</div>"
     },
     "metadata": {}
    }
   ]
  },
  {
   "cell_type": "code",
   "metadata": {
    "tags": [],
    "cell_id": "00024-23443352-9126-464a-b1aa-7acb82162ff0",
    "deepnote_to_be_reexecuted": false,
    "source_hash": "dcbaabfb",
    "execution_start": 1638806963438,
    "execution_millis": 2359,
    "deepnote_output_heights": [
     568
    ],
    "deepnote_cell_type": "code"
   },
   "source": "fig, ax = plt.subplots(figsize=(12, 7))\ntotal_province.plot.bar(ax=ax)\nplt.title('Total positives per province', size=16)\nplt.ylabel('Positives')\nplt.xlabel('Provinces')\nplt.legend(' ')\nplt.show()",
   "execution_count": null,
   "outputs": [
    {
     "data": {
      "text/plain": "<Figure size 864x504 with 1 Axes>",
      "image/png": "[encoded data removed]"
     },
     "metadata": {
      "image/png": {
       "width": 752,
       "height": 566
      }
     },
     "output_type": "display_data"
    }
   ]
  },
  {
   "cell_type": "code",
   "metadata": {
    "tags": [],
    "cell_id": "00025-279eface-462c-4512-a32a-0182157a89c8",
    "deepnote_to_be_reexecuted": false,
    "source_hash": "fb4764cb",
    "execution_start": 1639670004192,
    "execution_millis": 15,
    "deepnote_cell_type": "code"
   },
   "source": "poblacion = df_positives.groupby('provincia')[['poblacion']].max().sort_values(by='poblacion', ascending=False)",
   "execution_count": null,
   "outputs": []
  },
  {
   "cell_type": "code",
   "metadata": {
    "tags": [],
    "cell_id": "00026-080917c6-44f9-495e-a61b-032bfa1110ea",
    "deepnote_to_be_reexecuted": false,
    "source_hash": "7e201406",
    "execution_start": 1638806990305,
    "execution_millis": 1191,
    "deepnote_output_heights": [
     568
    ],
    "deepnote_cell_type": "code"
   },
   "source": "fig, ax = plt.subplots(figsize=(12, 7))\npoblacion.plot.bar(ax=ax)\nplt.title('Population per province', size=16)\nplt.ylabel('Population')\nplt.xlabel('Provinces')\nplt.legend(' ')\nplt.show()",
   "execution_count": null,
   "outputs": [
    {
     "data": {
      "text/plain": "<Figure size 864x504 with 1 Axes>",
      "image/png": "[encoded data removed]"
     },
     "metadata": {
      "image/png": {
       "width": 717,
       "height": 566
      }
     },
     "output_type": "display_data"
    }
   ]
  },
  {
   "cell_type": "code",
   "metadata": {
    "tags": [],
    "cell_id": "00027-c61e2851-f39d-4b70-b44f-ffdc77cadfb5",
    "deepnote_to_be_reexecuted": false,
    "source_hash": "6c9f145c",
    "execution_start": 1639670015790,
    "execution_millis": 1,
    "deepnote_cell_type": "code"
   },
   "source": "positives_provinces = total_province.join(poblacion, how='outer')",
   "execution_count": null,
   "outputs": []
  },
  {
   "cell_type": "code",
   "metadata": {
    "tags": [],
    "cell_id": "00028-83bbf63a-7d83-4b2c-958a-40adbc3b370f",
    "deepnote_to_be_reexecuted": false,
    "source_hash": "2c45d848",
    "execution_start": 1639670017566,
    "execution_millis": 4,
    "deepnote_output_heights": [
     21.1875
    ],
    "deepnote_cell_type": "code"
   },
   "source": "positives_provinces.columns",
   "execution_count": null,
   "outputs": [
    {
     "output_type": "execute_result",
     "execution_count": 14,
     "data": {
      "text/plain": "Index(['nuevas', 'poblacion'], dtype='object')"
     },
     "metadata": {}
    }
   ]
  },
  {
   "cell_type": "code",
   "metadata": {
    "tags": [],
    "cell_id": "00029-4f296773-900a-4641-9a9d-aaceed673313",
    "deepnote_to_be_reexecuted": false,
    "source_hash": "c768d592",
    "execution_start": 1639670019107,
    "execution_millis": 1,
    "deepnote_cell_type": "code"
   },
   "source": "positives_provinces.rename(columns={'nuevas': 'nuevas_total'}, inplace=True)",
   "execution_count": null,
   "outputs": []
  },
  {
   "cell_type": "code",
   "metadata": {
    "tags": [],
    "cell_id": "00028-b449dd23-f02c-4e2d-8362-9616bb5211cb",
    "deepnote_to_be_reexecuted": false,
    "source_hash": "5555d516",
    "execution_start": 1639670021318,
    "execution_millis": 17,
    "deepnote_cell_type": "code"
   },
   "source": "positives_provinces['positive_percentage'] = (positives_provinces['nuevas_total'] / positives_provinces['poblacion']) * 100",
   "execution_count": null,
   "outputs": []
  },
  {
   "cell_type": "code",
   "metadata": {
    "tags": [],
    "cell_id": "00031-73ba2b51-ec69-474d-91de-df089f925f7c",
    "deepnote_to_be_reexecuted": false,
    "source_hash": "151ee2d8",
    "execution_start": 1638807030305,
    "execution_millis": 1208,
    "deepnote_output_heights": [
     568
    ],
    "deepnote_cell_type": "code"
   },
   "source": "fig, ax = plt.subplots(figsize=(12, 7))\npositives_provinces.sort_values(by='positive_percentage', \n    ascending=False).plot(kind='bar', \n    y='positive_percentage', \n    ax=ax)\nplt.title('Percentage of positives per province', size=16)\nplt.ylabel('Percentage')\nplt.xlabel('Provinces')\nplt.legend(' ')\nplt.show()",
   "execution_count": null,
   "outputs": [
    {
     "data": {
      "text/plain": "<Figure size 864x504 with 1 Axes>",
      "image/png": "[encoded data removed]"
     },
     "metadata": {
      "image/png": {
       "width": 717,
       "height": 566
      }
     },
     "output_type": "display_data"
    }
   ]
  },
  {
   "cell_type": "code",
   "metadata": {
    "tags": [],
    "cell_id": "00031-b0acbb5d-6723-4b8f-a2d4-0bfbbc569459",
    "deepnote_to_be_reexecuted": false,
    "source_hash": "2c45d848",
    "execution_start": 1638807092555,
    "execution_millis": 904,
    "deepnote_output_heights": [
     21.1875
    ],
    "deepnote_cell_type": "code"
   },
   "source": "positives_provinces.columns",
   "execution_count": null,
   "outputs": [
    {
     "output_type": "execute_result",
     "execution_count": 30,
     "data": {
      "text/plain": "Index(['nuevas_total', 'poblacion', 'positive_percentage'], dtype='object')"
     },
     "metadata": {}
    }
   ]
  },
  {
   "cell_type": "code",
   "metadata": {
    "tags": [],
    "cell_id": "00031-77fdad37-dace-4cdd-adf1-5c45bf985dbd",
    "deepnote_to_be_reexecuted": false,
    "source_hash": "42e23461",
    "execution_start": 1638807095517,
    "execution_millis": 2829,
    "deepnote_output_heights": [
     350,
     350,
     350
    ],
    "deepnote_cell_type": "code"
   },
   "source": "for i in positives_provinces.columns:\n  sns.displot(data=positives_provinces, x=i, kde=True)  \n\n",
   "execution_count": null,
   "outputs": [
    {
     "data": {
      "text/plain": "<Figure size 360x360 with 1 Axes>",
      "image/png": "[encoded data removed]"
     },
     "metadata": {
      "image/png": {
       "width": 348,
       "height": 348
      }
     },
     "output_type": "display_data"
    },
    {
     "data": {
      "text/plain": "<Figure size 360x360 with 1 Axes>",
      "image/png": "[encoded data removed]"
     },
     "metadata": {
      "image/png": {
       "width": 348,
       "height": 348
      }
     },
     "output_type": "display_data"
    },
    {
     "data": {
      "text/plain": "<Figure size 360x360 with 1 Axes>",
      "image/png": "[encoded data removed]"
     },
     "metadata": {
      "image/png": {
       "width": 348,
       "height": 348
      }
     },
     "output_type": "display_data"
    }
   ]
  },
  {
   "cell_type": "code",
   "metadata": {
    "tags": [],
    "cell_id": "00031-1b3eb6a5-6558-478b-95dc-e6489dabd825",
    "deepnote_to_be_reexecuted": false,
    "source_hash": "e8717531",
    "execution_start": 1638807142277,
    "execution_millis": 5343,
    "deepnote_output_heights": [
     21.1875,
     533
    ],
    "deepnote_cell_type": "code"
   },
   "source": "sns.pairplot(positives_provinces, diag_kind='kde')",
   "execution_count": null,
   "outputs": [
    {
     "output_type": "execute_result",
     "execution_count": 32,
     "data": {
      "text/plain": "<seaborn.axisgrid.PairGrid at 0x7f499c11c750>"
     },
     "metadata": {}
    },
    {
     "data": {
      "text/plain": "<Figure size 540x540 with 12 Axes>",
      "image/png": "[encoded data removed]"
     },
     "metadata": {
      "image/png": {
       "width": 531,
       "height": 531
      }
     },
     "output_type": "display_data"
    }
   ]
  },
  {
   "cell_type": "code",
   "metadata": {
    "tags": [],
    "cell_id": "00034-a46d22d6-f231-4268-bf72-01b1ff3e7196",
    "deepnote_to_be_reexecuted": false,
    "source_hash": "be25e715",
    "execution_start": 1638807157162,
    "execution_millis": 893,
    "deepnote_output_heights": [
     119
    ],
    "deepnote_cell_type": "code"
   },
   "source": "positives_provinces.corr()",
   "execution_count": null,
   "outputs": [
    {
     "output_type": "execute_result",
     "execution_count": 33,
     "data": {
      "application/vnd.deepnote.dataframe.v2+json": {
       "row_count": 3,
       "column_count": 3,
       "columns": [
        {
         "name": "nuevas_total",
         "dtype": "float64",
         "stats": {
          "unique_count": 3,
          "nan_count": 0,
          "min": "0.437082522071947",
          "max": "1.0",
          "histogram": [
           {
            "bin_start": 0.437082522071947,
            "bin_end": 0.4933742698647523,
            "count": 1
           },
           {
            "bin_start": 0.4933742698647523,
            "bin_end": 0.5496660176575576,
            "count": 0
           },
           {
            "bin_start": 0.5496660176575576,
            "bin_end": 0.605957765450363,
            "count": 0
           },
           {
            "bin_start": 0.605957765450363,
            "bin_end": 0.6622495132431682,
            "count": 0
           },
           {
            "bin_start": 0.6622495132431682,
            "bin_end": 0.7185412610359735,
            "count": 0
           },
           {
            "bin_start": 0.7185412610359735,
            "bin_end": 0.7748330088287788,
            "count": 0
           },
           {
            "bin_start": 0.7748330088287788,
            "bin_end": 0.831124756621584,
            "count": 1
           },
           {
            "bin_start": 0.831124756621584,
            "bin_end": 0.8874165044143894,
            "count": 0
           },
           {
            "bin_start": 0.8874165044143894,
            "bin_end": 0.9437082522071947,
            "count": 0
           },
           {
            "bin_start": 0.9437082522071947,
            "bin_end": 1,
            "count": 1
           }
          ]
         }
        },
        {
         "name": "poblacion",
         "dtype": "float64",
         "stats": {
          "unique_count": 3,
          "nan_count": 0,
          "min": "0.027046636384405985",
          "max": "1.0",
          "histogram": [
           {
            "bin_start": 0.027046636384405985,
            "bin_end": 0.1243419727459654,
            "count": 1
           },
           {
            "bin_start": 0.1243419727459654,
            "bin_end": 0.2216373091075248,
            "count": 0
           },
           {
            "bin_start": 0.2216373091075248,
            "bin_end": 0.3189326454690842,
            "count": 0
           },
           {
            "bin_start": 0.3189326454690842,
            "bin_end": 0.4162279818306436,
            "count": 0
           },
           {
            "bin_start": 0.4162279818306436,
            "bin_end": 0.513523318192203,
            "count": 0
           },
           {
            "bin_start": 0.513523318192203,
            "bin_end": 0.6108186545537624,
            "count": 0
           },
           {
            "bin_start": 0.6108186545537624,
            "bin_end": 0.7081139909153218,
            "count": 0
           },
           {
            "bin_start": 0.7081139909153218,
            "bin_end": 0.8054093272768812,
            "count": 0
           },
           {
            "bin_start": 0.8054093272768812,
            "bin_end": 0.9027046636384406,
            "count": 1
           },
           {
            "bin_start": 0.9027046636384406,
            "bin_end": 1,
            "count": 1
           }
          ]
         }
        },
        {
         "name": "positive_percentage",
         "dtype": "float64",
         "stats": {
          "unique_count": 3,
          "nan_count": 0,
          "min": "0.027046636384405985",
          "max": "1.0",
          "histogram": [
           {
            "bin_start": 0.027046636384405985,
            "bin_end": 0.1243419727459654,
            "count": 1
           },
           {
            "bin_start": 0.1243419727459654,
            "bin_end": 0.2216373091075248,
            "count": 0
           },
           {
            "bin_start": 0.2216373091075248,
            "bin_end": 0.3189326454690842,
            "count": 0
           },
           {
            "bin_start": 0.3189326454690842,
            "bin_end": 0.4162279818306436,
            "count": 0
           },
           {
            "bin_start": 0.4162279818306436,
            "bin_end": 0.513523318192203,
            "count": 1
           },
           {
            "bin_start": 0.513523318192203,
            "bin_end": 0.6108186545537624,
            "count": 0
           },
           {
            "bin_start": 0.6108186545537624,
            "bin_end": 0.7081139909153218,
            "count": 0
           },
           {
            "bin_start": 0.7081139909153218,
            "bin_end": 0.8054093272768812,
            "count": 0
           },
           {
            "bin_start": 0.8054093272768812,
            "bin_end": 0.9027046636384406,
            "count": 0
           },
           {
            "bin_start": 0.9027046636384406,
            "bin_end": 1,
            "count": 1
           }
          ]
         }
        },
        {
         "name": "_deepnote_index_column",
         "dtype": "object"
        }
       ],
       "rows_top": [
        {
         "nuevas_total": 1,
         "poblacion": 0.805845150933385,
         "positive_percentage": 0.437082522071947,
         "_deepnote_index_column": "nuevas_total"
        },
        {
         "nuevas_total": 0.805845150933385,
         "poblacion": 1,
         "positive_percentage": 0.027046636384405985,
         "_deepnote_index_column": "poblacion"
        },
        {
         "nuevas_total": 0.437082522071947,
         "poblacion": 0.027046636384405985,
         "positive_percentage": 1,
         "_deepnote_index_column": "positive_percentage"
        }
       ],
       "rows_bottom": null
      },
      "text/plain": "                     nuevas_total  poblacion  positive_percentage\nnuevas_total             1.000000   0.805845             0.437083\npoblacion                0.805845   1.000000             0.027047\npositive_percentage      0.437083   0.027047             1.000000",
      "text/html": "<div>\n<style scoped>\n    .dataframe tbody tr th:only-of-type {\n        vertical-align: middle;\n    }\n\n    .dataframe tbody tr th {\n        vertical-align: top;\n    }\n\n    .dataframe thead th {\n        text-align: right;\n    }\n</style>\n<table border=\"1\" class=\"dataframe\">\n  <thead>\n    <tr style=\"text-align: right;\">\n      <th></th>\n      <th>nuevas_total</th>\n      <th>poblacion</th>\n      <th>positive_percentage</th>\n    </tr>\n  </thead>\n  <tbody>\n    <tr>\n      <th>nuevas_total</th>\n      <td>1.000000</td>\n      <td>0.805845</td>\n      <td>0.437083</td>\n    </tr>\n    <tr>\n      <th>poblacion</th>\n      <td>0.805845</td>\n      <td>1.000000</td>\n      <td>0.027047</td>\n    </tr>\n    <tr>\n      <th>positive_percentage</th>\n      <td>0.437083</td>\n      <td>0.027047</td>\n      <td>1.000000</td>\n    </tr>\n  </tbody>\n</table>\n</div>"
     },
     "metadata": {}
    }
   ]
  },
  {
   "cell_type": "code",
   "metadata": {
    "tags": [],
    "cell_id": "00036-176bcecf-dbc9-446a-8dbb-a7559e91f99d",
    "deepnote_to_be_reexecuted": false,
    "source_hash": "1613f072",
    "execution_start": 1638807160465,
    "execution_millis": 924,
    "deepnote_output_heights": [
     21.1875,
     359
    ],
    "deepnote_cell_type": "code"
   },
   "source": "sns.heatmap(positives_provinces.corr(), \nannot=True,\nsquare=True,\ncmap='summer')",
   "execution_count": null,
   "outputs": [
    {
     "output_type": "execute_result",
     "execution_count": 34,
     "data": {
      "text/plain": "<AxesSubplot:>"
     },
     "metadata": {}
    },
    {
     "data": {
      "text/plain": "<Figure size 432x288 with 2 Axes>",
      "image/png": "[encoded data removed]"
     },
     "metadata": {
      "image/png": {
       "width": 408,
       "height": 357
      }
     },
     "output_type": "display_data"
    }
   ]
  },
  {
   "cell_type": "markdown",
   "source": "* There's a high positive correlation between population and new positives. \n* There's a low positive correlation between positive percentage and new positives.\n* There's no correlation between population and postive percentages. \n\nWe can try to find clusters using the K-Means algorithm. But we can do tha later. \n\nRead this: https://www.analyticsvidhya.com/blog/2019/08/comprehensive-guide-k-means-clustering/",
   "metadata": {
    "tags": [],
    "cell_id": "00037-7bc17f68-02c8-47a8-a042-03e3dc3edf35",
    "deepnote_cell_type": "markdown"
   }
  },
  {
   "cell_type": "markdown",
   "source": "### Export data",
   "metadata": {
    "tags": [],
    "is_collapsed": false,
    "cell_id": "00035-756106de-532c-42f0-ac41-7d1934e851ce",
    "deepnote_cell_type": "text-cell-h3"
   }
  },
  {
   "cell_type": "code",
   "metadata": {
    "tags": [],
    "cell_id": "00034-70cf7bb0-2027-4a01-8679-01f4e9a6d182",
    "deepnote_to_be_reexecuted": false,
    "source_hash": "f716249",
    "execution_start": 1639671043950,
    "execution_millis": 13,
    "deepnote_output_heights": [
     611
    ],
    "deepnote_cell_type": "code"
   },
   "source": "positives_provinces.reset_index().to_csv('/work/covid-19_ecuador/data/interim/positives_provinces.csv', index=False)",
   "execution_count": null,
   "outputs": []
  },
  {
   "cell_type": "markdown",
   "source": "<a style='text-decoration:none;line-height:16px;display:flex;color:#5B5B62;padding:10px;justify-content:end;' href='https://deepnote.com?utm_source=created-in-deepnote-cell&projectId=298bb443-d8b3-4731-ae95-ca4418ea078f' target=\"_blank\">\n<img alt='Created in deepnote.com' style='display:inline;max-height:16px;margin:0px;margin-right:7.5px;' src='data:image/svg+xml;base64,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' > </img>\nCreated in <span style='font-weight:600;margin-left:4px;'>Deepnote</span></a>",
   "metadata": {
    "tags": [],
    "created_in_deepnote_cell": true,
    "deepnote_cell_type": "markdown"
   }
  }
 ],
 "nbformat": 4,
 "nbformat_minor": 2,
 "metadata": {
  "orig_nbformat": 2,
  "deepnote": {
   "is_reactive": false
  },
  "deepnote_notebook_id": "2095277d-dc22-46bb-9eda-b6e2ed480a36",
  "deepnote_execution_queue": []
 }
}