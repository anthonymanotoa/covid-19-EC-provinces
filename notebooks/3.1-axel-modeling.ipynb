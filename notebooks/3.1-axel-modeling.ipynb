{
 "cells": [
  {
   "cell_type": "markdown",
   "source": "# Modeling: Linear Regression for infections and beds",
   "metadata": {
    "tags": [],
    "is_collapsed": false,
    "cell_id": "00001-50ddbbb1-6f01-43e4-855d-4ecb4b6ac47f",
    "deepnote_cell_type": "text-cell-h1"
   }
  },
  {
   "cell_type": "markdown",
   "source": "Here I'll try to create a model that predicts new infections from vaccinations.\n\n**Spoiler:** The model won't work and it has a very low score. Fortunately, this is not the purpose of this project. Now, you can go to the next notebook to see the clustering model.",
   "metadata": {
    "tags": [],
    "cell_id": "00001-678268fc-1047-4760-a639-816b9b2b0018",
    "deepnote_cell_type": "markdown"
   }
  },
  {
   "cell_type": "code",
   "metadata": {
    "tags": [],
    "cell_id": "00000-b6194f2b-9106-4582-88b0-a858d74f9762",
    "deepnote_to_be_reexecuted": false,
    "source_hash": "2f19d1f9",
    "execution_start": 1639583109596,
    "execution_millis": 35,
    "deepnote_cell_type": "code"
   },
   "source": "%load_ext autoreload\n%autoreload 2",
   "execution_count": null,
   "outputs": []
  },
  {
   "cell_type": "code",
   "metadata": {
    "tags": [],
    "cell_id": "00002-2def9e83-7677-40da-8530-ec927eb0414a",
    "deepnote_to_be_reexecuted": false,
    "source_hash": "c516df8c",
    "execution_start": 1639583113356,
    "execution_millis": 4752,
    "deepnote_cell_type": "code"
   },
   "source": "#libs\nimport pandas as pd\nimport numpy as np\nimport matplotlib.pyplot as plt\nimport seaborn as sns",
   "execution_count": null,
   "outputs": []
  },
  {
   "cell_type": "markdown",
   "source": "References:\n\n* https://machinelearningmastery.com/standardscaler-and-minmaxscaler-transforms-in-python/",
   "metadata": {
    "tags": [],
    "cell_id": "00003-61400cca-998f-4af0-8a10-6b8dad8c30d6",
    "deepnote_cell_type": "markdown"
   }
  },
  {
   "cell_type": "code",
   "metadata": {
    "tags": [],
    "cell_id": "00003-f959abe7-9fbb-457d-a60a-0426dfebc2b2",
    "deepnote_to_be_reexecuted": false,
    "source_hash": "ff0e34d5",
    "execution_start": 1639586102706,
    "execution_millis": 1130,
    "deepnote_cell_type": "code"
   },
   "source": "#Machine Learning libs\nfrom sklearn.model_selection import train_test_split\nfrom sklearn.linear_model import LinearRegression\nfrom sklearn.preprocessing import PowerTransformer",
   "execution_count": null,
   "outputs": []
  },
  {
   "cell_type": "code",
   "metadata": {
    "tags": [],
    "cell_id": "00004-a40224fb-12ea-458a-99ba-10c6eeb66816",
    "deepnote_to_be_reexecuted": false,
    "source_hash": "ccb30834",
    "execution_start": 1639583685187,
    "execution_millis": 753,
    "deepnote_cell_type": "code"
   },
   "source": "df_unified = pd.read_csv('/work/covid-19_ecuador/data/interim/df_unified.csv')",
   "execution_count": null,
   "outputs": []
  },
  {
   "cell_type": "code",
   "metadata": {
    "tags": [],
    "cell_id": "00005-ce099b2a-4fd2-4dbd-b564-18c024ca715c",
    "deepnote_to_be_reexecuted": false,
    "source_hash": "251bf27a",
    "execution_start": 1639583756716,
    "execution_millis": 149,
    "deepnote_cell_type": "code"
   },
   "source": "df_unified",
   "execution_count": null,
   "outputs": [
    {
     "output_type": "execute_result",
     "execution_count": 6,
     "data": {
      "application/vnd.deepnote.dataframe.v2+json": {
       "row_count": 636,
       "column_count": 8,
       "columns": [
        {
         "name": "nuevas",
         "dtype": "float64",
         "stats": {
          "unique_count": 512,
          "nan_count": 0,
          "min": "0.0",
          "max": "6623.0",
          "histogram": [
           {
            "bin_start": 0,
            "bin_end": 662.3,
            "count": 309
           },
           {
            "bin_start": 662.3,
            "bin_end": 1324.6,
            "count": 202
           },
           {
            "bin_start": 1324.6,
            "bin_end": 1986.8999999999999,
            "count": 77
           },
           {
            "bin_start": 1986.8999999999999,
            "bin_end": 2649.2,
            "count": 29
           },
           {
            "bin_start": 2649.2,
            "bin_end": 3311.5,
            "count": 14
           },
           {
            "bin_start": 3311.5,
            "bin_end": 3973.7999999999997,
            "count": 1
           },
           {
            "bin_start": 3973.7999999999997,
            "bin_end": 4636.099999999999,
            "count": 1
           },
           {
            "bin_start": 4636.099999999999,
            "bin_end": 5298.4,
            "count": 1
           },
           {
            "bin_start": 5298.4,
            "bin_end": 5960.7,
            "count": 1
           },
           {
            "bin_start": 5960.7,
            "bin_end": 6623,
            "count": 1
           }
          ]
         }
        },
        {
         "name": "dosis_total_diff",
         "dtype": "float64",
         "stats": {
          "unique_count": 228,
          "nan_count": 0,
          "min": "0.0",
          "max": "1064932.0",
          "histogram": [
           {
            "bin_start": 0,
            "bin_end": 106493.2,
            "count": 555
           },
           {
            "bin_start": 106493.2,
            "bin_end": 212986.4,
            "count": 41
           },
           {
            "bin_start": 212986.4,
            "bin_end": 319479.6,
            "count": 28
           },
           {
            "bin_start": 319479.6,
            "bin_end": 425972.8,
            "count": 6
           },
           {
            "bin_start": 425972.8,
            "bin_end": 532466,
            "count": 2
           },
           {
            "bin_start": 532466,
            "bin_end": 638959.2,
            "count": 1
           },
           {
            "bin_start": 638959.2,
            "bin_end": 745452.4,
            "count": 0
           },
           {
            "bin_start": 745452.4,
            "bin_end": 851945.6,
            "count": 2
           },
           {
            "bin_start": 851945.6,
            "bin_end": 958438.7999999999,
            "count": 0
           },
           {
            "bin_start": 958438.7999999999,
            "bin_end": 1064932,
            "count": 1
           }
          ]
         }
        },
        {
         "name": "primera_dosis_diff",
         "dtype": "float64",
         "stats": {
          "unique_count": 211,
          "nan_count": 0,
          "min": "0.0",
          "max": "711855.0",
          "histogram": [
           {
            "bin_start": 0,
            "bin_end": 71185.5,
            "count": 588
           },
           {
            "bin_start": 71185.5,
            "bin_end": 142371,
            "count": 21
           },
           {
            "bin_start": 142371,
            "bin_end": 213556.5,
            "count": 9
           },
           {
            "bin_start": 213556.5,
            "bin_end": 284742,
            "count": 12
           },
           {
            "bin_start": 284742,
            "bin_end": 355927.5,
            "count": 2
           },
           {
            "bin_start": 355927.5,
            "bin_end": 427113,
            "count": 1
           },
           {
            "bin_start": 427113,
            "bin_end": 498298.5,
            "count": 1
           },
           {
            "bin_start": 498298.5,
            "bin_end": 569484,
            "count": 1
           },
           {
            "bin_start": 569484,
            "bin_end": 640669.5,
            "count": 0
           },
           {
            "bin_start": 640669.5,
            "bin_end": 711855,
            "count": 1
           }
          ]
         }
        },
        {
         "name": "segunda_dosis_diff",
         "dtype": "float64",
         "stats": {
          "unique_count": 216,
          "nan_count": 0,
          "min": "0.0",
          "max": "771941.0",
          "histogram": [
           {
            "bin_start": 0,
            "bin_end": 77194.1,
            "count": 600
           },
           {
            "bin_start": 77194.1,
            "bin_end": 154388.2,
            "count": 14
           },
           {
            "bin_start": 154388.2,
            "bin_end": 231582.30000000002,
            "count": 11
           },
           {
            "bin_start": 231582.30000000002,
            "bin_end": 308776.4,
            "count": 6
           },
           {
            "bin_start": 308776.4,
            "bin_end": 385970.5,
            "count": 3
           },
           {
            "bin_start": 385970.5,
            "bin_end": 463164.60000000003,
            "count": 0
           },
           {
            "bin_start": 463164.60000000003,
            "bin_end": 540358.7000000001,
            "count": 0
           },
           {
            "bin_start": 540358.7000000001,
            "bin_end": 617552.8,
            "count": 0
           },
           {
            "bin_start": 617552.8,
            "bin_end": 694746.9,
            "count": 0
           },
           {
            "bin_start": 694746.9,
            "bin_end": 771941,
            "count": 2
           }
          ]
         }
        },
        {
         "name": "refuerzo_diff",
         "dtype": "float64",
         "stats": {
          "unique_count": 46,
          "nan_count": 0,
          "min": "0.0",
          "max": "44144.0",
          "histogram": [
           {
            "bin_start": 0,
            "bin_end": 4414.4,
            "count": 606
           },
           {
            "bin_start": 4414.4,
            "bin_end": 8828.8,
            "count": 8
           },
           {
            "bin_start": 8828.8,
            "bin_end": 13243.199999999999,
            "count": 2
           },
           {
            "bin_start": 13243.199999999999,
            "bin_end": 17657.6,
            "count": 11
           },
           {
            "bin_start": 17657.6,
            "bin_end": 22072,
            "count": 5
           },
           {
            "bin_start": 22072,
            "bin_end": 26486.399999999998,
            "count": 3
           },
           {
            "bin_start": 26486.399999999998,
            "bin_end": 30900.799999999996,
            "count": 0
           },
           {
            "bin_start": 30900.799999999996,
            "bin_end": 35315.2,
            "count": 0
           },
           {
            "bin_start": 35315.2,
            "bin_end": 39729.6,
            "count": 0
           },
           {
            "bin_start": 39729.6,
            "bin_end": 44144,
            "count": 1
           }
          ]
         }
        },
        {
         "name": "(MSP) UCI Porcentaje Ocupadas",
         "dtype": "float64",
         "stats": {
          "unique_count": 46,
          "nan_count": 475,
          "min": "0.0",
          "max": "80.0",
          "histogram": [
           {
            "bin_start": 0,
            "bin_end": 8,
            "count": 19
           },
           {
            "bin_start": 8,
            "bin_end": 16,
            "count": 0
           },
           {
            "bin_start": 16,
            "bin_end": 24,
            "count": 0
           },
           {
            "bin_start": 24,
            "bin_end": 32,
            "count": 9
           },
           {
            "bin_start": 32,
            "bin_end": 40,
            "count": 27
           },
           {
            "bin_start": 40,
            "bin_end": 48,
            "count": 37
           },
           {
            "bin_start": 48,
            "bin_end": 56,
            "count": 30
           },
           {
            "bin_start": 56,
            "bin_end": 64,
            "count": 9
           },
           {
            "bin_start": 64,
            "bin_end": 72,
            "count": 3
           },
           {
            "bin_start": 72,
            "bin_end": 80,
            "count": 27
           }
          ]
         }
        },
        {
         "name": "(RPIS) UCI Porcentaje Ocupadas",
         "dtype": "float64",
         "stats": {
          "unique_count": 42,
          "nan_count": 475,
          "min": "0.0",
          "max": "84.0",
          "histogram": [
           {
            "bin_start": 0,
            "bin_end": 8.4,
            "count": 35
           },
           {
            "bin_start": 8.4,
            "bin_end": 16.8,
            "count": 0
           },
           {
            "bin_start": 16.8,
            "bin_end": 25.200000000000003,
            "count": 0
           },
           {
            "bin_start": 25.200000000000003,
            "bin_end": 33.6,
            "count": 0
           },
           {
            "bin_start": 33.6,
            "bin_end": 42,
            "count": 5
           },
           {
            "bin_start": 42,
            "bin_end": 50.400000000000006,
            "count": 40
           },
           {
            "bin_start": 50.400000000000006,
            "bin_end": 58.800000000000004,
            "count": 16
           },
           {
            "bin_start": 58.800000000000004,
            "bin_end": 67.2,
            "count": 33
           },
           {
            "bin_start": 67.2,
            "bin_end": 75.60000000000001,
            "count": 14
           },
           {
            "bin_start": 75.60000000000001,
            "bin_end": 84,
            "count": 18
           }
          ]
         }
        },
        {
         "name": "(RPC) UCI Porcentaje Ocupadas",
         "dtype": "float64",
         "stats": {
          "unique_count": 31,
          "nan_count": 475,
          "min": "0.0",
          "max": "55.0",
          "histogram": [
           {
            "bin_start": 0,
            "bin_end": 5.5,
            "count": 35
           },
           {
            "bin_start": 5.5,
            "bin_end": 11,
            "count": 0
           },
           {
            "bin_start": 11,
            "bin_end": 16.5,
            "count": 31
           },
           {
            "bin_start": 16.5,
            "bin_end": 22,
            "count": 57
           },
           {
            "bin_start": 22,
            "bin_end": 27.5,
            "count": 9
           },
           {
            "bin_start": 27.5,
            "bin_end": 33,
            "count": 8
           },
           {
            "bin_start": 33,
            "bin_end": 38.5,
            "count": 9
           },
           {
            "bin_start": 38.5,
            "bin_end": 44,
            "count": 4
           },
           {
            "bin_start": 44,
            "bin_end": 49.5,
            "count": 4
           },
           {
            "bin_start": 49.5,
            "bin_end": 55,
            "count": 4
           }
          ]
         }
        },
        {
         "name": "_deepnote_index_column",
         "dtype": "int64"
        }
       ],
       "rows_top": [
        {
         "nuevas": 23,
         "dosis_total_diff": 0,
         "primera_dosis_diff": 0,
         "segunda_dosis_diff": 0,
         "refuerzo_diff": 0,
         "(MSP) UCI Porcentaje Ocupadas": "nan",
         "(RPIS) UCI Porcentaje Ocupadas": "nan",
         "(RPC) UCI Porcentaje Ocupadas": "nan",
         "_deepnote_index_column": 0
        },
        {
         "nuevas": 5,
         "dosis_total_diff": 0,
         "primera_dosis_diff": 0,
         "segunda_dosis_diff": 0,
         "refuerzo_diff": 0,
         "(MSP) UCI Porcentaje Ocupadas": "nan",
         "(RPIS) UCI Porcentaje Ocupadas": "nan",
         "(RPC) UCI Porcentaje Ocupadas": "nan",
         "_deepnote_index_column": 1
        },
        {
         "nuevas": 11,
         "dosis_total_diff": 0,
         "primera_dosis_diff": 0,
         "segunda_dosis_diff": 0,
         "refuerzo_diff": 0,
         "(MSP) UCI Porcentaje Ocupadas": "nan",
         "(RPIS) UCI Porcentaje Ocupadas": "nan",
         "(RPC) UCI Porcentaje Ocupadas": "nan",
         "_deepnote_index_column": 2
        },
        {
         "nuevas": 21,
         "dosis_total_diff": 0,
         "primera_dosis_diff": 0,
         "segunda_dosis_diff": 0,
         "refuerzo_diff": 0,
         "(MSP) UCI Porcentaje Ocupadas": "nan",
         "(RPIS) UCI Porcentaje Ocupadas": "nan",
         "(RPC) UCI Porcentaje Ocupadas": "nan",
         "_deepnote_index_column": 3
        },
        {
         "nuevas": 53,
         "dosis_total_diff": 0,
         "primera_dosis_diff": 0,
         "segunda_dosis_diff": 0,
         "refuerzo_diff": 0,
         "(MSP) UCI Porcentaje Ocupadas": "nan",
         "(RPIS) UCI Porcentaje Ocupadas": "nan",
         "(RPC) UCI Porcentaje Ocupadas": "nan",
         "_deepnote_index_column": 4
        },
        {
         "nuevas": 63,
         "dosis_total_diff": 0,
         "primera_dosis_diff": 0,
         "segunda_dosis_diff": 0,
         "refuerzo_diff": 0,
         "(MSP) UCI Porcentaje Ocupadas": "nan",
         "(RPIS) UCI Porcentaje Ocupadas": "nan",
         "(RPC) UCI Porcentaje Ocupadas": "nan",
         "_deepnote_index_column": 5
        },
        {
         "nuevas": 92,
         "dosis_total_diff": 0,
         "primera_dosis_diff": 0,
         "segunda_dosis_diff": 0,
         "refuerzo_diff": 0,
         "(MSP) UCI Porcentaje Ocupadas": "nan",
         "(RPIS) UCI Porcentaje Ocupadas": "nan",
         "(RPC) UCI Porcentaje Ocupadas": "nan",
         "_deepnote_index_column": 6
        },
        {
         "nuevas": 166,
         "dosis_total_diff": 0,
         "primera_dosis_diff": 0,
         "segunda_dosis_diff": 0,
         "refuerzo_diff": 0,
         "(MSP) UCI Porcentaje Ocupadas": "nan",
         "(RPIS) UCI Porcentaje Ocupadas": "nan",
         "(RPC) UCI Porcentaje Ocupadas": "nan",
         "_deepnote_index_column": 7
        },
        {
         "nuevas": 106,
         "dosis_total_diff": 0,
         "primera_dosis_diff": 0,
         "segunda_dosis_diff": 0,
         "refuerzo_diff": 0,
         "(MSP) UCI Porcentaje Ocupadas": "nan",
         "(RPIS) UCI Porcentaje Ocupadas": "nan",
         "(RPC) UCI Porcentaje Ocupadas": "nan",
         "_deepnote_index_column": 8
        },
        {
         "nuevas": 257,
         "dosis_total_diff": 0,
         "primera_dosis_diff": 0,
         "segunda_dosis_diff": 0,
         "refuerzo_diff": 0,
         "(MSP) UCI Porcentaje Ocupadas": "nan",
         "(RPIS) UCI Porcentaje Ocupadas": "nan",
         "(RPC) UCI Porcentaje Ocupadas": "nan",
         "_deepnote_index_column": 9
        },
        {
         "nuevas": 192,
         "dosis_total_diff": 0,
         "primera_dosis_diff": 0,
         "segunda_dosis_diff": 0,
         "refuerzo_diff": 0,
         "(MSP) UCI Porcentaje Ocupadas": "nan",
         "(RPIS) UCI Porcentaje Ocupadas": "nan",
         "(RPC) UCI Porcentaje Ocupadas": "nan",
         "_deepnote_index_column": 10
        },
        {
         "nuevas": 101,
         "dosis_total_diff": 0,
         "primera_dosis_diff": 0,
         "segunda_dosis_diff": 0,
         "refuerzo_diff": 0,
         "(MSP) UCI Porcentaje Ocupadas": "nan",
         "(RPIS) UCI Porcentaje Ocupadas": "nan",
         "(RPC) UCI Porcentaje Ocupadas": "nan",
         "_deepnote_index_column": 11
        },
        {
         "nuevas": 129,
         "dosis_total_diff": 0,
         "primera_dosis_diff": 0,
         "segunda_dosis_diff": 0,
         "refuerzo_diff": 0,
         "(MSP) UCI Porcentaje Ocupadas": "nan",
         "(RPIS) UCI Porcentaje Ocupadas": "nan",
         "(RPC) UCI Porcentaje Ocupadas": "nan",
         "_deepnote_index_column": 12
        },
        {
         "nuevas": 192,
         "dosis_total_diff": 0,
         "primera_dosis_diff": 0,
         "segunda_dosis_diff": 0,
         "refuerzo_diff": 0,
         "(MSP) UCI Porcentaje Ocupadas": "nan",
         "(RPIS) UCI Porcentaje Ocupadas": "nan",
         "(RPC) UCI Porcentaje Ocupadas": "nan",
         "_deepnote_index_column": 13
        },
        {
         "nuevas": 224,
         "dosis_total_diff": 0,
         "primera_dosis_diff": 0,
         "segunda_dosis_diff": 0,
         "refuerzo_diff": 0,
         "(MSP) UCI Porcentaje Ocupadas": "nan",
         "(RPIS) UCI Porcentaje Ocupadas": "nan",
         "(RPC) UCI Porcentaje Ocupadas": "nan",
         "_deepnote_index_column": 14
        },
        {
         "nuevas": 208,
         "dosis_total_diff": 0,
         "primera_dosis_diff": 0,
         "segunda_dosis_diff": 0,
         "refuerzo_diff": 0,
         "(MSP) UCI Porcentaje Ocupadas": "nan",
         "(RPIS) UCI Porcentaje Ocupadas": "nan",
         "(RPC) UCI Porcentaje Ocupadas": "nan",
         "_deepnote_index_column": 15
        },
        {
         "nuevas": 89,
         "dosis_total_diff": 0,
         "primera_dosis_diff": 0,
         "segunda_dosis_diff": 0,
         "refuerzo_diff": 0,
         "(MSP) UCI Porcentaje Ocupadas": "nan",
         "(RPIS) UCI Porcentaje Ocupadas": "nan",
         "(RPC) UCI Porcentaje Ocupadas": "nan",
         "_deepnote_index_column": 16
        },
        {
         "nuevas": 42,
         "dosis_total_diff": 0,
         "primera_dosis_diff": 0,
         "segunda_dosis_diff": 0,
         "refuerzo_diff": 0,
         "(MSP) UCI Porcentaje Ocupadas": "nan",
         "(RPIS) UCI Porcentaje Ocupadas": "nan",
         "(RPC) UCI Porcentaje Ocupadas": "nan",
         "_deepnote_index_column": 17
        },
        {
         "nuevas": 336,
         "dosis_total_diff": 0,
         "primera_dosis_diff": 0,
         "segunda_dosis_diff": 0,
         "refuerzo_diff": 0,
         "(MSP) UCI Porcentaje Ocupadas": "nan",
         "(RPIS) UCI Porcentaje Ocupadas": "nan",
         "(RPC) UCI Porcentaje Ocupadas": "nan",
         "_deepnote_index_column": 18
        },
        {
         "nuevas": 456,
         "dosis_total_diff": 0,
         "primera_dosis_diff": 0,
         "segunda_dosis_diff": 0,
         "refuerzo_diff": 0,
         "(MSP) UCI Porcentaje Ocupadas": "nan",
         "(RPIS) UCI Porcentaje Ocupadas": "nan",
         "(RPC) UCI Porcentaje Ocupadas": "nan",
         "_deepnote_index_column": 19
        },
        {
         "nuevas": 405,
         "dosis_total_diff": 0,
         "primera_dosis_diff": 0,
         "segunda_dosis_diff": 0,
         "refuerzo_diff": 0,
         "(MSP) UCI Porcentaje Ocupadas": "nan",
         "(RPIS) UCI Porcentaje Ocupadas": "nan",
         "(RPC) UCI Porcentaje Ocupadas": "nan",
         "_deepnote_index_column": 20
        },
        {
         "nuevas": 205,
         "dosis_total_diff": 0,
         "primera_dosis_diff": 0,
         "segunda_dosis_diff": 0,
         "refuerzo_diff": 0,
         "(MSP) UCI Porcentaje Ocupadas": "nan",
         "(RPIS) UCI Porcentaje Ocupadas": "nan",
         "(RPC) UCI Porcentaje Ocupadas": "nan",
         "_deepnote_index_column": 21
        },
        {
         "nuevas": 97,
         "dosis_total_diff": 0,
         "primera_dosis_diff": 0,
         "segunda_dosis_diff": 0,
         "refuerzo_diff": 0,
         "(MSP) UCI Porcentaje Ocupadas": "nan",
         "(RPIS) UCI Porcentaje Ocupadas": "nan",
         "(RPC) UCI Porcentaje Ocupadas": "nan",
         "_deepnote_index_column": 22
        },
        {
         "nuevas": 181,
         "dosis_total_diff": 0,
         "primera_dosis_diff": 0,
         "segunda_dosis_diff": 0,
         "refuerzo_diff": 0,
         "(MSP) UCI Porcentaje Ocupadas": "nan",
         "(RPIS) UCI Porcentaje Ocupadas": "nan",
         "(RPC) UCI Porcentaje Ocupadas": "nan",
         "_deepnote_index_column": 23
        },
        {
         "nuevas": 101,
         "dosis_total_diff": 0,
         "primera_dosis_diff": 0,
         "segunda_dosis_diff": 0,
         "refuerzo_diff": 0,
         "(MSP) UCI Porcentaje Ocupadas": "nan",
         "(RPIS) UCI Porcentaje Ocupadas": "nan",
         "(RPC) UCI Porcentaje Ocupadas": "nan",
         "_deepnote_index_column": 24
        },
        {
         "nuevas": 250,
         "dosis_total_diff": 0,
         "primera_dosis_diff": 0,
         "segunda_dosis_diff": 0,
         "refuerzo_diff": 0,
         "(MSP) UCI Porcentaje Ocupadas": "nan",
         "(RPIS) UCI Porcentaje Ocupadas": "nan",
         "(RPC) UCI Porcentaje Ocupadas": "nan",
         "_deepnote_index_column": 25
        },
        {
         "nuevas": 455,
         "dosis_total_diff": 0,
         "primera_dosis_diff": 0,
         "segunda_dosis_diff": 0,
         "refuerzo_diff": 0,
         "(MSP) UCI Porcentaje Ocupadas": "nan",
         "(RPIS) UCI Porcentaje Ocupadas": "nan",
         "(RPC) UCI Porcentaje Ocupadas": "nan",
         "_deepnote_index_column": 26
        },
        {
         "nuevas": 515,
         "dosis_total_diff": 0,
         "primera_dosis_diff": 0,
         "segunda_dosis_diff": 0,
         "refuerzo_diff": 0,
         "(MSP) UCI Porcentaje Ocupadas": "nan",
         "(RPIS) UCI Porcentaje Ocupadas": "nan",
         "(RPC) UCI Porcentaje Ocupadas": "nan",
         "_deepnote_index_column": 27
        },
        {
         "nuevas": 2196,
         "dosis_total_diff": 0,
         "primera_dosis_diff": 0,
         "segunda_dosis_diff": 0,
         "refuerzo_diff": 0,
         "(MSP) UCI Porcentaje Ocupadas": "nan",
         "(RPIS) UCI Porcentaje Ocupadas": "nan",
         "(RPC) UCI Porcentaje Ocupadas": "nan",
         "_deepnote_index_column": 28
        },
        {
         "nuevas": 98,
         "dosis_total_diff": 0,
         "primera_dosis_diff": 0,
         "segunda_dosis_diff": 0,
         "refuerzo_diff": 0,
         "(MSP) UCI Porcentaje Ocupadas": "nan",
         "(RPIS) UCI Porcentaje Ocupadas": "nan",
         "(RPC) UCI Porcentaje Ocupadas": "nan",
         "_deepnote_index_column": 29
        },
        {
         "nuevas": 209,
         "dosis_total_diff": 0,
         "primera_dosis_diff": 0,
         "segunda_dosis_diff": 0,
         "refuerzo_diff": 0,
         "(MSP) UCI Porcentaje Ocupadas": "nan",
         "(RPIS) UCI Porcentaje Ocupadas": "nan",
         "(RPC) UCI Porcentaje Ocupadas": "nan",
         "_deepnote_index_column": 30
        },
        {
         "nuevas": 63,
         "dosis_total_diff": 0,
         "primera_dosis_diff": 0,
         "segunda_dosis_diff": 0,
         "refuerzo_diff": 0,
         "(MSP) UCI Porcentaje Ocupadas": "nan",
         "(RPIS) UCI Porcentaje Ocupadas": "nan",
         "(RPC) UCI Porcentaje Ocupadas": "nan",
         "_deepnote_index_column": 31
        },
        {
         "nuevas": 74,
         "dosis_total_diff": 0,
         "primera_dosis_diff": 0,
         "segunda_dosis_diff": 0,
         "refuerzo_diff": 0,
         "(MSP) UCI Porcentaje Ocupadas": "nan",
         "(RPIS) UCI Porcentaje Ocupadas": "nan",
         "(RPC) UCI Porcentaje Ocupadas": "nan",
         "_deepnote_index_column": 32
        },
        {
         "nuevas": 257,
         "dosis_total_diff": 0,
         "primera_dosis_diff": 0,
         "segunda_dosis_diff": 0,
         "refuerzo_diff": 0,
         "(MSP) UCI Porcentaje Ocupadas": "nan",
         "(RPIS) UCI Porcentaje Ocupadas": "nan",
         "(RPC) UCI Porcentaje Ocupadas": "nan",
         "_deepnote_index_column": 33
        },
        {
         "nuevas": 367,
         "dosis_total_diff": 0,
         "primera_dosis_diff": 0,
         "segunda_dosis_diff": 0,
         "refuerzo_diff": 0,
         "(MSP) UCI Porcentaje Ocupadas": "nan",
         "(RPIS) UCI Porcentaje Ocupadas": "nan",
         "(RPC) UCI Porcentaje Ocupadas": "nan",
         "_deepnote_index_column": 34
        },
        {
         "nuevas": 225,
         "dosis_total_diff": 0,
         "primera_dosis_diff": 0,
         "segunda_dosis_diff": 0,
         "refuerzo_diff": 0,
         "(MSP) UCI Porcentaje Ocupadas": "nan",
         "(RPIS) UCI Porcentaje Ocupadas": "nan",
         "(RPC) UCI Porcentaje Ocupadas": "nan",
         "_deepnote_index_column": 35
        },
        {
         "nuevas": 572,
         "dosis_total_diff": 0,
         "primera_dosis_diff": 0,
         "segunda_dosis_diff": 0,
         "refuerzo_diff": 0,
         "(MSP) UCI Porcentaje Ocupadas": "nan",
         "(RPIS) UCI Porcentaje Ocupadas": "nan",
         "(RPC) UCI Porcentaje Ocupadas": "nan",
         "_deepnote_index_column": 36
        },
        {
         "nuevas": 446,
         "dosis_total_diff": 0,
         "primera_dosis_diff": 0,
         "segunda_dosis_diff": 0,
         "refuerzo_diff": 0,
         "(MSP) UCI Porcentaje Ocupadas": "nan",
         "(RPIS) UCI Porcentaje Ocupadas": "nan",
         "(RPC) UCI Porcentaje Ocupadas": "nan",
         "_deepnote_index_column": 37
        },
        {
         "nuevas": 660,
         "dosis_total_diff": 0,
         "primera_dosis_diff": 0,
         "segunda_dosis_diff": 0,
         "refuerzo_diff": 0,
         "(MSP) UCI Porcentaje Ocupadas": "nan",
         "(RPIS) UCI Porcentaje Ocupadas": "nan",
         "(RPC) UCI Porcentaje Ocupadas": "nan",
         "_deepnote_index_column": 38
        },
        {
         "nuevas": 270,
         "dosis_total_diff": 0,
         "primera_dosis_diff": 0,
         "segunda_dosis_diff": 0,
         "refuerzo_diff": 0,
         "(MSP) UCI Porcentaje Ocupadas": "nan",
         "(RPIS) UCI Porcentaje Ocupadas": "nan",
         "(RPC) UCI Porcentaje Ocupadas": "nan",
         "_deepnote_index_column": 39
        },
        {
         "nuevas": 452,
         "dosis_total_diff": 0,
         "primera_dosis_diff": 0,
         "segunda_dosis_diff": 0,
         "refuerzo_diff": 0,
         "(MSP) UCI Porcentaje Ocupadas": "nan",
         "(RPIS) UCI Porcentaje Ocupadas": "nan",
         "(RPC) UCI Porcentaje Ocupadas": "nan",
         "_deepnote_index_column": 40
        },
        {
         "nuevas": 333,
         "dosis_total_diff": 0,
         "primera_dosis_diff": 0,
         "segunda_dosis_diff": 0,
         "refuerzo_diff": 0,
         "(MSP) UCI Porcentaje Ocupadas": "nan",
         "(RPIS) UCI Porcentaje Ocupadas": "nan",
         "(RPC) UCI Porcentaje Ocupadas": "nan",
         "_deepnote_index_column": 41
        },
        {
         "nuevas": 0,
         "dosis_total_diff": 0,
         "primera_dosis_diff": 0,
         "segunda_dosis_diff": 0,
         "refuerzo_diff": 0,
         "(MSP) UCI Porcentaje Ocupadas": "nan",
         "(RPIS) UCI Porcentaje Ocupadas": "nan",
         "(RPC) UCI Porcentaje Ocupadas": "nan",
         "_deepnote_index_column": 42
        },
        {
         "nuevas": 0,
         "dosis_total_diff": 0,
         "primera_dosis_diff": 0,
         "segunda_dosis_diff": 0,
         "refuerzo_diff": 0,
         "(MSP) UCI Porcentaje Ocupadas": "nan",
         "(RPIS) UCI Porcentaje Ocupadas": "nan",
         "(RPC) UCI Porcentaje Ocupadas": "nan",
         "_deepnote_index_column": 43
        },
        {
         "nuevas": 0,
         "dosis_total_diff": 0,
         "primera_dosis_diff": 0,
         "segunda_dosis_diff": 0,
         "refuerzo_diff": 0,
         "(MSP) UCI Porcentaje Ocupadas": "nan",
         "(RPIS) UCI Porcentaje Ocupadas": "nan",
         "(RPC) UCI Porcentaje Ocupadas": "nan",
         "_deepnote_index_column": 44
        },
        {
         "nuevas": 0,
         "dosis_total_diff": 0,
         "primera_dosis_diff": 0,
         "segunda_dosis_diff": 0,
         "refuerzo_diff": 0,
         "(MSP) UCI Porcentaje Ocupadas": "nan",
         "(RPIS) UCI Porcentaje Ocupadas": "nan",
         "(RPC) UCI Porcentaje Ocupadas": "nan",
         "_deepnote_index_column": 45
        },
        {
         "nuevas": 4545,
         "dosis_total_diff": 0,
         "primera_dosis_diff": 0,
         "segunda_dosis_diff": 0,
         "refuerzo_diff": 0,
         "(MSP) UCI Porcentaje Ocupadas": "nan",
         "(RPIS) UCI Porcentaje Ocupadas": "nan",
         "(RPC) UCI Porcentaje Ocupadas": "nan",
         "_deepnote_index_column": 46
        },
        {
         "nuevas": 417,
         "dosis_total_diff": 0,
         "primera_dosis_diff": 0,
         "segunda_dosis_diff": 0,
         "refuerzo_diff": 0,
         "(MSP) UCI Porcentaje Ocupadas": "nan",
         "(RPIS) UCI Porcentaje Ocupadas": "nan",
         "(RPC) UCI Porcentaje Ocupadas": "nan",
         "_deepnote_index_column": 47
        },
        {
         "nuevas": 259,
         "dosis_total_diff": 0,
         "primera_dosis_diff": 0,
         "segunda_dosis_diff": 0,
         "refuerzo_diff": 0,
         "(MSP) UCI Porcentaje Ocupadas": "nan",
         "(RPIS) UCI Porcentaje Ocupadas": "nan",
         "(RPC) UCI Porcentaje Ocupadas": "nan",
         "_deepnote_index_column": 48
        },
        {
         "nuevas": 1402,
         "dosis_total_diff": 0,
         "primera_dosis_diff": 0,
         "segunda_dosis_diff": 0,
         "refuerzo_diff": 0,
         "(MSP) UCI Porcentaje Ocupadas": "nan",
         "(RPIS) UCI Porcentaje Ocupadas": "nan",
         "(RPC) UCI Porcentaje Ocupadas": "nan",
         "_deepnote_index_column": 49
        },
        {
         "nuevas": 1057,
         "dosis_total_diff": 0,
         "primera_dosis_diff": 0,
         "segunda_dosis_diff": 0,
         "refuerzo_diff": 0,
         "(MSP) UCI Porcentaje Ocupadas": "nan",
         "(RPIS) UCI Porcentaje Ocupadas": "nan",
         "(RPC) UCI Porcentaje Ocupadas": "nan",
         "_deepnote_index_column": 50
        },
        {
         "nuevas": 2074,
         "dosis_total_diff": 0,
         "primera_dosis_diff": 0,
         "segunda_dosis_diff": 0,
         "refuerzo_diff": 0,
         "(MSP) UCI Porcentaje Ocupadas": "nan",
         "(RPIS) UCI Porcentaje Ocupadas": "nan",
         "(RPC) UCI Porcentaje Ocupadas": "nan",
         "_deepnote_index_column": 51
        },
        {
         "nuevas": 2104,
         "dosis_total_diff": 0,
         "primera_dosis_diff": 0,
         "segunda_dosis_diff": 0,
         "refuerzo_diff": 0,
         "(MSP) UCI Porcentaje Ocupadas": "nan",
         "(RPIS) UCI Porcentaje Ocupadas": "nan",
         "(RPC) UCI Porcentaje Ocupadas": "nan",
         "_deepnote_index_column": 52
        },
        {
         "nuevas": 0,
         "dosis_total_diff": 0,
         "primera_dosis_diff": 0,
         "segunda_dosis_diff": 0,
         "refuerzo_diff": 0,
         "(MSP) UCI Porcentaje Ocupadas": "nan",
         "(RPIS) UCI Porcentaje Ocupadas": "nan",
         "(RPC) UCI Porcentaje Ocupadas": "nan",
         "_deepnote_index_column": 53
        },
        {
         "nuevas": 3078,
         "dosis_total_diff": 0,
         "primera_dosis_diff": 0,
         "segunda_dosis_diff": 0,
         "refuerzo_diff": 0,
         "(MSP) UCI Porcentaje Ocupadas": "nan",
         "(RPIS) UCI Porcentaje Ocupadas": "nan",
         "(RPC) UCI Porcentaje Ocupadas": "nan",
         "_deepnote_index_column": 54
        }
       ],
       "rows_bottom": [
        {
         "nuevas": 126,
         "dosis_total_diff": 47976,
         "primera_dosis_diff": 35268,
         "segunda_dosis_diff": 12708,
         "refuerzo_diff": 0,
         "(MSP) UCI Porcentaje Ocupadas": 36,
         "(RPIS) UCI Porcentaje Ocupadas": 42,
         "(RPC) UCI Porcentaje Ocupadas": 15,
         "_deepnote_index_column": 580
        },
        {
         "nuevas": 150,
         "dosis_total_diff": 47276,
         "primera_dosis_diff": 30248,
         "segunda_dosis_diff": 17028,
         "refuerzo_diff": 0,
         "(MSP) UCI Porcentaje Ocupadas": 39,
         "(RPIS) UCI Porcentaje Ocupadas": 41,
         "(RPC) UCI Porcentaje Ocupadas": 15,
         "_deepnote_index_column": 581
        },
        {
         "nuevas": 255,
         "dosis_total_diff": 8842,
         "primera_dosis_diff": 6373,
         "segunda_dosis_diff": 2469,
         "refuerzo_diff": 0,
         "(MSP) UCI Porcentaje Ocupadas": 37,
         "(RPIS) UCI Porcentaje Ocupadas": 40,
         "(RPC) UCI Porcentaje Ocupadas": 12,
         "_deepnote_index_column": 582
        },
        {
         "nuevas": 119,
         "dosis_total_diff": 4883,
         "primera_dosis_diff": 3717,
         "segunda_dosis_diff": 1166,
         "refuerzo_diff": 0,
         "(MSP) UCI Porcentaje Ocupadas": 36,
         "(RPIS) UCI Porcentaje Ocupadas": 40,
         "(RPC) UCI Porcentaje Ocupadas": 12,
         "_deepnote_index_column": 583
        },
        {
         "nuevas": 55,
         "dosis_total_diff": 68306,
         "primera_dosis_diff": 49211,
         "segunda_dosis_diff": 17754,
         "refuerzo_diff": 1341,
         "(MSP) UCI Porcentaje Ocupadas": 34,
         "(RPIS) UCI Porcentaje Ocupadas": 46,
         "(RPC) UCI Porcentaje Ocupadas": 17,
         "_deepnote_index_column": 584
        },
        {
         "nuevas": 356,
         "dosis_total_diff": 93280,
         "primera_dosis_diff": 71719,
         "segunda_dosis_diff": 18751,
         "refuerzo_diff": 2810,
         "(MSP) UCI Porcentaje Ocupadas": 34,
         "(RPIS) UCI Porcentaje Ocupadas": 37,
         "(RPC) UCI Porcentaje Ocupadas": 17,
         "_deepnote_index_column": 585
        },
        {
         "nuevas": 569,
         "dosis_total_diff": 120868,
         "primera_dosis_diff": 94859,
         "segunda_dosis_diff": 23946,
         "refuerzo_diff": 2063,
         "(MSP) UCI Porcentaje Ocupadas": 32,
         "(RPIS) UCI Porcentaje Ocupadas": 43,
         "(RPC) UCI Porcentaje Ocupadas": 16,
         "_deepnote_index_column": 586
        },
        {
         "nuevas": 386,
         "dosis_total_diff": 137111,
         "primera_dosis_diff": 109934,
         "segunda_dosis_diff": 23545,
         "refuerzo_diff": 3632,
         "(MSP) UCI Porcentaje Ocupadas": 28,
         "(RPIS) UCI Porcentaje Ocupadas": 49,
         "(RPC) UCI Porcentaje Ocupadas": 17,
         "_deepnote_index_column": 587
        },
        {
         "nuevas": 269,
         "dosis_total_diff": 129483,
         "primera_dosis_diff": 96979,
         "segunda_dosis_diff": 26303,
         "refuerzo_diff": 6201,
         "(MSP) UCI Porcentaje Ocupadas": 30,
         "(RPIS) UCI Porcentaje Ocupadas": 47,
         "(RPC) UCI Porcentaje Ocupadas": 17,
         "_deepnote_index_column": 588
        },
        {
         "nuevas": 295,
         "dosis_total_diff": 16500,
         "primera_dosis_diff": 9838,
         "segunda_dosis_diff": 4776,
         "refuerzo_diff": 1886,
         "(MSP) UCI Porcentaje Ocupadas": 31,
         "(RPIS) UCI Porcentaje Ocupadas": 49,
         "(RPC) UCI Porcentaje Ocupadas": 19,
         "_deepnote_index_column": 589
        },
        {
         "nuevas": 26,
         "dosis_total_diff": 5927,
         "primera_dosis_diff": 3627,
         "segunda_dosis_diff": 1462,
         "refuerzo_diff": 838,
         "(MSP) UCI Porcentaje Ocupadas": 31,
         "(RPIS) UCI Porcentaje Ocupadas": 47,
         "(RPC) UCI Porcentaje Ocupadas": 20,
         "_deepnote_index_column": 590
        },
        {
         "nuevas": 27,
         "dosis_total_diff": 112324,
         "primera_dosis_diff": 82473,
         "segunda_dosis_diff": 25836,
         "refuerzo_diff": 4015,
         "(MSP) UCI Porcentaje Ocupadas": 34,
         "(RPIS) UCI Porcentaje Ocupadas": 51,
         "(RPC) UCI Porcentaje Ocupadas": 18,
         "_deepnote_index_column": 591
        },
        {
         "nuevas": 200,
         "dosis_total_diff": 127721,
         "primera_dosis_diff": 90011,
         "segunda_dosis_diff": 28972,
         "refuerzo_diff": 8738,
         "(MSP) UCI Porcentaje Ocupadas": 33,
         "(RPIS) UCI Porcentaje Ocupadas": 47,
         "(RPC) UCI Porcentaje Ocupadas": 18,
         "_deepnote_index_column": 592
        },
        {
         "nuevas": 308,
         "dosis_total_diff": 128536,
         "primera_dosis_diff": 89977,
         "segunda_dosis_diff": 26702,
         "refuerzo_diff": 11857,
         "(MSP) UCI Porcentaje Ocupadas": 35,
         "(RPIS) UCI Porcentaje Ocupadas": 58,
         "(RPC) UCI Porcentaje Ocupadas": 18,
         "_deepnote_index_column": 593
        },
        {
         "nuevas": 263,
         "dosis_total_diff": 128127,
         "primera_dosis_diff": 90964,
         "segunda_dosis_diff": 28967,
         "refuerzo_diff": 8196,
         "(MSP) UCI Porcentaje Ocupadas": 32,
         "(RPIS) UCI Porcentaje Ocupadas": 57,
         "(RPC) UCI Porcentaje Ocupadas": 17,
         "_deepnote_index_column": 594
        },
        {
         "nuevas": 501,
         "dosis_total_diff": 110301,
         "primera_dosis_diff": 76710,
         "segunda_dosis_diff": 27714,
         "refuerzo_diff": 5877,
         "(MSP) UCI Porcentaje Ocupadas": 34,
         "(RPIS) UCI Porcentaje Ocupadas": 56,
         "(RPC) UCI Porcentaje Ocupadas": 17,
         "_deepnote_index_column": 595
        },
        {
         "nuevas": 271,
         "dosis_total_diff": 8010,
         "primera_dosis_diff": 3113,
         "segunda_dosis_diff": 4020,
         "refuerzo_diff": 877,
         "(MSP) UCI Porcentaje Ocupadas": 36,
         "(RPIS) UCI Porcentaje Ocupadas": 56,
         "(RPC) UCI Porcentaje Ocupadas": 16,
         "_deepnote_index_column": 596
        },
        {
         "nuevas": 60,
         "dosis_total_diff": 3095,
         "primera_dosis_diff": 1026,
         "segunda_dosis_diff": 1453,
         "refuerzo_diff": 616,
         "(MSP) UCI Porcentaje Ocupadas": 35,
         "(RPIS) UCI Porcentaje Ocupadas": 56,
         "(RPC) UCI Porcentaje Ocupadas": 15,
         "_deepnote_index_column": 597
        },
        {
         "nuevas": 913,
         "dosis_total_diff": 2677,
         "primera_dosis_diff": 1081,
         "segunda_dosis_diff": 1076,
         "refuerzo_diff": 520,
         "(MSP) UCI Porcentaje Ocupadas": 37,
         "(RPIS) UCI Porcentaje Ocupadas": 55,
         "(RPC) UCI Porcentaje Ocupadas": 16,
         "_deepnote_index_column": 598
        },
        {
         "nuevas": 48,
         "dosis_total_diff": 2661,
         "primera_dosis_diff": 1174,
         "segunda_dosis_diff": 856,
         "refuerzo_diff": 631,
         "(MSP) UCI Porcentaje Ocupadas": 38,
         "(RPIS) UCI Porcentaje Ocupadas": 54,
         "(RPC) UCI Porcentaje Ocupadas": 15,
         "_deepnote_index_column": 599
        },
        {
         "nuevas": 55,
         "dosis_total_diff": 3807,
         "primera_dosis_diff": 1543,
         "segunda_dosis_diff": 1380,
         "refuerzo_diff": 884,
         "(MSP) UCI Porcentaje Ocupadas": 46,
         "(RPIS) UCI Porcentaje Ocupadas": 59,
         "(RPC) UCI Porcentaje Ocupadas": 17,
         "_deepnote_index_column": 600
        },
        {
         "nuevas": 315,
         "dosis_total_diff": 86542,
         "primera_dosis_diff": 51448,
         "segunda_dosis_diff": 25802,
         "refuerzo_diff": 9292,
         "(MSP) UCI Porcentaje Ocupadas": 50,
         "(RPIS) UCI Porcentaje Ocupadas": 59,
         "(RPC) UCI Porcentaje Ocupadas": 18,
         "_deepnote_index_column": 601
        },
        {
         "nuevas": 386,
         "dosis_total_diff": 0,
         "primera_dosis_diff": 0,
         "segunda_dosis_diff": 0,
         "refuerzo_diff": 0,
         "(MSP) UCI Porcentaje Ocupadas": 51,
         "(RPIS) UCI Porcentaje Ocupadas": 58,
         "(RPC) UCI Porcentaje Ocupadas": 18,
         "_deepnote_index_column": 602
        },
        {
         "nuevas": 411,
         "dosis_total_diff": 0,
         "primera_dosis_diff": 0,
         "segunda_dosis_diff": 0,
         "refuerzo_diff": 0,
         "(MSP) UCI Porcentaje Ocupadas": 47,
         "(RPIS) UCI Porcentaje Ocupadas": 60,
         "(RPC) UCI Porcentaje Ocupadas": 18,
         "_deepnote_index_column": 603
        },
        {
         "nuevas": 96,
         "dosis_total_diff": 102075,
         "primera_dosis_diff": 58111,
         "segunda_dosis_diff": 27039,
         "refuerzo_diff": 16925,
         "(MSP) UCI Porcentaje Ocupadas": 45,
         "(RPIS) UCI Porcentaje Ocupadas": 58,
         "(RPC) UCI Porcentaje Ocupadas": 16,
         "_deepnote_index_column": 604
        },
        {
         "nuevas": 78,
         "dosis_total_diff": 92067,
         "primera_dosis_diff": 51504,
         "segunda_dosis_diff": 26451,
         "refuerzo_diff": 14112,
         "(MSP) UCI Porcentaje Ocupadas": 45,
         "(RPIS) UCI Porcentaje Ocupadas": 62,
         "(RPC) UCI Porcentaje Ocupadas": 17,
         "_deepnote_index_column": 605
        },
        {
         "nuevas": 407,
         "dosis_total_diff": 102079,
         "primera_dosis_diff": 56635,
         "segunda_dosis_diff": 32190,
         "refuerzo_diff": 13254,
         "(MSP) UCI Porcentaje Ocupadas": 42,
         "(RPIS) UCI Porcentaje Ocupadas": 46,
         "(RPC) UCI Porcentaje Ocupadas": 16,
         "_deepnote_index_column": 606
        },
        {
         "nuevas": 329,
         "dosis_total_diff": 114171,
         "primera_dosis_diff": 61298,
         "segunda_dosis_diff": 37358,
         "refuerzo_diff": 15515,
         "(MSP) UCI Porcentaje Ocupadas": 44,
         "(RPIS) UCI Porcentaje Ocupadas": 61,
         "(RPC) UCI Porcentaje Ocupadas": 15,
         "_deepnote_index_column": 607
        },
        {
         "nuevas": 387,
         "dosis_total_diff": 105751,
         "primera_dosis_diff": 53373,
         "segunda_dosis_diff": 38825,
         "refuerzo_diff": 13553,
         "(MSP) UCI Porcentaje Ocupadas": 45,
         "(RPIS) UCI Porcentaje Ocupadas": 47,
         "(RPC) UCI Porcentaje Ocupadas": 17,
         "_deepnote_index_column": 608
        },
        {
         "nuevas": 596,
         "dosis_total_diff": 94289,
         "primera_dosis_diff": 48222,
         "segunda_dosis_diff": 31743,
         "refuerzo_diff": 14324,
         "(MSP) UCI Porcentaje Ocupadas": 49,
         "(RPIS) UCI Porcentaje Ocupadas": 59,
         "(RPC) UCI Porcentaje Ocupadas": 15,
         "_deepnote_index_column": 609
        },
        {
         "nuevas": 419,
         "dosis_total_diff": 37250,
         "primera_dosis_diff": 25801,
         "segunda_dosis_diff": 7953,
         "refuerzo_diff": 3496,
         "(MSP) UCI Porcentaje Ocupadas": 45,
         "(RPIS) UCI Porcentaje Ocupadas": 60,
         "(RPC) UCI Porcentaje Ocupadas": 15,
         "_deepnote_index_column": 610
        },
        {
         "nuevas": 94,
         "dosis_total_diff": 27877,
         "primera_dosis_diff": 19066,
         "segunda_dosis_diff": 5292,
         "refuerzo_diff": 3519,
         "(MSP) UCI Porcentaje Ocupadas": 44,
         "(RPIS) UCI Porcentaje Ocupadas": 56,
         "(RPC) UCI Porcentaje Ocupadas": 15,
         "_deepnote_index_column": 611
        },
        {
         "nuevas": 53,
         "dosis_total_diff": 102423,
         "primera_dosis_diff": 49090,
         "segunda_dosis_diff": 36340,
         "refuerzo_diff": 16993,
         "(MSP) UCI Porcentaje Ocupadas": 41,
         "(RPIS) UCI Porcentaje Ocupadas": 60,
         "(RPC) UCI Porcentaje Ocupadas": 14,
         "_deepnote_index_column": 612
        },
        {
         "nuevas": 547,
         "dosis_total_diff": 121402,
         "primera_dosis_diff": 58582,
         "segunda_dosis_diff": 45403,
         "refuerzo_diff": 17417,
         "(MSP) UCI Porcentaje Ocupadas": 41,
         "(RPIS) UCI Porcentaje Ocupadas": 64,
         "(RPC) UCI Porcentaje Ocupadas": 12,
         "_deepnote_index_column": 613
        },
        {
         "nuevas": 391,
         "dosis_total_diff": 134487,
         "primera_dosis_diff": 54949,
         "segunda_dosis_diff": 54729,
         "refuerzo_diff": 24809,
         "(MSP) UCI Porcentaje Ocupadas": 42,
         "(RPIS) UCI Porcentaje Ocupadas": 65,
         "(RPC) UCI Porcentaje Ocupadas": 13,
         "_deepnote_index_column": 614
        },
        {
         "nuevas": 572,
         "dosis_total_diff": 130337,
         "primera_dosis_diff": 47411,
         "segunda_dosis_diff": 61556,
         "refuerzo_diff": 21370,
         "(MSP) UCI Porcentaje Ocupadas": 45,
         "(RPIS) UCI Porcentaje Ocupadas": 73,
         "(RPC) UCI Porcentaje Ocupadas": 15,
         "_deepnote_index_column": 615
        },
        {
         "nuevas": 492,
         "dosis_total_diff": 133086,
         "primera_dosis_diff": 53657,
         "segunda_dosis_diff": 62562,
         "refuerzo_diff": 16867,
         "(MSP) UCI Porcentaje Ocupadas": 45,
         "(RPIS) UCI Porcentaje Ocupadas": 66,
         "(RPC) UCI Porcentaje Ocupadas": 17,
         "_deepnote_index_column": 616
        },
        {
         "nuevas": 364,
         "dosis_total_diff": 58488,
         "primera_dosis_diff": 26772,
         "segunda_dosis_diff": 24284,
         "refuerzo_diff": 7432,
         "(MSP) UCI Porcentaje Ocupadas": 47,
         "(RPIS) UCI Porcentaje Ocupadas": 65,
         "(RPC) UCI Porcentaje Ocupadas": 17,
         "_deepnote_index_column": 617
        },
        {
         "nuevas": 142,
         "dosis_total_diff": 39585,
         "primera_dosis_diff": 17434,
         "segunda_dosis_diff": 16875,
         "refuerzo_diff": 5276,
         "(MSP) UCI Porcentaje Ocupadas": 48,
         "(RPIS) UCI Porcentaje Ocupadas": 68,
         "(RPC) UCI Porcentaje Ocupadas": 16,
         "_deepnote_index_column": 618
        },
        {
         "nuevas": 79,
         "dosis_total_diff": 128675,
         "primera_dosis_diff": 42303,
         "segunda_dosis_diff": 65797,
         "refuerzo_diff": 20575,
         "(MSP) UCI Porcentaje Ocupadas": 50,
         "(RPIS) UCI Porcentaje Ocupadas": 67,
         "(RPC) UCI Porcentaje Ocupadas": 22,
         "_deepnote_index_column": 619
        },
        {
         "nuevas": 453,
         "dosis_total_diff": 140556,
         "primera_dosis_diff": 49900,
         "segunda_dosis_diff": 71603,
         "refuerzo_diff": 19053,
         "(MSP) UCI Porcentaje Ocupadas": 47,
         "(RPIS) UCI Porcentaje Ocupadas": 67,
         "(RPC) UCI Porcentaje Ocupadas": 20,
         "_deepnote_index_column": 620
        },
        {
         "nuevas": 513,
         "dosis_total_diff": 154982,
         "primera_dosis_diff": 51464,
         "segunda_dosis_diff": 87427,
         "refuerzo_diff": 16091,
         "(MSP) UCI Porcentaje Ocupadas": 50,
         "(RPIS) UCI Porcentaje Ocupadas": 67,
         "(RPC) UCI Porcentaje Ocupadas": 20,
         "_deepnote_index_column": 621
        },
        {
         "nuevas": 432,
         "dosis_total_diff": 150409,
         "primera_dosis_diff": 49218,
         "segunda_dosis_diff": 86288,
         "refuerzo_diff": 14903,
         "(MSP) UCI Porcentaje Ocupadas": 55,
         "(RPIS) UCI Porcentaje Ocupadas": 65,
         "(RPC) UCI Porcentaje Ocupadas": 21,
         "_deepnote_index_column": 622
        },
        {
         "nuevas": 307,
         "dosis_total_diff": 147245,
         "primera_dosis_diff": 44428,
         "segunda_dosis_diff": 85040,
         "refuerzo_diff": 17777,
         "(MSP) UCI Porcentaje Ocupadas": 55,
         "(RPIS) UCI Porcentaje Ocupadas": 66,
         "(RPC) UCI Porcentaje Ocupadas": 19,
         "_deepnote_index_column": 623
        },
        {
         "nuevas": 478,
         "dosis_total_diff": 40754,
         "primera_dosis_diff": 15885,
         "segunda_dosis_diff": 16637,
         "refuerzo_diff": 8232,
         "(MSP) UCI Porcentaje Ocupadas": 54,
         "(RPIS) UCI Porcentaje Ocupadas": 67,
         "(RPC) UCI Porcentaje Ocupadas": 18,
         "_deepnote_index_column": 624
        },
        {
         "nuevas": 185,
         "dosis_total_diff": 20929,
         "primera_dosis_diff": 7217,
         "segunda_dosis_diff": 8983,
         "refuerzo_diff": 4729,
         "(MSP) UCI Porcentaje Ocupadas": 47,
         "(RPIS) UCI Porcentaje Ocupadas": 66,
         "(RPC) UCI Porcentaje Ocupadas": 18,
         "_deepnote_index_column": 625
        },
        {
         "nuevas": 70,
         "dosis_total_diff": 112959,
         "primera_dosis_diff": 30081,
         "segunda_dosis_diff": 60501,
         "refuerzo_diff": 22377,
         "(MSP) UCI Porcentaje Ocupadas": 51,
         "(RPIS) UCI Porcentaje Ocupadas": 57,
         "(RPC) UCI Porcentaje Ocupadas": 19,
         "_deepnote_index_column": 626
        },
        {
         "nuevas": 463,
         "dosis_total_diff": 113323,
         "primera_dosis_diff": 36006,
         "segunda_dosis_diff": 55159,
         "refuerzo_diff": 22158,
         "(MSP) UCI Porcentaje Ocupadas": 56,
         "(RPIS) UCI Porcentaje Ocupadas": 72,
         "(RPC) UCI Porcentaje Ocupadas": 21,
         "_deepnote_index_column": 627
        },
        {
         "nuevas": 355,
         "dosis_total_diff": 211563,
         "primera_dosis_diff": 69888,
         "segunda_dosis_diff": 111468,
         "refuerzo_diff": 18617,
         "(MSP) UCI Porcentaje Ocupadas": 56,
         "(RPIS) UCI Porcentaje Ocupadas": 69,
         "(RPC) UCI Porcentaje Ocupadas": 19,
         "_deepnote_index_column": 628
        },
        {
         "nuevas": 677,
         "dosis_total_diff": 113909,
         "primera_dosis_diff": 27818,
         "segunda_dosis_diff": 53537,
         "refuerzo_diff": 44144,
         "(MSP) UCI Porcentaje Ocupadas": 55,
         "(RPIS) UCI Porcentaje Ocupadas": 66,
         "(RPC) UCI Porcentaje Ocupadas": 20,
         "_deepnote_index_column": 629
        },
        {
         "nuevas": 677,
         "dosis_total_diff": 0,
         "primera_dosis_diff": 0,
         "segunda_dosis_diff": 0,
         "refuerzo_diff": 0,
         "(MSP) UCI Porcentaje Ocupadas": 55,
         "(RPIS) UCI Porcentaje Ocupadas": 68,
         "(RPC) UCI Porcentaje Ocupadas": 21,
         "_deepnote_index_column": 630
        },
        {
         "nuevas": 677,
         "dosis_total_diff": 0,
         "primera_dosis_diff": 0,
         "segunda_dosis_diff": 0,
         "refuerzo_diff": 0,
         "(MSP) UCI Porcentaje Ocupadas": 52,
         "(RPIS) UCI Porcentaje Ocupadas": 67,
         "(RPC) UCI Porcentaje Ocupadas": 23,
         "_deepnote_index_column": 631
        },
        {
         "nuevas": 677,
         "dosis_total_diff": 0,
         "primera_dosis_diff": 0,
         "segunda_dosis_diff": 0,
         "refuerzo_diff": 0,
         "(MSP) UCI Porcentaje Ocupadas": 50,
         "(RPIS) UCI Porcentaje Ocupadas": 68,
         "(RPC) UCI Porcentaje Ocupadas": 21,
         "_deepnote_index_column": 632
        },
        {
         "nuevas": 677,
         "dosis_total_diff": 0,
         "primera_dosis_diff": 0,
         "segunda_dosis_diff": 0,
         "refuerzo_diff": 0,
         "(MSP) UCI Porcentaje Ocupadas": 55,
         "(RPIS) UCI Porcentaje Ocupadas": 69,
         "(RPC) UCI Porcentaje Ocupadas": 20,
         "_deepnote_index_column": 633
        },
        {
         "nuevas": 677,
         "dosis_total_diff": 0,
         "primera_dosis_diff": 0,
         "segunda_dosis_diff": 0,
         "refuerzo_diff": 0,
         "(MSP) UCI Porcentaje Ocupadas": 61,
         "(RPIS) UCI Porcentaje Ocupadas": 71,
         "(RPC) UCI Porcentaje Ocupadas": 19,
         "_deepnote_index_column": 634
        },
        {
         "nuevas": 677,
         "dosis_total_diff": 0,
         "primera_dosis_diff": 0,
         "segunda_dosis_diff": 0,
         "refuerzo_diff": 0,
         "(MSP) UCI Porcentaje Ocupadas": 55,
         "(RPIS) UCI Porcentaje Ocupadas": 70,
         "(RPC) UCI Porcentaje Ocupadas": 22,
         "_deepnote_index_column": 635
        }
       ]
      },
      "text/plain": "     nuevas  dosis_total_diff  primera_dosis_diff  segunda_dosis_diff  \\\n0      23.0               0.0                 0.0                 0.0   \n1       5.0               0.0                 0.0                 0.0   \n2      11.0               0.0                 0.0                 0.0   \n3      21.0               0.0                 0.0                 0.0   \n4      53.0               0.0                 0.0                 0.0   \n..      ...               ...                 ...                 ...   \n631   677.0               0.0                 0.0                 0.0   \n632   677.0               0.0                 0.0                 0.0   \n633   677.0               0.0                 0.0                 0.0   \n634   677.0               0.0                 0.0                 0.0   \n635   677.0               0.0                 0.0                 0.0   \n\n     refuerzo_diff  (MSP) UCI Porcentaje Ocupadas  \\\n0              0.0                            NaN   \n1              0.0                            NaN   \n2              0.0                            NaN   \n3              0.0                            NaN   \n4              0.0                            NaN   \n..             ...                            ...   \n631            0.0                           52.0   \n632            0.0                           50.0   \n633            0.0                           55.0   \n634            0.0                           61.0   \n635            0.0                           55.0   \n\n     (RPIS) UCI Porcentaje Ocupadas  (RPC) UCI Porcentaje Ocupadas  \n0                               NaN                            NaN  \n1                               NaN                            NaN  \n2                               NaN                            NaN  \n3                               NaN                            NaN  \n4                               NaN                            NaN  \n..                              ...                            ...  \n631                            67.0                           23.0  \n632                            68.0                           21.0  \n633                            69.0                           20.0  \n634                            71.0                           19.0  \n635                            70.0                           22.0  \n\n[636 rows x 8 columns]",
      "text/html": "<div>\n<style scoped>\n    .dataframe tbody tr th:only-of-type {\n        vertical-align: middle;\n    }\n\n    .dataframe tbody tr th {\n        vertical-align: top;\n    }\n\n    .dataframe thead th {\n        text-align: right;\n    }\n</style>\n<table border=\"1\" class=\"dataframe\">\n  <thead>\n    <tr style=\"text-align: right;\">\n      <th></th>\n      <th>nuevas</th>\n      <th>dosis_total_diff</th>\n      <th>primera_dosis_diff</th>\n      <th>segunda_dosis_diff</th>\n      <th>refuerzo_diff</th>\n      <th>(MSP) UCI Porcentaje Ocupadas</th>\n      <th>(RPIS) UCI Porcentaje Ocupadas</th>\n      <th>(RPC) UCI Porcentaje Ocupadas</th>\n    </tr>\n  </thead>\n  <tbody>\n    <tr>\n      <th>0</th>\n      <td>23.0</td>\n      <td>0.0</td>\n      <td>0.0</td>\n      <td>0.0</td>\n      <td>0.0</td>\n      <td>NaN</td>\n      <td>NaN</td>\n      <td>NaN</td>\n    </tr>\n    <tr>\n      <th>1</th>\n      <td>5.0</td>\n      <td>0.0</td>\n      <td>0.0</td>\n      <td>0.0</td>\n      <td>0.0</td>\n      <td>NaN</td>\n      <td>NaN</td>\n      <td>NaN</td>\n    </tr>\n    <tr>\n      <th>2</th>\n      <td>11.0</td>\n      <td>0.0</td>\n      <td>0.0</td>\n      <td>0.0</td>\n      <td>0.0</td>\n      <td>NaN</td>\n      <td>NaN</td>\n      <td>NaN</td>\n    </tr>\n    <tr>\n      <th>3</th>\n      <td>21.0</td>\n      <td>0.0</td>\n      <td>0.0</td>\n      <td>0.0</td>\n      <td>0.0</td>\n      <td>NaN</td>\n      <td>NaN</td>\n      <td>NaN</td>\n    </tr>\n    <tr>\n      <th>4</th>\n      <td>53.0</td>\n      <td>0.0</td>\n      <td>0.0</td>\n      <td>0.0</td>\n      <td>0.0</td>\n      <td>NaN</td>\n      <td>NaN</td>\n      <td>NaN</td>\n    </tr>\n    <tr>\n      <th>...</th>\n      <td>...</td>\n      <td>...</td>\n      <td>...</td>\n      <td>...</td>\n      <td>...</td>\n      <td>...</td>\n      <td>...</td>\n      <td>...</td>\n    </tr>\n    <tr>\n      <th>631</th>\n      <td>677.0</td>\n      <td>0.0</td>\n      <td>0.0</td>\n      <td>0.0</td>\n      <td>0.0</td>\n      <td>52.0</td>\n      <td>67.0</td>\n      <td>23.0</td>\n    </tr>\n    <tr>\n      <th>632</th>\n      <td>677.0</td>\n      <td>0.0</td>\n      <td>0.0</td>\n      <td>0.0</td>\n      <td>0.0</td>\n      <td>50.0</td>\n      <td>68.0</td>\n      <td>21.0</td>\n    </tr>\n    <tr>\n      <th>633</th>\n      <td>677.0</td>\n      <td>0.0</td>\n      <td>0.0</td>\n      <td>0.0</td>\n      <td>0.0</td>\n      <td>55.0</td>\n      <td>69.0</td>\n      <td>20.0</td>\n    </tr>\n    <tr>\n      <th>634</th>\n      <td>677.0</td>\n      <td>0.0</td>\n      <td>0.0</td>\n      <td>0.0</td>\n      <td>0.0</td>\n      <td>61.0</td>\n      <td>71.0</td>\n      <td>19.0</td>\n    </tr>\n    <tr>\n      <th>635</th>\n      <td>677.0</td>\n      <td>0.0</td>\n      <td>0.0</td>\n      <td>0.0</td>\n      <td>0.0</td>\n      <td>55.0</td>\n      <td>70.0</td>\n      <td>22.0</td>\n    </tr>\n  </tbody>\n</table>\n<p>636 rows × 8 columns</p>\n</div>"
     },
     "metadata": {}
    }
   ]
  },
  {
   "cell_type": "code",
   "metadata": {
    "tags": [],
    "cell_id": "00006-89ab9a3b-a669-4fe1-bbc5-e997b159e7fc",
    "deepnote_to_be_reexecuted": false,
    "source_hash": "6475fc0a",
    "execution_start": 1639583781733,
    "execution_millis": 95,
    "deepnote_output_heights": [
     78.765625
    ],
    "deepnote_cell_type": "code"
   },
   "source": "df_unified.columns",
   "execution_count": null,
   "outputs": [
    {
     "output_type": "execute_result",
     "execution_count": 7,
     "data": {
      "text/plain": "Index(['nuevas', 'dosis_total_diff', 'primera_dosis_diff',\n       'segunda_dosis_diff', 'refuerzo_diff', '(MSP) UCI Porcentaje Ocupadas',\n       '(RPIS) UCI Porcentaje Ocupadas', '(RPC) UCI Porcentaje Ocupadas'],\n      dtype='object')"
     },
     "metadata": {}
    }
   ]
  },
  {
   "cell_type": "code",
   "metadata": {
    "tags": [],
    "cell_id": "00007-4fdcbae2-3958-4592-bc77-82f6aaff1ba6",
    "deepnote_to_be_reexecuted": false,
    "source_hash": "82ccda15",
    "execution_start": 1639583876208,
    "execution_millis": 26,
    "deepnote_cell_type": "code"
   },
   "source": "df_unified.drop(columns=['(MSP) UCI Porcentaje Ocupadas', \n'(RPIS) UCI Porcentaje Ocupadas',\n'(RPC) UCI Porcentaje Ocupadas'], inplace=True)",
   "execution_count": null,
   "outputs": []
  },
  {
   "cell_type": "code",
   "metadata": {
    "tags": [],
    "cell_id": "00008-456c9efa-1948-4e21-975e-24d03b66e493",
    "deepnote_to_be_reexecuted": false,
    "source_hash": "f2f79983",
    "execution_start": 1639583886899,
    "execution_millis": 35,
    "deepnote_cell_type": "code"
   },
   "source": "sns.set_theme()",
   "execution_count": null,
   "outputs": []
  },
  {
   "cell_type": "code",
   "metadata": {
    "tags": [],
    "cell_id": "00009-072b5750-7f41-443c-8810-535e8b1c00a9",
    "deepnote_to_be_reexecuted": false,
    "source_hash": "eacf4a55",
    "execution_start": 1639584191633,
    "execution_millis": 1144,
    "deepnote_output_heights": [
     21.1875
    ],
    "deepnote_cell_type": "code"
   },
   "source": "df_unified.shape",
   "execution_count": null,
   "outputs": [
    {
     "output_type": "execute_result",
     "execution_count": 13,
     "data": {
      "text/plain": "(636, 5)"
     },
     "metadata": {}
    }
   ]
  },
  {
   "cell_type": "code",
   "metadata": {
    "tags": [],
    "cell_id": "00009-ea1dbc7f-eca7-46cb-a6ab-53cee556ceea",
    "deepnote_to_be_reexecuted": false,
    "source_hash": "76a9ee33",
    "execution_start": 1639583950329,
    "execution_millis": 6940,
    "deepnote_output_heights": [
     21.1875,
     611
    ],
    "deepnote_cell_type": "code"
   },
   "source": "sns.pairplot(df_unified, diag_kind='kde')",
   "execution_count": null,
   "outputs": [
    {
     "output_type": "execute_result",
     "execution_count": 12,
     "data": {
      "text/plain": "<seaborn.axisgrid.PairGrid at 0x7f90598d17d0>"
     },
     "metadata": {}
    },
    {
     "data": {
      "text/plain": "<Figure size 900x900 with 30 Axes>",
      "image/png": "[encoded data removed]"
     },
     "metadata": {
      "image/png": {
       "width": 884,
       "height": 884
      }
     },
     "output_type": "display_data"
    }
   ]
  },
  {
   "cell_type": "code",
   "metadata": {
    "tags": [],
    "cell_id": "00011-6b788707-ae8b-4b71-83d5-165d1eb5c05f",
    "deepnote_to_be_reexecuted": false,
    "source_hash": "22c8834",
    "execution_start": 1639586124341,
    "execution_millis": 698,
    "deepnote_output_heights": [
     21.1875,
     352
    ],
    "deepnote_cell_type": "code"
   },
   "source": "sns.heatmap(df_unified.corr(), annot=True)",
   "execution_count": null,
   "outputs": [
    {
     "output_type": "execute_result",
     "execution_count": 30,
     "data": {
      "text/plain": "<AxesSubplot:>"
     },
     "metadata": {}
    },
    {
     "data": {
      "text/plain": "<Figure size 432x288 with 2 Axes>",
      "image/png": "[encoded data removed]"
     },
     "metadata": {
      "image/png": {
       "width": 450,
       "height": 350
      }
     },
     "output_type": "display_data"
    }
   ]
  },
  {
   "cell_type": "markdown",
   "source": "## Transformation/normalization",
   "metadata": {
    "tags": [],
    "is_collapsed": false,
    "cell_id": "00012-d9a550a4-5733-4121-943a-8b947bdb91b5",
    "deepnote_cell_type": "text-cell-h2"
   }
  },
  {
   "cell_type": "code",
   "metadata": {
    "tags": [],
    "cell_id": "00012-5825137f-fe91-4bcc-9eab-924897037d08",
    "deepnote_to_be_reexecuted": false,
    "source_hash": "2e34ba1b",
    "execution_start": 1639587096882,
    "execution_millis": 789,
    "deepnote_output_heights": [
     136.34375
    ],
    "deepnote_cell_type": "code"
   },
   "source": "#Power transformation\npt = PowerTransformer(method='yeo-johnson')\ndf_unified_yeo_johnson = pt.fit_transform(df_unified)\n",
   "execution_count": null,
   "outputs": []
  },
  {
   "cell_type": "code",
   "metadata": {
    "tags": [],
    "cell_id": "00014-678ebea6-3649-481d-ac17-abfb1045ff05",
    "deepnote_to_be_reexecuted": false,
    "source_hash": "f87e4df3",
    "execution_start": 1639587119855,
    "execution_millis": 1048,
    "deepnote_output_heights": [
     136.34375
    ],
    "deepnote_cell_type": "code"
   },
   "source": "df_unified_yeo_johnson",
   "execution_count": null,
   "outputs": [
    {
     "output_type": "execute_result",
     "execution_count": 42,
     "data": {
      "text/plain": "array([[-1.88899447, -0.74318408, -0.70288725, -0.71484955, -0.27559678],\n       [-2.19439358, -0.74318408, -0.70288725, -0.71484955, -0.27559678],\n       [-2.06182971, -0.74318408, -0.70288725, -0.71484955, -0.27559678],\n       ...,\n       [ 0.03356159, -0.74318408, -0.70288725, -0.71484955, -0.27559678],\n       [ 0.03356159, -0.74318408, -0.70288725, -0.71484955, -0.27559678],\n       [ 0.03356159, -0.74318408, -0.70288725, -0.71484955, -0.27559678]])"
     },
     "metadata": {}
    }
   ]
  },
  {
   "cell_type": "code",
   "metadata": {
    "tags": [],
    "cell_id": "00015-3d9d3f78-ddf0-4809-8a91-f23282904f93",
    "deepnote_to_be_reexecuted": false,
    "source_hash": "3f8888ca",
    "execution_start": 1639587557194,
    "execution_millis": 798,
    "deepnote_output_heights": [
     611
    ],
    "deepnote_cell_type": "code"
   },
   "source": "y = df_unified_yeo_johnson[:, 0]\nx = df_unified_yeo_johnson[:, 1::]",
   "execution_count": null,
   "outputs": []
  },
  {
   "cell_type": "code",
   "metadata": {
    "tags": [],
    "cell_id": "00016-c70a5753-5a2e-4245-b923-afd9d3336dda",
    "deepnote_to_be_reexecuted": false,
    "source_hash": "700f66c3",
    "execution_start": 1639587560036,
    "execution_millis": 28,
    "deepnote_cell_type": "code"
   },
   "source": "X_train, X_test, Y_train, Y_test = train_test_split(x, y, test_size=0.2, random_state=0)",
   "execution_count": null,
   "outputs": []
  },
  {
   "cell_type": "code",
   "metadata": {
    "tags": [],
    "cell_id": "00017-0cf2a73e-c0ec-4503-b465-c7fd091710f0",
    "deepnote_to_be_reexecuted": false,
    "source_hash": "f90a84e1",
    "execution_start": 1639587562523,
    "execution_millis": 38,
    "deepnote_output_heights": [
     21.1875
    ],
    "deepnote_cell_type": "code"
   },
   "source": "#Creating the model\nregressor = LinearRegression()\nregressor.fit(X_train, Y_train) ",
   "execution_count": null,
   "outputs": [
    {
     "output_type": "execute_result",
     "execution_count": 63,
     "data": {
      "text/plain": "LinearRegression()"
     },
     "metadata": {}
    }
   ]
  },
  {
   "cell_type": "code",
   "metadata": {
    "tags": [],
    "cell_id": "00018-093f755a-7629-485b-80d0-8bdcc0241035",
    "deepnote_to_be_reexecuted": false,
    "source_hash": "c04d66c7",
    "execution_start": 1639587588454,
    "execution_millis": 480,
    "deepnote_output_heights": [
     21.1875
    ],
    "deepnote_cell_type": "code"
   },
   "source": "regressor.score(X_test, Y_test)\n",
   "execution_count": null,
   "outputs": [
    {
     "output_type": "execute_result",
     "execution_count": 64,
     "data": {
      "text/plain": "0.06785766152450434"
     },
     "metadata": {}
    }
   ]
  },
  {
   "cell_type": "markdown",
   "source": "Without scaling",
   "metadata": {
    "tags": [],
    "cell_id": "00019-eb7b6ae0-c422-47f9-af1f-20126b077fa9",
    "deepnote_cell_type": "markdown"
   }
  },
  {
   "cell_type": "code",
   "metadata": {
    "tags": [],
    "cell_id": "00019-ce9347b7-29bc-44c0-9fc0-ae0520fb8f05",
    "deepnote_to_be_reexecuted": false,
    "source_hash": "c9e7b1e2",
    "execution_start": 1639587902601,
    "execution_millis": 63,
    "deepnote_output_heights": [
     611
    ],
    "deepnote_cell_type": "code"
   },
   "source": "yy = df_unified.iloc[:, 0].values\nxx = df_unified.iloc[:, 1::].values",
   "execution_count": null,
   "outputs": []
  },
  {
   "cell_type": "code",
   "metadata": {
    "tags": [],
    "cell_id": "00021-601df8e6-a82f-4c55-9eac-dc44c31554ec",
    "deepnote_to_be_reexecuted": false,
    "source_hash": "b7e53445",
    "execution_start": 1639587932557,
    "execution_millis": 825,
    "deepnote_cell_type": "code"
   },
   "source": "XX_train, XX_test, YY_train, YY_test = train_test_split(xx, yy, test_size=0.2, random_state=0)",
   "execution_count": null,
   "outputs": []
  },
  {
   "cell_type": "code",
   "metadata": {
    "tags": [],
    "cell_id": "00022-e01cbbbe-6a0e-41e7-b82e-0f3f9f35b3dc",
    "deepnote_to_be_reexecuted": false,
    "source_hash": "f90a84e1",
    "execution_start": 1639587946625,
    "execution_millis": 116,
    "deepnote_output_heights": [
     21.1875
    ],
    "deepnote_cell_type": "code"
   },
   "source": "#Creating the model\nregressor = LinearRegression()\nregressor.fit(X_train, Y_train) ",
   "execution_count": null,
   "outputs": [
    {
     "output_type": "execute_result",
     "execution_count": 81,
     "data": {
      "text/plain": "LinearRegression()"
     },
     "metadata": {}
    }
   ]
  },
  {
   "cell_type": "code",
   "metadata": {
    "tags": [],
    "cell_id": "00023-e7243a25-bfba-4dd6-8a7a-c96f4e54f4a1",
    "deepnote_to_be_reexecuted": false,
    "source_hash": "4b8358bd",
    "execution_start": 1639588854197,
    "execution_millis": 1235,
    "deepnote_output_heights": [
     21.1875
    ],
    "deepnote_cell_type": "code"
   },
   "source": "regressor.score(XX_test, YY_test)\n",
   "execution_count": null,
   "outputs": [
    {
     "output_type": "execute_result",
     "execution_count": 84,
     "data": {
      "text/plain": "-1794.7133222299685"
     },
     "metadata": {}
    }
   ]
  },
  {
   "cell_type": "code",
   "metadata": {
    "tags": [],
    "cell_id": "00024-b245ae55-926b-41d3-a0b4-21bf6cb40789",
    "deepnote_to_be_reexecuted": false,
    "source_hash": "8b3c262f",
    "execution_start": 1639589662077,
    "execution_millis": 1119,
    "deepnote_output_heights": [
     21.1875
    ],
    "deepnote_cell_type": "code"
   },
   "source": "5",
   "execution_count": null,
   "outputs": [
    {
     "output_type": "execute_result",
     "execution_count": 85,
     "data": {
      "text/plain": "5"
     },
     "metadata": {}
    }
   ]
  },
  {
   "cell_type": "code",
   "metadata": {
    "tags": [],
    "cell_id": "00025-b74f70fa-ac15-47fe-8207-dabdabf5cb42",
    "deepnote_to_be_reexecuted": false,
    "source_hash": "422893ba",
    "execution_start": 1639590142043,
    "execution_millis": 806,
    "deepnote_cell_type": "code"
   },
   "source": "df_icu_unified = pd.read_csv('/work/covid-19_ecuador/data/interim/df_icu_unified.csv') ",
   "execution_count": null,
   "outputs": []
  },
  {
   "cell_type": "code",
   "metadata": {
    "tags": [],
    "cell_id": "00026-6c3fc2b2-9f46-4b6e-adcf-f15713e09d70",
    "deepnote_to_be_reexecuted": false,
    "source_hash": "76d99d02",
    "execution_start": 1639590154129,
    "execution_millis": 157,
    "deepnote_cell_type": "code"
   },
   "source": "df_icu_unified",
   "execution_count": null,
   "outputs": [
    {
     "output_type": "execute_result",
     "execution_count": 87,
     "data": {
      "application/vnd.deepnote.dataframe.v2+json": {
       "row_count": 161,
       "column_count": 8,
       "columns": [
        {
         "name": "nuevas",
         "dtype": "float64",
         "stats": {
          "unique_count": 134,
          "nan_count": 0,
          "min": "0.0",
          "max": "6623.0",
          "histogram": [
           {
            "bin_start": 0,
            "bin_end": 662.3,
            "count": 126
           },
           {
            "bin_start": 662.3,
            "bin_end": 1324.6,
            "count": 29
           },
           {
            "bin_start": 1324.6,
            "bin_end": 1986.8999999999999,
            "count": 3
           },
           {
            "bin_start": 1986.8999999999999,
            "bin_end": 2649.2,
            "count": 2
           },
           {
            "bin_start": 2649.2,
            "bin_end": 3311.5,
            "count": 0
           },
           {
            "bin_start": 3311.5,
            "bin_end": 3973.7999999999997,
            "count": 0
           },
           {
            "bin_start": 3973.7999999999997,
            "bin_end": 4636.099999999999,
            "count": 0
           },
           {
            "bin_start": 4636.099999999999,
            "bin_end": 5298.4,
            "count": 0
           },
           {
            "bin_start": 5298.4,
            "bin_end": 5960.7,
            "count": 0
           },
           {
            "bin_start": 5960.7,
            "bin_end": 6623,
            "count": 1
           }
          ]
         }
        },
        {
         "name": "dosis_total_diff",
         "dtype": "float64",
         "stats": {
          "unique_count": 140,
          "nan_count": 0,
          "min": "0.0",
          "max": "1064932.0",
          "histogram": [
           {
            "bin_start": 0,
            "bin_end": 106493.2,
            "count": 85
           },
           {
            "bin_start": 106493.2,
            "bin_end": 212986.4,
            "count": 38
           },
           {
            "bin_start": 212986.4,
            "bin_end": 319479.6,
            "count": 27
           },
           {
            "bin_start": 319479.6,
            "bin_end": 425972.8,
            "count": 5
           },
           {
            "bin_start": 425972.8,
            "bin_end": 532466,
            "count": 2
           },
           {
            "bin_start": 532466,
            "bin_end": 638959.2,
            "count": 1
           },
           {
            "bin_start": 638959.2,
            "bin_end": 745452.4,
            "count": 0
           },
           {
            "bin_start": 745452.4,
            "bin_end": 851945.6,
            "count": 2
           },
           {
            "bin_start": 851945.6,
            "bin_end": 958438.7999999999,
            "count": 0
           },
           {
            "bin_start": 958438.7999999999,
            "bin_end": 1064932,
            "count": 1
           }
          ]
         }
        },
        {
         "name": "primera_dosis_diff",
         "dtype": "float64",
         "stats": {
          "unique_count": 125,
          "nan_count": 0,
          "min": "0.0",
          "max": "711855.0",
          "histogram": [
           {
            "bin_start": 0,
            "bin_end": 71185.5,
            "count": 118
           },
           {
            "bin_start": 71185.5,
            "bin_end": 142371,
            "count": 18
           },
           {
            "bin_start": 142371,
            "bin_end": 213556.5,
            "count": 8
           },
           {
            "bin_start": 213556.5,
            "bin_end": 284742,
            "count": 11
           },
           {
            "bin_start": 284742,
            "bin_end": 355927.5,
            "count": 2
           },
           {
            "bin_start": 355927.5,
            "bin_end": 427113,
            "count": 1
           },
           {
            "bin_start": 427113,
            "bin_end": 498298.5,
            "count": 1
           },
           {
            "bin_start": 498298.5,
            "bin_end": 569484,
            "count": 1
           },
           {
            "bin_start": 569484,
            "bin_end": 640669.5,
            "count": 0
           },
           {
            "bin_start": 640669.5,
            "bin_end": 711855,
            "count": 1
           }
          ]
         }
        },
        {
         "name": "segunda_dosis_diff",
         "dtype": "float64",
         "stats": {
          "unique_count": 140,
          "nan_count": 0,
          "min": "0.0",
          "max": "771941.0",
          "histogram": [
           {
            "bin_start": 0,
            "bin_end": 77194.1,
            "count": 128
           },
           {
            "bin_start": 77194.1,
            "bin_end": 154388.2,
            "count": 11
           },
           {
            "bin_start": 154388.2,
            "bin_end": 231582.30000000002,
            "count": 11
           },
           {
            "bin_start": 231582.30000000002,
            "bin_end": 308776.4,
            "count": 6
           },
           {
            "bin_start": 308776.4,
            "bin_end": 385970.5,
            "count": 3
           },
           {
            "bin_start": 385970.5,
            "bin_end": 463164.60000000003,
            "count": 0
           },
           {
            "bin_start": 463164.60000000003,
            "bin_end": 540358.7000000001,
            "count": 0
           },
           {
            "bin_start": 540358.7000000001,
            "bin_end": 617552.8,
            "count": 0
           },
           {
            "bin_start": 617552.8,
            "bin_end": 694746.9,
            "count": 0
           },
           {
            "bin_start": 694746.9,
            "bin_end": 771941,
            "count": 2
           }
          ]
         }
        },
        {
         "name": "refuerzo_diff",
         "dtype": "float64",
         "stats": {
          "unique_count": 46,
          "nan_count": 0,
          "min": "0.0",
          "max": "44144.0",
          "histogram": [
           {
            "bin_start": 0,
            "bin_end": 4414.4,
            "count": 131
           },
           {
            "bin_start": 4414.4,
            "bin_end": 8828.8,
            "count": 8
           },
           {
            "bin_start": 8828.8,
            "bin_end": 13243.199999999999,
            "count": 2
           },
           {
            "bin_start": 13243.199999999999,
            "bin_end": 17657.6,
            "count": 11
           },
           {
            "bin_start": 17657.6,
            "bin_end": 22072,
            "count": 5
           },
           {
            "bin_start": 22072,
            "bin_end": 26486.399999999998,
            "count": 3
           },
           {
            "bin_start": 26486.399999999998,
            "bin_end": 30900.799999999996,
            "count": 0
           },
           {
            "bin_start": 30900.799999999996,
            "bin_end": 35315.2,
            "count": 0
           },
           {
            "bin_start": 35315.2,
            "bin_end": 39729.6,
            "count": 0
           },
           {
            "bin_start": 39729.6,
            "bin_end": 44144,
            "count": 1
           }
          ]
         }
        },
        {
         "name": "(MSP) UCI Porcentaje Ocupadas",
         "dtype": "float64",
         "stats": {
          "unique_count": 46,
          "nan_count": 0,
          "min": "0.0",
          "max": "80.0",
          "histogram": [
           {
            "bin_start": 0,
            "bin_end": 8,
            "count": 19
           },
           {
            "bin_start": 8,
            "bin_end": 16,
            "count": 0
           },
           {
            "bin_start": 16,
            "bin_end": 24,
            "count": 0
           },
           {
            "bin_start": 24,
            "bin_end": 32,
            "count": 9
           },
           {
            "bin_start": 32,
            "bin_end": 40,
            "count": 27
           },
           {
            "bin_start": 40,
            "bin_end": 48,
            "count": 37
           },
           {
            "bin_start": 48,
            "bin_end": 56,
            "count": 30
           },
           {
            "bin_start": 56,
            "bin_end": 64,
            "count": 9
           },
           {
            "bin_start": 64,
            "bin_end": 72,
            "count": 3
           },
           {
            "bin_start": 72,
            "bin_end": 80,
            "count": 27
           }
          ]
         }
        },
        {
         "name": "(RPIS) UCI Porcentaje Ocupadas",
         "dtype": "float64",
         "stats": {
          "unique_count": 42,
          "nan_count": 0,
          "min": "0.0",
          "max": "84.0",
          "histogram": [
           {
            "bin_start": 0,
            "bin_end": 8.4,
            "count": 35
           },
           {
            "bin_start": 8.4,
            "bin_end": 16.8,
            "count": 0
           },
           {
            "bin_start": 16.8,
            "bin_end": 25.200000000000003,
            "count": 0
           },
           {
            "bin_start": 25.200000000000003,
            "bin_end": 33.6,
            "count": 0
           },
           {
            "bin_start": 33.6,
            "bin_end": 42,
            "count": 5
           },
           {
            "bin_start": 42,
            "bin_end": 50.400000000000006,
            "count": 40
           },
           {
            "bin_start": 50.400000000000006,
            "bin_end": 58.800000000000004,
            "count": 16
           },
           {
            "bin_start": 58.800000000000004,
            "bin_end": 67.2,
            "count": 33
           },
           {
            "bin_start": 67.2,
            "bin_end": 75.60000000000001,
            "count": 14
           },
           {
            "bin_start": 75.60000000000001,
            "bin_end": 84,
            "count": 18
           }
          ]
         }
        },
        {
         "name": "(RPC) UCI Porcentaje Ocupadas",
         "dtype": "float64",
         "stats": {
          "unique_count": 31,
          "nan_count": 0,
          "min": "0.0",
          "max": "55.0",
          "histogram": [
           {
            "bin_start": 0,
            "bin_end": 5.5,
            "count": 35
           },
           {
            "bin_start": 5.5,
            "bin_end": 11,
            "count": 0
           },
           {
            "bin_start": 11,
            "bin_end": 16.5,
            "count": 31
           },
           {
            "bin_start": 16.5,
            "bin_end": 22,
            "count": 57
           },
           {
            "bin_start": 22,
            "bin_end": 27.5,
            "count": 9
           },
           {
            "bin_start": 27.5,
            "bin_end": 33,
            "count": 8
           },
           {
            "bin_start": 33,
            "bin_end": 38.5,
            "count": 9
           },
           {
            "bin_start": 38.5,
            "bin_end": 44,
            "count": 4
           },
           {
            "bin_start": 44,
            "bin_end": 49.5,
            "count": 4
           },
           {
            "bin_start": 49.5,
            "bin_end": 55,
            "count": 4
           }
          ]
         }
        },
        {
         "name": "_deepnote_index_column",
         "dtype": "int64"
        }
       ],
       "rows_top": [
        {
         "nuevas": 1034,
         "dosis_total_diff": 79378,
         "primera_dosis_diff": 44241,
         "segunda_dosis_diff": 35137,
         "refuerzo_diff": 0,
         "(MSP) UCI Porcentaje Ocupadas": 0,
         "(RPIS) UCI Porcentaje Ocupadas": 0,
         "(RPC) UCI Porcentaje Ocupadas": 0,
         "_deepnote_index_column": 0
        },
        {
         "nuevas": 1619,
         "dosis_total_diff": 44004,
         "primera_dosis_diff": 0,
         "segunda_dosis_diff": 44004,
         "refuerzo_diff": 0,
         "(MSP) UCI Porcentaje Ocupadas": 0,
         "(RPIS) UCI Porcentaje Ocupadas": 0,
         "(RPC) UCI Porcentaje Ocupadas": 0,
         "_deepnote_index_column": 1
        },
        {
         "nuevas": 985,
         "dosis_total_diff": 105820,
         "primera_dosis_diff": 83629,
         "segunda_dosis_diff": 22191,
         "refuerzo_diff": 0,
         "(MSP) UCI Porcentaje Ocupadas": 0,
         "(RPIS) UCI Porcentaje Ocupadas": 0,
         "(RPC) UCI Porcentaje Ocupadas": 0,
         "_deepnote_index_column": 2
        },
        {
         "nuevas": 0,
         "dosis_total_diff": 65789,
         "primera_dosis_diff": 43880,
         "segunda_dosis_diff": 21909,
         "refuerzo_diff": 0,
         "(MSP) UCI Porcentaje Ocupadas": 0,
         "(RPIS) UCI Porcentaje Ocupadas": 0,
         "(RPC) UCI Porcentaje Ocupadas": 0,
         "_deepnote_index_column": 3
        },
        {
         "nuevas": 507,
         "dosis_total_diff": 129679,
         "primera_dosis_diff": 99222,
         "segunda_dosis_diff": 30457,
         "refuerzo_diff": 0,
         "(MSP) UCI Porcentaje Ocupadas": 0,
         "(RPIS) UCI Porcentaje Ocupadas": 0,
         "(RPC) UCI Porcentaje Ocupadas": 0,
         "_deepnote_index_column": 4
        },
        {
         "nuevas": 1302,
         "dosis_total_diff": 147594,
         "primera_dosis_diff": 113621,
         "segunda_dosis_diff": 33973,
         "refuerzo_diff": 0,
         "(MSP) UCI Porcentaje Ocupadas": 0,
         "(RPIS) UCI Porcentaje Ocupadas": 0,
         "(RPC) UCI Porcentaje Ocupadas": 0,
         "_deepnote_index_column": 5
        },
        {
         "nuevas": 1078,
         "dosis_total_diff": 163540,
         "primera_dosis_diff": 134874,
         "segunda_dosis_diff": 28666,
         "refuerzo_diff": 0,
         "(MSP) UCI Porcentaje Ocupadas": 0,
         "(RPIS) UCI Porcentaje Ocupadas": 0,
         "(RPC) UCI Porcentaje Ocupadas": 0,
         "_deepnote_index_column": 6
        },
        {
         "nuevas": 849,
         "dosis_total_diff": 184606,
         "primera_dosis_diff": 151298,
         "segunda_dosis_diff": 33308,
         "refuerzo_diff": 0,
         "(MSP) UCI Porcentaje Ocupadas": 0,
         "(RPIS) UCI Porcentaje Ocupadas": 0,
         "(RPC) UCI Porcentaje Ocupadas": 0,
         "_deepnote_index_column": 7
        },
        {
         "nuevas": 1195,
         "dosis_total_diff": 215690,
         "primera_dosis_diff": 202959,
         "segunda_dosis_diff": 12731,
         "refuerzo_diff": 0,
         "(MSP) UCI Porcentaje Ocupadas": 0,
         "(RPIS) UCI Porcentaje Ocupadas": 0,
         "(RPC) UCI Porcentaje Ocupadas": 0,
         "_deepnote_index_column": 8
        },
        {
         "nuevas": 903,
         "dosis_total_diff": 260427,
         "primera_dosis_diff": 218498,
         "segunda_dosis_diff": 41929,
         "refuerzo_diff": 0,
         "(MSP) UCI Porcentaje Ocupadas": 0,
         "(RPIS) UCI Porcentaje Ocupadas": 0,
         "(RPC) UCI Porcentaje Ocupadas": 0,
         "_deepnote_index_column": 9
        },
        {
         "nuevas": 370,
         "dosis_total_diff": 167032,
         "primera_dosis_diff": 155392,
         "segunda_dosis_diff": 11640,
         "refuerzo_diff": 0,
         "(MSP) UCI Porcentaje Ocupadas": 0,
         "(RPIS) UCI Porcentaje Ocupadas": 0,
         "(RPC) UCI Porcentaje Ocupadas": 0,
         "_deepnote_index_column": 10
        },
        {
         "nuevas": 68,
         "dosis_total_diff": 0,
         "primera_dosis_diff": 0,
         "segunda_dosis_diff": 0,
         "refuerzo_diff": 0,
         "(MSP) UCI Porcentaje Ocupadas": 0,
         "(RPIS) UCI Porcentaje Ocupadas": 0,
         "(RPC) UCI Porcentaje Ocupadas": 0,
         "_deepnote_index_column": 11
        },
        {
         "nuevas": 2468,
         "dosis_total_diff": 597715,
         "primera_dosis_diff": 541406,
         "segunda_dosis_diff": 56309,
         "refuerzo_diff": 0,
         "(MSP) UCI Porcentaje Ocupadas": 0,
         "(RPIS) UCI Porcentaje Ocupadas": 0,
         "(RPC) UCI Porcentaje Ocupadas": 0,
         "_deepnote_index_column": 12
        },
        {
         "nuevas": 875,
         "dosis_total_diff": 507014,
         "primera_dosis_diff": 449778,
         "segunda_dosis_diff": 57236,
         "refuerzo_diff": 0,
         "(MSP) UCI Porcentaje Ocupadas": 0,
         "(RPIS) UCI Porcentaje Ocupadas": 0,
         "(RPC) UCI Porcentaje Ocupadas": 0,
         "_deepnote_index_column": 13
        },
        {
         "nuevas": 965,
         "dosis_total_diff": 390825,
         "primera_dosis_diff": 368249,
         "segunda_dosis_diff": 22576,
         "refuerzo_diff": 0,
         "(MSP) UCI Porcentaje Ocupadas": 0,
         "(RPIS) UCI Porcentaje Ocupadas": 0,
         "(RPC) UCI Porcentaje Ocupadas": 0,
         "_deepnote_index_column": 14
        },
        {
         "nuevas": 925,
         "dosis_total_diff": 310038,
         "primera_dosis_diff": 282461,
         "segunda_dosis_diff": 27577,
         "refuerzo_diff": 0,
         "(MSP) UCI Porcentaje Ocupadas": 0,
         "(RPIS) UCI Porcentaje Ocupadas": 0,
         "(RPC) UCI Porcentaje Ocupadas": 0,
         "_deepnote_index_column": 15
        },
        {
         "nuevas": 1568,
         "dosis_total_diff": 291240,
         "primera_dosis_diff": 270837,
         "segunda_dosis_diff": 20403,
         "refuerzo_diff": 0,
         "(MSP) UCI Porcentaje Ocupadas": 0,
         "(RPIS) UCI Porcentaje Ocupadas": 0,
         "(RPC) UCI Porcentaje Ocupadas": 0,
         "_deepnote_index_column": 16
        },
        {
         "nuevas": 850,
         "dosis_total_diff": 295348,
         "primera_dosis_diff": 280687,
         "segunda_dosis_diff": 14661,
         "refuerzo_diff": 0,
         "(MSP) UCI Porcentaje Ocupadas": 0,
         "(RPIS) UCI Porcentaje Ocupadas": 0,
         "(RPC) UCI Porcentaje Ocupadas": 0,
         "_deepnote_index_column": 17
        },
        {
         "nuevas": 247,
         "dosis_total_diff": 289550,
         "primera_dosis_diff": 270033,
         "segunda_dosis_diff": 19517,
         "refuerzo_diff": 0,
         "(MSP) UCI Porcentaje Ocupadas": 0,
         "(RPIS) UCI Porcentaje Ocupadas": 0,
         "(RPC) UCI Porcentaje Ocupadas": 0,
         "_deepnote_index_column": 18
        },
        {
         "nuevas": 1634,
         "dosis_total_diff": 239427,
         "primera_dosis_diff": 226171,
         "segunda_dosis_diff": 13256,
         "refuerzo_diff": 0,
         "(MSP) UCI Porcentaje Ocupadas": 80,
         "(RPIS) UCI Porcentaje Ocupadas": 0,
         "(RPC) UCI Porcentaje Ocupadas": 0,
         "_deepnote_index_column": 19
        },
        {
         "nuevas": 669,
         "dosis_total_diff": 348583,
         "primera_dosis_diff": 309343,
         "segunda_dosis_diff": 39240,
         "refuerzo_diff": 0,
         "(MSP) UCI Porcentaje Ocupadas": 79,
         "(RPIS) UCI Porcentaje Ocupadas": 0,
         "(RPC) UCI Porcentaje Ocupadas": 0,
         "_deepnote_index_column": 20
        },
        {
         "nuevas": 1169,
         "dosis_total_diff": 239464,
         "primera_dosis_diff": 215544,
         "segunda_dosis_diff": 23920,
         "refuerzo_diff": 0,
         "(MSP) UCI Porcentaje Ocupadas": 80,
         "(RPIS) UCI Porcentaje Ocupadas": 0,
         "(RPC) UCI Porcentaje Ocupadas": 0,
         "_deepnote_index_column": 21
        },
        {
         "nuevas": 936,
         "dosis_total_diff": 215317,
         "primera_dosis_diff": 191150,
         "segunda_dosis_diff": 24167,
         "refuerzo_diff": 0,
         "(MSP) UCI Porcentaje Ocupadas": 80,
         "(RPIS) UCI Porcentaje Ocupadas": 0,
         "(RPC) UCI Porcentaje Ocupadas": 0,
         "_deepnote_index_column": 22
        },
        {
         "nuevas": 0,
         "dosis_total_diff": 167212,
         "primera_dosis_diff": 154867,
         "segunda_dosis_diff": 12345,
         "refuerzo_diff": 0,
         "(MSP) UCI Porcentaje Ocupadas": 80,
         "(RPIS) UCI Porcentaje Ocupadas": 0,
         "(RPC) UCI Porcentaje Ocupadas": 0,
         "_deepnote_index_column": 23
        },
        {
         "nuevas": 0,
         "dosis_total_diff": 202521,
         "primera_dosis_diff": 179875,
         "segunda_dosis_diff": 22646,
         "refuerzo_diff": 0,
         "(MSP) UCI Porcentaje Ocupadas": 80,
         "(RPIS) UCI Porcentaje Ocupadas": 0,
         "(RPC) UCI Porcentaje Ocupadas": 0,
         "_deepnote_index_column": 24
        },
        {
         "nuevas": 2227,
         "dosis_total_diff": 170775,
         "primera_dosis_diff": 132175,
         "segunda_dosis_diff": 38600,
         "refuerzo_diff": 0,
         "(MSP) UCI Porcentaje Ocupadas": 80,
         "(RPIS) UCI Porcentaje Ocupadas": 0,
         "(RPC) UCI Porcentaje Ocupadas": 0,
         "_deepnote_index_column": 25
        },
        {
         "nuevas": 786,
         "dosis_total_diff": 243846,
         "primera_dosis_diff": 187967,
         "segunda_dosis_diff": 55879,
         "refuerzo_diff": 0,
         "(MSP) UCI Porcentaje Ocupadas": 80,
         "(RPIS) UCI Porcentaje Ocupadas": 0,
         "(RPC) UCI Porcentaje Ocupadas": 0,
         "_deepnote_index_column": 26
        },
        {
         "nuevas": 0,
         "dosis_total_diff": 288999,
         "primera_dosis_diff": 219817,
         "segunda_dosis_diff": 69182,
         "refuerzo_diff": 0,
         "(MSP) UCI Porcentaje Ocupadas": 80,
         "(RPIS) UCI Porcentaje Ocupadas": 0,
         "(RPC) UCI Porcentaje Ocupadas": 0,
         "_deepnote_index_column": 27
        },
        {
         "nuevas": 0,
         "dosis_total_diff": 345764,
         "primera_dosis_diff": 273272,
         "segunda_dosis_diff": 72492,
         "refuerzo_diff": 0,
         "(MSP) UCI Porcentaje Ocupadas": 80,
         "(RPIS) UCI Porcentaje Ocupadas": 0,
         "(RPC) UCI Porcentaje Ocupadas": 0,
         "_deepnote_index_column": 28
        },
        {
         "nuevas": 0,
         "dosis_total_diff": 292154,
         "primera_dosis_diff": 242825,
         "segunda_dosis_diff": 49329,
         "refuerzo_diff": 0,
         "(MSP) UCI Porcentaje Ocupadas": 80,
         "(RPIS) UCI Porcentaje Ocupadas": 0,
         "(RPC) UCI Porcentaje Ocupadas": 0,
         "_deepnote_index_column": 29
        },
        {
         "nuevas": 0,
         "dosis_total_diff": 197867,
         "primera_dosis_diff": 163005,
         "segunda_dosis_diff": 34862,
         "refuerzo_diff": 0,
         "(MSP) UCI Porcentaje Ocupadas": 80,
         "(RPIS) UCI Porcentaje Ocupadas": 0,
         "(RPC) UCI Porcentaje Ocupadas": 0,
         "_deepnote_index_column": 30
        },
        {
         "nuevas": 0,
         "dosis_total_diff": 0,
         "primera_dosis_diff": 0,
         "segunda_dosis_diff": 0,
         "refuerzo_diff": 0,
         "(MSP) UCI Porcentaje Ocupadas": 80,
         "(RPIS) UCI Porcentaje Ocupadas": 0,
         "(RPC) UCI Porcentaje Ocupadas": 0,
         "_deepnote_index_column": 31
        },
        {
         "nuevas": 0,
         "dosis_total_diff": 312655,
         "primera_dosis_diff": 221848,
         "segunda_dosis_diff": 90807,
         "refuerzo_diff": 0,
         "(MSP) UCI Porcentaje Ocupadas": 80,
         "(RPIS) UCI Porcentaje Ocupadas": 0,
         "(RPC) UCI Porcentaje Ocupadas": 0,
         "_deepnote_index_column": 32
        },
        {
         "nuevas": 0,
         "dosis_total_diff": 185339,
         "primera_dosis_diff": 88877,
         "segunda_dosis_diff": 96462,
         "refuerzo_diff": 0,
         "(MSP) UCI Porcentaje Ocupadas": 80,
         "(RPIS) UCI Porcentaje Ocupadas": 0,
         "(RPC) UCI Porcentaje Ocupadas": 0,
         "_deepnote_index_column": 33
        },
        {
         "nuevas": 0,
         "dosis_total_diff": 220821,
         "primera_dosis_diff": 88287,
         "segunda_dosis_diff": 132534,
         "refuerzo_diff": 0,
         "(MSP) UCI Porcentaje Ocupadas": 80,
         "(RPIS) UCI Porcentaje Ocupadas": 0,
         "(RPC) UCI Porcentaje Ocupadas": 0,
         "_deepnote_index_column": 34
        },
        {
         "nuevas": 6623,
         "dosis_total_diff": 245488,
         "primera_dosis_diff": 77846,
         "segunda_dosis_diff": 167642,
         "refuerzo_diff": 0,
         "(MSP) UCI Porcentaje Ocupadas": 78,
         "(RPIS) UCI Porcentaje Ocupadas": 84,
         "(RPC) UCI Porcentaje Ocupadas": 55,
         "_deepnote_index_column": 35
        },
        {
         "nuevas": 829,
         "dosis_total_diff": 265429,
         "primera_dosis_diff": 60922,
         "segunda_dosis_diff": 204507,
         "refuerzo_diff": 0,
         "(MSP) UCI Porcentaje Ocupadas": 77,
         "(RPIS) UCI Porcentaje Ocupadas": 81,
         "(RPC) UCI Porcentaje Ocupadas": 52,
         "_deepnote_index_column": 36
        },
        {
         "nuevas": 646,
         "dosis_total_diff": 234081,
         "primera_dosis_diff": 51953,
         "segunda_dosis_diff": 182128,
         "refuerzo_diff": 0,
         "(MSP) UCI Porcentaje Ocupadas": 76,
         "(RPIS) UCI Porcentaje Ocupadas": 79,
         "(RPC) UCI Porcentaje Ocupadas": 52,
         "_deepnote_index_column": 37
        },
        {
         "nuevas": 353,
         "dosis_total_diff": 467863,
         "primera_dosis_diff": 291622,
         "segunda_dosis_diff": 176241,
         "refuerzo_diff": 0,
         "(MSP) UCI Porcentaje Ocupadas": 73,
         "(RPIS) UCI Porcentaje Ocupadas": 78,
         "(RPC) UCI Porcentaje Ocupadas": 47,
         "_deepnote_index_column": 38
        },
        {
         "nuevas": 81,
         "dosis_total_diff": 0,
         "primera_dosis_diff": 0,
         "segunda_dosis_diff": 0,
         "refuerzo_diff": 0,
         "(MSP) UCI Porcentaje Ocupadas": 76,
         "(RPIS) UCI Porcentaje Ocupadas": 80,
         "(RPC) UCI Porcentaje Ocupadas": 45,
         "_deepnote_index_column": 39
        },
        {
         "nuevas": 98,
         "dosis_total_diff": 0,
         "primera_dosis_diff": 0,
         "segunda_dosis_diff": 0,
         "refuerzo_diff": 0,
         "(MSP) UCI Porcentaje Ocupadas": 76,
         "(RPIS) UCI Porcentaje Ocupadas": 79,
         "(RPC) UCI Porcentaje Ocupadas": 44,
         "_deepnote_index_column": 40
        },
        {
         "nuevas": 785,
         "dosis_total_diff": 745649,
         "primera_dosis_diff": 15282,
         "segunda_dosis_diff": 730367,
         "refuerzo_diff": 0,
         "(MSP) UCI Porcentaje Ocupadas": 75,
         "(RPIS) UCI Porcentaje Ocupadas": 80,
         "(RPC) UCI Porcentaje Ocupadas": 43,
         "_deepnote_index_column": 41
        },
        {
         "nuevas": 619,
         "dosis_total_diff": 265894,
         "primera_dosis_diff": 1453,
         "segunda_dosis_diff": 264441,
         "refuerzo_diff": 0,
         "(MSP) UCI Porcentaje Ocupadas": 73,
         "(RPIS) UCI Porcentaje Ocupadas": 80,
         "(RPC) UCI Porcentaje Ocupadas": 44,
         "_deepnote_index_column": 42
        },
        {
         "nuevas": 581,
         "dosis_total_diff": 215289,
         "primera_dosis_diff": 9408,
         "segunda_dosis_diff": 205881,
         "refuerzo_diff": 0,
         "(MSP) UCI Porcentaje Ocupadas": 73,
         "(RPIS) UCI Porcentaje Ocupadas": 81,
         "(RPC) UCI Porcentaje Ocupadas": 40,
         "_deepnote_index_column": 43
        },
        {
         "nuevas": 471,
         "dosis_total_diff": 106012,
         "primera_dosis_diff": 975,
         "segunda_dosis_diff": 105037,
         "refuerzo_diff": 0,
         "(MSP) UCI Porcentaje Ocupadas": 73,
         "(RPIS) UCI Porcentaje Ocupadas": 81,
         "(RPC) UCI Porcentaje Ocupadas": 39,
         "_deepnote_index_column": 44
        },
        {
         "nuevas": 246,
         "dosis_total_diff": 58104,
         "primera_dosis_diff": 419,
         "segunda_dosis_diff": 57685,
         "refuerzo_diff": 0,
         "(MSP) UCI Porcentaje Ocupadas": 72,
         "(RPIS) UCI Porcentaje Ocupadas": 81,
         "(RPC) UCI Porcentaje Ocupadas": 38,
         "_deepnote_index_column": 45
        },
        {
         "nuevas": 190,
         "dosis_total_diff": 0,
         "primera_dosis_diff": 0,
         "segunda_dosis_diff": 0,
         "refuerzo_diff": 0,
         "(MSP) UCI Porcentaje Ocupadas": 67,
         "(RPIS) UCI Porcentaje Ocupadas": 79,
         "(RPC) UCI Porcentaje Ocupadas": 37,
         "_deepnote_index_column": 46
        },
        {
         "nuevas": 590,
         "dosis_total_diff": 773807,
         "primera_dosis_diff": 1866,
         "segunda_dosis_diff": 771941,
         "refuerzo_diff": 0,
         "(MSP) UCI Porcentaje Ocupadas": 66,
         "(RPIS) UCI Porcentaje Ocupadas": 79,
         "(RPC) UCI Porcentaje Ocupadas": 38,
         "_deepnote_index_column": 47
        },
        {
         "nuevas": 897,
         "dosis_total_diff": 363200,
         "primera_dosis_diff": 1369,
         "segunda_dosis_diff": 361831,
         "refuerzo_diff": 0,
         "(MSP) UCI Porcentaje Ocupadas": 64,
         "(RPIS) UCI Porcentaje Ocupadas": 79,
         "(RPC) UCI Porcentaje Ocupadas": 38,
         "_deepnote_index_column": 48
        },
        {
         "nuevas": 438,
         "dosis_total_diff": 355661,
         "primera_dosis_diff": 1732,
         "segunda_dosis_diff": 353929,
         "refuerzo_diff": 0,
         "(MSP) UCI Porcentaje Ocupadas": 63,
         "(RPIS) UCI Porcentaje Ocupadas": 82,
         "(RPC) UCI Porcentaje Ocupadas": 39,
         "_deepnote_index_column": 49
        },
        {
         "nuevas": 815,
         "dosis_total_diff": 265139,
         "primera_dosis_diff": 1361,
         "segunda_dosis_diff": 263778,
         "refuerzo_diff": 0,
         "(MSP) UCI Porcentaje Ocupadas": 62,
         "(RPIS) UCI Porcentaje Ocupadas": 79,
         "(RPC) UCI Porcentaje Ocupadas": 37,
         "_deepnote_index_column": 50
        },
        {
         "nuevas": 749,
         "dosis_total_diff": 192889,
         "primera_dosis_diff": 521,
         "segunda_dosis_diff": 192368,
         "refuerzo_diff": 0,
         "(MSP) UCI Porcentaje Ocupadas": 61,
         "(RPIS) UCI Porcentaje Ocupadas": 79,
         "(RPC) UCI Porcentaje Ocupadas": 38,
         "_deepnote_index_column": 51
        },
        {
         "nuevas": 142,
         "dosis_total_diff": 142607,
         "primera_dosis_diff": 601,
         "segunda_dosis_diff": 142006,
         "refuerzo_diff": 0,
         "(MSP) UCI Porcentaje Ocupadas": 60,
         "(RPIS) UCI Porcentaje Ocupadas": 79,
         "(RPC) UCI Porcentaje Ocupadas": 31,
         "_deepnote_index_column": 52
        },
        {
         "nuevas": 49,
         "dosis_total_diff": 231973,
         "primera_dosis_diff": 6663,
         "segunda_dosis_diff": 225310,
         "refuerzo_diff": 0,
         "(MSP) UCI Porcentaje Ocupadas": 61,
         "(RPIS) UCI Porcentaje Ocupadas": 71,
         "(RPC) UCI Porcentaje Ocupadas": 34,
         "_deepnote_index_column": 53
        },
        {
         "nuevas": 468,
         "dosis_total_diff": 217136,
         "primera_dosis_diff": 2260,
         "segunda_dosis_diff": 214876,
         "refuerzo_diff": 0,
         "(MSP) UCI Porcentaje Ocupadas": 54,
         "(RPIS) UCI Porcentaje Ocupadas": 70,
         "(RPC) UCI Porcentaje Ocupadas": 34,
         "_deepnote_index_column": 54
        }
       ],
       "rows_bottom": [
        {
         "nuevas": 126,
         "dosis_total_diff": 47976,
         "primera_dosis_diff": 35268,
         "segunda_dosis_diff": 12708,
         "refuerzo_diff": 0,
         "(MSP) UCI Porcentaje Ocupadas": 36,
         "(RPIS) UCI Porcentaje Ocupadas": 42,
         "(RPC) UCI Porcentaje Ocupadas": 15,
         "_deepnote_index_column": 105
        },
        {
         "nuevas": 150,
         "dosis_total_diff": 47276,
         "primera_dosis_diff": 30248,
         "segunda_dosis_diff": 17028,
         "refuerzo_diff": 0,
         "(MSP) UCI Porcentaje Ocupadas": 39,
         "(RPIS) UCI Porcentaje Ocupadas": 41,
         "(RPC) UCI Porcentaje Ocupadas": 15,
         "_deepnote_index_column": 106
        },
        {
         "nuevas": 255,
         "dosis_total_diff": 8842,
         "primera_dosis_diff": 6373,
         "segunda_dosis_diff": 2469,
         "refuerzo_diff": 0,
         "(MSP) UCI Porcentaje Ocupadas": 37,
         "(RPIS) UCI Porcentaje Ocupadas": 40,
         "(RPC) UCI Porcentaje Ocupadas": 12,
         "_deepnote_index_column": 107
        },
        {
         "nuevas": 119,
         "dosis_total_diff": 4883,
         "primera_dosis_diff": 3717,
         "segunda_dosis_diff": 1166,
         "refuerzo_diff": 0,
         "(MSP) UCI Porcentaje Ocupadas": 36,
         "(RPIS) UCI Porcentaje Ocupadas": 40,
         "(RPC) UCI Porcentaje Ocupadas": 12,
         "_deepnote_index_column": 108
        },
        {
         "nuevas": 55,
         "dosis_total_diff": 68306,
         "primera_dosis_diff": 49211,
         "segunda_dosis_diff": 17754,
         "refuerzo_diff": 1341,
         "(MSP) UCI Porcentaje Ocupadas": 34,
         "(RPIS) UCI Porcentaje Ocupadas": 46,
         "(RPC) UCI Porcentaje Ocupadas": 17,
         "_deepnote_index_column": 109
        },
        {
         "nuevas": 356,
         "dosis_total_diff": 93280,
         "primera_dosis_diff": 71719,
         "segunda_dosis_diff": 18751,
         "refuerzo_diff": 2810,
         "(MSP) UCI Porcentaje Ocupadas": 34,
         "(RPIS) UCI Porcentaje Ocupadas": 37,
         "(RPC) UCI Porcentaje Ocupadas": 17,
         "_deepnote_index_column": 110
        },
        {
         "nuevas": 569,
         "dosis_total_diff": 120868,
         "primera_dosis_diff": 94859,
         "segunda_dosis_diff": 23946,
         "refuerzo_diff": 2063,
         "(MSP) UCI Porcentaje Ocupadas": 32,
         "(RPIS) UCI Porcentaje Ocupadas": 43,
         "(RPC) UCI Porcentaje Ocupadas": 16,
         "_deepnote_index_column": 111
        },
        {
         "nuevas": 386,
         "dosis_total_diff": 137111,
         "primera_dosis_diff": 109934,
         "segunda_dosis_diff": 23545,
         "refuerzo_diff": 3632,
         "(MSP) UCI Porcentaje Ocupadas": 28,
         "(RPIS) UCI Porcentaje Ocupadas": 49,
         "(RPC) UCI Porcentaje Ocupadas": 17,
         "_deepnote_index_column": 112
        },
        {
         "nuevas": 269,
         "dosis_total_diff": 129483,
         "primera_dosis_diff": 96979,
         "segunda_dosis_diff": 26303,
         "refuerzo_diff": 6201,
         "(MSP) UCI Porcentaje Ocupadas": 30,
         "(RPIS) UCI Porcentaje Ocupadas": 47,
         "(RPC) UCI Porcentaje Ocupadas": 17,
         "_deepnote_index_column": 113
        },
        {
         "nuevas": 295,
         "dosis_total_diff": 16500,
         "primera_dosis_diff": 9838,
         "segunda_dosis_diff": 4776,
         "refuerzo_diff": 1886,
         "(MSP) UCI Porcentaje Ocupadas": 31,
         "(RPIS) UCI Porcentaje Ocupadas": 49,
         "(RPC) UCI Porcentaje Ocupadas": 19,
         "_deepnote_index_column": 114
        },
        {
         "nuevas": 26,
         "dosis_total_diff": 5927,
         "primera_dosis_diff": 3627,
         "segunda_dosis_diff": 1462,
         "refuerzo_diff": 838,
         "(MSP) UCI Porcentaje Ocupadas": 31,
         "(RPIS) UCI Porcentaje Ocupadas": 47,
         "(RPC) UCI Porcentaje Ocupadas": 20,
         "_deepnote_index_column": 115
        },
        {
         "nuevas": 27,
         "dosis_total_diff": 112324,
         "primera_dosis_diff": 82473,
         "segunda_dosis_diff": 25836,
         "refuerzo_diff": 4015,
         "(MSP) UCI Porcentaje Ocupadas": 34,
         "(RPIS) UCI Porcentaje Ocupadas": 51,
         "(RPC) UCI Porcentaje Ocupadas": 18,
         "_deepnote_index_column": 116
        },
        {
         "nuevas": 200,
         "dosis_total_diff": 127721,
         "primera_dosis_diff": 90011,
         "segunda_dosis_diff": 28972,
         "refuerzo_diff": 8738,
         "(MSP) UCI Porcentaje Ocupadas": 33,
         "(RPIS) UCI Porcentaje Ocupadas": 47,
         "(RPC) UCI Porcentaje Ocupadas": 18,
         "_deepnote_index_column": 117
        },
        {
         "nuevas": 308,
         "dosis_total_diff": 128536,
         "primera_dosis_diff": 89977,
         "segunda_dosis_diff": 26702,
         "refuerzo_diff": 11857,
         "(MSP) UCI Porcentaje Ocupadas": 35,
         "(RPIS) UCI Porcentaje Ocupadas": 58,
         "(RPC) UCI Porcentaje Ocupadas": 18,
         "_deepnote_index_column": 118
        },
        {
         "nuevas": 263,
         "dosis_total_diff": 128127,
         "primera_dosis_diff": 90964,
         "segunda_dosis_diff": 28967,
         "refuerzo_diff": 8196,
         "(MSP) UCI Porcentaje Ocupadas": 32,
         "(RPIS) UCI Porcentaje Ocupadas": 57,
         "(RPC) UCI Porcentaje Ocupadas": 17,
         "_deepnote_index_column": 119
        },
        {
         "nuevas": 501,
         "dosis_total_diff": 110301,
         "primera_dosis_diff": 76710,
         "segunda_dosis_diff": 27714,
         "refuerzo_diff": 5877,
         "(MSP) UCI Porcentaje Ocupadas": 34,
         "(RPIS) UCI Porcentaje Ocupadas": 56,
         "(RPC) UCI Porcentaje Ocupadas": 17,
         "_deepnote_index_column": 120
        },
        {
         "nuevas": 271,
         "dosis_total_diff": 8010,
         "primera_dosis_diff": 3113,
         "segunda_dosis_diff": 4020,
         "refuerzo_diff": 877,
         "(MSP) UCI Porcentaje Ocupadas": 36,
         "(RPIS) UCI Porcentaje Ocupadas": 56,
         "(RPC) UCI Porcentaje Ocupadas": 16,
         "_deepnote_index_column": 121
        },
        {
         "nuevas": 60,
         "dosis_total_diff": 3095,
         "primera_dosis_diff": 1026,
         "segunda_dosis_diff": 1453,
         "refuerzo_diff": 616,
         "(MSP) UCI Porcentaje Ocupadas": 35,
         "(RPIS) UCI Porcentaje Ocupadas": 56,
         "(RPC) UCI Porcentaje Ocupadas": 15,
         "_deepnote_index_column": 122
        },
        {
         "nuevas": 913,
         "dosis_total_diff": 2677,
         "primera_dosis_diff": 1081,
         "segunda_dosis_diff": 1076,
         "refuerzo_diff": 520,
         "(MSP) UCI Porcentaje Ocupadas": 37,
         "(RPIS) UCI Porcentaje Ocupadas": 55,
         "(RPC) UCI Porcentaje Ocupadas": 16,
         "_deepnote_index_column": 123
        },
        {
         "nuevas": 48,
         "dosis_total_diff": 2661,
         "primera_dosis_diff": 1174,
         "segunda_dosis_diff": 856,
         "refuerzo_diff": 631,
         "(MSP) UCI Porcentaje Ocupadas": 38,
         "(RPIS) UCI Porcentaje Ocupadas": 54,
         "(RPC) UCI Porcentaje Ocupadas": 15,
         "_deepnote_index_column": 124
        },
        {
         "nuevas": 55,
         "dosis_total_diff": 3807,
         "primera_dosis_diff": 1543,
         "segunda_dosis_diff": 1380,
         "refuerzo_diff": 884,
         "(MSP) UCI Porcentaje Ocupadas": 46,
         "(RPIS) UCI Porcentaje Ocupadas": 59,
         "(RPC) UCI Porcentaje Ocupadas": 17,
         "_deepnote_index_column": 125
        },
        {
         "nuevas": 315,
         "dosis_total_diff": 86542,
         "primera_dosis_diff": 51448,
         "segunda_dosis_diff": 25802,
         "refuerzo_diff": 9292,
         "(MSP) UCI Porcentaje Ocupadas": 50,
         "(RPIS) UCI Porcentaje Ocupadas": 59,
         "(RPC) UCI Porcentaje Ocupadas": 18,
         "_deepnote_index_column": 126
        },
        {
         "nuevas": 386,
         "dosis_total_diff": 0,
         "primera_dosis_diff": 0,
         "segunda_dosis_diff": 0,
         "refuerzo_diff": 0,
         "(MSP) UCI Porcentaje Ocupadas": 51,
         "(RPIS) UCI Porcentaje Ocupadas": 58,
         "(RPC) UCI Porcentaje Ocupadas": 18,
         "_deepnote_index_column": 127
        },
        {
         "nuevas": 411,
         "dosis_total_diff": 0,
         "primera_dosis_diff": 0,
         "segunda_dosis_diff": 0,
         "refuerzo_diff": 0,
         "(MSP) UCI Porcentaje Ocupadas": 47,
         "(RPIS) UCI Porcentaje Ocupadas": 60,
         "(RPC) UCI Porcentaje Ocupadas": 18,
         "_deepnote_index_column": 128
        },
        {
         "nuevas": 96,
         "dosis_total_diff": 102075,
         "primera_dosis_diff": 58111,
         "segunda_dosis_diff": 27039,
         "refuerzo_diff": 16925,
         "(MSP) UCI Porcentaje Ocupadas": 45,
         "(RPIS) UCI Porcentaje Ocupadas": 58,
         "(RPC) UCI Porcentaje Ocupadas": 16,
         "_deepnote_index_column": 129
        },
        {
         "nuevas": 78,
         "dosis_total_diff": 92067,
         "primera_dosis_diff": 51504,
         "segunda_dosis_diff": 26451,
         "refuerzo_diff": 14112,
         "(MSP) UCI Porcentaje Ocupadas": 45,
         "(RPIS) UCI Porcentaje Ocupadas": 62,
         "(RPC) UCI Porcentaje Ocupadas": 17,
         "_deepnote_index_column": 130
        },
        {
         "nuevas": 407,
         "dosis_total_diff": 102079,
         "primera_dosis_diff": 56635,
         "segunda_dosis_diff": 32190,
         "refuerzo_diff": 13254,
         "(MSP) UCI Porcentaje Ocupadas": 42,
         "(RPIS) UCI Porcentaje Ocupadas": 46,
         "(RPC) UCI Porcentaje Ocupadas": 16,
         "_deepnote_index_column": 131
        },
        {
         "nuevas": 329,
         "dosis_total_diff": 114171,
         "primera_dosis_diff": 61298,
         "segunda_dosis_diff": 37358,
         "refuerzo_diff": 15515,
         "(MSP) UCI Porcentaje Ocupadas": 44,
         "(RPIS) UCI Porcentaje Ocupadas": 61,
         "(RPC) UCI Porcentaje Ocupadas": 15,
         "_deepnote_index_column": 132
        },
        {
         "nuevas": 387,
         "dosis_total_diff": 105751,
         "primera_dosis_diff": 53373,
         "segunda_dosis_diff": 38825,
         "refuerzo_diff": 13553,
         "(MSP) UCI Porcentaje Ocupadas": 45,
         "(RPIS) UCI Porcentaje Ocupadas": 47,
         "(RPC) UCI Porcentaje Ocupadas": 17,
         "_deepnote_index_column": 133
        },
        {
         "nuevas": 596,
         "dosis_total_diff": 94289,
         "primera_dosis_diff": 48222,
         "segunda_dosis_diff": 31743,
         "refuerzo_diff": 14324,
         "(MSP) UCI Porcentaje Ocupadas": 49,
         "(RPIS) UCI Porcentaje Ocupadas": 59,
         "(RPC) UCI Porcentaje Ocupadas": 15,
         "_deepnote_index_column": 134
        },
        {
         "nuevas": 419,
         "dosis_total_diff": 37250,
         "primera_dosis_diff": 25801,
         "segunda_dosis_diff": 7953,
         "refuerzo_diff": 3496,
         "(MSP) UCI Porcentaje Ocupadas": 45,
         "(RPIS) UCI Porcentaje Ocupadas": 60,
         "(RPC) UCI Porcentaje Ocupadas": 15,
         "_deepnote_index_column": 135
        },
        {
         "nuevas": 94,
         "dosis_total_diff": 27877,
         "primera_dosis_diff": 19066,
         "segunda_dosis_diff": 5292,
         "refuerzo_diff": 3519,
         "(MSP) UCI Porcentaje Ocupadas": 44,
         "(RPIS) UCI Porcentaje Ocupadas": 56,
         "(RPC) UCI Porcentaje Ocupadas": 15,
         "_deepnote_index_column": 136
        },
        {
         "nuevas": 53,
         "dosis_total_diff": 102423,
         "primera_dosis_diff": 49090,
         "segunda_dosis_diff": 36340,
         "refuerzo_diff": 16993,
         "(MSP) UCI Porcentaje Ocupadas": 41,
         "(RPIS) UCI Porcentaje Ocupadas": 60,
         "(RPC) UCI Porcentaje Ocupadas": 14,
         "_deepnote_index_column": 137
        },
        {
         "nuevas": 547,
         "dosis_total_diff": 121402,
         "primera_dosis_diff": 58582,
         "segunda_dosis_diff": 45403,
         "refuerzo_diff": 17417,
         "(MSP) UCI Porcentaje Ocupadas": 41,
         "(RPIS) UCI Porcentaje Ocupadas": 64,
         "(RPC) UCI Porcentaje Ocupadas": 12,
         "_deepnote_index_column": 138
        },
        {
         "nuevas": 391,
         "dosis_total_diff": 134487,
         "primera_dosis_diff": 54949,
         "segunda_dosis_diff": 54729,
         "refuerzo_diff": 24809,
         "(MSP) UCI Porcentaje Ocupadas": 42,
         "(RPIS) UCI Porcentaje Ocupadas": 65,
         "(RPC) UCI Porcentaje Ocupadas": 13,
         "_deepnote_index_column": 139
        },
        {
         "nuevas": 572,
         "dosis_total_diff": 130337,
         "primera_dosis_diff": 47411,
         "segunda_dosis_diff": 61556,
         "refuerzo_diff": 21370,
         "(MSP) UCI Porcentaje Ocupadas": 45,
         "(RPIS) UCI Porcentaje Ocupadas": 73,
         "(RPC) UCI Porcentaje Ocupadas": 15,
         "_deepnote_index_column": 140
        },
        {
         "nuevas": 492,
         "dosis_total_diff": 133086,
         "primera_dosis_diff": 53657,
         "segunda_dosis_diff": 62562,
         "refuerzo_diff": 16867,
         "(MSP) UCI Porcentaje Ocupadas": 45,
         "(RPIS) UCI Porcentaje Ocupadas": 66,
         "(RPC) UCI Porcentaje Ocupadas": 17,
         "_deepnote_index_column": 141
        },
        {
         "nuevas": 364,
         "dosis_total_diff": 58488,
         "primera_dosis_diff": 26772,
         "segunda_dosis_diff": 24284,
         "refuerzo_diff": 7432,
         "(MSP) UCI Porcentaje Ocupadas": 47,
         "(RPIS) UCI Porcentaje Ocupadas": 65,
         "(RPC) UCI Porcentaje Ocupadas": 17,
         "_deepnote_index_column": 142
        },
        {
         "nuevas": 142,
         "dosis_total_diff": 39585,
         "primera_dosis_diff": 17434,
         "segunda_dosis_diff": 16875,
         "refuerzo_diff": 5276,
         "(MSP) UCI Porcentaje Ocupadas": 48,
         "(RPIS) UCI Porcentaje Ocupadas": 68,
         "(RPC) UCI Porcentaje Ocupadas": 16,
         "_deepnote_index_column": 143
        },
        {
         "nuevas": 79,
         "dosis_total_diff": 128675,
         "primera_dosis_diff": 42303,
         "segunda_dosis_diff": 65797,
         "refuerzo_diff": 20575,
         "(MSP) UCI Porcentaje Ocupadas": 50,
         "(RPIS) UCI Porcentaje Ocupadas": 67,
         "(RPC) UCI Porcentaje Ocupadas": 22,
         "_deepnote_index_column": 144
        },
        {
         "nuevas": 453,
         "dosis_total_diff": 140556,
         "primera_dosis_diff": 49900,
         "segunda_dosis_diff": 71603,
         "refuerzo_diff": 19053,
         "(MSP) UCI Porcentaje Ocupadas": 47,
         "(RPIS) UCI Porcentaje Ocupadas": 67,
         "(RPC) UCI Porcentaje Ocupadas": 20,
         "_deepnote_index_column": 145
        },
        {
         "nuevas": 513,
         "dosis_total_diff": 154982,
         "primera_dosis_diff": 51464,
         "segunda_dosis_diff": 87427,
         "refuerzo_diff": 16091,
         "(MSP) UCI Porcentaje Ocupadas": 50,
         "(RPIS) UCI Porcentaje Ocupadas": 67,
         "(RPC) UCI Porcentaje Ocupadas": 20,
         "_deepnote_index_column": 146
        },
        {
         "nuevas": 432,
         "dosis_total_diff": 150409,
         "primera_dosis_diff": 49218,
         "segunda_dosis_diff": 86288,
         "refuerzo_diff": 14903,
         "(MSP) UCI Porcentaje Ocupadas": 55,
         "(RPIS) UCI Porcentaje Ocupadas": 65,
         "(RPC) UCI Porcentaje Ocupadas": 21,
         "_deepnote_index_column": 147
        },
        {
         "nuevas": 307,
         "dosis_total_diff": 147245,
         "primera_dosis_diff": 44428,
         "segunda_dosis_diff": 85040,
         "refuerzo_diff": 17777,
         "(MSP) UCI Porcentaje Ocupadas": 55,
         "(RPIS) UCI Porcentaje Ocupadas": 66,
         "(RPC) UCI Porcentaje Ocupadas": 19,
         "_deepnote_index_column": 148
        },
        {
         "nuevas": 478,
         "dosis_total_diff": 40754,
         "primera_dosis_diff": 15885,
         "segunda_dosis_diff": 16637,
         "refuerzo_diff": 8232,
         "(MSP) UCI Porcentaje Ocupadas": 54,
         "(RPIS) UCI Porcentaje Ocupadas": 67,
         "(RPC) UCI Porcentaje Ocupadas": 18,
         "_deepnote_index_column": 149
        },
        {
         "nuevas": 185,
         "dosis_total_diff": 20929,
         "primera_dosis_diff": 7217,
         "segunda_dosis_diff": 8983,
         "refuerzo_diff": 4729,
         "(MSP) UCI Porcentaje Ocupadas": 47,
         "(RPIS) UCI Porcentaje Ocupadas": 66,
         "(RPC) UCI Porcentaje Ocupadas": 18,
         "_deepnote_index_column": 150
        },
        {
         "nuevas": 70,
         "dosis_total_diff": 112959,
         "primera_dosis_diff": 30081,
         "segunda_dosis_diff": 60501,
         "refuerzo_diff": 22377,
         "(MSP) UCI Porcentaje Ocupadas": 51,
         "(RPIS) UCI Porcentaje Ocupadas": 57,
         "(RPC) UCI Porcentaje Ocupadas": 19,
         "_deepnote_index_column": 151
        },
        {
         "nuevas": 463,
         "dosis_total_diff": 113323,
         "primera_dosis_diff": 36006,
         "segunda_dosis_diff": 55159,
         "refuerzo_diff": 22158,
         "(MSP) UCI Porcentaje Ocupadas": 56,
         "(RPIS) UCI Porcentaje Ocupadas": 72,
         "(RPC) UCI Porcentaje Ocupadas": 21,
         "_deepnote_index_column": 152
        },
        {
         "nuevas": 355,
         "dosis_total_diff": 211563,
         "primera_dosis_diff": 69888,
         "segunda_dosis_diff": 111468,
         "refuerzo_diff": 18617,
         "(MSP) UCI Porcentaje Ocupadas": 56,
         "(RPIS) UCI Porcentaje Ocupadas": 69,
         "(RPC) UCI Porcentaje Ocupadas": 19,
         "_deepnote_index_column": 153
        },
        {
         "nuevas": 677,
         "dosis_total_diff": 113909,
         "primera_dosis_diff": 27818,
         "segunda_dosis_diff": 53537,
         "refuerzo_diff": 44144,
         "(MSP) UCI Porcentaje Ocupadas": 55,
         "(RPIS) UCI Porcentaje Ocupadas": 66,
         "(RPC) UCI Porcentaje Ocupadas": 20,
         "_deepnote_index_column": 154
        },
        {
         "nuevas": 677,
         "dosis_total_diff": 0,
         "primera_dosis_diff": 0,
         "segunda_dosis_diff": 0,
         "refuerzo_diff": 0,
         "(MSP) UCI Porcentaje Ocupadas": 55,
         "(RPIS) UCI Porcentaje Ocupadas": 68,
         "(RPC) UCI Porcentaje Ocupadas": 21,
         "_deepnote_index_column": 155
        },
        {
         "nuevas": 677,
         "dosis_total_diff": 0,
         "primera_dosis_diff": 0,
         "segunda_dosis_diff": 0,
         "refuerzo_diff": 0,
         "(MSP) UCI Porcentaje Ocupadas": 52,
         "(RPIS) UCI Porcentaje Ocupadas": 67,
         "(RPC) UCI Porcentaje Ocupadas": 23,
         "_deepnote_index_column": 156
        },
        {
         "nuevas": 677,
         "dosis_total_diff": 0,
         "primera_dosis_diff": 0,
         "segunda_dosis_diff": 0,
         "refuerzo_diff": 0,
         "(MSP) UCI Porcentaje Ocupadas": 50,
         "(RPIS) UCI Porcentaje Ocupadas": 68,
         "(RPC) UCI Porcentaje Ocupadas": 21,
         "_deepnote_index_column": 157
        },
        {
         "nuevas": 677,
         "dosis_total_diff": 0,
         "primera_dosis_diff": 0,
         "segunda_dosis_diff": 0,
         "refuerzo_diff": 0,
         "(MSP) UCI Porcentaje Ocupadas": 55,
         "(RPIS) UCI Porcentaje Ocupadas": 69,
         "(RPC) UCI Porcentaje Ocupadas": 20,
         "_deepnote_index_column": 158
        },
        {
         "nuevas": 677,
         "dosis_total_diff": 0,
         "primera_dosis_diff": 0,
         "segunda_dosis_diff": 0,
         "refuerzo_diff": 0,
         "(MSP) UCI Porcentaje Ocupadas": 61,
         "(RPIS) UCI Porcentaje Ocupadas": 71,
         "(RPC) UCI Porcentaje Ocupadas": 19,
         "_deepnote_index_column": 159
        },
        {
         "nuevas": 677,
         "dosis_total_diff": 0,
         "primera_dosis_diff": 0,
         "segunda_dosis_diff": 0,
         "refuerzo_diff": 0,
         "(MSP) UCI Porcentaje Ocupadas": 55,
         "(RPIS) UCI Porcentaje Ocupadas": 70,
         "(RPC) UCI Porcentaje Ocupadas": 22,
         "_deepnote_index_column": 160
        }
       ]
      },
      "text/plain": "     nuevas  dosis_total_diff  primera_dosis_diff  segunda_dosis_diff  \\\n0    1034.0           79378.0             44241.0             35137.0   \n1    1619.0           44004.0                 0.0             44004.0   \n2     985.0          105820.0             83629.0             22191.0   \n3       0.0           65789.0             43880.0             21909.0   \n4     507.0          129679.0             99222.0             30457.0   \n..      ...               ...                 ...                 ...   \n156   677.0               0.0                 0.0                 0.0   \n157   677.0               0.0                 0.0                 0.0   \n158   677.0               0.0                 0.0                 0.0   \n159   677.0               0.0                 0.0                 0.0   \n160   677.0               0.0                 0.0                 0.0   \n\n     refuerzo_diff  (MSP) UCI Porcentaje Ocupadas  \\\n0              0.0                            0.0   \n1              0.0                            0.0   \n2              0.0                            0.0   \n3              0.0                            0.0   \n4              0.0                            0.0   \n..             ...                            ...   \n156            0.0                           52.0   \n157            0.0                           50.0   \n158            0.0                           55.0   \n159            0.0                           61.0   \n160            0.0                           55.0   \n\n     (RPIS) UCI Porcentaje Ocupadas  (RPC) UCI Porcentaje Ocupadas  \n0                               0.0                            0.0  \n1                               0.0                            0.0  \n2                               0.0                            0.0  \n3                               0.0                            0.0  \n4                               0.0                            0.0  \n..                              ...                            ...  \n156                            67.0                           23.0  \n157                            68.0                           21.0  \n158                            69.0                           20.0  \n159                            71.0                           19.0  \n160                            70.0                           22.0  \n\n[161 rows x 8 columns]",
      "text/html": "<div>\n<style scoped>\n    .dataframe tbody tr th:only-of-type {\n        vertical-align: middle;\n    }\n\n    .dataframe tbody tr th {\n        vertical-align: top;\n    }\n\n    .dataframe thead th {\n        text-align: right;\n    }\n</style>\n<table border=\"1\" class=\"dataframe\">\n  <thead>\n    <tr style=\"text-align: right;\">\n      <th></th>\n      <th>nuevas</th>\n      <th>dosis_total_diff</th>\n      <th>primera_dosis_diff</th>\n      <th>segunda_dosis_diff</th>\n      <th>refuerzo_diff</th>\n      <th>(MSP) UCI Porcentaje Ocupadas</th>\n      <th>(RPIS) UCI Porcentaje Ocupadas</th>\n      <th>(RPC) UCI Porcentaje Ocupadas</th>\n    </tr>\n  </thead>\n  <tbody>\n    <tr>\n      <th>0</th>\n      <td>1034.0</td>\n      <td>79378.0</td>\n      <td>44241.0</td>\n      <td>35137.0</td>\n      <td>0.0</td>\n      <td>0.0</td>\n      <td>0.0</td>\n      <td>0.0</td>\n    </tr>\n    <tr>\n      <th>1</th>\n      <td>1619.0</td>\n      <td>44004.0</td>\n      <td>0.0</td>\n      <td>44004.0</td>\n      <td>0.0</td>\n      <td>0.0</td>\n      <td>0.0</td>\n      <td>0.0</td>\n    </tr>\n    <tr>\n      <th>2</th>\n      <td>985.0</td>\n      <td>105820.0</td>\n      <td>83629.0</td>\n      <td>22191.0</td>\n      <td>0.0</td>\n      <td>0.0</td>\n      <td>0.0</td>\n      <td>0.0</td>\n    </tr>\n    <tr>\n      <th>3</th>\n      <td>0.0</td>\n      <td>65789.0</td>\n      <td>43880.0</td>\n      <td>21909.0</td>\n      <td>0.0</td>\n      <td>0.0</td>\n      <td>0.0</td>\n      <td>0.0</td>\n    </tr>\n    <tr>\n      <th>4</th>\n      <td>507.0</td>\n      <td>129679.0</td>\n      <td>99222.0</td>\n      <td>30457.0</td>\n      <td>0.0</td>\n      <td>0.0</td>\n      <td>0.0</td>\n      <td>0.0</td>\n    </tr>\n    <tr>\n      <th>...</th>\n      <td>...</td>\n      <td>...</td>\n      <td>...</td>\n      <td>...</td>\n      <td>...</td>\n      <td>...</td>\n      <td>...</td>\n      <td>...</td>\n    </tr>\n    <tr>\n      <th>156</th>\n      <td>677.0</td>\n      <td>0.0</td>\n      <td>0.0</td>\n      <td>0.0</td>\n      <td>0.0</td>\n      <td>52.0</td>\n      <td>67.0</td>\n      <td>23.0</td>\n    </tr>\n    <tr>\n      <th>157</th>\n      <td>677.0</td>\n      <td>0.0</td>\n      <td>0.0</td>\n      <td>0.0</td>\n      <td>0.0</td>\n      <td>50.0</td>\n      <td>68.0</td>\n      <td>21.0</td>\n    </tr>\n    <tr>\n      <th>158</th>\n      <td>677.0</td>\n      <td>0.0</td>\n      <td>0.0</td>\n      <td>0.0</td>\n      <td>0.0</td>\n      <td>55.0</td>\n      <td>69.0</td>\n      <td>20.0</td>\n    </tr>\n    <tr>\n      <th>159</th>\n      <td>677.0</td>\n      <td>0.0</td>\n      <td>0.0</td>\n      <td>0.0</td>\n      <td>0.0</td>\n      <td>61.0</td>\n      <td>71.0</td>\n      <td>19.0</td>\n    </tr>\n    <tr>\n      <th>160</th>\n      <td>677.0</td>\n      <td>0.0</td>\n      <td>0.0</td>\n      <td>0.0</td>\n      <td>0.0</td>\n      <td>55.0</td>\n      <td>70.0</td>\n      <td>22.0</td>\n    </tr>\n  </tbody>\n</table>\n<p>161 rows × 8 columns</p>\n</div>"
     },
     "metadata": {}
    }
   ]
  },
  {
   "cell_type": "code",
   "metadata": {
    "tags": [],
    "cell_id": "00027-ee420c1e-d942-4381-9d4f-ef681b4cb1b0",
    "deepnote_to_be_reexecuted": false,
    "source_hash": "12e68313",
    "execution_start": 1639590590582,
    "deepnote_output_heights": [
     21.1875,
     611
    ],
    "execution_millis": 17167,
    "deepnote_cell_type": "code"
   },
   "source": "sns.pairplot(df_icu_unified, diag_kind='kde')",
   "execution_count": null,
   "outputs": [
    {
     "output_type": "execute_result",
     "execution_count": 89,
     "data": {
      "text/plain": "<seaborn.axisgrid.PairGrid at 0x7f904d9be090>"
     },
     "metadata": {}
    },
    {
     "data": {
      "text/plain": "<Figure size 1440x1440 with 72 Axes>",
      "image/png": "[encoded data removed]"
     },
     "metadata": {
      "image/png": {
       "width": 1431,
       "height": 1413
      }
     },
     "output_type": "display_data"
    }
   ]
  },
  {
   "cell_type": "code",
   "metadata": {
    "tags": [],
    "cell_id": "00029-92523646-cb50-4a9a-833a-ace6b981edab",
    "deepnote_to_be_reexecuted": false,
    "source_hash": "148ca23d",
    "execution_start": 1639590793777,
    "execution_millis": 1995,
    "deepnote_output_heights": [
     21.1875,
     423
    ],
    "deepnote_cell_type": "code"
   },
   "source": "sns.heatmap(df_icu_unified.corr(), annot=True)",
   "execution_count": null,
   "outputs": [
    {
     "output_type": "execute_result",
     "execution_count": 90,
     "data": {
      "text/plain": "<AxesSubplot:>"
     },
     "metadata": {}
    },
    {
     "data": {
      "text/plain": "<Figure size 432x288 with 2 Axes>",
      "image/png": "[encoded data removed]"
     },
     "metadata": {
      "image/png": {
       "width": 531,
       "height": 421
      }
     },
     "output_type": "display_data"
    }
   ]
  },
  {
   "cell_type": "markdown",
   "source": "<a style='text-decoration:none;line-height:16px;display:flex;color:#5B5B62;padding:10px;justify-content:end;' href='https://deepnote.com?utm_source=created-in-deepnote-cell&projectId=298bb443-d8b3-4731-ae95-ca4418ea078f' target=\"_blank\">\n<img alt='Created in deepnote.com' style='display:inline;max-height:16px;margin:0px;margin-right:7.5px;' src='data:image/svg+xml;base64,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' > </img>\nCreated in <span style='font-weight:600;margin-left:4px;'>Deepnote</span></a>",
   "metadata": {
    "tags": [],
    "created_in_deepnote_cell": true,
    "deepnote_cell_type": "markdown"
   }
  }
 ],
 "nbformat": 4,
 "nbformat_minor": 2,
 "metadata": {
  "orig_nbformat": 2,
  "deepnote": {
   "is_reactive": false
  },
  "deepnote_notebook_id": "a90a3780-c67a-4ed3-a57e-611508b79e95",
  "deepnote_execution_queue": []
 }
}